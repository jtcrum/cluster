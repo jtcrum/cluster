{
 "cells": [
  {
   "cell_type": "markdown",
   "metadata": {},
   "source": [
    "### Before start, please replace every folder path"
   ]
  },
  {
   "cell_type": "code",
   "execution_count": 1,
   "metadata": {
    "collapsed": true
   },
   "outputs": [],
   "source": [
    "import pandas as pd\n",
    "import numpy as np\n",
    "import copy\n",
    "from math import *\n",
    "import os\n",
    "import random\n",
    "from collections import defaultdict\n",
    "import csv\n",
    "from functools import reduce\n",
    "from copy import deepcopy\n",
    "import pickle\n",
    "from timeit import default_timer as timer\n",
    "from matplotlib import pyplot as plt\n",
    "from ase import Atoms\n",
    "from ase.io import read\n",
    "from ase.io import write\n",
    "from ase.visualize import view\n",
    "import itertools\n",
    "\n",
    "%matplotlib inline"
   ]
  },
  {
   "cell_type": "code",
   "execution_count": 2,
   "metadata": {
    "collapsed": true
   },
   "outputs": [],
   "source": [
    "pd.set_option('display.max_columns', 500)"
   ]
  },
  {
   "cell_type": "code",
   "execution_count": 3,
   "metadata": {
    "collapsed": true
   },
   "outputs": [],
   "source": [
    "folder_path = 'CHA'"
   ]
  },
  {
   "cell_type": "code",
   "execution_count": 4,
   "metadata": {
    "collapsed": true
   },
   "outputs": [],
   "source": [
    "%run helper_functions.py"
   ]
  },
  {
   "cell_type": "markdown",
   "metadata": {},
   "source": [
    "#### Read lat.in"
   ]
  },
  {
   "cell_type": "code",
   "execution_count": 5,
   "metadata": {
    "collapsed": true
   },
   "outputs": [],
   "source": [
    "filepath=folder_path+'/lat.in'\n",
    "lattice = read_lat_in(filepath)"
   ]
  },
  {
   "cell_type": "code",
   "execution_count": 6,
   "metadata": {},
   "outputs": [
    {
     "data": {
      "text/plain": [
       "dict_keys(['a', 'b', 'c', 'alpha', 'beta', 'gamma', 'u', 'v', 'w', 'sites'])"
      ]
     },
     "execution_count": 6,
     "metadata": {},
     "output_type": "execute_result"
    }
   ],
   "source": [
    "lattice.keys()"
   ]
  },
  {
   "cell_type": "markdown",
   "metadata": {},
   "source": [
    "#### Run corrdump, generate clusters.out"
   ]
  },
  {
   "cell_type": "code",
   "execution_count": 11,
   "metadata": {},
   "outputs": [
    {
     "name": "stdout",
     "output_type": "stream",
     "text": [
      "Warning: unit cell is not primitive.\n",
      "Unable to open structure file\n"
     ]
    }
   ],
   "source": [
    "#need to change path before running the following command\n",
    "!corrdump -l=CHA/lat.in -cf=CHA/clusters.out -2=7 -3=7"
   ]
  },
  {
   "cell_type": "markdown",
   "metadata": {},
   "source": [
    "#### Read clusters.out"
   ]
  },
  {
   "cell_type": "code",
   "execution_count": 12,
   "metadata": {
    "collapsed": true
   },
   "outputs": [],
   "source": [
    "filepath = folder_path+'/clusters.out'\n",
    "cluster_out_lines = read_clusters_out(filepath)"
   ]
  },
  {
   "cell_type": "code",
   "execution_count": 13,
   "metadata": {
    "collapsed": true
   },
   "outputs": [],
   "source": [
    "lat_clusters = break_down_cluster_out_lines(cluster_out_lines, lattice)"
   ]
  },
  {
   "cell_type": "code",
   "execution_count": 14,
   "metadata": {
    "scrolled": true
   },
   "outputs": [
    {
     "data": {
      "text/plain": [
       "dict_keys(['type_number', '0-1', 'num_max_site', '1-1', '2-1', '2-2', '2-3', '2-4', '2-5', '2-6', '2-7', '2-8', '2-9', '2-10', '2-11', '2-12', '2-13', '2-14', '3-1', '3-2', '3-3', '3-4', '3-5', '3-6', '3-7', '3-8', '3-9', '3-10', '3-11', '3-12', '3-13', '3-14', '3-15', '3-16', '3-17', '3-18', '3-19', '3-20', '3-21', '3-22', '3-23', '3-24', '3-25', '3-26', '3-27', '3-28', '3-29', '3-30', 'vis_range', 'lat_vis_sites', 'cluster_types'])"
      ]
     },
     "execution_count": 14,
     "metadata": {},
     "output_type": "execute_result"
    }
   ],
   "source": [
    "lat_clusters.keys()"
   ]
  },
  {
   "cell_type": "code",
   "execution_count": 15,
   "metadata": {
    "collapsed": true
   },
   "outputs": [],
   "source": [
    "#need to change path before running the following command\n",
    "!mkdir CHA/lattice_clusters\n",
    "!mkdir CHA/lattice_clusters/xyzs\n",
    "!mkdir CHA/lattice_clusters/images"
   ]
  },
  {
   "cell_type": "code",
   "execution_count": 16,
   "metadata": {
    "collapsed": true
   },
   "outputs": [],
   "source": [
    "str_vec = [0 for i in range(len(lat_clusters['lat_vis_sites'].index))]"
   ]
  },
  {
   "cell_type": "code",
   "execution_count": 17,
   "metadata": {
    "collapsed": true
   },
   "outputs": [],
   "source": [
    "visualize_str_no_rep(lat_clusters['lat_vis_sites'], str_vec, folder_path+'/lattice_clusters/xyzs/all_sites.xyz', folder_path+'/lattice_clusters/images/all_sites.png')\n",
    "#visualize_str_no_rep(lat_clusters['lat_vis_sites'], str_vec, folder_path+'/lattice_clusters/xyzs/all_sites.xyz', folder_path+'/lattice_clusters/images/all_sites.png')\n",
    "#c= read(folder_path+'/lattice_clusters/xyzs/all_sites.xyz')\n",
    "#view(c)"
   ]
  },
  {
   "cell_type": "code",
   "execution_count": 18,
   "metadata": {
    "collapsed": true
   },
   "outputs": [],
   "source": [
    "#visualize all n-body clusters\n",
    "nsite = 3\n",
    "for i in range(1, int(lat_clusters['type_number'][nsite])+1):\n",
    "    #print(i)\n",
    "    str_vec = [0 for i in range(len(lat_clusters['lat_vis_sites'].index))]\n",
    "    sites = lat_clusters['{}-{}'.format(nsite, i)]['eg_pair_frac']\n",
    "    for site in sites:\n",
    "        #print(site)\n",
    "        index = find_df_index_frac(site, lat_clusters['lat_vis_sites'])\n",
    "        str_vec[index] = 1\n",
    "    xyz_filepath = folder_path+'/lattice_clusters/xyzs/cluster-{}-{}.xyz'.format(nsite, i)\n",
    "    png_filepath = folder_path+'/lattice_clusters/images/cluster-{}-{}.png'.format(nsite, i)\n",
    "    visualize_str_no_rep(lat_clusters['lat_vis_sites'], str_vec, xyz_filepath, png_filepath)"
   ]
  },
  {
   "cell_type": "code",
   "execution_count": 58,
   "metadata": {
    "collapsed": true
   },
   "outputs": [],
   "source": [
    "c= read(folder_path+'/lattice_clusters/xyzs/cluster-3-6.xyz')\n",
    "view(c)"
   ]
  },
  {
   "cell_type": "markdown",
   "metadata": {},
   "source": [
    "#### read str_dim.txt"
   ]
  },
  {
   "cell_type": "code",
   "execution_count": 19,
   "metadata": {
    "collapsed": true
   },
   "outputs": [],
   "source": [
    "%run helper_functions.py"
   ]
  },
  {
   "cell_type": "code",
   "execution_count": 20,
   "metadata": {
    "collapsed": true
   },
   "outputs": [],
   "source": [
    "filepath = folder_path+'/str_dim.txt'\n",
    "structure = read_str_dim(filepath, lattice)"
   ]
  },
  {
   "cell_type": "code",
   "execution_count": 21,
   "metadata": {},
   "outputs": [
    {
     "data": {
      "text/plain": [
       "dict_keys(['lattice_a', 'lattice_b', 'lattice_c', 'lattice_alpha', 'lattice_beta', 'lattice_gamma', 'lattice_u', 'lattice_v', 'lattice_w', 'u', 'v', 'w', 'u_mult', 'v_mult', 'w_mult', 'ncell', 'str_sites'])"
      ]
     },
     "execution_count": 21,
     "metadata": {},
     "output_type": "execute_result"
    }
   ],
   "source": [
    "structure.keys()"
   ]
  },
  {
   "cell_type": "code",
   "execution_count": 22,
   "metadata": {
    "collapsed": true
   },
   "outputs": [],
   "source": [
    "filepath = folder_path+'/str.out'\n",
    "prepare_str_out(structure, filepath)"
   ]
  },
  {
   "cell_type": "code",
   "execution_count": 34,
   "metadata": {},
   "outputs": [
    {
     "name": "stdout",
     "output_type": "stream",
     "text": [
      "Warning: unit cell is not primitive.\r\n"
     ]
    }
   ],
   "source": [
    "#need to change path before running the following command\n",
    "if os.path.isfile('CHA/cluster_list.csv'):\n",
    "    os.remove('CHA/cluster_list.csv')\n",
    "    \n",
    "!corrdump -l=CHA/lat.in -s=CHA/str.out -cf=CHA/clusters.out -2=7 -3=7 >> CHA/cluster_list.csv"
   ]
  },
  {
   "cell_type": "markdown",
   "metadata": {},
   "source": [
    "#### read cluster list"
   ]
  },
  {
   "cell_type": "code",
   "execution_count": 35,
   "metadata": {
    "collapsed": true
   },
   "outputs": [],
   "source": [
    "%run helper_functions.py"
   ]
  },
  {
   "cell_type": "code",
   "execution_count": 36,
   "metadata": {
    "collapsed": true
   },
   "outputs": [],
   "source": [
    "filepath = folder_path+'/cluster_list.csv'\n",
    "str_clusters = read_cluster_list(filepath, structure, lat_clusters)"
   ]
  },
  {
   "cell_type": "code",
   "execution_count": 37,
   "metadata": {
    "collapsed": true
   },
   "outputs": [],
   "source": [
    "break_down_cluster_list(str_clusters, structure)"
   ]
  },
  {
   "cell_type": "code",
   "execution_count": 38,
   "metadata": {},
   "outputs": [
    {
     "name": "stdout",
     "output_type": "stream",
     "text": [
      "mkdir: CHA/structure_clusters_rep: File exists\n",
      "mkdir: CHA/structure_clusters_rep/xyzs: File exists\n",
      "mkdir: CHA/structure_clusters_rep/images: File exists\n"
     ]
    }
   ],
   "source": [
    "#need to change path before running the following command\n",
    "!mkdir CHA/structure_clusters_rep\n",
    "!mkdir CHA/structure_clusters_rep/xyzs\n",
    "!mkdir CHA/structure_clusters_rep/images"
   ]
  },
  {
   "cell_type": "code",
   "execution_count": 39,
   "metadata": {},
   "outputs": [
    {
     "name": "stdout",
     "output_type": "stream",
     "text": [
      "mkdir: CHA/structure_clusters_no_rep: File exists\n",
      "mkdir: CHA/structure_clusters_no_rep/xyzs: File exists\n",
      "mkdir: CHA/structure_clusters_no_rep/images: File exists\n"
     ]
    }
   ],
   "source": [
    "#need to change path before running the following command\n",
    "!mkdir CHA/structure_clusters_no_rep\n",
    "!mkdir CHA/structure_clusters_no_rep/xyzs\n",
    "!mkdir CHA/structure_clusters_no_rep/images"
   ]
  },
  {
   "cell_type": "code",
   "execution_count": 40,
   "metadata": {
    "collapsed": true
   },
   "outputs": [],
   "source": [
    "#visualize_structure_all_clusters(str_clusters, structure, folder_path, rep='y')"
   ]
  },
  {
   "cell_type": "markdown",
   "metadata": {},
   "source": [
    "#### pair sites for structure sites"
   ]
  },
  {
   "cell_type": "code",
   "execution_count": 41,
   "metadata": {
    "collapsed": true
   },
   "outputs": [],
   "source": [
    "%run helper_functions.py"
   ]
  },
  {
   "cell_type": "code",
   "execution_count": 42,
   "metadata": {},
   "outputs": [
    {
     "data": {
      "text/plain": [
       "dict_keys(['cluster_orig_list', 'type_number', 'cluster_types', '1-1', '2-1', '2-2', '2-3', '2-4', '2-5', '2-6', '2-7', '2-8', '2-9', '2-10', '2-11', '2-12', '2-13', '2-14', '3-1', '3-2', '3-3', '3-4', '3-5', '3-6', '3-7', '3-8', '3-9', '3-10', '3-11', '3-12', '3-13', '3-14', '3-15', '3-16', '3-17', '3-18', '3-19', '3-20', '3-21', '3-22', '3-23', '3-24', '3-25', '3-26', '3-27', '3-28', '3-29', '3-30', 'mult_vis_range', 'str_vis_sites'])"
      ]
     },
     "execution_count": 42,
     "metadata": {},
     "output_type": "execute_result"
    }
   ],
   "source": [
    "str_clusters.keys()"
   ]
  },
  {
   "cell_type": "code",
   "execution_count": 43,
   "metadata": {
    "collapsed": true
   },
   "outputs": [],
   "source": [
    "add_cluster_list_site_index(str_clusters,structure)"
   ]
  },
  {
   "cell_type": "code",
   "execution_count": 44,
   "metadata": {
    "collapsed": true
   },
   "outputs": [],
   "source": [
    "add_pair_sites(structure, str_clusters)"
   ]
  },
  {
   "cell_type": "code",
   "execution_count": 47,
   "metadata": {},
   "outputs": [
    {
     "data": {
      "text/plain": [
       "Index(['a', 'b', 'c', 'atom', 'multi_atoms', 'site_index', 'x', 'y', 'z',\n",
       "       '1-1', '2-1', '2-2', '2-3', '2-4', '2-5', '2-6', '2-7', '2-8', '2-9',\n",
       "       '2-10', '2-11', '2-12', '2-13', '2-14', '3-1', '3-2', '3-3', '3-4',\n",
       "       '3-5', '3-6', '3-7', '3-8', '3-9', '3-10', '3-11', '3-12', '3-13',\n",
       "       '3-14', '3-15', '3-16', '3-17', '3-18', '3-19', '3-20', '3-21', '3-22',\n",
       "       '3-23', '3-24', '3-25', '3-26', '3-27', '3-28', '3-29', '3-30'],\n",
       "      dtype='object')"
      ]
     },
     "execution_count": 47,
     "metadata": {},
     "output_type": "execute_result"
    }
   ],
   "source": [
    "structure['str_sites'].columns"
   ]
  },
  {
   "cell_type": "markdown",
   "metadata": {},
   "source": [
    "#### count clusters for a given configuration"
   ]
  },
  {
   "cell_type": "code",
   "execution_count": 48,
   "metadata": {
    "collapsed": true
   },
   "outputs": [],
   "source": [
    "%run helper_functions.py"
   ]
  },
  {
   "cell_type": "code",
   "execution_count": 49,
   "metadata": {
    "collapsed": true
   },
   "outputs": [],
   "source": [
    "str_vec = [1 for i in range(len(structure['str_sites'].index))]"
   ]
  },
  {
   "cell_type": "code",
   "execution_count": 50,
   "metadata": {
    "collapsed": true
   },
   "outputs": [],
   "source": [
    "counting_types = []"
   ]
  },
  {
   "cell_type": "code",
   "execution_count": 51,
   "metadata": {},
   "outputs": [
    {
     "data": {
      "text/plain": [
       "defaultdict(int,\n",
       "            {'1-1': 972,\n",
       "             '2-1': 486,\n",
       "             '2-10': 486,\n",
       "             '2-11': 486,\n",
       "             '2-12': 486,\n",
       "             '2-13': 972,\n",
       "             '2-14': 486,\n",
       "             '2-2': 486,\n",
       "             '2-3': 486,\n",
       "             '2-4': 486,\n",
       "             '2-5': 972,\n",
       "             '2-6': 486,\n",
       "             '2-7': 972,\n",
       "             '2-8': 972,\n",
       "             '2-9': 972,\n",
       "             '3-1': 972,\n",
       "             '3-10': 972,\n",
       "             '3-11': 972,\n",
       "             '3-12': 972,\n",
       "             '3-13': 972,\n",
       "             '3-14': 972,\n",
       "             '3-15': 972,\n",
       "             '3-16': 972,\n",
       "             '3-17': 972,\n",
       "             '3-18': 972,\n",
       "             '3-19': 972,\n",
       "             '3-2': 972,\n",
       "             '3-20': 972,\n",
       "             '3-21': 972,\n",
       "             '3-22': 972,\n",
       "             '3-23': 972,\n",
       "             '3-24': 972,\n",
       "             '3-25': 972,\n",
       "             '3-26': 972,\n",
       "             '3-27': 972,\n",
       "             '3-28': 972,\n",
       "             '3-29': 972,\n",
       "             '3-3': 972,\n",
       "             '3-30': 972,\n",
       "             '3-4': 972,\n",
       "             '3-5': 972,\n",
       "             '3-6': 324,\n",
       "             '3-7': 972,\n",
       "             '3-8': 972,\n",
       "             '3-9': 972})"
      ]
     },
     "execution_count": 51,
     "metadata": {},
     "output_type": "execute_result"
    }
   ],
   "source": [
    "count_clusters_str_config(str_vec, structure, str_clusters, counting_types)"
   ]
  },
  {
   "cell_type": "code",
   "execution_count": 60,
   "metadata": {},
   "outputs": [
    {
     "data": {
      "text/plain": [
       "defaultdict(int, {'2-11': 486, '2-7': 0})"
      ]
     },
     "execution_count": 60,
     "metadata": {},
     "output_type": "execute_result"
    }
   ],
   "source": [
    "count_clusters_str_config(str_vec, structure, str_clusters, counting_types=['2-7','2-11'], excluding_types=['3-6'])"
   ]
  },
  {
   "cell_type": "code",
   "execution_count": 61,
   "metadata": {},
   "outputs": [
    {
     "name": "stdout",
     "output_type": "stream",
     "text": [
      "3-1: 4.38555\n",
      "3-2: 4.38555\n",
      "3-3: 4.38694\n",
      "3-4: 5.36602\n",
      "3-5: 5.36602\n",
      "3-6: 5.36602\n",
      "3-7: 5.53411\n",
      "3-8: 5.53411\n",
      "3-9: 5.73597\n",
      "3-10: 5.73597\n",
      "3-11: 5.73597\n",
      "3-12: 6.19605\n",
      "3-13: 6.19605\n",
      "3-14: 6.19605\n",
      "3-15: 6.19614\n"
     ]
    }
   ],
   "source": [
    "for i in range(15):\n",
    "    print('3-{}:'.format(i+1),lat_clusters['3-{}'.format(i+1)]['max_d'])"
   ]
  },
  {
   "cell_type": "markdown",
   "metadata": {},
   "source": [
    "#### random generate one structure configuration"
   ]
  },
  {
   "cell_type": "code",
   "execution_count": 144,
   "metadata": {
    "collapsed": true
   },
   "outputs": [],
   "source": [
    "%run helper_functions.py"
   ]
  },
  {
   "cell_type": "code",
   "execution_count": 63,
   "metadata": {
    "collapsed": true
   },
   "outputs": [],
   "source": [
    "#need to change path before running the following command\n",
    "!mkdir CHA/random_config_process\n",
    "!mkdir CHA/random_config_process/xyzs\n",
    "!mkdir CHA/random_config_process/images"
   ]
  },
  {
   "cell_type": "code",
   "execution_count": 64,
   "metadata": {},
   "outputs": [
    {
     "data": {
      "text/plain": [
       "1944"
      ]
     },
     "execution_count": 64,
     "metadata": {},
     "output_type": "execute_result"
    }
   ],
   "source": [
    "penalty = {'2-1':1, '2-2':1, '2-3':1,'2-4':1}\n",
    "\n",
    "str_vec = [1 for i in range(len(structure['str_sites'].index))]\n",
    "cal_penalty(str_vec, structure, str_clusters, penalty)"
   ]
  },
  {
   "cell_type": "code",
   "execution_count": 141,
   "metadata": {},
   "outputs": [],
   "source": [
    "str_vec = random_config_hybrid(structure, str_clusters, 100, penalty, vis=0, folder_path='', max_try = 100)"
   ]
  },
  {
   "cell_type": "code",
   "execution_count": 147,
   "metadata": {},
   "outputs": [],
   "source": [
    "str_vec = random_config_swap(structure, str_clusters, 100, penalty, vis=0, folder_path='', max_try = 100)"
   ]
  },
  {
   "cell_type": "markdown",
   "metadata": {},
   "source": [
    "#### titrate clusters for one structure configuration"
   ]
  },
  {
   "cell_type": "code",
   "execution_count": 149,
   "metadata": {
    "collapsed": true
   },
   "outputs": [],
   "source": [
    "%run helper_functions.py"
   ]
  },
  {
   "cell_type": "code",
   "execution_count": 150,
   "metadata": {
    "collapsed": true
   },
   "outputs": [],
   "source": [
    "cluster_type_dict = prepare_cluster_type_dict(str_clusters)"
   ]
  },
  {
   "cell_type": "code",
   "execution_count": 151,
   "metadata": {},
   "outputs": [
    {
     "data": {
      "text/plain": [
       "{'2-1': 1, '2-2': 1, '2-3': 1, '2-4': 1}"
      ]
     },
     "execution_count": 151,
     "metadata": {},
     "output_type": "execute_result"
    }
   ],
   "source": [
    "penalty"
   ]
  },
  {
   "cell_type": "code",
   "execution_count": 159,
   "metadata": {},
   "outputs": [],
   "source": [
    "str_vec = random_config_hybrid(structure, str_clusters, 340, penalty, max_try = 100)"
   ]
  },
  {
   "cell_type": "code",
   "execution_count": 160,
   "metadata": {},
   "outputs": [
    {
     "data": {
      "text/plain": [
       "340"
      ]
     },
     "execution_count": 160,
     "metadata": {},
     "output_type": "execute_result"
    }
   ],
   "source": [
    "np.sum(str_vec)"
   ]
  },
  {
   "cell_type": "code",
   "execution_count": 161,
   "metadata": {},
   "outputs": [
    {
     "data": {
      "text/plain": [
       "0"
      ]
     },
     "execution_count": 161,
     "metadata": {},
     "output_type": "execute_result"
    }
   ],
   "source": [
    "cal_penalty(str_vec,structure, str_clusters, penalty)"
   ]
  },
  {
   "cell_type": "code",
   "execution_count": 162,
   "metadata": {
    "collapsed": true
   },
   "outputs": [],
   "source": [
    "d1 = titrate_config_one_group(str_vec, structure, str_clusters, cluster_type_dict, counting_types=['2-7','2-11'],excluding_types=['3-6'])"
   ]
  },
  {
   "cell_type": "code",
   "execution_count": 163,
   "metadata": {
    "collapsed": true
   },
   "outputs": [],
   "source": [
    "d2 = titrate_config_multi_groups(str_vec, structure, str_clusters, cluster_type_dict, counting_groups=[['2-7','2-11']], excluding_types=['3-6'], repeat_num = 10)"
   ]
  },
  {
   "cell_type": "code",
   "execution_count": 164,
   "metadata": {},
   "outputs": [
    {
     "data": {
      "text/plain": [
       "[60, 60, 60, 60, 60, 60, 60, 60, 60, 60]"
      ]
     },
     "execution_count": 164,
     "metadata": {},
     "output_type": "execute_result"
    }
   ],
   "source": [
    "d2['2-7']"
   ]
  },
  {
   "cell_type": "code",
   "execution_count": 165,
   "metadata": {},
   "outputs": [
    {
     "data": {
      "text/plain": [
       "[47, 47, 47, 47, 47, 47, 47, 47, 47, 47]"
      ]
     },
     "execution_count": 165,
     "metadata": {},
     "output_type": "execute_result"
    }
   ],
   "source": [
    "d2['2-11']"
   ]
  },
  {
   "cell_type": "markdown",
   "metadata": {},
   "source": [
    "#### generate multiple random structure configurations for one compositions"
   ]
  },
  {
   "cell_type": "code",
   "execution_count": 166,
   "metadata": {},
   "outputs": [
    {
     "name": "stdout",
     "output_type": "stream",
     "text": [
      "mkdir: CHA/random_configs: File exists\n",
      "mkdir: CHA/random_configs/xyzs: File exists\n",
      "mkdir: CHA/random_configs/images: File exists\n"
     ]
    }
   ],
   "source": [
    "#need to change path before running the following command\n",
    "!mkdir CHA/random_configs\n",
    "!mkdir CHA/random_configs/xyzs\n",
    "!mkdir CHA/random_configs/images"
   ]
  },
  {
   "cell_type": "code",
   "execution_count": 167,
   "metadata": {
    "collapsed": true
   },
   "outputs": [],
   "source": [
    "%run helper_functions.py"
   ]
  },
  {
   "cell_type": "code",
   "execution_count": 186,
   "metadata": {
    "collapsed": true
   },
   "outputs": [],
   "source": [
    "str_vecs = random_config_mult(structure, str_clusters, 250, penalty, 10, vis=1, folder_path=folder_path, max_try = 100)"
   ]
  },
  {
   "cell_type": "code",
   "execution_count": null,
   "metadata": {
    "collapsed": true
   },
   "outputs": [],
   "source": [
    "c= read(folder_path+'/random_configs/images/config-9.xyz')\n",
    "view(c)"
   ]
  },
  {
   "cell_type": "markdown",
   "metadata": {},
   "source": [
    "## CHA"
   ]
  },
  {
   "cell_type": "markdown",
   "metadata": {},
   "source": [
    "\n",
    "\n",
    "#### count clusters for multiple configurations"
   ]
  },
  {
   "cell_type": "code",
   "execution_count": 169,
   "metadata": {
    "collapsed": true
   },
   "outputs": [],
   "source": [
    "%run helper_functions.py"
   ]
  },
  {
   "cell_type": "code",
   "execution_count": 188,
   "metadata": {
    "collapsed": true
   },
   "outputs": [],
   "source": [
    "count_results = count_clusters_multi_configs(str_vecs, structure, str_clusters, counting_types=['2-7','2-11'],excluding_types=['3-6'])"
   ]
  },
  {
   "cell_type": "markdown",
   "metadata": {},
   "source": [
    "#### titrate clusters for multiple configurations"
   ]
  },
  {
   "cell_type": "code",
   "execution_count": 172,
   "metadata": {
    "collapsed": true
   },
   "outputs": [],
   "source": [
    "%run helper_functions.py"
   ]
  },
  {
   "cell_type": "code",
   "execution_count": 194,
   "metadata": {},
   "outputs": [],
   "source": [
    "titrate_clusters = titrate_clusters_multi_configs(str_vecs, structure, str_clusters, cluster_type_dict, counting_groups=[['2-7', '2-11']], excluding_types=['3-6'], titrate_num=1)"
   ]
  },
  {
   "cell_type": "markdown",
   "metadata": {},
   "source": [
    "#### count for all Al"
   ]
  },
  {
   "cell_type": "code",
   "execution_count": 269,
   "metadata": {},
   "outputs": [],
   "source": [
    "%run helper_functions.py"
   ]
  },
  {
   "cell_type": "code",
   "execution_count": 249,
   "metadata": {},
   "outputs": [],
   "source": [
    "str_vecs = random_config_mult(structure, str_clusters, 972, penalty={}, config_num=1, max_try = 100)"
   ]
  },
  {
   "cell_type": "code",
   "execution_count": null,
   "metadata": {},
   "outputs": [],
   "source": [
    "#count for all Al\n",
    "counting_types = ['2-1', '2-2', '2-3', '2-4', '2-5', '2-6', '2-7', '2-8', '2-9', '2-10', '2-11']\n",
    "\n",
    "all_al_count_result = count_clusters_multi_configs(str_vecs, structure, str_clusters, counting_types=counting_types)\n",
    "values1 = [np.mean(all_al_count_result[t])/972 for t in counting_types]\n",
    "errors1 = [np.std(all_al_count_result[t]) for t in counting_types]"
   ]
  },
  {
   "cell_type": "code",
   "execution_count": 270,
   "metadata": {},
   "outputs": [
    {
     "data": {
      "image/png": "[encoded data removed]",
      "text/plain": [
       "<matplotlib.figure.Figure at 0x119ffb898>"
      ]
     },
     "metadata": {},
     "output_type": "display_data"
    }
   ],
   "source": [
    "plot_one_bar_chart(folder_path+'/all_al_count.png',counting_types, values1, ylabel='count/Al', label='all Al')"
   ]
  },
  {
   "cell_type": "markdown",
   "metadata": {},
   "source": [
    "#### rules(no 1NN) vs no rules"
   ]
  },
  {
   "cell_type": "code",
   "execution_count": 271,
   "metadata": {},
   "outputs": [
    {
     "data": {
      "text/plain": [
       "{'2-1': 1, '2-2': 1, '2-3': 1, '2-4': 1}"
      ]
     },
     "execution_count": 271,
     "metadata": {},
     "output_type": "execute_result"
    }
   ],
   "source": [
    "penalty"
   ]
  },
  {
   "cell_type": "code",
   "execution_count": 274,
   "metadata": {},
   "outputs": [],
   "source": [
    "#str_vecs_no_1NN = random_config_mult(structure, str_clusters, 190, penalty=penalty, config_num=100, max_try = 100)"
   ]
  },
  {
   "cell_type": "code",
   "execution_count": 275,
   "metadata": {
    "collapsed": true
   },
   "outputs": [],
   "source": [
    "#str_vecs_no_rules = random_config_mult(structure, str_clusters, 190, penalty={}, config_num=100, max_try = 100)"
   ]
  },
  {
   "cell_type": "code",
   "execution_count": 276,
   "metadata": {
    "collapsed": true
   },
   "outputs": [],
   "source": [
    "#count_results_no_1NN = count_clusters_multi_configs(str_vecs_no_1NN, structure, str_clusters, counting_types=counting_types)"
   ]
  },
  {
   "cell_type": "code",
   "execution_count": 278,
   "metadata": {},
   "outputs": [],
   "source": [
    "#count_results_no_rules = count_clusters_multi_configs(str_vecs_no_rules, structure, str_clusters, counting_types=counting_types)"
   ]
  },
  {
   "cell_type": "code",
   "execution_count": 286,
   "metadata": {
    "collapsed": true
   },
   "outputs": [],
   "source": [
    "count_results_no_rules_values = [np.mean(count_results_no_rules[t])/190 for t in counting_types]\n",
    "count_results_no_rules_errors = [np.std(count_results_no_rules[t])/190 for t in counting_types]\n",
    "count_results_no_1NN_values = [np.mean(count_results_no_1NN[t])/190 for t in counting_types]\n",
    "count_results_no_1NN_errors = [np.std(count_results_no_1NN[t])/190 for t in counting_types]"
   ]
  },
  {
   "cell_type": "code",
   "execution_count": 287,
   "metadata": {},
   "outputs": [
    {
     "data": {
      "image/png": "[encoded data removed]",
      "text/plain": [
       "<matplotlib.figure.Figure at 0x11dccfef0>"
      ]
     },
     "metadata": {},
     "output_type": "display_data"
    }
   ],
   "source": [
    "plot_two_bar_charts(folder_path+'/rules vs no rules.png', counting_types, values1=count_results_no_rules_values, values2=count_results_no_1NN_values, errors1=count_results_no_rules_errors, errors2=count_results_no_1NN_errors, ylabel='count/Al', label1='no 1NN', label2='no rules')"
   ]
  },
  {
   "cell_type": "markdown",
   "metadata": {},
   "source": [
    "#### count vs titrate"
   ]
  },
  {
   "cell_type": "code",
   "execution_count": 288,
   "metadata": {
    "collapsed": true
   },
   "outputs": [],
   "source": [
    "counting_types = ['2-7', '2-11']"
   ]
  },
  {
   "cell_type": "code",
   "execution_count": null,
   "metadata": {
    "collapsed": true
   },
   "outputs": [],
   "source": [
    "#titrate_result = titrate_clusters_multi_configs(str_vecs_no_rules, structure, str_clusters, cluster_type_dict, counting_groups=[['2-7', '2-11']], titrate_num=100)"
   ]
  },
  {
   "cell_type": "code",
   "execution_count": 295,
   "metadata": {
    "collapsed": true
   },
   "outputs": [],
   "source": [
    "titrate_values = [np.mean(titrate_result[t])/190 for t in counting_types]\n",
    "titrate_errors = [np.std(titrate_result[t])/190 for t in counting_types]"
   ]
  },
  {
   "cell_type": "code",
   "execution_count": 296,
   "metadata": {},
   "outputs": [
    {
     "data": {
      "text/plain": [
       "[0.14235736842105262, 0.06612842105263159]"
      ]
     },
     "execution_count": 296,
     "metadata": {},
     "output_type": "execute_result"
    }
   ],
   "source": [
    "titrate_values"
   ]
  },
  {
   "cell_type": "code",
   "execution_count": 297,
   "metadata": {},
   "outputs": [
    {
     "data": {
      "image/png": "[encoded data removed]",
      "text/plain": [
       "<matplotlib.figure.Figure at 0x11cf15630>"
      ]
     },
     "metadata": {},
     "output_type": "display_data"
    }
   ],
   "source": [
    "plot_two_bar_charts(folder_path+'/count vs titrate.png', counting_types, values1=count_results_no_rules_values, values2=titrate_values, errors1=count_results_no_rules_errors, errors2=titrate_errors, ylabel='count', label1='count', label2='titrate')"
   ]
  },
  {
   "cell_type": "markdown",
   "metadata": {},
   "source": [
    "#### composition"
   ]
  },
  {
   "cell_type": "code",
   "execution_count": 298,
   "metadata": {},
   "outputs": [],
   "source": [
    "Si_Al_ratios = [2.5, 5, 7.5, 10, 15, 20, 25, 30, 35, 40]\n",
    "Al_ratios = [1/(1+x) for x in Si_Al_ratios]\n",
    "Al_nums = [int(Al_ratio*len(structure['str_sites'][structure['str_sites'].multi_atoms == True].index)) for Al_ratio in Al_ratios]"
   ]
  },
  {
   "cell_type": "code",
   "execution_count": 306,
   "metadata": {},
   "outputs": [
    {
     "data": {
      "text/plain": [
       "[277, 162, 114, 88, 60, 46, 37, 31, 27, 23]"
      ]
     },
     "execution_count": 306,
     "metadata": {},
     "output_type": "execute_result"
    }
   ],
   "source": [
    "Al_nums"
   ]
  },
  {
   "cell_type": "code",
   "execution_count": 310,
   "metadata": {},
   "outputs": [],
   "source": [
    "filename = folder_path+'/jobs/titrate_results_{}.p'.format(1)\n",
    "titrate_result = pickle.load(open(filename, 'rb'))"
   ]
  },
  {
   "cell_type": "code",
   "execution_count": 314,
   "metadata": {},
   "outputs": [
    {
     "data": {
      "text/plain": [
       "0.3276173285198556"
      ]
     },
     "execution_count": 314,
     "metadata": {},
     "output_type": "execute_result"
    }
   ],
   "source": [
    "(np.mean(titrate_result['2-7']) + np.mean(titrate_result['2-11']))/277"
   ]
  },
  {
   "cell_type": "code",
   "execution_count": 315,
   "metadata": {},
   "outputs": [],
   "source": [
    "values_new = []\n",
    "errors_new = []\n",
    "for i in range(10):\n",
    "    filename = folder_path+'/jobs/titrate_results_{}.p'.format(i+1)\n",
    "    titrate_result = pickle.load(open(filename, 'rb'))\n",
    "    t = [(titrate_result['2-7'][j] + titrate_result['2-11'][j])/Al_nums[i] for j in range(len(titrate_result['2-7']))]\n",
    "    values_new.append(np.mean(t))\n",
    "    errors_new.append(np.std(t))"
   ]
  },
  {
   "cell_type": "code",
   "execution_count": 316,
   "metadata": {},
   "outputs": [
    {
     "data": {
      "text/plain": [
       "[0.3276173285198556,\n",
       " 0.2312962962962963,\n",
       " 0.16631578947368422,\n",
       " 0.12897727272727275,\n",
       " 0.09600000000000002,\n",
       " 0.07217391304347825,\n",
       " 0.06027027027027028,\n",
       " 0.04580645161290322,\n",
       " 0.03851851851851853,\n",
       " 0.034782608695652174]"
      ]
     },
     "execution_count": 316,
     "metadata": {},
     "output_type": "execute_result"
    }
   ],
   "source": [
    "values_new"
   ]
  },
  {
   "cell_type": "code",
   "execution_count": 317,
   "metadata": {},
   "outputs": [
    {
     "data": {
      "text/plain": [
       "[0.020283379928153118,\n",
       " 0.02243476886070497,\n",
       " 0.025511691717354165,\n",
       " 0.02903292338873004,\n",
       " 0.029918407563089167,\n",
       " 0.033237417136724165,\n",
       " 0.035000782627167694,\n",
       " 0.03231607686804695,\n",
       " 0.03587816603944395,\n",
       " 0.03689252771408075]"
      ]
     },
     "execution_count": 317,
     "metadata": {},
     "output_type": "execute_result"
    }
   ],
   "source": [
    "errors_new"
   ]
  },
  {
   "cell_type": "code",
   "execution_count": null,
   "metadata": {
    "collapsed": true
   },
   "outputs": [],
   "source": [
    "values_Chris = []"
   ]
  },
  {
   "cell_type": "code",
   "execution_count": null,
   "metadata": {
    "collapsed": true
   },
   "outputs": [],
   "source": []
  },
  {
   "cell_type": "code",
   "execution_count": null,
   "metadata": {
    "collapsed": true
   },
   "outputs": [],
   "source": []
  },
  {
   "cell_type": "markdown",
   "metadata": {},
   "source": [
    "#### jobs"
   ]
  },
  {
   "cell_type": "code",
   "execution_count": 197,
   "metadata": {
    "collapsed": true
   },
   "outputs": [],
   "source": [
    "import pickle"
   ]
  },
  {
   "cell_type": "code",
   "execution_count": 222,
   "metadata": {
    "collapsed": true
   },
   "outputs": [],
   "source": [
    "pickle.dump(lattice, open(folder_path+'/jobs/lattice.p','wb'))"
   ]
  },
  {
   "cell_type": "code",
   "execution_count": 223,
   "metadata": {
    "collapsed": true
   },
   "outputs": [],
   "source": [
    "pickle.dump(structure, open(folder_path+'/jobs/structure.p','wb'))"
   ]
  },
  {
   "cell_type": "code",
   "execution_count": 224,
   "metadata": {
    "collapsed": true
   },
   "outputs": [],
   "source": [
    "pickle.dump(lat_clusters, open(folder_path+'/jobs/lat_clusters.p','wb'))\n",
    "pickle.dump(str_clusters, open(folder_path+'/jobs/str_clusters.p','wb'))"
   ]
  },
  {
   "cell_type": "code",
   "execution_count": 219,
   "metadata": {
    "collapsed": true
   },
   "outputs": [],
   "source": [
    "pickle.dump(penalty, open('penalty.p', 'wb'))"
   ]
  },
  {
   "cell_type": "code",
   "execution_count": 238,
   "metadata": {
    "collapsed": true
   },
   "outputs": [],
   "source": [
    "py_template = '''import pandas as pd\n",
    "import numpy as np\n",
    "import copy\n",
    "from math import *\n",
    "import os\n",
    "import random\n",
    "from collections import defaultdict\n",
    "import csv\n",
    "from functools import reduce\n",
    "from copy import deepcopy\n",
    "import pickle\n",
    "from timeit import default_timer as timer\n",
    "from matplotlib import pyplot as plt\n",
    "from ase import Atoms\n",
    "from ase.io import read\n",
    "from ase.io import write\n",
    "from ase.visualize import view\n",
    "import itertools\n",
    "\n",
    "from helper_functions import *\n",
    "\n",
    "lattice = pickle.load(open('lattice.p','rb'))\n",
    "structure = pickle.load(open('structure.p','rb'))\n",
    "lat_clusters = pickle.load(open('lat_clusters.p','rb'))\n",
    "str_clusters = pickle.load(open('str_clusters.p','rb'))\n",
    "penalty = pickle.load(open('penalty.p','rb'))\n",
    "Al_num = {0}\n",
    "cluster_type_dict = prepare_cluster_type_dict(str_clusters)\n",
    "\n",
    "str_vecs = random_config_mult(structure, str_clusters, Al_num, penalty, 100, max_try = 1000)\n",
    "titrate_results = titrate_clusters_multi_configs(str_vecs, structure, str_clusters, cluster_type_dict, counting_groups=[['2-7', '2-11']], excluding_types=['3-6'], titrate_num=1)\n",
    "pickle.dump(dict(titrate_results), open('titrate_results_{1}.p', 'wb'))\n",
    "'''"
   ]
  },
  {
   "cell_type": "code",
   "execution_count": 226,
   "metadata": {},
   "outputs": [
    {
     "data": {
      "text/plain": [
       "[277, 162, 114, 88, 60, 46, 37, 31, 27, 23]"
      ]
     },
     "execution_count": 226,
     "metadata": {},
     "output_type": "execute_result"
    }
   ],
   "source": [
    "Al_nums"
   ]
  },
  {
   "cell_type": "code",
   "execution_count": 239,
   "metadata": {},
   "outputs": [],
   "source": [
    "for i, ratio in enumerate(Si_Al_ratios):\n",
    "    filename = folder_path+'/jobs/J{}.py'.format(i+1)\n",
    "    if os.path.isfile(filename):\n",
    "        os.remove(filename)\n",
    "    with open(filename, 'a') as file:\n",
    "        file.write(py_template.format(Al_nums[i], i+1))"
   ]
  },
  {
   "cell_type": "code",
   "execution_count": 228,
   "metadata": {
    "collapsed": true
   },
   "outputs": [],
   "source": [
    "qscript_template = '''#!/bin/bash\n",
    "#$ -q *@@crc\n",
    "#$ -pe smp 2\n",
    "python J{}.py\n",
    "'''"
   ]
  },
  {
   "cell_type": "code",
   "execution_count": 229,
   "metadata": {},
   "outputs": [],
   "source": [
    "for i, ratio in enumerate(Si_Al_ratios):\n",
    "    filename = folder_path+'/jobs/J{}.sh'.format(i+1)\n",
    "    if os.path.isfile(filename):\n",
    "        os.remove(filename)\n",
    "    with open(filename, 'a') as file:\n",
    "        file.write(qscript_template.format(i+1))"
   ]
  },
  {
   "cell_type": "code",
   "execution_count": null,
   "metadata": {
    "collapsed": true
   },
   "outputs": [],
   "source": [
    "titrate_results = []"
   ]
  },
  {
   "cell_type": "code",
   "execution_count": null,
   "metadata": {},
   "outputs": [],
   "source": [
    "for i in range(1):\n",
    "    filename = folder_path+'/jobs/titrate_results_{}.p'.format(i+1)\n",
    "    titrate_result = pickle.load(open(filename, 'rb'))\n",
    "    tirate_results.append(titrate_result)"
   ]
  },
  {
   "cell_type": "code",
   "execution_count": 232,
   "metadata": {},
   "outputs": [
    {
     "data": {
      "text/plain": [
       "[]"
      ]
     },
     "execution_count": 232,
     "metadata": {},
     "output_type": "execute_result"
    }
   ],
   "source": [
    "titrate_results"
   ]
  },
  {
   "cell_type": "code",
   "execution_count": null,
   "metadata": {
    "collapsed": true
   },
   "outputs": [],
   "source": [
    "titrate_results_1 = pickle"
   ]
  }
 ],
 "metadata": {
  "kernelspec": {
   "display_name": "Python 3",
   "language": "python",
   "name": "python3"
  },
  "language_info": {
   "codemirror_mode": {
    "name": "ipython",
    "version": 3
   },
   "file_extension": ".py",
   "mimetype": "text/x-python",
   "name": "python",
   "nbconvert_exporter": "python",
   "pygments_lexer": "ipython3",
   "version": "3.6.1"
  }
 },
 "nbformat": 4,
 "nbformat_minor": 2
}
