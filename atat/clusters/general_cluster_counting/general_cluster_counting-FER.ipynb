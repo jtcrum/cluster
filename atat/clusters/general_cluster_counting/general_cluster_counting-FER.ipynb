{
 "cells": [
  {
   "cell_type": "markdown",
   "metadata": {},
   "source": [
    "### Before start, please replace every folder path"
   ]
  },
  {
   "cell_type": "code",
   "execution_count": 1,
   "metadata": {
    "collapsed": true
   },
   "outputs": [],
   "source": [
    "import pandas as pd\n",
    "import numpy as np\n",
    "import copy\n",
    "from math import *\n",
    "import os\n",
    "import random\n",
    "from collections import defaultdict\n",
    "import csv\n",
    "from functools import reduce\n",
    "from copy import deepcopy\n",
    "import pickle\n",
    "from timeit import default_timer as timer\n",
    "from matplotlib import pyplot as plt\n",
    "from ase import Atoms\n",
    "from ase.io import read\n",
    "from ase.io import write\n",
    "from ase.visualize import view\n",
    "import itertools\n",
    "\n",
    "%matplotlib inline"
   ]
  },
  {
   "cell_type": "code",
   "execution_count": 2,
   "metadata": {
    "collapsed": true
   },
   "outputs": [],
   "source": [
    "pd.set_option('display.max_columns', 500)"
   ]
  },
  {
   "cell_type": "code",
   "execution_count": 3,
   "metadata": {
    "collapsed": true
   },
   "outputs": [],
   "source": [
    "folder_path = 'FER'"
   ]
  },
  {
   "cell_type": "code",
   "execution_count": 4,
   "metadata": {
    "collapsed": true
   },
   "outputs": [],
   "source": [
    "%run helper_functions.py"
   ]
  },
  {
   "cell_type": "markdown",
   "metadata": {},
   "source": [
    "#### Read lat.in"
   ]
  },
  {
   "cell_type": "code",
   "execution_count": 5,
   "metadata": {
    "collapsed": true
   },
   "outputs": [],
   "source": [
    "filepath=folder_path+'/lat.in'\n",
    "lattice = read_lat_in(filepath)"
   ]
  },
  {
   "cell_type": "code",
   "execution_count": 6,
   "metadata": {},
   "outputs": [
    {
     "data": {
      "text/plain": [
       "dict_keys(['a', 'b', 'c', 'alpha', 'beta', 'gamma', 'u', 'v', 'w', 'sites'])"
      ]
     },
     "execution_count": 6,
     "metadata": {},
     "output_type": "execute_result"
    }
   ],
   "source": [
    "lattice.keys()"
   ]
  },
  {
   "cell_type": "markdown",
   "metadata": {},
   "source": [
    "#### Run corrdump, generate clusters.out"
   ]
  },
  {
   "cell_type": "code",
   "execution_count": 7,
   "metadata": {},
   "outputs": [
    {
     "name": "stdout",
     "output_type": "stream",
     "text": [
      "Warning: unit cell is not primitive.\n",
      "Unable to open structure file\n"
     ]
    }
   ],
   "source": [
    "#need to FERnge path before running the following command\n",
    "!corrdump -l=FER/lat.in -cf=FER/clusters.out -2=7 -3=7"
   ]
  },
  {
   "cell_type": "markdown",
   "metadata": {},
   "source": [
    "#### Read clusters.out"
   ]
  },
  {
   "cell_type": "code",
   "execution_count": 8,
   "metadata": {
    "collapsed": true
   },
   "outputs": [],
   "source": [
    "filepath = folder_path+'/clusters.out'\n",
    "cluster_out_lines = read_clusters_out(filepath)"
   ]
  },
  {
   "cell_type": "code",
   "execution_count": 9,
   "metadata": {
    "collapsed": true
   },
   "outputs": [],
   "source": [
    "lat_clusters = break_down_cluster_out_lines(cluster_out_lines, lattice)"
   ]
  },
  {
   "cell_type": "code",
   "execution_count": 10,
   "metadata": {
    "scrolled": true
   },
   "outputs": [
    {
     "data": {
      "text/plain": [
       "dict_keys(['type_number', '0-1', 'num_max_site', '1-1', '1-2', '1-3', '1-4', '2-1', '2-2', '2-3', '2-4', '2-5', '2-6', '2-7', '2-8', '2-9', '2-10', '2-11', '2-12', '2-13', '2-14', '2-15', '2-16', '2-17', '2-18', '2-19', '2-20', '2-21', '2-22', '2-23', '2-24', '2-25', '2-26', '2-27', '2-28', '2-29', '2-30', '2-31', '2-32', '3-1', '3-2', '3-3', '3-4', '3-5', '3-6', '3-7', '3-8', '3-9', '3-10', '3-11', '3-12', '3-13', '3-14', '3-15', '3-16', '3-17', '3-18', '3-19', '3-20', '3-21', '3-22', '3-23', '3-24', '3-25', '3-26', '3-27', '3-28', '3-29', '3-30', '3-31', '3-32', '3-33', '3-34', '3-35', '3-36', '3-37', '3-38', '3-39', '3-40', '3-41', '3-42', '3-43', '3-44', '3-45', '3-46', '3-47', '3-48', '3-49', '3-50', '3-51', '3-52', '3-53', '3-54', '3-55', '3-56', '3-57', '3-58', '3-59', '3-60', '3-61', '3-62', '3-63', '3-64', '3-65', '3-66', '3-67', '3-68', '3-69', '3-70', '3-71', '3-72', '3-73', 'vis_range', 'lat_vis_sites', 'cluster_types'])"
      ]
     },
     "execution_count": 10,
     "metadata": {},
     "output_type": "execute_result"
    }
   ],
   "source": [
    "lat_clusters.keys()"
   ]
  },
  {
   "cell_type": "code",
   "execution_count": 11,
   "metadata": {
    "scrolled": false
   },
   "outputs": [
    {
     "name": "stdout",
     "output_type": "stream",
     "text": [
      "1-1 : 0.0\n",
      "1-2 : 0.0\n",
      "1-3 : 0.0\n",
      "1-4 : 0.0\n",
      "2-1 : 3.1097\n",
      "2-2 : 3.11292\n",
      "2-3 : 3.11443\n",
      "2-4 : 3.14223\n",
      "2-5 : 3.16551\n",
      "2-6 : 3.16845\n",
      "2-7 : 3.20643\n",
      "2-8 : 3.21586\n",
      "2-9 : 4.42657\n",
      "2-10 : 4.42808\n",
      "2-11 : 4.59302\n",
      "2-12 : 4.65993\n",
      "2-13 : 4.82105\n",
      "2-14 : 4.82425\n",
      "2-15 : 4.8425\n",
      "2-16 : 4.84367\n",
      "2-17 : 4.91182\n",
      "2-18 : 5.11578\n",
      "2-19 : 5.29331\n",
      "2-20 : 5.38325\n",
      "2-21 : 5.59372\n",
      "2-22 : 5.60446\n",
      "2-23 : 5.73264\n",
      "2-24 : 5.77269\n",
      "2-25 : 5.77479\n",
      "2-26 : 5.78847\n",
      "2-27 : 5.90699\n",
      "2-28 : 6.42776\n",
      "2-29 : 6.55853\n",
      "2-30 : 6.56844\n",
      "2-31 : 6.67912\n",
      "2-32 : 6.83499\n",
      "3-1 : 4.42657\n",
      "3-2 : 4.42808\n",
      "3-3 : 4.59302\n",
      "3-4 : 4.59302\n",
      "3-5 : 4.65993\n",
      "3-6 : 4.82105\n",
      "3-7 : 4.82105\n",
      "3-8 : 4.82105\n",
      "3-9 : 4.82105\n",
      "3-10 : 4.82425\n",
      "3-11 : 4.82425\n",
      "3-12 : 4.82425\n",
      "3-13 : 4.8425\n",
      "3-14 : 4.8425\n",
      "3-15 : 4.8425\n",
      "3-16 : 4.84367\n",
      "3-17 : 4.84367\n",
      "3-18 : 4.91182\n",
      "3-19 : 4.91182\n",
      "3-20 : 4.91182\n",
      "3-21 : 4.91182\n",
      "3-22 : 4.91182\n",
      "3-23 : 4.91182\n",
      "3-24 : 5.11578\n",
      "3-25 : 5.11578\n",
      "3-26 : 5.11578\n",
      "3-27 : 5.11578\n",
      "3-28 : 5.11578\n",
      "3-29 : 5.29331\n",
      "3-30 : 5.29331\n",
      "3-31 : 5.29331\n",
      "3-32 : 5.29331\n",
      "3-33 : 5.38325\n",
      "3-34 : 5.59372\n",
      "3-35 : 5.59372\n",
      "3-36 : 5.59372\n",
      "3-37 : 5.60446\n",
      "3-38 : 5.60446\n",
      "3-39 : 5.60446\n",
      "3-40 : 5.60446\n",
      "3-41 : 5.60446\n",
      "3-42 : 5.73264\n",
      "3-43 : 5.73264\n",
      "3-44 : 5.73264\n",
      "3-45 : 5.77269\n",
      "3-46 : 5.77269\n",
      "3-47 : 5.77269\n",
      "3-48 : 5.77269\n",
      "3-49 : 5.77479\n",
      "3-50 : 5.77479\n",
      "3-51 : 5.77479\n",
      "3-52 : 5.77479\n",
      "3-53 : 5.78847\n",
      "3-54 : 5.78847\n",
      "3-55 : 5.78847\n",
      "3-56 : 5.90699\n",
      "3-57 : 6.42776\n",
      "3-58 : 6.42776\n",
      "3-59 : 6.42776\n",
      "3-60 : 6.42776\n",
      "3-61 : 6.42776\n",
      "3-62 : 6.42776\n",
      "3-63 : 6.55853\n",
      "3-64 : 6.55853\n",
      "3-65 : 6.55853\n",
      "3-66 : 6.56844\n",
      "3-67 : 6.56844\n",
      "3-68 : 6.67912\n",
      "3-69 : 6.83499\n",
      "3-70 : 6.83499\n",
      "3-71 : 6.83499\n",
      "3-72 : 6.83499\n",
      "3-73 : 6.83499\n"
     ]
    }
   ],
   "source": [
    "for cluster in lat_clusters['cluster_types']:\n",
    "    print(cluster, ':', lat_clusters[cluster]['max_d'])\n",
    "    "
   ]
  },
  {
   "cell_type": "code",
   "execution_count": 12,
   "metadata": {},
   "outputs": [
    {
     "name": "stdout",
     "output_type": "stream",
     "text": [
      "mkdir: FER/lattice_clusters: File exists\n",
      "mkdir: FER/lattice_clusters/xyzs: File exists\n",
      "mkdir: FER/lattice_clusters/images: File exists\n"
     ]
    }
   ],
   "source": [
    "#need to FERnge path before running the following command\n",
    "!mkdir FER/lattice_clusters\n",
    "!mkdir FER/lattice_clusters/xyzs\n",
    "!mkdir FER/lattice_clusters/images"
   ]
  },
  {
   "cell_type": "code",
   "execution_count": 13,
   "metadata": {
    "collapsed": true
   },
   "outputs": [],
   "source": [
    "str_vec = [0 for i in range(len(lat_clusters['lat_vis_sites'].index))]"
   ]
  },
  {
   "cell_type": "code",
   "execution_count": 14,
   "metadata": {
    "collapsed": true
   },
   "outputs": [],
   "source": [
    "visualize_str_no_rep(lat_clusters['lat_vis_sites'], str_vec, folder_path+'/lattice_clusters/xyzs/all_sites.xyz', folder_path+'/lattice_clusters/images/all_sites.png')\n",
    "#visualize_str_no_rep(lat_clusters['lat_vis_sites'], str_vec, folder_path+'/lattice_clusters/xyzs/all_sites.xyz', folder_path+'/lattice_clusters/images/all_sites.png')\n",
    "#c= read(folder_path+'/lattice_clusters/xyzs/all_sites.xyz')\n",
    "#view(c)"
   ]
  },
  {
   "cell_type": "code",
   "execution_count": 15,
   "metadata": {
    "collapsed": true
   },
   "outputs": [],
   "source": [
    "#visualize all n-body clusters\n",
    "nsite = 3\n",
    "for i in range(1, int(lat_clusters['type_number'][nsite])+1):\n",
    "    #print(i)\n",
    "    str_vec = [0 for i in range(len(lat_clusters['lat_vis_sites'].index))]\n",
    "    sites = lat_clusters['{}-{}'.format(nsite, i)]['eg_pair_frac']\n",
    "    for site in sites:\n",
    "        #print(site)\n",
    "        index = find_df_index_frac(site, lat_clusters['lat_vis_sites'])\n",
    "        str_vec[index] = 1\n",
    "    xyz_filepath = folder_path+'/lattice_clusters/xyzs/cluster-{}-{}.xyz'.format(nsite, i)\n",
    "    png_filepath = folder_path+'/lattice_clusters/images/cluster-{}-{}.png'.format(nsite, i)\n",
    "    visualize_str_no_rep(lat_clusters['lat_vis_sites'], str_vec, xyz_filepath, png_filepath)"
   ]
  },
  {
   "cell_type": "code",
   "execution_count": 142,
   "metadata": {
    "collapsed": true
   },
   "outputs": [],
   "source": [
    "c= read(folder_path+'/lattice_clusters/xyzs/cluster-2-1.xyz')\n",
    "view(c)"
   ]
  },
  {
   "cell_type": "markdown",
   "metadata": {},
   "source": [
    "#### read str_dim.txt"
   ]
  },
  {
   "cell_type": "code",
   "execution_count": 37,
   "metadata": {
    "collapsed": true
   },
   "outputs": [],
   "source": [
    "%run helper_functions.py"
   ]
  },
  {
   "cell_type": "code",
   "execution_count": 38,
   "metadata": {
    "collapsed": true
   },
   "outputs": [],
   "source": [
    "filepath = folder_path+'/str_dim.txt'\n",
    "structure = read_str_dim(filepath, lattice)"
   ]
  },
  {
   "cell_type": "code",
   "execution_count": 39,
   "metadata": {},
   "outputs": [
    {
     "data": {
      "text/plain": [
       "dict_keys(['lattice_a', 'lattice_b', 'lattice_c', 'lattice_alpha', 'lattice_beta', 'lattice_gamma', 'lattice_u', 'lattice_v', 'lattice_w', 'u', 'v', 'w', 'u_mult', 'v_mult', 'w_mult', 'ncell', 'str_sites'])"
      ]
     },
     "execution_count": 39,
     "metadata": {},
     "output_type": "execute_result"
    }
   ],
   "source": [
    "structure.keys()"
   ]
  },
  {
   "cell_type": "code",
   "execution_count": 40,
   "metadata": {
    "collapsed": true
   },
   "outputs": [],
   "source": [
    "filepath = folder_path+'/str.out'\n",
    "prepare_str_out(structure, filepath)"
   ]
  },
  {
   "cell_type": "code",
   "execution_count": 41,
   "metadata": {},
   "outputs": [
    {
     "name": "stdout",
     "output_type": "stream",
     "text": [
      "Warning: unit cell is not primitive.\r\n"
     ]
    }
   ],
   "source": [
    "#need to FERnge path before running the following command\n",
    "if os.path.isfile('FER/cluster_list.csv'):\n",
    "    os.remove('FER/cluster_list.csv')\n",
    "    \n",
    "!corrdump -l=FER/lat.in -s=FER/str.out -cf=FER/clusters.out -2=7 -3=7 >> FER/cluster_list.csv"
   ]
  },
  {
   "cell_type": "markdown",
   "metadata": {},
   "source": [
    "#### read cluster list"
   ]
  },
  {
   "cell_type": "code",
   "execution_count": 42,
   "metadata": {
    "collapsed": true
   },
   "outputs": [],
   "source": [
    "%run helper_functions.py"
   ]
  },
  {
   "cell_type": "code",
   "execution_count": 43,
   "metadata": {
    "collapsed": true
   },
   "outputs": [],
   "source": [
    "filepath = folder_path+'/cluster_list.csv'\n",
    "str_clusters = read_cluster_list(filepath, structure, lat_clusters)"
   ]
  },
  {
   "cell_type": "code",
   "execution_count": 44,
   "metadata": {
    "collapsed": true
   },
   "outputs": [],
   "source": [
    "break_down_cluster_list(str_clusters, structure)"
   ]
  },
  {
   "cell_type": "code",
   "execution_count": 45,
   "metadata": {},
   "outputs": [
    {
     "name": "stdout",
     "output_type": "stream",
     "text": [
      "mkdir: FER/structure_clusters_rep: File exists\n",
      "mkdir: FER/structure_clusters_rep/xyzs: File exists\n",
      "mkdir: FER/structure_clusters_rep/images: File exists\n"
     ]
    }
   ],
   "source": [
    "#need to FERnge path before running the following command\n",
    "!mkdir FER/structure_clusters_rep\n",
    "!mkdir FER/structure_clusters_rep/xyzs\n",
    "!mkdir FER/structure_clusters_rep/images"
   ]
  },
  {
   "cell_type": "code",
   "execution_count": 46,
   "metadata": {},
   "outputs": [
    {
     "name": "stdout",
     "output_type": "stream",
     "text": [
      "mkdir: FER/structure_clusters_no_rep: File exists\n",
      "mkdir: FER/structure_clusters_no_rep/xyzs: File exists\n",
      "mkdir: FER/structure_clusters_no_rep/images: File exists\n"
     ]
    }
   ],
   "source": [
    "#need to FERnge path before running the following command\n",
    "!mkdir FER/structure_clusters_no_rep\n",
    "!mkdir FER/structure_clusters_no_rep/xyzs\n",
    "!mkdir FER/structure_clusters_no_rep/images"
   ]
  },
  {
   "cell_type": "code",
   "execution_count": 27,
   "metadata": {
    "collapsed": true
   },
   "outputs": [],
   "source": [
    "#visualize_structure_all_clusters(str_clusters, structure, folder_path, rep='y')"
   ]
  },
  {
   "cell_type": "markdown",
   "metadata": {},
   "source": [
    "#### pair sites for structure sites"
   ]
  },
  {
   "cell_type": "code",
   "execution_count": 47,
   "metadata": {
    "collapsed": true
   },
   "outputs": [],
   "source": [
    "%run helper_functions.py"
   ]
  },
  {
   "cell_type": "code",
   "execution_count": 48,
   "metadata": {},
   "outputs": [
    {
     "data": {
      "text/plain": [
       "dict_keys(['cluster_orig_list', 'type_number', 'cluster_types', '1-1', '1-2', '1-3', '1-4', '2-1', '2-2', '2-3', '2-4', '2-5', '2-6', '2-7', '2-8', '2-9', '2-10', '2-11', '2-12', '2-13', '2-14', '2-15', '2-16', '2-17', '2-18', '2-19', '2-20', '2-21', '2-22', '2-23', '2-24', '2-25', '2-26', '2-27', '2-28', '2-29', '2-30', '2-31', '2-32', '3-1', '3-2', '3-3', '3-4', '3-5', '3-6', '3-7', '3-8', '3-9', '3-10', '3-11', '3-12', '3-13', '3-14', '3-15', '3-16', '3-17', '3-18', '3-19', '3-20', '3-21', '3-22', '3-23', '3-24', '3-25', '3-26', '3-27', '3-28', '3-29', '3-30', '3-31', '3-32', '3-33', '3-34', '3-35', '3-36', '3-37', '3-38', '3-39', '3-40', '3-41', '3-42', '3-43', '3-44', '3-45', '3-46', '3-47', '3-48', '3-49', '3-50', '3-51', '3-52', '3-53', '3-54', '3-55', '3-56', '3-57', '3-58', '3-59', '3-60', '3-61', '3-62', '3-63', '3-64', '3-65', '3-66', '3-67', '3-68', '3-69', '3-70', '3-71', '3-72', '3-73', 'mult_vis_range', 'str_vis_sites'])"
      ]
     },
     "execution_count": 48,
     "metadata": {},
     "output_type": "execute_result"
    }
   ],
   "source": [
    "str_clusters.keys()"
   ]
  },
  {
   "cell_type": "code",
   "execution_count": 49,
   "metadata": {
    "collapsed": true
   },
   "outputs": [],
   "source": [
    "add_cluster_list_site_index(str_clusters,structure)"
   ]
  },
  {
   "cell_type": "code",
   "execution_count": 50,
   "metadata": {
    "collapsed": true
   },
   "outputs": [],
   "source": [
    "add_pair_sites(structure, str_clusters)"
   ]
  },
  {
   "cell_type": "code",
   "execution_count": 51,
   "metadata": {},
   "outputs": [
    {
     "data": {
      "text/plain": [
       "Index(['a', 'b', 'c', 'atom', 'multi_atoms', 'site_index', 'x', 'y', 'z',\n",
       "       '1-1',\n",
       "       ...\n",
       "       '3-64', '3-65', '3-66', '3-67', '3-68', '3-69', '3-70', '3-71', '3-72',\n",
       "       '3-73'],\n",
       "      dtype='object', length=118)"
      ]
     },
     "execution_count": 51,
     "metadata": {},
     "output_type": "execute_result"
    }
   ],
   "source": [
    "structure['str_sites'].columns"
   ]
  },
  {
   "cell_type": "markdown",
   "metadata": {},
   "source": [
    "#### count clusters for a given configuration"
   ]
  },
  {
   "cell_type": "code",
   "execution_count": 52,
   "metadata": {
    "collapsed": true
   },
   "outputs": [],
   "source": [
    "%run helper_functions.py"
   ]
  },
  {
   "cell_type": "code",
   "execution_count": 53,
   "metadata": {
    "collapsed": true
   },
   "outputs": [],
   "source": [
    "str_vec = [1 for i in range(len(structure['str_sites'].index))]"
   ]
  },
  {
   "cell_type": "code",
   "execution_count": 54,
   "metadata": {
    "collapsed": true
   },
   "outputs": [],
   "source": [
    "counting_types = []"
   ]
  },
  {
   "cell_type": "code",
   "execution_count": 55,
   "metadata": {},
   "outputs": [
    {
     "data": {
      "text/plain": [
       "defaultdict(int,\n",
       "            {'1-1': 256,\n",
       "             '1-2': 128,\n",
       "             '1-3': 128,\n",
       "             '1-4': 64,\n",
       "             '2-1': 256,\n",
       "             '2-10': 128,\n",
       "             '2-11': 256,\n",
       "             '2-12': 256,\n",
       "             '2-13': 256,\n",
       "             '2-14': 256,\n",
       "             '2-15': 256,\n",
       "             '2-16': 256,\n",
       "             '2-17': 256,\n",
       "             '2-18': 256,\n",
       "             '2-19': 256,\n",
       "             '2-2': 128,\n",
       "             '2-20': 128,\n",
       "             '2-21': 256,\n",
       "             '2-22': 256,\n",
       "             '2-23': 64,\n",
       "             '2-24': 128,\n",
       "             '2-25': 256,\n",
       "             '2-26': 128,\n",
       "             '2-27': 32,\n",
       "             '2-28': 256,\n",
       "             '2-29': 128,\n",
       "             '2-3': 64,\n",
       "             '2-30': 64,\n",
       "             '2-31': 128,\n",
       "             '2-32': 256,\n",
       "             '2-4': 256,\n",
       "             '2-5': 128,\n",
       "             '2-6': 128,\n",
       "             '2-7': 64,\n",
       "             '2-8': 128,\n",
       "             '2-9': 64,\n",
       "             '3-1': 64,\n",
       "             '3-10': 256,\n",
       "             '3-11': 256,\n",
       "             '3-12': 128,\n",
       "             '3-13': 256,\n",
       "             '3-14': 256,\n",
       "             '3-15': 256,\n",
       "             '3-16': 256,\n",
       "             '3-17': 256,\n",
       "             '3-18': 256,\n",
       "             '3-19': 256,\n",
       "             '3-2': 128,\n",
       "             '3-20': 256,\n",
       "             '3-21': 256,\n",
       "             '3-22': 256,\n",
       "             '3-23': 256,\n",
       "             '3-24': 256,\n",
       "             '3-25': 256,\n",
       "             '3-26': 128,\n",
       "             '3-27': 256,\n",
       "             '3-28': 256,\n",
       "             '3-29': 256,\n",
       "             '3-3': 256,\n",
       "             '3-30': 256,\n",
       "             '3-31': 256,\n",
       "             '3-32': 128,\n",
       "             '3-33': 128,\n",
       "             '3-34': 256,\n",
       "             '3-35': 256,\n",
       "             '3-36': 128,\n",
       "             '3-37': 256,\n",
       "             '3-38': 256,\n",
       "             '3-39': 256,\n",
       "             '3-4': 128,\n",
       "             '3-40': 256,\n",
       "             '3-41': 256,\n",
       "             '3-42': 64,\n",
       "             '3-43': 128,\n",
       "             '3-44': 64,\n",
       "             '3-45': 128,\n",
       "             '3-46': 128,\n",
       "             '3-47': 128,\n",
       "             '3-48': 128,\n",
       "             '3-49': 256,\n",
       "             '3-5': 256,\n",
       "             '3-50': 256,\n",
       "             '3-51': 256,\n",
       "             '3-52': 256,\n",
       "             '3-53': 128,\n",
       "             '3-54': 256,\n",
       "             '3-55': 256,\n",
       "             '3-56': 128,\n",
       "             '3-57': 256,\n",
       "             '3-58': 256,\n",
       "             '3-59': 256,\n",
       "             '3-6': 256,\n",
       "             '3-60': 256,\n",
       "             '3-61': 256,\n",
       "             '3-62': 256,\n",
       "             '3-63': 256,\n",
       "             '3-64': 256,\n",
       "             '3-65': 128,\n",
       "             '3-66': 128,\n",
       "             '3-67': 128,\n",
       "             '3-68': 256,\n",
       "             '3-69': 256,\n",
       "             '3-7': 256,\n",
       "             '3-70': 256,\n",
       "             '3-71': 256,\n",
       "             '3-72': 256,\n",
       "             '3-73': 256,\n",
       "             '3-8': 256,\n",
       "             '3-9': 128})"
      ]
     },
     "execution_count": 55,
     "metadata": {},
     "output_type": "execute_result"
    }
   ],
   "source": [
    "count_clusters_str_config(str_vec, structure, str_clusters, counting_types)"
   ]
  },
  {
   "cell_type": "code",
   "execution_count": 56,
   "metadata": {},
   "outputs": [
    {
     "data": {
      "text/plain": [
       "defaultdict(int, {'2-10': 128, '2-20': 128, '2-23': 64, '2-9': 64})"
      ]
     },
     "execution_count": 56,
     "metadata": {},
     "output_type": "execute_result"
    }
   ],
   "source": [
    "count_clusters_str_config(str_vec, structure, str_clusters, counting_types=['2-9','2-10','2-20','2-23'])"
   ]
  },
  {
   "cell_type": "code",
   "execution_count": 57,
   "metadata": {},
   "outputs": [
    {
     "name": "stdout",
     "output_type": "stream",
     "text": [
      "3-1: 4.42657\n",
      "3-2: 4.42808\n",
      "3-3: 4.59302\n",
      "3-4: 4.59302\n",
      "3-5: 4.65993\n",
      "3-6: 4.82105\n",
      "3-7: 4.82105\n",
      "3-8: 4.82105\n",
      "3-9: 4.82105\n",
      "3-10: 4.82425\n",
      "3-11: 4.82425\n",
      "3-12: 4.82425\n",
      "3-13: 4.8425\n",
      "3-14: 4.8425\n",
      "3-15: 4.8425\n"
     ]
    }
   ],
   "source": [
    "for i in range(15):\n",
    "    print('3-{}:'.format(i+1),lat_clusters['3-{}'.format(i+1)]['max_d'])"
   ]
  },
  {
   "cell_type": "markdown",
   "metadata": {},
   "source": [
    "#### random generate one structure configuration"
   ]
  },
  {
   "cell_type": "code",
   "execution_count": 58,
   "metadata": {
    "collapsed": true
   },
   "outputs": [],
   "source": [
    "%run helper_functions.py"
   ]
  },
  {
   "cell_type": "code",
   "execution_count": 59,
   "metadata": {},
   "outputs": [
    {
     "name": "stdout",
     "output_type": "stream",
     "text": [
      "mkdir: FER/random_config_process: File exists\n",
      "mkdir: FER/random_config_process/xyzs: File exists\n",
      "mkdir: FER/random_config_process/images: File exists\n"
     ]
    }
   ],
   "source": [
    "#need to FERnge path before running the following command\n",
    "!mkdir FER/random_config_process\n",
    "!mkdir FER/random_config_process/xyzs\n",
    "!mkdir FER/random_config_process/images"
   ]
  },
  {
   "cell_type": "code",
   "execution_count": 60,
   "metadata": {},
   "outputs": [
    {
     "data": {
      "text/plain": [
       "1152"
      ]
     },
     "execution_count": 60,
     "metadata": {},
     "output_type": "execute_result"
    }
   ],
   "source": [
    "penalty = {'2-1':1, '2-2':1, '2-3':1,'2-4':1, '2-5':1, '2-6': 1, '2-7':1, '2-8':1}\n",
    "\n",
    "str_vec = [1 for i in range(len(structure['str_sites'].index))]\n",
    "cal_penalty(str_vec, structure, str_clusters, penalty)"
   ]
  },
  {
   "cell_type": "code",
   "execution_count": 61,
   "metadata": {
    "collapsed": true
   },
   "outputs": [],
   "source": [
    "str_vec = random_config_hybrid(structure, str_clusters, 10, penalty, vis=0, folder_path='', max_try = 100)"
   ]
  },
  {
   "cell_type": "code",
   "execution_count": 147,
   "metadata": {
    "collapsed": true
   },
   "outputs": [],
   "source": [
    "#str_vec = random_config_swap(structure, str_clusters, 100, penalty, vis=0, folder_path='', max_try = 100)"
   ]
  },
  {
   "cell_type": "markdown",
   "metadata": {},
   "source": [
    "#### titrate clusters for one structure configuration"
   ]
  },
  {
   "cell_type": "code",
   "execution_count": 62,
   "metadata": {
    "collapsed": true
   },
   "outputs": [],
   "source": [
    "%run helper_functions.py"
   ]
  },
  {
   "cell_type": "code",
   "execution_count": 63,
   "metadata": {
    "collapsed": true
   },
   "outputs": [],
   "source": [
    "cluster_type_dict = prepare_cluster_type_dict(str_clusters)"
   ]
  },
  {
   "cell_type": "code",
   "execution_count": 64,
   "metadata": {},
   "outputs": [
    {
     "data": {
      "text/plain": [
       "{'2-1': 1,\n",
       " '2-2': 1,\n",
       " '2-3': 1,\n",
       " '2-4': 1,\n",
       " '2-5': 1,\n",
       " '2-6': 1,\n",
       " '2-7': 1,\n",
       " '2-8': 1}"
      ]
     },
     "execution_count": 64,
     "metadata": {},
     "output_type": "execute_result"
    }
   ],
   "source": [
    "penalty"
   ]
  },
  {
   "cell_type": "code",
   "execution_count": 65,
   "metadata": {},
   "outputs": [
    {
     "ename": "KeyboardInterrupt",
     "evalue": "",
     "output_type": "error",
     "traceback": [
      "\u001b[0;31m---------------------------------------------------------------------------\u001b[0m",
      "\u001b[0;31mKeyboardInterrupt\u001b[0m                         Traceback (most recent call last)",
      "\u001b[0;32m<ipython-input-65-ebfc3a52f79c>\u001b[0m in \u001b[0;36m<module>\u001b[0;34m()\u001b[0m\n\u001b[0;32m----> 1\u001b[0;31m \u001b[0mstr_vec\u001b[0m \u001b[0;34m=\u001b[0m \u001b[0mrandom_config_hybrid\u001b[0m\u001b[0;34m(\u001b[0m\u001b[0mstructure\u001b[0m\u001b[0;34m,\u001b[0m \u001b[0mstr_clusters\u001b[0m\u001b[0;34m,\u001b[0m \u001b[0;36m340\u001b[0m\u001b[0;34m,\u001b[0m \u001b[0mpenalty\u001b[0m\u001b[0;34m,\u001b[0m \u001b[0mmax_try\u001b[0m \u001b[0;34m=\u001b[0m \u001b[0;36m100\u001b[0m\u001b[0;34m)\u001b[0m\u001b[0;34m\u001b[0m\u001b[0m\n\u001b[0m",
      "\u001b[0;32m/Users/Tong/Documents/cluster/atat/chabazite/general_cluster_counting/helper_functions.py\u001b[0m in \u001b[0;36mrandom_config_hybrid\u001b[0;34m(structure, str_clusters, atom_num, penalty, vis, folder_path, max_try)\u001b[0m\n\u001b[1;32m    879\u001b[0m         \u001b[0mstr_vec_temp\u001b[0m\u001b[0;34m[\u001b[0m\u001b[0ms_temp\u001b[0m\u001b[0;34m]\u001b[0m \u001b[0;34m=\u001b[0m \u001b[0;36m0\u001b[0m\u001b[0;34m\u001b[0m\u001b[0m\n\u001b[1;32m    880\u001b[0m         \u001b[0mstr_vec_temp\u001b[0m\u001b[0;34m[\u001b[0m\u001b[0mu_temp\u001b[0m\u001b[0;34m]\u001b[0m \u001b[0;34m=\u001b[0m \u001b[0;36m1\u001b[0m\u001b[0;34m\u001b[0m\u001b[0m\n\u001b[0;32m--> 881\u001b[0;31m         \u001b[0mp_temp\u001b[0m \u001b[0;34m=\u001b[0m \u001b[0mcal_penalty\u001b[0m\u001b[0;34m(\u001b[0m\u001b[0mstr_vec_temp\u001b[0m\u001b[0;34m,\u001b[0m \u001b[0mstructure\u001b[0m\u001b[0;34m,\u001b[0m \u001b[0mstr_clusters\u001b[0m\u001b[0;34m,\u001b[0m \u001b[0mpenalty\u001b[0m\u001b[0;34m)\u001b[0m\u001b[0;34m\u001b[0m\u001b[0m\n\u001b[0m\u001b[1;32m    882\u001b[0m \u001b[0;34m\u001b[0m\u001b[0m\n\u001b[1;32m    883\u001b[0m         \u001b[0;32mif\u001b[0m \u001b[0mp_temp\u001b[0m \u001b[0;34m<\u001b[0m \u001b[0mp\u001b[0m\u001b[0;34m:\u001b[0m\u001b[0;34m\u001b[0m\u001b[0m\n",
      "\u001b[0;32m/Users/Tong/Documents/cluster/atat/chabazite/general_cluster_counting/helper_functions.py\u001b[0m in \u001b[0;36mcal_penalty\u001b[0;34m(str_vec, structure, str_clusters, penalty)\u001b[0m\n\u001b[1;32m    710\u001b[0m     \u001b[0mfunction\u001b[0m \u001b[0mto\u001b[0m \u001b[0mcalculate\u001b[0m \u001b[0mthe\u001b[0m \u001b[0mpenalty\u001b[0m \u001b[0;32mfor\u001b[0m \u001b[0ma\u001b[0m \u001b[0mstructure\u001b[0m \u001b[0mconfiguration\u001b[0m\u001b[0;34m\u001b[0m\u001b[0m\n\u001b[1;32m    711\u001b[0m     '''\n\u001b[0;32m--> 712\u001b[0;31m     \u001b[0mcount_results\u001b[0m \u001b[0;34m=\u001b[0m \u001b[0mcount_clusters_str_config\u001b[0m\u001b[0;34m(\u001b[0m\u001b[0mstr_vec\u001b[0m\u001b[0;34m,\u001b[0m \u001b[0mstructure\u001b[0m\u001b[0;34m,\u001b[0m \u001b[0mstr_clusters\u001b[0m\u001b[0;34m,\u001b[0m \u001b[0mlist\u001b[0m\u001b[0;34m(\u001b[0m\u001b[0mpenalty\u001b[0m\u001b[0;34m.\u001b[0m\u001b[0mkeys\u001b[0m\u001b[0;34m(\u001b[0m\u001b[0;34m)\u001b[0m\u001b[0;34m)\u001b[0m\u001b[0;34m)\u001b[0m\u001b[0;34m\u001b[0m\u001b[0m\n\u001b[0m\u001b[1;32m    713\u001b[0m     \u001b[0mp\u001b[0m \u001b[0;34m=\u001b[0m \u001b[0;36m0\u001b[0m\u001b[0;34m\u001b[0m\u001b[0m\n\u001b[1;32m    714\u001b[0m     \u001b[0;32mfor\u001b[0m \u001b[0mkey\u001b[0m\u001b[0;34m,\u001b[0m \u001b[0mvalue\u001b[0m \u001b[0;32min\u001b[0m \u001b[0mpenalty\u001b[0m\u001b[0;34m.\u001b[0m\u001b[0mitems\u001b[0m\u001b[0;34m(\u001b[0m\u001b[0;34m)\u001b[0m\u001b[0;34m:\u001b[0m\u001b[0;34m\u001b[0m\u001b[0m\n",
      "\u001b[0;32m/Users/Tong/Documents/cluster/atat/chabazite/general_cluster_counting/helper_functions.py\u001b[0m in \u001b[0;36mcount_clusters_str_config\u001b[0;34m(str_vec, structure, str_clusters, counting_types, excluding_types)\u001b[0m\n\u001b[1;32m    697\u001b[0m             \u001b[0mexist\u001b[0m \u001b[0;34m=\u001b[0m \u001b[0;36m1\u001b[0m\u001b[0;34m\u001b[0m\u001b[0m\n\u001b[1;32m    698\u001b[0m             \u001b[0;32mfor\u001b[0m \u001b[0msite\u001b[0m \u001b[0;32min\u001b[0m \u001b[0mcluster\u001b[0m\u001b[0;34m:\u001b[0m\u001b[0;34m\u001b[0m\u001b[0m\n\u001b[0;32m--> 699\u001b[0;31m                 \u001b[0mdf_index\u001b[0m \u001b[0;34m=\u001b[0m \u001b[0mfind_df_index_from_site_index\u001b[0m\u001b[0;34m(\u001b[0m\u001b[0mstructure\u001b[0m\u001b[0;34m[\u001b[0m\u001b[0;34m'str_sites'\u001b[0m\u001b[0;34m]\u001b[0m\u001b[0;34m,\u001b[0m \u001b[0msite\u001b[0m\u001b[0;34m)\u001b[0m\u001b[0;34m\u001b[0m\u001b[0m\n\u001b[0m\u001b[1;32m    700\u001b[0m                 \u001b[0;32mif\u001b[0m \u001b[0mstr_vec\u001b[0m\u001b[0;34m[\u001b[0m\u001b[0mdf_index\u001b[0m\u001b[0;34m]\u001b[0m \u001b[0;34m==\u001b[0m \u001b[0;36m0\u001b[0m\u001b[0;34m:\u001b[0m\u001b[0;34m\u001b[0m\u001b[0m\n\u001b[1;32m    701\u001b[0m                     \u001b[0mexist\u001b[0m \u001b[0;34m=\u001b[0m \u001b[0;36m0\u001b[0m\u001b[0;34m\u001b[0m\u001b[0m\n",
      "\u001b[0;32m/Users/Tong/Documents/cluster/atat/chabazite/general_cluster_counting/helper_functions.py\u001b[0m in \u001b[0;36mfind_df_index_from_site_index\u001b[0;34m(df, site_index)\u001b[0m\n\u001b[1;32m    144\u001b[0m     \u001b[0mfunction\u001b[0m \u001b[0mto\u001b[0m \u001b[0mfind\u001b[0m \u001b[0mthe\u001b[0m \u001b[0mfirst\u001b[0m \u001b[0mindex\u001b[0m \u001b[0;32min\u001b[0m \u001b[0mdataframe\u001b[0m \u001b[0;32mfrom\u001b[0m \u001b[0msite\u001b[0m \u001b[0mindex\u001b[0m\u001b[0;34m\u001b[0m\u001b[0m\n\u001b[1;32m    145\u001b[0m     '''\n\u001b[0;32m--> 146\u001b[0;31m     \u001b[0;32mreturn\u001b[0m \u001b[0mdf\u001b[0m\u001b[0;34m[\u001b[0m\u001b[0mdf\u001b[0m\u001b[0;34m[\u001b[0m\u001b[0;34m'site_index'\u001b[0m\u001b[0;34m]\u001b[0m \u001b[0;34m==\u001b[0m \u001b[0msite_index\u001b[0m\u001b[0;34m]\u001b[0m\u001b[0;34m.\u001b[0m\u001b[0mindex\u001b[0m\u001b[0;34m[\u001b[0m\u001b[0;36m0\u001b[0m\u001b[0;34m]\u001b[0m\u001b[0;34m\u001b[0m\u001b[0m\n\u001b[0m\u001b[1;32m    147\u001b[0m \u001b[0;34m\u001b[0m\u001b[0m\n\u001b[1;32m    148\u001b[0m \u001b[0;32mdef\u001b[0m \u001b[0mtranslate_frac_into_structure\u001b[0m\u001b[0;34m(\u001b[0m\u001b[0mfrac_coor\u001b[0m\u001b[0;34m,\u001b[0m \u001b[0mstructure\u001b[0m\u001b[0;34m)\u001b[0m\u001b[0;34m:\u001b[0m\u001b[0;34m\u001b[0m\u001b[0m\n",
      "\u001b[0;32m/anaconda/lib/python3.6/site-packages/pandas/core/frame.py\u001b[0m in \u001b[0;36m__getitem__\u001b[0;34m(self, key)\u001b[0m\n\u001b[1;32m   1956\u001b[0m         \u001b[0;32mif\u001b[0m \u001b[0misinstance\u001b[0m\u001b[0;34m(\u001b[0m\u001b[0mkey\u001b[0m\u001b[0;34m,\u001b[0m \u001b[0;34m(\u001b[0m\u001b[0mSeries\u001b[0m\u001b[0;34m,\u001b[0m \u001b[0mnp\u001b[0m\u001b[0;34m.\u001b[0m\u001b[0mndarray\u001b[0m\u001b[0;34m,\u001b[0m \u001b[0mIndex\u001b[0m\u001b[0;34m,\u001b[0m \u001b[0mlist\u001b[0m\u001b[0;34m)\u001b[0m\u001b[0;34m)\u001b[0m\u001b[0;34m:\u001b[0m\u001b[0;34m\u001b[0m\u001b[0m\n\u001b[1;32m   1957\u001b[0m             \u001b[0;31m# either boolean or fancy integer index\u001b[0m\u001b[0;34m\u001b[0m\u001b[0;34m\u001b[0m\u001b[0m\n\u001b[0;32m-> 1958\u001b[0;31m             \u001b[0;32mreturn\u001b[0m \u001b[0mself\u001b[0m\u001b[0;34m.\u001b[0m\u001b[0m_getitem_array\u001b[0m\u001b[0;34m(\u001b[0m\u001b[0mkey\u001b[0m\u001b[0;34m)\u001b[0m\u001b[0;34m\u001b[0m\u001b[0m\n\u001b[0m\u001b[1;32m   1959\u001b[0m         \u001b[0;32melif\u001b[0m \u001b[0misinstance\u001b[0m\u001b[0;34m(\u001b[0m\u001b[0mkey\u001b[0m\u001b[0;34m,\u001b[0m \u001b[0mDataFrame\u001b[0m\u001b[0;34m)\u001b[0m\u001b[0;34m:\u001b[0m\u001b[0;34m\u001b[0m\u001b[0m\n\u001b[1;32m   1960\u001b[0m             \u001b[0;32mreturn\u001b[0m \u001b[0mself\u001b[0m\u001b[0;34m.\u001b[0m\u001b[0m_getitem_frame\u001b[0m\u001b[0;34m(\u001b[0m\u001b[0mkey\u001b[0m\u001b[0;34m)\u001b[0m\u001b[0;34m\u001b[0m\u001b[0m\n",
      "\u001b[0;32m/anaconda/lib/python3.6/site-packages/pandas/core/frame.py\u001b[0m in \u001b[0;36m_getitem_array\u001b[0;34m(self, key)\u001b[0m\n\u001b[1;32m   1998\u001b[0m             \u001b[0mkey\u001b[0m \u001b[0;34m=\u001b[0m \u001b[0mcheck_bool_indexer\u001b[0m\u001b[0;34m(\u001b[0m\u001b[0mself\u001b[0m\u001b[0;34m.\u001b[0m\u001b[0mindex\u001b[0m\u001b[0;34m,\u001b[0m \u001b[0mkey\u001b[0m\u001b[0;34m)\u001b[0m\u001b[0;34m\u001b[0m\u001b[0m\n\u001b[1;32m   1999\u001b[0m             \u001b[0mindexer\u001b[0m \u001b[0;34m=\u001b[0m \u001b[0mkey\u001b[0m\u001b[0;34m.\u001b[0m\u001b[0mnonzero\u001b[0m\u001b[0;34m(\u001b[0m\u001b[0;34m)\u001b[0m\u001b[0;34m[\u001b[0m\u001b[0;36m0\u001b[0m\u001b[0;34m]\u001b[0m\u001b[0;34m\u001b[0m\u001b[0m\n\u001b[0;32m-> 2000\u001b[0;31m             \u001b[0;32mreturn\u001b[0m \u001b[0mself\u001b[0m\u001b[0;34m.\u001b[0m\u001b[0mtake\u001b[0m\u001b[0;34m(\u001b[0m\u001b[0mindexer\u001b[0m\u001b[0;34m,\u001b[0m \u001b[0maxis\u001b[0m\u001b[0;34m=\u001b[0m\u001b[0;36m0\u001b[0m\u001b[0;34m,\u001b[0m \u001b[0mconvert\u001b[0m\u001b[0;34m=\u001b[0m\u001b[0;32mFalse\u001b[0m\u001b[0;34m)\u001b[0m\u001b[0;34m\u001b[0m\u001b[0m\n\u001b[0m\u001b[1;32m   2001\u001b[0m         \u001b[0;32melse\u001b[0m\u001b[0;34m:\u001b[0m\u001b[0;34m\u001b[0m\u001b[0m\n\u001b[1;32m   2002\u001b[0m             \u001b[0mindexer\u001b[0m \u001b[0;34m=\u001b[0m \u001b[0mself\u001b[0m\u001b[0;34m.\u001b[0m\u001b[0mloc\u001b[0m\u001b[0;34m.\u001b[0m\u001b[0m_convert_to_indexer\u001b[0m\u001b[0;34m(\u001b[0m\u001b[0mkey\u001b[0m\u001b[0;34m,\u001b[0m \u001b[0maxis\u001b[0m\u001b[0;34m=\u001b[0m\u001b[0;36m1\u001b[0m\u001b[0;34m)\u001b[0m\u001b[0;34m\u001b[0m\u001b[0m\n",
      "\u001b[0;32m/anaconda/lib/python3.6/site-packages/pandas/core/generic.py\u001b[0m in \u001b[0;36mtake\u001b[0;34m(self, indices, axis, convert, is_copy, **kwargs)\u001b[0m\n\u001b[1;32m   1926\u001b[0m         new_data = self._data.take(indices,\n\u001b[1;32m   1927\u001b[0m                                    \u001b[0maxis\u001b[0m\u001b[0;34m=\u001b[0m\u001b[0mself\u001b[0m\u001b[0;34m.\u001b[0m\u001b[0m_get_block_manager_axis\u001b[0m\u001b[0;34m(\u001b[0m\u001b[0maxis\u001b[0m\u001b[0;34m)\u001b[0m\u001b[0;34m,\u001b[0m\u001b[0;34m\u001b[0m\u001b[0m\n\u001b[0;32m-> 1928\u001b[0;31m                                    convert=True, verify=True)\n\u001b[0m\u001b[1;32m   1929\u001b[0m         \u001b[0mresult\u001b[0m \u001b[0;34m=\u001b[0m \u001b[0mself\u001b[0m\u001b[0;34m.\u001b[0m\u001b[0m_constructor\u001b[0m\u001b[0;34m(\u001b[0m\u001b[0mnew_data\u001b[0m\u001b[0;34m)\u001b[0m\u001b[0;34m.\u001b[0m\u001b[0m__finalize__\u001b[0m\u001b[0;34m(\u001b[0m\u001b[0mself\u001b[0m\u001b[0;34m)\u001b[0m\u001b[0;34m\u001b[0m\u001b[0m\n\u001b[1;32m   1930\u001b[0m \u001b[0;34m\u001b[0m\u001b[0m\n",
      "\u001b[0;32m/anaconda/lib/python3.6/site-packages/pandas/core/internals.py\u001b[0m in \u001b[0;36mtake\u001b[0;34m(self, indexer, axis, verify, convert)\u001b[0m\n\u001b[1;32m   4009\u001b[0m         \u001b[0mnew_labels\u001b[0m \u001b[0;34m=\u001b[0m \u001b[0mself\u001b[0m\u001b[0;34m.\u001b[0m\u001b[0maxes\u001b[0m\u001b[0;34m[\u001b[0m\u001b[0maxis\u001b[0m\u001b[0;34m]\u001b[0m\u001b[0;34m.\u001b[0m\u001b[0mtake\u001b[0m\u001b[0;34m(\u001b[0m\u001b[0mindexer\u001b[0m\u001b[0;34m)\u001b[0m\u001b[0;34m\u001b[0m\u001b[0m\n\u001b[1;32m   4010\u001b[0m         return self.reindex_indexer(new_axis=new_labels, indexer=indexer,\n\u001b[0;32m-> 4011\u001b[0;31m                                     axis=axis, allow_dups=True)\n\u001b[0m\u001b[1;32m   4012\u001b[0m \u001b[0;34m\u001b[0m\u001b[0m\n\u001b[1;32m   4013\u001b[0m     \u001b[0;32mdef\u001b[0m \u001b[0mmerge\u001b[0m\u001b[0;34m(\u001b[0m\u001b[0mself\u001b[0m\u001b[0;34m,\u001b[0m \u001b[0mother\u001b[0m\u001b[0;34m,\u001b[0m \u001b[0mlsuffix\u001b[0m\u001b[0;34m=\u001b[0m\u001b[0;34m''\u001b[0m\u001b[0;34m,\u001b[0m \u001b[0mrsuffix\u001b[0m\u001b[0;34m=\u001b[0m\u001b[0;34m''\u001b[0m\u001b[0;34m)\u001b[0m\u001b[0;34m:\u001b[0m\u001b[0;34m\u001b[0m\u001b[0m\n",
      "\u001b[0;32m/anaconda/lib/python3.6/site-packages/pandas/core/internals.py\u001b[0m in \u001b[0;36mreindex_indexer\u001b[0;34m(self, new_axis, indexer, axis, fill_value, allow_dups, copy)\u001b[0m\n\u001b[1;32m   3895\u001b[0m             new_blocks = [blk.take_nd(indexer, axis=axis, fill_tuple=(\n\u001b[1;32m   3896\u001b[0m                 fill_value if fill_value is not None else blk.fill_value,))\n\u001b[0;32m-> 3897\u001b[0;31m                 for blk in self.blocks]\n\u001b[0m\u001b[1;32m   3898\u001b[0m \u001b[0;34m\u001b[0m\u001b[0m\n\u001b[1;32m   3899\u001b[0m         \u001b[0mnew_axes\u001b[0m \u001b[0;34m=\u001b[0m \u001b[0mlist\u001b[0m\u001b[0;34m(\u001b[0m\u001b[0mself\u001b[0m\u001b[0;34m.\u001b[0m\u001b[0maxes\u001b[0m\u001b[0;34m)\u001b[0m\u001b[0;34m\u001b[0m\u001b[0m\n",
      "\u001b[0;32m/anaconda/lib/python3.6/site-packages/pandas/core/internals.py\u001b[0m in \u001b[0;36m<listcomp>\u001b[0;34m(.0)\u001b[0m\n\u001b[1;32m   3895\u001b[0m             new_blocks = [blk.take_nd(indexer, axis=axis, fill_tuple=(\n\u001b[1;32m   3896\u001b[0m                 fill_value if fill_value is not None else blk.fill_value,))\n\u001b[0;32m-> 3897\u001b[0;31m                 for blk in self.blocks]\n\u001b[0m\u001b[1;32m   3898\u001b[0m \u001b[0;34m\u001b[0m\u001b[0m\n\u001b[1;32m   3899\u001b[0m         \u001b[0mnew_axes\u001b[0m \u001b[0;34m=\u001b[0m \u001b[0mlist\u001b[0m\u001b[0;34m(\u001b[0m\u001b[0mself\u001b[0m\u001b[0;34m.\u001b[0m\u001b[0maxes\u001b[0m\u001b[0;34m)\u001b[0m\u001b[0;34m\u001b[0m\u001b[0m\n",
      "\u001b[0;32m/anaconda/lib/python3.6/site-packages/pandas/core/internals.py\u001b[0m in \u001b[0;36mtake_nd\u001b[0;34m(self, indexer, axis, new_mgr_locs, fill_tuple)\u001b[0m\n\u001b[1;32m   1044\u001b[0m             \u001b[0mfill_value\u001b[0m \u001b[0;34m=\u001b[0m \u001b[0mfill_tuple\u001b[0m\u001b[0;34m[\u001b[0m\u001b[0;36m0\u001b[0m\u001b[0;34m]\u001b[0m\u001b[0;34m\u001b[0m\u001b[0m\n\u001b[1;32m   1045\u001b[0m             new_values = algos.take_nd(values, indexer, axis=axis,\n\u001b[0;32m-> 1046\u001b[0;31m                                        allow_fill=True, fill_value=fill_value)\n\u001b[0m\u001b[1;32m   1047\u001b[0m \u001b[0;34m\u001b[0m\u001b[0m\n\u001b[1;32m   1048\u001b[0m         \u001b[0;32mif\u001b[0m \u001b[0mnew_mgr_locs\u001b[0m \u001b[0;32mis\u001b[0m \u001b[0;32mNone\u001b[0m\u001b[0;34m:\u001b[0m\u001b[0;34m\u001b[0m\u001b[0m\n",
      "\u001b[0;32m/anaconda/lib/python3.6/site-packages/pandas/core/algorithms.py\u001b[0m in \u001b[0;36mtake_nd\u001b[0;34m(arr, indexer, axis, out, fill_value, mask_info, allow_fill)\u001b[0m\n\u001b[1;32m   1407\u001b[0m         return arr.take_nd(indexer, fill_value=fill_value,\n\u001b[1;32m   1408\u001b[0m                            allow_fill=allow_fill)\n\u001b[0;32m-> 1409\u001b[0;31m     \u001b[0;32melif\u001b[0m \u001b[0mis_datetimetz\u001b[0m\u001b[0;34m(\u001b[0m\u001b[0marr\u001b[0m\u001b[0;34m)\u001b[0m\u001b[0;34m:\u001b[0m\u001b[0;34m\u001b[0m\u001b[0m\n\u001b[0m\u001b[1;32m   1410\u001b[0m         \u001b[0;32mreturn\u001b[0m \u001b[0marr\u001b[0m\u001b[0;34m.\u001b[0m\u001b[0mtake\u001b[0m\u001b[0;34m(\u001b[0m\u001b[0mindexer\u001b[0m\u001b[0;34m,\u001b[0m \u001b[0mfill_value\u001b[0m\u001b[0;34m=\u001b[0m\u001b[0mfill_value\u001b[0m\u001b[0;34m,\u001b[0m \u001b[0mallow_fill\u001b[0m\u001b[0;34m=\u001b[0m\u001b[0mallow_fill\u001b[0m\u001b[0;34m)\u001b[0m\u001b[0;34m\u001b[0m\u001b[0m\n\u001b[1;32m   1411\u001b[0m     \u001b[0;32melif\u001b[0m \u001b[0mis_interval_dtype\u001b[0m\u001b[0;34m(\u001b[0m\u001b[0marr\u001b[0m\u001b[0;34m)\u001b[0m\u001b[0;34m:\u001b[0m\u001b[0;34m\u001b[0m\u001b[0m\n",
      "\u001b[0;32m/anaconda/lib/python3.6/site-packages/pandas/core/dtypes/common.py\u001b[0m in \u001b[0;36mis_datetimetz\u001b[0;34m(arr)\u001b[0m\n\u001b[1;32m    261\u001b[0m     \u001b[0;31m# It seems like a repeat of is_datetime64tz_dtype.\u001b[0m\u001b[0;34m\u001b[0m\u001b[0;34m\u001b[0m\u001b[0m\n\u001b[1;32m    262\u001b[0m \u001b[0;34m\u001b[0m\u001b[0m\n\u001b[0;32m--> 263\u001b[0;31m     return ((isinstance(arr, ABCDatetimeIndex) and\n\u001b[0m\u001b[1;32m    264\u001b[0m              getattr(arr, 'tz', None) is not None) or\n\u001b[1;32m    265\u001b[0m             is_datetime64tz_dtype(arr))\n",
      "\u001b[0;32m/anaconda/lib/python3.6/site-packages/pandas/core/dtypes/generic.py\u001b[0m in \u001b[0;36m_check\u001b[0;34m(cls, inst)\u001b[0m\n\u001b[1;32m      5\u001b[0m \u001b[0;31m# objects\u001b[0m\u001b[0;34m\u001b[0m\u001b[0;34m\u001b[0m\u001b[0m\n\u001b[1;32m      6\u001b[0m \u001b[0;32mdef\u001b[0m \u001b[0mcreate_pandas_abc_type\u001b[0m\u001b[0;34m(\u001b[0m\u001b[0mname\u001b[0m\u001b[0;34m,\u001b[0m \u001b[0mattr\u001b[0m\u001b[0;34m,\u001b[0m \u001b[0mcomp\u001b[0m\u001b[0;34m)\u001b[0m\u001b[0;34m:\u001b[0m\u001b[0;34m\u001b[0m\u001b[0m\n\u001b[0;32m----> 7\u001b[0;31m     \u001b[0;34m@\u001b[0m\u001b[0mclassmethod\u001b[0m\u001b[0;34m\u001b[0m\u001b[0m\n\u001b[0m\u001b[1;32m      8\u001b[0m     \u001b[0;32mdef\u001b[0m \u001b[0m_check\u001b[0m\u001b[0;34m(\u001b[0m\u001b[0mcls\u001b[0m\u001b[0;34m,\u001b[0m \u001b[0minst\u001b[0m\u001b[0;34m)\u001b[0m\u001b[0;34m:\u001b[0m\u001b[0;34m\u001b[0m\u001b[0m\n\u001b[1;32m      9\u001b[0m         \u001b[0;32mreturn\u001b[0m \u001b[0mgetattr\u001b[0m\u001b[0;34m(\u001b[0m\u001b[0minst\u001b[0m\u001b[0;34m,\u001b[0m \u001b[0mattr\u001b[0m\u001b[0;34m,\u001b[0m \u001b[0;34m'_typ'\u001b[0m\u001b[0;34m)\u001b[0m \u001b[0;32min\u001b[0m \u001b[0mcomp\u001b[0m\u001b[0;34m\u001b[0m\u001b[0m\n",
      "\u001b[0;31mKeyboardInterrupt\u001b[0m: "
     ]
    }
   ],
   "source": [
    "str_vec = random_config_hybrid(structure, str_clusters, 340, penalty, max_try = 100)"
   ]
  },
  {
   "cell_type": "code",
   "execution_count": null,
   "metadata": {},
   "outputs": [],
   "source": [
    "np.sum(str_vec)"
   ]
  },
  {
   "cell_type": "code",
   "execution_count": null,
   "metadata": {},
   "outputs": [],
   "source": [
    "cal_penalty(str_vec,structure, str_clusters, penalty)"
   ]
  },
  {
   "cell_type": "code",
   "execution_count": 162,
   "metadata": {
    "collapsed": true
   },
   "outputs": [],
   "source": [
    "d1 = titrate_config_one_group(str_vec, structure, str_clusters, cluster_type_dict, counting_types=['2-9','2-10','2-20','2-23'])"
   ]
  },
  {
   "cell_type": "code",
   "execution_count": 163,
   "metadata": {
    "collapsed": true
   },
   "outputs": [],
   "source": [
    "d2 = titrate_config_multi_groups(str_vec, structure, str_clusters, cluster_type_dict, counting_groups=[['2-9','2-10','2-20','2-23']], repeat_num = 10)"
   ]
  },
  {
   "cell_type": "code",
   "execution_count": 164,
   "metadata": {},
   "outputs": [
    {
     "data": {
      "text/plain": [
       "[60, 60, 60, 60, 60, 60, 60, 60, 60, 60]"
      ]
     },
     "execution_count": 164,
     "metadata": {},
     "output_type": "execute_result"
    }
   ],
   "source": [
    "d2['2-9']"
   ]
  },
  {
   "cell_type": "code",
   "execution_count": 165,
   "metadata": {},
   "outputs": [
    {
     "data": {
      "text/plain": [
       "[47, 47, 47, 47, 47, 47, 47, 47, 47, 47]"
      ]
     },
     "execution_count": 165,
     "metadata": {},
     "output_type": "execute_result"
    }
   ],
   "source": [
    "d2['2-10']"
   ]
  },
  {
   "cell_type": "markdown",
   "metadata": {},
   "source": [
    "#### generate multiple random structure configurations for one compositions"
   ]
  },
  {
   "cell_type": "code",
   "execution_count": 166,
   "metadata": {},
   "outputs": [
    {
     "name": "stdout",
     "output_type": "stream",
     "text": [
      "mkdir: CHA/random_configs: File exists\n",
      "mkdir: CHA/random_configs/xyzs: File exists\n",
      "mkdir: CHA/random_configs/images: File exists\n"
     ]
    }
   ],
   "source": [
    "#need to FERnge path before running the following command\n",
    "!mkdir FER/random_configs\n",
    "!mkdir FER/random_configs/xyzs\n",
    "!mkdir FER/random_configs/images"
   ]
  },
  {
   "cell_type": "code",
   "execution_count": 167,
   "metadata": {
    "collapsed": true
   },
   "outputs": [],
   "source": [
    "%run helper_functions.py"
   ]
  },
  {
   "cell_type": "code",
   "execution_count": 186,
   "metadata": {
    "collapsed": true
   },
   "outputs": [],
   "source": [
    "str_vecs = random_config_mult(structure, str_clusters, 250, penalty, 10, vis=1, folder_path=folder_path, max_try = 100)"
   ]
  },
  {
   "cell_type": "code",
   "execution_count": null,
   "metadata": {
    "collapsed": true
   },
   "outputs": [],
   "source": [
    "c= read(folder_path+'/random_configs/images/config-9.xyz')\n",
    "view(c)"
   ]
  },
  {
   "cell_type": "markdown",
   "metadata": {},
   "source": [
    "## FER"
   ]
  },
  {
   "cell_type": "markdown",
   "metadata": {},
   "source": [
    "\n",
    "\n",
    "#### count clusters for multiple configurations"
   ]
  },
  {
   "cell_type": "code",
   "execution_count": 169,
   "metadata": {
    "collapsed": true
   },
   "outputs": [],
   "source": [
    "%run helper_functions.py"
   ]
  },
  {
   "cell_type": "code",
   "execution_count": 188,
   "metadata": {
    "collapsed": true
   },
   "outputs": [],
   "source": [
    "count_results = count_clusters_multi_configs(str_vecs, structure, str_clusters, counting_types=['2-7','2-11'],excluding_types=['3-6'])"
   ]
  },
  {
   "cell_type": "markdown",
   "metadata": {},
   "source": [
    "#### titrate clusters for multiple configurations"
   ]
  },
  {
   "cell_type": "code",
   "execution_count": 172,
   "metadata": {
    "collapsed": true
   },
   "outputs": [],
   "source": [
    "%run helper_functions.py"
   ]
  },
  {
   "cell_type": "code",
   "execution_count": 194,
   "metadata": {
    "collapsed": true
   },
   "outputs": [],
   "source": [
    "titrate_clusters = titrate_clusters_multi_configs(str_vecs, structure, str_clusters, cluster_type_dict, counting_groups=[['2-7', '2-11']], excluding_types=['3-6'], titrate_num=1)"
   ]
  },
  {
   "cell_type": "markdown",
   "metadata": {},
   "source": [
    "#### count for all Al"
   ]
  },
  {
   "cell_type": "code",
   "execution_count": 136,
   "metadata": {},
   "outputs": [
    {
     "data": {
      "text/plain": [
       "<matplotlib.figure.Figure at 0x12147ffd0>"
      ]
     },
     "metadata": {},
     "output_type": "display_data"
    }
   ],
   "source": [
    "%run helper_functions.py"
   ]
  },
  {
   "cell_type": "code",
   "execution_count": 68,
   "metadata": {},
   "outputs": [
    {
     "data": {
      "text/plain": [
       "576"
      ]
     },
     "execution_count": 68,
     "metadata": {},
     "output_type": "execute_result"
    }
   ],
   "source": [
    "len(structure['str_sites'][structure['str_sites'].multi_atoms == True].index)"
   ]
  },
  {
   "cell_type": "code",
   "execution_count": 69,
   "metadata": {
    "collapsed": true
   },
   "outputs": [],
   "source": [
    "str_vecs = random_config_mult(structure, str_clusters, 576, penalty={}, config_num=1, max_try = 100)"
   ]
  },
  {
   "cell_type": "code",
   "execution_count": 70,
   "metadata": {
    "collapsed": true
   },
   "outputs": [],
   "source": [
    "#count for all Al\n",
    "counting_types = ['2-6', '2-7', '2-9', '2-10', '2-20', '2-23']\n",
    "\n",
    "all_al_count_result = count_clusters_multi_configs(str_vecs, structure, str_clusters, counting_types=counting_types)\n",
    "values1 = [np.mean(all_al_count_result[t])/576 for t in counting_types]\n",
    "errors1 = [np.std(all_al_count_result[t]) for t in counting_types]"
   ]
  },
  {
   "cell_type": "code",
   "execution_count": 72,
   "metadata": {},
   "outputs": [
    {
     "data": {
      "image/png": "[encoded data removed]",
      "text/plain": [
       "<matplotlib.figure.Figure at 0x11fc2e2b0>"
      ]
     },
     "metadata": {},
     "output_type": "display_data"
    }
   ],
   "source": [
    "plot_one_bar_chart(folder_path+'/all_al_count.png',counting_types, values1, ylabel='count/Al', label='all Al')"
   ]
  },
  {
   "cell_type": "markdown",
   "metadata": {},
   "source": [
    "#### rules(no 1NN) vs no rules"
   ]
  },
  {
   "cell_type": "code",
   "execution_count": 73,
   "metadata": {},
   "outputs": [
    {
     "data": {
      "text/plain": [
       "{'2-1': 1,\n",
       " '2-2': 1,\n",
       " '2-3': 1,\n",
       " '2-4': 1,\n",
       " '2-5': 1,\n",
       " '2-6': 1,\n",
       " '2-7': 1,\n",
       " '2-8': 1}"
      ]
     },
     "execution_count": 73,
     "metadata": {},
     "output_type": "execute_result"
    }
   ],
   "source": [
    "penalty"
   ]
  },
  {
   "cell_type": "code",
   "execution_count": null,
   "metadata": {
    "collapsed": true
   },
   "outputs": [],
   "source": [
    "#Si/Al = 4"
   ]
  },
  {
   "cell_type": "code",
   "execution_count": 97,
   "metadata": {},
   "outputs": [],
   "source": [
    "str_vecs_no_1NN = random_config_mult(structure, str_clusters, 115, penalty=penalty, config_num=100, max_try = 100)"
   ]
  },
  {
   "cell_type": "code",
   "execution_count": 98,
   "metadata": {
    "collapsed": true
   },
   "outputs": [],
   "source": [
    "str_vecs_no_rules = random_config_mult(structure, str_clusters, 115, penalty={}, config_num=100, max_try = 100)"
   ]
  },
  {
   "cell_type": "code",
   "execution_count": 99,
   "metadata": {
    "collapsed": true
   },
   "outputs": [],
   "source": [
    "count_results_no_1NN = count_clusters_multi_configs(str_vecs_no_1NN, structure, str_clusters, counting_types=counting_types)"
   ]
  },
  {
   "cell_type": "code",
   "execution_count": 100,
   "metadata": {
    "collapsed": true
   },
   "outputs": [],
   "source": [
    "count_results_no_rules = count_clusters_multi_configs(str_vecs_no_rules, structure, str_clusters, counting_types=counting_types)"
   ]
  },
  {
   "cell_type": "code",
   "execution_count": 125,
   "metadata": {
    "collapsed": true
   },
   "outputs": [],
   "source": [
    "count_results_no_rules['Al-Al in 6-membered ring'] = []\n",
    "for i in range(100):\n",
    "    total = 0\n",
    "    for t in counting_types:\n",
    "        total += count_results_no_rules[t][i]\n",
    "    count_results_no_rules['Al-Al in 6-membered ring'].append(total)"
   ]
  },
  {
   "cell_type": "code",
   "execution_count": 128,
   "metadata": {
    "collapsed": true
   },
   "outputs": [],
   "source": [
    "count_results_no_1NN['Al-Al in 6-membered ring'] = []\n",
    "for i in range(100):\n",
    "    total = 0\n",
    "    for t in counting_types:\n",
    "        total += count_results_no_1NN[t][i]\n",
    "    count_results_no_1NN['Al-Al in 6-membered ring'].append(total)"
   ]
  },
  {
   "cell_type": "code",
   "execution_count": 129,
   "metadata": {
    "collapsed": true
   },
   "outputs": [],
   "source": [
    "values1 = [np.mean(count_results_no_rules['Al-Al in 6-membered ring'])/115]\n",
    "errors1 = [np.std(count_results_no_rules['Al-Al in 6-membered ring'])/115]\n",
    "values2 = [np.mean(count_results_no_1NN['Al-Al in 6-membered ring'])/115]\n",
    "errors2 = [np.std(count_results_no_1NN['Al-Al in 6-membered ring'])/115]"
   ]
  },
  {
   "cell_type": "code",
   "execution_count": 137,
   "metadata": {},
   "outputs": [
    {
     "data": {
      "image/png": "[encoded data removed]",
      "text/plain": [
       "<matplotlib.figure.Figure at 0x12219f4e0>"
      ]
     },
     "metadata": {},
     "output_type": "display_data"
    }
   ],
   "source": [
    "plot_two_bar_charts(folder_path+'/rules vs no rules.png', ['Al-Al in 6-membered ring'], values1, values2, errors1, errors2, ylabel='Al-Al in 6-membered rings', label1='no 1NN', label2='no rules')"
   ]
  },
  {
   "cell_type": "markdown",
   "metadata": {},
   "source": [
    "#### count vs titrate"
   ]
  },
  {
   "cell_type": "code",
   "execution_count": 104,
   "metadata": {
    "collapsed": true
   },
   "outputs": [],
   "source": [
    "counting_types = ['2-6', '2-7', '2-9', '2-10', '2-20', '2-23']"
   ]
  },
  {
   "cell_type": "code",
   "execution_count": 114,
   "metadata": {},
   "outputs": [
    {
     "data": {
      "text/plain": [
       "100"
      ]
     },
     "execution_count": 114,
     "metadata": {},
     "output_type": "execute_result"
    }
   ],
   "source": [
    "len(str_vecs_no_rules)"
   ]
  },
  {
   "cell_type": "code",
   "execution_count": 106,
   "metadata": {},
   "outputs": [],
   "source": [
    "titrate_result = titrate_clusters_multi_configs(str_vecs_no_rules, structure, str_clusters, cluster_type_dict, counting_groups=[['2-6', '2-7', '2-9', '2-10', '2-20', '2-23']], titrate_num=100)"
   ]
  },
  {
   "cell_type": "code",
   "execution_count": 124,
   "metadata": {},
   "outputs": [],
   "source": [
    "titrate_result['Al-Al in 6-membered ring'] = []\n",
    "for i in range(100):\n",
    "    total = 0\n",
    "    for t in counting_types:\n",
    "        total += titrate_result[t][i]\n",
    "    titrate_result['Al-Al in 6-membered ring'].append(total)"
   ]
  },
  {
   "cell_type": "code",
   "execution_count": 126,
   "metadata": {
    "collapsed": true
   },
   "outputs": [],
   "source": [
    "values1 = [np.mean(count_results_no_rules['Al-Al in 6-membered ring'])/115]\n",
    "errors1 = [np.std(count_results_no_rules['Al-Al in 6-membered ring'])/115]\n",
    "values2 = [np.mean(titrate_result['Al-Al in 6-membered ring'])/115]\n",
    "errors2 = [np.std(titrate_result['Al-Al in 6-membered ring'])/115]"
   ]
  },
  {
   "cell_type": "code",
   "execution_count": 127,
   "metadata": {},
   "outputs": [
    {
     "data": {
      "image/png": "[encoded data removed]",
      "text/plain": [
       "<matplotlib.figure.Figure at 0x121352320>"
      ]
     },
     "metadata": {},
     "output_type": "display_data"
    }
   ],
   "source": [
    "plot_two_bar_charts(folder_path+'/count vs titrate.png', ['Al-Al in 6-membered ring'], values1, values2, errors1, errors2, ylabel='count', label1='count', label2='titrate')"
   ]
  },
  {
   "cell_type": "markdown",
   "metadata": {},
   "source": [
    "#### composition"
   ]
  },
  {
   "cell_type": "code",
   "execution_count": null,
   "metadata": {
    "collapsed": true
   },
   "outputs": [],
   "source": [
    "Si_Al_ratios = [2.5, 5, 7.5, 10, 15, 20, 25, 30, 35, 40]\n",
    "Al_ratios = [1/(1+x) for x in Si_Al_ratios]\n",
    "Al_nums = [int(Al_ratio*len(structure['str_sites'][structure['str_sites'].multi_atoms == True].index)) for Al_ratio in Al_ratios]"
   ]
  },
  {
   "cell_type": "code",
   "execution_count": null,
   "metadata": {
    "collapsed": true
   },
   "outputs": [],
   "source": [
    "values_fer = []\n",
    "errors_fer = []\n",
    "for i in range(10):\n",
    "    filename = folder_path+'/jobs/titrate_results_{}.p'.format(i+1)\n",
    "    titrate_result = pickle.load(open(filename, 'rb'))\n",
    "    t = [titrate_result['2-6'][i] + titrate_results['2-7'][i] + titrate_result['2-9'][i] + titrate_results['2-10'][i]+ titrate_result['2-20'][i] + titrate_results['2-23'][i] for i in range(len(titrate_result['2-6']))]\n",
    "    values_fer.append(np.mean(t))\n",
    "    errors_fer.append(np.std(t))"
   ]
  },
  {
   "cell_type": "code",
   "execution_count": null,
   "metadata": {
    "collapsed": true
   },
   "outputs": [],
   "source": []
  },
  {
   "cell_type": "code",
   "execution_count": null,
   "metadata": {
    "collapsed": true
   },
   "outputs": [],
   "source": []
  },
  {
   "cell_type": "markdown",
   "metadata": {},
   "source": [
    "#### jobs"
   ]
  },
  {
   "cell_type": "code",
   "execution_count": 77,
   "metadata": {
    "collapsed": true
   },
   "outputs": [],
   "source": [
    "import pickle"
   ]
  },
  {
   "cell_type": "code",
   "execution_count": 79,
   "metadata": {
    "collapsed": true
   },
   "outputs": [],
   "source": [
    "!mkdir FER/jobs"
   ]
  },
  {
   "cell_type": "code",
   "execution_count": 80,
   "metadata": {},
   "outputs": [],
   "source": [
    "pickle.dump(lattice, open(folder_path+'/jobs/lattice.p','wb'))"
   ]
  },
  {
   "cell_type": "code",
   "execution_count": 81,
   "metadata": {
    "collapsed": true
   },
   "outputs": [],
   "source": [
    "pickle.dump(structure, open(folder_path+'/jobs/structure.p','wb'))"
   ]
  },
  {
   "cell_type": "code",
   "execution_count": 82,
   "metadata": {
    "collapsed": true
   },
   "outputs": [],
   "source": [
    "pickle.dump(lat_clusters, open(folder_path+'/jobs/lat_clusters.p','wb'))\n",
    "pickle.dump(str_clusters, open(folder_path+'/jobs/str_clusters.p','wb'))"
   ]
  },
  {
   "cell_type": "code",
   "execution_count": 89,
   "metadata": {
    "collapsed": true
   },
   "outputs": [],
   "source": [
    "pickle.dump(penalty, open(folder_path+'/jobs/penalty.p', 'wb'))"
   ]
  },
  {
   "cell_type": "code",
   "execution_count": 90,
   "metadata": {
    "collapsed": true
   },
   "outputs": [],
   "source": [
    "py_template = '''import pandas as pd\n",
    "import numpy as np\n",
    "import copy\n",
    "from math import *\n",
    "import os\n",
    "import random\n",
    "from collections import defaultdict\n",
    "import csv\n",
    "from functools import reduce\n",
    "from copy import deepcopy\n",
    "import pickle\n",
    "from timeit import default_timer as timer\n",
    "from matplotlib import pyplot as plt\n",
    "from ase import Atoms\n",
    "from ase.io import read\n",
    "from ase.io import write\n",
    "from ase.visualize import view\n",
    "import itertools\n",
    "\n",
    "from helper_functions import *\n",
    "\n",
    "lattice = pickle.load(open('lattice.p','rb'))\n",
    "structure = pickle.load(open('structure.p','rb'))\n",
    "lat_clusters = pickle.load(open('lat_clusters.p','rb'))\n",
    "str_clusters = pickle.load(open('str_clusters.p','rb'))\n",
    "penalty = pickle.load(open('penalty.p','rb'))\n",
    "Al_num = {0}\n",
    "cluster_type_dict = prepare_cluster_type_dict(str_clusters)\n",
    "\n",
    "str_vecs = random_config_mult(structure, str_clusters, Al_num, penalty, 100, max_try = 1000)\n",
    "titrate_results = titrate_clusters_multi_configs(str_vecs, structure, str_clusters, cluster_type_dict, counting_groups=[['2-6', '2-7', '2-9', '2-10', '2-20', '2-23']], excluding_types=['3-44'], titrate_num=1)\n",
    "pickle.dump(dict(titrate_results), open('titrate_results_{1}.p', 'wb'))\n",
    "'''"
   ]
  },
  {
   "cell_type": "code",
   "execution_count": 91,
   "metadata": {},
   "outputs": [
    {
     "data": {
      "text/plain": [
       "[164, 96, 67, 52, 36, 27, 22, 18, 16, 14]"
      ]
     },
     "execution_count": 91,
     "metadata": {},
     "output_type": "execute_result"
    }
   ],
   "source": [
    "Al_nums"
   ]
  },
  {
   "cell_type": "code",
   "execution_count": 92,
   "metadata": {
    "collapsed": true
   },
   "outputs": [],
   "source": [
    "for i, ratio in enumerate(Si_Al_ratios):\n",
    "    filename = folder_path+'/jobs/J{}.py'.format(i+1)\n",
    "    if os.path.isfile(filename):\n",
    "        os.remove(filename)\n",
    "    with open(filename, 'a') as file:\n",
    "        file.write(py_template.format(Al_nums[i], i+1))"
   ]
  },
  {
   "cell_type": "code",
   "execution_count": 93,
   "metadata": {
    "collapsed": true
   },
   "outputs": [],
   "source": [
    "qscript_template = '''#!/bin/bash\n",
    "#$ -q *@@crc\n",
    "#$ -pe smp 2\n",
    "python J{}.py\n",
    "'''"
   ]
  },
  {
   "cell_type": "code",
   "execution_count": 94,
   "metadata": {
    "collapsed": true
   },
   "outputs": [],
   "source": [
    "for i, ratio in enumerate(Si_Al_ratios):\n",
    "    filename = folder_path+'/jobs/J{}.sh'.format(i+1)\n",
    "    if os.path.isfile(filename):\n",
    "        os.remove(filename)\n",
    "    with open(filename, 'a') as file:\n",
    "        file.write(qscript_template.format(i+1))"
   ]
  },
  {
   "cell_type": "code",
   "execution_count": 95,
   "metadata": {
    "collapsed": true
   },
   "outputs": [],
   "source": [
    "titrate_results = []"
   ]
  },
  {
   "cell_type": "code",
   "execution_count": 96,
   "metadata": {},
   "outputs": [
    {
     "ename": "FileNotFoundError",
     "evalue": "[Errno 2] No such file or directory: 'FER/jobs/titrate_results_1.p'",
     "output_type": "error",
     "traceback": [
      "\u001b[0;31m---------------------------------------------------------------------------\u001b[0m",
      "\u001b[0;31mFileNotFoundError\u001b[0m                         Traceback (most recent call last)",
      "\u001b[0;32m<ipython-input-96-a6b86ae57ecc>\u001b[0m in \u001b[0;36m<module>\u001b[0;34m()\u001b[0m\n\u001b[1;32m      1\u001b[0m \u001b[0;32mfor\u001b[0m \u001b[0mi\u001b[0m \u001b[0;32min\u001b[0m \u001b[0mrange\u001b[0m\u001b[0;34m(\u001b[0m\u001b[0;36m1\u001b[0m\u001b[0;34m)\u001b[0m\u001b[0;34m:\u001b[0m\u001b[0;34m\u001b[0m\u001b[0m\n\u001b[1;32m      2\u001b[0m     \u001b[0mfilename\u001b[0m \u001b[0;34m=\u001b[0m \u001b[0mfolder_path\u001b[0m\u001b[0;34m+\u001b[0m\u001b[0;34m'/jobs/titrate_results_{}.p'\u001b[0m\u001b[0;34m.\u001b[0m\u001b[0mformat\u001b[0m\u001b[0;34m(\u001b[0m\u001b[0mi\u001b[0m\u001b[0;34m+\u001b[0m\u001b[0;36m1\u001b[0m\u001b[0;34m)\u001b[0m\u001b[0;34m\u001b[0m\u001b[0m\n\u001b[0;32m----> 3\u001b[0;31m     \u001b[0mtitrate_result\u001b[0m \u001b[0;34m=\u001b[0m \u001b[0mpickle\u001b[0m\u001b[0;34m.\u001b[0m\u001b[0mload\u001b[0m\u001b[0;34m(\u001b[0m\u001b[0mopen\u001b[0m\u001b[0;34m(\u001b[0m\u001b[0mfilename\u001b[0m\u001b[0;34m,\u001b[0m \u001b[0;34m'rb'\u001b[0m\u001b[0;34m)\u001b[0m\u001b[0;34m)\u001b[0m\u001b[0;34m\u001b[0m\u001b[0m\n\u001b[0m\u001b[1;32m      4\u001b[0m     \u001b[0mtirate_results\u001b[0m\u001b[0;34m.\u001b[0m\u001b[0mappend\u001b[0m\u001b[0;34m(\u001b[0m\u001b[0mtitrate_result\u001b[0m\u001b[0;34m)\u001b[0m\u001b[0;34m\u001b[0m\u001b[0m\n",
      "\u001b[0;31mFileNotFoundError\u001b[0m: [Errno 2] No such file or directory: 'FER/jobs/titrate_results_1.p'"
     ]
    }
   ],
   "source": [
    "for i in range(1):\n",
    "    filename = folder_path+'/jobs/titrate_results_{}.p'.format(i+1)\n",
    "    titrate_result = pickle.load(open(filename, 'rb'))\n",
    "    tirate_results.append(titrate_result)"
   ]
  },
  {
   "cell_type": "code",
   "execution_count": 232,
   "metadata": {},
   "outputs": [
    {
     "data": {
      "text/plain": [
       "[]"
      ]
     },
     "execution_count": 232,
     "metadata": {},
     "output_type": "execute_result"
    }
   ],
   "source": [
    "titrate_results"
   ]
  },
  {
   "cell_type": "code",
   "execution_count": null,
   "metadata": {
    "collapsed": true
   },
   "outputs": [],
   "source": [
    "titrate_results_1 = pickle"
   ]
  }
 ],
 "metadata": {
  "kernelspec": {
   "display_name": "Python 3",
   "language": "python",
   "name": "python3"
  },
  "language_info": {
   "codemirror_mode": {
    "name": "ipython",
    "version": 3
   },
   "file_extension": ".py",
   "mimetype": "text/x-python",
   "name": "python",
   "nbconvert_exporter": "python",
   "pygments_lexer": "ipython3",
   "version": "3.6.1"
  }
 },
 "nbformat": 4,
 "nbformat_minor": 2
}
