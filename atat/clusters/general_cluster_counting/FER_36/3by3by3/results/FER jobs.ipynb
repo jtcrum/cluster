{
 "cells": [
  {
   "cell_type": "markdown",
   "metadata": {},
   "source": [
    "### Before start, please replace every folder path"
   ]
  },
  {
   "cell_type": "code",
   "execution_count": 1,
   "metadata": {
    "collapsed": true
   },
   "outputs": [],
   "source": [
    "import pandas as pd\n",
    "import numpy as np\n",
    "import copy\n",
    "from math import *\n",
    "import os\n",
    "import random\n",
    "from collections import defaultdict\n",
    "import csv\n",
    "from functools import reduce\n",
    "from copy import deepcopy\n",
    "import pickle\n",
    "from timeit import default_timer as timer\n",
    "from matplotlib import pyplot as plt\n",
    "from ase import Atoms\n",
    "from ase.io import read\n",
    "from ase.io import write\n",
    "from ase.visualize import view\n",
    "import itertools\n",
    "import time\n",
    "\n",
    "%matplotlib inline\n",
    "\n",
    "pd.set_option('display.max_columns', 500)"
   ]
  },
  {
   "cell_type": "markdown",
   "metadata": {
    "collapsed": true
   },
   "source": [
    "#### panalty vs time for different penalty factor"
   ]
  },
  {
   "cell_type": "code",
   "execution_count": 15,
   "metadata": {
    "collapsed": false
   },
   "outputs": [],
   "source": [
    "from utilities import *\n",
    "from classes import *\n",
    "\n",
    "lattice=pickle.load(open('no1NN_T4frac50/lattice.p','rb'))\n",
    "structure=pickle.load(open('no1NN_T4frac50/structure.p','rb'))\n",
    "penalty=pickle.load(open('no1NN_T4frac50/penalty.p', 'rb'))"
   ]
  },
  {
   "cell_type": "code",
   "execution_count": 11,
   "metadata": {
    "collapsed": true
   },
   "outputs": [],
   "source": [
    "swap_str_vec_py_template = '''import pandas as pd\n",
    "import numpy as np\n",
    "import copy\n",
    "from math import *\n",
    "import os\n",
    "import random\n",
    "from collections import defaultdict\n",
    "import csv\n",
    "from functools import reduce\n",
    "from copy import deepcopy\n",
    "import pickle\n",
    "from timeit import default_timer as timer\n",
    "from matplotlib import pyplot as plt\n",
    "from ase import Atoms\n",
    "from ase.io import read\n",
    "from ase.io import write\n",
    "from ase.visualize import view\n",
    "import itertools\n",
    "import time\n",
    "\n",
    "from utilities import *\n",
    "from classes import *\n",
    "\n",
    "lattice=pickle.load(open('lattice.p','rb'))\n",
    "structure=pickle.load(open('structure.p','rb'))\n",
    "penalty=pickle.load(open('penalty.p', 'rb'))\n",
    "Al_num = 243\n",
    "num_vecs = 1\n",
    "num_steps = 1000000\n",
    "penalty_factor = {0}\n",
    "\n",
    "str_vecs = structure.random_config_swap(atom_num=Al_num, penalty=penalty, num_vecs=num_vecs, num_step=num_steps, burn_in_period=0, ptfile='f20')\n",
    "\n",
    "\n",
    "'''"
   ]
  },
  {
   "cell_type": "code",
   "execution_count": 12,
   "metadata": {
    "collapsed": true
   },
   "outputs": [],
   "source": [
    "swap_qscript_template = '''#!/bin/bash\n",
    "#$ -q *@@crc\n",
    "#$ -pe smp 1\n",
    "python J_swap_pt.py\n",
    "'''"
   ]
  },
  {
   "cell_type": "code",
   "execution_count": 13,
   "metadata": {
    "collapsed": false
   },
   "outputs": [],
   "source": [
    "filename = 'no1NN/J_swap_pt.py'\n",
    "with open(filename, 'w+') as file:\n",
    "    file.write(swap_str_vec_py_template)\n",
    "filename = 'no1NN/J_swap_pt.sh'\n",
    "with open(filename, 'w+') as file:\n",
    "    file.write(swap_qscript_template)"
   ]
  },
  {
   "cell_type": "markdown",
   "metadata": {},
   "source": [
    "#### swap with 5000 iterations no 1NN"
   ]
  },
  {
   "cell_type": "code",
   "execution_count": 216,
   "metadata": {
    "collapsed": true
   },
   "outputs": [],
   "source": [
    "no1NN_py_template = '''import pandas as pd\n",
    "import numpy as np\n",
    "import copy\n",
    "from math import *\n",
    "import os\n",
    "import random\n",
    "from collections import defaultdict\n",
    "import csv\n",
    "from functools import reduce\n",
    "from copy import deepcopy\n",
    "import pickle\n",
    "from timeit import default_timer as timer\n",
    "from matplotlib import pyplot as plt\n",
    "from ase import Atoms\n",
    "from ase.io import read\n",
    "from ase.io import write\n",
    "from ase.visualize import view\n",
    "import itertools\n",
    "import time\n",
    "\n",
    "from utilities import *\n",
    "from classes import *\n",
    "\n",
    "lattice=pickle.load(open('lattice.p','rb'))\n",
    "structure=pickle.load(open('structure.p','rb'))\n",
    "penalty=pickle.load(open('penalty.p', 'rb'))\n",
    "\n",
    "Al_num = int(round(1/(1+{1})*972))\n",
    "num_vecs = 1\n",
    "num_steps = 5010\n",
    "penalty_factor = 1\n",
    "prob = dict()\n",
    "prob['4']={0}/100\n",
    "\n",
    "str_vecs = []\n",
    "for i in range(20):\n",
    "    str_vec = structure.random_config_swap(atom_num=Al_num, prob=prob, penalty=penalty, num_vecs=num_vecs, num_step=num_steps, burn_in_period=5000)[0]\n",
    "    str_vecs.append(str_vec)\n",
    "    \n",
    "pickle.dump(str_vecs, open('swap_str_vecs_no1NNnoT4T4_T4frac{0}_{1}_{2}.p','wb'))\n",
    "    \n",
    "titrate_result = structure.titrate_clusters_multi_configs(str_vecs, titration_groups=[['2-27', '2-20']],titrate_num=100)\n",
    "final_result = dict()\n",
    "final_result['2-27'] = titrate_result['2-27']\n",
    "final_result['2-20'] = titrate_result['2-20']\n",
    "pickle.dump(final_result, open('swap_no1NNnoT4T4_T4frac{0}_titration_T4T4_T1T4_{1}_{2}.p','wb'))\n",
    "\n",
    "\n",
    "exc3Al_result3 = structure.titrate_clusters_multi_configs(str_vecs, titration_groups=[['2-27', '2-20']],excluding_types=['3-44'], titrate_num=1)\n",
    "final_result3 = dict()\n",
    "final_result3['2-27'] = exc3Al_result3['2-27']\n",
    "final_result3['2-20'] = exc3Al_result3['2-20']\n",
    "pickle.dump(final_result3, open('swap_no1NNnoT4T4_T4frac{0}_titration_T4T4_T1T4_EX3Al_{1}_{2}.p','wb'))\n",
    "\n",
    "\n",
    "counting_types = ['1-1','1-2','1-3','1-4','2-20','2-27']\n",
    "count_result = structure.count_clusters_multi_configs(str_vecs, counting_types=counting_types)\n",
    "count_final_result = dict()\n",
    "for t in counting_types:\n",
    "    count_final_result[t] = count_result[t]\n",
    "pickle.dump(count_final_result, open('swap_no1NNnoT4T4_T4frac{0}_count_T4T4_T1T4_{1}_{2}.p','wb'))\n",
    "\n",
    "count_result2 = structure.count_clusters_multi_configs(str_vecs, counting_types=counting_types,excluding_types=['3-44'])\n",
    "count_final_result2 = dict()\n",
    "for t in counting_types:\n",
    "    count_final_result2[t] = count_result2[t]\n",
    "pickle.dump(count_final_result2, open('swap_no1NNnoT4T4_T4frac{0}_count_T4T4_T1T4_EX3Al_{1}_{2}.p','wb'))\n",
    "\n",
    "'''"
   ]
  },
  {
   "cell_type": "code",
   "execution_count": 217,
   "metadata": {
    "collapsed": true
   },
   "outputs": [],
   "source": [
    "no1NN_qscript_template = '''#!/bin/bash\n",
    "#$ -q *@@crc\n",
    "#$ -pe smp 1\n",
    "python J_{0}_{1}_{2}.py\n",
    "'''"
   ]
  },
  {
   "cell_type": "code",
   "execution_count": 218,
   "metadata": {
    "collapsed": true
   },
   "outputs": [],
   "source": [
    "ratios = [15]\n",
    "fracs = [75,80,85,90,95]"
   ]
  },
  {
   "cell_type": "code",
   "execution_count": 219,
   "metadata": {
    "collapsed": false,
    "scrolled": true
   },
   "outputs": [],
   "source": [
    "for frac in fracs:\n",
    "    for ratio in ratios:\n",
    "        for i in range(1,51):\n",
    "            filename = 'no1NNnoT4T4_T4varfrac/J_{}_{}_{}.py'.format(frac, ratio,i)\n",
    "            with open(filename, 'w+') as file:\n",
    "                file.write(no1NN_py_template.format(frac, ratio,i))\n",
    "            filename =  'no1NNnoT4T4_T4varfrac/J_{}_{}_{}.sh'.format(frac,ratio,i)\n",
    "            with open(filename, 'w+') as file:\n",
    "                file.write(no1NN_qscript_template.format(frac,ratio,i))    "
   ]
  },
  {
   "cell_type": "code",
   "execution_count": 220,
   "metadata": {
    "collapsed": true
   },
   "outputs": [],
   "source": [
    "ratios = [9]\n",
    "fracs = [40,45,50,55,60]"
   ]
  },
  {
   "cell_type": "code",
   "execution_count": 221,
   "metadata": {
    "collapsed": false,
    "scrolled": true
   },
   "outputs": [],
   "source": [
    "for frac in fracs:\n",
    "    for ratio in ratios:\n",
    "        for i in range(1,51):\n",
    "            filename = 'no1NNnoT4T4_T4varfrac/J_{}_{}_{}.py'.format(frac, ratio,i)\n",
    "            with open(filename, 'w+') as file:\n",
    "                file.write(no1NN_py_template.format(frac, ratio,i))\n",
    "            filename =  'no1NNnoT4T4_T4varfrac/J_{}_{}_{}.sh'.format(frac,ratio,i)\n",
    "            with open(filename, 'w+') as file:\n",
    "                file.write(no1NN_qscript_template.format(frac,ratio,i))    "
   ]
  },
  {
   "cell_type": "markdown",
   "metadata": {},
   "source": [
    "### Si/Al=9 no1NN T4frac50 results"
   ]
  },
  {
   "cell_type": "code",
   "execution_count": 115,
   "metadata": {
    "collapsed": true
   },
   "outputs": [],
   "source": [
    "ratios = [9]"
   ]
  },
  {
   "cell_type": "code",
   "execution_count": 116,
   "metadata": {
    "collapsed": false
   },
   "outputs": [],
   "source": [
    "def combine_count_files(prefix, ratios, types, num, savefileprefix):\n",
    "    for ratio in ratios:\n",
    "        results = {}\n",
    "        for t in types:\n",
    "            results[t] = []\n",
    "        results['total 2-body'] = []\n",
    "        for i in range(1, num+1):\n",
    "            filename = prefix.format(ratio, i)\n",
    "            temp = pickle.load(open(filename, 'rb'))\n",
    "            for t in types:\n",
    "                results[t].extend(temp[t])\n",
    "            results['total 2-body'].extend([temp['2-20'][j]+temp['2-27'][j] for j,num in enumerate(temp['2-20'])])\n",
    "        pickle.dump(results,open(savefileprefix.format(ratio),'wb'))\n",
    "    return results  "
   ]
  },
  {
   "cell_type": "markdown",
   "metadata": {},
   "source": [
    "### no1NN count T4T4 & T1T4"
   ]
  },
  {
   "cell_type": "code",
   "execution_count": 117,
   "metadata": {
    "collapsed": false
   },
   "outputs": [],
   "source": [
    "types = ['1-1','1-2','1-3','1-4','2-20','2-27']\n",
    "num = 50\n",
    "prefix = 'no1NN_T4frac50/swap_no1NN_T4frac50_count_T4T4_T1T4_{}_{}.p'\n",
    "savefileprefix = 'no1NN_T4frac50/swap_no1NN_T4frac50_count_T4T4_T1T4_{}_summary.p'\n",
    "results = combine_count_files(prefix, ratios,types, num, savefileprefix)"
   ]
  },
  {
   "cell_type": "code",
   "execution_count": 118,
   "metadata": {
    "collapsed": true
   },
   "outputs": [],
   "source": [
    "result_9 = pickle.load(open('no1NN_T4frac50/swap_no1NN_T4frac50_count_T4T4_T1T4_9_summary.p','rb'))"
   ]
  },
  {
   "cell_type": "code",
   "execution_count": 123,
   "metadata": {
    "collapsed": false
   },
   "outputs": [
    {
     "data": {
      "text/plain": [
       "0.1517938144329897"
      ]
     },
     "execution_count": 123,
     "metadata": {},
     "output_type": "execute_result"
    }
   ],
   "source": [
    "np.mean(result_9['total 2-body'])/int(round(1/(1+9)*972))"
   ]
  },
  {
   "cell_type": "code",
   "execution_count": 120,
   "metadata": {
    "collapsed": false
   },
   "outputs": [
    {
     "data": {
      "text/plain": [
       "0.10781443298969072"
      ]
     },
     "execution_count": 120,
     "metadata": {},
     "output_type": "execute_result"
    }
   ],
   "source": [
    "np.mean(result_9['2-27'])/int(round(1/(1+9)*972))"
   ]
  },
  {
   "cell_type": "code",
   "execution_count": 121,
   "metadata": {
    "collapsed": false
   },
   "outputs": [
    {
     "data": {
      "text/plain": [
       "0.043979381443298972"
      ]
     },
     "execution_count": 121,
     "metadata": {},
     "output_type": "execute_result"
    }
   ],
   "source": [
    "np.mean(result_9['2-20'])/int(round(1/(1+9)*972))"
   ]
  },
  {
   "cell_type": "code",
   "execution_count": 122,
   "metadata": {
    "collapsed": false,
    "scrolled": true
   },
   "outputs": [
    {
     "data": {
      "text/plain": [
       "48.0"
      ]
     },
     "execution_count": 122,
     "metadata": {},
     "output_type": "execute_result"
    }
   ],
   "source": [
    "np.mean(result_9['1-4'])"
   ]
  },
  {
   "cell_type": "markdown",
   "metadata": {},
   "source": [
    "### no1NN count T4T4 & T1T4 excluding 3Al"
   ]
  },
  {
   "cell_type": "code",
   "execution_count": 124,
   "metadata": {
    "collapsed": false
   },
   "outputs": [],
   "source": [
    "types = ['1-1','1-2','1-3','1-4','2-20','2-27']\n",
    "num = 50\n",
    "prefix = 'no1NN_T4frac50/swap_no1NN_T4frac50_count_T4T4_T1T4_EX3Al_{}_{}.p'\n",
    "savefileprefix = 'no1NN_T4frac50/swap_no1NN_T4frac50_count_T4T4_T1T4_EX3Al_{}_summary.p'\n",
    "results = combine_count_files(prefix, ratios[:1], types, num, savefileprefix)"
   ]
  },
  {
   "cell_type": "code",
   "execution_count": 125,
   "metadata": {
    "collapsed": false
   },
   "outputs": [],
   "source": [
    "result_9 = pickle.load(open('no1NN_T4frac50/swap_no1NN_T4frac50_count_T4T4_T1T4_EX3Al_9_summary.p','rb'))"
   ]
  },
  {
   "cell_type": "code",
   "execution_count": 126,
   "metadata": {
    "collapsed": false,
    "scrolled": true
   },
   "outputs": [
    {
     "data": {
      "text/plain": [
       "0.14868041237113402"
      ]
     },
     "execution_count": 126,
     "metadata": {},
     "output_type": "execute_result"
    }
   ],
   "source": [
    "np.mean(result_9['total 2-body'])/int(round(1/(1+9)*972))"
   ]
  },
  {
   "cell_type": "code",
   "execution_count": 127,
   "metadata": {
    "collapsed": false,
    "scrolled": false
   },
   "outputs": [
    {
     "data": {
      "text/plain": [
       "0.10781443298969072"
      ]
     },
     "execution_count": 127,
     "metadata": {},
     "output_type": "execute_result"
    }
   ],
   "source": [
    "np.mean(result_9['2-27'])/int(round(1/(1+9)*972))"
   ]
  },
  {
   "cell_type": "code",
   "execution_count": 128,
   "metadata": {
    "collapsed": false
   },
   "outputs": [
    {
     "data": {
      "text/plain": [
       "0.040865979381443297"
      ]
     },
     "execution_count": 128,
     "metadata": {},
     "output_type": "execute_result"
    }
   ],
   "source": [
    "np.mean(result_9['2-20'])/int(round(1/(1+9)*972))"
   ]
  },
  {
   "cell_type": "code",
   "execution_count": 129,
   "metadata": {
    "collapsed": false
   },
   "outputs": [
    {
     "data": {
      "text/plain": [
       "0.49328865979381442"
      ]
     },
     "execution_count": 129,
     "metadata": {},
     "output_type": "execute_result"
    }
   ],
   "source": [
    "np.mean(result_9['1-4'])/int(round(1/(1+9)*972))"
   ]
  },
  {
   "cell_type": "code",
   "execution_count": 169,
   "metadata": {
    "collapsed": true
   },
   "outputs": [],
   "source": [
    "def combine_titration_files(prefix, types, num, savefileprefix,both=True):\n",
    "    for t in types:\n",
    "        results = {}\n",
    "        if both:\n",
    "            results['2-20'] = []\n",
    "            results['total'] = []\n",
    "        results['2-27'] = []\n",
    "        for i in range(1, num+1):\n",
    "            filename = prefix.format(t, i)\n",
    "            temp = pickle.load(open(filename, 'rb'))\n",
    "            if both:\n",
    "                results['2-20'].extend(temp['2-20'])\n",
    "                results['total'].extend([temp['2-20'][j]+temp['2-27'][j]for j,num in enumerate(temp['2-20'])])\n",
    "            results['2-27'].extend(temp['2-27'])\n",
    "        pickle.dump(results,open(savefileprefix.format(t),'wb'))\n",
    "    return results  \n",
    "#[k] for k in range(len(temp['2-27'][0])) "
   ]
  },
  {
   "cell_type": "code",
   "execution_count": 170,
   "metadata": {
    "collapsed": true
   },
   "outputs": [],
   "source": [
    "def summarize_titrate_results(results, both=True):\n",
    "    temp = {}\n",
    "    if both:\n",
    "        temp['2-20'] = []\n",
    "        temp['total'] = []\n",
    "    temp['2-27'] = []\n",
    "    for index, item in enumerate(results['2-27']):\n",
    "        temp['2-27'].append(np.mean(item))\n",
    "        if both:\n",
    "            temp['2-20'].append(np.mean(results['2-20'][index]))\n",
    "            temp['total'].append(np.mean(item)+np.mean(results['2-20'][index]))\n",
    "    return temp"
   ]
  },
  {
   "cell_type": "markdown",
   "metadata": {},
   "source": [
    "### no1NN titrate T4T4"
   ]
  },
  {
   "cell_type": "code",
   "execution_count": 130,
   "metadata": {
    "collapsed": false
   },
   "outputs": [],
   "source": [
    "types = ratios[:1]\n",
    "num = 50\n",
    "prefix = 'no1NN_T4frac50/swap_no1NN_T4frac50_titration_T4T4_{}_{}.p'\n",
    "savefileprefix = 'no1NN_T4frac50/swap_no1NN_T4frac50_titration_T4T4_{}_summary.p'\n",
    "results = combine_titration_files(prefix, types, num, savefileprefix,both=False)"
   ]
  },
  {
   "cell_type": "code",
   "execution_count": 132,
   "metadata": {
    "collapsed": false,
    "scrolled": true
   },
   "outputs": [
    {
     "data": {
      "text/plain": [
       "0.10781443298969072"
      ]
     },
     "execution_count": 132,
     "metadata": {},
     "output_type": "execute_result"
    }
   ],
   "source": [
    "np.mean(results['2-27'])/int(round(1/(1+9)*972))"
   ]
  },
  {
   "cell_type": "markdown",
   "metadata": {},
   "source": [
    "### no1NN titrate T4T4 Exc3Al"
   ]
  },
  {
   "cell_type": "code",
   "execution_count": 133,
   "metadata": {
    "collapsed": false
   },
   "outputs": [],
   "source": [
    "types = ratios\n",
    "num = 50\n",
    "prefix = 'no1NN_T4frac50/swap_no1NN_T4frac50_titration_T4T4_EX3Al_{}_{}.p'\n",
    "savefileprefix = 'no1NN_T4frac50/swap_no1NN_T4frac50_titration_T4T4_EX3Al_{}_summary.p'\n",
    "results = combine_titration_files(prefix, types, num, savefileprefix,both=False)"
   ]
  },
  {
   "cell_type": "code",
   "execution_count": 134,
   "metadata": {
    "collapsed": false
   },
   "outputs": [],
   "source": [
    "temp = summarize_titrate_results(results, both=False)"
   ]
  },
  {
   "cell_type": "code",
   "execution_count": 135,
   "metadata": {
    "collapsed": false
   },
   "outputs": [
    {
     "data": {
      "text/plain": [
       "0.10781443298969072"
      ]
     },
     "execution_count": 135,
     "metadata": {},
     "output_type": "execute_result"
    }
   ],
   "source": [
    "np.mean(temp['2-27'])/int(round(1/(1+9)*972))"
   ]
  },
  {
   "cell_type": "markdown",
   "metadata": {},
   "source": [
    "### no1NN titrate T4T4 & T4T1"
   ]
  },
  {
   "cell_type": "code",
   "execution_count": 136,
   "metadata": {
    "collapsed": false
   },
   "outputs": [],
   "source": [
    "types = ratios[:1]\n",
    "num = 50\n",
    "prefix = 'no1NN_T4frac50/swap_no1NN_T4frac50_titration_T4T4_T1T4_{}_{}.p'\n",
    "savefileprefix = 'no1NN_T4frac50/swap_no1NN_T4frac50_titration_T4T4_T1T4_{}_summary.p'\n",
    "results = combine_titration_files(prefix, types, num, savefileprefix)"
   ]
  },
  {
   "cell_type": "code",
   "execution_count": 137,
   "metadata": {
    "collapsed": false
   },
   "outputs": [
    {
     "data": {
      "text/plain": [
       "0.15023711340206186"
      ]
     },
     "execution_count": 137,
     "metadata": {},
     "output_type": "execute_result"
    }
   ],
   "source": [
    "np.mean(results['total'])/int(round(1/(1+9)*972))"
   ]
  },
  {
   "cell_type": "code",
   "execution_count": 138,
   "metadata": {
    "collapsed": false
   },
   "outputs": [
    {
     "data": {
      "text/plain": [
       "0.10781443298969072"
      ]
     },
     "execution_count": 138,
     "metadata": {},
     "output_type": "execute_result"
    }
   ],
   "source": [
    "np.mean(results['2-27'])/int(round(1/(1+9)*972))"
   ]
  },
  {
   "cell_type": "code",
   "execution_count": 139,
   "metadata": {
    "collapsed": false
   },
   "outputs": [
    {
     "data": {
      "text/plain": [
       "0.042422680412371135"
      ]
     },
     "execution_count": 139,
     "metadata": {},
     "output_type": "execute_result"
    }
   ],
   "source": [
    "np.mean(results['2-20'])/int(round(1/(1+9)*972))"
   ]
  },
  {
   "cell_type": "markdown",
   "metadata": {},
   "source": [
    "### no1NN titrate T4T4 & T4T1 Exc3Al"
   ]
  },
  {
   "cell_type": "code",
   "execution_count": 140,
   "metadata": {
    "collapsed": false
   },
   "outputs": [],
   "source": [
    "types = ratios[:1]\n",
    "num = 50\n",
    "prefix = 'no1NN_T4frac50/swap_no1NN_T4frac50_titration_T4T4_T1T4_EX3Al_{}_{}.p'\n",
    "savefileprefix = 'no1NN_T4frac50/swap_no1NN_T4frac50_titration_T4T4_T1T4_EX3Al_{}_summary.p'\n",
    "results = combine_titration_files(prefix, types, num, savefileprefix)"
   ]
  },
  {
   "cell_type": "code",
   "execution_count": 142,
   "metadata": {
    "collapsed": false
   },
   "outputs": [
    {
     "data": {
      "text/plain": [
       "0.14868041237113402"
      ]
     },
     "execution_count": 142,
     "metadata": {},
     "output_type": "execute_result"
    }
   ],
   "source": [
    "np.mean(results['total'])/int(round(1/(1+9)*972))"
   ]
  },
  {
   "cell_type": "code",
   "execution_count": 143,
   "metadata": {
    "collapsed": false
   },
   "outputs": [
    {
     "data": {
      "text/plain": [
       "0.10781443298969072"
      ]
     },
     "execution_count": 143,
     "metadata": {},
     "output_type": "execute_result"
    }
   ],
   "source": [
    "np.mean(results['2-27'])/int(round(1/(1+9)*972))"
   ]
  },
  {
   "cell_type": "code",
   "execution_count": 144,
   "metadata": {
    "collapsed": false,
    "scrolled": false
   },
   "outputs": [
    {
     "data": {
      "text/plain": [
       "0.040865979381443297"
      ]
     },
     "execution_count": 144,
     "metadata": {},
     "output_type": "execute_result"
    }
   ],
   "source": [
    "np.mean(results['2-20'])/int(round(1/(1+9)*972))"
   ]
  },
  {
   "cell_type": "markdown",
   "metadata": {},
   "source": [
    "### Si/Al=9 no1NNnoT4T4 T4frac50 results"
   ]
  },
  {
   "cell_type": "code",
   "execution_count": 148,
   "metadata": {
    "collapsed": true
   },
   "outputs": [],
   "source": [
    "ratios = [9]"
   ]
  },
  {
   "cell_type": "code",
   "execution_count": 149,
   "metadata": {
    "collapsed": false
   },
   "outputs": [],
   "source": [
    "def combine_count_files(prefix, ratios, types, num, savefileprefix):\n",
    "    for ratio in ratios:\n",
    "        results = {}\n",
    "        for t in types:\n",
    "            results[t] = []\n",
    "        results['total 2-body'] = []\n",
    "        for i in range(1, num+1):\n",
    "            filename = prefix.format(ratio, i)\n",
    "            temp = pickle.load(open(filename, 'rb'))\n",
    "            for t in types:\n",
    "                results[t].extend(temp[t])\n",
    "            results['total 2-body'].extend([temp['2-20'][j]+temp['2-27'][j] for j,num in enumerate(temp['2-20'])])\n",
    "        pickle.dump(results,open(savefileprefix.format(ratio),'wb'))\n",
    "    return results  "
   ]
  },
  {
   "cell_type": "markdown",
   "metadata": {},
   "source": [
    "### no1NNnoT4T4 count T4T4 & T1T4"
   ]
  },
  {
   "cell_type": "code",
   "execution_count": 150,
   "metadata": {
    "collapsed": false
   },
   "outputs": [],
   "source": [
    "types = ['1-1','1-2','1-3','1-4','2-20','2-27']\n",
    "num = 50\n",
    "prefix = 'no1NNnoT4T4_T4frac50/swap_no1NNnoT4T4_T4frac50_count_T4T4_T1T4_{}_{}.p'\n",
    "savefileprefix = 'no1NNnoT4T4_T4frac50/swap_no1NNnoT4T4_T4frac50_count_T4T4_T1T4_{}_summary.p'\n",
    "results = combine_count_files(prefix, ratios,types, num, savefileprefix)"
   ]
  },
  {
   "cell_type": "code",
   "execution_count": 151,
   "metadata": {
    "collapsed": true
   },
   "outputs": [],
   "source": [
    "result_9 = pickle.load(open('no1NNnoT4T4_T4frac50/swap_no1NNnoT4T4_T4frac50_count_T4T4_T1T4_9_summary.p','rb'))"
   ]
  },
  {
   "cell_type": "code",
   "execution_count": 152,
   "metadata": {
    "collapsed": false
   },
   "outputs": [
    {
     "data": {
      "text/plain": [
       "0.076639175257731965"
      ]
     },
     "execution_count": 152,
     "metadata": {},
     "output_type": "execute_result"
    }
   ],
   "source": [
    "np.mean(result_9['total 2-body'])/int(round(1/(1+9)*972))"
   ]
  },
  {
   "cell_type": "code",
   "execution_count": 153,
   "metadata": {
    "collapsed": false
   },
   "outputs": [
    {
     "data": {
      "text/plain": [
       "0.0"
      ]
     },
     "execution_count": 153,
     "metadata": {},
     "output_type": "execute_result"
    }
   ],
   "source": [
    "np.mean(result_9['2-27'])/int(round(1/(1+9)*972))"
   ]
  },
  {
   "cell_type": "code",
   "execution_count": 154,
   "metadata": {
    "collapsed": false
   },
   "outputs": [
    {
     "data": {
      "text/plain": [
       "0.076639175257731965"
      ]
     },
     "execution_count": 154,
     "metadata": {},
     "output_type": "execute_result"
    }
   ],
   "source": [
    "np.mean(result_9['2-20'])/int(round(1/(1+9)*972))"
   ]
  },
  {
   "cell_type": "code",
   "execution_count": 155,
   "metadata": {
    "collapsed": false,
    "scrolled": true
   },
   "outputs": [
    {
     "data": {
      "text/plain": [
       "48.0"
      ]
     },
     "execution_count": 155,
     "metadata": {},
     "output_type": "execute_result"
    }
   ],
   "source": [
    "np.mean(result_9['1-4'])"
   ]
  },
  {
   "cell_type": "markdown",
   "metadata": {},
   "source": [
    "### no1NNnoT4T4 count T4T4 & T1T4 excluding 3Al"
   ]
  },
  {
   "cell_type": "code",
   "execution_count": 156,
   "metadata": {
    "collapsed": false
   },
   "outputs": [],
   "source": [
    "types = ['1-1','1-2','1-3','1-4','2-20','2-27']\n",
    "num = 50\n",
    "prefix = 'no1NNnoT4T4_T4frac50/swap_no1NNnoT4T4_T4frac50_count_T4T4_T1T4_EX3Al_{}_{}.p'\n",
    "savefileprefix = 'no1NNnoT4T4_T4frac50/swap_no1NNnoT4T4_T4frac50_count_T4T4_T1T4_EX3Al_{}_summary.p'\n",
    "results = combine_count_files(prefix, ratios[:1], types, num, savefileprefix)"
   ]
  },
  {
   "cell_type": "code",
   "execution_count": 157,
   "metadata": {
    "collapsed": false
   },
   "outputs": [],
   "source": [
    "result_9 = pickle.load(open('no1NNnoT4T4_T4frac50/swap_no1NNnoT4T4_T4frac50_count_T4T4_T1T4_EX3Al_9_summary.p','rb'))"
   ]
  },
  {
   "cell_type": "code",
   "execution_count": 158,
   "metadata": {
    "collapsed": false,
    "scrolled": true
   },
   "outputs": [
    {
     "data": {
      "text/plain": [
       "0.071113402061855666"
      ]
     },
     "execution_count": 158,
     "metadata": {},
     "output_type": "execute_result"
    }
   ],
   "source": [
    "np.mean(result_9['total 2-body'])/int(round(1/(1+9)*972))"
   ]
  },
  {
   "cell_type": "code",
   "execution_count": 159,
   "metadata": {
    "collapsed": false,
    "scrolled": false
   },
   "outputs": [
    {
     "data": {
      "text/plain": [
       "0.0"
      ]
     },
     "execution_count": 159,
     "metadata": {},
     "output_type": "execute_result"
    }
   ],
   "source": [
    "np.mean(result_9['2-27'])/int(round(1/(1+9)*972))"
   ]
  },
  {
   "cell_type": "code",
   "execution_count": 160,
   "metadata": {
    "collapsed": false
   },
   "outputs": [
    {
     "data": {
      "text/plain": [
       "0.071113402061855666"
      ]
     },
     "execution_count": 160,
     "metadata": {},
     "output_type": "execute_result"
    }
   ],
   "source": [
    "np.mean(result_9['2-20'])/int(round(1/(1+9)*972))"
   ]
  },
  {
   "cell_type": "code",
   "execution_count": 161,
   "metadata": {
    "collapsed": false
   },
   "outputs": [
    {
     "data": {
      "text/plain": [
       "0.49208247422680412"
      ]
     },
     "execution_count": 161,
     "metadata": {},
     "output_type": "execute_result"
    }
   ],
   "source": [
    "np.mean(result_9['1-4'])/int(round(1/(1+9)*972))"
   ]
  },
  {
   "cell_type": "code",
   "execution_count": 169,
   "metadata": {
    "collapsed": true
   },
   "outputs": [],
   "source": [
    "def combine_titration_files(prefix, types, num, savefileprefix,both=True):\n",
    "    for t in types:\n",
    "        results = {}\n",
    "        if both:\n",
    "            results['2-20'] = []\n",
    "            results['total'] = []\n",
    "        results['2-27'] = []\n",
    "        for i in range(1, num+1):\n",
    "            filename = prefix.format(t, i)\n",
    "            temp = pickle.load(open(filename, 'rb'))\n",
    "            if both:\n",
    "                results['2-20'].extend(temp['2-20'])\n",
    "                results['total'].extend([temp['2-20'][j]+temp['2-27'][j]for j,num in enumerate(temp['2-20'])])\n",
    "            results['2-27'].extend(temp['2-27'])\n",
    "        pickle.dump(results,open(savefileprefix.format(t),'wb'))\n",
    "    return results  \n",
    "#[k] for k in range(len(temp['2-27'][0])) "
   ]
  },
  {
   "cell_type": "code",
   "execution_count": 170,
   "metadata": {
    "collapsed": true
   },
   "outputs": [],
   "source": [
    "def summarize_titrate_results(results, both=True):\n",
    "    temp = {}\n",
    "    if both:\n",
    "        temp['2-20'] = []\n",
    "        temp['total'] = []\n",
    "    temp['2-27'] = []\n",
    "    for index, item in enumerate(results['2-27']):\n",
    "        temp['2-27'].append(np.mean(item))\n",
    "        if both:\n",
    "            temp['2-20'].append(np.mean(results['2-20'][index]))\n",
    "            temp['total'].append(np.mean(item)+np.mean(results['2-20'][index]))\n",
    "    return temp"
   ]
  },
  {
   "cell_type": "markdown",
   "metadata": {},
   "source": [
    "### no1NNnoT4T4 titrate T4T4 & T4T1"
   ]
  },
  {
   "cell_type": "code",
   "execution_count": 164,
   "metadata": {
    "collapsed": false
   },
   "outputs": [],
   "source": [
    "types = ratios[:1]\n",
    "num = 50\n",
    "prefix = 'no1NNnoT4T4_T4frac50/swap_no1NNnoT4T4_T4frac50_titration_T4T4_T1T4_{}_{}.p'\n",
    "savefileprefix = 'no1NNnoT4T4_T4frac50/swap_no1NNnoT4T4_T4frac50_titration_T4T4_T1T4_{}_summary.p'\n",
    "results = combine_titration_files(prefix, types, num, savefileprefix)"
   ]
  },
  {
   "cell_type": "code",
   "execution_count": 165,
   "metadata": {
    "collapsed": false
   },
   "outputs": [
    {
     "data": {
      "text/plain": [
       "0.073876288659793815"
      ]
     },
     "execution_count": 165,
     "metadata": {},
     "output_type": "execute_result"
    }
   ],
   "source": [
    "np.mean(results['total'])/int(round(1/(1+9)*972))"
   ]
  },
  {
   "cell_type": "code",
   "execution_count": 166,
   "metadata": {
    "collapsed": false
   },
   "outputs": [
    {
     "data": {
      "text/plain": [
       "0.0"
      ]
     },
     "execution_count": 166,
     "metadata": {},
     "output_type": "execute_result"
    }
   ],
   "source": [
    "np.mean(results['2-27'])/int(round(1/(1+9)*972))"
   ]
  },
  {
   "cell_type": "code",
   "execution_count": 167,
   "metadata": {
    "collapsed": false
   },
   "outputs": [
    {
     "data": {
      "text/plain": [
       "0.073876288659793815"
      ]
     },
     "execution_count": 167,
     "metadata": {},
     "output_type": "execute_result"
    }
   ],
   "source": [
    "np.mean(results['2-20'])/int(round(1/(1+9)*972))"
   ]
  },
  {
   "cell_type": "markdown",
   "metadata": {},
   "source": [
    "### no1NNnoT4T4 titrate T4T4 & T4T1 Exc3Al"
   ]
  },
  {
   "cell_type": "code",
   "execution_count": 168,
   "metadata": {
    "collapsed": false
   },
   "outputs": [],
   "source": [
    "types = ratios[:1]\n",
    "num = 50\n",
    "prefix = 'no1NNnoT4T4_T4frac50/swap_no1NNnoT4T4_T4frac50_titration_T4T4_T1T4_EX3Al_{}_{}.p'\n",
    "savefileprefix = 'no1NNnoT4T4_T4frac50/swap_no1NNnoT4T4_T4frac50_titration_T4T4_T1T4_EX3Al_{}_summary.p'\n",
    "results = combine_titration_files(prefix, types, num, savefileprefix)"
   ]
  },
  {
   "cell_type": "code",
   "execution_count": 169,
   "metadata": {
    "collapsed": false
   },
   "outputs": [
    {
     "data": {
      "text/plain": [
       "0.071113402061855666"
      ]
     },
     "execution_count": 169,
     "metadata": {},
     "output_type": "execute_result"
    }
   ],
   "source": [
    "np.mean(results['total'])/int(round(1/(1+9)*972))"
   ]
  },
  {
   "cell_type": "code",
   "execution_count": 170,
   "metadata": {
    "collapsed": false
   },
   "outputs": [
    {
     "data": {
      "text/plain": [
       "0.0"
      ]
     },
     "execution_count": 170,
     "metadata": {},
     "output_type": "execute_result"
    }
   ],
   "source": [
    "np.mean(results['2-27'])/int(round(1/(1+9)*972))"
   ]
  },
  {
   "cell_type": "code",
   "execution_count": 171,
   "metadata": {
    "collapsed": false,
    "scrolled": true
   },
   "outputs": [
    {
     "data": {
      "text/plain": [
       "0.071113402061855666"
      ]
     },
     "execution_count": 171,
     "metadata": {},
     "output_type": "execute_result"
    }
   ],
   "source": [
    "np.mean(results['2-20'])/int(round(1/(1+9)*972))"
   ]
  },
  {
   "cell_type": "markdown",
   "metadata": {},
   "source": [
    "### Si/Al=9 No1NN results"
   ]
  },
  {
   "cell_type": "code",
   "execution_count": 177,
   "metadata": {
    "collapsed": true
   },
   "outputs": [],
   "source": [
    "ratios = [9]"
   ]
  },
  {
   "cell_type": "code",
   "execution_count": 146,
   "metadata": {
    "collapsed": false
   },
   "outputs": [],
   "source": [
    "def combine_count_files(prefix, ratios, types, num, savefileprefix):\n",
    "    for ratio in ratios:\n",
    "        results = {}\n",
    "        for t in types:\n",
    "            results[t] = []\n",
    "        results['total 2-body'] = []\n",
    "        for i in range(1, num+1):\n",
    "            filename = prefix.format(ratio, i)\n",
    "            temp = pickle.load(open(filename, 'rb'))\n",
    "            for t in types:\n",
    "                results[t].extend(temp[t])\n",
    "            results['total 2-body'].extend([temp['2-20'][j]+temp['2-27'][j] for j,num in enumerate(temp['2-20'])])\n",
    "        pickle.dump(results,open(savefileprefix.format(ratio),'wb'))\n",
    "    return results  "
   ]
  },
  {
   "cell_type": "markdown",
   "metadata": {},
   "source": [
    "### no1NN count T4T4 & T1T4"
   ]
  },
  {
   "cell_type": "code",
   "execution_count": 178,
   "metadata": {
    "collapsed": false
   },
   "outputs": [],
   "source": [
    "types = ['1-1','1-2','1-3','1-4','2-20','2-27']\n",
    "num = 50\n",
    "prefix = 'no1NN/swap_no1NN_count_T4T4_T1T4_{}_{}.p'\n",
    "savefileprefix = 'no1NN/swap_no1NN_count_T4T4_T1T4_{}_summary.p'\n",
    "results = combine_count_files(prefix, ratios,types, num, savefileprefix)"
   ]
  },
  {
   "cell_type": "code",
   "execution_count": 179,
   "metadata": {
    "collapsed": true
   },
   "outputs": [],
   "source": [
    "result_9 = pickle.load(open('no1NN/swap_no1NN_count_T4T4_T1T4_9_summary.p','rb'))"
   ]
  },
  {
   "cell_type": "code",
   "execution_count": 180,
   "metadata": {
    "collapsed": false
   },
   "outputs": [
    {
     "data": {
      "text/plain": [
       "0.029680412371134019"
      ]
     },
     "execution_count": 180,
     "metadata": {},
     "output_type": "execute_result"
    }
   ],
   "source": [
    "np.mean(result_9['total 2-body'])/int(round(1/(1+9)*972))"
   ]
  },
  {
   "cell_type": "code",
   "execution_count": 181,
   "metadata": {
    "collapsed": false
   },
   "outputs": [
    {
     "data": {
      "text/plain": [
       "0.0053711340206185568"
      ]
     },
     "execution_count": 181,
     "metadata": {},
     "output_type": "execute_result"
    }
   ],
   "source": [
    "np.mean(result_9['2-27'])/int(round(1/(1+9)*972))"
   ]
  },
  {
   "cell_type": "code",
   "execution_count": 182,
   "metadata": {
    "collapsed": false
   },
   "outputs": [
    {
     "data": {
      "text/plain": [
       "0.024309278350515464"
      ]
     },
     "execution_count": 182,
     "metadata": {},
     "output_type": "execute_result"
    }
   ],
   "source": [
    "np.mean(result_9['2-20'])/int(round(1/(1+9)*972))"
   ]
  },
  {
   "cell_type": "code",
   "execution_count": 184,
   "metadata": {
    "collapsed": false,
    "scrolled": true
   },
   "outputs": [
    {
     "data": {
      "text/plain": [
       "0.11099999999999999"
      ]
     },
     "execution_count": 184,
     "metadata": {},
     "output_type": "execute_result"
    }
   ],
   "source": [
    "np.mean(result_9['1-4'])/int(round(1/(1+9)*972))"
   ]
  },
  {
   "cell_type": "markdown",
   "metadata": {},
   "source": [
    "### no1NN count T4T4 & T1T4 excluding 3Al"
   ]
  },
  {
   "cell_type": "code",
   "execution_count": 185,
   "metadata": {
    "collapsed": false
   },
   "outputs": [],
   "source": [
    "types = ['1-1','1-2','1-3','1-4','2-20','2-27']\n",
    "num = 50\n",
    "prefix = 'no1NN/swap_no1NN_count_T4T4_T1T4_EX3Al_{}_{}.p'\n",
    "savefileprefix = 'no1NN/swap_no1NN_count_T4T4_T1T4_EX3Al_{}_summary.p'\n",
    "results = combine_count_files(prefix, ratios[:1], types, num, savefileprefix)"
   ]
  },
  {
   "cell_type": "code",
   "execution_count": 186,
   "metadata": {
    "collapsed": false
   },
   "outputs": [],
   "source": [
    "result_9 = pickle.load(open('no1NN/swap_no1NN_count_T4T4_T1T4_EX3Al_9_summary.p','rb'))"
   ]
  },
  {
   "cell_type": "code",
   "execution_count": 187,
   "metadata": {
    "collapsed": false,
    "scrolled": true
   },
   "outputs": [
    {
     "data": {
      "text/plain": [
       "0.026505154639175261"
      ]
     },
     "execution_count": 187,
     "metadata": {},
     "output_type": "execute_result"
    }
   ],
   "source": [
    "np.mean(result_9['total 2-body'])/int(round(1/(1+9)*972))"
   ]
  },
  {
   "cell_type": "code",
   "execution_count": 188,
   "metadata": {
    "collapsed": false,
    "scrolled": false
   },
   "outputs": [
    {
     "data": {
      "text/plain": [
       "0.0053711340206185568"
      ]
     },
     "execution_count": 188,
     "metadata": {},
     "output_type": "execute_result"
    }
   ],
   "source": [
    "np.mean(result_9['2-27'])/int(round(1/(1+9)*972))"
   ]
  },
  {
   "cell_type": "code",
   "execution_count": 189,
   "metadata": {
    "collapsed": false
   },
   "outputs": [
    {
     "data": {
      "text/plain": [
       "0.021134020618556699"
      ]
     },
     "execution_count": 189,
     "metadata": {},
     "output_type": "execute_result"
    }
   ],
   "source": [
    "np.mean(result_9['2-20'])/int(round(1/(1+9)*972))"
   ]
  },
  {
   "cell_type": "code",
   "execution_count": 190,
   "metadata": {
    "collapsed": false
   },
   "outputs": [
    {
     "data": {
      "text/plain": [
       "0.10941237113402061"
      ]
     },
     "execution_count": 190,
     "metadata": {},
     "output_type": "execute_result"
    }
   ],
   "source": [
    "np.mean(result_9['1-4'])/int(round(1/(1+9)*972))"
   ]
  },
  {
   "cell_type": "code",
   "execution_count": 169,
   "metadata": {
    "collapsed": true
   },
   "outputs": [],
   "source": [
    "def combine_titration_files(prefix, types, num, savefileprefix,both=True):\n",
    "    for t in types:\n",
    "        results = {}\n",
    "        if both:\n",
    "            results['2-20'] = []\n",
    "            results['total'] = []\n",
    "        results['2-27'] = []\n",
    "        for i in range(1, num+1):\n",
    "            filename = prefix.format(t, i)\n",
    "            temp = pickle.load(open(filename, 'rb'))\n",
    "            if both:\n",
    "                results['2-20'].extend(temp['2-20'])\n",
    "                results['total'].extend([temp['2-20'][j]+temp['2-27'][j]for j,num in enumerate(temp['2-20'])])\n",
    "            results['2-27'].extend(temp['2-27'])\n",
    "        pickle.dump(results,open(savefileprefix.format(t),'wb'))\n",
    "    return results  \n",
    "#[k] for k in range(len(temp['2-27'][0])) "
   ]
  },
  {
   "cell_type": "code",
   "execution_count": 170,
   "metadata": {
    "collapsed": true
   },
   "outputs": [],
   "source": [
    "def summarize_titrate_results(results, both=True):\n",
    "    temp = {}\n",
    "    if both:\n",
    "        temp['2-20'] = []\n",
    "        temp['total'] = []\n",
    "    temp['2-27'] = []\n",
    "    for index, item in enumerate(results['2-27']):\n",
    "        temp['2-27'].append(np.mean(item))\n",
    "        if both:\n",
    "            temp['2-20'].append(np.mean(results['2-20'][index]))\n",
    "            temp['total'].append(np.mean(item)+np.mean(results['2-20'][index]))\n",
    "    return temp"
   ]
  },
  {
   "cell_type": "markdown",
   "metadata": {},
   "source": [
    "### no1NN titrate T4T4 & T4T1"
   ]
  },
  {
   "cell_type": "code",
   "execution_count": 193,
   "metadata": {
    "collapsed": false
   },
   "outputs": [],
   "source": [
    "types = ratios[:1]\n",
    "num = 50\n",
    "prefix = 'no1NN/swap_no1NN_titration_T4T4_T1T4_{}_{}.p'\n",
    "savefileprefix = 'no1NN/swap_no1NN_titration_T4T4_T1T4_{}_summary.p'\n",
    "results = combine_titration_files(prefix, types, num, savefileprefix)"
   ]
  },
  {
   "cell_type": "code",
   "execution_count": 194,
   "metadata": {
    "collapsed": false
   },
   "outputs": [
    {
     "data": {
      "text/plain": [
       "0.02809278350515464"
      ]
     },
     "execution_count": 194,
     "metadata": {},
     "output_type": "execute_result"
    }
   ],
   "source": [
    "np.mean(results['total'])/int(round(1/(1+9)*972))"
   ]
  },
  {
   "cell_type": "code",
   "execution_count": 195,
   "metadata": {
    "collapsed": false
   },
   "outputs": [
    {
     "data": {
      "text/plain": [
       "0.0053711340206185568"
      ]
     },
     "execution_count": 195,
     "metadata": {},
     "output_type": "execute_result"
    }
   ],
   "source": [
    "np.mean(results['2-27'])/int(round(1/(1+9)*972))"
   ]
  },
  {
   "cell_type": "code",
   "execution_count": 196,
   "metadata": {
    "collapsed": false
   },
   "outputs": [
    {
     "data": {
      "text/plain": [
       "0.022721649484536085"
      ]
     },
     "execution_count": 196,
     "metadata": {},
     "output_type": "execute_result"
    }
   ],
   "source": [
    "np.mean(results['2-20'])/int(round(1/(1+9)*972))"
   ]
  },
  {
   "cell_type": "markdown",
   "metadata": {},
   "source": [
    "### no1NN titrate T4T4 & T4T1 Exc3Al"
   ]
  },
  {
   "cell_type": "code",
   "execution_count": 197,
   "metadata": {
    "collapsed": false
   },
   "outputs": [],
   "source": [
    "types = ratios[:1]\n",
    "num = 50\n",
    "prefix = 'no1NN/swap_no1NN_titration_T4T4_T1T4_EX3Al_{}_{}.p'\n",
    "savefileprefix = 'no1NN/swap_no1NN_titration_T4T4_T1T4_EX3Al_{}_summary.p'\n",
    "results = combine_titration_files(prefix, types, num, savefileprefix)"
   ]
  },
  {
   "cell_type": "code",
   "execution_count": 198,
   "metadata": {
    "collapsed": false
   },
   "outputs": [
    {
     "data": {
      "text/plain": [
       "0.026505154639175261"
      ]
     },
     "execution_count": 198,
     "metadata": {},
     "output_type": "execute_result"
    }
   ],
   "source": [
    "np.mean(results['total'])/int(round(1/(1+9)*972))"
   ]
  },
  {
   "cell_type": "code",
   "execution_count": 199,
   "metadata": {
    "collapsed": false
   },
   "outputs": [
    {
     "data": {
      "text/plain": [
       "0.0053711340206185568"
      ]
     },
     "execution_count": 199,
     "metadata": {},
     "output_type": "execute_result"
    }
   ],
   "source": [
    "np.mean(results['2-27'])/int(round(1/(1+9)*972))"
   ]
  },
  {
   "cell_type": "code",
   "execution_count": 200,
   "metadata": {
    "collapsed": false,
    "scrolled": true
   },
   "outputs": [
    {
     "data": {
      "text/plain": [
       "0.021134020618556699"
      ]
     },
     "execution_count": 200,
     "metadata": {},
     "output_type": "execute_result"
    }
   ],
   "source": [
    "np.mean(results['2-20'])/int(round(1/(1+9)*972))"
   ]
  },
  {
   "cell_type": "markdown",
   "metadata": {},
   "source": [
    "### Si/Al=15results"
   ]
  },
  {
   "cell_type": "code",
   "execution_count": 35,
   "metadata": {
    "collapsed": true
   },
   "outputs": [],
   "source": [
    "ratios = [15]"
   ]
  },
  {
   "cell_type": "code",
   "execution_count": 36,
   "metadata": {
    "collapsed": false
   },
   "outputs": [],
   "source": [
    "def combine_count_files(prefix, ratios, types, num, savefileprefix):\n",
    "    for ratio in ratios:\n",
    "        results = {}\n",
    "        for t in types:\n",
    "            results[t] = []\n",
    "        results['total 2-body'] = []\n",
    "        for i in range(1, num+1):\n",
    "            filename = prefix.format(ratio, i)\n",
    "            temp = pickle.load(open(filename, 'rb'))\n",
    "            for t in types:\n",
    "                results[t].extend(temp[t])\n",
    "            results['total 2-body'].extend([temp['2-20'][j]+temp['2-27'][j] for j,num in enumerate(temp['2-20'])])\n",
    "        pickle.dump(results,open(savefileprefix.format(ratio),'wb'))\n",
    "    return results  "
   ]
  },
  {
   "cell_type": "markdown",
   "metadata": {},
   "source": [
    "### no1NN count T4T4 & T1T4"
   ]
  },
  {
   "cell_type": "code",
   "execution_count": 49,
   "metadata": {
    "collapsed": false
   },
   "outputs": [],
   "source": [
    "types = ['1-1','1-2','1-3','1-4','2-20','2-27']\n",
    "num = 50\n",
    "prefix = 'no1NN_T4frac84/swap_no1NN_T4frac84_count_T4T4_T1T4_{}_{}.p'\n",
    "savefileprefix = 'no1NN_T4frac84/swap_no1NN_T4frac84_count_T4T4_T1T4_{}_summary.p'\n",
    "results = combine_count_files(prefix, ratios,types, num, savefileprefix)"
   ]
  },
  {
   "cell_type": "code",
   "execution_count": 50,
   "metadata": {
    "collapsed": true
   },
   "outputs": [],
   "source": [
    "result_15 = pickle.load(open('no1NN_T4frac84/swap_no1NN_T4frac84_count_T4T4_T1T4_15_summary.p','rb'))"
   ]
  },
  {
   "cell_type": "code",
   "execution_count": 51,
   "metadata": {
    "collapsed": false
   },
   "outputs": [
    {
     "data": {
      "text/plain": [
       "0.21086419753086422"
      ]
     },
     "execution_count": 51,
     "metadata": {},
     "output_type": "execute_result"
    }
   ],
   "source": [
    "np.mean(result_15['total 2-body'])/(1/(1+15)*972)"
   ]
  },
  {
   "cell_type": "code",
   "execution_count": 52,
   "metadata": {
    "collapsed": false
   },
   "outputs": [
    {
     "data": {
      "text/plain": [
       "0.19624590163934427"
      ]
     },
     "execution_count": 52,
     "metadata": {},
     "output_type": "execute_result"
    }
   ],
   "source": [
    "np.mean(result_15['2-27'])/int(round(1/(1+15)*972))"
   ]
  },
  {
   "cell_type": "code",
   "execution_count": 53,
   "metadata": {
    "collapsed": false
   },
   "outputs": [
    {
     "data": {
      "text/plain": [
       "0.013754098360655737"
      ]
     },
     "execution_count": 53,
     "metadata": {},
     "output_type": "execute_result"
    }
   ],
   "source": [
    "np.mean(result_15['2-20'])/int(round(1/(1+15)*972))"
   ]
  },
  {
   "cell_type": "code",
   "execution_count": 54,
   "metadata": {
    "collapsed": false,
    "scrolled": true
   },
   "outputs": [
    {
     "data": {
      "text/plain": [
       "0.83606557377049184"
      ]
     },
     "execution_count": 54,
     "metadata": {},
     "output_type": "execute_result"
    }
   ],
   "source": [
    "np.mean(result_15['1-4'])/int(round(1/(1+15)*972))"
   ]
  },
  {
   "cell_type": "markdown",
   "metadata": {},
   "source": [
    "### no1NN count T4T4 & T1T4 excluding 3Al"
   ]
  },
  {
   "cell_type": "code",
   "execution_count": 55,
   "metadata": {
    "collapsed": false
   },
   "outputs": [],
   "source": [
    "types = ['1-1','1-2','1-3','1-4','2-20','2-27']\n",
    "num = 50\n",
    "prefix = 'no1NN_T4frac84/swap_no1NN_T4frac84_count_T4T4_T1T4_EX3Al_{}_{}.p'\n",
    "savefileprefix = 'no1NN_T4frac84/swap_no1NN_T4frac84_count_T4T4_T1T4_EX3Al_{}_summary.p'\n",
    "results = combine_count_files(prefix, ratios[:1], types, num, savefileprefix)"
   ]
  },
  {
   "cell_type": "code",
   "execution_count": 58,
   "metadata": {
    "collapsed": false
   },
   "outputs": [],
   "source": [
    "result = pickle.load(open('no1NN_T4frac84/swap_no1NN_T4frac84_count_T4T4_T1T4_EX3Al_15_summary.p','rb'))"
   ]
  },
  {
   "cell_type": "code",
   "execution_count": 59,
   "metadata": {
    "collapsed": false,
    "scrolled": true
   },
   "outputs": [
    {
     "data": {
      "text/plain": [
       "0.20960655737704917"
      ]
     },
     "execution_count": 59,
     "metadata": {},
     "output_type": "execute_result"
    }
   ],
   "source": [
    "np.mean(result['total 2-body'])/int(round(1/(1+15)*972))"
   ]
  },
  {
   "cell_type": "code",
   "execution_count": 60,
   "metadata": {
    "collapsed": false,
    "scrolled": false
   },
   "outputs": [
    {
     "data": {
      "text/plain": [
       "0.19624590163934427"
      ]
     },
     "execution_count": 60,
     "metadata": {},
     "output_type": "execute_result"
    }
   ],
   "source": [
    "np.mean(result['2-27'])/int(round(1/(1+15)*972))"
   ]
  },
  {
   "cell_type": "code",
   "execution_count": 61,
   "metadata": {
    "collapsed": false
   },
   "outputs": [
    {
     "data": {
      "text/plain": [
       "0.013360655737704917"
      ]
     },
     "execution_count": 61,
     "metadata": {},
     "output_type": "execute_result"
    }
   ],
   "source": [
    "np.mean(result['2-20'])/int(round(1/(1+15)*972))"
   ]
  },
  {
   "cell_type": "code",
   "execution_count": 62,
   "metadata": {
    "collapsed": false
   },
   "outputs": [
    {
     "data": {
      "text/plain": [
       "0.83586885245901643"
      ]
     },
     "execution_count": 62,
     "metadata": {},
     "output_type": "execute_result"
    }
   ],
   "source": [
    "np.mean(result['1-4'])/int(round(1/(1+15)*972))"
   ]
  },
  {
   "cell_type": "code",
   "execution_count": 63,
   "metadata": {
    "collapsed": true
   },
   "outputs": [],
   "source": [
    "def combine_titration_files(prefix, types, num, savefileprefix,both=True):\n",
    "    for t in types:\n",
    "        results = {}\n",
    "        if both:\n",
    "            results['2-20'] = []\n",
    "            results['total'] = []\n",
    "        results['2-27'] = []\n",
    "        for i in range(1, num+1):\n",
    "            filename = prefix.format(t, i)\n",
    "            temp = pickle.load(open(filename, 'rb'))\n",
    "            if both:\n",
    "                results['2-20'].extend(temp['2-20'])\n",
    "                results['total'].extend([temp['2-20'][j]+temp['2-27'][j]for j,num in enumerate(temp['2-20'])])\n",
    "            results['2-27'].extend(temp['2-27'])\n",
    "        pickle.dump(results,open(savefileprefix.format(t),'wb'))\n",
    "    return results  \n",
    "#[k] for k in range(len(temp['2-27'][0])) "
   ]
  },
  {
   "cell_type": "code",
   "execution_count": 64,
   "metadata": {
    "collapsed": true
   },
   "outputs": [],
   "source": [
    "def summarize_titrate_results(results, both=True):\n",
    "    temp = {}\n",
    "    if both:\n",
    "        temp['2-20'] = []\n",
    "        temp['total'] = []\n",
    "    temp['2-27'] = []\n",
    "    for index, item in enumerate(results['2-27']):\n",
    "        temp['2-27'].append(np.mean(item))\n",
    "        if both:\n",
    "            temp['2-20'].append(np.mean(results['2-20'][index]))\n",
    "            temp['total'].append(np.mean(item)+np.mean(results['2-20'][index]))\n",
    "    return temp"
   ]
  },
  {
   "cell_type": "markdown",
   "metadata": {},
   "source": [
    "### no1NN titrate T4T4"
   ]
  },
  {
   "cell_type": "code",
   "execution_count": 65,
   "metadata": {
    "collapsed": false
   },
   "outputs": [],
   "source": [
    "types = ratios[:1]\n",
    "num = 50\n",
    "prefix = 'no1NN_T4frac84/swap_no1NN_T4frac84_titration_T4T4_{}_{}.p'\n",
    "savefileprefix = 'no1NN_T4frac84/swap_no1NN_T4frac84_titration_T4T4_{}_summary.p'\n",
    "results = combine_titration_files(prefix, types, num, savefileprefix,both=False)"
   ]
  },
  {
   "cell_type": "code",
   "execution_count": 66,
   "metadata": {
    "collapsed": false,
    "scrolled": true
   },
   "outputs": [
    {
     "data": {
      "text/plain": [
       "0.19705349794238683"
      ]
     },
     "execution_count": 66,
     "metadata": {},
     "output_type": "execute_result"
    }
   ],
   "source": [
    "np.mean(results['2-27'])/(1/(1+15)*972)"
   ]
  },
  {
   "cell_type": "markdown",
   "metadata": {},
   "source": [
    "### no1NN titrate T4T4 Exc3Al"
   ]
  },
  {
   "cell_type": "code",
   "execution_count": 102,
   "metadata": {
    "collapsed": false
   },
   "outputs": [],
   "source": [
    "types = ratios\n",
    "num = 50\n",
    "prefix = 'no1NN_T4frac84/swap_no1NN_T4frac84_titration_T4T4_EX3Al_{}_{}.p'\n",
    "savefileprefix = 'no1NN_T4frac84/swap_no1NN_T4frac84_titration_T4T4_EX3Al_{}_summary.p'\n",
    "results = combine_titration_files(prefix, types, num, savefileprefix,both=False)"
   ]
  },
  {
   "cell_type": "code",
   "execution_count": 103,
   "metadata": {
    "collapsed": false
   },
   "outputs": [
    {
     "data": {
      "text/plain": [
       "0.19705349794238683"
      ]
     },
     "execution_count": 103,
     "metadata": {},
     "output_type": "execute_result"
    }
   ],
   "source": [
    "np.mean(results['2-27'])/(1/(1+15)*972)"
   ]
  },
  {
   "cell_type": "markdown",
   "metadata": {},
   "source": [
    "### no1NN titrate T4T4 & T4T1"
   ]
  },
  {
   "cell_type": "code",
   "execution_count": 104,
   "metadata": {
    "collapsed": false
   },
   "outputs": [],
   "source": [
    "types = ratios[:1]\n",
    "num = 50\n",
    "prefix = 'no1NN_T4frac84/swap_no1NN_T4frac84_titration_T4T4_T1T4_{}_{}.p'\n",
    "savefileprefix = 'no1NN_T4frac84/swap_no1NN_T4frac84_titration_T4T4_T1T4_{}_summary.p'\n",
    "results = combine_titration_files(prefix, types, num, savefileprefix)"
   ]
  },
  {
   "cell_type": "code",
   "execution_count": 105,
   "metadata": {
    "collapsed": false
   },
   "outputs": [
    {
     "data": {
      "text/plain": [
       "0.21066666666666667"
      ]
     },
     "execution_count": 105,
     "metadata": {},
     "output_type": "execute_result"
    }
   ],
   "source": [
    "np.mean(results['total'])/(1/(1+15)*972)"
   ]
  },
  {
   "cell_type": "code",
   "execution_count": 106,
   "metadata": {
    "collapsed": false
   },
   "outputs": [
    {
     "data": {
      "text/plain": [
       "0.19705349794238683"
      ]
     },
     "execution_count": 106,
     "metadata": {},
     "output_type": "execute_result"
    }
   ],
   "source": [
    "np.mean(results['2-27'])/(1/(1+15)*972)"
   ]
  },
  {
   "cell_type": "code",
   "execution_count": 107,
   "metadata": {
    "collapsed": false
   },
   "outputs": [
    {
     "data": {
      "text/plain": [
       "0.013613168724279834"
      ]
     },
     "execution_count": 107,
     "metadata": {},
     "output_type": "execute_result"
    }
   ],
   "source": [
    "np.mean(results['2-20'])/(1/(1+15)*972)"
   ]
  },
  {
   "cell_type": "markdown",
   "metadata": {},
   "source": [
    "### no1NN titrate T4T4 & T4T1 Exc3Al"
   ]
  },
  {
   "cell_type": "code",
   "execution_count": 108,
   "metadata": {
    "collapsed": false
   },
   "outputs": [],
   "source": [
    "types = ratios[:1]\n",
    "num = 50\n",
    "prefix = 'no1NN_T4frac84/swap_no1NN_T4frac84_titration_T4T4_T1T4_EX3Al_{}_{}.p'\n",
    "savefileprefix = 'no1NN_T4frac84/swap_no1NN_T4frac84_titration_T4T4_T1T4_EX3Al_{}_summary.p'\n",
    "results = combine_titration_files(prefix, types, num, savefileprefix)"
   ]
  },
  {
   "cell_type": "code",
   "execution_count": 109,
   "metadata": {
    "collapsed": false
   },
   "outputs": [
    {
     "data": {
      "text/plain": [
       "0.21046913580246912"
      ]
     },
     "execution_count": 109,
     "metadata": {},
     "output_type": "execute_result"
    }
   ],
   "source": [
    "np.mean(results['total'])/(1/(1+15)*972)"
   ]
  },
  {
   "cell_type": "code",
   "execution_count": 110,
   "metadata": {
    "collapsed": false
   },
   "outputs": [
    {
     "data": {
      "text/plain": [
       "0.19705349794238683"
      ]
     },
     "execution_count": 110,
     "metadata": {},
     "output_type": "execute_result"
    }
   ],
   "source": [
    "np.mean(results['2-27'])/(1/(1+15)*972)"
   ]
  },
  {
   "cell_type": "code",
   "execution_count": 111,
   "metadata": {
    "collapsed": false
   },
   "outputs": [
    {
     "data": {
      "text/plain": [
       "0.013415637860082303"
      ]
     },
     "execution_count": 111,
     "metadata": {},
     "output_type": "execute_result"
    }
   ],
   "source": [
    "np.mean(results['2-20'])/(1/(1+15)*972)"
   ]
  },
  {
   "cell_type": "markdown",
   "metadata": {},
   "source": [
    "### Si/Al=15 No1NNnoT4T4 T4frac84 results"
   ]
  },
  {
   "cell_type": "code",
   "execution_count": 75,
   "metadata": {
    "collapsed": true
   },
   "outputs": [],
   "source": [
    "ratios = [15]"
   ]
  },
  {
   "cell_type": "code",
   "execution_count": 76,
   "metadata": {
    "collapsed": false
   },
   "outputs": [],
   "source": [
    "def combine_count_files(prefix, ratios, types, num, savefileprefix):\n",
    "    for ratio in ratios:\n",
    "        results = {}\n",
    "        for t in types:\n",
    "            results[t] = []\n",
    "        results['total 2-body'] = []\n",
    "        for i in range(1, num+1):\n",
    "            filename = prefix.format(ratio, i)\n",
    "            temp = pickle.load(open(filename, 'rb'))\n",
    "            for t in types:\n",
    "                results[t].extend(temp[t])\n",
    "            results['total 2-body'].extend([temp['2-20'][j]+temp['2-27'][j] for j,num in enumerate(temp['2-20'])])\n",
    "        pickle.dump(results,open(savefileprefix.format(ratio),'wb'))\n",
    "    return results  "
   ]
  },
  {
   "cell_type": "markdown",
   "metadata": {},
   "source": [
    "### no1NNnoT4T4 count T4T4 & T1T4"
   ]
  },
  {
   "cell_type": "code",
   "execution_count": 112,
   "metadata": {
    "collapsed": false
   },
   "outputs": [],
   "source": [
    "types = ['1-1','1-2','1-3','1-4','2-20','2-27']\n",
    "num = 50\n",
    "prefix = 'no1NNnoT4T4_T4frac84/swap_no1NNnoT4T4_T4frac84_count_T4T4_T1T4_{}_{}.p'\n",
    "savefileprefix = 'no1NNnoT4T4_T4frac84/swap_no1NNnoT4T4_T4frac84_count_T4T4_T1T4_{}_summary.p'\n",
    "results = combine_count_files(prefix, ratios,types, num, savefileprefix)"
   ]
  },
  {
   "cell_type": "code",
   "execution_count": 113,
   "metadata": {
    "collapsed": true
   },
   "outputs": [],
   "source": [
    "result_15 = pickle.load(open('no1NNnoT4T4_T4frac84/swap_no1NNnoT4T4_T4frac84_count_T4T4_T1T4_15_summary.p','rb'))"
   ]
  },
  {
   "cell_type": "code",
   "execution_count": 114,
   "metadata": {
    "collapsed": false
   },
   "outputs": [
    {
     "data": {
      "text/plain": [
       "0.02577049180327869"
      ]
     },
     "execution_count": 114,
     "metadata": {},
     "output_type": "execute_result"
    }
   ],
   "source": [
    "np.mean(result_15['total 2-body'])/int(round(1/(1+15)*972))"
   ]
  },
  {
   "cell_type": "code",
   "execution_count": 80,
   "metadata": {
    "collapsed": false
   },
   "outputs": [
    {
     "data": {
      "text/plain": [
       "0.0"
      ]
     },
     "execution_count": 80,
     "metadata": {},
     "output_type": "execute_result"
    }
   ],
   "source": [
    "np.mean(result_15['2-27'])/int(round(1/(1+15)*972))"
   ]
  },
  {
   "cell_type": "code",
   "execution_count": 81,
   "metadata": {
    "collapsed": false
   },
   "outputs": [
    {
     "data": {
      "text/plain": [
       "0.02577049180327869"
      ]
     },
     "execution_count": 81,
     "metadata": {},
     "output_type": "execute_result"
    }
   ],
   "source": [
    "np.mean(result_15['2-20'])/int(round(1/(1+15)*972))"
   ]
  },
  {
   "cell_type": "code",
   "execution_count": 82,
   "metadata": {
    "collapsed": false,
    "scrolled": true
   },
   "outputs": [
    {
     "data": {
      "text/plain": [
       "0.83606557377049184"
      ]
     },
     "execution_count": 82,
     "metadata": {},
     "output_type": "execute_result"
    }
   ],
   "source": [
    "np.mean(result_15['1-4'])/int(round(1/(1+15)*972))"
   ]
  },
  {
   "cell_type": "markdown",
   "metadata": {},
   "source": [
    "### no1NNnoT4T4 count T4T4 & T1T4 excluding 3Al"
   ]
  },
  {
   "cell_type": "code",
   "execution_count": 83,
   "metadata": {
    "collapsed": false
   },
   "outputs": [],
   "source": [
    "types = ['1-1','1-2','1-3','1-4','2-20','2-27']\n",
    "num = 50\n",
    "prefix = 'no1NNnoT4T4_T4frac84/swap_no1NNnoT4T4_T4frac84_count_T4T4_T1T4_EX3Al_{}_{}.p'\n",
    "savefileprefix = 'no1NNnoT4T4_T4frac84/swap_no1NNnoT4T4_T4frac84_count_T4T4_T1T4_EX3Al_{}_summary.p'\n",
    "results = combine_count_files(prefix, ratios[:1], types, num, savefileprefix)"
   ]
  },
  {
   "cell_type": "code",
   "execution_count": 84,
   "metadata": {
    "collapsed": false
   },
   "outputs": [],
   "source": [
    "result = pickle.load(open('no1NNnoT4T4_T4frac84/swap_no1NNnoT4T4_T4frac84_count_T4T4_T1T4_EX3Al_15_summary.p','rb'))"
   ]
  },
  {
   "cell_type": "code",
   "execution_count": 85,
   "metadata": {
    "collapsed": false,
    "scrolled": true
   },
   "outputs": [
    {
     "data": {
      "text/plain": [
       "0.025442622950819675"
      ]
     },
     "execution_count": 85,
     "metadata": {},
     "output_type": "execute_result"
    }
   ],
   "source": [
    "np.mean(result['total 2-body'])/int(round(1/(1+15)*972))"
   ]
  },
  {
   "cell_type": "code",
   "execution_count": 86,
   "metadata": {
    "collapsed": false,
    "scrolled": false
   },
   "outputs": [
    {
     "data": {
      "text/plain": [
       "0.0"
      ]
     },
     "execution_count": 86,
     "metadata": {},
     "output_type": "execute_result"
    }
   ],
   "source": [
    "np.mean(result['2-27'])/int(round(1/(1+15)*972))"
   ]
  },
  {
   "cell_type": "code",
   "execution_count": 87,
   "metadata": {
    "collapsed": false
   },
   "outputs": [
    {
     "data": {
      "text/plain": [
       "0.025442622950819675"
      ]
     },
     "execution_count": 87,
     "metadata": {},
     "output_type": "execute_result"
    }
   ],
   "source": [
    "np.mean(result['2-20'])/int(round(1/(1+15)*972))"
   ]
  },
  {
   "cell_type": "code",
   "execution_count": 88,
   "metadata": {
    "collapsed": false
   },
   "outputs": [
    {
     "data": {
      "text/plain": [
       "0.83590163934426231"
      ]
     },
     "execution_count": 88,
     "metadata": {},
     "output_type": "execute_result"
    }
   ],
   "source": [
    "np.mean(result['1-4'])/int(round(1/(1+15)*972))"
   ]
  },
  {
   "cell_type": "code",
   "execution_count": 89,
   "metadata": {
    "collapsed": true
   },
   "outputs": [],
   "source": [
    "def combine_titration_files(prefix, types, num, savefileprefix,both=True):\n",
    "    for t in types:\n",
    "        results = {}\n",
    "        if both:\n",
    "            results['2-20'] = []\n",
    "            results['total'] = []\n",
    "        results['2-27'] = []\n",
    "        for i in range(1, num+1):\n",
    "            filename = prefix.format(t, i)\n",
    "            temp = pickle.load(open(filename, 'rb'))\n",
    "            if both:\n",
    "                results['2-20'].extend(temp['2-20'])\n",
    "                results['total'].extend([temp['2-20'][j]+temp['2-27'][j]for j,num in enumerate(temp['2-20'])])\n",
    "            results['2-27'].extend(temp['2-27'])\n",
    "        pickle.dump(results,open(savefileprefix.format(t),'wb'))\n",
    "    return results  \n",
    "#[k] for k in range(len(temp['2-27'][0])) "
   ]
  },
  {
   "cell_type": "code",
   "execution_count": 90,
   "metadata": {
    "collapsed": true
   },
   "outputs": [],
   "source": [
    "def summarize_titrate_results(results, both=True):\n",
    "    temp = {}\n",
    "    if both:\n",
    "        temp['2-20'] = []\n",
    "        temp['total'] = []\n",
    "    temp['2-27'] = []\n",
    "    for index, item in enumerate(results['2-27']):\n",
    "        temp['2-27'].append(np.mean(item))\n",
    "        if both:\n",
    "            temp['2-20'].append(np.mean(results['2-20'][index]))\n",
    "            temp['total'].append(np.mean(item)+np.mean(results['2-20'][index]))\n",
    "    return temp"
   ]
  },
  {
   "cell_type": "markdown",
   "metadata": {},
   "source": [
    "### no1NNnoT4T4 titrate T4T4 & T4T1"
   ]
  },
  {
   "cell_type": "code",
   "execution_count": 98,
   "metadata": {
    "collapsed": false
   },
   "outputs": [],
   "source": [
    "types = ratios[:1]\n",
    "num = 50\n",
    "prefix = 'no1NNnoT4T4_T4frac84/swap_no1NNnoT4T4_T4frac84_t\n",
    "itration_T4T4_T1T4_{}_{}.p'\n",
    "savefileprefix = 'no1NNnoT4T4_T4frac84/swap_no1NNnoT4T4_T4frac84_titration_T4T4_T1T4_{}_summary.p'\n",
    "results = combine_titration_files(prefix, types, num, savefileprefix)"
   ]
  },
  {
   "cell_type": "code",
   "execution_count": 99,
   "metadata": {
    "collapsed": false
   },
   "outputs": [
    {
     "data": {
      "text/plain": [
       "0.025711934156378603"
      ]
     },
     "execution_count": 99,
     "metadata": {},
     "output_type": "execute_result"
    }
   ],
   "source": [
    "np.mean(results['total'])/(1/(1+15)*972)"
   ]
  },
  {
   "cell_type": "markdown",
   "metadata": {},
   "source": [
    "### no1NNnoT4T4 titrate T4T4 & T4T1 Exc3Al"
   ]
  },
  {
   "cell_type": "code",
   "execution_count": 100,
   "metadata": {
    "collapsed": false
   },
   "outputs": [],
   "source": [
    "types = ratios[:1]\n",
    "num = 50\n",
    "prefix = 'no1NNnoT4T4_T4frac84/swap_no1NNnoT4T4_T4frac84_titration_T4T4_T1T4_EX3Al_{}_{}.p'\n",
    "savefileprefix = 'no1NNnoT4T4_T4frac84/swap_no1NNnoT4T4_T4frac84_titration_T4T4_T1T4_EX3Al_{}_summary.p'\n",
    "results = combine_titration_files(prefix, types, num, savefileprefix)"
   ]
  },
  {
   "cell_type": "code",
   "execution_count": 101,
   "metadata": {
    "collapsed": false
   },
   "outputs": [
    {
     "data": {
      "text/plain": [
       "0.025547325102880658"
      ]
     },
     "execution_count": 101,
     "metadata": {},
     "output_type": "execute_result"
    }
   ],
   "source": [
    "np.mean(results['total'])/(1/(1+15)*972)"
   ]
  },
  {
   "cell_type": "markdown",
   "metadata": {},
   "source": [
    "### Si/Al=15results"
   ]
  },
  {
   "cell_type": "code",
   "execution_count": 35,
   "metadata": {
    "collapsed": true
   },
   "outputs": [],
   "source": [
    "ratios = [15]"
   ]
  },
  {
   "cell_type": "code",
   "execution_count": 36,
   "metadata": {
    "collapsed": false
   },
   "outputs": [],
   "source": [
    "def combine_count_files(prefix, ratios, types, num, savefileprefix):\n",
    "    for ratio in ratios:\n",
    "        results = {}\n",
    "        for t in types:\n",
    "            results[t] = []\n",
    "        results['total 2-body'] = []\n",
    "        for i in range(1, num+1):\n",
    "            filename = prefix.format(ratio, i)\n",
    "            temp = pickle.load(open(filename, 'rb'))\n",
    "            for t in types:\n",
    "                results[t].extend(temp[t])\n",
    "            results['total 2-body'].extend([temp['2-20'][j]+temp['2-27'][j] for j,num in enumerate(temp['2-20'])])\n",
    "        pickle.dump(results,open(savefileprefix.format(ratio),'wb'))\n",
    "    return results  "
   ]
  },
  {
   "cell_type": "markdown",
   "metadata": {},
   "source": [
    "### no1NN count T4T4 & T1T4"
   ]
  },
  {
   "cell_type": "code",
   "execution_count": 49,
   "metadata": {
    "collapsed": false
   },
   "outputs": [],
   "source": [
    "types = ['1-1','1-2','1-3','1-4','2-20','2-27']\n",
    "num = 50\n",
    "prefix = 'no1NN_T4frac84/swap_no1NN_T4frac84_count_T4T4_T1T4_{}_{}.p'\n",
    "savefileprefix = 'no1NN_T4frac84/swap_no1NN_T4frac84_count_T4T4_T1T4_{}_summary.p'\n",
    "results = combine_count_files(prefix, ratios,types, num, savefileprefix)"
   ]
  },
  {
   "cell_type": "code",
   "execution_count": 50,
   "metadata": {
    "collapsed": true
   },
   "outputs": [],
   "source": [
    "result_15 = pickle.load(open('no1NN_T4frac84/swap_no1NN_T4frac84_count_T4T4_T1T4_15_summary.p','rb'))"
   ]
  },
  {
   "cell_type": "code",
   "execution_count": 51,
   "metadata": {
    "collapsed": false
   },
   "outputs": [
    {
     "data": {
      "text/plain": [
       "0.21086419753086422"
      ]
     },
     "execution_count": 51,
     "metadata": {},
     "output_type": "execute_result"
    }
   ],
   "source": [
    "np.mean(result_15['total 2-body'])/(1/(1+15)*972)"
   ]
  },
  {
   "cell_type": "code",
   "execution_count": 52,
   "metadata": {
    "collapsed": false
   },
   "outputs": [
    {
     "data": {
      "text/plain": [
       "0.19624590163934427"
      ]
     },
     "execution_count": 52,
     "metadata": {},
     "output_type": "execute_result"
    }
   ],
   "source": [
    "np.mean(result_15['2-27'])/int(round(1/(1+15)*972))"
   ]
  },
  {
   "cell_type": "code",
   "execution_count": 53,
   "metadata": {
    "collapsed": false
   },
   "outputs": [
    {
     "data": {
      "text/plain": [
       "0.013754098360655737"
      ]
     },
     "execution_count": 53,
     "metadata": {},
     "output_type": "execute_result"
    }
   ],
   "source": [
    "np.mean(result_15['2-20'])/int(round(1/(1+15)*972))"
   ]
  },
  {
   "cell_type": "code",
   "execution_count": 54,
   "metadata": {
    "collapsed": false,
    "scrolled": true
   },
   "outputs": [
    {
     "data": {
      "text/plain": [
       "0.83606557377049184"
      ]
     },
     "execution_count": 54,
     "metadata": {},
     "output_type": "execute_result"
    }
   ],
   "source": [
    "np.mean(result_15['1-4'])/int(round(1/(1+15)*972))"
   ]
  },
  {
   "cell_type": "markdown",
   "metadata": {},
   "source": [
    "### no1NN count T4T4 & T1T4 excluding 3Al"
   ]
  },
  {
   "cell_type": "code",
   "execution_count": 55,
   "metadata": {
    "collapsed": false
   },
   "outputs": [],
   "source": [
    "types = ['1-1','1-2','1-3','1-4','2-20','2-27']\n",
    "num = 50\n",
    "prefix = 'no1NN_T4frac84/swap_no1NN_T4frac84_count_T4T4_T1T4_EX3Al_{}_{}.p'\n",
    "savefileprefix = 'no1NN_T4frac84/swap_no1NN_T4frac84_count_T4T4_T1T4_EX3Al_{}_summary.p'\n",
    "results = combine_count_files(prefix, ratios[:1], types, num, savefileprefix)"
   ]
  },
  {
   "cell_type": "code",
   "execution_count": 58,
   "metadata": {
    "collapsed": false
   },
   "outputs": [],
   "source": [
    "result = pickle.load(open('no1NN_T4frac84/swap_no1NN_T4frac84_count_T4T4_T1T4_EX3Al_15_summary.p','rb'))"
   ]
  },
  {
   "cell_type": "code",
   "execution_count": 59,
   "metadata": {
    "collapsed": false,
    "scrolled": true
   },
   "outputs": [
    {
     "data": {
      "text/plain": [
       "0.20960655737704917"
      ]
     },
     "execution_count": 59,
     "metadata": {},
     "output_type": "execute_result"
    }
   ],
   "source": [
    "np.mean(result['total 2-body'])/int(round(1/(1+15)*972))"
   ]
  },
  {
   "cell_type": "code",
   "execution_count": 60,
   "metadata": {
    "collapsed": false,
    "scrolled": false
   },
   "outputs": [
    {
     "data": {
      "text/plain": [
       "0.19624590163934427"
      ]
     },
     "execution_count": 60,
     "metadata": {},
     "output_type": "execute_result"
    }
   ],
   "source": [
    "np.mean(result['2-27'])/int(round(1/(1+15)*972))"
   ]
  },
  {
   "cell_type": "code",
   "execution_count": 61,
   "metadata": {
    "collapsed": false
   },
   "outputs": [
    {
     "data": {
      "text/plain": [
       "0.013360655737704917"
      ]
     },
     "execution_count": 61,
     "metadata": {},
     "output_type": "execute_result"
    }
   ],
   "source": [
    "np.mean(result['2-20'])/int(round(1/(1+15)*972))"
   ]
  },
  {
   "cell_type": "code",
   "execution_count": 62,
   "metadata": {
    "collapsed": false
   },
   "outputs": [
    {
     "data": {
      "text/plain": [
       "0.83586885245901643"
      ]
     },
     "execution_count": 62,
     "metadata": {},
     "output_type": "execute_result"
    }
   ],
   "source": [
    "np.mean(result['1-4'])/int(round(1/(1+15)*972))"
   ]
  },
  {
   "cell_type": "code",
   "execution_count": 63,
   "metadata": {
    "collapsed": true
   },
   "outputs": [],
   "source": [
    "def combine_titration_files(prefix, types, num, savefileprefix,both=True):\n",
    "    for t in types:\n",
    "        results = {}\n",
    "        if both:\n",
    "            results['2-20'] = []\n",
    "            results['total'] = []\n",
    "        results['2-27'] = []\n",
    "        for i in range(1, num+1):\n",
    "            filename = prefix.format(t, i)\n",
    "            temp = pickle.load(open(filename, 'rb'))\n",
    "            if both:\n",
    "                results['2-20'].extend(temp['2-20'])\n",
    "                results['total'].extend([temp['2-20'][j]+temp['2-27'][j]for j,num in enumerate(temp['2-20'])])\n",
    "            results['2-27'].extend(temp['2-27'])\n",
    "        pickle.dump(results,open(savefileprefix.format(t),'wb'))\n",
    "    return results  \n",
    "#[k] for k in range(len(temp['2-27'][0])) "
   ]
  },
  {
   "cell_type": "code",
   "execution_count": 64,
   "metadata": {
    "collapsed": true
   },
   "outputs": [],
   "source": [
    "def summarize_titrate_results(results, both=True):\n",
    "    temp = {}\n",
    "    if both:\n",
    "        temp['2-20'] = []\n",
    "        temp['total'] = []\n",
    "    temp['2-27'] = []\n",
    "    for index, item in enumerate(results['2-27']):\n",
    "        temp['2-27'].append(np.mean(item))\n",
    "        if both:\n",
    "            temp['2-20'].append(np.mean(results['2-20'][index]))\n",
    "            temp['total'].append(np.mean(item)+np.mean(results['2-20'][index]))\n",
    "    return temp"
   ]
  },
  {
   "cell_type": "markdown",
   "metadata": {},
   "source": [
    "### no1NN titrate T4T4"
   ]
  },
  {
   "cell_type": "code",
   "execution_count": 65,
   "metadata": {
    "collapsed": false
   },
   "outputs": [],
   "source": [
    "types = ratios[:1]\n",
    "num = 50\n",
    "prefix = 'no1NN_T4frac84/swap_no1NN_T4frac84_titration_T4T4_{}_{}.p'\n",
    "savefileprefix = 'no1NN_T4frac84/swap_no1NN_T4frac84_titration_T4T4_{}_summary.p'\n",
    "results = combine_titration_files(prefix, types, num, savefileprefix,both=False)"
   ]
  },
  {
   "cell_type": "code",
   "execution_count": 66,
   "metadata": {
    "collapsed": false,
    "scrolled": true
   },
   "outputs": [
    {
     "data": {
      "text/plain": [
       "0.19705349794238683"
      ]
     },
     "execution_count": 66,
     "metadata": {},
     "output_type": "execute_result"
    }
   ],
   "source": [
    "np.mean(results['2-27'])/(1/(1+15)*972)"
   ]
  },
  {
   "cell_type": "markdown",
   "metadata": {},
   "source": [
    "### no1NN titrate T4T4 Exc3Al"
   ]
  },
  {
   "cell_type": "code",
   "execution_count": 102,
   "metadata": {
    "collapsed": false
   },
   "outputs": [],
   "source": [
    "types = ratios\n",
    "num = 50\n",
    "prefix = 'no1NN_T4frac84/swap_no1NN_T4frac84_titration_T4T4_EX3Al_{}_{}.p'\n",
    "savefileprefix = 'no1NN_T4frac84/swap_no1NN_T4frac84_titration_T4T4_EX3Al_{}_summary.p'\n",
    "results = combine_titration_files(prefix, types, num, savefileprefix,both=False)"
   ]
  },
  {
   "cell_type": "code",
   "execution_count": 103,
   "metadata": {
    "collapsed": false
   },
   "outputs": [
    {
     "data": {
      "text/plain": [
       "0.19705349794238683"
      ]
     },
     "execution_count": 103,
     "metadata": {},
     "output_type": "execute_result"
    }
   ],
   "source": [
    "np.mean(results['2-27'])/(1/(1+15)*972)"
   ]
  },
  {
   "cell_type": "markdown",
   "metadata": {},
   "source": [
    "### no1NN titrate T4T4 & T4T1"
   ]
  },
  {
   "cell_type": "code",
   "execution_count": 104,
   "metadata": {
    "collapsed": false
   },
   "outputs": [],
   "source": [
    "types = ratios[:1]\n",
    "num = 50\n",
    "prefix = 'no1NN_T4frac84/swap_no1NN_T4frac84_titration_T4T4_T1T4_{}_{}.p'\n",
    "savefileprefix = 'no1NN_T4frac84/swap_no1NN_T4frac84_titration_T4T4_T1T4_{}_summary.p'\n",
    "results = combine_titration_files(prefix, types, num, savefileprefix)"
   ]
  },
  {
   "cell_type": "code",
   "execution_count": 105,
   "metadata": {
    "collapsed": false
   },
   "outputs": [
    {
     "data": {
      "text/plain": [
       "0.21066666666666667"
      ]
     },
     "execution_count": 105,
     "metadata": {},
     "output_type": "execute_result"
    }
   ],
   "source": [
    "np.mean(results['total'])/(1/(1+15)*972)"
   ]
  },
  {
   "cell_type": "code",
   "execution_count": 106,
   "metadata": {
    "collapsed": false
   },
   "outputs": [
    {
     "data": {
      "text/plain": [
       "0.19705349794238683"
      ]
     },
     "execution_count": 106,
     "metadata": {},
     "output_type": "execute_result"
    }
   ],
   "source": [
    "np.mean(results['2-27'])/(1/(1+15)*972)"
   ]
  },
  {
   "cell_type": "code",
   "execution_count": 107,
   "metadata": {
    "collapsed": false
   },
   "outputs": [
    {
     "data": {
      "text/plain": [
       "0.013613168724279834"
      ]
     },
     "execution_count": 107,
     "metadata": {},
     "output_type": "execute_result"
    }
   ],
   "source": [
    "np.mean(results['2-20'])/(1/(1+15)*972)"
   ]
  },
  {
   "cell_type": "markdown",
   "metadata": {},
   "source": [
    "### no1NN titrate T4T4 & T4T1 Exc3Al"
   ]
  },
  {
   "cell_type": "code",
   "execution_count": 108,
   "metadata": {
    "collapsed": false
   },
   "outputs": [],
   "source": [
    "types = ratios[:1]\n",
    "num = 50\n",
    "prefix = 'no1NN_T4frac84/swap_no1NN_T4frac84_titration_T4T4_T1T4_EX3Al_{}_{}.p'\n",
    "savefileprefix = 'no1NN_T4frac84/swap_no1NN_T4frac84_titration_T4T4_T1T4_EX3Al_{}_summary.p'\n",
    "results = combine_titration_files(prefix, types, num, savefileprefix)"
   ]
  },
  {
   "cell_type": "code",
   "execution_count": 109,
   "metadata": {
    "collapsed": false
   },
   "outputs": [
    {
     "data": {
      "text/plain": [
       "0.21046913580246912"
      ]
     },
     "execution_count": 109,
     "metadata": {},
     "output_type": "execute_result"
    }
   ],
   "source": [
    "np.mean(results['total'])/(1/(1+15)*972)"
   ]
  },
  {
   "cell_type": "code",
   "execution_count": 110,
   "metadata": {
    "collapsed": false
   },
   "outputs": [
    {
     "data": {
      "text/plain": [
       "0.19705349794238683"
      ]
     },
     "execution_count": 110,
     "metadata": {},
     "output_type": "execute_result"
    }
   ],
   "source": [
    "np.mean(results['2-27'])/(1/(1+15)*972)"
   ]
  },
  {
   "cell_type": "code",
   "execution_count": 111,
   "metadata": {
    "collapsed": false
   },
   "outputs": [
    {
     "data": {
      "text/plain": [
       "0.013415637860082303"
      ]
     },
     "execution_count": 111,
     "metadata": {},
     "output_type": "execute_result"
    }
   ],
   "source": [
    "np.mean(results['2-20'])/(1/(1+15)*972)"
   ]
  },
  {
   "cell_type": "markdown",
   "metadata": {},
   "source": [
    "### T4 frac var"
   ]
  },
  {
   "cell_type": "code",
   "execution_count": 10,
   "metadata": {
    "collapsed": false
   },
   "outputs": [],
   "source": [
    "def combine_count_files(prefix, ratios, types, num, savefileprefix):\n",
    "    for ratio in ratios:\n",
    "        results = {}\n",
    "        for t in types:\n",
    "            results[t] = []\n",
    "        results['total 2-body'] = []\n",
    "        for i in range(1, num+1):\n",
    "            filename = prefix.format(ratio, i)\n",
    "            temp = pickle.load(open(filename, 'rb'))\n",
    "            for t in types:\n",
    "                results[t].extend(temp[t])\n",
    "            results['total 2-body'].extend([temp['2-20'][j]+temp['2-27'][j] for j,num in enumerate(temp['2-20'])])\n",
    "        #print(results)\n",
    "        pickle.dump(results,open(savefileprefix.format(ratio),'wb'))\n",
    "    return results  "
   ]
  },
  {
   "cell_type": "code",
   "execution_count": 11,
   "metadata": {
    "collapsed": true
   },
   "outputs": [],
   "source": [
    "def combine_titration_files(prefix, ratios, num, savefileprefix,both=True):\n",
    "    for ratio in ratios:\n",
    "        results = {}\n",
    "        if both:\n",
    "            results['2-20'] = []\n",
    "            results['total'] = []\n",
    "        results['2-27'] = []\n",
    "        for i in range(1, num+1):\n",
    "            filename = prefix.format(ratio, i)\n",
    "            temp = pickle.load(open(filename, 'rb'))\n",
    "            if both:\n",
    "                results['2-20'].extend(temp['2-20'])\n",
    "                results['total'].extend([temp['2-20'][j]+temp['2-27'][j]for j,num in enumerate(temp['2-20'])])\n",
    "            results['2-27'].extend(temp['2-27'])\n",
    "        pickle.dump(results,open(savefileprefix.format(ratio),'wb'))\n",
    "    return results  \n",
    "#[k] for k in range(len(temp['2-27'][0])) "
   ]
  },
  {
   "cell_type": "code",
   "execution_count": 14,
   "metadata": {
    "collapsed": true
   },
   "outputs": [],
   "source": [
    "def combine_all_files_frac_var(ratios,types, num, fracs):\n",
    "    types = types\n",
    "    num = num\n",
    "    for frac in fracs:\n",
    "        prefix = 'no1NNnoT4T4_T4varfrac/swap_no1NNnoT4T4_T4frac'+str(frac)+'_count_T4T4_T1T4_{0}_{1}.p'\n",
    "        savefileprefix = 'no1NNnoT4T4_T4varfrac/swap_no1NNnoT4T4_T4frac'+str(frac)+'_count_T4T4_T1T4_{0}_summary.p'\n",
    "        results = combine_count_files(prefix, ratios,types, num, savefileprefix)\n",
    "        prefix = 'no1NNnoT4T4_T4varfrac/swap_no1NNnoT4T4_T4frac'+str(frac)+'_count_T4T4_T1T4_EX3Al_{0}_{1}.p'\n",
    "        savefileprefix = 'no1NNnoT4T4_T4varfrac/swap_no1NNnoT4T4_T4frac'+str(frac)+'_count_T4T4_T1T4_EX3Al_{0}_summary.p'\n",
    "        results = combine_count_files(prefix, ratios, types, num, savefileprefix)\n",
    "        prefix = 'no1NNnoT4T4_T4varfrac/swap_no1NNnoT4T4_T4frac'+str(frac)+'_titration_T4T4_T1T4_{0}_{1}.p'\n",
    "        savefileprefix = 'no1NNnoT4T4_T4varfrac/swap_no1NNnoT4T4_T4frac'+str(frac)+'_titration_T4T4_T1T4_{0}_summary.p'\n",
    "        results = combine_titration_files(prefix, ratios, num, savefileprefix)\n",
    "        prefix = 'no1NNnoT4T4_T4varfrac/swap_no1NNnoT4T4_T4frac'+str(frac)+'_titration_T4T4_T1T4_EX3Al_{0}_{1}.p'\n",
    "        savefileprefix = 'no1NNnoT4T4_T4varfrac/swap_no1NNnoT4T4_T4frac'+str(frac)+'_titration_T4T4_T1T4_EX3Al_{0}_summary.p'\n",
    "        results = combine_titration_files(prefix, ratios, num, savefileprefix)\n",
    "    return"
   ]
  },
  {
   "cell_type": "code",
   "execution_count": 15,
   "metadata": {
    "collapsed": false
   },
   "outputs": [],
   "source": [
    "ratios = [15]\n",
    "fracs = [75,80,85,90,95]\n",
    "types = ['1-1','1-2','1-3','1-4','2-20','2-27']\n",
    "num=50\n",
    "for frac in fracs:\n",
    "    combine_all_files_frac_var(ratios,types, num, fracs)\n",
    "\n",
    "ratios = [9]\n",
    "fracs = [40,45,50,55,60]\n",
    "\n",
    "for frac in fracs:\n",
    "    combine_all_files_frac_var(ratios,types, num, fracs)"
   ]
  },
  {
   "cell_type": "code",
   "execution_count": 112,
   "metadata": {
    "collapsed": false
   },
   "outputs": [],
   "source": [
    "types = ['1-1','1-2','1-3','1-4','2-20','2-27']\n",
    "num = 50\n",
    "prefix = 'no1NNnoT4T4_T4frac84/swap_no1NNnoT4T4_T4frac84_count_T4T4_T1T4_{}_{}.p'\n",
    "savefileprefix = 'no1NNnoT4T4_T4frac84/swap_no1NNnoT4T4_T4frac84_count_T4T4_T1T4_{}_summary.p'\n",
    "results = combine_count_files(prefix, ratios,types, num, savefileprefix)"
   ]
  },
  {
   "cell_type": "code",
   "execution_count": 83,
   "metadata": {
    "collapsed": false
   },
   "outputs": [],
   "source": [
    "types = ['1-1','1-2','1-3','1-4','2-20','2-27']\n",
    "num = 50\n",
    "prefix = 'no1NNnoT4T4_T4frac84/swap_no1NNnoT4T4_T4frac84_count_T4T4_T1T4_EX3Al_{}_{}.p'\n",
    "savefileprefix = 'no1NNnoT4T4_T4frac84/swap_no1NNnoT4T4_T4frac84_count_T4T4_T1T4_EX3Al_{}_summary.p'\n",
    "results = combine_count_files(prefix, ratios[:1], types, num, savefileprefix)"
   ]
  },
  {
   "cell_type": "code",
   "execution_count": 98,
   "metadata": {
    "collapsed": false
   },
   "outputs": [],
   "source": [
    "types = ratios[:1]\n",
    "num = 50\n",
    "prefix = 'no1NNnoT4T4_T4frac84/swap_no1NNnoT4T4_T4frac84_titration_T4T4_T1T4_{}_{}.p'\n",
    "savefileprefix = 'no1NNnoT4T4_T4frac84/swap_no1NNnoT4T4_T4frac84_titration_T4T4_T1T4_{}_summary.p'\n",
    "results = combine_titration_files(prefix, types, num, savefileprefix)"
   ]
  },
  {
   "cell_type": "code",
   "execution_count": 100,
   "metadata": {
    "collapsed": false
   },
   "outputs": [],
   "source": [
    "types = ratios[:1]\n",
    "num = 50\n",
    "prefix = 'no1NNnoT4T4_T4frac84/swap_no1NNnoT4T4_T4frac84_titration_T4T4_T1T4_EX3Al_{}_{}.p'\n",
    "savefileprefix = 'no1NNnoT4T4_T4frac84/swap_no1NNnoT4T4_T4frac84_titration_T4T4_T1T4_EX3Al_{}_summary.p'\n",
    "results = combine_titration_files(prefix, types, num, savefileprefix)"
   ]
  },
  {
   "cell_type": "code",
   "execution_count": null,
   "metadata": {
    "collapsed": true
   },
   "outputs": [],
   "source": []
  }
 ],
 "metadata": {
  "kernelspec": {
   "display_name": "Python 3",
   "language": "python",
   "name": "python3"
  },
  "language_info": {
   "codemirror_mode": {
    "name": "ipython",
    "version": 3
   },
   "file_extension": ".py",
   "mimetype": "text/x-python",
   "name": "python",
   "nbconvert_exporter": "python",
   "pygments_lexer": "ipython3",
   "version": "3.6.0"
  }
 },
 "nbformat": 4,
 "nbformat_minor": 2
}
