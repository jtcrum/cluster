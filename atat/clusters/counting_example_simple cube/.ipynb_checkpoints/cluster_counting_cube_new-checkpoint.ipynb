{
 "cells": [
  {
   "cell_type": "markdown",
   "metadata": {},
   "source": [
    "## need to make cluster sites ordered"
   ]
  },
  {
   "cell_type": "code",
   "execution_count": 1,
   "metadata": {
    "collapsed": true
   },
   "outputs": [],
   "source": [
    "import pandas as pd\n",
    "import numpy as np\n",
    "import copy\n",
    "from math import *\n",
    "import os\n",
    "import random\n",
    "from collections import defaultdict\n",
    "import csv\n",
    "from functools import reduce\n",
    "from copy import deepcopy\n",
    "import pickle\n",
    "from timeit import default_timer as timer\n",
    "from matplotlib import pyplot as plt\n",
    "from ase import Atoms\n",
    "from ase.io import read\n",
    "from ase.io import write\n",
    "from ase.visualize import view\n",
    "%matplotlib inline"
   ]
  },
  {
   "cell_type": "code",
   "execution_count": 2,
   "metadata": {
    "collapsed": true
   },
   "outputs": [],
   "source": [
    "pd.set_option('display.max_columns', 500)"
   ]
  },
  {
   "cell_type": "code",
   "execution_count": 3,
   "metadata": {
    "collapsed": true
   },
   "outputs": [],
   "source": [
    "def lattice_axes_xyz(lattice):\n",
    "    '''\n",
    "    function to prepare the xyz axes (a matrix)\n",
    "                [ax] [ay] [az]\n",
    "    axes_xyz =  [bx] [by] [bz]\n",
    "                [cx] [cy] [cz]\n",
    "    '''\n",
    "    a = np.array([1,0,0]) * lattice['a']\n",
    "    b = np.array([cos(lattice['gamma']/180*pi), sin(lattice['gamma']/180*pi), 0]) * lattice['b']\n",
    "    c = np.cross(a, b)/np.linalg.norm(np.cross(a, b)) * lattice['c']\n",
    "    return np.array((a,b,c))"
   ]
  },
  {
   "cell_type": "code",
   "execution_count": 4,
   "metadata": {
    "collapsed": true
   },
   "outputs": [],
   "source": [
    "def lattice_axes_abc(lattice):\n",
    "    '''\n",
    "    function to prepare the abc axes (a matrix)\n",
    "                [ua] [ub] [uc]\n",
    "    axes_abc =  [va] [vb] [vc]\n",
    "                [wa] [wb] [wc]\n",
    "    '''\n",
    "    return np.array((lattice['u'], lattice['v'], lattice['w']))"
   ]
  },
  {
   "cell_type": "code",
   "execution_count": 5,
   "metadata": {
    "collapsed": true
   },
   "outputs": [],
   "source": [
    "def frac_to_xyz(axes_xyz, frac_coor):\n",
    "    '''\n",
    "    function to convert fractional coordinates to xyz coordinates\n",
    "    '''\n",
    "    return np.dot(frac_coor, axes_xyz)"
   ]
  },
  {
   "cell_type": "code",
   "execution_count": 6,
   "metadata": {
    "collapsed": true
   },
   "outputs": [],
   "source": [
    "def xyz_to_frac(axes_xyz, xyz_coor):\n",
    "    '''\n",
    "    function to convert xyz coordinates to fractional coordinates\n",
    "    '''\n",
    "    return np.dot(xyz_coor, np.linalg.inv(axes_xyz))"
   ]
  },
  {
   "cell_type": "code",
   "execution_count": 7,
   "metadata": {
    "collapsed": true
   },
   "outputs": [],
   "source": [
    "def frac_to_uvw(axes_abc, frac_coor):\n",
    "    '''\n",
    "    function to convert fractional coordinates to xyz coordinates\n",
    "    '''\n",
    "    return np.dot(frac_coor, np.linalg.inv(axes_abc))"
   ]
  },
  {
   "cell_type": "code",
   "execution_count": 8,
   "metadata": {
    "collapsed": true
   },
   "outputs": [],
   "source": [
    "def uvw_to_frac(axes_abc, uvw_coor):\n",
    "    '''\n",
    "    function to convert fractional coordinates to xyz coordinates\n",
    "    '''\n",
    "    return np.dot(uvw_coor, axes_abc)"
   ]
  },
  {
   "cell_type": "code",
   "execution_count": 9,
   "metadata": {
    "collapsed": true
   },
   "outputs": [],
   "source": [
    "def find_site_index_frac(frac, df):\n",
    "    site_index = list(df[(abs(df.a-frac[0]) < 0.001) & (abs(df.b-frac[1]) < 0.001) & (abs(df.c-frac[2]) < 0.001)].site_index)\n",
    "    if len(site_index) == 0:\n",
    "        print(\"Error! Cannot find the site index in the structure.\")\n",
    "        return np.nan\n",
    "    elif len(site_index) < 1:\n",
    "        print(\"Error! Find multiple site indices in the structure.\")\n",
    "        return np.nan\n",
    "    else:\n",
    "        return site_index[0]"
   ]
  },
  {
   "cell_type": "code",
   "execution_count": 10,
   "metadata": {
    "collapsed": true
   },
   "outputs": [],
   "source": [
    "def find_site_index_xyz(xyz, df):\n",
    "    site_index = list(df[(abs(df.x-xyz[0]) < 0.001) & (abs(df.y-xyz[1]) < 0.001) & (abs(df.z-xyz[2]) < 0.001)].site_index)\n",
    "    #print(site_index)\n",
    "    if len(site_index) == 0:\n",
    "        print(\"Error! Cannot find the site index in the structure.\")\n",
    "        return np.nan\n",
    "    elif len(site_index) > 1:\n",
    "        print(\"Error! Find multiple site indices in the structure.\")\n",
    "        return np.nan\n",
    "    else:\n",
    "        return site_index[0]"
   ]
  },
  {
   "cell_type": "code",
   "execution_count": 11,
   "metadata": {
    "collapsed": true
   },
   "outputs": [],
   "source": [
    "def find_df_index_frac(frac, df):\n",
    "    df_index = list(df[(abs(df.a-frac[0]) < 0.001) & (abs(df.b-frac[1]) < 0.001) & (abs(df.c-frac[2]) < 0.001)].index)\n",
    "    if len(df_index) == 0:\n",
    "        print(\"Error! Cannot find the site index in the structure.\")\n",
    "        return np.nan\n",
    "    elif len(df_index) > 1:\n",
    "        print(\"Error! Find multiple site indices in the structure.\")\n",
    "        return np.nan\n",
    "    else:\n",
    "        return int(df_index[0])   "
   ]
  },
  {
   "cell_type": "code",
   "execution_count": 12,
   "metadata": {
    "collapsed": true
   },
   "outputs": [],
   "source": [
    "def find_df_index_xyz(xyz, df):\n",
    "    df_index = list(df[(abs(df.x-xyz[0]) < 0.001) & (abs(df.y-xyz[1]) < 0.001) & (abs(df.z-xyz[2]) < 0.001)].index)\n",
    "    if len(df_index) == 0:\n",
    "        print(\"Error! Cannot find the site index in the structure.\")\n",
    "        return np.nan\n",
    "    elif len(df_index) > 1:\n",
    "        print(\"Error! Find multiple site indices in the structure.\")\n",
    "        return np.nan\n",
    "    else:\n",
    "        return int(df_index[0])"
   ]
  },
  {
   "cell_type": "code",
   "execution_count": 13,
   "metadata": {
    "collapsed": true
   },
   "outputs": [],
   "source": [
    "def translate_frac_into_structure(frac_coor, axes_abc, structure):\n",
    "    nu, nv, nw = len(urange),len(vrange),len(wrange)\n",
    "    \n",
    "    fu, fv, fw = np.dot(frac_coor, np.linalg.inv(axes_abc))\n",
    "    print(fu, fv,fw)\n",
    "    \n",
    "    #translate the site into the structure by subtracting multiple structure vector on each dimension\n",
    "    fu -= (fu//nu)*nu\n",
    "    fv -= (fv//nv)*nv\n",
    "    fw -= (fw//nw)*nw\n",
    "    print(fu, fv, fw)\n",
    "    \n",
    "    \n",
    "    return np.dot(np.array((fu, fv, fw)), axes_abc)"
   ]
  },
  {
   "cell_type": "code",
   "execution_count": 14,
   "metadata": {
    "collapsed": true
   },
   "outputs": [],
   "source": [
    "def add_xyz(df, axes_xyz):\n",
    "    df['x'] = df.apply(lambda row: frac_to_xyz(axes_xyz, [row.a, row.b, row.c])[0], axis=1)\n",
    "    df['y'] = df.apply(lambda row: frac_to_xyz(axes_xyz, [row.a, row.b, row.c])[1], axis=1)\n",
    "    df['z'] = df.apply(lambda row: frac_to_xyz(axes_xyz, [row.a, row.b, row.c])[2], axis=1)\n",
    "    return df"
   ]
  },
  {
   "cell_type": "code",
   "execution_count": 15,
   "metadata": {
    "collapsed": true
   },
   "outputs": [],
   "source": [
    "def visualize_str_no_rep(sites_df, str_vec, xyz_file_path, png_file_path):\n",
    "    filepath = xyz_file_path\n",
    "    if os.path.isfile(filepath):\n",
    "        os.remove(filepath)\n",
    "    with open(filepath, 'a') as file:\n",
    "        file.write('{}\\n'.format(len(sites_df)))\n",
    "        file.write('\\n')\n",
    "        for index, row in sites_df.iterrows():\n",
    "            file.write('{} {} {} {}\\n'.format(row.atom.split(',')[int(str_vec[index])],row.x, row.y, row.z))\n",
    "    c= read(filepath)\n",
    "    write(png_file_path, c, format=None, parallel=True)"
   ]
  },
  {
   "cell_type": "code",
   "execution_count": 16,
   "metadata": {
    "collapsed": true
   },
   "outputs": [],
   "source": [
    "def visualize_str_rep(sites_df, str_vec, xyz_file_path, png_file_path):\n",
    "    filepath = xyz_file_path\n",
    "    if os.path.isfile(filepath):\n",
    "        os.remove(filepath)\n",
    "    with open(filepath, 'a') as file:\n",
    "        file.write('{}\\n'.format(len(sites_df)))\n",
    "        file.write('\\n')\n",
    "        for index, row in sites_df.iterrows():\n",
    "            file.write('{} {} {} {}\\n'.format(row.atom.split(',')[int(str_vec[int(row.site_index.split('-')[-1])])],row.x, row.y, row.z))\n",
    "    c= read(filepath)\n",
    "    write(png_file_path, c, format=None, parallel=True)"
   ]
  },
  {
   "cell_type": "markdown",
   "metadata": {},
   "source": [
    "#### Read lat.in"
   ]
  },
  {
   "cell_type": "code",
   "execution_count": 17,
   "metadata": {
    "collapsed": true
   },
   "outputs": [],
   "source": [
    "filepath='lat.in'\n",
    "file = open(filepath, 'r')\n",
    "lat = file.readlines()\n",
    "\n",
    "lattice = {}\n",
    "lattice['a'], lattice['b'], lattice['c'], lattice['alpha'], lattice['beta'], lattice['gamma'] = [float(number) for number in lat[0].split()]\n",
    "lattice['u'] = [int(number) for number in lat[1].split()]\n",
    "lattice['v'] = [int(number) for number in lat[2].split()]\n",
    "lattice['w'] = [int(number) for number in lat[3].split()]\n",
    "\n",
    "lattice_sites = pd.DataFrame(columns=['a', 'b', 'c', 'atom'])\n",
    "for line in lat[4:]:\n",
    "    site = line.split()[:3]\n",
    "    atom_type = ''\n",
    "    for atom in line.split()[3:]:\n",
    "        atom_type += str(atom)\n",
    "    site.append(atom_type)\n",
    "    lattice_sites = lattice_sites.append(pd.DataFrame([site], columns=['a', 'b', 'c', 'atom']))\n",
    "lattice_sites = lattice_sites.apply(pd.to_numeric, errors = 'ignore')\n",
    "lattice['sites'] = lattice_sites"
   ]
  },
  {
   "cell_type": "code",
   "execution_count": 18,
   "metadata": {},
   "outputs": [
    {
     "data": {
      "text/plain": [
       "{'a': 5.0,\n",
       " 'alpha': 90.0,\n",
       " 'b': 5.0,\n",
       " 'beta': 90.0,\n",
       " 'c': 100.0,\n",
       " 'gamma': 90.0,\n",
       " 'sites':    a  b  c   atom\n",
       " 0  0  0  0  Si,Fe,\n",
       " 'u': [1, 0, 0],\n",
       " 'v': [0, 1, 0],\n",
       " 'w': [0, 0, 1]}"
      ]
     },
     "execution_count": 18,
     "metadata": {},
     "output_type": "execute_result"
    }
   ],
   "source": [
    "lattice"
   ]
  },
  {
   "cell_type": "markdown",
   "metadata": {},
   "source": [
    "#### Run corrdump, generate clusters.out"
   ]
  },
  {
   "cell_type": "code",
   "execution_count": 19,
   "metadata": {},
   "outputs": [
    {
     "name": "stdout",
     "output_type": "stream",
     "text": [
      "0\r\n",
      "1\r\n",
      "1.00000\t\r\n",
      "1\r\n",
      "1\r\n",
      "5.00000 5.00000 100.00000\r\n",
      "10.00000 5.00000 100.00000\r\n",
      "15.00000 5.00000 100.00000\r\n",
      "20.00000 5.00000 100.00000\r\n",
      "5.00000 10.00000 100.00000\r\n",
      "10.00000 10.00000 100.00000\r\n",
      "15.00000 10.00000 100.00000\r\n",
      "20.00000 10.00000 100.00000\r\n",
      "5.00000 15.00000 100.00000\r\n",
      "10.00000 15.00000 100.00000\r\n",
      "15.00000 15.00000 100.00000\r\n",
      "20.00000 15.00000 100.00000\r\n",
      "0.00000\t\r\n",
      "2\r\n",
      "2\r\n",
      "5.00000 5.00000 100.00000\r\n",
      "5.00000 0.00000 100.00000\r\n",
      "5.00000 5.00000 100.00000\r\n",
      "0.00000 5.00000 100.00000\r\n",
      "10.00000 5.00000 100.00000\r\n",
      "10.00000 0.00000 100.00000\r\n",
      "10.00000 5.00000 100.00000\r\n",
      "5.00000 5.00000 100.00000\r\n",
      "15.00000 5.00000 100.00000\r\n",
      "15.00000 0.00000 100.00000\r\n",
      "15.00000 5.00000 100.00000\r\n",
      "10.00000 5.00000 100.00000\r\n",
      "20.00000 5.00000 100.00000\r\n",
      "20.00000 0.00000 100.00000\r\n",
      "20.00000 5.00000 100.00000\r\n",
      "15.00000 5.00000 100.00000\r\n",
      "5.00000 10.00000 100.00000\r\n",
      "5.00000 5.00000 100.00000\r\n",
      "5.00000 10.00000 100.00000\r\n",
      "0.00000 10.00000 100.00000\r\n",
      "10.00000 10.00000 100.00000\r\n",
      "10.00000 5.00000 100.00000\r\n",
      "10.00000 10.00000 100.00000\r\n",
      "5.00000 10.00000 100.00000\r\n",
      "15.00000 10.00000 100.00000\r\n",
      "15.00000 5.00000 100.00000\r\n",
      "15.00000 10.00000 100.00000\r\n",
      "10.00000 10.00000 100.00000\r\n",
      "20.00000 10.00000 100.00000\r\n",
      "20.00000 5.00000 100.00000\r\n",
      "20.00000 10.00000 100.00000\r\n",
      "15.00000 10.00000 100.00000\r\n",
      "5.00000 15.00000 100.00000\r\n",
      "5.00000 10.00000 100.00000\r\n",
      "5.00000 15.00000 100.00000\r\n",
      "0.00000 15.00000 100.00000\r\n",
      "10.00000 15.00000 100.00000\r\n",
      "10.00000 10.00000 100.00000\r\n",
      "10.00000 15.00000 100.00000\r\n",
      "5.00000 15.00000 100.00000\r\n",
      "15.00000 15.00000 100.00000\r\n",
      "15.00000 10.00000 100.00000\r\n",
      "15.00000 15.00000 100.00000\r\n",
      "10.00000 15.00000 100.00000\r\n",
      "20.00000 15.00000 100.00000\r\n",
      "20.00000 10.00000 100.00000\r\n",
      "20.00000 15.00000 100.00000\r\n",
      "15.00000 15.00000 100.00000\r\n",
      "0.00000\t\r\n",
      "2\r\n",
      "2\r\n",
      "5.00000 5.00000 100.00000\r\n",
      "0.00000 0.00000 100.00000\r\n",
      "5.00000 5.00000 100.00000\r\n",
      "0.00000 10.00000 100.00000\r\n",
      "10.00000 5.00000 100.00000\r\n",
      "5.00000 0.00000 100.00000\r\n",
      "10.00000 5.00000 100.00000\r\n",
      "5.00000 10.00000 100.00000\r\n",
      "15.00000 5.00000 100.00000\r\n",
      "10.00000 0.00000 100.00000\r\n",
      "15.00000 5.00000 100.00000\r\n",
      "10.00000 10.00000 100.00000\r\n",
      "20.00000 5.00000 100.00000\r\n",
      "15.00000 0.00000 100.00000\r\n",
      "20.00000 5.00000 100.00000\r\n",
      "15.00000 10.00000 100.00000\r\n",
      "5.00000 10.00000 100.00000\r\n",
      "0.00000 5.00000 100.00000\r\n",
      "5.00000 10.00000 100.00000\r\n",
      "0.00000 15.00000 100.00000\r\n",
      "10.00000 10.00000 100.00000\r\n",
      "5.00000 5.00000 100.00000\r\n",
      "10.00000 10.00000 100.00000\r\n",
      "5.00000 15.00000 100.00000\r\n",
      "15.00000 10.00000 100.00000\r\n",
      "10.00000 5.00000 100.00000\r\n",
      "15.00000 10.00000 100.00000\r\n",
      "10.00000 15.00000 100.00000\r\n",
      "20.00000 10.00000 100.00000\r\n",
      "15.00000 5.00000 100.00000\r\n",
      "20.00000 10.00000 100.00000\r\n",
      "15.00000 15.00000 100.00000\r\n",
      "5.00000 15.00000 100.00000\r\n",
      "0.00000 10.00000 100.00000\r\n",
      "5.00000 15.00000 100.00000\r\n",
      "0.00000 20.00000 100.00000\r\n",
      "10.00000 15.00000 100.00000\r\n",
      "5.00000 10.00000 100.00000\r\n",
      "10.00000 15.00000 100.00000\r\n",
      "5.00000 20.00000 100.00000\r\n",
      "15.00000 15.00000 100.00000\r\n",
      "10.00000 10.00000 100.00000\r\n",
      "15.00000 15.00000 100.00000\r\n",
      "10.00000 20.00000 100.00000\r\n",
      "20.00000 15.00000 100.00000\r\n",
      "15.00000 10.00000 100.00000\r\n",
      "20.00000 15.00000 100.00000\r\n",
      "15.00000 20.00000 100.00000\r\n",
      "0.00000\t\r\n",
      "2\r\n",
      "2\r\n",
      "5.00000 5.00000 100.00000\r\n",
      "-5.00000 5.00000 100.00000\r\n",
      "5.00000 5.00000 100.00000\r\n",
      "5.00000 -5.00000 100.00000\r\n",
      "10.00000 5.00000 100.00000\r\n",
      "0.00000 5.00000 100.00000\r\n",
      "10.00000 5.00000 100.00000\r\n",
      "10.00000 -5.00000 100.00000\r\n",
      "15.00000 5.00000 100.00000\r\n",
      "5.00000 5.00000 100.00000\r\n",
      "15.00000 5.00000 100.00000\r\n",
      "15.00000 -5.00000 100.00000\r\n",
      "20.00000 5.00000 100.00000\r\n",
      "10.00000 5.00000 100.00000\r\n",
      "20.00000 5.00000 100.00000\r\n",
      "20.00000 -5.00000 100.00000\r\n",
      "5.00000 10.00000 100.00000\r\n",
      "-5.00000 10.00000 100.00000\r\n",
      "5.00000 10.00000 100.00000\r\n",
      "5.00000 0.00000 100.00000\r\n",
      "10.00000 10.00000 100.00000\r\n",
      "0.00000 10.00000 100.00000\r\n",
      "10.00000 10.00000 100.00000\r\n",
      "10.00000 0.00000 100.00000\r\n",
      "15.00000 10.00000 100.00000\r\n",
      "5.00000 10.00000 100.00000\r\n",
      "15.00000 10.00000 100.00000\r\n",
      "15.00000 0.00000 100.00000\r\n",
      "20.00000 10.00000 100.00000\r\n",
      "10.00000 10.00000 100.00000\r\n",
      "20.00000 10.00000 100.00000\r\n",
      "20.00000 0.00000 100.00000\r\n",
      "5.00000 15.00000 100.00000\r\n",
      "-5.00000 15.00000 100.00000\r\n",
      "5.00000 15.00000 100.00000\r\n",
      "5.00000 5.00000 100.00000\r\n",
      "10.00000 15.00000 100.00000\r\n",
      "0.00000 15.00000 100.00000\r\n",
      "10.00000 15.00000 100.00000\r\n",
      "10.00000 5.00000 100.00000\r\n",
      "15.00000 15.00000 100.00000\r\n",
      "5.00000 15.00000 100.00000\r\n",
      "15.00000 15.00000 100.00000\r\n",
      "15.00000 5.00000 100.00000\r\n",
      "20.00000 15.00000 100.00000\r\n",
      "10.00000 15.00000 100.00000\r\n",
      "20.00000 15.00000 100.00000\r\n",
      "20.00000 5.00000 100.00000\r\n",
      "0.00000\t\r\n",
      "2\r\n",
      "4\r\n",
      "5.00000 5.00000 100.00000\r\n",
      "-5.00000 0.00000 100.00000\r\n",
      "5.00000 5.00000 100.00000\r\n",
      "-5.00000 10.00000 100.00000\r\n",
      "5.00000 5.00000 100.00000\r\n",
      "0.00000 -5.00000 100.00000\r\n",
      "5.00000 5.00000 100.00000\r\n",
      "10.00000 -5.00000 100.00000\r\n",
      "10.00000 5.00000 100.00000\r\n",
      "0.00000 0.00000 100.00000\r\n",
      "10.00000 5.00000 100.00000\r\n",
      "0.00000 10.00000 100.00000\r\n",
      "10.00000 5.00000 100.00000\r\n",
      "5.00000 -5.00000 100.00000\r\n",
      "10.00000 5.00000 100.00000\r\n",
      "15.00000 -5.00000 100.00000\r\n",
      "15.00000 5.00000 100.00000\r\n",
      "5.00000 0.00000 100.00000\r\n",
      "15.00000 5.00000 100.00000\r\n",
      "5.00000 10.00000 100.00000\r\n",
      "15.00000 5.00000 100.00000\r\n",
      "10.00000 -5.00000 100.00000\r\n",
      "15.00000 5.00000 100.00000\r\n",
      "20.00000 -5.00000 100.00000\r\n",
      "20.00000 5.00000 100.00000\r\n",
      "10.00000 0.00000 100.00000\r\n",
      "20.00000 5.00000 100.00000\r\n",
      "10.00000 10.00000 100.00000\r\n",
      "20.00000 5.00000 100.00000\r\n",
      "15.00000 -5.00000 100.00000\r\n",
      "20.00000 5.00000 100.00000\r\n",
      "25.00000 -5.00000 100.00000\r\n",
      "5.00000 10.00000 100.00000\r\n",
      "-5.00000 5.00000 100.00000\r\n",
      "5.00000 10.00000 100.00000\r\n",
      "-5.00000 15.00000 100.00000\r\n",
      "5.00000 10.00000 100.00000\r\n",
      "0.00000 0.00000 100.00000\r\n",
      "5.00000 10.00000 100.00000\r\n",
      "10.00000 0.00000 100.00000\r\n",
      "10.00000 10.00000 100.00000\r\n",
      "0.00000 5.00000 100.00000\r\n",
      "10.00000 10.00000 100.00000\r\n",
      "0.00000 15.00000 100.00000\r\n",
      "10.00000 10.00000 100.00000\r\n",
      "5.00000 0.00000 100.00000\r\n",
      "10.00000 10.00000 100.00000\r\n",
      "15.00000 0.00000 100.00000\r\n",
      "15.00000 10.00000 100.00000\r\n",
      "5.00000 5.00000 100.00000\r\n",
      "15.00000 10.00000 100.00000\r\n",
      "5.00000 15.00000 100.00000\r\n",
      "15.00000 10.00000 100.00000\r\n",
      "10.00000 0.00000 100.00000\r\n",
      "15.00000 10.00000 100.00000\r\n",
      "20.00000 0.00000 100.00000\r\n",
      "20.00000 10.00000 100.00000\r\n",
      "10.00000 5.00000 100.00000\r\n",
      "20.00000 10.00000 100.00000\r\n",
      "10.00000 15.00000 100.00000\r\n",
      "20.00000 10.00000 100.00000\r\n",
      "15.00000 0.00000 100.00000\r\n",
      "20.00000 10.00000 100.00000\r\n",
      "25.00000 0.00000 100.00000\r\n",
      "5.00000 15.00000 100.00000\r\n",
      "-5.00000 10.00000 100.00000\r\n",
      "5.00000 15.00000 100.00000\r\n",
      "-5.00000 20.00000 100.00000\r\n",
      "5.00000 15.00000 100.00000\r\n",
      "0.00000 5.00000 100.00000\r\n",
      "5.00000 15.00000 100.00000\r\n",
      "10.00000 5.00000 100.00000\r\n",
      "10.00000 15.00000 100.00000\r\n",
      "0.00000 10.00000 100.00000\r\n",
      "10.00000 15.00000 100.00000\r\n",
      "0.00000 20.00000 100.00000\r\n",
      "10.00000 15.00000 100.00000\r\n",
      "5.00000 5.00000 100.00000\r\n",
      "10.00000 15.00000 100.00000\r\n",
      "15.00000 5.00000 100.00000\r\n",
      "15.00000 15.00000 100.00000\r\n",
      "5.00000 10.00000 100.00000\r\n",
      "15.00000 15.00000 100.00000\r\n",
      "5.00000 20.00000 100.00000\r\n",
      "15.00000 15.00000 100.00000\r\n",
      "10.00000 5.00000 100.00000\r\n",
      "15.00000 15.00000 100.00000\r\n",
      "20.00000 5.00000 100.00000\r\n",
      "20.00000 15.00000 100.00000\r\n",
      "10.00000 10.00000 100.00000\r\n",
      "20.00000 15.00000 100.00000\r\n",
      "10.00000 20.00000 100.00000\r\n",
      "20.00000 15.00000 100.00000\r\n",
      "15.00000 5.00000 100.00000\r\n",
      "20.00000 15.00000 100.00000\r\n",
      "25.00000 5.00000 100.00000\r\n",
      "0.00000\t\r\n",
      "2\r\n",
      "2\r\n",
      "5.00000 5.00000 100.00000\r\n",
      "-5.00000 -5.00000 100.00000\r\n",
      "5.00000 5.00000 100.00000\r\n",
      "-5.00000 15.00000 100.00000\r\n",
      "10.00000 5.00000 100.00000\r\n",
      "0.00000 -5.00000 100.00000\r\n",
      "10.00000 5.00000 100.00000\r\n",
      "0.00000 15.00000 100.00000\r\n",
      "15.00000 5.00000 100.00000\r\n",
      "5.00000 -5.00000 100.00000\r\n",
      "15.00000 5.00000 100.00000\r\n",
      "5.00000 15.00000 100.00000\r\n",
      "20.00000 5.00000 100.00000\r\n",
      "10.00000 -5.00000 100.00000\r\n",
      "20.00000 5.00000 100.00000\r\n",
      "10.00000 15.00000 100.00000\r\n",
      "5.00000 10.00000 100.00000\r\n",
      "-5.00000 0.00000 100.00000\r\n",
      "5.00000 10.00000 100.00000\r\n",
      "-5.00000 20.00000 100.00000\r\n",
      "10.00000 10.00000 100.00000\r\n",
      "0.00000 0.00000 100.00000\r\n",
      "10.00000 10.00000 100.00000\r\n",
      "0.00000 20.00000 100.00000\r\n",
      "15.00000 10.00000 100.00000\r\n",
      "5.00000 0.00000 100.00000\r\n",
      "15.00000 10.00000 100.00000\r\n",
      "5.00000 20.00000 100.00000\r\n",
      "20.00000 10.00000 100.00000\r\n",
      "10.00000 0.00000 100.00000\r\n",
      "20.00000 10.00000 100.00000\r\n",
      "10.00000 20.00000 100.00000\r\n",
      "5.00000 15.00000 100.00000\r\n",
      "-5.00000 5.00000 100.00000\r\n",
      "5.00000 15.00000 100.00000\r\n",
      "-5.00000 25.00000 100.00000\r\n",
      "10.00000 15.00000 100.00000\r\n",
      "0.00000 5.00000 100.00000\r\n",
      "10.00000 15.00000 100.00000\r\n",
      "0.00000 25.00000 100.00000\r\n",
      "15.00000 15.00000 100.00000\r\n",
      "5.00000 5.00000 100.00000\r\n",
      "15.00000 15.00000 100.00000\r\n",
      "5.00000 25.00000 100.00000\r\n",
      "20.00000 15.00000 100.00000\r\n",
      "10.00000 5.00000 100.00000\r\n",
      "20.00000 15.00000 100.00000\r\n",
      "10.00000 25.00000 100.00000\r\n",
      "0.00000\t\r\n",
      "2\r\n",
      "2\r\n",
      "5.00000 5.00000 100.00000\r\n",
      "-10.00000 5.00000 100.00000\r\n",
      "5.00000 5.00000 100.00000\r\n",
      "5.00000 -10.00000 100.00000\r\n",
      "10.00000 5.00000 100.00000\r\n",
      "-5.00000 5.00000 100.00000\r\n",
      "10.00000 5.00000 100.00000\r\n",
      "10.00000 -10.00000 100.00000\r\n",
      "15.00000 5.00000 100.00000\r\n",
      "0.00000 5.00000 100.00000\r\n",
      "15.00000 5.00000 100.00000\r\n",
      "15.00000 -10.00000 100.00000\r\n",
      "20.00000 5.00000 100.00000\r\n",
      "5.00000 5.00000 100.00000\r\n",
      "20.00000 5.00000 100.00000\r\n",
      "20.00000 -10.00000 100.00000\r\n",
      "5.00000 10.00000 100.00000\r\n",
      "-10.00000 10.00000 100.00000\r\n",
      "5.00000 10.00000 100.00000\r\n",
      "5.00000 -5.00000 100.00000\r\n",
      "10.00000 10.00000 100.00000\r\n",
      "-5.00000 10.00000 100.00000\r\n",
      "10.00000 10.00000 100.00000\r\n",
      "10.00000 -5.00000 100.00000\r\n",
      "15.00000 10.00000 100.00000\r\n",
      "0.00000 10.00000 100.00000\r\n",
      "15.00000 10.00000 100.00000\r\n",
      "15.00000 -5.00000 100.00000\r\n",
      "20.00000 10.00000 100.00000\r\n",
      "5.00000 10.00000 100.00000\r\n",
      "20.00000 10.00000 100.00000\r\n",
      "20.00000 -5.00000 100.00000\r\n",
      "5.00000 15.00000 100.00000\r\n",
      "-10.00000 15.00000 100.00000\r\n",
      "5.00000 15.00000 100.00000\r\n",
      "5.00000 0.00000 100.00000\r\n",
      "10.00000 15.00000 100.00000\r\n",
      "-5.00000 15.00000 100.00000\r\n",
      "10.00000 15.00000 100.00000\r\n",
      "10.00000 0.00000 100.00000\r\n",
      "15.00000 15.00000 100.00000\r\n",
      "0.00000 15.00000 100.00000\r\n",
      "15.00000 15.00000 100.00000\r\n",
      "15.00000 0.00000 100.00000\r\n",
      "20.00000 15.00000 100.00000\r\n",
      "5.00000 15.00000 100.00000\r\n",
      "20.00000 15.00000 100.00000\r\n",
      "20.00000 0.00000 100.00000\r\n",
      "0.00000\t\r\n",
      "\r\n"
     ]
    }
   ],
   "source": [
    "!corrdump -2 = 15"
   ]
  },
  {
   "cell_type": "markdown",
   "metadata": {},
   "source": [
    "#### Read clusters.out"
   ]
  },
  {
   "cell_type": "code",
   "execution_count": 20,
   "metadata": {
    "collapsed": true
   },
   "outputs": [],
   "source": [
    "axes_abc = lattice_axes_abc(lattice)"
   ]
  },
  {
   "cell_type": "code",
   "execution_count": 21,
   "metadata": {},
   "outputs": [
    {
     "data": {
      "text/plain": [
       "array([[1, 0, 0],\n",
       "       [0, 1, 0],\n",
       "       [0, 0, 1]])"
      ]
     },
     "execution_count": 21,
     "metadata": {},
     "output_type": "execute_result"
    }
   ],
   "source": [
    "axes_abc"
   ]
  },
  {
   "cell_type": "code",
   "execution_count": 22,
   "metadata": {},
   "outputs": [
    {
     "data": {
      "text/plain": [
       "array([1., 2., 1.])"
      ]
     },
     "execution_count": 22,
     "metadata": {},
     "output_type": "execute_result"
    }
   ],
   "source": [
    "frac_to_uvw(axes_abc, [1, 2, 1])"
   ]
  },
  {
   "cell_type": "code",
   "execution_count": 23,
   "metadata": {
    "collapsed": true
   },
   "outputs": [],
   "source": [
    "lat_clusters = {}"
   ]
  },
  {
   "cell_type": "code",
   "execution_count": 24,
   "metadata": {
    "collapsed": true
   },
   "outputs": [],
   "source": [
    "lat_clusters['type_num'] = [int(0) for i in range(10)]\n",
    "lat_clusters['num_max_site'] = 0"
   ]
  },
  {
   "cell_type": "code",
   "execution_count": 25,
   "metadata": {
    "collapsed": true
   },
   "outputs": [],
   "source": [
    "lat_clusters['orig_file'] = []\n",
    "\n",
    "with open('clusters.out') as csvfile:\n",
    "    readCSV = csv.reader(csvfile, delimiter=' ')\n",
    "    for row in readCSV:\n",
    "        if(len(row) == 0):\n",
    "            continue\n",
    "        elif(len(row) == 1):\n",
    "            row[0] = row[0].replace('\\t', '')\n",
    "            lat_clusters['orig_file'].append(int(float(row[0])))\n",
    "        else:\n",
    "            temp = []\n",
    "            for element in row:\n",
    "                temp.append(float(element))\n",
    "            lat_clusters['orig_file'].append(temp)"
   ]
  },
  {
   "cell_type": "code",
   "execution_count": 26,
   "metadata": {
    "collapsed": true
   },
   "outputs": [],
   "source": [
    "i = 0\n",
    "nsite = 0\n",
    "cluster_index = 0\n",
    "urange = []\n",
    "vrange = []\n",
    "wrange = []\n",
    "\n",
    "while(i < len(lat_clusters['orig_file'])):\n",
    "    #print('i is {}'.format(i))\n",
    "    m = lat_clusters['orig_file'][i]\n",
    "    #print('m is {}'.format(m))\n",
    "    d = lat_clusters['orig_file'][i+1]\n",
    "    #print('d is {}'.format(d))\n",
    "    new_nsite = lat_clusters['orig_file'][i+2]\n",
    "    #print('new_site is {}'.format(new_nsite))\n",
    "    if new_nsite != nsite:\n",
    "        lat_clusters['num_max_site'] = new_nsite\n",
    "        nsite = new_nsite\n",
    "        cluster_index = 1\n",
    "    else:\n",
    "        cluster_index +=1\n",
    "    \n",
    "    cluster_type = '{}-{}'.format(nsite, cluster_index)\n",
    "    lat_clusters[cluster_type] = {}\n",
    "    lat_clusters[cluster_type]['m'] = m\n",
    "    lat_clusters[cluster_type]['max_d'] = d\n",
    "    lat_clusters[cluster_type]['eg_pair_frac']=[]\n",
    "    \n",
    "    i = i+3\n",
    "    for j in range(nsite):\n",
    "        site = lat_clusters['orig_file'][i][:3]\n",
    "        u, v, w = frac_to_uvw(axes_abc, site)\n",
    "        urange.append(u)\n",
    "        vrange.append(v)\n",
    "        wrange.append(w)\n",
    "        #print(site)\n",
    "        lat_clusters[cluster_type]['eg_pair_frac'].append(site)\n",
    "        i += 1\n",
    "    lat_clusters['type_num'][nsite] = cluster_index\n",
    "lat_clusters['u_vis_range'] = list(range(int(min(urange))-1, int(max(urange))+1))\n",
    "lat_clusters['v_vis_range'] = list(range(int(min(vrange))-1, int(max(vrange))+1))\n",
    "lat_clusters['w_vis_range'] = list(range(int(min(wrange))-1, int(max(wrange))+1))"
   ]
  },
  {
   "cell_type": "code",
   "execution_count": 27,
   "metadata": {
    "scrolled": false
   },
   "outputs": [
    {
     "data": {
      "text/plain": [
       "dict_keys(['type_num', 'num_max_site', 'orig_file', '0-1', '1-1', '2-1', '2-2', '2-3', '2-4', '2-5', '2-6', 'u_vis_range', 'v_vis_range', 'w_vis_range'])"
      ]
     },
     "execution_count": 27,
     "metadata": {},
     "output_type": "execute_result"
    }
   ],
   "source": [
    "lat_clusters.keys()"
   ]
  },
  {
   "cell_type": "code",
   "execution_count": 28,
   "metadata": {},
   "outputs": [
    {
     "data": {
      "text/plain": [
       "[-2, -1, 0, 1]"
      ]
     },
     "execution_count": 28,
     "metadata": {},
     "output_type": "execute_result"
    }
   ],
   "source": [
    "lat_clusters['u_vis_range']"
   ]
  },
  {
   "cell_type": "code",
   "execution_count": 29,
   "metadata": {
    "collapsed": true
   },
   "outputs": [],
   "source": [
    "lat_vis_sites = pd.DataFrame(columns=lattice['sites'].columns)"
   ]
  },
  {
   "cell_type": "code",
   "execution_count": 30,
   "metadata": {
    "collapsed": true
   },
   "outputs": [],
   "source": [
    "for nu in lat_clusters['u_vis_range']:\n",
    "    temp = deepcopy(lattice['sites'])\n",
    "    temp.a = temp.a+nu*lattice['u'][0]\n",
    "    temp.b = temp.b+nu*lattice['u'][1]\n",
    "    temp.c = temp.c+nu*lattice['u'][2]\n",
    "    lat_vis_sites = lat_vis_sites.append(temp)\n",
    "prev_sites = deepcopy(lat_vis_sites)\n",
    "for nv in lat_clusters['v_vis_range']:\n",
    "    temp = deepcopy(prev_sites)\n",
    "    temp.a = temp.a+nv*lattice['v'][0]\n",
    "    temp.b = temp.b+nv*lattice['v'][1]\n",
    "    temp.c = temp.c+nv*lattice['v'][2]\n",
    "    lat_vis_sites = lat_vis_sites.append(temp)\n",
    "prev_sites = deepcopy(lat_vis_sites)\n",
    "for nw in lat_clusters['w_vis_range']:\n",
    "    temp = deepcopy(prev_sites)\n",
    "    temp.a = temp.a+nw*lattice['w'][0]\n",
    "    temp.b = temp.b+nw*lattice['w'][1]\n",
    "    temp.c = temp.c+nw*lattice['w'][2]\n",
    "    lat_vis_sites = lat_vis_sites.append(temp)"
   ]
  },
  {
   "cell_type": "code",
   "execution_count": 31,
   "metadata": {},
   "outputs": [
    {
     "data": {
      "text/html": [
       "<div>\n",
       "<style>\n",
       "    .dataframe thead tr:only-child th {\n",
       "        text-align: right;\n",
       "    }\n",
       "\n",
       "    .dataframe thead th {\n",
       "        text-align: left;\n",
       "    }\n",
       "\n",
       "    .dataframe tbody tr th {\n",
       "        vertical-align: top;\n",
       "    }\n",
       "</style>\n",
       "<table border=\"1\" class=\"dataframe\">\n",
       "  <thead>\n",
       "    <tr style=\"text-align: right;\">\n",
       "      <th></th>\n",
       "      <th>a</th>\n",
       "      <th>b</th>\n",
       "      <th>c</th>\n",
       "      <th>atom</th>\n",
       "    </tr>\n",
       "  </thead>\n",
       "  <tbody>\n",
       "    <tr>\n",
       "      <th>0</th>\n",
       "      <td>0</td>\n",
       "      <td>0</td>\n",
       "      <td>0</td>\n",
       "      <td>Si,Fe</td>\n",
       "    </tr>\n",
       "  </tbody>\n",
       "</table>\n",
       "</div>"
      ],
      "text/plain": [
       "   a  b  c   atom\n",
       "0  0  0  0  Si,Fe"
      ]
     },
     "execution_count": 31,
     "metadata": {},
     "output_type": "execute_result"
    }
   ],
   "source": [
    "lattice['sites']"
   ]
  },
  {
   "cell_type": "code",
   "execution_count": 32,
   "metadata": {
    "collapsed": true
   },
   "outputs": [],
   "source": [
    "lat_vis_sites.drop_duplicates(inplace=True)"
   ]
  },
  {
   "cell_type": "code",
   "execution_count": 33,
   "metadata": {},
   "outputs": [
    {
     "name": "stdout",
     "output_type": "stream",
     "text": [
      "<class 'pandas.core.frame.DataFrame'>\n",
      "Int64Index: 40 entries, 0 to 0\n",
      "Data columns (total 4 columns):\n",
      "a       40 non-null object\n",
      "b       40 non-null object\n",
      "c       40 non-null object\n",
      "atom    40 non-null object\n",
      "dtypes: object(4)\n",
      "memory usage: 1.6+ KB\n"
     ]
    }
   ],
   "source": [
    "lat_vis_sites.info()"
   ]
  },
  {
   "cell_type": "code",
   "execution_count": 34,
   "metadata": {},
   "outputs": [
    {
     "data": {
      "text/plain": [
       "{'a': 5.0,\n",
       " 'alpha': 90.0,\n",
       " 'b': 5.0,\n",
       " 'beta': 90.0,\n",
       " 'c': 100.0,\n",
       " 'gamma': 90.0,\n",
       " 'sites':    a  b  c   atom\n",
       " 0  0  0  0  Si,Fe,\n",
       " 'u': [1, 0, 0],\n",
       " 'v': [0, 1, 0],\n",
       " 'w': [0, 0, 1]}"
      ]
     },
     "execution_count": 34,
     "metadata": {},
     "output_type": "execute_result"
    }
   ],
   "source": [
    "lattice"
   ]
  },
  {
   "cell_type": "code",
   "execution_count": 35,
   "metadata": {},
   "outputs": [
    {
     "data": {
      "text/plain": [
       "array([[5.000000e+00, 0.000000e+00, 0.000000e+00],\n",
       "       [3.061617e-16, 5.000000e+00, 0.000000e+00],\n",
       "       [0.000000e+00, 0.000000e+00, 1.000000e+02]])"
      ]
     },
     "execution_count": 35,
     "metadata": {},
     "output_type": "execute_result"
    }
   ],
   "source": [
    "lattice_axes_xyz(lattice)"
   ]
  },
  {
   "cell_type": "code",
   "execution_count": 36,
   "metadata": {
    "collapsed": true
   },
   "outputs": [],
   "source": [
    "lat_vis_sites = add_xyz(lat_vis_sites,lattice_axes_xyz(lattice))"
   ]
  },
  {
   "cell_type": "code",
   "execution_count": 37,
   "metadata": {
    "collapsed": true
   },
   "outputs": [],
   "source": [
    "lat_vis_sites['site_index'] = lat_vis_sites.groupby('atom').cumcount()\n",
    "lat_vis_sites['new_site_index'] = lat_vis_sites.atom + '-' + lat_vis_sites.site_index.astype('str')\n",
    "lat_vis_sites['site_index'] = lat_vis_sites['new_site_index']\n",
    "lat_vis_sites.drop(['new_site_index'], axis = 1, inplace = True)"
   ]
  },
  {
   "cell_type": "code",
   "execution_count": 38,
   "metadata": {
    "collapsed": true
   },
   "outputs": [],
   "source": [
    "lat_clusters['lat_vis_sites'] = lat_vis_sites"
   ]
  },
  {
   "cell_type": "code",
   "execution_count": 39,
   "metadata": {},
   "outputs": [
    {
     "name": "stdout",
     "output_type": "stream",
     "text": [
      "mkdir: clusters: File exists\n",
      "mkdir: clusters/xyzs: File exists\n",
      "mkdir: clusters/images: File exists\n"
     ]
    }
   ],
   "source": [
    "!mkdir clusters\n",
    "!mkdir clusters/xyzs\n",
    "!mkdir clusters/images"
   ]
  },
  {
   "cell_type": "code",
   "execution_count": 40,
   "metadata": {
    "collapsed": true
   },
   "outputs": [],
   "source": [
    "filepath = 'clusters/xyzs/all_sites.xyz'\n",
    "if os.path.isfile(filepath):\n",
    "    os.remove(filepath)\n",
    "with open(filepath, 'a') as file:\n",
    "    file.write('{}\\n'.format(len(lat_vis_sites)))\n",
    "    file.write('\\n')\n",
    "    for index, row in lat_vis_sites.iterrows():\n",
    "        file.write('{} {} {} {}\\n'.format(row.atom.split(',')[0],row.x, row.y, row.z))"
   ]
  },
  {
   "cell_type": "code",
   "execution_count": 41,
   "metadata": {
    "collapsed": true
   },
   "outputs": [],
   "source": [
    "c= read('clusters/xyzs/all_sites.xyz')\n",
    "#view(c)\n",
    "write('clusters/images/all_sites.png', c, format=None, parallel=True)"
   ]
  },
  {
   "cell_type": "code",
   "execution_count": 42,
   "metadata": {},
   "outputs": [
    {
     "data": {
      "text/plain": [
       "dict_keys(['type_num', 'num_max_site', 'orig_file', '0-1', '1-1', '2-1', '2-2', '2-3', '2-4', '2-5', '2-6', 'u_vis_range', 'v_vis_range', 'w_vis_range', 'lat_vis_sites'])"
      ]
     },
     "execution_count": 42,
     "metadata": {},
     "output_type": "execute_result"
    }
   ],
   "source": [
    "lat_clusters.keys()"
   ]
  },
  {
   "cell_type": "code",
   "execution_count": 43,
   "metadata": {
    "collapsed": true
   },
   "outputs": [],
   "source": [
    "for i in range(1, int(lat_clusters['type_num'][2])+1):\n",
    "    #print(i)\n",
    "    indices = []\n",
    "    sites = lat_clusters['2-{}'.format(i)]['eg_pair_frac']\n",
    "    for site in sites:\n",
    "        #print(site)\n",
    "        index = find_site_index_frac(site, lat_vis_sites)\n",
    "        indices.append(index)\n",
    "    #print(indices)\n",
    "    filepath = 'clusters/xyzs/cluster-2-{}.xyz'.format(i)\n",
    "    if os.path.isfile(filepath):\n",
    "        os.remove(filepath)\n",
    "    with open(filepath, 'a') as file:\n",
    "        file.write('{}\\n'.format(len(lat_vis_sites)))\n",
    "        file.write('\\n')\n",
    "        for index, row in lat_vis_sites.iterrows():\n",
    "            if row.site_index in indices:\n",
    "                file.write('{} {} {} {}\\n'.format(row.atom.split(',')[1],row.x, row.y, row.z))\n",
    "            else:\n",
    "                file.write('{} {} {} {}\\n'.format(row.atom.split(',')[0],row.x, row.y, row.z))\n",
    "    c= read(filepath)\n",
    "    #view(c)\n",
    "    write('clusters/images/cluster-2-{}.png'.format(i), c, format=None, parallel=True)"
   ]
  },
  {
   "cell_type": "markdown",
   "metadata": {},
   "source": [
    "#### read str_dim.txt"
   ]
  },
  {
   "cell_type": "code",
   "execution_count": 44,
   "metadata": {
    "collapsed": true
   },
   "outputs": [],
   "source": [
    "structure = {}"
   ]
  },
  {
   "cell_type": "code",
   "execution_count": 45,
   "metadata": {
    "collapsed": true
   },
   "outputs": [],
   "source": [
    "file = open('str_dim.txt', 'r')\n",
    "str_req = file.readlines()\n",
    "\n",
    "structure_u = [int(number) for number in str_req[0].split()]\n",
    "structure_v = [int(number) for number in str_req[1].split()]\n",
    "structure_w = [int(number) for number in str_req[2].split()]"
   ]
  },
  {
   "cell_type": "code",
   "execution_count": 46,
   "metadata": {
    "collapsed": true
   },
   "outputs": [],
   "source": [
    "l = int(np.mean(structure_u)/np.mean(lattice['u']))\n",
    "m = int(np.mean(structure_v)/np.mean(lattice['v']))\n",
    "n = int(np.mean(structure_w)/np.mean(lattice['w']))\n",
    "ncell = l*m*n"
   ]
  },
  {
   "cell_type": "code",
   "execution_count": 47,
   "metadata": {
    "collapsed": true
   },
   "outputs": [],
   "source": [
    "structure['l'] = l\n",
    "structure['m'] = m\n",
    "structure['n'] = n\n",
    "structure['u'] = structure_u\n",
    "structure['v'] = structure_v\n",
    "structure['w'] = structure_w\n",
    "structure['ncell'] = ncell"
   ]
  },
  {
   "cell_type": "code",
   "execution_count": 48,
   "metadata": {
    "collapsed": true
   },
   "outputs": [],
   "source": [
    "str_sites = pd.DataFrame(columns=lattice['sites'].columns)"
   ]
  },
  {
   "cell_type": "code",
   "execution_count": 49,
   "metadata": {
    "collapsed": true
   },
   "outputs": [],
   "source": [
    "for nu in list(range(structure['l'])):\n",
    "    temp = deepcopy(lattice['sites'])\n",
    "    temp.a = temp.a+nu*lattice['u'][0]\n",
    "    temp.b = temp.b+nu*lattice['u'][1]\n",
    "    temp.c = temp.c+nu*lattice['u'][2]\n",
    "    str_sites = str_sites.append(temp)\n",
    "prev_sites = deepcopy(str_sites)\n",
    "for nv in list(range(structure['m'])):\n",
    "    temp = deepcopy(prev_sites)\n",
    "    temp.a = temp.a+nv*lattice['v'][0]\n",
    "    temp.b = temp.b+nv*lattice['v'][1]\n",
    "    temp.c = temp.c+nv*lattice['v'][2]\n",
    "    str_sites = str_sites.append(temp)\n",
    "prev_sites = deepcopy(str_sites)\n",
    "for nw in list(range(structure['n'])):\n",
    "    temp = deepcopy(prev_sites)\n",
    "    temp.a = temp.a+nw*lattice['w'][0]\n",
    "    temp.b = temp.b+nw*lattice['w'][1]\n",
    "    temp.c = temp.c+nw*lattice['w'][2]\n",
    "    str_sites = str_sites.append(temp)"
   ]
  },
  {
   "cell_type": "code",
   "execution_count": 50,
   "metadata": {
    "collapsed": true
   },
   "outputs": [],
   "source": [
    "str_sites.drop_duplicates(inplace=True)"
   ]
  },
  {
   "cell_type": "code",
   "execution_count": 51,
   "metadata": {
    "collapsed": true
   },
   "outputs": [],
   "source": [
    "str_sites = add_xyz(str_sites,lattice_axes_xyz(lattice))"
   ]
  },
  {
   "cell_type": "code",
   "execution_count": 52,
   "metadata": {
    "collapsed": true
   },
   "outputs": [],
   "source": [
    "str_sites['site_index'] = str_sites.groupby('atom').cumcount()\n",
    "str_sites['new_site_index'] = str_sites.atom + '-' + str_sites.site_index.astype('str')\n",
    "str_sites['site_index'] = str_sites['new_site_index']\n",
    "str_sites.drop(['new_site_index'], axis = 1, inplace = True)"
   ]
  },
  {
   "cell_type": "code",
   "execution_count": 53,
   "metadata": {
    "collapsed": true
   },
   "outputs": [],
   "source": [
    "structure['sites'] = str_sites"
   ]
  },
  {
   "cell_type": "code",
   "execution_count": 54,
   "metadata": {
    "collapsed": true
   },
   "outputs": [],
   "source": [
    "if os.path.isfile('str.out'):\n",
    "    os.remove('str.out')\n",
    "with open('str.out', 'a') as str_file:\n",
    "    str_file.write('{} {} {} {} {} {}\\n'.format(lattice['a'], lattice['b'], lattice['c'], int(lattice['alpha']), int(lattice['beta']), int(lattice['gamma'])))\n",
    "    str_file.write('{} {} {}\\n'.format(int(structure['u'][0]),int(structure['u'][1]),int(structure['u'][2])))\n",
    "    str_file.write('{} {} {}\\n'.format(int(structure['v'][0]),int(structure['v'][1]),int(structure['v'][2])))\n",
    "    str_file.write('{} {} {}\\n'.format(int(structure['w'][0]),int(structure['w'][1]),int(structure['w'][2])))\n",
    "    for index, row in structure['sites'].iterrows():\n",
    "        str_file.write('{} {} {} {}\\n'.format(row.a, row.b, row.c, row.atom.split(',')[0]))"
   ]
  },
  {
   "cell_type": "code",
   "execution_count": 55,
   "metadata": {
    "collapsed": true
   },
   "outputs": [],
   "source": [
    "if os.path.isfile('cluster_list.csv'):\n",
    "    os.remove('cluster_list.csv')\n",
    "!corrdump -2 = 15 >> cluster_list.csv"
   ]
  },
  {
   "cell_type": "code",
   "execution_count": 56,
   "metadata": {},
   "outputs": [
    {
     "data": {
      "text/plain": [
       "dict_keys(['l', 'm', 'n', 'u', 'v', 'w', 'ncell', 'sites'])"
      ]
     },
     "execution_count": 56,
     "metadata": {},
     "output_type": "execute_result"
    }
   ],
   "source": [
    "structure.keys()"
   ]
  },
  {
   "cell_type": "code",
   "execution_count": 57,
   "metadata": {
    "collapsed": true
   },
   "outputs": [],
   "source": [
    "str_clusters = {}"
   ]
  },
  {
   "cell_type": "code",
   "execution_count": 58,
   "metadata": {
    "collapsed": true
   },
   "outputs": [],
   "source": [
    "clulist = []\n",
    "\n",
    "with open('cluster_list.csv') as csvfile:\n",
    "    readCSV = csv.reader(csvfile, delimiter=' ')\n",
    "    for row in readCSV:\n",
    "        if(len(row) == 0):\n",
    "            continue\n",
    "        elif(len(row) == 1):\n",
    "            row[0] = row[0].replace('\\t', '')\n",
    "            clulist.append(int(float(row[0])))\n",
    "        else:\n",
    "            temp = []\n",
    "            for element in row:\n",
    "                temp.append(float(element))\n",
    "            clulist.append(temp)\n",
    "            \n",
    "str_clusters['cluster_orig_list'] = clulist"
   ]
  },
  {
   "cell_type": "code",
   "execution_count": 59,
   "metadata": {
    "collapsed": true
   },
   "outputs": [],
   "source": [
    "axes_xyz = lattice_axes_xyz(lattice)"
   ]
  },
  {
   "cell_type": "markdown",
   "metadata": {},
   "source": [
    "#### read cluster list"
   ]
  },
  {
   "cell_type": "code",
   "execution_count": 60,
   "metadata": {
    "collapsed": true
   },
   "outputs": [],
   "source": [
    "nsite_type_numbers = {}\n",
    "cluster_types = []\n",
    "\n",
    "i = 0\n",
    "nsite = 0\n",
    "cluster_index = 1\n",
    "temp = []\n",
    "\n",
    "urage = []\n",
    "vrange = []\n",
    "wrange = []\n",
    "\n",
    "while(i < len(clulist)):\n",
    "    #read n_site\n",
    "    new_nsite = clulist[i]\n",
    "    i += 1\n",
    "    \n",
    "    #pass first three lines where the cluster contains 0 site\n",
    "    if (new_nsite == 0):\n",
    "        i+=2\n",
    "        continue\n",
    "    \n",
    "    #if the cluster has more sites than the previous cluster, reset nsite and cluster index\n",
    "    if (new_nsite != nsite):\n",
    "        nsite = new_nsite\n",
    "        cluster_index = 1\n",
    "        \n",
    "    #set the cluster type = [nsite]-[order of the specific cluster in all nsite-clusters].\n",
    "    cluster_type = str(nsite)+'-'+str(cluster_index)\n",
    "    cluster_types.append(cluster_type)\n",
    "    \n",
    "    #initialize a empty set called temp \n",
    "    temp = []\n",
    "        \n",
    "    #read multiplicity\n",
    "    multiplicity = clulist[i]\n",
    "    i += 1\n",
    "    \n",
    "    #go through all the clusters\n",
    "    n_cluster = int(multiplicity *structure['ncell'])\n",
    "    \n",
    "    for j in range(n_cluster):\n",
    "        cluster = []\n",
    "        for k in range(nsite):\n",
    "            point = []\n",
    "            for element in clulist[i]:\n",
    "                point.append(float(element))\n",
    "            #print(point)\n",
    "            u, v, w = frac_to_uvw(axes_abc, xyz_to_frac(axes_xyz,point))\n",
    "            \n",
    "            #print(u,v,w)\n",
    "            urange.append(u)\n",
    "            vrange.append(v)\n",
    "            wrange.append(w)\n",
    "            cluster.append(point)\n",
    "            i += 1\n",
    "        temp.append(cluster)\n",
    "    \n",
    "    #pass the line with correlation\n",
    "    i += 1 \n",
    "    \n",
    "    #put the set of clusters in dictionary of clusters\n",
    "    str_clusters[cluster_type] = temp\n",
    "    nsite_type_numbers[str(nsite)] = cluster_index\n",
    "    \n",
    "    #count cluster types\n",
    "    cluster_index += 1   \n",
    "\n",
    "#str_clusters\n",
    "\n",
    "#str_clusters['cluster_types'] = cluster_types\n",
    "#str_clusters['nsite_type_numbers'] = nsite_type_numbers"
   ]
  },
  {
   "cell_type": "code",
   "execution_count": 61,
   "metadata": {
    "scrolled": true
   },
   "outputs": [
    {
     "data": {
      "text/plain": [
       "dict_keys(['l', 'm', 'n', 'u', 'v', 'w', 'ncell', 'sites'])"
      ]
     },
     "execution_count": 61,
     "metadata": {},
     "output_type": "execute_result"
    }
   ],
   "source": [
    "structure.keys()"
   ]
  },
  {
   "cell_type": "code",
   "execution_count": 62,
   "metadata": {},
   "outputs": [
    {
     "data": {
      "text/plain": [
       "dict_keys(['cluster_orig_list', '1-1', '2-1', '2-2', '2-3', '2-4', '2-5', '2-6'])"
      ]
     },
     "execution_count": 62,
     "metadata": {},
     "output_type": "execute_result"
    }
   ],
   "source": [
    "str_clusters.keys()"
   ]
  },
  {
   "cell_type": "code",
   "execution_count": 63,
   "metadata": {
    "collapsed": true
   },
   "outputs": [],
   "source": [
    "str_clusters['l_vis_range'] = list(range(int((min(urange))//structure['l']), int(max(vrange)//structure['l']+1)))\n",
    "str_clusters['m_vis_range'] = list(range(int((min(vrange))//structure['m']), int(max(vrange)//structure['m']+1)))\n",
    "str_clusters['n_vis_range'] = list(range(int((min(wrange))//structure['n']), int(max(wrange)//structure['n']+1)))"
   ]
  },
  {
   "cell_type": "code",
   "execution_count": 64,
   "metadata": {},
   "outputs": [
    {
     "data": {
      "text/plain": [
       "([-1, 0, 1], [-1, 0, 1], [1])"
      ]
     },
     "execution_count": 64,
     "metadata": {},
     "output_type": "execute_result"
    }
   ],
   "source": [
    "str_clusters['l_vis_range'], str_clusters['m_vis_range'] ,str_clusters['n_vis_range']"
   ]
  },
  {
   "cell_type": "code",
   "execution_count": 65,
   "metadata": {},
   "outputs": [
    {
     "data": {
      "text/plain": [
       "[0, 0, 1]"
      ]
     },
     "execution_count": 65,
     "metadata": {},
     "output_type": "execute_result"
    }
   ],
   "source": [
    "structure['w']"
   ]
  },
  {
   "cell_type": "code",
   "execution_count": 66,
   "metadata": {
    "collapsed": true
   },
   "outputs": [],
   "source": [
    "str_vis_sites = pd.DataFrame(columns=structure['sites'].columns)\n",
    "\n",
    "for nu in str_clusters['l_vis_range']:\n",
    "    temp = deepcopy(structure['sites'])\n",
    "    temp.a = temp.a+nu*structure['u'][0]\n",
    "    temp.b = temp.b+nu*structure['u'][1]\n",
    "    temp.c = temp.c+nu*structure['u'][2]\n",
    "    str_vis_sites = str_vis_sites.append(temp)\n",
    "prev_sites = deepcopy(str_vis_sites)\n",
    "for nv in str_clusters['m_vis_range']:\n",
    "    temp = deepcopy(prev_sites)\n",
    "    temp.a = temp.a+nv*structure['v'][0]\n",
    "    temp.b = temp.b+nv*structure['v'][1]\n",
    "    temp.c = temp.c+nv*structure['v'][2]\n",
    "    str_vis_sites = str_vis_sites.append(temp)\n",
    "prev_sites = deepcopy(str_vis_sites)\n",
    "for nw in str_clusters['n_vis_range']:\n",
    "    temp = deepcopy(prev_sites)\n",
    "    temp.a = temp.a+nw*structure['w'][0]\n",
    "    temp.b = temp.b+nw*structure['w'][1]\n",
    "    temp.c = temp.c+nw*structure['w'][2]\n",
    "    str_vis_sites = str_vis_sites.append(temp)"
   ]
  },
  {
   "cell_type": "code",
   "execution_count": 67,
   "metadata": {
    "collapsed": true
   },
   "outputs": [],
   "source": [
    "str_vis_sites.drop_duplicates(inplace=True)"
   ]
  },
  {
   "cell_type": "code",
   "execution_count": 68,
   "metadata": {},
   "outputs": [
    {
     "name": "stdout",
     "output_type": "stream",
     "text": [
      "<class 'pandas.core.frame.DataFrame'>\n",
      "Int64Index: 216 entries, 0 to 0\n",
      "Data columns (total 8 columns):\n",
      "a             216 non-null object\n",
      "b             216 non-null object\n",
      "c             216 non-null object\n",
      "atom          216 non-null object\n",
      "x             216 non-null float64\n",
      "y             216 non-null float64\n",
      "z             216 non-null float64\n",
      "site_index    216 non-null object\n",
      "dtypes: float64(3), object(5)\n",
      "memory usage: 15.2+ KB\n"
     ]
    }
   ],
   "source": [
    "str_vis_sites.info()"
   ]
  },
  {
   "cell_type": "code",
   "execution_count": 69,
   "metadata": {
    "collapsed": true
   },
   "outputs": [],
   "source": [
    "str_vis_sites = add_xyz(str_vis_sites,axes_xyz)"
   ]
  },
  {
   "cell_type": "code",
   "execution_count": 70,
   "metadata": {
    "collapsed": true
   },
   "outputs": [],
   "source": [
    "str_clusters['str_vis_sites'] = str_vis_sites"
   ]
  },
  {
   "cell_type": "code",
   "execution_count": 71,
   "metadata": {},
   "outputs": [
    {
     "name": "stdout",
     "output_type": "stream",
     "text": [
      "mkdir: str_clusters_rep: File exists\n",
      "mkdir: str_clusters_rep/xyzs: File exists\n",
      "mkdir: str_clusters_rep/images: File exists\n"
     ]
    }
   ],
   "source": [
    "!mkdir str_clusters_rep\n",
    "!mkdir str_clusters_rep/xyzs\n",
    "!mkdir str_clusters_rep/images"
   ]
  },
  {
   "cell_type": "code",
   "execution_count": 72,
   "metadata": {
    "collapsed": true
   },
   "outputs": [],
   "source": [
    "filepath = 'str_clusters_rep/xyzs/all_sites.xyz'\n",
    "if os.path.isfile(filepath):\n",
    "    os.remove(filepath)\n",
    "with open(filepath, 'a') as file:\n",
    "    file.write('{}\\n'.format(len(str_vis_sites)))\n",
    "    file.write('\\n')\n",
    "    for index, row in str_vis_sites.iterrows():\n",
    "        file.write('{} {} {} {}\\n'.format(row.atom.split(',')[0],row.x, row.y, row.z))\n",
    "c= read('str_clusters_rep/xyzs/all_sites.xyz')\n",
    "#view(c)\n",
    "write('str_clusters_rep/images/all_sites.png', c, format=None, parallel=True)"
   ]
  },
  {
   "cell_type": "code",
   "execution_count": 73,
   "metadata": {},
   "outputs": [
    {
     "name": "stdout",
     "output_type": "stream",
     "text": [
      "mkdir: str_clusters_no_rep: File exists\n",
      "mkdir: str_clusters_no_rep/xyzs: File exists\n",
      "mkdir: str_clusters_no_rep/images: File exists\n"
     ]
    }
   ],
   "source": [
    "!mkdir str_clusters_no_rep\n",
    "!mkdir str_clusters_no_rep/xyzs\n",
    "!mkdir str_clusters_no_rep/images"
   ]
  },
  {
   "cell_type": "code",
   "execution_count": 74,
   "metadata": {
    "collapsed": true
   },
   "outputs": [],
   "source": [
    "filepath = 'str_clusters_no_rep/xyzs/all_sites.xyz'\n",
    "if os.path.isfile(filepath):\n",
    "    os.remove(filepath)\n",
    "with open(filepath, 'a') as file:\n",
    "    file.write('{}\\n'.format(len(str_vis_sites)))\n",
    "    file.write('\\n')\n",
    "    for index, row in str_vis_sites.iterrows():\n",
    "        file.write('{} {} {} {}\\n'.format(row.atom.split(',')[0],row.x, row.y, row.z))\n",
    "c= read('str_clusters_no_rep/xyzs/all_sites.xyz')\n",
    "#view(c)\n",
    "write('str_clusters_no_rep/images/all_sites.png', c, format=None, parallel=True)"
   ]
  },
  {
   "cell_type": "code",
   "execution_count": 75,
   "metadata": {},
   "outputs": [
    {
     "data": {
      "text/plain": [
       "dict_keys(['cluster_orig_list', '1-1', '2-1', '2-2', '2-3', '2-4', '2-5', '2-6', 'l_vis_range', 'm_vis_range', 'n_vis_range', 'str_vis_sites'])"
      ]
     },
     "execution_count": 75,
     "metadata": {},
     "output_type": "execute_result"
    }
   ],
   "source": [
    "str_clusters.keys()"
   ]
  },
  {
   "cell_type": "code",
   "execution_count": 76,
   "metadata": {
    "collapsed": true
   },
   "outputs": [],
   "source": [
    "str_clusters['str_vis_sites'].reset_index(drop=True, inplace=True)"
   ]
  },
  {
   "cell_type": "code",
   "execution_count": 77,
   "metadata": {},
   "outputs": [
    {
     "data": {
      "text/html": [
       "<div>\n",
       "<style>\n",
       "    .dataframe thead tr:only-child th {\n",
       "        text-align: right;\n",
       "    }\n",
       "\n",
       "    .dataframe thead th {\n",
       "        text-align: left;\n",
       "    }\n",
       "\n",
       "    .dataframe tbody tr th {\n",
       "        vertical-align: top;\n",
       "    }\n",
       "</style>\n",
       "<table border=\"1\" class=\"dataframe\">\n",
       "  <thead>\n",
       "    <tr style=\"text-align: right;\">\n",
       "      <th></th>\n",
       "      <th>a</th>\n",
       "      <th>b</th>\n",
       "      <th>c</th>\n",
       "      <th>atom</th>\n",
       "      <th>x</th>\n",
       "      <th>y</th>\n",
       "      <th>z</th>\n",
       "      <th>site_index</th>\n",
       "    </tr>\n",
       "  </thead>\n",
       "  <tbody>\n",
       "    <tr>\n",
       "      <th>0</th>\n",
       "      <td>-4</td>\n",
       "      <td>0</td>\n",
       "      <td>0</td>\n",
       "      <td>Si,Fe</td>\n",
       "      <td>-20.0</td>\n",
       "      <td>0.0</td>\n",
       "      <td>0.0</td>\n",
       "      <td>Si,Fe-0</td>\n",
       "    </tr>\n",
       "    <tr>\n",
       "      <th>1</th>\n",
       "      <td>-3</td>\n",
       "      <td>0</td>\n",
       "      <td>0</td>\n",
       "      <td>Si,Fe</td>\n",
       "      <td>-15.0</td>\n",
       "      <td>0.0</td>\n",
       "      <td>0.0</td>\n",
       "      <td>Si,Fe-1</td>\n",
       "    </tr>\n",
       "    <tr>\n",
       "      <th>2</th>\n",
       "      <td>-2</td>\n",
       "      <td>0</td>\n",
       "      <td>0</td>\n",
       "      <td>Si,Fe</td>\n",
       "      <td>-10.0</td>\n",
       "      <td>0.0</td>\n",
       "      <td>0.0</td>\n",
       "      <td>Si,Fe-2</td>\n",
       "    </tr>\n",
       "    <tr>\n",
       "      <th>3</th>\n",
       "      <td>-1</td>\n",
       "      <td>0</td>\n",
       "      <td>0</td>\n",
       "      <td>Si,Fe</td>\n",
       "      <td>-5.0</td>\n",
       "      <td>0.0</td>\n",
       "      <td>0.0</td>\n",
       "      <td>Si,Fe-3</td>\n",
       "    </tr>\n",
       "    <tr>\n",
       "      <th>4</th>\n",
       "      <td>-4</td>\n",
       "      <td>1</td>\n",
       "      <td>0</td>\n",
       "      <td>Si,Fe</td>\n",
       "      <td>-20.0</td>\n",
       "      <td>5.0</td>\n",
       "      <td>0.0</td>\n",
       "      <td>Si,Fe-4</td>\n",
       "    </tr>\n",
       "  </tbody>\n",
       "</table>\n",
       "</div>"
      ],
      "text/plain": [
       "    a  b  c   atom     x    y    z site_index\n",
       "0  -4  0  0  Si,Fe -20.0  0.0  0.0    Si,Fe-0\n",
       "1  -3  0  0  Si,Fe -15.0  0.0  0.0    Si,Fe-1\n",
       "2  -2  0  0  Si,Fe -10.0  0.0  0.0    Si,Fe-2\n",
       "3  -1  0  0  Si,Fe  -5.0  0.0  0.0    Si,Fe-3\n",
       "4  -4  1  0  Si,Fe -20.0  5.0  0.0    Si,Fe-4"
      ]
     },
     "execution_count": 77,
     "metadata": {},
     "output_type": "execute_result"
    }
   ],
   "source": [
    "str_clusters['str_vis_sites'].head()"
   ]
  },
  {
   "cell_type": "code",
   "execution_count": 78,
   "metadata": {
    "collapsed": true
   },
   "outputs": [],
   "source": [
    "str_clusters['str_vis_sites'] = str_vis_sites"
   ]
  },
  {
   "cell_type": "code",
   "execution_count": 79,
   "metadata": {},
   "outputs": [
    {
     "data": {
      "text/plain": [
       "[[[5.0, 5.0, 100.0], [5.0, 0.0, 100.0]],\n",
       " [[5.0, 5.0, 100.0], [0.0, 5.0, 100.0]],\n",
       " [[10.0, 5.0, 100.0], [10.0, 0.0, 100.0]],\n",
       " [[10.0, 5.0, 100.0], [5.0, 5.0, 100.0]],\n",
       " [[15.0, 5.0, 100.0], [15.0, 0.0, 100.0]],\n",
       " [[15.0, 5.0, 100.0], [10.0, 5.0, 100.0]],\n",
       " [[20.0, 5.0, 100.0], [20.0, 0.0, 100.0]],\n",
       " [[20.0, 5.0, 100.0], [15.0, 5.0, 100.0]],\n",
       " [[5.0, 10.0, 100.0], [5.0, 5.0, 100.0]],\n",
       " [[5.0, 10.0, 100.0], [0.0, 10.0, 100.0]],\n",
       " [[10.0, 10.0, 100.0], [10.0, 5.0, 100.0]],\n",
       " [[10.0, 10.0, 100.0], [5.0, 10.0, 100.0]],\n",
       " [[15.0, 10.0, 100.0], [15.0, 5.0, 100.0]],\n",
       " [[15.0, 10.0, 100.0], [10.0, 10.0, 100.0]],\n",
       " [[20.0, 10.0, 100.0], [20.0, 5.0, 100.0]],\n",
       " [[20.0, 10.0, 100.0], [15.0, 10.0, 100.0]],\n",
       " [[5.0, 15.0, 100.0], [5.0, 10.0, 100.0]],\n",
       " [[5.0, 15.0, 100.0], [0.0, 15.0, 100.0]],\n",
       " [[10.0, 15.0, 100.0], [10.0, 10.0, 100.0]],\n",
       " [[10.0, 15.0, 100.0], [5.0, 15.0, 100.0]],\n",
       " [[15.0, 15.0, 100.0], [15.0, 10.0, 100.0]],\n",
       " [[15.0, 15.0, 100.0], [10.0, 15.0, 100.0]],\n",
       " [[20.0, 15.0, 100.0], [20.0, 10.0, 100.0]],\n",
       " [[20.0, 15.0, 100.0], [15.0, 15.0, 100.0]]]"
      ]
     },
     "execution_count": 79,
     "metadata": {},
     "output_type": "execute_result"
    }
   ],
   "source": [
    "str_clusters['2-1']"
   ]
  },
  {
   "cell_type": "code",
   "execution_count": 80,
   "metadata": {
    "collapsed": true
   },
   "outputs": [],
   "source": [
    "k = 1\n",
    "for i in range(len(str_clusters['2-{}'.format(k)])):\n",
    "    #print(i)\n",
    "    str_vec_no_rep = [0 for i in range(len(str_clusters['str_vis_sites']))]\n",
    "    str_vec_rep = [0 for i in range(len(structure['sites']))]\n",
    "\n",
    "    sites = str_clusters['2-{}'.format(k)][i]\n",
    "    \n",
    "    for site in sites:\n",
    "        site_index = find_site_index_xyz(site,str_clusters['str_vis_sites'])\n",
    "        site_index = int(site_index.split('-')[-1])\n",
    "        str_vec_rep[site_index] = 1\n",
    "        \n",
    "        df_index = find_df_index_xyz(site,str_clusters['str_vis_sites'])\n",
    "        str_vec_no_rep[df_index] = 1\n",
    "    \n",
    "    visualize_str_no_rep(str_clusters['str_vis_sites'], str_vec_no_rep, 'str_clusters_no_rep/xyzs/cluster-2-{}-{}.xyz'.format(k, i+1), 'str_clusters_no_rep/images/cluster-2-{}-{}.png'.format(k, i+1))\n",
    "    \n",
    "    visualize_str_rep(str_clusters['str_vis_sites'],str_vec_rep, 'str_clusters_rep/xyzs/cluster-2-{}-{}.xyz'.format(k, i+1), 'str_clusters_rep/images/cluster-2-{}-{}.png'.format(k, i+1))"
   ]
  },
  {
   "cell_type": "code",
   "execution_count": 81,
   "metadata": {},
   "outputs": [
    {
     "data": {
      "text/plain": [
       "[-3, -2, -1, 0, 1]"
      ]
     },
     "execution_count": 81,
     "metadata": {},
     "output_type": "execute_result"
    }
   ],
   "source": [
    "lat_clusters['v_vis_range']"
   ]
  },
  {
   "cell_type": "markdown",
   "metadata": {},
   "source": [
    "#### pair sites for structure sites"
   ]
  },
  {
   "cell_type": "code",
   "execution_count": 82,
   "metadata": {},
   "outputs": [
    {
     "data": {
      "text/html": [
       "<div>\n",
       "<style>\n",
       "    .dataframe thead tr:only-child th {\n",
       "        text-align: right;\n",
       "    }\n",
       "\n",
       "    .dataframe thead th {\n",
       "        text-align: left;\n",
       "    }\n",
       "\n",
       "    .dataframe tbody tr th {\n",
       "        vertical-align: top;\n",
       "    }\n",
       "</style>\n",
       "<table border=\"1\" class=\"dataframe\">\n",
       "  <thead>\n",
       "    <tr style=\"text-align: right;\">\n",
       "      <th></th>\n",
       "      <th>a</th>\n",
       "      <th>b</th>\n",
       "      <th>c</th>\n",
       "      <th>atom</th>\n",
       "      <th>x</th>\n",
       "      <th>y</th>\n",
       "      <th>z</th>\n",
       "      <th>site_index</th>\n",
       "    </tr>\n",
       "  </thead>\n",
       "  <tbody>\n",
       "    <tr>\n",
       "      <th>0</th>\n",
       "      <td>0</td>\n",
       "      <td>0</td>\n",
       "      <td>0</td>\n",
       "      <td>Si,Fe</td>\n",
       "      <td>0.000000e+00</td>\n",
       "      <td>0.0</td>\n",
       "      <td>0.0</td>\n",
       "      <td>Si,Fe-0</td>\n",
       "    </tr>\n",
       "    <tr>\n",
       "      <th>0</th>\n",
       "      <td>1</td>\n",
       "      <td>0</td>\n",
       "      <td>0</td>\n",
       "      <td>Si,Fe</td>\n",
       "      <td>5.000000e+00</td>\n",
       "      <td>0.0</td>\n",
       "      <td>0.0</td>\n",
       "      <td>Si,Fe-1</td>\n",
       "    </tr>\n",
       "    <tr>\n",
       "      <th>0</th>\n",
       "      <td>2</td>\n",
       "      <td>0</td>\n",
       "      <td>0</td>\n",
       "      <td>Si,Fe</td>\n",
       "      <td>1.000000e+01</td>\n",
       "      <td>0.0</td>\n",
       "      <td>0.0</td>\n",
       "      <td>Si,Fe-2</td>\n",
       "    </tr>\n",
       "    <tr>\n",
       "      <th>0</th>\n",
       "      <td>3</td>\n",
       "      <td>0</td>\n",
       "      <td>0</td>\n",
       "      <td>Si,Fe</td>\n",
       "      <td>1.500000e+01</td>\n",
       "      <td>0.0</td>\n",
       "      <td>0.0</td>\n",
       "      <td>Si,Fe-3</td>\n",
       "    </tr>\n",
       "    <tr>\n",
       "      <th>0</th>\n",
       "      <td>0</td>\n",
       "      <td>1</td>\n",
       "      <td>0</td>\n",
       "      <td>Si,Fe</td>\n",
       "      <td>3.061617e-16</td>\n",
       "      <td>5.0</td>\n",
       "      <td>0.0</td>\n",
       "      <td>Si,Fe-4</td>\n",
       "    </tr>\n",
       "    <tr>\n",
       "      <th>0</th>\n",
       "      <td>1</td>\n",
       "      <td>1</td>\n",
       "      <td>0</td>\n",
       "      <td>Si,Fe</td>\n",
       "      <td>5.000000e+00</td>\n",
       "      <td>5.0</td>\n",
       "      <td>0.0</td>\n",
       "      <td>Si,Fe-5</td>\n",
       "    </tr>\n",
       "    <tr>\n",
       "      <th>0</th>\n",
       "      <td>2</td>\n",
       "      <td>1</td>\n",
       "      <td>0</td>\n",
       "      <td>Si,Fe</td>\n",
       "      <td>1.000000e+01</td>\n",
       "      <td>5.0</td>\n",
       "      <td>0.0</td>\n",
       "      <td>Si,Fe-6</td>\n",
       "    </tr>\n",
       "    <tr>\n",
       "      <th>0</th>\n",
       "      <td>3</td>\n",
       "      <td>1</td>\n",
       "      <td>0</td>\n",
       "      <td>Si,Fe</td>\n",
       "      <td>1.500000e+01</td>\n",
       "      <td>5.0</td>\n",
       "      <td>0.0</td>\n",
       "      <td>Si,Fe-7</td>\n",
       "    </tr>\n",
       "    <tr>\n",
       "      <th>0</th>\n",
       "      <td>0</td>\n",
       "      <td>2</td>\n",
       "      <td>0</td>\n",
       "      <td>Si,Fe</td>\n",
       "      <td>6.123234e-16</td>\n",
       "      <td>10.0</td>\n",
       "      <td>0.0</td>\n",
       "      <td>Si,Fe-8</td>\n",
       "    </tr>\n",
       "    <tr>\n",
       "      <th>0</th>\n",
       "      <td>1</td>\n",
       "      <td>2</td>\n",
       "      <td>0</td>\n",
       "      <td>Si,Fe</td>\n",
       "      <td>5.000000e+00</td>\n",
       "      <td>10.0</td>\n",
       "      <td>0.0</td>\n",
       "      <td>Si,Fe-9</td>\n",
       "    </tr>\n",
       "    <tr>\n",
       "      <th>0</th>\n",
       "      <td>2</td>\n",
       "      <td>2</td>\n",
       "      <td>0</td>\n",
       "      <td>Si,Fe</td>\n",
       "      <td>1.000000e+01</td>\n",
       "      <td>10.0</td>\n",
       "      <td>0.0</td>\n",
       "      <td>Si,Fe-10</td>\n",
       "    </tr>\n",
       "    <tr>\n",
       "      <th>0</th>\n",
       "      <td>3</td>\n",
       "      <td>2</td>\n",
       "      <td>0</td>\n",
       "      <td>Si,Fe</td>\n",
       "      <td>1.500000e+01</td>\n",
       "      <td>10.0</td>\n",
       "      <td>0.0</td>\n",
       "      <td>Si,Fe-11</td>\n",
       "    </tr>\n",
       "  </tbody>\n",
       "</table>\n",
       "</div>"
      ],
      "text/plain": [
       "   a  b  c   atom             x     y    z site_index\n",
       "0  0  0  0  Si,Fe  0.000000e+00   0.0  0.0    Si,Fe-0\n",
       "0  1  0  0  Si,Fe  5.000000e+00   0.0  0.0    Si,Fe-1\n",
       "0  2  0  0  Si,Fe  1.000000e+01   0.0  0.0    Si,Fe-2\n",
       "0  3  0  0  Si,Fe  1.500000e+01   0.0  0.0    Si,Fe-3\n",
       "0  0  1  0  Si,Fe  3.061617e-16   5.0  0.0    Si,Fe-4\n",
       "0  1  1  0  Si,Fe  5.000000e+00   5.0  0.0    Si,Fe-5\n",
       "0  2  1  0  Si,Fe  1.000000e+01   5.0  0.0    Si,Fe-6\n",
       "0  3  1  0  Si,Fe  1.500000e+01   5.0  0.0    Si,Fe-7\n",
       "0  0  2  0  Si,Fe  6.123234e-16  10.0  0.0    Si,Fe-8\n",
       "0  1  2  0  Si,Fe  5.000000e+00  10.0  0.0    Si,Fe-9\n",
       "0  2  2  0  Si,Fe  1.000000e+01  10.0  0.0   Si,Fe-10\n",
       "0  3  2  0  Si,Fe  1.500000e+01  10.0  0.0   Si,Fe-11"
      ]
     },
     "execution_count": 82,
     "metadata": {},
     "output_type": "execute_result"
    }
   ],
   "source": [
    "structure['sites']"
   ]
  },
  {
   "cell_type": "code",
   "execution_count": 83,
   "metadata": {},
   "outputs": [
    {
     "data": {
      "text/plain": [
       "dict_keys(['type_num', 'num_max_site', 'orig_file', '0-1', '1-1', '2-1', '2-2', '2-3', '2-4', '2-5', '2-6', 'u_vis_range', 'v_vis_range', 'w_vis_range', 'lat_vis_sites'])"
      ]
     },
     "execution_count": 83,
     "metadata": {},
     "output_type": "execute_result"
    }
   ],
   "source": [
    "lat_clusters.keys()"
   ]
  },
  {
   "cell_type": "code",
   "execution_count": 84,
   "metadata": {},
   "outputs": [
    {
     "data": {
      "text/plain": [
       "dict_keys(['cluster_orig_list', '1-1', '2-1', '2-2', '2-3', '2-4', '2-5', '2-6', 'l_vis_range', 'm_vis_range', 'n_vis_range', 'str_vis_sites'])"
      ]
     },
     "execution_count": 84,
     "metadata": {},
     "output_type": "execute_result"
    }
   ],
   "source": [
    "str_clusters.keys()"
   ]
  },
  {
   "cell_type": "code",
   "execution_count": 85,
   "metadata": {
    "collapsed": true
   },
   "outputs": [],
   "source": [
    "str_clusters['type_num'] = lat_clusters['type_num']"
   ]
  },
  {
   "cell_type": "code",
   "execution_count": 86,
   "metadata": {
    "collapsed": true
   },
   "outputs": [],
   "source": [
    "#create one column for each cluster type\n",
    "for nsite, ncluster in enumerate(str_clusters['type_num']):\n",
    "    if nsite == 0:\n",
    "        continue\n",
    "    #print(nsite, ncluster)\n",
    "    for index in range(1, int(ncluster)+1):\n",
    "        #print(index)\n",
    "        clu_type = str(nsite)+'-'+str(int(index))\n",
    "        structure['sites'][clu_type] = \"\"\n",
    "        structure['sites'][clu_type].astype('str')"
   ]
  },
  {
   "cell_type": "code",
   "execution_count": 87,
   "metadata": {},
   "outputs": [
    {
     "data": {
      "text/html": [
       "<div>\n",
       "<style>\n",
       "    .dataframe thead tr:only-child th {\n",
       "        text-align: right;\n",
       "    }\n",
       "\n",
       "    .dataframe thead th {\n",
       "        text-align: left;\n",
       "    }\n",
       "\n",
       "    .dataframe tbody tr th {\n",
       "        vertical-align: top;\n",
       "    }\n",
       "</style>\n",
       "<table border=\"1\" class=\"dataframe\">\n",
       "  <thead>\n",
       "    <tr style=\"text-align: right;\">\n",
       "      <th></th>\n",
       "      <th>a</th>\n",
       "      <th>b</th>\n",
       "      <th>c</th>\n",
       "      <th>atom</th>\n",
       "      <th>x</th>\n",
       "      <th>y</th>\n",
       "      <th>z</th>\n",
       "      <th>site_index</th>\n",
       "      <th>1-1</th>\n",
       "      <th>2-1</th>\n",
       "      <th>2-2</th>\n",
       "      <th>2-3</th>\n",
       "      <th>2-4</th>\n",
       "      <th>2-5</th>\n",
       "      <th>2-6</th>\n",
       "    </tr>\n",
       "  </thead>\n",
       "  <tbody>\n",
       "    <tr>\n",
       "      <th>0</th>\n",
       "      <td>0</td>\n",
       "      <td>0</td>\n",
       "      <td>0</td>\n",
       "      <td>Si,Fe</td>\n",
       "      <td>0.000000e+00</td>\n",
       "      <td>0.0</td>\n",
       "      <td>0.0</td>\n",
       "      <td>Si,Fe-0</td>\n",
       "      <td></td>\n",
       "      <td></td>\n",
       "      <td></td>\n",
       "      <td></td>\n",
       "      <td></td>\n",
       "      <td></td>\n",
       "      <td></td>\n",
       "    </tr>\n",
       "    <tr>\n",
       "      <th>0</th>\n",
       "      <td>1</td>\n",
       "      <td>0</td>\n",
       "      <td>0</td>\n",
       "      <td>Si,Fe</td>\n",
       "      <td>5.000000e+00</td>\n",
       "      <td>0.0</td>\n",
       "      <td>0.0</td>\n",
       "      <td>Si,Fe-1</td>\n",
       "      <td></td>\n",
       "      <td></td>\n",
       "      <td></td>\n",
       "      <td></td>\n",
       "      <td></td>\n",
       "      <td></td>\n",
       "      <td></td>\n",
       "    </tr>\n",
       "    <tr>\n",
       "      <th>0</th>\n",
       "      <td>2</td>\n",
       "      <td>0</td>\n",
       "      <td>0</td>\n",
       "      <td>Si,Fe</td>\n",
       "      <td>1.000000e+01</td>\n",
       "      <td>0.0</td>\n",
       "      <td>0.0</td>\n",
       "      <td>Si,Fe-2</td>\n",
       "      <td></td>\n",
       "      <td></td>\n",
       "      <td></td>\n",
       "      <td></td>\n",
       "      <td></td>\n",
       "      <td></td>\n",
       "      <td></td>\n",
       "    </tr>\n",
       "    <tr>\n",
       "      <th>0</th>\n",
       "      <td>3</td>\n",
       "      <td>0</td>\n",
       "      <td>0</td>\n",
       "      <td>Si,Fe</td>\n",
       "      <td>1.500000e+01</td>\n",
       "      <td>0.0</td>\n",
       "      <td>0.0</td>\n",
       "      <td>Si,Fe-3</td>\n",
       "      <td></td>\n",
       "      <td></td>\n",
       "      <td></td>\n",
       "      <td></td>\n",
       "      <td></td>\n",
       "      <td></td>\n",
       "      <td></td>\n",
       "    </tr>\n",
       "    <tr>\n",
       "      <th>0</th>\n",
       "      <td>0</td>\n",
       "      <td>1</td>\n",
       "      <td>0</td>\n",
       "      <td>Si,Fe</td>\n",
       "      <td>3.061617e-16</td>\n",
       "      <td>5.0</td>\n",
       "      <td>0.0</td>\n",
       "      <td>Si,Fe-4</td>\n",
       "      <td></td>\n",
       "      <td></td>\n",
       "      <td></td>\n",
       "      <td></td>\n",
       "      <td></td>\n",
       "      <td></td>\n",
       "      <td></td>\n",
       "    </tr>\n",
       "    <tr>\n",
       "      <th>0</th>\n",
       "      <td>1</td>\n",
       "      <td>1</td>\n",
       "      <td>0</td>\n",
       "      <td>Si,Fe</td>\n",
       "      <td>5.000000e+00</td>\n",
       "      <td>5.0</td>\n",
       "      <td>0.0</td>\n",
       "      <td>Si,Fe-5</td>\n",
       "      <td></td>\n",
       "      <td></td>\n",
       "      <td></td>\n",
       "      <td></td>\n",
       "      <td></td>\n",
       "      <td></td>\n",
       "      <td></td>\n",
       "    </tr>\n",
       "    <tr>\n",
       "      <th>0</th>\n",
       "      <td>2</td>\n",
       "      <td>1</td>\n",
       "      <td>0</td>\n",
       "      <td>Si,Fe</td>\n",
       "      <td>1.000000e+01</td>\n",
       "      <td>5.0</td>\n",
       "      <td>0.0</td>\n",
       "      <td>Si,Fe-6</td>\n",
       "      <td></td>\n",
       "      <td></td>\n",
       "      <td></td>\n",
       "      <td></td>\n",
       "      <td></td>\n",
       "      <td></td>\n",
       "      <td></td>\n",
       "    </tr>\n",
       "    <tr>\n",
       "      <th>0</th>\n",
       "      <td>3</td>\n",
       "      <td>1</td>\n",
       "      <td>0</td>\n",
       "      <td>Si,Fe</td>\n",
       "      <td>1.500000e+01</td>\n",
       "      <td>5.0</td>\n",
       "      <td>0.0</td>\n",
       "      <td>Si,Fe-7</td>\n",
       "      <td></td>\n",
       "      <td></td>\n",
       "      <td></td>\n",
       "      <td></td>\n",
       "      <td></td>\n",
       "      <td></td>\n",
       "      <td></td>\n",
       "    </tr>\n",
       "    <tr>\n",
       "      <th>0</th>\n",
       "      <td>0</td>\n",
       "      <td>2</td>\n",
       "      <td>0</td>\n",
       "      <td>Si,Fe</td>\n",
       "      <td>6.123234e-16</td>\n",
       "      <td>10.0</td>\n",
       "      <td>0.0</td>\n",
       "      <td>Si,Fe-8</td>\n",
       "      <td></td>\n",
       "      <td></td>\n",
       "      <td></td>\n",
       "      <td></td>\n",
       "      <td></td>\n",
       "      <td></td>\n",
       "      <td></td>\n",
       "    </tr>\n",
       "    <tr>\n",
       "      <th>0</th>\n",
       "      <td>1</td>\n",
       "      <td>2</td>\n",
       "      <td>0</td>\n",
       "      <td>Si,Fe</td>\n",
       "      <td>5.000000e+00</td>\n",
       "      <td>10.0</td>\n",
       "      <td>0.0</td>\n",
       "      <td>Si,Fe-9</td>\n",
       "      <td></td>\n",
       "      <td></td>\n",
       "      <td></td>\n",
       "      <td></td>\n",
       "      <td></td>\n",
       "      <td></td>\n",
       "      <td></td>\n",
       "    </tr>\n",
       "    <tr>\n",
       "      <th>0</th>\n",
       "      <td>2</td>\n",
       "      <td>2</td>\n",
       "      <td>0</td>\n",
       "      <td>Si,Fe</td>\n",
       "      <td>1.000000e+01</td>\n",
       "      <td>10.0</td>\n",
       "      <td>0.0</td>\n",
       "      <td>Si,Fe-10</td>\n",
       "      <td></td>\n",
       "      <td></td>\n",
       "      <td></td>\n",
       "      <td></td>\n",
       "      <td></td>\n",
       "      <td></td>\n",
       "      <td></td>\n",
       "    </tr>\n",
       "    <tr>\n",
       "      <th>0</th>\n",
       "      <td>3</td>\n",
       "      <td>2</td>\n",
       "      <td>0</td>\n",
       "      <td>Si,Fe</td>\n",
       "      <td>1.500000e+01</td>\n",
       "      <td>10.0</td>\n",
       "      <td>0.0</td>\n",
       "      <td>Si,Fe-11</td>\n",
       "      <td></td>\n",
       "      <td></td>\n",
       "      <td></td>\n",
       "      <td></td>\n",
       "      <td></td>\n",
       "      <td></td>\n",
       "      <td></td>\n",
       "    </tr>\n",
       "  </tbody>\n",
       "</table>\n",
       "</div>"
      ],
      "text/plain": [
       "   a  b  c   atom             x     y    z site_index 1-1 2-1 2-2 2-3 2-4 2-5  \\\n",
       "0  0  0  0  Si,Fe  0.000000e+00   0.0  0.0    Si,Fe-0                           \n",
       "0  1  0  0  Si,Fe  5.000000e+00   0.0  0.0    Si,Fe-1                           \n",
       "0  2  0  0  Si,Fe  1.000000e+01   0.0  0.0    Si,Fe-2                           \n",
       "0  3  0  0  Si,Fe  1.500000e+01   0.0  0.0    Si,Fe-3                           \n",
       "0  0  1  0  Si,Fe  3.061617e-16   5.0  0.0    Si,Fe-4                           \n",
       "0  1  1  0  Si,Fe  5.000000e+00   5.0  0.0    Si,Fe-5                           \n",
       "0  2  1  0  Si,Fe  1.000000e+01   5.0  0.0    Si,Fe-6                           \n",
       "0  3  1  0  Si,Fe  1.500000e+01   5.0  0.0    Si,Fe-7                           \n",
       "0  0  2  0  Si,Fe  6.123234e-16  10.0  0.0    Si,Fe-8                           \n",
       "0  1  2  0  Si,Fe  5.000000e+00  10.0  0.0    Si,Fe-9                           \n",
       "0  2  2  0  Si,Fe  1.000000e+01  10.0  0.0   Si,Fe-10                           \n",
       "0  3  2  0  Si,Fe  1.500000e+01  10.0  0.0   Si,Fe-11                           \n",
       "\n",
       "  2-6  \n",
       "0      \n",
       "0      \n",
       "0      \n",
       "0      \n",
       "0      \n",
       "0      \n",
       "0      \n",
       "0      \n",
       "0      \n",
       "0      \n",
       "0      \n",
       "0      "
      ]
     },
     "execution_count": 87,
     "metadata": {},
     "output_type": "execute_result"
    }
   ],
   "source": [
    "structure['sites']"
   ]
  },
  {
   "cell_type": "code",
   "execution_count": 88,
   "metadata": {},
   "outputs": [
    {
     "data": {
      "text/plain": [
       "{'a': 5.0,\n",
       " 'alpha': 90.0,\n",
       " 'b': 5.0,\n",
       " 'beta': 90.0,\n",
       " 'c': 100.0,\n",
       " 'gamma': 90.0,\n",
       " 'sites':    a  b  c   atom\n",
       " 0  0  0  0  Si,Fe,\n",
       " 'u': [1, 0, 0],\n",
       " 'v': [0, 1, 0],\n",
       " 'w': [0, 0, 1]}"
      ]
     },
     "execution_count": 88,
     "metadata": {},
     "output_type": "execute_result"
    }
   ],
   "source": [
    "lattice"
   ]
  },
  {
   "cell_type": "code",
   "execution_count": 89,
   "metadata": {},
   "outputs": [
    {
     "data": {
      "text/plain": [
       "dict_keys(['type_num', 'num_max_site', 'orig_file', '0-1', '1-1', '2-1', '2-2', '2-3', '2-4', '2-5', '2-6', 'u_vis_range', 'v_vis_range', 'w_vis_range', 'lat_vis_sites'])"
      ]
     },
     "execution_count": 89,
     "metadata": {},
     "output_type": "execute_result"
    }
   ],
   "source": [
    "lat_clusters.keys()"
   ]
  },
  {
   "cell_type": "code",
   "execution_count": 90,
   "metadata": {
    "scrolled": true
   },
   "outputs": [
    {
     "data": {
      "text/plain": [
       "dict_keys(['cluster_orig_list', '1-1', '2-1', '2-2', '2-3', '2-4', '2-5', '2-6', 'l_vis_range', 'm_vis_range', 'n_vis_range', 'str_vis_sites', 'type_num'])"
      ]
     },
     "execution_count": 90,
     "metadata": {},
     "output_type": "execute_result"
    }
   ],
   "source": [
    "str_clusters.keys()"
   ]
  },
  {
   "cell_type": "code",
   "execution_count": 91,
   "metadata": {
    "collapsed": true
   },
   "outputs": [],
   "source": [
    "i = 0\n",
    "nsite = 0\n",
    "cluster_index = 1\n",
    "temp = []\n",
    "urage = []\n",
    "vrange = []\n",
    "wrange = []\n",
    "\n",
    "while(i < len(clulist)):\n",
    "    #read n_site\n",
    "    new_nsite = clulist[i]\n",
    "    i += 1\n",
    "    \n",
    "    #pass first three lines where the cluster contains 0 site\n",
    "    if (new_nsite == 0):\n",
    "        i+=2\n",
    "        continue\n",
    "    \n",
    "    #if the cluster has more sites than the previous cluster, reset nsite and cluster index\n",
    "    if (new_nsite != nsite):\n",
    "        nsite = new_nsite\n",
    "        cluster_index = 1\n",
    "        \n",
    "    #set the cluster type = [nsite]-[order of the specific cluster in all nsite-clusters].\n",
    "    cluster_type = str(nsite)+'-'+str(cluster_index)\n",
    "    cluster_types.append(cluster_type)\n",
    "    \n",
    "    #initialize a empty set called temp \n",
    "    temp = []\n",
    "        \n",
    "    #read multiplicity\n",
    "    multiplicity = clulist[i]\n",
    "    i += 1\n",
    "    \n",
    "    #go through all the clusters\n",
    "    n_cluster = int(multiplicity *structure['ncell'])\n",
    "    \n",
    "    for j in range(n_cluster):\n",
    "        cluster = []\n",
    "        for k in range(nsite):\n",
    "            point = []\n",
    "            for element in clulist[i]:\n",
    "                point.append(float(element))\n",
    "            site = find_site_index_xyz(point, str_vis_sites)\n",
    "            #print(u,v,w)\n",
    "            cluster.append(site)\n",
    "            i += 1\n",
    "        temp.append(cluster)\n",
    "    \n",
    "    #pass the line with correlation\n",
    "    i += 1 \n",
    "    \n",
    "    #put the set of clusters in dictionary of clusters\n",
    "    str_clusters[cluster_type+'indices'] = temp\n",
    "    \n",
    "    #count cluster types\n",
    "    cluster_index += 1   "
   ]
  },
  {
   "cell_type": "code",
   "execution_count": 92,
   "metadata": {},
   "outputs": [
    {
     "data": {
      "text/plain": [
       "[1, 1, 6, 0, 0, 0, 0, 0, 0, 0]"
      ]
     },
     "execution_count": 92,
     "metadata": {},
     "output_type": "execute_result"
    }
   ],
   "source": [
    "str_clusters['type_num']"
   ]
  },
  {
   "cell_type": "code",
   "execution_count": 93,
   "metadata": {
    "collapsed": true
   },
   "outputs": [],
   "source": [
    "structure['sites'].reset_index(inplace=True, drop=True)"
   ]
  },
  {
   "cell_type": "code",
   "execution_count": 94,
   "metadata": {},
   "outputs": [
    {
     "data": {
      "text/plain": [
       "[['Si,Fe-5', 'Si,Fe-6'],\n",
       " ['Si,Fe-5', 'Si,Fe-5'],\n",
       " ['Si,Fe-6', 'Si,Fe-7'],\n",
       " ['Si,Fe-6', 'Si,Fe-6'],\n",
       " ['Si,Fe-7', 'Si,Fe-4'],\n",
       " ['Si,Fe-7', 'Si,Fe-7'],\n",
       " ['Si,Fe-4', 'Si,Fe-5'],\n",
       " ['Si,Fe-4', 'Si,Fe-4'],\n",
       " ['Si,Fe-9', 'Si,Fe-10'],\n",
       " ['Si,Fe-9', 'Si,Fe-9'],\n",
       " ['Si,Fe-10', 'Si,Fe-11'],\n",
       " ['Si,Fe-10', 'Si,Fe-10'],\n",
       " ['Si,Fe-11', 'Si,Fe-8'],\n",
       " ['Si,Fe-11', 'Si,Fe-11'],\n",
       " ['Si,Fe-8', 'Si,Fe-9'],\n",
       " ['Si,Fe-8', 'Si,Fe-8'],\n",
       " ['Si,Fe-1', 'Si,Fe-2'],\n",
       " ['Si,Fe-1', 'Si,Fe-1'],\n",
       " ['Si,Fe-2', 'Si,Fe-3'],\n",
       " ['Si,Fe-2', 'Si,Fe-2'],\n",
       " ['Si,Fe-3', 'Si,Fe-0'],\n",
       " ['Si,Fe-3', 'Si,Fe-3'],\n",
       " ['Si,Fe-0', 'Si,Fe-1'],\n",
       " ['Si,Fe-0', 'Si,Fe-0']]"
      ]
     },
     "execution_count": 94,
     "metadata": {},
     "output_type": "execute_result"
    }
   ],
   "source": [
    "str_clusters['2-6'+'indices']"
   ]
  },
  {
   "cell_type": "code",
   "execution_count": 95,
   "metadata": {
    "collapsed": true
   },
   "outputs": [],
   "source": [
    "for nsite, cluster_index in enumerate(str_clusters['type_num']):\n",
    "    if nsite == 0:\n",
    "        continue\n",
    "    for index in range(1, cluster_index+1):\n",
    "        clu_type = str(nsite)+'-'+str(index)\n",
    "        for sites in str_clusters[clu_type+'indices']:\n",
    "            #print(sites)\n",
    "            for i, site in enumerate(sites):\n",
    "                #print(site)\n",
    "                site_index = int(site.split('-')[-1])\n",
    "                sites_res = deepcopy(sites[:i])\n",
    "                sites_res.extend(deepcopy(sites[i+1:]))\n",
    "                if (structure['sites'].iloc[site_index][clu_type] == ''):\n",
    "                    structure['sites'].set_value(site_index, clu_type, set([frozenset(set(sites_res))]))\n",
    "                else:\n",
    "                    structure['sites'].iloc[site_index][clu_type].update([frozenset(set(sites_res))])"
   ]
  },
  {
   "cell_type": "code",
   "execution_count": 96,
   "metadata": {},
   "outputs": [
    {
     "data": {
      "text/html": [
       "<div>\n",
       "<style>\n",
       "    .dataframe thead tr:only-child th {\n",
       "        text-align: right;\n",
       "    }\n",
       "\n",
       "    .dataframe thead th {\n",
       "        text-align: left;\n",
       "    }\n",
       "\n",
       "    .dataframe tbody tr th {\n",
       "        vertical-align: top;\n",
       "    }\n",
       "</style>\n",
       "<table border=\"1\" class=\"dataframe\">\n",
       "  <thead>\n",
       "    <tr style=\"text-align: right;\">\n",
       "      <th></th>\n",
       "      <th>a</th>\n",
       "      <th>b</th>\n",
       "      <th>c</th>\n",
       "      <th>atom</th>\n",
       "      <th>x</th>\n",
       "      <th>y</th>\n",
       "      <th>z</th>\n",
       "      <th>site_index</th>\n",
       "      <th>1-1</th>\n",
       "      <th>2-1</th>\n",
       "      <th>2-2</th>\n",
       "      <th>2-3</th>\n",
       "      <th>2-4</th>\n",
       "      <th>2-5</th>\n",
       "      <th>2-6</th>\n",
       "    </tr>\n",
       "  </thead>\n",
       "  <tbody>\n",
       "    <tr>\n",
       "      <th>0</th>\n",
       "      <td>0</td>\n",
       "      <td>0</td>\n",
       "      <td>0</td>\n",
       "      <td>Si,Fe</td>\n",
       "      <td>0.000000e+00</td>\n",
       "      <td>0.0</td>\n",
       "      <td>0.0</td>\n",
       "      <td>Si,Fe-0</td>\n",
       "      <td>{()}</td>\n",
       "      <td>{(Si,Fe-8), (Si,Fe-1), (Si,Fe-3), (Si,Fe-4)}</td>\n",
       "      <td>{(Si,Fe-11), (Si,Fe-7), (Si,Fe-5), (Si,Fe-9)}</td>\n",
       "      <td>{(Si,Fe-2), (Si,Fe-8), (Si,Fe-4)}</td>\n",
       "      <td>{(Si,Fe-5), (Si,Fe-6), (Si,Fe-7), (Si,Fe-11), ...</td>\n",
       "      <td>{(Si,Fe-6), (Si,Fe-10)}</td>\n",
       "      <td>{(Si,Fe-1), (Si,Fe-0), (Si,Fe-3)}</td>\n",
       "    </tr>\n",
       "    <tr>\n",
       "      <th>1</th>\n",
       "      <td>1</td>\n",
       "      <td>0</td>\n",
       "      <td>0</td>\n",
       "      <td>Si,Fe</td>\n",
       "      <td>5.000000e+00</td>\n",
       "      <td>0.0</td>\n",
       "      <td>0.0</td>\n",
       "      <td>Si,Fe-1</td>\n",
       "      <td>{()}</td>\n",
       "      <td>{(Si,Fe-2), (Si,Fe-0), (Si,Fe-5), (Si,Fe-9)}</td>\n",
       "      <td>{(Si,Fe-8), (Si,Fe-6), (Si,Fe-10), (Si,Fe-4)}</td>\n",
       "      <td>{(Si,Fe-5), (Si,Fe-9), (Si,Fe-3)}</td>\n",
       "      <td>{(Si,Fe-4), (Si,Fe-6), (Si,Fe-7), (Si,Fe-11), ...</td>\n",
       "      <td>{(Si,Fe-11), (Si,Fe-7)}</td>\n",
       "      <td>{(Si,Fe-2), (Si,Fe-1), (Si,Fe-0)}</td>\n",
       "    </tr>\n",
       "    <tr>\n",
       "      <th>2</th>\n",
       "      <td>2</td>\n",
       "      <td>0</td>\n",
       "      <td>0</td>\n",
       "      <td>Si,Fe</td>\n",
       "      <td>1.000000e+01</td>\n",
       "      <td>0.0</td>\n",
       "      <td>0.0</td>\n",
       "      <td>Si,Fe-2</td>\n",
       "      <td>{()}</td>\n",
       "      <td>{(Si,Fe-1), (Si,Fe-6), (Si,Fe-10), (Si,Fe-3)}</td>\n",
       "      <td>{(Si,Fe-11), (Si,Fe-5), (Si,Fe-7), (Si,Fe-9)}</td>\n",
       "      <td>{(Si,Fe-0), (Si,Fe-6), (Si,Fe-10)}</td>\n",
       "      <td>{(Si,Fe-5), (Si,Fe-4), (Si,Fe-7), (Si,Fe-11), ...</td>\n",
       "      <td>{(Si,Fe-8), (Si,Fe-4)}</td>\n",
       "      <td>{(Si,Fe-2), (Si,Fe-1), (Si,Fe-3)}</td>\n",
       "    </tr>\n",
       "    <tr>\n",
       "      <th>3</th>\n",
       "      <td>3</td>\n",
       "      <td>0</td>\n",
       "      <td>0</td>\n",
       "      <td>Si,Fe</td>\n",
       "      <td>1.500000e+01</td>\n",
       "      <td>0.0</td>\n",
       "      <td>0.0</td>\n",
       "      <td>Si,Fe-3</td>\n",
       "      <td>{()}</td>\n",
       "      <td>{(Si,Fe-2), (Si,Fe-11), (Si,Fe-0), (Si,Fe-7)}</td>\n",
       "      <td>{(Si,Fe-8), (Si,Fe-6), (Si,Fe-10), (Si,Fe-4)}</td>\n",
       "      <td>{(Si,Fe-11), (Si,Fe-1), (Si,Fe-7)}</td>\n",
       "      <td>{(Si,Fe-5), (Si,Fe-4), (Si,Fe-6), (Si,Fe-8), (...</td>\n",
       "      <td>{(Si,Fe-5), (Si,Fe-9)}</td>\n",
       "      <td>{(Si,Fe-2), (Si,Fe-0), (Si,Fe-3)}</td>\n",
       "    </tr>\n",
       "    <tr>\n",
       "      <th>4</th>\n",
       "      <td>0</td>\n",
       "      <td>1</td>\n",
       "      <td>0</td>\n",
       "      <td>Si,Fe</td>\n",
       "      <td>3.061617e-16</td>\n",
       "      <td>5.0</td>\n",
       "      <td>0.0</td>\n",
       "      <td>Si,Fe-4</td>\n",
       "      <td>{()}</td>\n",
       "      <td>{(Si,Fe-8), (Si,Fe-0), (Si,Fe-5), (Si,Fe-7)}</td>\n",
       "      <td>{(Si,Fe-11), (Si,Fe-1), (Si,Fe-9), (Si,Fe-3)}</td>\n",
       "      <td>{(Si,Fe-8), (Si,Fe-0), (Si,Fe-6)}</td>\n",
       "      <td>{(Si,Fe-1), (Si,Fe-2), (Si,Fe-3), (Si,Fe-11), ...</td>\n",
       "      <td>{(Si,Fe-2), (Si,Fe-10)}</td>\n",
       "      <td>{(Si,Fe-5), (Si,Fe-7), (Si,Fe-4)}</td>\n",
       "    </tr>\n",
       "    <tr>\n",
       "      <th>5</th>\n",
       "      <td>1</td>\n",
       "      <td>1</td>\n",
       "      <td>0</td>\n",
       "      <td>Si,Fe</td>\n",
       "      <td>5.000000e+00</td>\n",
       "      <td>5.0</td>\n",
       "      <td>0.0</td>\n",
       "      <td>Si,Fe-5</td>\n",
       "      <td>{()}</td>\n",
       "      <td>{(Si,Fe-1), (Si,Fe-6), (Si,Fe-9), (Si,Fe-4)}</td>\n",
       "      <td>{(Si,Fe-2), (Si,Fe-8), (Si,Fe-0), (Si,Fe-10)}</td>\n",
       "      <td>{(Si,Fe-1), (Si,Fe-7), (Si,Fe-9)}</td>\n",
       "      <td>{(Si,Fe-0), (Si,Fe-2), (Si,Fe-3), (Si,Fe-11), ...</td>\n",
       "      <td>{(Si,Fe-11), (Si,Fe-3)}</td>\n",
       "      <td>{(Si,Fe-5), (Si,Fe-6), (Si,Fe-4)}</td>\n",
       "    </tr>\n",
       "    <tr>\n",
       "      <th>6</th>\n",
       "      <td>2</td>\n",
       "      <td>1</td>\n",
       "      <td>0</td>\n",
       "      <td>Si,Fe</td>\n",
       "      <td>1.000000e+01</td>\n",
       "      <td>5.0</td>\n",
       "      <td>0.0</td>\n",
       "      <td>Si,Fe-6</td>\n",
       "      <td>{()}</td>\n",
       "      <td>{(Si,Fe-2), (Si,Fe-5), (Si,Fe-7), (Si,Fe-10)}</td>\n",
       "      <td>{(Si,Fe-11), (Si,Fe-1), (Si,Fe-9), (Si,Fe-3)}</td>\n",
       "      <td>{(Si,Fe-2), (Si,Fe-10), (Si,Fe-4)}</td>\n",
       "      <td>{(Si,Fe-0), (Si,Fe-1), (Si,Fe-3), (Si,Fe-8), (...</td>\n",
       "      <td>{(Si,Fe-8), (Si,Fe-0)}</td>\n",
       "      <td>{(Si,Fe-6), (Si,Fe-5), (Si,Fe-7)}</td>\n",
       "    </tr>\n",
       "    <tr>\n",
       "      <th>7</th>\n",
       "      <td>3</td>\n",
       "      <td>1</td>\n",
       "      <td>0</td>\n",
       "      <td>Si,Fe</td>\n",
       "      <td>1.500000e+01</td>\n",
       "      <td>5.0</td>\n",
       "      <td>0.0</td>\n",
       "      <td>Si,Fe-7</td>\n",
       "      <td>{()}</td>\n",
       "      <td>{(Si,Fe-4), (Si,Fe-11), (Si,Fe-6), (Si,Fe-3)}</td>\n",
       "      <td>{(Si,Fe-2), (Si,Fe-8), (Si,Fe-0), (Si,Fe-10)}</td>\n",
       "      <td>{(Si,Fe-11), (Si,Fe-5), (Si,Fe-3)}</td>\n",
       "      <td>{(Si,Fe-0), (Si,Fe-1), (Si,Fe-2), (Si,Fe-8), (...</td>\n",
       "      <td>{(Si,Fe-1), (Si,Fe-9)}</td>\n",
       "      <td>{(Si,Fe-6), (Si,Fe-7), (Si,Fe-4)}</td>\n",
       "    </tr>\n",
       "    <tr>\n",
       "      <th>8</th>\n",
       "      <td>0</td>\n",
       "      <td>2</td>\n",
       "      <td>0</td>\n",
       "      <td>Si,Fe</td>\n",
       "      <td>6.123234e-16</td>\n",
       "      <td>10.0</td>\n",
       "      <td>0.0</td>\n",
       "      <td>Si,Fe-8</td>\n",
       "      <td>{()}</td>\n",
       "      <td>{(Si,Fe-11), (Si,Fe-0), (Si,Fe-9), (Si,Fe-4)}</td>\n",
       "      <td>{(Si,Fe-1), (Si,Fe-5), (Si,Fe-7), (Si,Fe-3)}</td>\n",
       "      <td>{(Si,Fe-0), (Si,Fe-10), (Si,Fe-4)}</td>\n",
       "      <td>{(Si,Fe-5), (Si,Fe-1), (Si,Fe-2), (Si,Fe-6), (...</td>\n",
       "      <td>{(Si,Fe-2), (Si,Fe-6)}</td>\n",
       "      <td>{(Si,Fe-11), (Si,Fe-8), (Si,Fe-9)}</td>\n",
       "    </tr>\n",
       "    <tr>\n",
       "      <th>9</th>\n",
       "      <td>1</td>\n",
       "      <td>2</td>\n",
       "      <td>0</td>\n",
       "      <td>Si,Fe</td>\n",
       "      <td>5.000000e+00</td>\n",
       "      <td>10.0</td>\n",
       "      <td>0.0</td>\n",
       "      <td>Si,Fe-9</td>\n",
       "      <td>{()}</td>\n",
       "      <td>{(Si,Fe-8), (Si,Fe-1), (Si,Fe-5), (Si,Fe-10)}</td>\n",
       "      <td>{(Si,Fe-2), (Si,Fe-0), (Si,Fe-6), (Si,Fe-4)}</td>\n",
       "      <td>{(Si,Fe-11), (Si,Fe-1), (Si,Fe-5)}</td>\n",
       "      <td>{(Si,Fe-0), (Si,Fe-4), (Si,Fe-2), (Si,Fe-6), (...</td>\n",
       "      <td>{(Si,Fe-7), (Si,Fe-3)}</td>\n",
       "      <td>{(Si,Fe-8), (Si,Fe-10), (Si,Fe-9)}</td>\n",
       "    </tr>\n",
       "    <tr>\n",
       "      <th>10</th>\n",
       "      <td>2</td>\n",
       "      <td>2</td>\n",
       "      <td>0</td>\n",
       "      <td>Si,Fe</td>\n",
       "      <td>1.000000e+01</td>\n",
       "      <td>10.0</td>\n",
       "      <td>0.0</td>\n",
       "      <td>Si,Fe-10</td>\n",
       "      <td>{()}</td>\n",
       "      <td>{(Si,Fe-2), (Si,Fe-11), (Si,Fe-6), (Si,Fe-9)}</td>\n",
       "      <td>{(Si,Fe-1), (Si,Fe-5), (Si,Fe-7), (Si,Fe-3)}</td>\n",
       "      <td>{(Si,Fe-2), (Si,Fe-8), (Si,Fe-6)}</td>\n",
       "      <td>{(Si,Fe-0), (Si,Fe-5), (Si,Fe-4), (Si,Fe-1), (...</td>\n",
       "      <td>{(Si,Fe-0), (Si,Fe-4)}</td>\n",
       "      <td>{(Si,Fe-11), (Si,Fe-9), (Si,Fe-10)}</td>\n",
       "    </tr>\n",
       "    <tr>\n",
       "      <th>11</th>\n",
       "      <td>3</td>\n",
       "      <td>2</td>\n",
       "      <td>0</td>\n",
       "      <td>Si,Fe</td>\n",
       "      <td>1.500000e+01</td>\n",
       "      <td>10.0</td>\n",
       "      <td>0.0</td>\n",
       "      <td>Si,Fe-11</td>\n",
       "      <td>{()}</td>\n",
       "      <td>{(Si,Fe-8), (Si,Fe-7), (Si,Fe-10), (Si,Fe-3)}</td>\n",
       "      <td>{(Si,Fe-2), (Si,Fe-0), (Si,Fe-6), (Si,Fe-4)}</td>\n",
       "      <td>{(Si,Fe-7), (Si,Fe-3), (Si,Fe-9)}</td>\n",
       "      <td>{(Si,Fe-0), (Si,Fe-5), (Si,Fe-4), (Si,Fe-1), (...</td>\n",
       "      <td>{(Si,Fe-1), (Si,Fe-5)}</td>\n",
       "      <td>{(Si,Fe-8), (Si,Fe-10), (Si,Fe-11)}</td>\n",
       "    </tr>\n",
       "  </tbody>\n",
       "</table>\n",
       "</div>"
      ],
      "text/plain": [
       "    a  b  c   atom             x     y    z site_index   1-1  \\\n",
       "0   0  0  0  Si,Fe  0.000000e+00   0.0  0.0    Si,Fe-0  {()}   \n",
       "1   1  0  0  Si,Fe  5.000000e+00   0.0  0.0    Si,Fe-1  {()}   \n",
       "2   2  0  0  Si,Fe  1.000000e+01   0.0  0.0    Si,Fe-2  {()}   \n",
       "3   3  0  0  Si,Fe  1.500000e+01   0.0  0.0    Si,Fe-3  {()}   \n",
       "4   0  1  0  Si,Fe  3.061617e-16   5.0  0.0    Si,Fe-4  {()}   \n",
       "5   1  1  0  Si,Fe  5.000000e+00   5.0  0.0    Si,Fe-5  {()}   \n",
       "6   2  1  0  Si,Fe  1.000000e+01   5.0  0.0    Si,Fe-6  {()}   \n",
       "7   3  1  0  Si,Fe  1.500000e+01   5.0  0.0    Si,Fe-7  {()}   \n",
       "8   0  2  0  Si,Fe  6.123234e-16  10.0  0.0    Si,Fe-8  {()}   \n",
       "9   1  2  0  Si,Fe  5.000000e+00  10.0  0.0    Si,Fe-9  {()}   \n",
       "10  2  2  0  Si,Fe  1.000000e+01  10.0  0.0   Si,Fe-10  {()}   \n",
       "11  3  2  0  Si,Fe  1.500000e+01  10.0  0.0   Si,Fe-11  {()}   \n",
       "\n",
       "                                              2-1  \\\n",
       "0    {(Si,Fe-8), (Si,Fe-1), (Si,Fe-3), (Si,Fe-4)}   \n",
       "1    {(Si,Fe-2), (Si,Fe-0), (Si,Fe-5), (Si,Fe-9)}   \n",
       "2   {(Si,Fe-1), (Si,Fe-6), (Si,Fe-10), (Si,Fe-3)}   \n",
       "3   {(Si,Fe-2), (Si,Fe-11), (Si,Fe-0), (Si,Fe-7)}   \n",
       "4    {(Si,Fe-8), (Si,Fe-0), (Si,Fe-5), (Si,Fe-7)}   \n",
       "5    {(Si,Fe-1), (Si,Fe-6), (Si,Fe-9), (Si,Fe-4)}   \n",
       "6   {(Si,Fe-2), (Si,Fe-5), (Si,Fe-7), (Si,Fe-10)}   \n",
       "7   {(Si,Fe-4), (Si,Fe-11), (Si,Fe-6), (Si,Fe-3)}   \n",
       "8   {(Si,Fe-11), (Si,Fe-0), (Si,Fe-9), (Si,Fe-4)}   \n",
       "9   {(Si,Fe-8), (Si,Fe-1), (Si,Fe-5), (Si,Fe-10)}   \n",
       "10  {(Si,Fe-2), (Si,Fe-11), (Si,Fe-6), (Si,Fe-9)}   \n",
       "11  {(Si,Fe-8), (Si,Fe-7), (Si,Fe-10), (Si,Fe-3)}   \n",
       "\n",
       "                                              2-2  \\\n",
       "0   {(Si,Fe-11), (Si,Fe-7), (Si,Fe-5), (Si,Fe-9)}   \n",
       "1   {(Si,Fe-8), (Si,Fe-6), (Si,Fe-10), (Si,Fe-4)}   \n",
       "2   {(Si,Fe-11), (Si,Fe-5), (Si,Fe-7), (Si,Fe-9)}   \n",
       "3   {(Si,Fe-8), (Si,Fe-6), (Si,Fe-10), (Si,Fe-4)}   \n",
       "4   {(Si,Fe-11), (Si,Fe-1), (Si,Fe-9), (Si,Fe-3)}   \n",
       "5   {(Si,Fe-2), (Si,Fe-8), (Si,Fe-0), (Si,Fe-10)}   \n",
       "6   {(Si,Fe-11), (Si,Fe-1), (Si,Fe-9), (Si,Fe-3)}   \n",
       "7   {(Si,Fe-2), (Si,Fe-8), (Si,Fe-0), (Si,Fe-10)}   \n",
       "8    {(Si,Fe-1), (Si,Fe-5), (Si,Fe-7), (Si,Fe-3)}   \n",
       "9    {(Si,Fe-2), (Si,Fe-0), (Si,Fe-6), (Si,Fe-4)}   \n",
       "10   {(Si,Fe-1), (Si,Fe-5), (Si,Fe-7), (Si,Fe-3)}   \n",
       "11   {(Si,Fe-2), (Si,Fe-0), (Si,Fe-6), (Si,Fe-4)}   \n",
       "\n",
       "                                   2-3  \\\n",
       "0    {(Si,Fe-2), (Si,Fe-8), (Si,Fe-4)}   \n",
       "1    {(Si,Fe-5), (Si,Fe-9), (Si,Fe-3)}   \n",
       "2   {(Si,Fe-0), (Si,Fe-6), (Si,Fe-10)}   \n",
       "3   {(Si,Fe-11), (Si,Fe-1), (Si,Fe-7)}   \n",
       "4    {(Si,Fe-8), (Si,Fe-0), (Si,Fe-6)}   \n",
       "5    {(Si,Fe-1), (Si,Fe-7), (Si,Fe-9)}   \n",
       "6   {(Si,Fe-2), (Si,Fe-10), (Si,Fe-4)}   \n",
       "7   {(Si,Fe-11), (Si,Fe-5), (Si,Fe-3)}   \n",
       "8   {(Si,Fe-0), (Si,Fe-10), (Si,Fe-4)}   \n",
       "9   {(Si,Fe-11), (Si,Fe-1), (Si,Fe-5)}   \n",
       "10   {(Si,Fe-2), (Si,Fe-8), (Si,Fe-6)}   \n",
       "11   {(Si,Fe-7), (Si,Fe-3), (Si,Fe-9)}   \n",
       "\n",
       "                                                  2-4  \\\n",
       "0   {(Si,Fe-5), (Si,Fe-6), (Si,Fe-7), (Si,Fe-11), ...   \n",
       "1   {(Si,Fe-4), (Si,Fe-6), (Si,Fe-7), (Si,Fe-11), ...   \n",
       "2   {(Si,Fe-5), (Si,Fe-4), (Si,Fe-7), (Si,Fe-11), ...   \n",
       "3   {(Si,Fe-5), (Si,Fe-4), (Si,Fe-6), (Si,Fe-8), (...   \n",
       "4   {(Si,Fe-1), (Si,Fe-2), (Si,Fe-3), (Si,Fe-11), ...   \n",
       "5   {(Si,Fe-0), (Si,Fe-2), (Si,Fe-3), (Si,Fe-11), ...   \n",
       "6   {(Si,Fe-0), (Si,Fe-1), (Si,Fe-3), (Si,Fe-8), (...   \n",
       "7   {(Si,Fe-0), (Si,Fe-1), (Si,Fe-2), (Si,Fe-8), (...   \n",
       "8   {(Si,Fe-5), (Si,Fe-1), (Si,Fe-2), (Si,Fe-6), (...   \n",
       "9   {(Si,Fe-0), (Si,Fe-4), (Si,Fe-2), (Si,Fe-6), (...   \n",
       "10  {(Si,Fe-0), (Si,Fe-5), (Si,Fe-4), (Si,Fe-1), (...   \n",
       "11  {(Si,Fe-0), (Si,Fe-5), (Si,Fe-4), (Si,Fe-1), (...   \n",
       "\n",
       "                        2-5                                  2-6  \n",
       "0   {(Si,Fe-6), (Si,Fe-10)}    {(Si,Fe-1), (Si,Fe-0), (Si,Fe-3)}  \n",
       "1   {(Si,Fe-11), (Si,Fe-7)}    {(Si,Fe-2), (Si,Fe-1), (Si,Fe-0)}  \n",
       "2    {(Si,Fe-8), (Si,Fe-4)}    {(Si,Fe-2), (Si,Fe-1), (Si,Fe-3)}  \n",
       "3    {(Si,Fe-5), (Si,Fe-9)}    {(Si,Fe-2), (Si,Fe-0), (Si,Fe-3)}  \n",
       "4   {(Si,Fe-2), (Si,Fe-10)}    {(Si,Fe-5), (Si,Fe-7), (Si,Fe-4)}  \n",
       "5   {(Si,Fe-11), (Si,Fe-3)}    {(Si,Fe-5), (Si,Fe-6), (Si,Fe-4)}  \n",
       "6    {(Si,Fe-8), (Si,Fe-0)}    {(Si,Fe-6), (Si,Fe-5), (Si,Fe-7)}  \n",
       "7    {(Si,Fe-1), (Si,Fe-9)}    {(Si,Fe-6), (Si,Fe-7), (Si,Fe-4)}  \n",
       "8    {(Si,Fe-2), (Si,Fe-6)}   {(Si,Fe-11), (Si,Fe-8), (Si,Fe-9)}  \n",
       "9    {(Si,Fe-7), (Si,Fe-3)}   {(Si,Fe-8), (Si,Fe-10), (Si,Fe-9)}  \n",
       "10   {(Si,Fe-0), (Si,Fe-4)}  {(Si,Fe-11), (Si,Fe-9), (Si,Fe-10)}  \n",
       "11   {(Si,Fe-1), (Si,Fe-5)}  {(Si,Fe-8), (Si,Fe-10), (Si,Fe-11)}  "
      ]
     },
     "execution_count": 96,
     "metadata": {},
     "output_type": "execute_result"
    }
   ],
   "source": [
    "structure['sites']"
   ]
  },
  {
   "cell_type": "code",
   "execution_count": 97,
   "metadata": {
    "collapsed": true
   },
   "outputs": [],
   "source": [
    "atom_num = 4"
   ]
  },
  {
   "cell_type": "code",
   "execution_count": 98,
   "metadata": {
    "collapsed": true
   },
   "outputs": [],
   "source": [
    "no_coexit_type = ['2-1']"
   ]
  },
  {
   "cell_type": "code",
   "execution_count": 99,
   "metadata": {},
   "outputs": [
    {
     "name": "stdout",
     "output_type": "stream",
     "text": [
      "mkdir: random_configuration: File exists\n",
      "mkdir: random_configuration/xyzs: File exists\n",
      "mkdir: random_configuration/images: File exists\n"
     ]
    }
   ],
   "source": [
    "!mkdir random_configuration\n",
    "!mkdir random_configuration/xyzs\n",
    "!mkdir random_configuration/images"
   ]
  },
  {
   "cell_type": "code",
   "execution_count": 100,
   "metadata": {},
   "outputs": [
    {
     "name": "stdout",
     "output_type": "stream",
     "text": [
      "[5, 3, 10, 8]\n"
     ]
    }
   ],
   "source": [
    "available_sites = set([frozenset([x]) for x in list(structure['sites'].site_index)])\n",
    "\n",
    "structure_vector = [0 for i in range(len(structure['sites'].site_index))]\n",
    "\n",
    "selected_sites = []\n",
    "atom_count = 0\n",
    "\n",
    "visualize_str_rep(structure['sites'], structure_vector, 'random_configuration/xyzs/{}.xyz'.format(atom_count),'random_configuration/images/{}.png'.format(atom_count))\n",
    "\n",
    "while((atom_count < atom_num) & (len(available_sites) > 0)):\n",
    "    #random select one site from all the available sites\n",
    "    site = random.sample(available_sites, 1)[0]\n",
    "    site_index = list(site)[0]\n",
    "    #print(site_index)\n",
    "    \n",
    "    #add selected site to the list\n",
    "    selected_sites.append(int(site_index.split('-')[-1]))\n",
    "    structure_vector[int(site_index.split('-')[-1])] = 1\n",
    "    \n",
    "    #find out the  sites for the selected site\n",
    "    #print(site)\n",
    "    no_coexist_sites = set()\n",
    "    for t in no_coexit_type:\n",
    "        no_coexist_sites.update([set(x) for x in list(list(structure['sites'][structure['sites']['site_index'] == site_index][t]))][0])\n",
    "    #print(no_coexist_sites)\n",
    "    \n",
    "    #remove the selected site and the coresponding bad sites from available sites\n",
    "    available_sites.remove(site)\n",
    "    available_sites = available_sites.difference(no_coexist_sites)\n",
    "    #print(available_sites)\n",
    "    \n",
    "    atom_count += 1\n",
    "    \n",
    "    visualize_str_rep(structure['sites'], structure_vector, 'random_configuration/xyzs/{}.xyz'.format(atom_count),'random_configuration/images/{}.png'.format(atom_count))\n",
    "    \n",
    "if(len(selected_sites) == atom_num):\n",
    "    print(selected_sites)\n",
    "else:\n",
    "    print('Failed')\n"
   ]
  },
  {
   "cell_type": "code",
   "execution_count": 144,
   "metadata": {
    "collapsed": true
   },
   "outputs": [],
   "source": [
    "!mkdir random_configuration_no_rules\n",
    "!mkdir random_configuration_no_rules/xyzs\n",
    "!mkdir random_configuration_no_rules/images"
   ]
  },
  {
   "cell_type": "code",
   "execution_count": 150,
   "metadata": {},
   "outputs": [
    {
     "name": "stdout",
     "output_type": "stream",
     "text": [
      "[2, 11, 6, 7]\n"
     ]
    }
   ],
   "source": [
    "#no rules\n",
    "available_sites = set([frozenset([x]) for x in list(structure['sites'].site_index)])\n",
    "\n",
    "structure_vector = [0 for i in range(len(structure['sites'].site_index))]\n",
    "\n",
    "selected_sites = []\n",
    "atom_count = 0\n",
    "\n",
    "visualize_str_rep(structure['sites'], structure_vector, 'random_configuration_no_rules/xyzs/{}.xyz'.format(atom_count),'random_configuration_no_rules/images/{}.png'.format(atom_count))\n",
    "\n",
    "while((atom_count < atom_num) & (len(available_sites) > 0)):\n",
    "    #random select one site from all the available sites\n",
    "    site = random.sample(available_sites, 1)[0]\n",
    "    site_index = list(site)[0]\n",
    "    #print(site_index)\n",
    "    \n",
    "    #add selected site to the list\n",
    "    selected_sites.append(int(site_index.split('-')[-1]))\n",
    "    structure_vector[int(site_index.split('-')[-1])] = 1\n",
    "    \n",
    "    #remove the selected site and the coresponding bad sites from available sites\n",
    "    available_sites.remove(site)\n",
    "    #print(available_sites)\n",
    "    \n",
    "    atom_count += 1\n",
    "    \n",
    "    visualize_str_rep(structure['sites'], structure_vector, 'random_configuration_no_rules/xyzs/{}.xyz'.format(atom_count),'random_configuration_no_rules/images/{}.png'.format(atom_count))\n",
    "    \n",
    "if(len(selected_sites) == atom_num):\n",
    "    print(selected_sites)\n",
    "else:\n",
    "    print('Failed')\n"
   ]
  },
  {
   "cell_type": "code",
   "execution_count": 151,
   "metadata": {},
   "outputs": [
    {
     "data": {
      "text/plain": [
       "[0, 0, 1, 0, 0, 0, 1, 1, 0, 0, 0, 1]"
      ]
     },
     "execution_count": 151,
     "metadata": {},
     "output_type": "execute_result"
    }
   ],
   "source": [
    "structure_vector"
   ]
  },
  {
   "cell_type": "markdown",
   "metadata": {},
   "source": [
    "#### count clusters"
   ]
  },
  {
   "cell_type": "code",
   "execution_count": 104,
   "metadata": {
    "collapsed": true
   },
   "outputs": [],
   "source": [
    "counting_types = ['2-2', '2-3', '2-4', '2-5', '2-6']"
   ]
  },
  {
   "cell_type": "code",
   "execution_count": 105,
   "metadata": {
    "collapsed": true
   },
   "outputs": [],
   "source": [
    "couting_results = defaultdict(int)"
   ]
  },
  {
   "cell_type": "code",
   "execution_count": 107,
   "metadata": {},
   "outputs": [
    {
     "data": {
      "text/plain": [
       "[['Si,Fe-5', 'Si,Fe-0'],\n",
       " ['Si,Fe-5', 'Si,Fe-8'],\n",
       " ['Si,Fe-6', 'Si,Fe-1'],\n",
       " ['Si,Fe-6', 'Si,Fe-9'],\n",
       " ['Si,Fe-7', 'Si,Fe-2'],\n",
       " ['Si,Fe-7', 'Si,Fe-10'],\n",
       " ['Si,Fe-4', 'Si,Fe-3'],\n",
       " ['Si,Fe-4', 'Si,Fe-11'],\n",
       " ['Si,Fe-9', 'Si,Fe-4'],\n",
       " ['Si,Fe-9', 'Si,Fe-0'],\n",
       " ['Si,Fe-10', 'Si,Fe-5'],\n",
       " ['Si,Fe-10', 'Si,Fe-1'],\n",
       " ['Si,Fe-11', 'Si,Fe-6'],\n",
       " ['Si,Fe-11', 'Si,Fe-2'],\n",
       " ['Si,Fe-8', 'Si,Fe-7'],\n",
       " ['Si,Fe-8', 'Si,Fe-3'],\n",
       " ['Si,Fe-1', 'Si,Fe-8'],\n",
       " ['Si,Fe-1', 'Si,Fe-4'],\n",
       " ['Si,Fe-2', 'Si,Fe-9'],\n",
       " ['Si,Fe-2', 'Si,Fe-5'],\n",
       " ['Si,Fe-3', 'Si,Fe-10'],\n",
       " ['Si,Fe-3', 'Si,Fe-6'],\n",
       " ['Si,Fe-0', 'Si,Fe-11'],\n",
       " ['Si,Fe-0', 'Si,Fe-7']]"
      ]
     },
     "execution_count": 107,
     "metadata": {},
     "output_type": "execute_result"
    }
   ],
   "source": [
    "str_clusters['2-2indices']"
   ]
  },
  {
   "cell_type": "code",
   "execution_count": 109,
   "metadata": {
    "collapsed": true
   },
   "outputs": [],
   "source": [
    "counting_results = defaultdict(int)\n",
    "for clutype in counting_types:\n",
    "    count = 0\n",
    "    for cluster in str_clusters[clutype+'indices']:\n",
    "        exist = 1\n",
    "        for site in cluster:\n",
    "            if structure_vector[int(site.split('-')[-1])] == 0:\n",
    "                exist = 0\n",
    "                break\n",
    "        if exist == 1:\n",
    "            count+=1\n",
    "    counting_results[clutype] = count\n",
    "                "
   ]
  },
  {
   "cell_type": "code",
   "execution_count": 110,
   "metadata": {},
   "outputs": [
    {
     "data": {
      "text/plain": [
       "defaultdict(int, {'2-2': 4, '2-3': 2, '2-4': 6, '2-5': 2, '2-6': 4})"
      ]
     },
     "execution_count": 110,
     "metadata": {},
     "output_type": "execute_result"
    }
   ],
   "source": [
    "counting_results"
   ]
  },
  {
   "cell_type": "code",
   "execution_count": 121,
   "metadata": {
    "collapsed": true
   },
   "outputs": [],
   "source": [
    "counting_results['2-1'] = 0"
   ]
  },
  {
   "cell_type": "code",
   "execution_count": 122,
   "metadata": {
    "collapsed": true
   },
   "outputs": [],
   "source": [
    "y = [x/12 for x in counting_results.values()]"
   ]
  },
  {
   "cell_type": "code",
   "execution_count": 133,
   "metadata": {},
   "outputs": [
    {
     "data": {
      "image/png": "[encoded data removed]",
      "text/plain": [
       "<matplotlib.figure.Figure at 0x114537198>"
      ]
     },
     "metadata": {},
     "output_type": "display_data"
    }
   ],
   "source": [
    "plt.bar(counting_results.keys(), counting_results.values());"
   ]
  },
  {
   "cell_type": "code",
   "execution_count": 134,
   "metadata": {
    "collapsed": true
   },
   "outputs": [],
   "source": [
    "all_site_count = {}\n",
    "all_site_count['2-1'] = 24\n",
    "all_site_count['2-2'] = 24\n",
    "all_site_count['2-3'] = 24\n",
    "all_site_count['2-4'] = 48\n",
    "all_site_count['2-5'] = 24\n",
    "all_site_count['2-6'] = 24"
   ]
  },
  {
   "cell_type": "code",
   "execution_count": 247,
   "metadata": {},
   "outputs": [
    {
     "data": {
      "image/png": "[encoded data removed]",
      "text/plain": [
       "<matplotlib.figure.Figure at 0x1142c7cf8>"
      ]
     },
     "metadata": {},
     "output_type": "display_data"
    }
   ],
   "source": [
    "plt.bar(all_site_count.keys(), all_site_count.values(), label='site clusters')\n",
    "plt.bar(counting_results.keys(), counting_results.values(), label='Al-Al clusters for 8Si/4Al',color='#D65027')\n",
    "plt.legend();"
   ]
  },
  {
   "cell_type": "code",
   "execution_count": 177,
   "metadata": {
    "collapsed": true
   },
   "outputs": [],
   "source": [
    "def random_config(sites_df, atom_num, no_coexit_type=[]):\n",
    "    available_sites = set([frozenset([x]) for x in list(sites_df.site_index)])\n",
    "\n",
    "    structure_vector = [0 for i in range(len(sites_df.site_index))]\n",
    "\n",
    "    selected_sites = []\n",
    "    atom_count = 0\n",
    "\n",
    "    #visualize_str_rep(structure['sites'], structure_vector, 'random_configuration/xyzs/{}.xyz'.format(atom_count),'random_configuration/images/{}.png'.format(atom_count))\n",
    "\n",
    "    while((atom_count < atom_num) & (len(available_sites) > 0)):\n",
    "        #random select one site from all the available sites\n",
    "        site = random.sample(available_sites, 1)[0]\n",
    "        site_index = list(site)[0]\n",
    "        #print(site_index)\n",
    "\n",
    "        #add selected site to the list\n",
    "        selected_sites.append(int(site_index.split('-')[-1]))\n",
    "        structure_vector[int(site_index.split('-')[-1])] = 1\n",
    "\n",
    "        #find out the  sites for the selected site\n",
    "        #print(site)\n",
    "        no_coexist_sites = set()\n",
    "        for t in no_coexit_type:\n",
    "            no_coexist_sites.update([set(x) for x in list(list(sites_df[sites_df['site_index'] == site_index][t]))][0])\n",
    "        #print(no_coexist_sites)\n",
    "\n",
    "        #remove the selected site and the coresponding bad sites from available sites\n",
    "        available_sites.remove(site)\n",
    "        available_sites = available_sites.difference(no_coexist_sites)\n",
    "        #print(available_sites)\n",
    "\n",
    "        atom_count += 1\n",
    "\n",
    "        #visualize_str_rep(structure['sites'], structure_vector, 'random_configuration/xyzs/{}.xyz'.format(atom_count),'random_configuration/images/{}.png'.format(atom_count))\n",
    "\n",
    "#     if(len(selected_sites) == atom_num):\n",
    "#         print(selected_sites)\n",
    "#     else:\n",
    "#         print('Failed')\n",
    "    return structure_vector\n"
   ]
  },
  {
   "cell_type": "code",
   "execution_count": 176,
   "metadata": {
    "collapsed": true
   },
   "outputs": [],
   "source": [
    "def count_clusters_structure(structure_vector, str_clusters, counting_types):\n",
    "    counting_results = defaultdict(int)\n",
    "    for clutype in counting_types:\n",
    "        count = 0\n",
    "        for cluster in str_clusters[clutype+'indices']:\n",
    "            exist = 1\n",
    "            for site in cluster:\n",
    "                if structure_vector[int(site.split('-')[-1])] == 0:\n",
    "                    exist = 0\n",
    "                    break\n",
    "            if exist == 1:\n",
    "                count+=1\n",
    "        counting_results[clutype] = count\n",
    "    return counting_results"
   ]
  },
  {
   "cell_type": "code",
   "execution_count": 210,
   "metadata": {},
   "outputs": [],
   "source": [
    "def sum_two_dict(d1, d2):\n",
    "    d = defaultdict(int)\n",
    "    for key in list(set(d1.keys()).union(set(d2.keys()))):\n",
    "        d[key] = d1[key] + d2[key]\n",
    "    return d "
   ]
  },
  {
   "cell_type": "code",
   "execution_count": 191,
   "metadata": {
    "collapsed": true
   },
   "outputs": [],
   "source": [
    "def div_dict(d, n):\n",
    "    dnew = defaultdict(float)\n",
    "    for key in d.keys():\n",
    "        dnew[key] = d[key]/n\n",
    "    return dnew"
   ]
  },
  {
   "cell_type": "code",
   "execution_count": 214,
   "metadata": {},
   "outputs": [],
   "source": [
    "def count_clusters_composition(sites_df, atom_ratio, str_clusters, counting_types,repeat_num, no_coexit_type=[]):\n",
    "    atom_num = int(atom_ratio * len(sites_df.index))\n",
    "    counting_results = defaultdict(int)\n",
    "    for i in range(repeat_num):\n",
    "        str_vec = random_config(sites_df, atom_num, no_coexit_type)\n",
    "        #print(str_vec)\n",
    "        d1 = count_clusters_structure(str_vec, str_clusters, counting_types)\n",
    "        #print(d1)\n",
    "        counting_results = sum_two_dict(counting_results, d1)\n",
    "        #print(counting_results)\n",
    "    counting_results= div_dict(counting_results, repeat_num)\n",
    "    return counting_results"
   ]
  },
  {
   "cell_type": "code",
   "execution_count": 223,
   "metadata": {},
   "outputs": [],
   "source": [
    "d1 = count_clusters_composition(structure['sites'], 1/3, str_clusters, counting_types,1000, no_coexit_type=[])"
   ]
  },
  {
   "cell_type": "code",
   "execution_count": 224,
   "metadata": {
    "collapsed": true
   },
   "outputs": [],
   "source": [
    "d2 = count_clusters_composition(structure['sites'], 1/3, str_clusters, counting_types,1000, no_coexit_type=['2-1'])"
   ]
  },
  {
   "cell_type": "code",
   "execution_count": 225,
   "metadata": {},
   "outputs": [
    {
     "data": {
      "text/plain": [
       "defaultdict(float,\n",
       "            {'2-1': 0.0,\n",
       "             '2-2': 4.0,\n",
       "             '2-3': 2.422,\n",
       "             '2-4': 5.578,\n",
       "             '2-5': 1.578,\n",
       "             '2-6': 4.0})"
      ]
     },
     "execution_count": 225,
     "metadata": {},
     "output_type": "execute_result"
    }
   ],
   "source": [
    "d2"
   ]
  },
  {
   "cell_type": "code",
   "execution_count": 226,
   "metadata": {},
   "outputs": [
    {
     "data": {
      "text/plain": [
       "defaultdict(float,\n",
       "            {'2-1': 2.175,\n",
       "             '2-2': 2.218,\n",
       "             '2-3': 2.187,\n",
       "             '2-4': 4.324,\n",
       "             '2-5': 2.106,\n",
       "             '2-6': 5.096})"
      ]
     },
     "execution_count": 226,
     "metadata": {},
     "output_type": "execute_result"
    }
   ],
   "source": [
    "d1"
   ]
  },
  {
   "cell_type": "code",
   "execution_count": 242,
   "metadata": {},
   "outputs": [
    {
     "data": {
      "image/png": "[encoded data removed]",
      "text/plain": [
       "<matplotlib.figure.Figure at 0x114c27320>"
      ]
     },
     "metadata": {},
     "output_type": "display_data"
    }
   ],
   "source": [
    "#plt.bar(all_site_count.keys(), all_site_count.values(), label='site clusters')\n",
    "plt.bar(d1.keys(), d1.values(), label='No Rules', color='#D65027')\n",
    "plt.legend();"
   ]
  },
  {
   "cell_type": "code",
   "execution_count": 244,
   "metadata": {},
   "outputs": [
    {
     "data": {
      "image/png": "[encoded data removed]",
      "text/plain": [
       "<matplotlib.figure.Figure at 0x114723208>"
      ]
     },
     "metadata": {},
     "output_type": "display_data"
    }
   ],
   "source": [
    "#plt.bar(all_site_count.keys(), all_site_count.values(), label='site clusters')\n",
    "plt.bar(d2.keys(), d2.values(), label='No 1NN clusters', color='#D65027')\n",
    "plt.legend();"
   ]
  },
  {
   "cell_type": "markdown",
   "metadata": {},
   "source": [
    "#### titrate"
   ]
  },
  {
   "cell_type": "code",
   "execution_count": 262,
   "metadata": {},
   "outputs": [],
   "source": [
    "a = structure['sites'].iloc[0]['2-4']"
   ]
  },
  {
   "cell_type": "code",
   "execution_count": 263,
   "metadata": {},
   "outputs": [
    {
     "data": {
      "text/plain": [
       "{frozenset({'Si,Fe-5'}),\n",
       " frozenset({'Si,Fe-6'}),\n",
       " frozenset({'Si,Fe-7'}),\n",
       " frozenset({'Si,Fe-11'}),\n",
       " frozenset({'Si,Fe-9'}),\n",
       " frozenset({'Si,Fe-10'})}"
      ]
     },
     "execution_count": 263,
     "metadata": {},
     "output_type": "execute_result"
    }
   ],
   "source": [
    "a"
   ]
  },
  {
   "cell_type": "code",
   "execution_count": 254,
   "metadata": {},
   "outputs": [
    {
     "name": "stdout",
     "output_type": "stream",
     "text": [
      "Si,Fe-8\n",
      "Si,Fe-1\n",
      "Si,Fe-3\n",
      "Si,Fe-4\n"
     ]
    }
   ],
   "source": [
    "for x in a:\n",
    "    print(list(x)[0])"
   ]
  },
  {
   "cell_type": "code",
   "execution_count": 326,
   "metadata": {
    "collapsed": true
   },
   "outputs": [],
   "source": [
    "def titrate(structure_vector,structure_sites, str_clusters, cluster_type, repeat_num):\n",
    "    count = 0\n",
    "    for i in range(repeat_num):\n",
    "        exist_clusters = []\n",
    "        selected_clusters = []\n",
    "        for cluster in str_clusters[cluster_type+'indices']:\n",
    "            exist = 1\n",
    "            for site in cluster:\n",
    "                if structure_vector[int(site.split('-')[-1])] == 0:\n",
    "                    exist = 0\n",
    "                    break\n",
    "            if exist == 1:\n",
    "                exist_clusters.append(cluster)\n",
    "        while(exist_clusters):\n",
    "            cluster = random.sample(exist_clusters, 1)[0]\n",
    "\n",
    "            #add selected clusters to list\n",
    "            selected_clusters.append(cluster)\n",
    "            #print(cluster)\n",
    "            #remove selected clusters from the clusters of interest\n",
    "            exist_clusters.remove(cluster)\n",
    "\n",
    "            #remove other clusters that share elements with the selected cluster\n",
    "            for site in cluster:\n",
    "                #print(site)\n",
    "                site_index = int(site.split('-')[-1])\n",
    "                for pair_site in structure_sites.iloc[site_index][cluster_type]:\n",
    "                    relevant_cluster_1 = [site, list(pair_site)[0]]\n",
    "                    relevant_cluster_2 = [list(pair_site)[0],site]\n",
    "                    if relevant_cluster_1 in exist_clusters:\n",
    "                        exist_clusters.remove(relevant_cluster_1)\n",
    "                    if relevant_cluster_2 in exist_clusters:\n",
    "                        exist_clusters.remove(relevant_cluster_2)\n",
    "            #print(exist_clusters)\n",
    "        count+=len(selected_clusters)\n",
    "    \n",
    "    return count/repeat_num"
   ]
  },
  {
   "cell_type": "code",
   "execution_count": 322,
   "metadata": {},
   "outputs": [],
   "source": [
    "structure_vector = random_config_no_1NN(structure['sites'], 4)"
   ]
  },
  {
   "cell_type": "code",
   "execution_count": 323,
   "metadata": {},
   "outputs": [
    {
     "data": {
      "text/plain": [
       "[0, 1, 0, 1, 0, 0, 1, 0, 1, 0, 0, 0]"
      ]
     },
     "execution_count": 323,
     "metadata": {},
     "output_type": "execute_result"
    }
   ],
   "source": [
    "structure_vector"
   ]
  },
  {
   "cell_type": "code",
   "execution_count": 335,
   "metadata": {},
   "outputs": [
    {
     "data": {
      "text/plain": [
       "1.676"
      ]
     },
     "execution_count": 335,
     "metadata": {},
     "output_type": "execute_result"
    }
   ],
   "source": [
    "titrate(structure_vector,structure['sites'], str_clusters, '2-4', 1000)"
   ]
  },
  {
   "cell_type": "code",
   "execution_count": null,
   "metadata": {
    "collapsed": true
   },
   "outputs": [],
   "source": []
  },
  {
   "cell_type": "code",
   "execution_count": null,
   "metadata": {
    "collapsed": true
   },
   "outputs": [],
   "source": []
  },
  {
   "cell_type": "code",
   "execution_count": null,
   "metadata": {
    "collapsed": true
   },
   "outputs": [],
   "source": []
  },
  {
   "cell_type": "code",
   "execution_count": null,
   "metadata": {
    "collapsed": true
   },
   "outputs": [],
   "source": []
  },
  {
   "cell_type": "code",
   "execution_count": null,
   "metadata": {
    "collapsed": true
   },
   "outputs": [],
   "source": []
  },
  {
   "cell_type": "code",
   "execution_count": 101,
   "metadata": {
    "collapsed": true
   },
   "outputs": [],
   "source": [
    "# filepath = 'all_sites.cif'\n",
    "# if os.path.isfile(filepath):\n",
    "#     os.remove(filepath)\n",
    "# with open(filepath, 'a') as file:\n",
    "#     file.write('''data_image0\n",
    "# _cell_length_a       {}\n",
    "# _cell_length_b       {}\n",
    "# _cell_length_c       {}\n",
    "# _cell_angle_alpha    {}\n",
    "# _cell_angle_beta     {}\n",
    "# _cell_angle_gamma    {}\n",
    "\n",
    "# _symmetry_space_group_name_H-M    \"P 1\"\n",
    "# _symmetry_int_tables_number       1\n",
    "\n",
    "# loop_\n",
    "#   _symmetry_equiv_pos_as_xyz\n",
    "#   'x, y, z'\n",
    "\n",
    "# loop_\n",
    "#   _atom_site_label\n",
    "#   _atom_site_occupancy\n",
    "#   _atom_site_fract_x\n",
    "#   _atom_site_fract_y\n",
    "#   _atom_site_fract_z\n",
    "#   _atom_site_thermal_displace_type\n",
    "#   _atom_site_B_iso_or_equiv\n",
    "#   _atom_site_type_symbol\\n'''.format(lattice['a'], lattice['b'], lattice['c'], lattice['alpha'], lattice['beta'], lattice['gamma']))\n",
    "#     for index, row in lat_vis_site.iterrows():\n",
    "#         file.write('  {}{} 1.0000 {:0.5f} {:0.5f} {:0.5f} Biso 1.000 {}\\n'.format(row.atom.split(',')[0], row.site_index+1, row.a, row.b, row.c, row.atom.split(',')[0]))"
   ]
  },
  {
   "cell_type": "code",
   "execution_count": 102,
   "metadata": {
    "collapsed": true
   },
   "outputs": [],
   "source": [
    "# from ase import Atoms\n",
    "# from ase.io import read\n",
    "# from ase.visualize import view\n",
    "# c= read('all_sites.cif')\n",
    "# view(c)"
   ]
  },
  {
   "cell_type": "code",
   "execution_count": null,
   "metadata": {
    "collapsed": true
   },
   "outputs": [],
   "source": []
  }
 ],
 "metadata": {
  "kernelspec": {
   "display_name": "Python 3",
   "language": "python",
   "name": "python3"
  },
  "language_info": {
   "codemirror_mode": {
    "name": "ipython",
    "version": 3
   },
   "file_extension": ".py",
   "mimetype": "text/x-python",
   "name": "python",
   "nbconvert_exporter": "python",
   "pygments_lexer": "ipython3",
   "version": "3.6.1"
  }
 },
 "nbformat": 4,
 "nbformat_minor": 2
}
