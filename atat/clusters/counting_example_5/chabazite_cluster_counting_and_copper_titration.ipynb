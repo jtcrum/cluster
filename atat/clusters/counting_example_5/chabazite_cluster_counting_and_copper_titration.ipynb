{
 "cells": [
  {
   "cell_type": "markdown",
   "metadata": {},
   "source": [
    "The objectives of this jupyter notebook are to generate random structures of Chabazite with different Al ratios, and count specific Al-Al pairs during Cu titration."
   ]
  },
  {
   "cell_type": "markdown",
   "metadata": {},
   "source": [
    "The general procedures to achieve these objectives are as below.\n",
    "\n",
    "1. Given lattice parameters, identify all the distinct cluster types.  \n",
    "\n",
    "2. Given structure dimensions, figure out the coordinates for all the sites in a structure.  \n",
    "   lattice parameter + atom location + structure dimension -> coordinates for all the sites within one structure cell. \n",
    "   \n",
    "2. Generate cluster list.  \n",
    "   ATAT corrdump can go through all the clusters in one structure cell for each cluster type. In this process, we can generate a cluster list having the site coordinates (site indices) for all the clusters.  \n",
    "   \n",
    "3. Figure out good/bad pair sites for each site.  \n",
    "   Identify good/bad cluster types and then add good/bad pair sites for each site.  \n",
    "   \n",
    "4. Generate random structures.  \n",
    "   Repeat as following: randomly select one site from the available site list, remove the selected site and its bad pair sites from the available site list.  \n",
    "   \n",
    "5. Copper titration.   \n",
    "   Create existing good cluster list: only keep existing good Al-Al clusters based on Al positions.   \n",
    "   Repeat as follwoing: randomly select an exsiting good cluster, record the type of the selected cluster, remove the relevant clusters (sharing sites with the selected clusteres) from the list.  "
   ]
  },
  {
   "cell_type": "markdown",
   "metadata": {},
   "source": [
    "The codes have 14 sections.  \n",
    "1. Modification of ATAT  \n",
    "2. Prepare lattice input file (lat.in)  \n",
    "3. Read lattice input file (lat.in)  \n",
    "4. Functions to convert between fractional coordinates and xyz coordinates  \n",
    "5. Prepare structure requirements input file (str_req.txt)  \n",
    "6. Read structure requirements input file (str_req.txt)  \n",
    "7. Function to find the site index for any given fractional coordinates  \n",
    "8. Create str.out file  \n",
    "9. Run corrdump to generate cluster list into cluster_list.csv file  \n",
    "10. Read cluster_list.csv  \n",
    "11. Add pair sites for each site in structure sites dataframe  \n",
    "12. Randomly generate structure for any given Si/Al ratio  \n",
    "13. Count clusters during copper titration  \n",
    "14. Cu/Al for different Si/Al ratios  "
   ]
  },
  {
   "cell_type": "markdown",
   "metadata": {},
   "source": [
    "#### 1. Modification of ATAT"
   ]
  },
  {
   "cell_type": "markdown",
   "metadata": {},
   "source": [
    "Before we run the codes, we have to modify ATAT files to output the cluster list when we run corrdump to count clusters. Corrdump has many parameters. Here we will only set the maximum distance between two points within a pair (-2=[real]), with other parameters being default. The modification of ATAT contains 2 parts: one is in calccorr.c++ file and the other is in corrdump.c++ file. After the modifications, **corrdump will output the xyz coordinates for all the clusters in a structure inspite of the atom occupations.**\n",
    "\n",
    "Note: If you also want to set other parameters, you may need to make more modifications."
   ]
  },
  {
   "cell_type": "markdown",
   "metadata": {},
   "source": [
    "a) In file calccorr.c++, please modify the following function (around line 200) as below. The modified lines have comments at the end."
   ]
  },
  {
   "cell_type": "raw",
   "metadata": {},
   "source": [
    "Real calc_correlation(const Structure &str, const Array<MultiCluster> &clusters, const rMatrix3d &cell, const Array<Array<Array<Real> > > &corrfunc) {\n",
    "  Real accum=0.;\n",
    "  int count=0;\n",
    "  rMatrix3d inv_strcell=!str.cell;\n",
    "  LatticePointInCellIterator t(cell,str.cell);\n",
    "  for ( ;t; t++) {\n",
    "    for (int c=0; c<clusters.get_size(); c++) {\n",
    "      Real sigma=1.;\n",
    "      for (int at=0; at<clusters(c).clus.get_size(); at++) {\n",
    "        Real spin=corrfunc(clusters(c).site_type(at))(clusters(c).func(at))(str.atom_type(which_atom(str.atom_pos,t+clusters(c).clus(at),inv_strcell)));\n",
    "        sigma=sigma*0.5*(spin+1); //change the correlation function; changed by Tong; original: sigma=sigma*spin; \n",
    "        cout<<t+clusters(c).clus(at)<<endl; //output the coordinates of the sites in clusters; added by Tong\n",
    "      }\n",
    "      accum+=sigma;\n",
    "      count++;\n",
    "    }\n",
    "  }\n",
    "  return accum/(Real)count;\n",
    "}\n"
   ]
  },
  {
   "cell_type": "markdown",
   "metadata": {},
   "source": [
    "b) In file corrdump.c++, please modify the following code block (around line 460). The modified lines have comments at the end."
   ]
  },
  {
   "cell_type": "raw",
   "metadata": {},
   "source": [
    "    else {\n",
    "      int ieci=0;\n",
    "      LinkedListIterator<Array<MultiCluster> > icluster(eq_clusterlist);\n",
    "      Tensor<int> tab_str;\n",
    "      for ( ; icluster; icluster++, ieci++) {\n",
    "        //the following codes are added by Tong\n",
    "        if (icluster->get_size()>0) {\n",
    "          cout << (*icluster)[0].clus.get_size() << endl;\n",
    "        }\n",
    "        else {\n",
    "          cout << \"0\" << endl;\n",
    "        }\n",
    "        cout << icluster->get_size() << endl;\n",
    "        //finish adding by Tong\n",
    "      \tReal rho;\n",
    "      \tif (fastalgo) {\n",
    "      \t  rho=calc_correlation_fast(&tab_str, ideal_str,*icluster,lattice,*pcorrfunc);\n",
    "      \t}\n",
    "      \telse {\n",
    "      \t  rho=calc_correlation(ideal_str, *icluster, spacegroup.cell, *pcorrfunc);\n",
    "      \t}\n",
    "        if (strlen(ecifile)>0) {\n",
    "      \t  pred+=eci(ieci)*(multincl ? 1 : icluster->get_size())*rho;\n",
    "      \t}\n",
    "      \telse {\n",
    "      \t  if (!doconc) {cout << rho << delim;}\n",
    "      \t}\n",
    "        cout << endl;"
   ]
  },
  {
   "cell_type": "markdown",
   "metadata": {},
   "source": [
    "c) After you modify the ATAT codes, you have to reinstall the ATAT **in terminal**. It should contain the following two commands."
   ]
  },
  {
   "cell_type": "raw",
   "metadata": {},
   "source": [
    "make  \n",
    "make install"
   ]
  },
  {
   "cell_type": "markdown",
   "metadata": {},
   "source": [
    "Python codes start here"
   ]
  },
  {
   "cell_type": "code",
   "execution_count": 1,
   "metadata": {
    "collapsed": true
   },
   "outputs": [],
   "source": [
    "import pandas as pd\n",
    "import numpy as np\n",
    "import copy\n",
    "from math import *\n",
    "import os\n",
    "import random\n",
    "from collections import defaultdict\n",
    "import csv\n",
    "from functools import reduce\n",
    "from copy import deepcopy\n",
    "import pickle\n",
    "from timeit import default_timer as timer\n",
    "from matplotlib import pyplot as plt\n",
    "%matplotlib inline"
   ]
  },
  {
   "cell_type": "code",
   "execution_count": 2,
   "metadata": {
    "collapsed": true
   },
   "outputs": [],
   "source": [
    "pd.set_option('display.max_columns', 500)"
   ]
  },
  {
   "cell_type": "markdown",
   "metadata": {},
   "source": [
    "#### 2. Prepare lattice input file (lat.in)"
   ]
  },
  {
   "cell_type": "markdown",
   "metadata": {},
   "source": [
    "The input file of lat.in contains the lattice parameters and all the possible types of atoms at each site. The detailed format of lat.in can be found in the ATAT manual (https://www.brown.edu/Departments/Engineering/Labs/avdw/atat/manual.pdf) pg. 36.  \n",
    " \n",
    "The following information is from ATAT manual.  \n",
    "Lattice file format:  \n",
    "First, the coordinate system a,b,c is specified, either as  \n",
    "[a] [b] [c] [alpha] [beta] [gamma]  \n",
    "\n",
    "Then the lattice vectors u,v,w are listed, expressed in the coordinate system   just defined:  \n",
    "[ua] [ub] [uc]  \n",
    "[va] [vb] [vc]  \n",
    "[wa] [wb] [wc]  \n",
    "\n",
    "Finally, atom positions and types are given, expressed in the same coordinate system   as the lattice vectors:  \n",
    "[atom1a] [atom1b] [atom1c] [atom1type]  \n",
    "[atom2a] [atom2b] [atom2c] [atom2type]  \n",
    "etc.  \n",
    "\n",
    "In the lattice file:  \n",
    "-The atom type is a comma-separated list of the atomic  \n",
    "symbols of the atoms that can sit the lattice site.  \n",
    "-In a binary, the first symbol listed is assigned a spin of -1.  \n",
    "In general, ordering of the atom symbol corresponds to value of s=0,1,... in the table  \n",
    "’Convention used to calculate the correlations’ below.  \n",
    "-When only one symbol is listed, this site is ignored for the purpose  \n",
    "of calculating correlations, but not for determining symmetry.  \n",
    "-The atomic symbol ’Vac’ or ’Va’ is used to indicate a vacancy.  "
   ]
  },
  {
   "cell_type": "markdown",
   "metadata": {},
   "source": [
    "#### 3. Read lattice input file (lat.in)\n",
    "Read lat.in file and create a lattice dictionary which contains the lattice parameters, lattice vectors and fractional coordinates of all the sites in the lattics."
   ]
  },
  {
   "cell_type": "code",
   "execution_count": 3,
   "metadata": {
    "collapsed": true
   },
   "outputs": [],
   "source": [
    "filepath='lat.in'\n",
    "file = open(filepath, 'r')\n",
    "lat = file.readlines()\n",
    "\n",
    "lattice = {}\n",
    "lattice['a'], lattice['b'], lattice['c'], lattice['alpha'], lattice['beta'], lattice['gamma'] = [float(number) for number in lat[0].split()]\n",
    "lattice['u'] = [int(number) for number in lat[1].split()]\n",
    "lattice['v'] = [int(number) for number in lat[2].split()]\n",
    "lattice['w'] = [int(number) for number in lat[3].split()]\n",
    "\n",
    "lattice_sites = pd.DataFrame(columns=['a', 'b', 'c', 'atom'])\n",
    "for line in lat[4:]:\n",
    "    site = line.split()[:3]\n",
    "    atom_type = ''\n",
    "    for atom in line.split()[3:]:\n",
    "        atom_type += str(atom)\n",
    "    site.append(atom_type)\n",
    "    lattice_sites = lattice_sites.append(pd.DataFrame([site], columns=['a', 'b', 'c', 'atom']))\n",
    "lattice_sites = lattice_sites.apply(pd.to_numeric, errors = 'ignore')"
   ]
  },
  {
   "cell_type": "code",
   "execution_count": 4,
   "metadata": {},
   "outputs": [
    {
     "data": {
      "text/plain": [
       "{'a': 13.675,\n",
       " 'alpha': 90.0,\n",
       " 'b': 13.675,\n",
       " 'beta': 90.0,\n",
       " 'c': 14.767,\n",
       " 'gamma': 120.0,\n",
       " 'u': [1, 0, 0],\n",
       " 'v': [0, 1, 0],\n",
       " 'w': [0, 0, 1]}"
      ]
     },
     "execution_count": 4,
     "metadata": {},
     "output_type": "execute_result"
    }
   ],
   "source": [
    "lattice"
   ]
  },
  {
   "cell_type": "code",
   "execution_count": 5,
   "metadata": {},
   "outputs": [
    {
     "data": {
      "text/html": [
       "<div>\n",
       "<style>\n",
       "    .dataframe thead tr:only-child th {\n",
       "        text-align: right;\n",
       "    }\n",
       "\n",
       "    .dataframe thead th {\n",
       "        text-align: left;\n",
       "    }\n",
       "\n",
       "    .dataframe tbody tr th {\n",
       "        vertical-align: top;\n",
       "    }\n",
       "</style>\n",
       "<table border=\"1\" class=\"dataframe\">\n",
       "  <thead>\n",
       "    <tr style=\"text-align: right;\">\n",
       "      <th></th>\n",
       "      <th>a</th>\n",
       "      <th>b</th>\n",
       "      <th>c</th>\n",
       "      <th>atom</th>\n",
       "    </tr>\n",
       "  </thead>\n",
       "  <tbody>\n",
       "    <tr>\n",
       "      <th>0</th>\n",
       "      <td>0.666967</td>\n",
       "      <td>0.106933</td>\n",
       "      <td>0.228233</td>\n",
       "      <td>Si,Al</td>\n",
       "    </tr>\n",
       "    <tr>\n",
       "      <th>0</th>\n",
       "      <td>0.893067</td>\n",
       "      <td>0.560033</td>\n",
       "      <td>0.228233</td>\n",
       "      <td>Si,Al</td>\n",
       "    </tr>\n",
       "    <tr>\n",
       "      <th>0</th>\n",
       "      <td>0.666967</td>\n",
       "      <td>0.560033</td>\n",
       "      <td>0.228233</td>\n",
       "      <td>Si,Al</td>\n",
       "    </tr>\n",
       "    <tr>\n",
       "      <th>0</th>\n",
       "      <td>0.439967</td>\n",
       "      <td>0.333033</td>\n",
       "      <td>0.228233</td>\n",
       "      <td>Si,Al</td>\n",
       "    </tr>\n",
       "    <tr>\n",
       "      <th>0</th>\n",
       "      <td>0.568667</td>\n",
       "      <td>0.137333</td>\n",
       "      <td>0.456033</td>\n",
       "      <td>O</td>\n",
       "    </tr>\n",
       "  </tbody>\n",
       "</table>\n",
       "</div>"
      ],
      "text/plain": [
       "          a         b         c   atom\n",
       "0  0.666967  0.106933  0.228233  Si,Al\n",
       "0  0.893067  0.560033  0.228233  Si,Al\n",
       "0  0.666967  0.560033  0.228233  Si,Al\n",
       "0  0.439967  0.333033  0.228233  Si,Al\n",
       "0  0.568667  0.137333  0.456033      O"
      ]
     },
     "execution_count": 5,
     "metadata": {},
     "output_type": "execute_result"
    }
   ],
   "source": [
    "lattice_sites.head()"
   ]
  },
  {
   "cell_type": "markdown",
   "metadata": {},
   "source": [
    "#### 4. Functions to convert between fractional coordinates and xyz coordinates"
   ]
  },
  {
   "cell_type": "code",
   "execution_count": 6,
   "metadata": {
    "collapsed": true
   },
   "outputs": [],
   "source": [
    "def lattice_axes_xyz(lattic):\n",
    "    '''\n",
    "    function to prepare the xyz axes (a matrix)\n",
    "                [ax] [ay] [az]\n",
    "    axes_xyz =  [bx] [by] [bz]\n",
    "                [cx] [cy] [cz]\n",
    "    '''\n",
    "    a = np.array([1,0,0]) * lattice['a']\n",
    "    b = np.array([cos(lattice['gamma']/180*pi), sin(lattice['gamma']/180*pi), 0]) * lattice['b']\n",
    "    c = np.cross(a, b)/np.linalg.norm(np.cross(a, b)) * lattice['c']\n",
    "    return np.array((a,b,c))"
   ]
  },
  {
   "cell_type": "code",
   "execution_count": 7,
   "metadata": {
    "collapsed": true
   },
   "outputs": [],
   "source": [
    "def lattice_axes_abc(lattice):\n",
    "    '''\n",
    "    function to prepare the abc axes (a matrix)\n",
    "                [ua] [ub] [uc]\n",
    "    axes_abc =  [va] [vb] [vc]\n",
    "                [wa] [wb] [wc]\n",
    "    '''\n",
    "    return np.array((lattice['u'], lattice['v'], lattice['w']))"
   ]
  },
  {
   "cell_type": "code",
   "execution_count": 8,
   "metadata": {
    "collapsed": true
   },
   "outputs": [],
   "source": [
    "def frac_to_xyz(axes_xyz, frac_coor):\n",
    "    '''\n",
    "    function to convert fractional coordinates to xyz coordinates\n",
    "    '''\n",
    "    return np.dot(frac_coor, axes_xyz)"
   ]
  },
  {
   "cell_type": "code",
   "execution_count": 9,
   "metadata": {
    "collapsed": true
   },
   "outputs": [],
   "source": [
    "def xyz_to_frac(axes_xyz, xyz_coor):\n",
    "    '''\n",
    "    function to convert xyz coordinates to fractional coordinates\n",
    "    '''\n",
    "    return np.dot(xyz_coor, np.linalg.inv(axes_xyz))"
   ]
  },
  {
   "cell_type": "code",
   "execution_count": 10,
   "metadata": {
    "collapsed": true
   },
   "outputs": [],
   "source": [
    "axes_abc = lattice_axes_abc(lattice)"
   ]
  },
  {
   "cell_type": "code",
   "execution_count": 11,
   "metadata": {},
   "outputs": [
    {
     "data": {
      "text/plain": [
       "array([[1, 0, 0],\n",
       "       [0, 1, 0],\n",
       "       [0, 0, 1]])"
      ]
     },
     "execution_count": 11,
     "metadata": {},
     "output_type": "execute_result"
    }
   ],
   "source": [
    "axes_abc"
   ]
  },
  {
   "cell_type": "code",
   "execution_count": 12,
   "metadata": {
    "collapsed": true
   },
   "outputs": [],
   "source": [
    "axes_xyz = lattice_axes_xyz(lattice)"
   ]
  },
  {
   "cell_type": "code",
   "execution_count": 13,
   "metadata": {},
   "outputs": [
    {
     "data": {
      "text/plain": [
       "array([[13.675    ,  0.       ,  0.       ],\n",
       "       [-6.8375   , 11.8428974,  0.       ],\n",
       "       [ 0.       , -0.       , 14.767    ]])"
      ]
     },
     "execution_count": 13,
     "metadata": {},
     "output_type": "execute_result"
    }
   ],
   "source": [
    "axes_xyz"
   ]
  },
  {
   "cell_type": "code",
   "execution_count": 14,
   "metadata": {},
   "outputs": [
    {
     "data": {
      "text/plain": [
       "array([3.41875  , 5.9214487, 0.       ])"
      ]
     },
     "execution_count": 14,
     "metadata": {},
     "output_type": "execute_result"
    }
   ],
   "source": [
    "frac_to_xyz(axes_xyz, np.array((0.5, 0.5, 0)))"
   ]
  },
  {
   "cell_type": "code",
   "execution_count": 15,
   "metadata": {},
   "outputs": [
    {
     "data": {
      "text/plain": [
       "array([0.5, 0. , 0. ])"
      ]
     },
     "execution_count": 15,
     "metadata": {},
     "output_type": "execute_result"
    }
   ],
   "source": [
    "xyz_to_frac(axes_xyz, np.array((6.8375, 0, 0)))"
   ]
  },
  {
   "cell_type": "markdown",
   "metadata": {},
   "source": [
    "#### 5. Prepare structure requirements input file (str_req.txt)\n",
    "Before creating str_req.txt, we have to know all the cluster types within the maximum distance that we specified. We can run corrdump with only the lat.in file. A clusters.out file will be generated. It contains the information of all the symmetrically distinct clusters for the lattice that you specified in lat.in file. Based on the cluster order in the clusters.out file and the number of atoms(sites) containing in the cluster, we will define the cluster type as: \n",
    "\n",
    "cluster type = [nsite]-[order of the specific cluster in all nsite-clusters in clusters.out].\n",
    "\n",
    "For example, for the first 2-body cluster in clusters.out, its cluster type is 2-1.  \n",
    "For the second 2-body cluster in clusters.out, its cluster type is 2-2."
   ]
  },
  {
   "cell_type": "markdown",
   "metadata": {},
   "source": [
    "Then we will create a file which describe the structure requirements. It will include 3 parts: 1) the structure dimensions, 2) the clusters that cannot exist based on the rules we defined (*bad clusters*), and 3) the clusters of interest (*good clusters*, we want to count the number of them).  \n",
    "\n",
    "The specific str_req.txt format:\n",
    "\n",
    "First the structure vectors u,v,w are listed, expressed in the coordinate system just defined:  \n",
    "[ua] [ub] [uc]  \n",
    "[va] [vb] [vc]  \n",
    "[wa] [wb] [wc]  \n",
    "\n",
    "Next, the cluster types that cannot exist:  \n",
    "[badtype1] [badtype2] [badtype3] [badtype4] etc.  \n",
    "\n",
    "Finally, the cluster types of interest:  \n",
    "[goodtype1] [goodtype2] [goodtype3] [goodtype4] etc.  \n",
    "\n",
    "Here is an example of str_req.txt file.\n",
    "\n",
    "2 0 0  \n",
    "0 2 0  \n",
    "0 0 2   \n",
    "2-1, 2-2, 2-3, 2-4  \n",
    "2-5, 2-6, 2-7, 2-8, 2-9, 2-10, 2-11  "
   ]
  },
  {
   "cell_type": "markdown",
   "metadata": {},
   "source": [
    "#### 6. Read structure requirements input file (str_req.txt)\n",
    "Generate structure dictionary containing structure dimensions, site coordinates, bad clusters (cannot exist) and good clusters (we want to count)."
   ]
  },
  {
   "cell_type": "code",
   "execution_count": 50,
   "metadata": {
    "collapsed": true
   },
   "outputs": [],
   "source": [
    "structure = {}"
   ]
  },
  {
   "cell_type": "code",
   "execution_count": 51,
   "metadata": {
    "collapsed": true
   },
   "outputs": [],
   "source": [
    "file = open('str_dim.txt', 'r')\n",
    "str_req = file.readlines()\n",
    "\n",
    "structure_u = [int(number) for number in str_req[0].split()]\n",
    "structure_v = [int(number) for number in str_req[1].split()]\n",
    "structure_w = [int(number) for number in str_req[2].split()]\n",
    "\n",
    "#bad_types = [s.replace(' ', '').replace('\\n', '') for s in str_req[3].split(',')]\n",
    "#good_types = [s.replace(' ', '').replace('\\n', '') for s in str_req[4].split(',')]"
   ]
  },
  {
   "cell_type": "code",
   "execution_count": 52,
   "metadata": {},
   "outputs": [
    {
     "data": {
      "text/plain": [
       "[2, 0, 0]"
      ]
     },
     "execution_count": 52,
     "metadata": {},
     "output_type": "execute_result"
    }
   ],
   "source": [
    "structure_u"
   ]
  },
  {
   "cell_type": "code",
   "execution_count": 53,
   "metadata": {
    "collapsed": true
   },
   "outputs": [],
   "source": [
    "nu = int(np.mean(structure_u)/np.mean(lattice['u']))\n",
    "nv = int(np.mean(structure_v)/np.mean(lattice['v']))\n",
    "nw = int(np.mean(structure_w)/np.mean(lattice['w']))\n",
    "n_cell = nu * nv * nw"
   ]
  },
  {
   "cell_type": "code",
   "execution_count": 54,
   "metadata": {},
   "outputs": [
    {
     "data": {
      "text/plain": [
       "2"
      ]
     },
     "execution_count": 54,
     "metadata": {},
     "output_type": "execute_result"
    }
   ],
   "source": [
    "nu"
   ]
  },
  {
   "cell_type": "code",
   "execution_count": 55,
   "metadata": {
    "collapsed": true
   },
   "outputs": [],
   "source": [
    "O_unit_sites = lattice_sites[lattice_sites['atom']=='O']\n",
    "O_sites = pd.DataFrame(columns=lattice_sites.columns)\n",
    "for i in range(0, nu):\n",
    "    for j in range(0, nv):\n",
    "        for k in range(0, nw):\n",
    "            sites = pd.DataFrame(columns=O_unit_sites.columns)\n",
    "            delta = list(np.array(lattice['u'])*i + np.array(lattice['v'])*j + np.array(lattice['w'])*k)\n",
    "            sites['a'] = O_unit_sites.a + delta[0]\n",
    "            sites['b'] = O_unit_sites.b + delta[1]\n",
    "            sites['c'] = O_unit_sites.c + delta[2]\n",
    "            sites['atom'] = O_unit_sites.atom\n",
    "            O_sites = O_sites.append(sites)"
   ]
  },
  {
   "cell_type": "code",
   "execution_count": 56,
   "metadata": {
    "collapsed": true
   },
   "outputs": [],
   "source": [
    "important_unit_sites =  lattice_sites[lattice_sites['atom']!='O']\n",
    "structure_sites = pd.DataFrame(columns=lattice_sites.columns)\n",
    "for i in range(0, nu):\n",
    "    for j in range(0, nv):\n",
    "        for k in range(0, nw):\n",
    "            sites = pd.DataFrame(columns=important_unit_sites.columns)\n",
    "            delta = list(np.array(lattice['u'])*i + np.array(lattice['v'])*j + np.array(lattice['w'])*k)\n",
    "            sites['a'] = important_unit_sites.a + delta[0]\n",
    "            sites['b'] = important_unit_sites.b + delta[1]\n",
    "            sites['c'] = important_unit_sites.c + delta[2]\n",
    "            sites['atom'] = important_unit_sites.atom\n",
    "            structure_sites = structure_sites.append(sites)"
   ]
  },
  {
   "cell_type": "code",
   "execution_count": 57,
   "metadata": {
    "collapsed": true
   },
   "outputs": [],
   "source": [
    "structure_sites.reset_index(drop=True, inplace=True)\n",
    "structure_sites['site_index'] = structure_sites.index"
   ]
  },
  {
   "cell_type": "code",
   "execution_count": 58,
   "metadata": {
    "scrolled": true
   },
   "outputs": [
    {
     "data": {
      "text/html": [
       "<div>\n",
       "<style>\n",
       "    .dataframe thead tr:only-child th {\n",
       "        text-align: right;\n",
       "    }\n",
       "\n",
       "    .dataframe thead th {\n",
       "        text-align: left;\n",
       "    }\n",
       "\n",
       "    .dataframe tbody tr th {\n",
       "        vertical-align: top;\n",
       "    }\n",
       "</style>\n",
       "<table border=\"1\" class=\"dataframe\">\n",
       "  <thead>\n",
       "    <tr style=\"text-align: right;\">\n",
       "      <th></th>\n",
       "      <th>a</th>\n",
       "      <th>b</th>\n",
       "      <th>c</th>\n",
       "      <th>atom</th>\n",
       "      <th>site_index</th>\n",
       "    </tr>\n",
       "  </thead>\n",
       "  <tbody>\n",
       "    <tr>\n",
       "      <th>0</th>\n",
       "      <td>0.666967</td>\n",
       "      <td>0.106933</td>\n",
       "      <td>0.228233</td>\n",
       "      <td>Si,Al</td>\n",
       "      <td>0</td>\n",
       "    </tr>\n",
       "    <tr>\n",
       "      <th>1</th>\n",
       "      <td>0.893067</td>\n",
       "      <td>0.560033</td>\n",
       "      <td>0.228233</td>\n",
       "      <td>Si,Al</td>\n",
       "      <td>1</td>\n",
       "    </tr>\n",
       "    <tr>\n",
       "      <th>2</th>\n",
       "      <td>0.666967</td>\n",
       "      <td>0.560033</td>\n",
       "      <td>0.228233</td>\n",
       "      <td>Si,Al</td>\n",
       "      <td>2</td>\n",
       "    </tr>\n",
       "    <tr>\n",
       "      <th>3</th>\n",
       "      <td>0.439967</td>\n",
       "      <td>0.333033</td>\n",
       "      <td>0.228233</td>\n",
       "      <td>Si,Al</td>\n",
       "      <td>3</td>\n",
       "    </tr>\n",
       "    <tr>\n",
       "      <th>4</th>\n",
       "      <td>0.666367</td>\n",
       "      <td>0.106633</td>\n",
       "      <td>0.438433</td>\n",
       "      <td>Si,Al</td>\n",
       "      <td>4</td>\n",
       "    </tr>\n",
       "  </tbody>\n",
       "</table>\n",
       "</div>"
      ],
      "text/plain": [
       "          a         b         c   atom  site_index\n",
       "0  0.666967  0.106933  0.228233  Si,Al           0\n",
       "1  0.893067  0.560033  0.228233  Si,Al           1\n",
       "2  0.666967  0.560033  0.228233  Si,Al           2\n",
       "3  0.439967  0.333033  0.228233  Si,Al           3\n",
       "4  0.666367  0.106633  0.438433  Si,Al           4"
      ]
     },
     "execution_count": 58,
     "metadata": {},
     "output_type": "execute_result"
    }
   ],
   "source": [
    "structure_sites.head(5)"
   ]
  },
  {
   "cell_type": "code",
   "execution_count": 59,
   "metadata": {
    "collapsed": true
   },
   "outputs": [],
   "source": [
    "structure['u'] = structure_u\n",
    "structure['v'] = structure_v\n",
    "structure['w'] = structure_w\n",
    "structure['nu'] = nu\n",
    "structure['nv'] = nv\n",
    "structure['nw'] = nw\n",
    "structure['sites'] = structure_sites\n",
    "#structure['good_types'] = good_types\n",
    "#structure['bad_types'] = bad_types"
   ]
  },
  {
   "cell_type": "markdown",
   "metadata": {},
   "source": [
    "#### 7. Function to find the site index for any given fractional coordinates"
   ]
  },
  {
   "cell_type": "code",
   "execution_count": 60,
   "metadata": {
    "collapsed": true
   },
   "outputs": [],
   "source": [
    "def find_site_index(axes_abc, structure, frac_coor):\n",
    "    df = structure['sites']\n",
    "    nu, nv, nw = structure['nu'],structure['nv'],structure['nw']\n",
    "    \n",
    "    fu, fv, fw = np.dot(frac_coor, np.linalg.inv(axes_abc))\n",
    "    \n",
    "    #translate the site into the structure by subtracting multiple structure vector on each dimension\n",
    "    fu -= (fu//nu)*nu\n",
    "    fv -= (fv//nv)*nv\n",
    "    fw -= (fw//nw)*nw\n",
    "    \n",
    "    fa, fb, fc = np.dot(np.array((fu, fv, fw)), axes_abc)\n",
    "    \n",
    "    site_index = df[(abs(df.a-fa) < 0.001) & (abs(df.b-fb) < 0.001) & (abs(df.c-fc) < 0.001)].index\n",
    "    if len(site_index) == 0:\n",
    "        print(\"Error! Cannot find the site index in the structure.\")\n",
    "        return np.nan\n",
    "    elif len(site_index) < 1:\n",
    "        print(\"Error! Find multiple site indices in the structure.\")\n",
    "        return np.nan\n",
    "    else:\n",
    "        return site_index[0]"
   ]
  },
  {
   "cell_type": "code",
   "execution_count": 61,
   "metadata": {},
   "outputs": [
    {
     "data": {
      "text/plain": [
       "187"
      ]
     },
     "execution_count": 61,
     "metadata": {},
     "output_type": "execute_result"
    }
   ],
   "source": [
    "find_site_index(axes_abc, structure, [ -3.00016543e-04,   7.73299784e-01,   1.10509988e+00])"
   ]
  },
  {
   "cell_type": "code",
   "execution_count": 62,
   "metadata": {
    "collapsed": true
   },
   "outputs": [],
   "source": [
    "frac_coor = xyz_to_frac(axes_xyz, [16.77308,7.89881,11.39667])"
   ]
  },
  {
   "cell_type": "code",
   "execution_count": 29,
   "metadata": {},
   "outputs": [
    {
     "data": {
      "text/plain": [
       "176"
      ]
     },
     "execution_count": 29,
     "metadata": {},
     "output_type": "execute_result"
    }
   ],
   "source": [
    "find_site_index(axes_abc, structure, frac_coor)"
   ]
  },
  {
   "cell_type": "markdown",
   "metadata": {},
   "source": [
    "#### 8. Create str.out file  \n",
    "A str.out file is created based on the structure dimensions with Si on all sites. Actually the coordinates of all the clusters(cluster list) won't change in regards to the atom type on each site. Here we just put Si on all sites. "
   ]
  },
  {
   "cell_type": "code",
   "execution_count": 30,
   "metadata": {
    "collapsed": true
   },
   "outputs": [],
   "source": [
    "if os.path.isfile('str.out'):\n",
    "    os.remove('str.out')\n",
    "with open('str.out', 'a') as str_file:\n",
    "    str_file.write('{} {} {} {} {} {}\\n'.format(lattice['a'], lattice['b'], lattice['c'], int(lattice['alpha']), int(lattice['beta']), int(lattice['gamma'])))\n",
    "    str_file.write('{} {} {}\\n'.format(int(structure['u'][0]),int(structure['u'][1]),int(structure['u'][2])))\n",
    "    str_file.write('{} {} {}\\n'.format(int(structure['v'][0]),int(structure['v'][1]),int(structure['v'][2])))\n",
    "    str_file.write('{} {} {}\\n'.format(int(structure['w'][0]),int(structure['w'][1]),int(structure['w'][2])))\n",
    "    for index, row in structure['sites'].iterrows():\n",
    "        str_file.write('{} {} {} Si\\n'.format(row.a, row.b, row.c))"
   ]
  },
  {
   "cell_type": "markdown",
   "metadata": {},
   "source": [
    "#### 9. Run corrdump to generate cluster list into cluster_list.csv file  \n",
    "The cluster list contains the coordinates of all the clusters."
   ]
  },
  {
   "cell_type": "code",
   "execution_count": 31,
   "metadata": {},
   "outputs": [
    {
     "name": "stdout",
     "output_type": "stream",
     "text": [
      "Warning: unit cell is not primitive.\r\n"
     ]
    }
   ],
   "source": [
    "# Here we define the maximum distance between 2 atoms in a 2-body cluster is 6.2.\n",
    "if os.path.isfile('cluster_list.csv'):\n",
    "    os.remove('cluster_list.csv')\n",
    "!corrdump -2 = 6.3 >> cluster_list.csv"
   ]
  },
  {
   "cell_type": "markdown",
   "metadata": {},
   "source": [
    "#### 10. Read cluster_list.csv"
   ]
  },
  {
   "cell_type": "markdown",
   "metadata": {},
   "source": [
    "The format for the file cluster_list.csv is as below.  \n",
    "For each cluster type:  \n",
    "First, the number of site in the cluster is given:  \n",
    "[nsite]  \n",
    "  \n",
    "Next, the multiplicity (number of the cluster in the unit cell) is given:    \n",
    "[multiplicity]  \n",
    "\n",
    "Then, site xyz coordinates are listed for each cluster of that type:  \n",
    "[cluster1site1x] [cluster1site1y] [cluster1site1z]  \n",
    "[cluster1site2x] [cluster1site2y] [cluster1site2z]   \n",
    "...  \n",
    "[cluster1siteNx] [cluster1siteNy] [cluster1siteNz]  \n",
    "[cluster2site1x] [cluster2site1y] [cluster2site1z]  \n",
    "[cluster2site2x] [cluster2site2y] [cluster2site2z]   \n",
    "...  \n",
    "[cluster2siteNx] [cluster2siteNy] [cluster2siteNz]  \n",
    "...  \n",
    "...  \n",
    "etc.  \n",
    "\n",
    "Finally, the correlation function is given:  \n",
    "[correlation function]  \n",
    "\n",
    "Since all sites have Si in str.out, the correlation function is usually 0 or 1(for the first cluster type)."
   ]
  },
  {
   "cell_type": "code",
   "execution_count": 32,
   "metadata": {
    "collapsed": true
   },
   "outputs": [],
   "source": [
    "ncell = structure['nu']*structure['nv']*structure['nw']"
   ]
  },
  {
   "cell_type": "code",
   "execution_count": 33,
   "metadata": {
    "collapsed": true
   },
   "outputs": [],
   "source": [
    "clulist = []\n",
    "\n",
    "with open('cluster_list.csv') as csvfile:\n",
    "    readCSV = csv.reader(csvfile, delimiter=' ')\n",
    "    for row in readCSV:\n",
    "        if(len(row) == 0):\n",
    "            continue\n",
    "        elif(len(row) == 1):\n",
    "            row[0] = row[0].replace('\\t', '')\n",
    "            clulist.append(int(float(row[0])))\n",
    "        else:\n",
    "            temp = []\n",
    "            for element in row:\n",
    "                temp.append(float(element))\n",
    "            clulist.append(temp)"
   ]
  },
  {
   "cell_type": "markdown",
   "metadata": {},
   "source": [
    "Create a dictionary (called clusters) which contains 1) cluster types, 2) cluster type number for different number of sites, and 3) the site indices for all the clusters for each cluster type.  \n",
    "\n",
    "clusters['types'] will list all the cluster types.  \n",
    "clusters['nsite_type_numbers'] will list the number of the types for nsite.  \n",
    "clusters['2-1'] will list all the clusters (consist of site indices) of type 2-1.  "
   ]
  },
  {
   "cell_type": "code",
   "execution_count": 34,
   "metadata": {
    "collapsed": true
   },
   "outputs": [],
   "source": [
    "clusters = {}\n",
    "nsite_type_numbers = {}\n",
    "cluster_types = []\n",
    "\n",
    "i = 0\n",
    "nsite = 0\n",
    "cluster_index = 1\n",
    "temp = set()\n",
    "\n",
    "while(i < len(clulist)):\n",
    "    #read n_site\n",
    "    new_nsite = clulist[i]\n",
    "    i += 1\n",
    "    \n",
    "    #pass first three lines where the cluster contains 0 site\n",
    "    if (new_nsite == 0):\n",
    "        i+=2\n",
    "        continue\n",
    "    \n",
    "    #if the cluster has more sites than the previous cluster, reset nsite and cluster index\n",
    "    if (new_nsite != nsite):\n",
    "        nsite = new_nsite\n",
    "        cluster_index = 1\n",
    "        \n",
    "    #set the cluster type = [nsite]-[order of the specific cluster in all nsite-clusters].\n",
    "    cluster_type = str(nsite)+'-'+str(cluster_index)\n",
    "    cluster_types.append(cluster_type)\n",
    "    \n",
    "    #initialize a empty set called temp \n",
    "    temp = set()\n",
    "        \n",
    "    #read multiplicity\n",
    "    multiplicity = clulist[i]\n",
    "    i += 1\n",
    "    \n",
    "    #go through all the clusters\n",
    "    n_cluster = multiplicity *ncell\n",
    "    for j in range(n_cluster):\n",
    "        cluster = set()\n",
    "        for k in range(nsite):\n",
    "            point = []\n",
    "            for element in clulist[i]:\n",
    "                point.append(float(element))\n",
    "            frac_coor = xyz_to_frac(axes_xyz, point)\n",
    "            site = find_site_index(axes_abc, structure, frac_coor)\n",
    "\n",
    "            cluster.update([site])\n",
    "            i += 1\n",
    "        if frozenset(cluster) in temp:\n",
    "            print('Error! Repeated cluster found in line {}. The cluster is {}.'.format(i+1, cluster))\n",
    "        temp.add(frozenset(cluster))\n",
    "    \n",
    "    #pass the line with correlation\n",
    "    i += 1 \n",
    "    \n",
    "    #put the set of clusters in dictionary of clusters\n",
    "    clusters[cluster_type] = temp\n",
    "    nsite_type_numbers[str(nsite)] = cluster_index\n",
    "    \n",
    "    #count cluster types\n",
    "    cluster_index += 1   \n",
    "\n",
    "clusters['cluster_types'] = cluster_types\n",
    "clusters['nsite_type_numbers'] = nsite_type_numbers"
   ]
  },
  {
   "cell_type": "code",
   "execution_count": 35,
   "metadata": {},
   "outputs": [
    {
     "data": {
      "text/plain": [
       "['1-1',\n",
       " '2-1',\n",
       " '2-2',\n",
       " '2-3',\n",
       " '2-4',\n",
       " '2-5',\n",
       " '2-6',\n",
       " '2-7',\n",
       " '2-8',\n",
       " '2-9',\n",
       " '2-10',\n",
       " '2-11',\n",
       " '2-12']"
      ]
     },
     "execution_count": 35,
     "metadata": {},
     "output_type": "execute_result"
    }
   ],
   "source": [
    "clusters['cluster_types']"
   ]
  },
  {
   "cell_type": "code",
   "execution_count": 36,
   "metadata": {},
   "outputs": [
    {
     "data": {
      "text/plain": [
       "{'1': 1, '2': 12}"
      ]
     },
     "execution_count": 36,
     "metadata": {},
     "output_type": "execute_result"
    }
   ],
   "source": [
    "clusters['nsite_type_numbers']"
   ]
  },
  {
   "cell_type": "code",
   "execution_count": 37,
   "metadata": {
    "collapsed": true
   },
   "outputs": [],
   "source": [
    "O_sites['x'] = O_sites.apply(lambda row: frac_to_xyz(axes_xyz, [row.a, row.b, row.c])[0], axis=1)\n",
    "O_sites['y'] = O_sites.apply(lambda row: frac_to_xyz(axes_xyz, [row.a, row.b, row.c])[1], axis=1)\n",
    "O_sites['z'] = O_sites.apply(lambda row: frac_to_xyz(axes_xyz, [row.a, row.b, row.c])[2], axis=1)"
   ]
  },
  {
   "cell_type": "code",
   "execution_count": 38,
   "metadata": {
    "collapsed": true
   },
   "outputs": [],
   "source": [
    "structure_sites['x'] = structure_sites.apply(lambda row: frac_to_xyz(axes_xyz, [row.a, row.b, row.c])[0], axis=1)\n",
    "structure_sites['y'] = structure_sites.apply(lambda row: frac_to_xyz(axes_xyz, [row.a, row.b, row.c])[1], axis=1)\n",
    "structure_sites['z'] = structure_sites.apply(lambda row: frac_to_xyz(axes_xyz, [row.a, row.b, row.c])[2], axis=1)"
   ]
  },
  {
   "cell_type": "code",
   "execution_count": 39,
   "metadata": {
    "collapsed": true
   },
   "outputs": [],
   "source": [
    "for cluster_type in clusters['cluster_types']:\n",
    "    for index, cluster in enumerate(list(clusters[cluster_type])[:2]):\n",
    "        structure_vector = np.zeros((len(structure_sites), 1))\n",
    "        for site in cluster:\n",
    "            structure_vector[site] = 1\n",
    "        filepath = 'clusters/{}-{}.xyz'.format(cluster_type, index+1)\n",
    "        if os.path.isfile(filepath):\n",
    "            os.remove(filepath)\n",
    "        with open(filepath, 'a') as file:\n",
    "            file.write('{}\\n'.format(len(O_sites.index)+len(structure_sites.index)))\n",
    "            file.write('\\n')\n",
    "            for index, row in O_sites.iterrows():\n",
    "                file.write('O {} {} {}\\n'.format(row.x, row.y, row.z))\n",
    "            for index, row in structure_sites.iterrows():\n",
    "                if structure_vector[int(row.site_index)] == 0:\n",
    "                    file.write('Si {} {} {}\\n'.format(row.x, row.y, row.z))\n",
    "                else:\n",
    "                    file.write('Al {} {} {}\\n'.format(row.x, row.y, row.z))"
   ]
  },
  {
   "cell_type": "code",
   "execution_count": 40,
   "metadata": {
    "collapsed": true
   },
   "outputs": [],
   "source": [
    "from ase import Atoms\n",
    "from ase.io import read\n",
    "from ase.visualize import view\n",
    "c= read('clusters/2-1-1.xyz')\n",
    "view(c)"
   ]
  },
  {
   "cell_type": "code",
   "execution_count": 41,
   "metadata": {
    "collapsed": true
   },
   "outputs": [],
   "source": [
    "all_sites = structure_sites.append(O_sites)"
   ]
  },
  {
   "cell_type": "code",
   "execution_count": 42,
   "metadata": {},
   "outputs": [
    {
     "data": {
      "text/html": [
       "<div>\n",
       "<style>\n",
       "    .dataframe thead tr:only-child th {\n",
       "        text-align: right;\n",
       "    }\n",
       "\n",
       "    .dataframe thead th {\n",
       "        text-align: left;\n",
       "    }\n",
       "\n",
       "    .dataframe tbody tr th {\n",
       "        vertical-align: top;\n",
       "    }\n",
       "</style>\n",
       "<table border=\"1\" class=\"dataframe\">\n",
       "  <thead>\n",
       "    <tr style=\"text-align: right;\">\n",
       "      <th></th>\n",
       "      <th>a</th>\n",
       "      <th>atom</th>\n",
       "      <th>b</th>\n",
       "      <th>c</th>\n",
       "      <th>site_index</th>\n",
       "      <th>x</th>\n",
       "      <th>y</th>\n",
       "      <th>z</th>\n",
       "    </tr>\n",
       "  </thead>\n",
       "  <tbody>\n",
       "    <tr>\n",
       "      <th>0</th>\n",
       "      <td>0.666967</td>\n",
       "      <td>Si,Al</td>\n",
       "      <td>0.106933</td>\n",
       "      <td>0.228233</td>\n",
       "      <td>0.0</td>\n",
       "      <td>8.389619</td>\n",
       "      <td>1.266397</td>\n",
       "      <td>3.370317</td>\n",
       "    </tr>\n",
       "    <tr>\n",
       "      <th>1</th>\n",
       "      <td>0.893067</td>\n",
       "      <td>Si,Al</td>\n",
       "      <td>0.560033</td>\n",
       "      <td>0.228233</td>\n",
       "      <td>1.0</td>\n",
       "      <td>8.383466</td>\n",
       "      <td>6.632413</td>\n",
       "      <td>3.370317</td>\n",
       "    </tr>\n",
       "    <tr>\n",
       "      <th>2</th>\n",
       "      <td>0.666967</td>\n",
       "      <td>Si,Al</td>\n",
       "      <td>0.560033</td>\n",
       "      <td>0.228233</td>\n",
       "      <td>2.0</td>\n",
       "      <td>5.291548</td>\n",
       "      <td>6.632413</td>\n",
       "      <td>3.370317</td>\n",
       "    </tr>\n",
       "    <tr>\n",
       "      <th>3</th>\n",
       "      <td>0.439967</td>\n",
       "      <td>Si,Al</td>\n",
       "      <td>0.333033</td>\n",
       "      <td>0.228233</td>\n",
       "      <td>3.0</td>\n",
       "      <td>3.739436</td>\n",
       "      <td>3.944076</td>\n",
       "      <td>3.370317</td>\n",
       "    </tr>\n",
       "    <tr>\n",
       "      <th>4</th>\n",
       "      <td>0.666367</td>\n",
       "      <td>Si,Al</td>\n",
       "      <td>0.106633</td>\n",
       "      <td>0.438433</td>\n",
       "      <td>4.0</td>\n",
       "      <td>8.383466</td>\n",
       "      <td>1.262844</td>\n",
       "      <td>6.474340</td>\n",
       "    </tr>\n",
       "    <tr>\n",
       "      <th>5</th>\n",
       "      <td>0.333033</td>\n",
       "      <td>Si,Al</td>\n",
       "      <td>0.439967</td>\n",
       "      <td>0.771767</td>\n",
       "      <td>5.0</td>\n",
       "      <td>1.545952</td>\n",
       "      <td>5.210484</td>\n",
       "      <td>11.396683</td>\n",
       "    </tr>\n",
       "    <tr>\n",
       "      <th>6</th>\n",
       "      <td>0.000300</td>\n",
       "      <td>Si,Al</td>\n",
       "      <td>0.773600</td>\n",
       "      <td>0.894900</td>\n",
       "      <td>6.0</td>\n",
       "      <td>-5.285387</td>\n",
       "      <td>9.161665</td>\n",
       "      <td>13.214988</td>\n",
       "    </tr>\n",
       "    <tr>\n",
       "      <th>7</th>\n",
       "      <td>0.999700</td>\n",
       "      <td>Si,Al</td>\n",
       "      <td>0.773300</td>\n",
       "      <td>0.105100</td>\n",
       "      <td>7.0</td>\n",
       "      <td>8.383459</td>\n",
       "      <td>9.158113</td>\n",
       "      <td>1.552012</td>\n",
       "    </tr>\n",
       "    <tr>\n",
       "      <th>8</th>\n",
       "      <td>0.333633</td>\n",
       "      <td>Si,Al</td>\n",
       "      <td>0.440267</td>\n",
       "      <td>0.561567</td>\n",
       "      <td>8.0</td>\n",
       "      <td>1.552106</td>\n",
       "      <td>5.214037</td>\n",
       "      <td>8.292660</td>\n",
       "    </tr>\n",
       "    <tr>\n",
       "      <th>9</th>\n",
       "      <td>0.000300</td>\n",
       "      <td>Si,Al</td>\n",
       "      <td>0.226700</td>\n",
       "      <td>0.894900</td>\n",
       "      <td>9.0</td>\n",
       "      <td>-1.545959</td>\n",
       "      <td>2.684785</td>\n",
       "      <td>13.214988</td>\n",
       "    </tr>\n",
       "    <tr>\n",
       "      <th>10</th>\n",
       "      <td>0.333033</td>\n",
       "      <td>Si,Al</td>\n",
       "      <td>0.893067</td>\n",
       "      <td>0.771767</td>\n",
       "      <td>10.0</td>\n",
       "      <td>-1.552119</td>\n",
       "      <td>10.576501</td>\n",
       "      <td>11.396683</td>\n",
       "    </tr>\n",
       "    <tr>\n",
       "      <th>11</th>\n",
       "      <td>0.333633</td>\n",
       "      <td>Si,Al</td>\n",
       "      <td>0.893367</td>\n",
       "      <td>0.561567</td>\n",
       "      <td>11.0</td>\n",
       "      <td>-1.545966</td>\n",
       "      <td>10.580054</td>\n",
       "      <td>8.292660</td>\n",
       "    </tr>\n",
       "    <tr>\n",
       "      <th>12</th>\n",
       "      <td>0.226400</td>\n",
       "      <td>Si,Al</td>\n",
       "      <td>0.999700</td>\n",
       "      <td>0.894900</td>\n",
       "      <td>12.0</td>\n",
       "      <td>-3.739429</td>\n",
       "      <td>11.839345</td>\n",
       "      <td>13.214988</td>\n",
       "    </tr>\n",
       "    <tr>\n",
       "      <th>13</th>\n",
       "      <td>0.893067</td>\n",
       "      <td>Si,Al</td>\n",
       "      <td>0.333033</td>\n",
       "      <td>0.228233</td>\n",
       "      <td>13.0</td>\n",
       "      <td>9.935578</td>\n",
       "      <td>3.944076</td>\n",
       "      <td>3.370317</td>\n",
       "    </tr>\n",
       "    <tr>\n",
       "      <th>14</th>\n",
       "      <td>0.559733</td>\n",
       "      <td>Si,Al</td>\n",
       "      <td>0.666367</td>\n",
       "      <td>0.561567</td>\n",
       "      <td>14.0</td>\n",
       "      <td>3.098064</td>\n",
       "      <td>7.891716</td>\n",
       "      <td>8.292660</td>\n",
       "    </tr>\n",
       "    <tr>\n",
       "      <th>15</th>\n",
       "      <td>0.226400</td>\n",
       "      <td>Si,Al</td>\n",
       "      <td>0.226700</td>\n",
       "      <td>0.894900</td>\n",
       "      <td>15.0</td>\n",
       "      <td>1.545959</td>\n",
       "      <td>2.684785</td>\n",
       "      <td>13.214988</td>\n",
       "    </tr>\n",
       "    <tr>\n",
       "      <th>16</th>\n",
       "      <td>0.666367</td>\n",
       "      <td>Si,Al</td>\n",
       "      <td>0.559733</td>\n",
       "      <td>0.438433</td>\n",
       "      <td>16.0</td>\n",
       "      <td>5.285394</td>\n",
       "      <td>6.628860</td>\n",
       "      <td>6.474340</td>\n",
       "    </tr>\n",
       "    <tr>\n",
       "      <th>17</th>\n",
       "      <td>0.559733</td>\n",
       "      <td>Si,Al</td>\n",
       "      <td>0.893367</td>\n",
       "      <td>0.561567</td>\n",
       "      <td>17.0</td>\n",
       "      <td>1.545952</td>\n",
       "      <td>10.580054</td>\n",
       "      <td>8.292660</td>\n",
       "    </tr>\n",
       "    <tr>\n",
       "      <th>18</th>\n",
       "      <td>0.773600</td>\n",
       "      <td>Si,Al</td>\n",
       "      <td>0.000300</td>\n",
       "      <td>0.105100</td>\n",
       "      <td>18.0</td>\n",
       "      <td>10.576929</td>\n",
       "      <td>0.003553</td>\n",
       "      <td>1.552012</td>\n",
       "    </tr>\n",
       "    <tr>\n",
       "      <th>19</th>\n",
       "      <td>0.440267</td>\n",
       "      <td>Si,Al</td>\n",
       "      <td>0.333633</td>\n",
       "      <td>0.438433</td>\n",
       "      <td>19.0</td>\n",
       "      <td>3.739436</td>\n",
       "      <td>3.951181</td>\n",
       "      <td>6.474340</td>\n",
       "    </tr>\n",
       "    <tr>\n",
       "      <th>20</th>\n",
       "      <td>0.106933</td>\n",
       "      <td>Si,Al</td>\n",
       "      <td>0.666967</td>\n",
       "      <td>0.771767</td>\n",
       "      <td>20.0</td>\n",
       "      <td>-3.098078</td>\n",
       "      <td>7.898822</td>\n",
       "      <td>11.396683</td>\n",
       "    </tr>\n",
       "    <tr>\n",
       "      <th>21</th>\n",
       "      <td>0.773600</td>\n",
       "      <td>Si,Al</td>\n",
       "      <td>0.773300</td>\n",
       "      <td>0.105100</td>\n",
       "      <td>21.0</td>\n",
       "      <td>5.291541</td>\n",
       "      <td>9.158113</td>\n",
       "      <td>1.552012</td>\n",
       "    </tr>\n",
       "    <tr>\n",
       "      <th>22</th>\n",
       "      <td>0.440267</td>\n",
       "      <td>Si,Al</td>\n",
       "      <td>0.106633</td>\n",
       "      <td>0.438433</td>\n",
       "      <td>22.0</td>\n",
       "      <td>5.291548</td>\n",
       "      <td>1.262844</td>\n",
       "      <td>6.474340</td>\n",
       "    </tr>\n",
       "    <tr>\n",
       "      <th>23</th>\n",
       "      <td>0.106933</td>\n",
       "      <td>Si,Al</td>\n",
       "      <td>0.439967</td>\n",
       "      <td>0.771767</td>\n",
       "      <td>23.0</td>\n",
       "      <td>-1.545966</td>\n",
       "      <td>5.210484</td>\n",
       "      <td>11.396683</td>\n",
       "    </tr>\n",
       "    <tr>\n",
       "      <th>24</th>\n",
       "      <td>0.773300</td>\n",
       "      <td>Si,Al</td>\n",
       "      <td>0.999700</td>\n",
       "      <td>0.894900</td>\n",
       "      <td>24.0</td>\n",
       "      <td>3.739429</td>\n",
       "      <td>11.839345</td>\n",
       "      <td>13.214988</td>\n",
       "    </tr>\n",
       "    <tr>\n",
       "      <th>25</th>\n",
       "      <td>0.999700</td>\n",
       "      <td>Si,Al</td>\n",
       "      <td>0.226400</td>\n",
       "      <td>0.105100</td>\n",
       "      <td>25.0</td>\n",
       "      <td>12.122888</td>\n",
       "      <td>2.681232</td>\n",
       "      <td>1.552012</td>\n",
       "    </tr>\n",
       "    <tr>\n",
       "      <th>26</th>\n",
       "      <td>0.106633</td>\n",
       "      <td>Si,Al</td>\n",
       "      <td>0.666367</td>\n",
       "      <td>0.561567</td>\n",
       "      <td>26.0</td>\n",
       "      <td>-3.098078</td>\n",
       "      <td>7.891716</td>\n",
       "      <td>8.292660</td>\n",
       "    </tr>\n",
       "    <tr>\n",
       "      <th>27</th>\n",
       "      <td>0.773300</td>\n",
       "      <td>Si,Al</td>\n",
       "      <td>0.773600</td>\n",
       "      <td>0.894900</td>\n",
       "      <td>27.0</td>\n",
       "      <td>5.285388</td>\n",
       "      <td>9.161665</td>\n",
       "      <td>13.214988</td>\n",
       "    </tr>\n",
       "    <tr>\n",
       "      <th>28</th>\n",
       "      <td>0.439967</td>\n",
       "      <td>Si,Al</td>\n",
       "      <td>0.106933</td>\n",
       "      <td>0.228233</td>\n",
       "      <td>28.0</td>\n",
       "      <td>5.285394</td>\n",
       "      <td>1.266397</td>\n",
       "      <td>3.370317</td>\n",
       "    </tr>\n",
       "    <tr>\n",
       "      <th>29</th>\n",
       "      <td>0.106633</td>\n",
       "      <td>Si,Al</td>\n",
       "      <td>0.440267</td>\n",
       "      <td>0.561567</td>\n",
       "      <td>29.0</td>\n",
       "      <td>-1.552119</td>\n",
       "      <td>5.214037</td>\n",
       "      <td>8.292660</td>\n",
       "    </tr>\n",
       "    <tr>\n",
       "      <th>...</th>\n",
       "      <td>...</td>\n",
       "      <td>...</td>\n",
       "      <td>...</td>\n",
       "      <td>...</td>\n",
       "      <td>...</td>\n",
       "      <td>...</td>\n",
       "      <td>...</td>\n",
       "      <td>...</td>\n",
       "    </tr>\n",
       "    <tr>\n",
       "      <th>0</th>\n",
       "      <td>1.257700</td>\n",
       "      <td>O</td>\n",
       "      <td>1.000000</td>\n",
       "      <td>1.000000</td>\n",
       "      <td>NaN</td>\n",
       "      <td>10.361548</td>\n",
       "      <td>11.842897</td>\n",
       "      <td>14.767000</td>\n",
       "    </tr>\n",
       "    <tr>\n",
       "      <th>0</th>\n",
       "      <td>1.924367</td>\n",
       "      <td>O</td>\n",
       "      <td>1.333333</td>\n",
       "      <td>1.333333</td>\n",
       "      <td>NaN</td>\n",
       "      <td>17.199054</td>\n",
       "      <td>15.790526</td>\n",
       "      <td>19.689328</td>\n",
       "    </tr>\n",
       "    <tr>\n",
       "      <th>0</th>\n",
       "      <td>1.591033</td>\n",
       "      <td>O</td>\n",
       "      <td>1.666667</td>\n",
       "      <td>1.666667</td>\n",
       "      <td>NaN</td>\n",
       "      <td>10.361541</td>\n",
       "      <td>19.738166</td>\n",
       "      <td>24.611672</td>\n",
       "    </tr>\n",
       "    <tr>\n",
       "      <th>0</th>\n",
       "      <td>1.257700</td>\n",
       "      <td>O</td>\n",
       "      <td>1.257700</td>\n",
       "      <td>1.000000</td>\n",
       "      <td>NaN</td>\n",
       "      <td>8.599524</td>\n",
       "      <td>14.894812</td>\n",
       "      <td>14.767000</td>\n",
       "    </tr>\n",
       "    <tr>\n",
       "      <th>0</th>\n",
       "      <td>1.924367</td>\n",
       "      <td>O</td>\n",
       "      <td>1.591033</td>\n",
       "      <td>1.333333</td>\n",
       "      <td>NaN</td>\n",
       "      <td>15.437031</td>\n",
       "      <td>18.842441</td>\n",
       "      <td>19.689328</td>\n",
       "    </tr>\n",
       "    <tr>\n",
       "      <th>0</th>\n",
       "      <td>1.591033</td>\n",
       "      <td>O</td>\n",
       "      <td>1.924367</td>\n",
       "      <td>1.666667</td>\n",
       "      <td>NaN</td>\n",
       "      <td>8.599517</td>\n",
       "      <td>22.790081</td>\n",
       "      <td>24.611672</td>\n",
       "    </tr>\n",
       "    <tr>\n",
       "      <th>0</th>\n",
       "      <td>1.742300</td>\n",
       "      <td>O</td>\n",
       "      <td>1.000000</td>\n",
       "      <td>1.000000</td>\n",
       "      <td>NaN</td>\n",
       "      <td>16.988453</td>\n",
       "      <td>11.842897</td>\n",
       "      <td>14.767000</td>\n",
       "    </tr>\n",
       "    <tr>\n",
       "      <th>0</th>\n",
       "      <td>1.408967</td>\n",
       "      <td>O</td>\n",
       "      <td>1.333333</td>\n",
       "      <td>1.333333</td>\n",
       "      <td>NaN</td>\n",
       "      <td>10.150959</td>\n",
       "      <td>15.790526</td>\n",
       "      <td>19.689328</td>\n",
       "    </tr>\n",
       "    <tr>\n",
       "      <th>0</th>\n",
       "      <td>1.075633</td>\n",
       "      <td>O</td>\n",
       "      <td>1.666667</td>\n",
       "      <td>1.666667</td>\n",
       "      <td>NaN</td>\n",
       "      <td>3.313446</td>\n",
       "      <td>19.738166</td>\n",
       "      <td>24.611672</td>\n",
       "    </tr>\n",
       "    <tr>\n",
       "      <th>0</th>\n",
       "      <td>1.742300</td>\n",
       "      <td>O</td>\n",
       "      <td>1.742300</td>\n",
       "      <td>1.000000</td>\n",
       "      <td>NaN</td>\n",
       "      <td>11.912976</td>\n",
       "      <td>20.633880</td>\n",
       "      <td>14.767000</td>\n",
       "    </tr>\n",
       "    <tr>\n",
       "      <th>0</th>\n",
       "      <td>1.408967</td>\n",
       "      <td>O</td>\n",
       "      <td>1.075633</td>\n",
       "      <td>1.333333</td>\n",
       "      <td>NaN</td>\n",
       "      <td>11.912983</td>\n",
       "      <td>12.738611</td>\n",
       "      <td>19.689328</td>\n",
       "    </tr>\n",
       "    <tr>\n",
       "      <th>0</th>\n",
       "      <td>1.075633</td>\n",
       "      <td>O</td>\n",
       "      <td>1.408967</td>\n",
       "      <td>1.666667</td>\n",
       "      <td>NaN</td>\n",
       "      <td>5.075469</td>\n",
       "      <td>16.686252</td>\n",
       "      <td>24.611672</td>\n",
       "    </tr>\n",
       "    <tr>\n",
       "      <th>0</th>\n",
       "      <td>2.000000</td>\n",
       "      <td>O</td>\n",
       "      <td>1.257700</td>\n",
       "      <td>1.000000</td>\n",
       "      <td>NaN</td>\n",
       "      <td>18.750476</td>\n",
       "      <td>14.894812</td>\n",
       "      <td>14.767000</td>\n",
       "    </tr>\n",
       "    <tr>\n",
       "      <th>0</th>\n",
       "      <td>2.000000</td>\n",
       "      <td>O</td>\n",
       "      <td>1.742300</td>\n",
       "      <td>1.000000</td>\n",
       "      <td>NaN</td>\n",
       "      <td>15.437024</td>\n",
       "      <td>20.633880</td>\n",
       "      <td>14.767000</td>\n",
       "    </tr>\n",
       "    <tr>\n",
       "      <th>0</th>\n",
       "      <td>1.257700</td>\n",
       "      <td>O</td>\n",
       "      <td>2.000000</td>\n",
       "      <td>1.000000</td>\n",
       "      <td>NaN</td>\n",
       "      <td>3.524048</td>\n",
       "      <td>23.685795</td>\n",
       "      <td>14.767000</td>\n",
       "    </tr>\n",
       "    <tr>\n",
       "      <th>0</th>\n",
       "      <td>1.742300</td>\n",
       "      <td>O</td>\n",
       "      <td>2.000000</td>\n",
       "      <td>1.000000</td>\n",
       "      <td>NaN</td>\n",
       "      <td>10.150953</td>\n",
       "      <td>23.685795</td>\n",
       "      <td>14.767000</td>\n",
       "    </tr>\n",
       "    <tr>\n",
       "      <th>0</th>\n",
       "      <td>1.000000</td>\n",
       "      <td>O</td>\n",
       "      <td>1.257700</td>\n",
       "      <td>2.000000</td>\n",
       "      <td>NaN</td>\n",
       "      <td>5.075476</td>\n",
       "      <td>14.894812</td>\n",
       "      <td>29.534000</td>\n",
       "    </tr>\n",
       "    <tr>\n",
       "      <th>0</th>\n",
       "      <td>1.000000</td>\n",
       "      <td>O</td>\n",
       "      <td>1.742300</td>\n",
       "      <td>2.000000</td>\n",
       "      <td>NaN</td>\n",
       "      <td>1.762024</td>\n",
       "      <td>20.633880</td>\n",
       "      <td>29.534000</td>\n",
       "    </tr>\n",
       "    <tr>\n",
       "      <th>0</th>\n",
       "      <td>1.257700</td>\n",
       "      <td>O</td>\n",
       "      <td>1.000000</td>\n",
       "      <td>2.000000</td>\n",
       "      <td>NaN</td>\n",
       "      <td>10.361548</td>\n",
       "      <td>11.842897</td>\n",
       "      <td>29.534000</td>\n",
       "    </tr>\n",
       "    <tr>\n",
       "      <th>0</th>\n",
       "      <td>1.257700</td>\n",
       "      <td>O</td>\n",
       "      <td>1.257700</td>\n",
       "      <td>2.000000</td>\n",
       "      <td>NaN</td>\n",
       "      <td>8.599524</td>\n",
       "      <td>14.894812</td>\n",
       "      <td>29.534000</td>\n",
       "    </tr>\n",
       "    <tr>\n",
       "      <th>0</th>\n",
       "      <td>1.742300</td>\n",
       "      <td>O</td>\n",
       "      <td>1.000000</td>\n",
       "      <td>2.000000</td>\n",
       "      <td>NaN</td>\n",
       "      <td>16.988453</td>\n",
       "      <td>11.842897</td>\n",
       "      <td>29.534000</td>\n",
       "    </tr>\n",
       "    <tr>\n",
       "      <th>0</th>\n",
       "      <td>1.742300</td>\n",
       "      <td>O</td>\n",
       "      <td>1.742300</td>\n",
       "      <td>2.000000</td>\n",
       "      <td>NaN</td>\n",
       "      <td>11.912976</td>\n",
       "      <td>20.633880</td>\n",
       "      <td>29.534000</td>\n",
       "    </tr>\n",
       "    <tr>\n",
       "      <th>0</th>\n",
       "      <td>2.000000</td>\n",
       "      <td>O</td>\n",
       "      <td>1.257700</td>\n",
       "      <td>2.000000</td>\n",
       "      <td>NaN</td>\n",
       "      <td>18.750476</td>\n",
       "      <td>14.894812</td>\n",
       "      <td>29.534000</td>\n",
       "    </tr>\n",
       "    <tr>\n",
       "      <th>0</th>\n",
       "      <td>2.000000</td>\n",
       "      <td>O</td>\n",
       "      <td>1.742300</td>\n",
       "      <td>2.000000</td>\n",
       "      <td>NaN</td>\n",
       "      <td>15.437024</td>\n",
       "      <td>20.633880</td>\n",
       "      <td>29.534000</td>\n",
       "    </tr>\n",
       "    <tr>\n",
       "      <th>0</th>\n",
       "      <td>1.257700</td>\n",
       "      <td>O</td>\n",
       "      <td>2.000000</td>\n",
       "      <td>2.000000</td>\n",
       "      <td>NaN</td>\n",
       "      <td>3.524048</td>\n",
       "      <td>23.685795</td>\n",
       "      <td>29.534000</td>\n",
       "    </tr>\n",
       "    <tr>\n",
       "      <th>0</th>\n",
       "      <td>1.742300</td>\n",
       "      <td>O</td>\n",
       "      <td>2.000000</td>\n",
       "      <td>2.000000</td>\n",
       "      <td>NaN</td>\n",
       "      <td>10.150953</td>\n",
       "      <td>23.685795</td>\n",
       "      <td>29.534000</td>\n",
       "    </tr>\n",
       "    <tr>\n",
       "      <th>0</th>\n",
       "      <td>1.333333</td>\n",
       "      <td>O</td>\n",
       "      <td>1.924367</td>\n",
       "      <td>1.666667</td>\n",
       "      <td>NaN</td>\n",
       "      <td>5.075469</td>\n",
       "      <td>22.790081</td>\n",
       "      <td>24.611672</td>\n",
       "    </tr>\n",
       "    <tr>\n",
       "      <th>0</th>\n",
       "      <td>1.666667</td>\n",
       "      <td>O</td>\n",
       "      <td>1.591033</td>\n",
       "      <td>1.333333</td>\n",
       "      <td>NaN</td>\n",
       "      <td>11.912983</td>\n",
       "      <td>18.842441</td>\n",
       "      <td>19.689328</td>\n",
       "    </tr>\n",
       "    <tr>\n",
       "      <th>0</th>\n",
       "      <td>1.000000</td>\n",
       "      <td>O</td>\n",
       "      <td>1.257700</td>\n",
       "      <td>1.000000</td>\n",
       "      <td>NaN</td>\n",
       "      <td>5.075476</td>\n",
       "      <td>14.894812</td>\n",
       "      <td>14.767000</td>\n",
       "    </tr>\n",
       "    <tr>\n",
       "      <th>0</th>\n",
       "      <td>1.000000</td>\n",
       "      <td>O</td>\n",
       "      <td>1.742300</td>\n",
       "      <td>1.000000</td>\n",
       "      <td>NaN</td>\n",
       "      <td>1.762024</td>\n",
       "      <td>20.633880</td>\n",
       "      <td>14.767000</td>\n",
       "    </tr>\n",
       "  </tbody>\n",
       "</table>\n",
       "<p>1072 rows × 8 columns</p>\n",
       "</div>"
      ],
      "text/plain": [
       "           a   atom         b         c  site_index          x          y  \\\n",
       "0   0.666967  Si,Al  0.106933  0.228233         0.0   8.389619   1.266397   \n",
       "1   0.893067  Si,Al  0.560033  0.228233         1.0   8.383466   6.632413   \n",
       "2   0.666967  Si,Al  0.560033  0.228233         2.0   5.291548   6.632413   \n",
       "3   0.439967  Si,Al  0.333033  0.228233         3.0   3.739436   3.944076   \n",
       "4   0.666367  Si,Al  0.106633  0.438433         4.0   8.383466   1.262844   \n",
       "5   0.333033  Si,Al  0.439967  0.771767         5.0   1.545952   5.210484   \n",
       "6   0.000300  Si,Al  0.773600  0.894900         6.0  -5.285387   9.161665   \n",
       "7   0.999700  Si,Al  0.773300  0.105100         7.0   8.383459   9.158113   \n",
       "8   0.333633  Si,Al  0.440267  0.561567         8.0   1.552106   5.214037   \n",
       "9   0.000300  Si,Al  0.226700  0.894900         9.0  -1.545959   2.684785   \n",
       "10  0.333033  Si,Al  0.893067  0.771767        10.0  -1.552119  10.576501   \n",
       "11  0.333633  Si,Al  0.893367  0.561567        11.0  -1.545966  10.580054   \n",
       "12  0.226400  Si,Al  0.999700  0.894900        12.0  -3.739429  11.839345   \n",
       "13  0.893067  Si,Al  0.333033  0.228233        13.0   9.935578   3.944076   \n",
       "14  0.559733  Si,Al  0.666367  0.561567        14.0   3.098064   7.891716   \n",
       "15  0.226400  Si,Al  0.226700  0.894900        15.0   1.545959   2.684785   \n",
       "16  0.666367  Si,Al  0.559733  0.438433        16.0   5.285394   6.628860   \n",
       "17  0.559733  Si,Al  0.893367  0.561567        17.0   1.545952  10.580054   \n",
       "18  0.773600  Si,Al  0.000300  0.105100        18.0  10.576929   0.003553   \n",
       "19  0.440267  Si,Al  0.333633  0.438433        19.0   3.739436   3.951181   \n",
       "20  0.106933  Si,Al  0.666967  0.771767        20.0  -3.098078   7.898822   \n",
       "21  0.773600  Si,Al  0.773300  0.105100        21.0   5.291541   9.158113   \n",
       "22  0.440267  Si,Al  0.106633  0.438433        22.0   5.291548   1.262844   \n",
       "23  0.106933  Si,Al  0.439967  0.771767        23.0  -1.545966   5.210484   \n",
       "24  0.773300  Si,Al  0.999700  0.894900        24.0   3.739429  11.839345   \n",
       "25  0.999700  Si,Al  0.226400  0.105100        25.0  12.122888   2.681232   \n",
       "26  0.106633  Si,Al  0.666367  0.561567        26.0  -3.098078   7.891716   \n",
       "27  0.773300  Si,Al  0.773600  0.894900        27.0   5.285388   9.161665   \n",
       "28  0.439967  Si,Al  0.106933  0.228233        28.0   5.285394   1.266397   \n",
       "29  0.106633  Si,Al  0.440267  0.561567        29.0  -1.552119   5.214037   \n",
       "..       ...    ...       ...       ...         ...        ...        ...   \n",
       "0   1.257700      O  1.000000  1.000000         NaN  10.361548  11.842897   \n",
       "0   1.924367      O  1.333333  1.333333         NaN  17.199054  15.790526   \n",
       "0   1.591033      O  1.666667  1.666667         NaN  10.361541  19.738166   \n",
       "0   1.257700      O  1.257700  1.000000         NaN   8.599524  14.894812   \n",
       "0   1.924367      O  1.591033  1.333333         NaN  15.437031  18.842441   \n",
       "0   1.591033      O  1.924367  1.666667         NaN   8.599517  22.790081   \n",
       "0   1.742300      O  1.000000  1.000000         NaN  16.988453  11.842897   \n",
       "0   1.408967      O  1.333333  1.333333         NaN  10.150959  15.790526   \n",
       "0   1.075633      O  1.666667  1.666667         NaN   3.313446  19.738166   \n",
       "0   1.742300      O  1.742300  1.000000         NaN  11.912976  20.633880   \n",
       "0   1.408967      O  1.075633  1.333333         NaN  11.912983  12.738611   \n",
       "0   1.075633      O  1.408967  1.666667         NaN   5.075469  16.686252   \n",
       "0   2.000000      O  1.257700  1.000000         NaN  18.750476  14.894812   \n",
       "0   2.000000      O  1.742300  1.000000         NaN  15.437024  20.633880   \n",
       "0   1.257700      O  2.000000  1.000000         NaN   3.524048  23.685795   \n",
       "0   1.742300      O  2.000000  1.000000         NaN  10.150953  23.685795   \n",
       "0   1.000000      O  1.257700  2.000000         NaN   5.075476  14.894812   \n",
       "0   1.000000      O  1.742300  2.000000         NaN   1.762024  20.633880   \n",
       "0   1.257700      O  1.000000  2.000000         NaN  10.361548  11.842897   \n",
       "0   1.257700      O  1.257700  2.000000         NaN   8.599524  14.894812   \n",
       "0   1.742300      O  1.000000  2.000000         NaN  16.988453  11.842897   \n",
       "0   1.742300      O  1.742300  2.000000         NaN  11.912976  20.633880   \n",
       "0   2.000000      O  1.257700  2.000000         NaN  18.750476  14.894812   \n",
       "0   2.000000      O  1.742300  2.000000         NaN  15.437024  20.633880   \n",
       "0   1.257700      O  2.000000  2.000000         NaN   3.524048  23.685795   \n",
       "0   1.742300      O  2.000000  2.000000         NaN  10.150953  23.685795   \n",
       "0   1.333333      O  1.924367  1.666667         NaN   5.075469  22.790081   \n",
       "0   1.666667      O  1.591033  1.333333         NaN  11.912983  18.842441   \n",
       "0   1.000000      O  1.257700  1.000000         NaN   5.075476  14.894812   \n",
       "0   1.000000      O  1.742300  1.000000         NaN   1.762024  20.633880   \n",
       "\n",
       "            z  \n",
       "0    3.370317  \n",
       "1    3.370317  \n",
       "2    3.370317  \n",
       "3    3.370317  \n",
       "4    6.474340  \n",
       "5   11.396683  \n",
       "6   13.214988  \n",
       "7    1.552012  \n",
       "8    8.292660  \n",
       "9   13.214988  \n",
       "10  11.396683  \n",
       "11   8.292660  \n",
       "12  13.214988  \n",
       "13   3.370317  \n",
       "14   8.292660  \n",
       "15  13.214988  \n",
       "16   6.474340  \n",
       "17   8.292660  \n",
       "18   1.552012  \n",
       "19   6.474340  \n",
       "20  11.396683  \n",
       "21   1.552012  \n",
       "22   6.474340  \n",
       "23  11.396683  \n",
       "24  13.214988  \n",
       "25   1.552012  \n",
       "26   8.292660  \n",
       "27  13.214988  \n",
       "28   3.370317  \n",
       "29   8.292660  \n",
       "..        ...  \n",
       "0   14.767000  \n",
       "0   19.689328  \n",
       "0   24.611672  \n",
       "0   14.767000  \n",
       "0   19.689328  \n",
       "0   24.611672  \n",
       "0   14.767000  \n",
       "0   19.689328  \n",
       "0   24.611672  \n",
       "0   14.767000  \n",
       "0   19.689328  \n",
       "0   24.611672  \n",
       "0   14.767000  \n",
       "0   14.767000  \n",
       "0   14.767000  \n",
       "0   14.767000  \n",
       "0   29.534000  \n",
       "0   29.534000  \n",
       "0   29.534000  \n",
       "0   29.534000  \n",
       "0   29.534000  \n",
       "0   29.534000  \n",
       "0   29.534000  \n",
       "0   29.534000  \n",
       "0   29.534000  \n",
       "0   29.534000  \n",
       "0   24.611672  \n",
       "0   19.689328  \n",
       "0   14.767000  \n",
       "0   14.767000  \n",
       "\n",
       "[1072 rows x 8 columns]"
      ]
     },
     "execution_count": 42,
     "metadata": {},
     "output_type": "execute_result"
    }
   ],
   "source": [
    "all_sites"
   ]
  },
  {
   "cell_type": "markdown",
   "metadata": {},
   "source": [
    "#### 11. Add pair sites for each site in structure sites dataframe "
   ]
  },
  {
   "cell_type": "code",
   "execution_count": 43,
   "metadata": {},
   "outputs": [
    {
     "data": {
      "text/html": [
       "<div>\n",
       "<style>\n",
       "    .dataframe thead tr:only-child th {\n",
       "        text-align: right;\n",
       "    }\n",
       "\n",
       "    .dataframe thead th {\n",
       "        text-align: left;\n",
       "    }\n",
       "\n",
       "    .dataframe tbody tr th {\n",
       "        vertical-align: top;\n",
       "    }\n",
       "</style>\n",
       "<table border=\"1\" class=\"dataframe\">\n",
       "  <thead>\n",
       "    <tr style=\"text-align: right;\">\n",
       "      <th></th>\n",
       "      <th>a</th>\n",
       "      <th>b</th>\n",
       "      <th>c</th>\n",
       "      <th>atom</th>\n",
       "      <th>site_index</th>\n",
       "      <th>x</th>\n",
       "      <th>y</th>\n",
       "      <th>z</th>\n",
       "    </tr>\n",
       "  </thead>\n",
       "  <tbody>\n",
       "    <tr>\n",
       "      <th>0</th>\n",
       "      <td>0.666967</td>\n",
       "      <td>0.106933</td>\n",
       "      <td>0.228233</td>\n",
       "      <td>Si,Al</td>\n",
       "      <td>0</td>\n",
       "      <td>8.389619</td>\n",
       "      <td>1.266397</td>\n",
       "      <td>3.370317</td>\n",
       "    </tr>\n",
       "    <tr>\n",
       "      <th>1</th>\n",
       "      <td>0.893067</td>\n",
       "      <td>0.560033</td>\n",
       "      <td>0.228233</td>\n",
       "      <td>Si,Al</td>\n",
       "      <td>1</td>\n",
       "      <td>8.383466</td>\n",
       "      <td>6.632413</td>\n",
       "      <td>3.370317</td>\n",
       "    </tr>\n",
       "    <tr>\n",
       "      <th>2</th>\n",
       "      <td>0.666967</td>\n",
       "      <td>0.560033</td>\n",
       "      <td>0.228233</td>\n",
       "      <td>Si,Al</td>\n",
       "      <td>2</td>\n",
       "      <td>5.291548</td>\n",
       "      <td>6.632413</td>\n",
       "      <td>3.370317</td>\n",
       "    </tr>\n",
       "    <tr>\n",
       "      <th>3</th>\n",
       "      <td>0.439967</td>\n",
       "      <td>0.333033</td>\n",
       "      <td>0.228233</td>\n",
       "      <td>Si,Al</td>\n",
       "      <td>3</td>\n",
       "      <td>3.739436</td>\n",
       "      <td>3.944076</td>\n",
       "      <td>3.370317</td>\n",
       "    </tr>\n",
       "    <tr>\n",
       "      <th>4</th>\n",
       "      <td>0.666367</td>\n",
       "      <td>0.106633</td>\n",
       "      <td>0.438433</td>\n",
       "      <td>Si,Al</td>\n",
       "      <td>4</td>\n",
       "      <td>8.383466</td>\n",
       "      <td>1.262844</td>\n",
       "      <td>6.474340</td>\n",
       "    </tr>\n",
       "  </tbody>\n",
       "</table>\n",
       "</div>"
      ],
      "text/plain": [
       "          a         b         c   atom  site_index         x         y  \\\n",
       "0  0.666967  0.106933  0.228233  Si,Al           0  8.389619  1.266397   \n",
       "1  0.893067  0.560033  0.228233  Si,Al           1  8.383466  6.632413   \n",
       "2  0.666967  0.560033  0.228233  Si,Al           2  5.291548  6.632413   \n",
       "3  0.439967  0.333033  0.228233  Si,Al           3  3.739436  3.944076   \n",
       "4  0.666367  0.106633  0.438433  Si,Al           4  8.383466  1.262844   \n",
       "\n",
       "          z  \n",
       "0  3.370317  \n",
       "1  3.370317  \n",
       "2  3.370317  \n",
       "3  3.370317  \n",
       "4  6.474340  "
      ]
     },
     "execution_count": 43,
     "metadata": {},
     "output_type": "execute_result"
    }
   ],
   "source": [
    "structure_sites.head()"
   ]
  },
  {
   "cell_type": "code",
   "execution_count": 44,
   "metadata": {
    "collapsed": true
   },
   "outputs": [],
   "source": [
    "#create a column for single-site cluster type\n",
    "structure_sites['1'] = np.nan\n",
    "#create one column for each multiple-site cluster\n",
    "for nsite, clu_index in clusters['nsite_type_numbers'].items():\n",
    "    if (nsite != '1'):\n",
    "        for index in range(1, clu_index+1):\n",
    "            clu_type = str(nsite)+'-'+str(index)\n",
    "            structure_sites[clu_type] = \"\"\n",
    "            structure_sites[clu_type].astype('object')"
   ]
  },
  {
   "cell_type": "code",
   "execution_count": 45,
   "metadata": {},
   "outputs": [
    {
     "data": {
      "text/html": [
       "<div>\n",
       "<style>\n",
       "    .dataframe thead tr:only-child th {\n",
       "        text-align: right;\n",
       "    }\n",
       "\n",
       "    .dataframe thead th {\n",
       "        text-align: left;\n",
       "    }\n",
       "\n",
       "    .dataframe tbody tr th {\n",
       "        vertical-align: top;\n",
       "    }\n",
       "</style>\n",
       "<table border=\"1\" class=\"dataframe\">\n",
       "  <thead>\n",
       "    <tr style=\"text-align: right;\">\n",
       "      <th></th>\n",
       "      <th>a</th>\n",
       "      <th>b</th>\n",
       "      <th>c</th>\n",
       "      <th>atom</th>\n",
       "      <th>site_index</th>\n",
       "      <th>x</th>\n",
       "      <th>y</th>\n",
       "      <th>z</th>\n",
       "      <th>1</th>\n",
       "      <th>2-1</th>\n",
       "      <th>2-2</th>\n",
       "      <th>2-3</th>\n",
       "      <th>2-4</th>\n",
       "      <th>2-5</th>\n",
       "      <th>2-6</th>\n",
       "      <th>2-7</th>\n",
       "      <th>2-8</th>\n",
       "      <th>2-9</th>\n",
       "      <th>2-10</th>\n",
       "      <th>2-11</th>\n",
       "      <th>2-12</th>\n",
       "    </tr>\n",
       "  </thead>\n",
       "  <tbody>\n",
       "    <tr>\n",
       "      <th>0</th>\n",
       "      <td>0.666967</td>\n",
       "      <td>0.106933</td>\n",
       "      <td>0.228233</td>\n",
       "      <td>Si,Al</td>\n",
       "      <td>0</td>\n",
       "      <td>8.389619</td>\n",
       "      <td>1.266397</td>\n",
       "      <td>3.370317</td>\n",
       "      <td>NaN</td>\n",
       "      <td></td>\n",
       "      <td></td>\n",
       "      <td></td>\n",
       "      <td></td>\n",
       "      <td></td>\n",
       "      <td></td>\n",
       "      <td></td>\n",
       "      <td></td>\n",
       "      <td></td>\n",
       "      <td></td>\n",
       "      <td></td>\n",
       "      <td></td>\n",
       "    </tr>\n",
       "    <tr>\n",
       "      <th>1</th>\n",
       "      <td>0.893067</td>\n",
       "      <td>0.560033</td>\n",
       "      <td>0.228233</td>\n",
       "      <td>Si,Al</td>\n",
       "      <td>1</td>\n",
       "      <td>8.383466</td>\n",
       "      <td>6.632413</td>\n",
       "      <td>3.370317</td>\n",
       "      <td>NaN</td>\n",
       "      <td></td>\n",
       "      <td></td>\n",
       "      <td></td>\n",
       "      <td></td>\n",
       "      <td></td>\n",
       "      <td></td>\n",
       "      <td></td>\n",
       "      <td></td>\n",
       "      <td></td>\n",
       "      <td></td>\n",
       "      <td></td>\n",
       "      <td></td>\n",
       "    </tr>\n",
       "    <tr>\n",
       "      <th>2</th>\n",
       "      <td>0.666967</td>\n",
       "      <td>0.560033</td>\n",
       "      <td>0.228233</td>\n",
       "      <td>Si,Al</td>\n",
       "      <td>2</td>\n",
       "      <td>5.291548</td>\n",
       "      <td>6.632413</td>\n",
       "      <td>3.370317</td>\n",
       "      <td>NaN</td>\n",
       "      <td></td>\n",
       "      <td></td>\n",
       "      <td></td>\n",
       "      <td></td>\n",
       "      <td></td>\n",
       "      <td></td>\n",
       "      <td></td>\n",
       "      <td></td>\n",
       "      <td></td>\n",
       "      <td></td>\n",
       "      <td></td>\n",
       "      <td></td>\n",
       "    </tr>\n",
       "    <tr>\n",
       "      <th>3</th>\n",
       "      <td>0.439967</td>\n",
       "      <td>0.333033</td>\n",
       "      <td>0.228233</td>\n",
       "      <td>Si,Al</td>\n",
       "      <td>3</td>\n",
       "      <td>3.739436</td>\n",
       "      <td>3.944076</td>\n",
       "      <td>3.370317</td>\n",
       "      <td>NaN</td>\n",
       "      <td></td>\n",
       "      <td></td>\n",
       "      <td></td>\n",
       "      <td></td>\n",
       "      <td></td>\n",
       "      <td></td>\n",
       "      <td></td>\n",
       "      <td></td>\n",
       "      <td></td>\n",
       "      <td></td>\n",
       "      <td></td>\n",
       "      <td></td>\n",
       "    </tr>\n",
       "    <tr>\n",
       "      <th>4</th>\n",
       "      <td>0.666367</td>\n",
       "      <td>0.106633</td>\n",
       "      <td>0.438433</td>\n",
       "      <td>Si,Al</td>\n",
       "      <td>4</td>\n",
       "      <td>8.383466</td>\n",
       "      <td>1.262844</td>\n",
       "      <td>6.474340</td>\n",
       "      <td>NaN</td>\n",
       "      <td></td>\n",
       "      <td></td>\n",
       "      <td></td>\n",
       "      <td></td>\n",
       "      <td></td>\n",
       "      <td></td>\n",
       "      <td></td>\n",
       "      <td></td>\n",
       "      <td></td>\n",
       "      <td></td>\n",
       "      <td></td>\n",
       "      <td></td>\n",
       "    </tr>\n",
       "  </tbody>\n",
       "</table>\n",
       "</div>"
      ],
      "text/plain": [
       "          a         b         c   atom  site_index         x         y  \\\n",
       "0  0.666967  0.106933  0.228233  Si,Al           0  8.389619  1.266397   \n",
       "1  0.893067  0.560033  0.228233  Si,Al           1  8.383466  6.632413   \n",
       "2  0.666967  0.560033  0.228233  Si,Al           2  5.291548  6.632413   \n",
       "3  0.439967  0.333033  0.228233  Si,Al           3  3.739436  3.944076   \n",
       "4  0.666367  0.106633  0.438433  Si,Al           4  8.383466  1.262844   \n",
       "\n",
       "          z   1 2-1 2-2 2-3 2-4 2-5 2-6 2-7 2-8 2-9 2-10 2-11 2-12  \n",
       "0  3.370317 NaN                                                     \n",
       "1  3.370317 NaN                                                     \n",
       "2  3.370317 NaN                                                     \n",
       "3  3.370317 NaN                                                     \n",
       "4  6.474340 NaN                                                     "
      ]
     },
     "execution_count": 45,
     "metadata": {},
     "output_type": "execute_result"
    }
   ],
   "source": [
    "structure_sites.head()"
   ]
  },
  {
   "cell_type": "code",
   "execution_count": 46,
   "metadata": {
    "collapsed": true
   },
   "outputs": [],
   "source": [
    "for nsite, clu_index in clusters['nsite_type_numbers'].items():\n",
    "    for index in range(1, clu_index+1):\n",
    "        clu_type = str(nsite)+'-'+str(index)\n",
    "        if nsite == '1':\n",
    "            for sites in clusters[clu_type]:\n",
    "                for site in sites:\n",
    "                    structure_sites.set_value(site, '1', int(index))\n",
    "        else:\n",
    "            for sites in clusters[clu_type]:\n",
    "                for site in sites:\n",
    "                    if (structure_sites.iloc[site][clu_type] == ''):\n",
    "                        structure_sites.set_value(site, clu_type, set(sites.difference([site])))\n",
    "                    else:\n",
    "                        structure_sites.iloc[site][clu_type].update(set(sites.difference([site])))"
   ]
  },
  {
   "cell_type": "code",
   "execution_count": 47,
   "metadata": {
    "collapsed": true
   },
   "outputs": [],
   "source": [
    "structure_sites['1'] = structure_sites['1'].astype(int)"
   ]
  },
  {
   "cell_type": "code",
   "execution_count": 48,
   "metadata": {},
   "outputs": [
    {
     "data": {
      "text/html": [
       "<div>\n",
       "<style>\n",
       "    .dataframe thead tr:only-child th {\n",
       "        text-align: right;\n",
       "    }\n",
       "\n",
       "    .dataframe thead th {\n",
       "        text-align: left;\n",
       "    }\n",
       "\n",
       "    .dataframe tbody tr th {\n",
       "        vertical-align: top;\n",
       "    }\n",
       "</style>\n",
       "<table border=\"1\" class=\"dataframe\">\n",
       "  <thead>\n",
       "    <tr style=\"text-align: right;\">\n",
       "      <th></th>\n",
       "      <th>a</th>\n",
       "      <th>b</th>\n",
       "      <th>c</th>\n",
       "      <th>atom</th>\n",
       "      <th>site_index</th>\n",
       "      <th>x</th>\n",
       "      <th>y</th>\n",
       "      <th>z</th>\n",
       "      <th>1</th>\n",
       "      <th>2-1</th>\n",
       "      <th>2-2</th>\n",
       "      <th>2-3</th>\n",
       "      <th>2-4</th>\n",
       "      <th>2-5</th>\n",
       "      <th>2-6</th>\n",
       "      <th>2-7</th>\n",
       "      <th>2-8</th>\n",
       "      <th>2-9</th>\n",
       "      <th>2-10</th>\n",
       "      <th>2-11</th>\n",
       "      <th>2-12</th>\n",
       "    </tr>\n",
       "  </thead>\n",
       "  <tbody>\n",
       "    <tr>\n",
       "      <th>0</th>\n",
       "      <td>0.666967</td>\n",
       "      <td>0.106933</td>\n",
       "      <td>0.228233</td>\n",
       "      <td>Si,Al</td>\n",
       "      <td>0</td>\n",
       "      <td>8.389619</td>\n",
       "      <td>1.266397</td>\n",
       "      <td>3.370317</td>\n",
       "      <td>1</td>\n",
       "      <td>{13}</td>\n",
       "      <td>{4}</td>\n",
       "      <td>{28}</td>\n",
       "      <td>{18}</td>\n",
       "      <td>{22, 31}</td>\n",
       "      <td>{25}</td>\n",
       "      <td>{1, 3}</td>\n",
       "      <td>{89, 132}</td>\n",
       "      <td>{93, 30}</td>\n",
       "      <td>{34}</td>\n",
       "      <td>{2}</td>\n",
       "      <td>{19}</td>\n",
       "    </tr>\n",
       "    <tr>\n",
       "      <th>1</th>\n",
       "      <td>0.893067</td>\n",
       "      <td>0.560033</td>\n",
       "      <td>0.228233</td>\n",
       "      <td>Si,Al</td>\n",
       "      <td>1</td>\n",
       "      <td>8.383466</td>\n",
       "      <td>6.632413</td>\n",
       "      <td>3.370317</td>\n",
       "      <td>1</td>\n",
       "      <td>{2}</td>\n",
       "      <td>{34}</td>\n",
       "      <td>{13}</td>\n",
       "      <td>{7}</td>\n",
       "      <td>{16, 31}</td>\n",
       "      <td>{21}</td>\n",
       "      <td>{0, 3}</td>\n",
       "      <td>{170, 186}</td>\n",
       "      <td>{25, 246}</td>\n",
       "      <td>{19}</td>\n",
       "      <td>{28}</td>\n",
       "      <td>{4}</td>\n",
       "    </tr>\n",
       "    <tr>\n",
       "      <th>2</th>\n",
       "      <td>0.666967</td>\n",
       "      <td>0.560033</td>\n",
       "      <td>0.228233</td>\n",
       "      <td>Si,Al</td>\n",
       "      <td>2</td>\n",
       "      <td>5.291548</td>\n",
       "      <td>6.632413</td>\n",
       "      <td>3.370317</td>\n",
       "      <td>1</td>\n",
       "      <td>{1}</td>\n",
       "      <td>{16}</td>\n",
       "      <td>{3}</td>\n",
       "      <td>{21}</td>\n",
       "      <td>{34, 19}</td>\n",
       "      <td>{7}</td>\n",
       "      <td>{28, 13}</td>\n",
       "      <td>{14, 63}</td>\n",
       "      <td>{33, 90}</td>\n",
       "      <td>{31}</td>\n",
       "      <td>{0}</td>\n",
       "      <td>{22}</td>\n",
       "    </tr>\n",
       "    <tr>\n",
       "      <th>3</th>\n",
       "      <td>0.439967</td>\n",
       "      <td>0.333033</td>\n",
       "      <td>0.228233</td>\n",
       "      <td>Si,Al</td>\n",
       "      <td>3</td>\n",
       "      <td>3.739436</td>\n",
       "      <td>3.944076</td>\n",
       "      <td>3.370317</td>\n",
       "      <td>1</td>\n",
       "      <td>{28}</td>\n",
       "      <td>{19}</td>\n",
       "      <td>{2}</td>\n",
       "      <td>{33}</td>\n",
       "      <td>{16, 22}</td>\n",
       "      <td>{30}</td>\n",
       "      <td>{0, 1}</td>\n",
       "      <td>{8, 51}</td>\n",
       "      <td>{169, 21}</td>\n",
       "      <td>{4}</td>\n",
       "      <td>{13}</td>\n",
       "      <td>{34}</td>\n",
       "    </tr>\n",
       "    <tr>\n",
       "      <th>4</th>\n",
       "      <td>0.666367</td>\n",
       "      <td>0.106633</td>\n",
       "      <td>0.438433</td>\n",
       "      <td>Si,Al</td>\n",
       "      <td>4</td>\n",
       "      <td>8.383466</td>\n",
       "      <td>1.262844</td>\n",
       "      <td>6.474340</td>\n",
       "      <td>1</td>\n",
       "      <td>{22}</td>\n",
       "      <td>{0}</td>\n",
       "      <td>{31}</td>\n",
       "      <td>{89}</td>\n",
       "      <td>{28, 13}</td>\n",
       "      <td>{83}</td>\n",
       "      <td>{34, 19}</td>\n",
       "      <td>{18, 107}</td>\n",
       "      <td>{173, 86}</td>\n",
       "      <td>{3}</td>\n",
       "      <td>{16}</td>\n",
       "      <td>{1}</td>\n",
       "    </tr>\n",
       "    <tr>\n",
       "      <th>5</th>\n",
       "      <td>0.333033</td>\n",
       "      <td>0.439967</td>\n",
       "      <td>0.771767</td>\n",
       "      <td>Si,Al</td>\n",
       "      <td>5</td>\n",
       "      <td>1.545952</td>\n",
       "      <td>5.210484</td>\n",
       "      <td>11.396683</td>\n",
       "      <td>1</td>\n",
       "      <td>{23}</td>\n",
       "      <td>{8}</td>\n",
       "      <td>{32}</td>\n",
       "      <td>{15}</td>\n",
       "      <td>{29, 14}</td>\n",
       "      <td>{9}</td>\n",
       "      <td>{35, 20}</td>\n",
       "      <td>{19, 69}</td>\n",
       "      <td>{27, 84}</td>\n",
       "      <td>{26}</td>\n",
       "      <td>{10}</td>\n",
       "      <td>{17}</td>\n",
       "    </tr>\n",
       "    <tr>\n",
       "      <th>6</th>\n",
       "      <td>0.000300</td>\n",
       "      <td>0.773600</td>\n",
       "      <td>0.894900</td>\n",
       "      <td>Si,Al</td>\n",
       "      <td>6</td>\n",
       "      <td>-5.285387</td>\n",
       "      <td>9.161665</td>\n",
       "      <td>13.214988</td>\n",
       "      <td>1</td>\n",
       "      <td>{12}</td>\n",
       "      <td>{187}</td>\n",
       "      <td>{171}</td>\n",
       "      <td>{20}</td>\n",
       "      <td>{201, 138}</td>\n",
       "      <td>{10}</td>\n",
       "      <td>{168, 87}</td>\n",
       "      <td>{26, 181}</td>\n",
       "      <td>{176, 23}</td>\n",
       "      <td>{141}</td>\n",
       "      <td>{81}</td>\n",
       "      <td>{270}</td>\n",
       "    </tr>\n",
       "    <tr>\n",
       "      <th>7</th>\n",
       "      <td>0.999700</td>\n",
       "      <td>0.773300</td>\n",
       "      <td>0.105100</td>\n",
       "      <td>Si,Al</td>\n",
       "      <td>7</td>\n",
       "      <td>8.383459</td>\n",
       "      <td>9.158113</td>\n",
       "      <td>1.552012</td>\n",
       "      <td>1</td>\n",
       "      <td>{21}</td>\n",
       "      <td>{186}</td>\n",
       "      <td>{246}</td>\n",
       "      <td>{1}</td>\n",
       "      <td>{192, 63}</td>\n",
       "      <td>{2}</td>\n",
       "      <td>{249, 90}</td>\n",
       "      <td>{200, 34}</td>\n",
       "      <td>{244, 13}</td>\n",
       "      <td>{60}</td>\n",
       "      <td>{97}</td>\n",
       "      <td>{267}</td>\n",
       "    </tr>\n",
       "    <tr>\n",
       "      <th>8</th>\n",
       "      <td>0.333633</td>\n",
       "      <td>0.440267</td>\n",
       "      <td>0.561567</td>\n",
       "      <td>Si,Al</td>\n",
       "      <td>8</td>\n",
       "      <td>1.552106</td>\n",
       "      <td>5.214037</td>\n",
       "      <td>8.292660</td>\n",
       "      <td>1</td>\n",
       "      <td>{14}</td>\n",
       "      <td>{5}</td>\n",
       "      <td>{29}</td>\n",
       "      <td>{19}</td>\n",
       "      <td>{32, 23}</td>\n",
       "      <td>{16}</td>\n",
       "      <td>{17, 26}</td>\n",
       "      <td>{3, 15}</td>\n",
       "      <td>{22, 175}</td>\n",
       "      <td>{35}</td>\n",
       "      <td>{11}</td>\n",
       "      <td>{20}</td>\n",
       "    </tr>\n",
       "    <tr>\n",
       "      <th>9</th>\n",
       "      <td>0.000300</td>\n",
       "      <td>0.226700</td>\n",
       "      <td>0.894900</td>\n",
       "      <td>Si,Al</td>\n",
       "      <td>9</td>\n",
       "      <td>-1.545959</td>\n",
       "      <td>2.684785</td>\n",
       "      <td>13.214988</td>\n",
       "      <td>1</td>\n",
       "      <td>{15}</td>\n",
       "      <td>{205}</td>\n",
       "      <td>{240}</td>\n",
       "      <td>{23}</td>\n",
       "      <td>{69, 198}</td>\n",
       "      <td>{5}</td>\n",
       "      <td>{243, 84}</td>\n",
       "      <td>{193, 29}</td>\n",
       "      <td>{251, 20}</td>\n",
       "      <td>{66}</td>\n",
       "      <td>{78}</td>\n",
       "      <td>{273}</td>\n",
       "    </tr>\n",
       "  </tbody>\n",
       "</table>\n",
       "</div>"
      ],
      "text/plain": [
       "          a         b         c   atom  site_index         x         y  \\\n",
       "0  0.666967  0.106933  0.228233  Si,Al           0  8.389619  1.266397   \n",
       "1  0.893067  0.560033  0.228233  Si,Al           1  8.383466  6.632413   \n",
       "2  0.666967  0.560033  0.228233  Si,Al           2  5.291548  6.632413   \n",
       "3  0.439967  0.333033  0.228233  Si,Al           3  3.739436  3.944076   \n",
       "4  0.666367  0.106633  0.438433  Si,Al           4  8.383466  1.262844   \n",
       "5  0.333033  0.439967  0.771767  Si,Al           5  1.545952  5.210484   \n",
       "6  0.000300  0.773600  0.894900  Si,Al           6 -5.285387  9.161665   \n",
       "7  0.999700  0.773300  0.105100  Si,Al           7  8.383459  9.158113   \n",
       "8  0.333633  0.440267  0.561567  Si,Al           8  1.552106  5.214037   \n",
       "9  0.000300  0.226700  0.894900  Si,Al           9 -1.545959  2.684785   \n",
       "\n",
       "           z  1   2-1    2-2    2-3   2-4         2-5   2-6        2-7  \\\n",
       "0   3.370317  1  {13}    {4}   {28}  {18}    {22, 31}  {25}     {1, 3}   \n",
       "1   3.370317  1   {2}   {34}   {13}   {7}    {16, 31}  {21}     {0, 3}   \n",
       "2   3.370317  1   {1}   {16}    {3}  {21}    {34, 19}   {7}   {28, 13}   \n",
       "3   3.370317  1  {28}   {19}    {2}  {33}    {16, 22}  {30}     {0, 1}   \n",
       "4   6.474340  1  {22}    {0}   {31}  {89}    {28, 13}  {83}   {34, 19}   \n",
       "5  11.396683  1  {23}    {8}   {32}  {15}    {29, 14}   {9}   {35, 20}   \n",
       "6  13.214988  1  {12}  {187}  {171}  {20}  {201, 138}  {10}  {168, 87}   \n",
       "7   1.552012  1  {21}  {186}  {246}   {1}   {192, 63}   {2}  {249, 90}   \n",
       "8   8.292660  1  {14}    {5}   {29}  {19}    {32, 23}  {16}   {17, 26}   \n",
       "9  13.214988  1  {15}  {205}  {240}  {23}   {69, 198}   {5}  {243, 84}   \n",
       "\n",
       "          2-8        2-9   2-10  2-11   2-12  \n",
       "0   {89, 132}   {93, 30}   {34}   {2}   {19}  \n",
       "1  {170, 186}  {25, 246}   {19}  {28}    {4}  \n",
       "2    {14, 63}   {33, 90}   {31}   {0}   {22}  \n",
       "3     {8, 51}  {169, 21}    {4}  {13}   {34}  \n",
       "4   {18, 107}  {173, 86}    {3}  {16}    {1}  \n",
       "5    {19, 69}   {27, 84}   {26}  {10}   {17}  \n",
       "6   {26, 181}  {176, 23}  {141}  {81}  {270}  \n",
       "7   {200, 34}  {244, 13}   {60}  {97}  {267}  \n",
       "8     {3, 15}  {22, 175}   {35}  {11}   {20}  \n",
       "9   {193, 29}  {251, 20}   {66}  {78}  {273}  "
      ]
     },
     "execution_count": 48,
     "metadata": {},
     "output_type": "execute_result"
    }
   ],
   "source": [
    "structure_sites.head(10)"
   ]
  },
  {
   "cell_type": "markdown",
   "metadata": {},
   "source": [
    "Create column of good sites and bad sites in structure_sites dataframe"
   ]
  },
  {
   "cell_type": "code",
   "execution_count": 49,
   "metadata": {},
   "outputs": [
    {
     "ename": "KeyError",
     "evalue": "('bad_types', 'occurred at index 0')",
     "output_type": "error",
     "traceback": [
      "\u001b[0;31m---------------------------------------------------------------------------\u001b[0m",
      "\u001b[0;31mKeyError\u001b[0m                                  Traceback (most recent call last)",
      "\u001b[0;32m<ipython-input-49-5d3c11303874>\u001b[0m in \u001b[0;36m<module>\u001b[0;34m()\u001b[0m\n\u001b[0;32m----> 1\u001b[0;31m \u001b[0mstructure_sites\u001b[0m\u001b[0;34m[\u001b[0m\u001b[0;34m'bad_sites'\u001b[0m\u001b[0;34m]\u001b[0m \u001b[0;34m=\u001b[0m \u001b[0mstructure_sites\u001b[0m\u001b[0;34m.\u001b[0m\u001b[0mapply\u001b[0m\u001b[0;34m(\u001b[0m\u001b[0;32mlambda\u001b[0m \u001b[0mrow\u001b[0m\u001b[0;34m:\u001b[0m \u001b[0mreduce\u001b[0m\u001b[0;34m(\u001b[0m\u001b[0;34m(\u001b[0m\u001b[0;32mlambda\u001b[0m \u001b[0mx\u001b[0m\u001b[0;34m,\u001b[0m \u001b[0my\u001b[0m\u001b[0;34m:\u001b[0m \u001b[0mset\u001b[0m\u001b[0;34m.\u001b[0m\u001b[0munion\u001b[0m\u001b[0;34m(\u001b[0m\u001b[0mx\u001b[0m\u001b[0;34m,\u001b[0m\u001b[0mrow\u001b[0m\u001b[0;34m[\u001b[0m\u001b[0my\u001b[0m\u001b[0;34m]\u001b[0m\u001b[0;34m)\u001b[0m\u001b[0;34m)\u001b[0m\u001b[0;34m,\u001b[0m \u001b[0mstructure\u001b[0m\u001b[0;34m[\u001b[0m\u001b[0;34m'bad_types'\u001b[0m\u001b[0;34m]\u001b[0m\u001b[0;34m,\u001b[0m \u001b[0mset\u001b[0m\u001b[0;34m(\u001b[0m\u001b[0;34m)\u001b[0m\u001b[0;34m)\u001b[0m\u001b[0;34m,\u001b[0m \u001b[0maxis\u001b[0m \u001b[0;34m=\u001b[0m \u001b[0;36m1\u001b[0m\u001b[0;34m)\u001b[0m\u001b[0;34m\u001b[0m\u001b[0m\n\u001b[0m",
      "\u001b[0;32m/anaconda/lib/python3.6/site-packages/pandas/core/frame.py\u001b[0m in \u001b[0;36mapply\u001b[0;34m(self, func, axis, broadcast, raw, reduce, args, **kwds)\u001b[0m\n\u001b[1;32m   4260\u001b[0m                         \u001b[0mf\u001b[0m\u001b[0;34m,\u001b[0m \u001b[0maxis\u001b[0m\u001b[0;34m,\u001b[0m\u001b[0;34m\u001b[0m\u001b[0m\n\u001b[1;32m   4261\u001b[0m                         \u001b[0mreduce\u001b[0m\u001b[0;34m=\u001b[0m\u001b[0mreduce\u001b[0m\u001b[0;34m,\u001b[0m\u001b[0;34m\u001b[0m\u001b[0m\n\u001b[0;32m-> 4262\u001b[0;31m                         ignore_failures=ignore_failures)\n\u001b[0m\u001b[1;32m   4263\u001b[0m             \u001b[0;32melse\u001b[0m\u001b[0;34m:\u001b[0m\u001b[0;34m\u001b[0m\u001b[0m\n\u001b[1;32m   4264\u001b[0m                 \u001b[0;32mreturn\u001b[0m \u001b[0mself\u001b[0m\u001b[0;34m.\u001b[0m\u001b[0m_apply_broadcast\u001b[0m\u001b[0;34m(\u001b[0m\u001b[0mf\u001b[0m\u001b[0;34m,\u001b[0m \u001b[0maxis\u001b[0m\u001b[0;34m)\u001b[0m\u001b[0;34m\u001b[0m\u001b[0m\n",
      "\u001b[0;32m/anaconda/lib/python3.6/site-packages/pandas/core/frame.py\u001b[0m in \u001b[0;36m_apply_standard\u001b[0;34m(self, func, axis, ignore_failures, reduce)\u001b[0m\n\u001b[1;32m   4356\u001b[0m             \u001b[0;32mtry\u001b[0m\u001b[0;34m:\u001b[0m\u001b[0;34m\u001b[0m\u001b[0m\n\u001b[1;32m   4357\u001b[0m                 \u001b[0;32mfor\u001b[0m \u001b[0mi\u001b[0m\u001b[0;34m,\u001b[0m \u001b[0mv\u001b[0m \u001b[0;32min\u001b[0m \u001b[0menumerate\u001b[0m\u001b[0;34m(\u001b[0m\u001b[0mseries_gen\u001b[0m\u001b[0;34m)\u001b[0m\u001b[0;34m:\u001b[0m\u001b[0;34m\u001b[0m\u001b[0m\n\u001b[0;32m-> 4358\u001b[0;31m                     \u001b[0mresults\u001b[0m\u001b[0;34m[\u001b[0m\u001b[0mi\u001b[0m\u001b[0;34m]\u001b[0m \u001b[0;34m=\u001b[0m \u001b[0mfunc\u001b[0m\u001b[0;34m(\u001b[0m\u001b[0mv\u001b[0m\u001b[0;34m)\u001b[0m\u001b[0;34m\u001b[0m\u001b[0m\n\u001b[0m\u001b[1;32m   4359\u001b[0m                     \u001b[0mkeys\u001b[0m\u001b[0;34m.\u001b[0m\u001b[0mappend\u001b[0m\u001b[0;34m(\u001b[0m\u001b[0mv\u001b[0m\u001b[0;34m.\u001b[0m\u001b[0mname\u001b[0m\u001b[0;34m)\u001b[0m\u001b[0;34m\u001b[0m\u001b[0m\n\u001b[1;32m   4360\u001b[0m             \u001b[0;32mexcept\u001b[0m \u001b[0mException\u001b[0m \u001b[0;32mas\u001b[0m \u001b[0me\u001b[0m\u001b[0;34m:\u001b[0m\u001b[0;34m\u001b[0m\u001b[0m\n",
      "\u001b[0;32m<ipython-input-49-5d3c11303874>\u001b[0m in \u001b[0;36m<lambda>\u001b[0;34m(row)\u001b[0m\n\u001b[0;32m----> 1\u001b[0;31m \u001b[0mstructure_sites\u001b[0m\u001b[0;34m[\u001b[0m\u001b[0;34m'bad_sites'\u001b[0m\u001b[0;34m]\u001b[0m \u001b[0;34m=\u001b[0m \u001b[0mstructure_sites\u001b[0m\u001b[0;34m.\u001b[0m\u001b[0mapply\u001b[0m\u001b[0;34m(\u001b[0m\u001b[0;32mlambda\u001b[0m \u001b[0mrow\u001b[0m\u001b[0;34m:\u001b[0m \u001b[0mreduce\u001b[0m\u001b[0;34m(\u001b[0m\u001b[0;34m(\u001b[0m\u001b[0;32mlambda\u001b[0m \u001b[0mx\u001b[0m\u001b[0;34m,\u001b[0m \u001b[0my\u001b[0m\u001b[0;34m:\u001b[0m \u001b[0mset\u001b[0m\u001b[0;34m.\u001b[0m\u001b[0munion\u001b[0m\u001b[0;34m(\u001b[0m\u001b[0mx\u001b[0m\u001b[0;34m,\u001b[0m\u001b[0mrow\u001b[0m\u001b[0;34m[\u001b[0m\u001b[0my\u001b[0m\u001b[0;34m]\u001b[0m\u001b[0;34m)\u001b[0m\u001b[0;34m)\u001b[0m\u001b[0;34m,\u001b[0m \u001b[0mstructure\u001b[0m\u001b[0;34m[\u001b[0m\u001b[0;34m'bad_types'\u001b[0m\u001b[0;34m]\u001b[0m\u001b[0;34m,\u001b[0m \u001b[0mset\u001b[0m\u001b[0;34m(\u001b[0m\u001b[0;34m)\u001b[0m\u001b[0;34m)\u001b[0m\u001b[0;34m,\u001b[0m \u001b[0maxis\u001b[0m \u001b[0;34m=\u001b[0m \u001b[0;36m1\u001b[0m\u001b[0;34m)\u001b[0m\u001b[0;34m\u001b[0m\u001b[0m\n\u001b[0m",
      "\u001b[0;31mKeyError\u001b[0m: ('bad_types', 'occurred at index 0')"
     ]
    }
   ],
   "source": [
    "structure_sites['bad_sites'] = structure_sites.apply(lambda row: reduce((lambda x, y: set.union(x,row[y])), structure['bad_types'], set()), axis = 1)"
   ]
  },
  {
   "cell_type": "code",
   "execution_count": null,
   "metadata": {
    "collapsed": true
   },
   "outputs": [],
   "source": [
    "structure_sites['good_sites'] = structure_sites.apply(lambda row: reduce((lambda x, y: set.union(x,row[y])), structure['good_types'], set()), axis = 1)"
   ]
  },
  {
   "cell_type": "code",
   "execution_count": null,
   "metadata": {},
   "outputs": [],
   "source": [
    "structure_sites.head()"
   ]
  },
  {
   "cell_type": "markdown",
   "metadata": {},
   "source": [
    "#### 12. Randomly generate structure for any given Si/Al ratio"
   ]
  },
  {
   "cell_type": "code",
   "execution_count": null,
   "metadata": {
    "collapsed": true
   },
   "outputs": [],
   "source": [
    "Si_Al_ratio = 2"
   ]
  },
  {
   "cell_type": "code",
   "execution_count": null,
   "metadata": {
    "collapsed": true
   },
   "outputs": [],
   "source": [
    "Al_conc = 1/(1+Si_Al_ratio)"
   ]
  },
  {
   "cell_type": "code",
   "execution_count": null,
   "metadata": {},
   "outputs": [],
   "source": [
    "available_sites = set(structure_sites.site_index)\n",
    "structure_vector = np.zeros((len(available_sites), 1))\n",
    "Al_number = int(Al_conc*len(available_sites))\n",
    "selected_sites = []\n",
    "Al_count = 0\n",
    "while((Al_count < Al_number) & (len(available_sites) > 0)):\n",
    "    #random select one site from all the available sites\n",
    "    site = random.sample(available_sites, 1)[0]\n",
    "    \n",
    "    #add selected site to the list\n",
    "    selected_sites.append(site)\n",
    "    \n",
    "    #find out the bad sites for the selected site\n",
    "    bad_sites = structure_sites.iloc[site]['2-1']\n",
    "    \n",
    "    #remove the selected site and the coresponding bad sites from available sites\n",
    "    available_sites.remove(site)\n",
    "    available_sites = available_sites.difference(bad_sites)\n",
    "    \n",
    "    Al_count += 1\n",
    "if(len(selected_sites) == Al_number):\n",
    "    print(selected_sites)\n",
    "else:\n",
    "    print('Failed')\n",
    "structure_vector[selected_sites] = 1"
   ]
  },
  {
   "cell_type": "code",
   "execution_count": null,
   "metadata": {
    "collapsed": true
   },
   "outputs": [],
   "source": [
    "all_sites = structure_sites.append(O_sites)[['a', 'b', 'c', 'site_index', 'atom']]"
   ]
  },
  {
   "cell_type": "code",
   "execution_count": null,
   "metadata": {
    "collapsed": true
   },
   "outputs": [],
   "source": [
    "all_sites['x'] = all_sites.apply(lambda row: frac_to_xyz(axes_xyz, [row.a, row.b, row.c])[0], axis=1)\n",
    "all_sites['y'] = all_sites.apply(lambda row: frac_to_xyz(axes_xyz, [row.a, row.b, row.c])[1], axis=1)\n",
    "all_sites['z'] = all_sites.apply(lambda row: frac_to_xyz(axes_xyz, [row.a, row.b, row.c])[2], axis=1)"
   ]
  },
  {
   "cell_type": "code",
   "execution_count": null,
   "metadata": {},
   "outputs": [],
   "source": [
    "all_sites.head()"
   ]
  },
  {
   "cell_type": "code",
   "execution_count": null,
   "metadata": {
    "collapsed": true
   },
   "outputs": [],
   "source": [
    "if os.path.isfile('random_structure.xyz'):\n",
    "    os.remove('random_structure.xyz')\n",
    "with open('random_structure.xyz', 'a') as file:\n",
    "    file.write('{}\\n'.format(len(all_sites.index)))\n",
    "    file.write('\\n')\n",
    "    for index, row in all_sites.iterrows():\n",
    "        if isnan(row.site_index):\n",
    "            file.write('O {} {} {}\\n'.format(row.x, row.y, row.z))\n",
    "        elif structure_vector[int(row.site_index)] == 0:\n",
    "            file.write('Si {} {} {}\\n'.format(row.x, row.y, row.z))\n",
    "        else:\n",
    "            file.write('Al {} {} {}\\n'.format(row.x, row.y, row.z))\n"
   ]
  },
  {
   "cell_type": "code",
   "execution_count": null,
   "metadata": {
    "collapsed": true
   },
   "outputs": [],
   "source": [
    "extended_all_sites = pd.DataFrame(columns=all_sites.columns)\n",
    "for i in range(0, 2):\n",
    "    for j in range(0, 2):\n",
    "        for k in range(0, 2):\n",
    "            sites = pd.DataFrame(columns=all_sites.columns)\n",
    "            delta = list(np.array(lattice['u'])*i + np.array(lattice['v'])*j + np.array(lattice['w'])*k)\n",
    "            sites['a'] = all_sites.a + delta[0]\n",
    "            sites['b'] = all_sites.b + delta[1]\n",
    "            sites['c'] = all_sites.c + delta[2]\n",
    "            sites['atom'] = all_sites.atom\n",
    "            sites['site_index'] = all_sites.site_index\n",
    "            extended_all_sites = extended_all_sites.append(sites)"
   ]
  },
  {
   "cell_type": "code",
   "execution_count": null,
   "metadata": {
    "collapsed": true
   },
   "outputs": [],
   "source": [
    "extended_all_sites['x'] = extended_all_sites.apply(lambda row: frac_to_xyz(axes_xyz, [row.a, row.b, row.c])[0], axis=1)\n",
    "extended_all_sites['y'] = extended_all_sites.apply(lambda row: frac_to_xyz(axes_xyz, [row.a, row.b, row.c])[1], axis=1)\n",
    "extended_all_sites['z'] = extended_all_sites.apply(lambda row: frac_to_xyz(axes_xyz, [row.a, row.b, row.c])[2], axis=1)"
   ]
  },
  {
   "cell_type": "code",
   "execution_count": null,
   "metadata": {
    "collapsed": true
   },
   "outputs": [],
   "source": [
    "if os.path.isfile('extended_random_structure.xyz'):\n",
    "    os.remove('extended_random_structure.xyz')\n",
    "with open('extended_random_structure.xyz', 'a') as file:\n",
    "    file.write('{}\\n'.format(len(extended_all_sites.index)))\n",
    "    file.write('\\n')\n",
    "    for index, row in extended_all_sites.iterrows():\n",
    "        if isnan(row.site_index):\n",
    "            file.write('O {} {} {}\\n'.format(row.x, row.y, row.z))\n",
    "        elif structure_vector[int(row.site_index)] == 0:\n",
    "            file.write('Si {} {} {}\\n'.format(row.x, row.y, row.z))\n",
    "        else:\n",
    "            file.write('Al {} {} {}\\n'.format(row.x, row.y, row.z))\n",
    "\n"
   ]
  },
  {
   "cell_type": "markdown",
   "metadata": {},
   "source": [
    "#### 13. Count clusters during copper titration"
   ]
  },
  {
   "cell_type": "markdown",
   "metadata": {},
   "source": [
    "Create a dictionary includes all the clusters and their corresponding type"
   ]
  },
  {
   "cell_type": "code",
   "execution_count": null,
   "metadata": {
    "collapsed": true
   },
   "outputs": [],
   "source": [
    "cluster_type_dict = {}\n",
    "for cluster_type, cluster_sets in clusters.items():\n",
    "    for cluster in cluster_sets:\n",
    "        cluster_type_dict[cluster] = cluster_type"
   ]
  },
  {
   "cell_type": "markdown",
   "metadata": {},
   "source": [
    "Create a set contains all good clusters"
   ]
  },
  {
   "cell_type": "code",
   "execution_count": null,
   "metadata": {
    "collapsed": true
   },
   "outputs": [],
   "source": [
    "#all the clusters of interest\n",
    "all_good_clusters = reduce((lambda x, y: set.union(x,clusters[y])), structure['good_types'], set())"
   ]
  },
  {
   "cell_type": "code",
   "execution_count": null,
   "metadata": {},
   "outputs": [],
   "source": [
    "len(all_good_clusters)"
   ]
  },
  {
   "cell_type": "markdown",
   "metadata": {},
   "source": [
    "Create a set contains only existing good clusters"
   ]
  },
  {
   "cell_type": "code",
   "execution_count": null,
   "metadata": {
    "collapsed": true
   },
   "outputs": [],
   "source": [
    "available_good_clusters = set()\n",
    "for cluster in all_good_clusters:\n",
    "    exist = 1\n",
    "    for site in cluster:\n",
    "        if structure_vector[site] == 0:\n",
    "            exist = 0\n",
    "            break\n",
    "    if exist == 1:\n",
    "        available_good_clusters.add(cluster)"
   ]
  },
  {
   "cell_type": "code",
   "execution_count": null,
   "metadata": {},
   "outputs": [],
   "source": [
    "len(available_good_clusters)"
   ]
  },
  {
   "cell_type": "markdown",
   "metadata": {},
   "source": [
    "Copper titration"
   ]
  },
  {
   "cell_type": "code",
   "execution_count": null,
   "metadata": {},
   "outputs": [],
   "source": [
    "copper_count = 0\n",
    "selected_clusters = set()\n",
    "while(len(available_good_clusters)>0):\n",
    "    #randomly select a cluster from the clusters of interest\n",
    "    cluster = random.sample(available_good_clusters, 1)[0]\n",
    "    \n",
    "    #add selected clusters to list\n",
    "    selected_clusters.add(cluster)\n",
    "    print(cluster)\n",
    "    #remove selected clusters from the clusters of interest\n",
    "    available_good_clusters.remove(cluster)\n",
    "    \n",
    "    #remove other clusters that share elements with the selected cluster\n",
    "    for site in cluster:\n",
    "        for pair_site in structure_sites.iloc[site].good_sites:\n",
    "            relevant_cluster = frozenset([site, pair_site])\n",
    "            if relevant_cluster in available_good_clusters:\n",
    "                available_good_clusters.remove(relevant_cluster)\n",
    "\n",
    "    copper_count += 1"
   ]
  },
  {
   "cell_type": "code",
   "execution_count": null,
   "metadata": {},
   "outputs": [],
   "source": [
    "copper_count"
   ]
  },
  {
   "cell_type": "code",
   "execution_count": null,
   "metadata": {},
   "outputs": [],
   "source": [
    "selected_clusters"
   ]
  },
  {
   "cell_type": "markdown",
   "metadata": {},
   "source": [
    "Count the clusters for each cluster type"
   ]
  },
  {
   "cell_type": "code",
   "execution_count": null,
   "metadata": {
    "collapsed": true
   },
   "outputs": [],
   "source": [
    "cu_occupied_cluster_number = defaultdict(lambda: 0)\n",
    "for cluster in selected_clusters:\n",
    "    cluster_type = cluster_type_dict[cluster]\n",
    "    cu_occupied_cluster_number[cluster_type] += 1"
   ]
  },
  {
   "cell_type": "code",
   "execution_count": null,
   "metadata": {},
   "outputs": [],
   "source": [
    "cu_occupied_cluster_number"
   ]
  },
  {
   "cell_type": "markdown",
   "metadata": {},
   "source": [
    "#### 14. Cu/Al for different Si/Al ratios"
   ]
  },
  {
   "cell_type": "code",
   "execution_count": null,
   "metadata": {
    "collapsed": true
   },
   "outputs": [],
   "source": [
    "def titration(Si_Al_ratio, structure_number, titration_number, structure, clusters):\n",
    "    all_good_clusters = reduce((lambda x, y: set.union(x,clusters[y])), structure['good_types'], set())\n",
    "    \n",
    "    Al_conc = 1/(1+Si_Al_ratio)\n",
    "    Al_number = int(Al_conc*len(structure_sites.index))\n",
    "    \n",
    "    cu_occupied_clusters = defaultdict(lambda: [])\n",
    "    \n",
    "    s_count = 0\n",
    "    failed_count = 0\n",
    "    while(s_count < structure_number):\n",
    "        available_sites = set(structure_sites.site_index)\n",
    "        structure_vector = np.zeros((len(available_sites), 1))\n",
    "        selected_sites = []\n",
    "        Al_count = 0\n",
    "        while((Al_count < Al_number) & (len(available_sites) > 0)):\n",
    "            site = random.sample(available_sites, 1)[0]\n",
    "            selected_sites.append(site)\n",
    "            bad_sites = structure_sites.iloc[site]['bad_sites']\n",
    "            available_sites.remove(site)\n",
    "            available_sites = available_sites.difference(bad_sites)\n",
    "            Al_count += 1\n",
    "        if(len(selected_sites) != Al_number):\n",
    "            failed_count += 1\n",
    "            if failed_count > 100*structure_number:\n",
    "                print('Error! Too hard to generate a random structure based on the Si/Al ratio.')\n",
    "                return\n",
    "            else:\n",
    "                continue\n",
    "        else:\n",
    "            #start copper titration\n",
    "            structure_vector[selected_sites] = 1\n",
    "            s_count += 1\n",
    "            \n",
    "            available_good_clusters = set()\n",
    "            for cluster in all_good_clusters:\n",
    "                exist = 1\n",
    "                for site in cluster:\n",
    "                    if structure_vector[site] == 0:\n",
    "                        exist = 0\n",
    "                        break\n",
    "                if exist == 1:\n",
    "                    available_good_clusters.add(cluster)\n",
    "            \n",
    "            t_count = 0\n",
    "            while(t_count < titration_number):\n",
    "                copper_count = 0\n",
    "                temp = defaultdict(lambda: 0)\n",
    "                selected_clusters = set()\n",
    "                new_good_clusters = deepcopy(available_good_clusters)\n",
    "                while(len(new_good_clusters)>0):\n",
    "                    cluster = random.sample(new_good_clusters, 1)[0]\n",
    "                    selected_clusters.add(cluster)\n",
    "                    new_good_clusters.remove(cluster)\n",
    "                    for site in cluster:\n",
    "                        for pair_site in structure_sites.iloc[site].good_sites:\n",
    "                            relevant_cluster = frozenset([site, pair_site])\n",
    "                            if relevant_cluster in new_good_clusters:\n",
    "                                new_good_clusters.remove(relevant_cluster)\n",
    "                    copper_count += 1\n",
    "                \n",
    "                t_count += 1    \n",
    "                for cluster in selected_clusters:\n",
    "                    cluster_type = cluster_type_dict[cluster]\n",
    "                    temp[cluster_type] += 1\n",
    "                cu_occupied_clusters['copper_count'].append(copper_count)\n",
    "                for cluster_type in structure['good_types']:\n",
    "                    cu_occupied_clusters[cluster_type].append(temp[cluster_type])\n",
    "    \n",
    "    for key, valuelist in cu_occupied_clusters.items():\n",
    "        cu_occupied_clusters[key] = {}\n",
    "        cu_occupied_clusters[key]['mean'] = np.mean(valuelist)\n",
    "        cu_occupied_clusters[key]['std'] = np.std(valuelist)\n",
    "\n",
    "    return cu_occupied_clusters"
   ]
  },
  {
   "cell_type": "code",
   "execution_count": null,
   "metadata": {},
   "outputs": [],
   "source": [
    "#Si/Al ratio = 5\n",
    "start = timer()\n",
    "cu_occupied_clusters= titration(20,1000,100,structure,clusters)\n",
    "end = timer()\n",
    "print(end - start) "
   ]
  },
  {
   "cell_type": "code",
   "execution_count": null,
   "metadata": {},
   "outputs": [],
   "source": [
    "cu_occupied_clusters"
   ]
  },
  {
   "cell_type": "code",
   "execution_count": null,
   "metadata": {
    "collapsed": true
   },
   "outputs": [],
   "source": [
    "Si_Al_ratios = [2.5, 5, 7.5, 10, 15, 20, 25, 30, 35, 40]\n",
    "\n",
    "columns = ['si_al', 'cu_al_mean', 'cu_al_std'] + reduce((lambda x, y: x+[y+'_mean', y+'_std']), structure['good_types'], [])\n",
    "copper_titration = pd.DataFrame(columns=columns)\n",
    "copper_titration['si_al'] = Si_Al_ratios\n",
    "copper_titration.fillna(0, inplace=True)"
   ]
  },
  {
   "cell_type": "code",
   "execution_count": null,
   "metadata": {},
   "outputs": [],
   "source": [
    "copper_titration"
   ]
  },
  {
   "cell_type": "code",
   "execution_count": null,
   "metadata": {
    "scrolled": true
   },
   "outputs": [],
   "source": [
    "start = timer()\n",
    "\n",
    "for index, si_al in enumerate(Si_Al_ratios[5:]):\n",
    "    print(si_al)\n",
    "    Al_number = int(1/(1+si_al)*len(structure_sites.site_index))\n",
    "    cu_occupied_clusters =  titration(si_al,500,100,structure,clusters)\n",
    "    copper_titration.loc[index, 'cu_al_mean'] = cu_occupied_clusters['copper_count']['mean']/Al_number\n",
    "    copper_titration.loc[index, 'cu_al_std'] = cu_occupied_clusters['copper_count']['std']/Al_number\n",
    "    for clu_type in structure['good_types']:\n",
    "        copper_titration.loc[index, clu_type+'_mean'] = cu_occupied_clusters[clu_type]['mean']/Al_number\n",
    "        copper_titration.loc[index, clu_type+'_std'] = cu_occupied_clusters[clu_type]['std']/Al_number\n",
    "\n",
    "end = timer()\n",
    "print(end - start) "
   ]
  },
  {
   "cell_type": "code",
   "execution_count": null,
   "metadata": {},
   "outputs": [],
   "source": [
    "copper_titration"
   ]
  },
  {
   "cell_type": "code",
   "execution_count": null,
   "metadata": {},
   "outputs": [],
   "source": [
    "plt.plot(copper_titration.si_al, copper_titration.cu_al_mean,'ro-');\n",
    "plt.xlabel('Si/Al', fontsize=16)\n",
    "plt.ylabel('Cu/Al', fontsize=16)\n",
    "plt.errorbar(copper_titration.si_al, copper_titration.cu_al_mean, yerr=copper_titration.cu_al_std,capsize=3);"
   ]
  },
  {
   "cell_type": "code",
   "execution_count": null,
   "metadata": {
    "collapsed": true
   },
   "outputs": [],
   "source": [
    "#pickle.dump(copper_titration, open('copper_titration.pkl', 'wb'))"
   ]
  },
  {
   "cell_type": "code",
   "execution_count": null,
   "metadata": {
    "collapsed": true
   },
   "outputs": [],
   "source": []
  }
 ],
 "metadata": {
  "kernelspec": {
   "display_name": "Python 3",
   "language": "python",
   "name": "python3"
  },
  "language_info": {
   "codemirror_mode": {
    "name": "ipython",
    "version": 3
   },
   "file_extension": ".py",
   "mimetype": "text/x-python",
   "name": "python",
   "nbconvert_exporter": "python",
   "pygments_lexer": "ipython3",
   "version": "3.6.1"
  }
 },
 "nbformat": 4,
 "nbformat_minor": 2
}
