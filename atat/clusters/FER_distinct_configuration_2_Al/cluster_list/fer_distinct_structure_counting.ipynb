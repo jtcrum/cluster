{
 "cells": [
  {
   "cell_type": "markdown",
   "metadata": {},
   "source": [
    "The objective of this jupyter notebook is to count the distinct structures for 2 Al atoms in one cell with 72 T sites."
   ]
  },
  {
   "cell_type": "markdown",
   "metadata": {},
   "source": [
    "The codes have 14 sections.  \n",
    "1. Modification of ATAT  \n",
    "2. Prepare lattice input file (lat.in)  \n",
    "3. Read lattice input file (lat.in)  \n",
    "4. Functions to convert between fractional coordinates and xyz coordinates  \n",
    "5. Prepare structure requirements input file (str_req.txt)  \n",
    "6. Read structure requirements input file (str_req.txt)  \n",
    "7. Function to find the site index for any given fractional coordinates  \n",
    "8. Create str.out file  \n",
    "9. Run corrdump to generate cluster list into cluster_list.csv file  \n",
    "10. Read cluster_list.csv  \n",
    "11. Count distinct structures for 2Al atoms "
   ]
  },
  {
   "cell_type": "markdown",
   "metadata": {},
   "source": [
    "#### 1. Modification of ATAT"
   ]
  },
  {
   "cell_type": "markdown",
   "metadata": {},
   "source": [
    "Before we run the codes, we have to modify ATAT files to output the cluster list when we run corrdump to count clusters. Corrdump has many parameters. Here we will only set the maximum distance between two points within a pair (-2=[real]), with other parameters being default. The modification of ATAT contains 2 parts: one is in calccorr.c++ file and the other is in corrdump.c++ file. After the modifications, **corrdump will output the xyz coordinates for all the clusters in a structure inspite of the atom occupations.**\n",
    "\n",
    "Note: If you also want to set other parameters, you may need to make more modifications."
   ]
  },
  {
   "cell_type": "markdown",
   "metadata": {},
   "source": [
    "a) In file calccorr.c++, please modify the following function (around line 200) as below. The modified lines have comments at the end."
   ]
  },
  {
   "cell_type": "raw",
   "metadata": {},
   "source": [
    "Real calc_correlation(const Structure &str, const Array<MultiCluster> &clusters, const rMatrix3d &cell, const Array<Array<Array<Real> > > &corrfunc) {\n",
    "  Real accum=0.;\n",
    "  int count=0;\n",
    "  rMatrix3d inv_strcell=!str.cell;\n",
    "  LatticePointInCellIterator t(cell,str.cell);\n",
    "  for ( ;t; t++) {\n",
    "    for (int c=0; c<clusters.get_size(); c++) {\n",
    "      Real sigma=1.;\n",
    "      for (int at=0; at<clusters(c).clus.get_size(); at++) {\n",
    "        Real spin=corrfunc(clusters(c).site_type(at))(clusters(c).func(at))(str.atom_type(which_atom(str.atom_pos,t+clusters(c).clus(at),inv_strcell)));\n",
    "        sigma=sigma*0.5*(spin+1); //change the correlation function; changed by Tong; original: sigma=sigma*spin; \n",
    "        cout<<t+clusters(c).clus(at)<<endl; //output the coordinates of the sites in clusters; added by Tong\n",
    "      }\n",
    "      accum+=sigma;\n",
    "      count++;\n",
    "    }\n",
    "  }\n",
    "  return accum/(Real)count;\n",
    "}\n"
   ]
  },
  {
   "cell_type": "markdown",
   "metadata": {},
   "source": [
    "b) In file corrdump.c++, please modify the following code block (around line 460). The modified lines have comments at the end."
   ]
  },
  {
   "cell_type": "raw",
   "metadata": {},
   "source": [
    "    else {\n",
    "      int ieci=0;\n",
    "      LinkedListIterator<Array<MultiCluster> > icluster(eq_clusterlist);\n",
    "      Tensor<int> tab_str;\n",
    "      for ( ; icluster; icluster++, ieci++) {\n",
    "        //the following codes are added by Tong\n",
    "        if (icluster->get_size()>0) {\n",
    "          cout << (*icluster)[0].clus.get_size() << endl;\n",
    "        }\n",
    "        else {\n",
    "          cout << \"0\" << endl;\n",
    "        }\n",
    "        cout << icluster->get_size() << endl;\n",
    "        //finish adding by Tong\n",
    "      \tReal rho;\n",
    "      \tif (fastalgo) {\n",
    "      \t  rho=calc_correlation_fast(&tab_str, ideal_str,*icluster,lattice,*pcorrfunc);\n",
    "      \t}\n",
    "      \telse {\n",
    "      \t  rho=calc_correlation(ideal_str, *icluster, spacegroup.cell, *pcorrfunc);\n",
    "      \t}\n",
    "        if (strlen(ecifile)>0) {\n",
    "      \t  pred+=eci(ieci)*(multincl ? 1 : icluster->get_size())*rho;\n",
    "      \t}\n",
    "      \telse {\n",
    "      \t  if (!doconc) {cout << rho << delim;}\n",
    "      \t}\n",
    "        cout << endl;"
   ]
  },
  {
   "cell_type": "markdown",
   "metadata": {},
   "source": [
    "c) After you modify the ATAT codes, you have to reinstall the ATAT **in terminal**. It should contain the following two commands."
   ]
  },
  {
   "cell_type": "raw",
   "metadata": {},
   "source": [
    "make  \n",
    "make install"
   ]
  },
  {
   "cell_type": "markdown",
   "metadata": {},
   "source": [
    "Python codes start here"
   ]
  },
  {
   "cell_type": "code",
   "execution_count": 1,
   "metadata": {
    "collapsed": true
   },
   "outputs": [],
   "source": [
    "import pandas as pd\n",
    "import numpy as np\n",
    "import copy\n",
    "from math import *\n",
    "import os\n",
    "import random\n",
    "from collections import defaultdict\n",
    "import csv\n",
    "from functools import reduce\n",
    "from copy import deepcopy\n",
    "import pickle\n",
    "from timeit import default_timer as timer\n",
    "from matplotlib import pyplot as plt\n",
    "%matplotlib inline"
   ]
  },
  {
   "cell_type": "markdown",
   "metadata": {},
   "source": [
    "#### 2. Prepare lattice input file (lat.in)"
   ]
  },
  {
   "cell_type": "markdown",
   "metadata": {},
   "source": [
    "The input file of lat.in contains the lattice parameters and all the possible types of atoms at each site. The detailed format of lat.in can be found in the ATAT manual (https://www.brown.edu/Departments/Engineering/Labs/avdw/atat/manual.pdf) pg. 36.  \n",
    " \n",
    "The following information is from ATAT manual.  \n",
    "Lattice file format:  \n",
    "First, the coordinate system a,b,c is specified, either as  \n",
    "[a] [b] [c] [alpha] [beta] [gamma]  \n",
    "\n",
    "Then the lattice vectors u,v,w are listed, expressed in the coordinate system   just defined:  \n",
    "[ua] [ub] [uc]  \n",
    "[va] [vb] [vc]  \n",
    "[wa] [wb] [wc]  \n",
    "\n",
    "Finally, atom positions and types are given, expressed in the same coordinate system   as the lattice vectors:  \n",
    "[atom1a] [atom1b] [atom1c] [atom1type]  \n",
    "[atom2a] [atom2b] [atom2c] [atom2type]  \n",
    "etc.  \n",
    "\n",
    "In the lattice file:  \n",
    "-The atom type is a comma-separated list of the atomic  \n",
    "symbols of the atoms that can sit the lattice site.  \n",
    "-In a binary, the first symbol listed is assigned a spin of -1.  \n",
    "In general, ordering of the atom symbol corresponds to value of s=0,1,... in the table  \n",
    "’Convention used to calculate the correlations’ below.  \n",
    "-When only one symbol is listed, this site is ignored for the purpose  \n",
    "of calculating correlations, but not for determining symmetry.  \n",
    "-The atomic symbol ’Vac’ or ’Va’ is used to indicate a vacancy.  "
   ]
  },
  {
   "cell_type": "markdown",
   "metadata": {},
   "source": [
    "#### 3. Read lattice input file (lat.in)\n",
    "Read lat.in file and create a lattice dictionary which contains the lattice parameters, lattice vectors and fractional coordinates of all the sites in the lattics."
   ]
  },
  {
   "cell_type": "code",
   "execution_count": 54,
   "metadata": {},
   "outputs": [
    {
     "data": {
      "text/html": [
       "<div>\n",
       "<style>\n",
       "    .dataframe thead tr:only-child th {\n",
       "        text-align: right;\n",
       "    }\n",
       "\n",
       "    .dataframe thead th {\n",
       "        text-align: left;\n",
       "    }\n",
       "\n",
       "    .dataframe tbody tr th {\n",
       "        vertical-align: top;\n",
       "    }\n",
       "</style>\n",
       "<table border=\"1\" class=\"dataframe\">\n",
       "  <thead>\n",
       "    <tr style=\"text-align: right;\">\n",
       "      <th></th>\n",
       "      <th>a</th>\n",
       "      <th>b</th>\n",
       "      <th>c</th>\n",
       "      <th>atom</th>\n",
       "    </tr>\n",
       "  </thead>\n",
       "  <tbody>\n",
       "    <tr>\n",
       "      <th>0</th>\n",
       "      <td>0.3201</td>\n",
       "      <td>0.0918</td>\n",
       "      <td>0.12505</td>\n",
       "      <td>O</td>\n",
       "    </tr>\n",
       "    <tr>\n",
       "      <th>0</th>\n",
       "      <td>0.8201</td>\n",
       "      <td>0.5918</td>\n",
       "      <td>0.37505</td>\n",
       "      <td>O</td>\n",
       "    </tr>\n",
       "    <tr>\n",
       "      <th>0</th>\n",
       "      <td>0.6799</td>\n",
       "      <td>0.0918</td>\n",
       "      <td>0.12505</td>\n",
       "      <td>O</td>\n",
       "    </tr>\n",
       "    <tr>\n",
       "      <th>0</th>\n",
       "      <td>0.1799</td>\n",
       "      <td>0.5918</td>\n",
       "      <td>0.37505</td>\n",
       "      <td>O</td>\n",
       "    </tr>\n",
       "    <tr>\n",
       "      <th>0</th>\n",
       "      <td>0.3201</td>\n",
       "      <td>0.9082</td>\n",
       "      <td>0.12505</td>\n",
       "      <td>O</td>\n",
       "    </tr>\n",
       "  </tbody>\n",
       "</table>\n",
       "</div>"
      ],
      "text/plain": [
       "        a       b        c atom\n",
       "0  0.3201  0.0918  0.12505    O\n",
       "0  0.8201  0.5918  0.37505    O\n",
       "0  0.6799  0.0918  0.12505    O\n",
       "0  0.1799  0.5918  0.37505    O\n",
       "0  0.3201  0.9082  0.12505    O"
      ]
     },
     "execution_count": 54,
     "metadata": {},
     "output_type": "execute_result"
    }
   ],
   "source": [
    "lattice_sites.head()"
   ]
  },
  {
   "cell_type": "code",
   "execution_count": 2,
   "metadata": {
    "collapsed": true
   },
   "outputs": [],
   "source": [
    "filepath='lat.in'\n",
    "file = open(filepath, 'r')\n",
    "lat = file.readlines()\n",
    "\n",
    "lattice = {}\n",
    "lattice['a'], lattice['b'], lattice['c'], lattice['alpha'], lattice['beta'], lattice['gamma'] = [float(number) for number in lat[0].split()]\n",
    "lattice['u'] = [int(number) for number in lat[1].split()]\n",
    "lattice['v'] = [int(number) for number in lat[2].split()]\n",
    "lattice['w'] = [int(number) for number in lat[3].split()]\n",
    "\n",
    "lattice_sites = pd.DataFrame(columns=['a', 'b', 'c', 'atom'])\n",
    "for line in lat[4:]:\n",
    "    site = line.split()[:3]\n",
    "    atom_type = ''\n",
    "    for atom in line.split()[3:]:\n",
    "        atom_type += str(atom)\n",
    "    site.append(atom_type)\n",
    "    lattice_sites = lattice_sites.append(pd.DataFrame([site], columns=['a', 'b', 'c', 'atom']))\n",
    "lattice_sites = lattice_sites.apply(pd.to_numeric, errors = 'ignore')"
   ]
  },
  {
   "cell_type": "code",
   "execution_count": 3,
   "metadata": {},
   "outputs": [
    {
     "data": {
      "text/plain": [
       "{'a': 19.018,\n",
       " 'alpha': 90.0,\n",
       " 'b': 14.303,\n",
       " 'beta': 90.0,\n",
       " 'c': 15.082,\n",
       " 'gamma': 90.0,\n",
       " 'u': [1, 0, 0],\n",
       " 'v': [0, 1, 0],\n",
       " 'w': [0, 0, 1]}"
      ]
     },
     "execution_count": 3,
     "metadata": {},
     "output_type": "execute_result"
    }
   ],
   "source": [
    "lattice"
   ]
  },
  {
   "cell_type": "code",
   "execution_count": 4,
   "metadata": {},
   "outputs": [
    {
     "data": {
      "text/html": [
       "<div>\n",
       "<style>\n",
       "    .dataframe thead tr:only-child th {\n",
       "        text-align: right;\n",
       "    }\n",
       "\n",
       "    .dataframe thead th {\n",
       "        text-align: left;\n",
       "    }\n",
       "\n",
       "    .dataframe tbody tr th {\n",
       "        vertical-align: top;\n",
       "    }\n",
       "</style>\n",
       "<table border=\"1\" class=\"dataframe\">\n",
       "  <thead>\n",
       "    <tr style=\"text-align: right;\">\n",
       "      <th></th>\n",
       "      <th>a</th>\n",
       "      <th>b</th>\n",
       "      <th>c</th>\n",
       "      <th>atom</th>\n",
       "    </tr>\n",
       "  </thead>\n",
       "  <tbody>\n",
       "    <tr>\n",
       "      <th>0</th>\n",
       "      <td>0.3201</td>\n",
       "      <td>0.0918</td>\n",
       "      <td>0.12505</td>\n",
       "      <td>O</td>\n",
       "    </tr>\n",
       "    <tr>\n",
       "      <th>0</th>\n",
       "      <td>0.8201</td>\n",
       "      <td>0.5918</td>\n",
       "      <td>0.37505</td>\n",
       "      <td>O</td>\n",
       "    </tr>\n",
       "    <tr>\n",
       "      <th>0</th>\n",
       "      <td>0.6799</td>\n",
       "      <td>0.0918</td>\n",
       "      <td>0.12505</td>\n",
       "      <td>O</td>\n",
       "    </tr>\n",
       "    <tr>\n",
       "      <th>0</th>\n",
       "      <td>0.1799</td>\n",
       "      <td>0.5918</td>\n",
       "      <td>0.37505</td>\n",
       "      <td>O</td>\n",
       "    </tr>\n",
       "    <tr>\n",
       "      <th>0</th>\n",
       "      <td>0.3201</td>\n",
       "      <td>0.9082</td>\n",
       "      <td>0.12505</td>\n",
       "      <td>O</td>\n",
       "    </tr>\n",
       "  </tbody>\n",
       "</table>\n",
       "</div>"
      ],
      "text/plain": [
       "        a       b        c atom\n",
       "0  0.3201  0.0918  0.12505    O\n",
       "0  0.8201  0.5918  0.37505    O\n",
       "0  0.6799  0.0918  0.12505    O\n",
       "0  0.1799  0.5918  0.37505    O\n",
       "0  0.3201  0.9082  0.12505    O"
      ]
     },
     "execution_count": 4,
     "metadata": {},
     "output_type": "execute_result"
    }
   ],
   "source": [
    "lattice_sites.head()"
   ]
  },
  {
   "cell_type": "markdown",
   "metadata": {},
   "source": [
    "#### 4. Functions to convert between fractional coordinates and xyz coordinates"
   ]
  },
  {
   "cell_type": "code",
   "execution_count": 5,
   "metadata": {
    "collapsed": true
   },
   "outputs": [],
   "source": [
    "def lattice_axes_xyz(lattic):\n",
    "    '''\n",
    "    function to prepare the xyz axes (a matrix)\n",
    "                [ax] [ay] [az]\n",
    "    axes_xyz =  [bx] [by] [bz]\n",
    "                [cx] [cy] [cz]\n",
    "    '''\n",
    "    a = np.array([1,0,0]) * lattice['a']\n",
    "    b = np.array([cos(lattice['gamma']/180*pi), sin(lattice['gamma']/180*pi), 0]) * lattice['b']\n",
    "    c = np.cross(a, b)/np.linalg.norm(np.cross(a, b)) * lattice['c']\n",
    "    return np.array((a,b,c))"
   ]
  },
  {
   "cell_type": "code",
   "execution_count": 6,
   "metadata": {
    "collapsed": true
   },
   "outputs": [],
   "source": [
    "def lattice_axes_abc(lattice):\n",
    "    '''\n",
    "    function to prepare the abc axes (a matrix)\n",
    "                [ua] [ub] [uc]\n",
    "    axes_abc =  [va] [vb] [vc]\n",
    "                [wa] [wb] [wc]\n",
    "    '''\n",
    "    return np.array((lattice['u'], lattice['v'], lattice['w']))"
   ]
  },
  {
   "cell_type": "code",
   "execution_count": 7,
   "metadata": {
    "collapsed": true
   },
   "outputs": [],
   "source": [
    "def frac_to_xyz(axes_xyz, frac_coor):\n",
    "    '''\n",
    "    function to convert fractional coordinates to xyz coordinates\n",
    "    '''\n",
    "    return np.dot(frac_coor, axes_xyz)"
   ]
  },
  {
   "cell_type": "code",
   "execution_count": 8,
   "metadata": {
    "collapsed": true
   },
   "outputs": [],
   "source": [
    "def xyz_to_frac(axes_xyz, xyz_coor):\n",
    "    '''\n",
    "    function to convert xyz coordinates to fractional coordinates\n",
    "    '''\n",
    "    return np.dot(xyz_coor, np.linalg.inv(axes_xyz))"
   ]
  },
  {
   "cell_type": "code",
   "execution_count": 9,
   "metadata": {
    "collapsed": true
   },
   "outputs": [],
   "source": [
    "axes_abc = lattice_axes_abc(lattice)"
   ]
  },
  {
   "cell_type": "code",
   "execution_count": 10,
   "metadata": {},
   "outputs": [
    {
     "data": {
      "text/plain": [
       "array([[1, 0, 0],\n",
       "       [0, 1, 0],\n",
       "       [0, 0, 1]])"
      ]
     },
     "execution_count": 10,
     "metadata": {},
     "output_type": "execute_result"
    }
   ],
   "source": [
    "axes_abc"
   ]
  },
  {
   "cell_type": "code",
   "execution_count": 11,
   "metadata": {
    "collapsed": true
   },
   "outputs": [],
   "source": [
    "axes_xyz = lattice_axes_xyz(lattice)"
   ]
  },
  {
   "cell_type": "code",
   "execution_count": 12,
   "metadata": {},
   "outputs": [
    {
     "data": {
      "text/plain": [
       "array([[1.90180000e+01, 0.00000000e+00, 0.00000000e+00],\n",
       "       [8.75806158e-16, 1.43030000e+01, 0.00000000e+00],\n",
       "       [0.00000000e+00, 0.00000000e+00, 1.50820000e+01]])"
      ]
     },
     "execution_count": 12,
     "metadata": {},
     "output_type": "execute_result"
    }
   ],
   "source": [
    "axes_xyz"
   ]
  },
  {
   "cell_type": "code",
   "execution_count": 13,
   "metadata": {},
   "outputs": [
    {
     "data": {
      "text/plain": [
       "array([9.509 , 7.1515, 0.    ])"
      ]
     },
     "execution_count": 13,
     "metadata": {},
     "output_type": "execute_result"
    }
   ],
   "source": [
    "frac_to_xyz(axes_xyz, np.array((0.5, 0.5, 0)))"
   ]
  },
  {
   "cell_type": "code",
   "execution_count": 14,
   "metadata": {},
   "outputs": [
    {
     "data": {
      "text/plain": [
       "array([0.35952782, 0.        , 0.        ])"
      ]
     },
     "execution_count": 14,
     "metadata": {},
     "output_type": "execute_result"
    }
   ],
   "source": [
    "xyz_to_frac(axes_xyz, np.array((6.8375, 0, 0)))"
   ]
  },
  {
   "cell_type": "markdown",
   "metadata": {},
   "source": [
    "#### 5. Prepare structure requirements input file (str_req.txt)\n",
    "Before creating str_req.txt, we have to know all the cluster types within the maximum distance that we specified. We can run corrdump with only the lat.in file. A clusters.out file will be generated. It contains the information of all the symmetrically distinct clusters for the lattice that you specified in lat.in file. Based on the cluster order in the clusters.out file and the number of atoms(sites) containing in the cluster, we will define the cluster type as: \n",
    "\n",
    "cluster type = [nsite]-[order of the specific cluster in all nsite-clusters in clusters.out].\n",
    "\n",
    "For example, for the first 2-body cluster in clusters.out, its cluster type is 2-1.  \n",
    "For the second 2-body cluster in clusters.out, its cluster type is 2-2."
   ]
  },
  {
   "cell_type": "markdown",
   "metadata": {},
   "source": [
    "Then we will create a file which describe the structure requirements. It will include 3 parts: 1) the structure dimensions, 2) the clusters that cannot exist based on the rules we defined (*bad clusters*), and 3) the clusters of interest (*good clusters*, we want to count the number of them).  \n",
    "\n",
    "The specific str_req.txt format:\n",
    "\n",
    "First the structure vectors u,v,w are listed, expressed in the coordinate system just defined:  \n",
    "[ua] [ub] [uc]  \n",
    "[va] [vb] [vc]  \n",
    "[wa] [wb] [wc]  \n",
    "\n",
    "Next, the cluster types that cannot exist:  \n",
    "[badtype1] [badtype2] [badtype3] [badtype4] etc.  \n",
    "\n",
    "Finally, the cluster types of interest:  \n",
    "[goodtype1] [goodtype2] [goodtype3] [goodtype4] etc.  \n",
    "\n",
    "Here is an example of str_req.txt file.\n",
    "\n",
    "2 0 0  \n",
    "0 2 0  \n",
    "0 0 2   \n",
    "2-1, 2-2, 2-3, 2-4  \n",
    "2-5, 2-6, 2-7, 2-8, 2-9, 2-10, 2-11  "
   ]
  },
  {
   "cell_type": "markdown",
   "metadata": {},
   "source": [
    "#### 6. Read structure requirements input file (str_req.txt)\n",
    "Generate structure dictionary containing structure dimensions, site coordinates, bad clusters (cannot exist) and good clusters (we want to count)."
   ]
  },
  {
   "cell_type": "code",
   "execution_count": 15,
   "metadata": {
    "collapsed": true
   },
   "outputs": [],
   "source": [
    "structure = {}"
   ]
  },
  {
   "cell_type": "code",
   "execution_count": 16,
   "metadata": {
    "collapsed": true
   },
   "outputs": [],
   "source": [
    "file = open('str_req.txt', 'r')\n",
    "str_req = file.readlines()\n",
    "\n",
    "structure_u = [int(number) for number in str_req[0].split()]\n",
    "structure_v = [int(number) for number in str_req[1].split()]\n",
    "structure_w = [int(number) for number in str_req[2].split()]\n",
    "\n",
    "#bad_types = [s.replace(' ', '').replace('\\n', '') for s in str_req[3].split(',')]\n",
    "#good_types = [s.replace(' ', '').replace('\\n', '') for s in str_req[4].split(',')]"
   ]
  },
  {
   "cell_type": "code",
   "execution_count": 17,
   "metadata": {},
   "outputs": [
    {
     "data": {
      "text/plain": [
       "[1, 0, 0]"
      ]
     },
     "execution_count": 17,
     "metadata": {},
     "output_type": "execute_result"
    }
   ],
   "source": [
    "structure_u"
   ]
  },
  {
   "cell_type": "code",
   "execution_count": 18,
   "metadata": {
    "collapsed": true
   },
   "outputs": [],
   "source": [
    "nu = int(np.mean(structure_u)/np.mean(lattice['u']))\n",
    "nv = int(np.mean(structure_v)/np.mean(lattice['v']))\n",
    "nw = int(np.mean(structure_w)/np.mean(lattice['w']))\n",
    "n_cell = nu * nv * nw"
   ]
  },
  {
   "cell_type": "code",
   "execution_count": 19,
   "metadata": {},
   "outputs": [
    {
     "data": {
      "text/plain": [
       "1"
      ]
     },
     "execution_count": 19,
     "metadata": {},
     "output_type": "execute_result"
    }
   ],
   "source": [
    "nu"
   ]
  },
  {
   "cell_type": "code",
   "execution_count": 20,
   "metadata": {
    "collapsed": true
   },
   "outputs": [],
   "source": [
    "O_unit_sites = lattice_sites[lattice_sites['atom']=='O']\n",
    "O_sites = pd.DataFrame(columns=lattice_sites.columns)\n",
    "for i in range(0, nu):\n",
    "    for j in range(0, nv):\n",
    "        for k in range(0, nw):\n",
    "            sites = pd.DataFrame(columns=O_unit_sites.columns)\n",
    "            delta = list(np.array(lattice['u'])*i + np.array(lattice['v'])*j + np.array(lattice['w'])*k)\n",
    "            sites['a'] = O_unit_sites.a + delta[0]\n",
    "            sites['b'] = O_unit_sites.b + delta[1]\n",
    "            sites['c'] = O_unit_sites.c + delta[2]\n",
    "            sites['atom'] = O_unit_sites.atom\n",
    "            O_sites = O_sites.append(sites)"
   ]
  },
  {
   "cell_type": "code",
   "execution_count": 21,
   "metadata": {
    "collapsed": true
   },
   "outputs": [],
   "source": [
    "important_unit_sites =  lattice_sites[lattice_sites['atom']!='O']\n",
    "structure_sites = pd.DataFrame(columns=lattice_sites.columns)\n",
    "for i in range(0, nu):\n",
    "    for j in range(0, nv):\n",
    "        for k in range(0, nw):\n",
    "            sites = pd.DataFrame(columns=important_unit_sites.columns)\n",
    "            delta = list(np.array(lattice['u'])*i + np.array(lattice['v'])*j + np.array(lattice['w'])*k)\n",
    "            sites['a'] = important_unit_sites.a + delta[0]\n",
    "            sites['b'] = important_unit_sites.b + delta[1]\n",
    "            sites['c'] = important_unit_sites.c + delta[2]\n",
    "            sites['atom'] = important_unit_sites.atom\n",
    "            structure_sites = structure_sites.append(sites)"
   ]
  },
  {
   "cell_type": "code",
   "execution_count": 22,
   "metadata": {
    "collapsed": true
   },
   "outputs": [],
   "source": [
    "structure_sites.reset_index(drop=True, inplace=True)\n",
    "structure_sites['site_index'] = structure_sites.index"
   ]
  },
  {
   "cell_type": "code",
   "execution_count": 23,
   "metadata": {
    "scrolled": true
   },
   "outputs": [
    {
     "name": "stdout",
     "output_type": "stream",
     "text": [
      "<class 'pandas.core.frame.DataFrame'>\n",
      "RangeIndex: 72 entries, 0 to 71\n",
      "Data columns (total 5 columns):\n",
      "a             72 non-null float64\n",
      "b             72 non-null float64\n",
      "c             72 non-null float64\n",
      "atom          72 non-null object\n",
      "site_index    72 non-null int64\n",
      "dtypes: float64(3), int64(1), object(1)\n",
      "memory usage: 2.9+ KB\n"
     ]
    }
   ],
   "source": [
    "structure_sites.info()"
   ]
  },
  {
   "cell_type": "code",
   "execution_count": 24,
   "metadata": {
    "collapsed": true
   },
   "outputs": [],
   "source": [
    "structure['u'] = structure_u\n",
    "structure['v'] = structure_v\n",
    "structure['w'] = structure_w\n",
    "structure['nu'] = nu\n",
    "structure['nv'] = nv\n",
    "structure['nw'] = nw\n",
    "structure['sites'] = structure_sites"
   ]
  },
  {
   "cell_type": "markdown",
   "metadata": {},
   "source": [
    "#### 7. Function to find the site index for any given fractional coordinates"
   ]
  },
  {
   "cell_type": "code",
   "execution_count": 25,
   "metadata": {
    "collapsed": true
   },
   "outputs": [],
   "source": [
    "def find_site_index(axes_abc, structure, frac_coor):\n",
    "    df = structure['sites']\n",
    "    nu, nv, nw = structure['nu'],structure['nv'],structure['nw']\n",
    "    \n",
    "    fu, fv, fw = np.dot(frac_coor, np.linalg.inv(axes_abc))\n",
    "    \n",
    "    #translate the site into the structure by subtracting multiple structure vector on each dimension\n",
    "    fu -= (fu//nu)*nu\n",
    "    fv -= (fv//nv)*nv\n",
    "    fw -= (fw//nw)*nw\n",
    "    \n",
    "    fa, fb, fc = np.dot(np.array((fu, fv, fw)), axes_abc)\n",
    "    \n",
    "    site_index = df[(abs(df.a-fa) < 0.001) & (abs(df.b-fb) < 0.001) & (abs(df.c-fc) < 0.001)].index\n",
    "    if len(site_index) == 0:\n",
    "        print(\"Error! Cannot find the site index in the structure.\")\n",
    "        return np.nan\n",
    "    elif len(site_index) < 1:\n",
    "        print(\"Error! Find multiple site indices in the structure.\")\n",
    "        return np.nan\n",
    "    else:\n",
    "        return site_index[0]"
   ]
  },
  {
   "cell_type": "code",
   "execution_count": 26,
   "metadata": {
    "collapsed": true
   },
   "outputs": [],
   "source": [
    "frac_coor = xyz_to_frac(axes_xyz, [15.22711,2.68122,1.55200])"
   ]
  },
  {
   "cell_type": "code",
   "execution_count": 27,
   "metadata": {},
   "outputs": [
    {
     "name": "stdout",
     "output_type": "stream",
     "text": [
      "Error! Cannot find the site index in the structure.\n"
     ]
    },
    {
     "data": {
      "text/plain": [
       "nan"
      ]
     },
     "execution_count": 27,
     "metadata": {},
     "output_type": "execute_result"
    }
   ],
   "source": [
    "find_site_index(axes_abc, structure, frac_coor)"
   ]
  },
  {
   "cell_type": "markdown",
   "metadata": {},
   "source": [
    "#### 8. Create str.out file  \n",
    "A str.out file is created based on the structure dimensions with Si on all sites. Actually the coordinates of all the clusters(cluster list) won't change in regards to the atom type on each site. Here we just put Si on all sites. "
   ]
  },
  {
   "cell_type": "code",
   "execution_count": 28,
   "metadata": {
    "collapsed": true
   },
   "outputs": [],
   "source": [
    "if os.path.isfile('str.out'):\n",
    "    os.remove('str.out')\n",
    "with open('str.out', 'a') as str_file:\n",
    "    str_file.write('{} {} {} {} {} {}\\n'.format(lattice['a'], lattice['b'], lattice['c'], int(lattice['alpha']), int(lattice['beta']), int(lattice['gamma'])))\n",
    "    str_file.write('{} {} {}\\n'.format(int(structure['u'][0]),int(structure['u'][1]),int(structure['u'][2])))\n",
    "    str_file.write('{} {} {}\\n'.format(int(structure['v'][0]),int(structure['v'][1]),int(structure['v'][2])))\n",
    "    str_file.write('{} {} {}\\n'.format(int(structure['w'][0]),int(structure['w'][1]),int(structure['w'][2])))\n",
    "    for index, row in structure['sites'].iterrows():\n",
    "        str_file.write('{} {} {} Si\\n'.format(row.a, row.b, row.c))"
   ]
  },
  {
   "cell_type": "markdown",
   "metadata": {},
   "source": [
    "#### 9. Run corrdump to generate cluster list into cluster_list.csv file  \n",
    "The cluster list contains the coordinates of all the clusters."
   ]
  },
  {
   "cell_type": "code",
   "execution_count": 29,
   "metadata": {},
   "outputs": [
    {
     "name": "stdout",
     "output_type": "stream",
     "text": [
      "Warning: unit cell is not primitive.\r\n"
     ]
    }
   ],
   "source": [
    "# Here we define the maximum distance between 2 atoms in a 2-body cluster is 6.2.\n",
    "if os.path.isfile('cluster_list.csv'):\n",
    "    os.remove('cluster_list.csv')\n",
    "!corrdump -2 = 11 >> cluster_list.csv"
   ]
  },
  {
   "cell_type": "markdown",
   "metadata": {},
   "source": [
    "#### 10. Read cluster_list.csv"
   ]
  },
  {
   "cell_type": "markdown",
   "metadata": {},
   "source": [
    "The format for the file cluster_list.csv is as below.  \n",
    "For each cluster type:  \n",
    "First, the number of site in the cluster is given:  \n",
    "[nsite]  \n",
    "  \n",
    "Next, the multiplicity (number of the cluster in the unit cell) is given:    \n",
    "[multiplicity]  \n",
    "\n",
    "Then, site xyz coordinates are listed for each cluster of that type:  \n",
    "[cluster1site1x] [cluster1site1y] [cluster1site1z]  \n",
    "[cluster1site2x] [cluster1site2y] [cluster1site2z]   \n",
    "...  \n",
    "[cluster1siteNx] [cluster1siteNy] [cluster1siteNz]  \n",
    "[cluster2site1x] [cluster2site1y] [cluster2site1z]  \n",
    "[cluster2site2x] [cluster2site2y] [cluster2site2z]   \n",
    "...  \n",
    "[cluster2siteNx] [cluster2siteNy] [cluster2siteNz]  \n",
    "...  \n",
    "...  \n",
    "etc.  \n",
    "\n",
    "Finally, the correlation function is given:  \n",
    "[correlation function]  \n",
    "\n",
    "Since all sites have Si in str.out, the correlation function is usually 0 or 1(for the first cluster type)."
   ]
  },
  {
   "cell_type": "code",
   "execution_count": 30,
   "metadata": {
    "collapsed": true
   },
   "outputs": [],
   "source": [
    "ncell = structure['nu']*structure['nv']*structure['nw']"
   ]
  },
  {
   "cell_type": "code",
   "execution_count": 92,
   "metadata": {
    "collapsed": true
   },
   "outputs": [],
   "source": [
    "def read_clusters_out(filepath):\n",
    "    '''\n",
    "    function to read clusters.out file and create a list of non-empty lines in clusters.out\n",
    "    '''\n",
    "    clusters_lines = []\n",
    "\n",
    "    with open(filepath) as csvfile:\n",
    "        readCSV = csv.reader(csvfile, delimiter=' ')\n",
    "        for row in readCSV:\n",
    "            if(len(row) == 0):\n",
    "                continue\n",
    "            elif(len(row) == 1):\n",
    "                row[0] = row[0].replace('\\t', '')\n",
    "                if '.' in row[0]:\n",
    "                    clusters_lines.append(float(row[0]))\n",
    "                else:\n",
    "                    clusters_lines.append(int(float(row[0])))\n",
    "            else:\n",
    "                temp = []\n",
    "                for element in row:\n",
    "                    temp.append(float(element))\n",
    "                clusters_lines.append(temp)\n",
    "\n",
    "    return clusters_lines\n",
    "\n",
    "def break_down_cluster_out_lines(cluster_out_lines, lattice):\n",
    "    '''\n",
    "    function to read cluster_out_lines and create a dictionary for clusters in lattice\n",
    "    '''\n",
    "    axes_abc = lattice_axes_abc(lattice)\n",
    "    lat_clusters = {}\n",
    "    lat_clusters['type_number'] = [int(0) for i in range(10)]\n",
    "    i = 0\n",
    "    nsite = 0\n",
    "    cluster_index = 0\n",
    "    urange = []\n",
    "    vrange = []\n",
    "    wrange = []\n",
    "\n",
    "    while(i < len(cluster_out_lines)):\n",
    "        #print('i is {}'.format(i))\n",
    "        m = cluster_out_lines[i]\n",
    "        #print('m is {}'.format(m))\n",
    "        d = cluster_out_lines[i+1]\n",
    "        #print('d is {}'.format(d))\n",
    "        new_nsite = cluster_out_lines[i+2]\n",
    "        #print('new_site is {}'.format(new_nsite))\n",
    "        if new_nsite != nsite:\n",
    "            lat_clusters['num_max_site'] = new_nsite\n",
    "            nsite = new_nsite\n",
    "            cluster_index = 1\n",
    "        else:\n",
    "            cluster_index +=1\n",
    "\n",
    "        cluster_type = '{}-{}'.format(nsite, cluster_index)\n",
    "        lat_clusters[cluster_type] = {}\n",
    "        lat_clusters[cluster_type]['m'] = m\n",
    "        lat_clusters[cluster_type]['max_d'] = d\n",
    "        lat_clusters[cluster_type]['eg_pair_frac']=[]\n",
    "\n",
    "        i = i+3\n",
    "        for j in range(nsite):\n",
    "            site = cluster_out_lines[i][:3]\n",
    "            u, v, w = frac_to_uvw(axes_abc, site)\n",
    "            urange.append(u)\n",
    "            vrange.append(v)\n",
    "            wrange.append(w)\n",
    "            #print(site)\n",
    "            lat_clusters[cluster_type]['eg_pair_frac'].append(site)\n",
    "            i += 1\n",
    "        lat_clusters['type_number'][nsite] = cluster_index\n",
    "\n",
    "    u_vis_range = list(range(int(min(urange))-1, int(max(urange))+1))\n",
    "    v_vis_range = list(range(int(min(vrange))-1, int(max(vrange))+1))\n",
    "    w_vis_range = list(range(int(min(wrange))-1, int(max(wrange))+1))\n",
    "    lat_clusters['vis_range'] = [u_vis_range, v_vis_range, w_vis_range]\n",
    "\n",
    "    lat_vis_sites = extend_sites(lattice_sites, axes_abc, lat_clusters['vis_range'])\n",
    "    add_xyz(lat_vis_sites,lattice_axes_xyz(lattice))\n",
    "    lat_clusters['lat_vis_sites'] = lat_vis_sites\n",
    "\n",
    "    lat_clusters['cluster_types'] = []\n",
    "    for nsite, ntypes in enumerate(lat_clusters['type_number']):\n",
    "        if nsite==0:\n",
    "            continue\n",
    "        for k in range(1, ntypes+1):\n",
    "            cluster_type = '{}-{}'.format(nsite, k)\n",
    "            lat_clusters['cluster_types'].append(cluster_type)\n",
    "\n",
    "    return lat_clusters\n",
    "def frac_to_uvw(axes_abc, frac_coor):\n",
    "    '''\n",
    "    function to convert fractional(abc) coordinates to uvw coordinates\n",
    "    '''\n",
    "    return np.dot(frac_coor, np.linalg.inv(axes_abc))\n",
    "def extend_sites(orig_sites, orig_vec, ext_ranges):\n",
    "    '''\n",
    "    function to extend sites from the sites in the original structure\n",
    "    orig_sites: dataframe includes original sites\n",
    "    orig_vec: the lattice vector for the original structure (u, v, w)\n",
    "    ext_ranges: include the range to extend on each dimension\n",
    "    '''\n",
    "    ext_sites = pd.DataFrame(columns=orig_sites.columns)\n",
    "    prev_sites = deepcopy(orig_sites)\n",
    "    #print(orig_sites)\n",
    "    for i in range(3):\n",
    "        #print(ext_ranges[i])\n",
    "        for n in ext_ranges[i]:\n",
    "            #print(n)\n",
    "            #print(orig_vec[i])\n",
    "            temp = deepcopy(prev_sites)\n",
    "            temp.a = temp.a+n*orig_vec[i][0]\n",
    "            temp.b = temp.b+n*orig_vec[i][1]\n",
    "            temp.c = temp.c+n*orig_vec[i][2]\n",
    "            #print(temp)\n",
    "            ext_sites = ext_sites.append(temp)\n",
    "        prev_sites = deepcopy(ext_sites)\n",
    "        #print(len(prev_sites.index))\n",
    "    ext_sites.drop_duplicates(inplace=True)\n",
    "    ext_sites.reset_index(drop=True, inplace=True)\n",
    "\n",
    "    return ext_sites\n",
    "\n",
    "def add_xyz(df, axes_xyz):\n",
    "    '''\n",
    "    function to add columns of x, y and z for a dataframe with fractional(abc) coordinates\n",
    "    '''\n",
    "    df['x'] = df.apply(lambda row: frac_to_xyz(axes_xyz, [row.a, row.b, row.c])[0], axis=1)\n",
    "    df['y'] = df.apply(lambda row: frac_to_xyz(axes_xyz, [row.a, row.b, row.c])[1], axis=1)\n",
    "    df['z'] = df.apply(lambda row: frac_to_xyz(axes_xyz, [row.a, row.b, row.c])[2], axis=1)\n",
    "    return"
   ]
  },
  {
   "cell_type": "code",
   "execution_count": 93,
   "metadata": {
    "collapsed": true
   },
   "outputs": [],
   "source": [
    "lat_clusters = break_down_cluster_out_lines(read_clusters_out('clusters.out'), lattice)"
   ]
  },
  {
   "cell_type": "code",
   "execution_count": 31,
   "metadata": {
    "collapsed": true
   },
   "outputs": [],
   "source": [
    "clulist = []\n",
    "\n",
    "with open('cluster_list.csv') as csvfile:\n",
    "    readCSV = csv.reader(csvfile, delimiter=' ')\n",
    "    for row in readCSV:\n",
    "        if(len(row) == 0):\n",
    "            continue\n",
    "        elif(len(row) == 1):\n",
    "            row[0] = row[0].replace('\\t', '')\n",
    "            clulist.append(int(float(row[0])))\n",
    "        else:\n",
    "            temp = []\n",
    "            for element in row:\n",
    "                temp.append(float(element))\n",
    "            clulist.append(temp)"
   ]
  },
  {
   "cell_type": "markdown",
   "metadata": {},
   "source": [
    "Create a dictionary (called clusters) which contains 1) cluster types, 2) cluster type number for different number of sites, and 3) the site indices for all the clusters for each cluster type.  \n",
    "\n",
    "clusters['types'] will list all the cluster types.  \n",
    "clusters['nsite_type_numbers'] will list the number of the types for nsite.  \n",
    "clusters['2-1'] will list all the clusters (consist of site indices) of type 2-1.  "
   ]
  },
  {
   "cell_type": "code",
   "execution_count": 32,
   "metadata": {
    "collapsed": true
   },
   "outputs": [],
   "source": [
    "clusters = {}\n",
    "nsite_type_numbers = {}\n",
    "cluster_types = []\n",
    "clusters['d'] = {}\n",
    "\n",
    "i = 0\n",
    "nsite = 0\n",
    "cluster_index = 1\n",
    "while(i < len(clulist)):\n",
    "    #read n_site\n",
    "    new_nsite = clulist[i]\n",
    "    i += 1\n",
    "    \n",
    "    #pass first three lines where the cluster contains 0 site\n",
    "    if (new_nsite == 0):\n",
    "        i+=2\n",
    "        continue\n",
    "    \n",
    "    #if the cluster has more sites than the previous cluster, reset nsite and cluster index\n",
    "    if (new_nsite != nsite):\n",
    "        nsite = new_nsite\n",
    "        cluster_index = 1\n",
    "        \n",
    "    #set the cluster type = [nsite]-[order of the specific cluster in all nsite-clusters].\n",
    "    cluster_type = str(nsite)+'-'+str(cluster_index)\n",
    "    cluster_types.append(cluster_type)\n",
    "    \n",
    "    #initialize a empty set called temp \n",
    "    temp = set()\n",
    "        \n",
    "    #read multiplicity\n",
    "    multiplicity = clulist[i]\n",
    "    i += 1\n",
    "    \n",
    "    #go through all the clusters\n",
    "    n_cluster = multiplicity *ncell\n",
    "    for j in range(n_cluster):\n",
    "        cluster = set()\n",
    "        for k in range(nsite):\n",
    "            point = []\n",
    "            for element in clulist[i]:\n",
    "                point.append(float(element))\n",
    "            frac_coor = xyz_to_frac(axes_xyz, point)\n",
    "            site = find_site_index(axes_abc, structure, frac_coor)\n",
    "            #print(point)\n",
    "            #print(site)\n",
    "\n",
    "            cluster.update([site])\n",
    "            i += 1\n",
    "        #if frozenset(cluster) in temp:\n",
    "            #print('Error! Repeated cluster found in line {}. The cluster is {}. The cluster type is {}'.format(i-1, cluster, cluster_type))\n",
    "        temp.add(frozenset(cluster))\n",
    "    \n",
    "    #pass the line with correlation\n",
    "    i += 1 \n",
    "    \n",
    "    #put the set of clusters in dictionary of clusters\n",
    "    clusters[cluster_type] = temp\n",
    "    clusters['d'][cluster_type] = d\n",
    "    nsite_type_numbers[str(nsite)] = cluster_index\n",
    "    \n",
    "    #count cluster types\n",
    "    cluster_index += 1   \n",
    "\n",
    "clusters['cluster_types'] = cluster_types\n",
    "clusters['nsite_type_numbers'] = nsite_type_numbers"
   ]
  },
  {
   "cell_type": "code",
   "execution_count": 33,
   "metadata": {},
   "outputs": [
    {
     "data": {
      "text/plain": [
       "{'1': 4, '2': 136}"
      ]
     },
     "execution_count": 33,
     "metadata": {},
     "output_type": "execute_result"
    }
   ],
   "source": [
    "clusters['nsite_type_numbers']"
   ]
  },
  {
   "cell_type": "code",
   "execution_count": 147,
   "metadata": {
    "collapsed": true
   },
   "outputs": [],
   "source": [
    "cluster_type_dict = {}\n",
    "for i in range(clusters['nsite_type_numbers']['2']):\n",
    "    for pair in list(clusters['2-{}'.format(i+1)]):\n",
    "        if pair in cluster_type_dict.keys():\n",
    "            cluster_type_dict[pair] = cluster_type_dict[pair] + ' or 2-{}'.format(i+1)\n",
    "        else:\n",
    "            cluster_type_dict[pair] = '2-{}'.format(i+1)"
   ]
  },
  {
   "cell_type": "code",
   "execution_count": 136,
   "metadata": {},
   "outputs": [
    {
     "name": "stdout",
     "output_type": "stream",
     "text": [
      "2-52\n",
      "2-64\n",
      "2-66\n",
      "2-67\n",
      "2-69\n",
      "2-70\n",
      "2-74\n",
      "2-76\n",
      "2-80\n",
      "2-81\n",
      "2-84\n",
      "2-95\n",
      "2-102\n",
      "2-107\n",
      "2-108\n",
      "2-110\n",
      "2-112\n",
      "2-114\n",
      "2-115\n",
      "2-117\n",
      "2-121\n",
      "2-123\n",
      "2-124\n",
      "2-125\n",
      "2-126\n",
      "2-128\n",
      "2-129\n",
      "2-130\n",
      "2-132\n",
      "2-133\n",
      "2-134\n",
      "2-135\n",
      "2-136\n"
     ]
    }
   ],
   "source": [
    "temp = set()\n",
    "pre_clu = set()\n",
    "for i in range(clusters['nsite_type_numbers']['2']):\n",
    "    #print(i)\n",
    "    pair = random.sample(clusters['2-{}'.format(i+1)], 1)[0]\n",
    "    #print(pair)\n",
    "    if(pair in pre_clu):\n",
    "        print('2-{}'.format(i+1))\n",
    "    if not(pair in pre_clu):\n",
    "        temp.add(pair)\n",
    "        cluster_type_dict[pair] = '2-{}'.format(i+1)\n",
    "    pre_clu.update(clusters['2-{}'.format(i+1)])"
   ]
  },
  {
   "cell_type": "code",
   "execution_count": 137,
   "metadata": {},
   "outputs": [
    {
     "data": {
      "text/plain": [
       "103"
      ]
     },
     "execution_count": 137,
     "metadata": {},
     "output_type": "execute_result"
    }
   ],
   "source": [
    "len(temp)"
   ]
  },
  {
   "cell_type": "markdown",
   "metadata": {},
   "source": [
    "#### 11. Add pair sites for each site in structure sites dataframe "
   ]
  },
  {
   "cell_type": "code",
   "execution_count": 36,
   "metadata": {},
   "outputs": [
    {
     "data": {
      "text/html": [
       "<div>\n",
       "<style>\n",
       "    .dataframe thead tr:only-child th {\n",
       "        text-align: right;\n",
       "    }\n",
       "\n",
       "    .dataframe thead th {\n",
       "        text-align: left;\n",
       "    }\n",
       "\n",
       "    .dataframe tbody tr th {\n",
       "        vertical-align: top;\n",
       "    }\n",
       "</style>\n",
       "<table border=\"1\" class=\"dataframe\">\n",
       "  <thead>\n",
       "    <tr style=\"text-align: right;\">\n",
       "      <th></th>\n",
       "      <th>a</th>\n",
       "      <th>b</th>\n",
       "      <th>c</th>\n",
       "      <th>atom</th>\n",
       "      <th>site_index</th>\n",
       "    </tr>\n",
       "  </thead>\n",
       "  <tbody>\n",
       "    <tr>\n",
       "      <th>0</th>\n",
       "      <td>0.3244</td>\n",
       "      <td>0.2018</td>\n",
       "      <td>0.1032</td>\n",
       "      <td>Si,Al</td>\n",
       "      <td>0</td>\n",
       "    </tr>\n",
       "    <tr>\n",
       "      <th>1</th>\n",
       "      <td>0.8244</td>\n",
       "      <td>0.7018</td>\n",
       "      <td>0.3532</td>\n",
       "      <td>Si,Al</td>\n",
       "      <td>1</td>\n",
       "    </tr>\n",
       "    <tr>\n",
       "      <th>2</th>\n",
       "      <td>0.6756</td>\n",
       "      <td>0.2018</td>\n",
       "      <td>0.1032</td>\n",
       "      <td>Si,Al</td>\n",
       "      <td>2</td>\n",
       "    </tr>\n",
       "    <tr>\n",
       "      <th>3</th>\n",
       "      <td>0.1756</td>\n",
       "      <td>0.7018</td>\n",
       "      <td>0.3532</td>\n",
       "      <td>Si,Al</td>\n",
       "      <td>3</td>\n",
       "    </tr>\n",
       "    <tr>\n",
       "      <th>4</th>\n",
       "      <td>0.3244</td>\n",
       "      <td>0.7982</td>\n",
       "      <td>0.1032</td>\n",
       "      <td>Si,Al</td>\n",
       "      <td>4</td>\n",
       "    </tr>\n",
       "  </tbody>\n",
       "</table>\n",
       "</div>"
      ],
      "text/plain": [
       "        a       b       c   atom  site_index\n",
       "0  0.3244  0.2018  0.1032  Si,Al           0\n",
       "1  0.8244  0.7018  0.3532  Si,Al           1\n",
       "2  0.6756  0.2018  0.1032  Si,Al           2\n",
       "3  0.1756  0.7018  0.3532  Si,Al           3\n",
       "4  0.3244  0.7982  0.1032  Si,Al           4"
      ]
     },
     "execution_count": 36,
     "metadata": {},
     "output_type": "execute_result"
    }
   ],
   "source": [
    "structure_sites.head()"
   ]
  },
  {
   "cell_type": "code",
   "execution_count": 37,
   "metadata": {
    "collapsed": true
   },
   "outputs": [],
   "source": [
    "#create a column for single-site cluster type\n",
    "structure_sites['1'] = np.nan\n",
    "#create one column for each multiple-site cluster\n",
    "for nsite, clu_index in clusters['nsite_type_numbers'].items():\n",
    "    if (nsite != '1'):\n",
    "        for index in range(1, clu_index+1):\n",
    "            clu_type = str(nsite)+'-'+str(index)\n",
    "            structure_sites[clu_type] = \"\"\n",
    "            structure_sites[clu_type].astype('object')"
   ]
  },
  {
   "cell_type": "code",
   "execution_count": 38,
   "metadata": {},
   "outputs": [
    {
     "data": {
      "text/html": [
       "<div>\n",
       "<style>\n",
       "    .dataframe thead tr:only-child th {\n",
       "        text-align: right;\n",
       "    }\n",
       "\n",
       "    .dataframe thead th {\n",
       "        text-align: left;\n",
       "    }\n",
       "\n",
       "    .dataframe tbody tr th {\n",
       "        vertical-align: top;\n",
       "    }\n",
       "</style>\n",
       "<table border=\"1\" class=\"dataframe\">\n",
       "  <thead>\n",
       "    <tr style=\"text-align: right;\">\n",
       "      <th></th>\n",
       "      <th>a</th>\n",
       "      <th>b</th>\n",
       "      <th>c</th>\n",
       "      <th>atom</th>\n",
       "      <th>site_index</th>\n",
       "      <th>1</th>\n",
       "      <th>2-1</th>\n",
       "      <th>2-2</th>\n",
       "      <th>2-3</th>\n",
       "      <th>2-4</th>\n",
       "      <th>...</th>\n",
       "      <th>2-127</th>\n",
       "      <th>2-128</th>\n",
       "      <th>2-129</th>\n",
       "      <th>2-130</th>\n",
       "      <th>2-131</th>\n",
       "      <th>2-132</th>\n",
       "      <th>2-133</th>\n",
       "      <th>2-134</th>\n",
       "      <th>2-135</th>\n",
       "      <th>2-136</th>\n",
       "    </tr>\n",
       "  </thead>\n",
       "  <tbody>\n",
       "    <tr>\n",
       "      <th>0</th>\n",
       "      <td>0.3244</td>\n",
       "      <td>0.2018</td>\n",
       "      <td>0.1032</td>\n",
       "      <td>Si,Al</td>\n",
       "      <td>0</td>\n",
       "      <td>NaN</td>\n",
       "      <td></td>\n",
       "      <td></td>\n",
       "      <td></td>\n",
       "      <td></td>\n",
       "      <td>...</td>\n",
       "      <td></td>\n",
       "      <td></td>\n",
       "      <td></td>\n",
       "      <td></td>\n",
       "      <td></td>\n",
       "      <td></td>\n",
       "      <td></td>\n",
       "      <td></td>\n",
       "      <td></td>\n",
       "      <td></td>\n",
       "    </tr>\n",
       "    <tr>\n",
       "      <th>1</th>\n",
       "      <td>0.8244</td>\n",
       "      <td>0.7018</td>\n",
       "      <td>0.3532</td>\n",
       "      <td>Si,Al</td>\n",
       "      <td>1</td>\n",
       "      <td>NaN</td>\n",
       "      <td></td>\n",
       "      <td></td>\n",
       "      <td></td>\n",
       "      <td></td>\n",
       "      <td>...</td>\n",
       "      <td></td>\n",
       "      <td></td>\n",
       "      <td></td>\n",
       "      <td></td>\n",
       "      <td></td>\n",
       "      <td></td>\n",
       "      <td></td>\n",
       "      <td></td>\n",
       "      <td></td>\n",
       "      <td></td>\n",
       "    </tr>\n",
       "    <tr>\n",
       "      <th>2</th>\n",
       "      <td>0.6756</td>\n",
       "      <td>0.2018</td>\n",
       "      <td>0.1032</td>\n",
       "      <td>Si,Al</td>\n",
       "      <td>2</td>\n",
       "      <td>NaN</td>\n",
       "      <td></td>\n",
       "      <td></td>\n",
       "      <td></td>\n",
       "      <td></td>\n",
       "      <td>...</td>\n",
       "      <td></td>\n",
       "      <td></td>\n",
       "      <td></td>\n",
       "      <td></td>\n",
       "      <td></td>\n",
       "      <td></td>\n",
       "      <td></td>\n",
       "      <td></td>\n",
       "      <td></td>\n",
       "      <td></td>\n",
       "    </tr>\n",
       "    <tr>\n",
       "      <th>3</th>\n",
       "      <td>0.1756</td>\n",
       "      <td>0.7018</td>\n",
       "      <td>0.3532</td>\n",
       "      <td>Si,Al</td>\n",
       "      <td>3</td>\n",
       "      <td>NaN</td>\n",
       "      <td></td>\n",
       "      <td></td>\n",
       "      <td></td>\n",
       "      <td></td>\n",
       "      <td>...</td>\n",
       "      <td></td>\n",
       "      <td></td>\n",
       "      <td></td>\n",
       "      <td></td>\n",
       "      <td></td>\n",
       "      <td></td>\n",
       "      <td></td>\n",
       "      <td></td>\n",
       "      <td></td>\n",
       "      <td></td>\n",
       "    </tr>\n",
       "    <tr>\n",
       "      <th>4</th>\n",
       "      <td>0.3244</td>\n",
       "      <td>0.7982</td>\n",
       "      <td>0.1032</td>\n",
       "      <td>Si,Al</td>\n",
       "      <td>4</td>\n",
       "      <td>NaN</td>\n",
       "      <td></td>\n",
       "      <td></td>\n",
       "      <td></td>\n",
       "      <td></td>\n",
       "      <td>...</td>\n",
       "      <td></td>\n",
       "      <td></td>\n",
       "      <td></td>\n",
       "      <td></td>\n",
       "      <td></td>\n",
       "      <td></td>\n",
       "      <td></td>\n",
       "      <td></td>\n",
       "      <td></td>\n",
       "      <td></td>\n",
       "    </tr>\n",
       "  </tbody>\n",
       "</table>\n",
       "<p>5 rows × 142 columns</p>\n",
       "</div>"
      ],
      "text/plain": [
       "        a       b       c   atom  site_index   1 2-1 2-2 2-3 2-4  ...  2-127  \\\n",
       "0  0.3244  0.2018  0.1032  Si,Al           0 NaN                  ...          \n",
       "1  0.8244  0.7018  0.3532  Si,Al           1 NaN                  ...          \n",
       "2  0.6756  0.2018  0.1032  Si,Al           2 NaN                  ...          \n",
       "3  0.1756  0.7018  0.3532  Si,Al           3 NaN                  ...          \n",
       "4  0.3244  0.7982  0.1032  Si,Al           4 NaN                  ...          \n",
       "\n",
       "  2-128 2-129 2-130 2-131 2-132 2-133 2-134 2-135 2-136  \n",
       "0                                                        \n",
       "1                                                        \n",
       "2                                                        \n",
       "3                                                        \n",
       "4                                                        \n",
       "\n",
       "[5 rows x 142 columns]"
      ]
     },
     "execution_count": 38,
     "metadata": {},
     "output_type": "execute_result"
    }
   ],
   "source": [
    "structure_sites.head()"
   ]
  },
  {
   "cell_type": "code",
   "execution_count": 39,
   "metadata": {
    "collapsed": true
   },
   "outputs": [],
   "source": [
    "for nsite, clu_index in clusters['nsite_type_numbers'].items():\n",
    "    for index in range(1, clu_index+1):\n",
    "        clu_type = str(nsite)+'-'+str(index)\n",
    "        if nsite == '1':\n",
    "            for sites in clusters[clu_type]:\n",
    "                for site in sites:\n",
    "                    structure_sites.set_value(site, '1', int(index))\n",
    "        else:\n",
    "            for sites in clusters[clu_type]:\n",
    "                for site in sites:\n",
    "                    if (structure_sites.iloc[site][clu_type] == ''):\n",
    "                        structure_sites.set_value(site, clu_type, set(sites.difference([site])))\n",
    "                    else:\n",
    "                        structure_sites.iloc[site][clu_type].update(set(sites.difference([site])))"
   ]
  },
  {
   "cell_type": "code",
   "execution_count": 40,
   "metadata": {
    "collapsed": true
   },
   "outputs": [],
   "source": [
    "structure_sites['1'] = structure_sites['1'].astype(int)"
   ]
  },
  {
   "cell_type": "code",
   "execution_count": 41,
   "metadata": {},
   "outputs": [
    {
     "data": {
      "text/html": [
       "<div>\n",
       "<style>\n",
       "    .dataframe thead tr:only-child th {\n",
       "        text-align: right;\n",
       "    }\n",
       "\n",
       "    .dataframe thead th {\n",
       "        text-align: left;\n",
       "    }\n",
       "\n",
       "    .dataframe tbody tr th {\n",
       "        vertical-align: top;\n",
       "    }\n",
       "</style>\n",
       "<table border=\"1\" class=\"dataframe\">\n",
       "  <thead>\n",
       "    <tr style=\"text-align: right;\">\n",
       "      <th></th>\n",
       "      <th>a</th>\n",
       "      <th>b</th>\n",
       "      <th>c</th>\n",
       "      <th>atom</th>\n",
       "      <th>site_index</th>\n",
       "      <th>1</th>\n",
       "      <th>2-1</th>\n",
       "      <th>2-2</th>\n",
       "      <th>2-3</th>\n",
       "      <th>2-4</th>\n",
       "      <th>...</th>\n",
       "      <th>2-127</th>\n",
       "      <th>2-128</th>\n",
       "      <th>2-129</th>\n",
       "      <th>2-130</th>\n",
       "      <th>2-131</th>\n",
       "      <th>2-132</th>\n",
       "      <th>2-133</th>\n",
       "      <th>2-134</th>\n",
       "      <th>2-135</th>\n",
       "      <th>2-136</th>\n",
       "    </tr>\n",
       "  </thead>\n",
       "  <tbody>\n",
       "    <tr>\n",
       "      <th>0</th>\n",
       "      <td>0.3244</td>\n",
       "      <td>0.2018</td>\n",
       "      <td>0.1032</td>\n",
       "      <td>Si,Al</td>\n",
       "      <td>0</td>\n",
       "      <td>1</td>\n",
       "      <td>{24}</td>\n",
       "      <td>{50}</td>\n",
       "      <td></td>\n",
       "      <td>{23}</td>\n",
       "      <td>...</td>\n",
       "      <td>{25}</td>\n",
       "      <td>{71}</td>\n",
       "      <td>{14}</td>\n",
       "      <td></td>\n",
       "      <td>{62}</td>\n",
       "      <td>{63}</td>\n",
       "      <td></td>\n",
       "      <td>{6}</td>\n",
       "      <td></td>\n",
       "      <td></td>\n",
       "    </tr>\n",
       "    <tr>\n",
       "      <th>1</th>\n",
       "      <td>0.8244</td>\n",
       "      <td>0.7018</td>\n",
       "      <td>0.3532</td>\n",
       "      <td>Si,Al</td>\n",
       "      <td>1</td>\n",
       "      <td>1</td>\n",
       "      <td>{25}</td>\n",
       "      <td>{15}</td>\n",
       "      <td></td>\n",
       "      <td>{58}</td>\n",
       "      <td>...</td>\n",
       "      <td>{60}</td>\n",
       "      <td>{34}</td>\n",
       "      <td>{51}</td>\n",
       "      <td></td>\n",
       "      <td>{63}</td>\n",
       "      <td>{26}</td>\n",
       "      <td></td>\n",
       "      <td>{7}</td>\n",
       "      <td></td>\n",
       "      <td></td>\n",
       "    </tr>\n",
       "    <tr>\n",
       "      <th>2</th>\n",
       "      <td>0.6756</td>\n",
       "      <td>0.2018</td>\n",
       "      <td>0.1032</td>\n",
       "      <td>Si,Al</td>\n",
       "      <td>2</td>\n",
       "      <td>1</td>\n",
       "      <td>{26}</td>\n",
       "      <td>{48}</td>\n",
       "      <td></td>\n",
       "      <td>{21}</td>\n",
       "      <td>...</td>\n",
       "      <td>{27}</td>\n",
       "      <td>{69}</td>\n",
       "      <td>{12}</td>\n",
       "      <td></td>\n",
       "      <td>{60}</td>\n",
       "      <td>{61}</td>\n",
       "      <td></td>\n",
       "      <td>{4}</td>\n",
       "      <td></td>\n",
       "      <td></td>\n",
       "    </tr>\n",
       "    <tr>\n",
       "      <th>3</th>\n",
       "      <td>0.1756</td>\n",
       "      <td>0.7018</td>\n",
       "      <td>0.3532</td>\n",
       "      <td>Si,Al</td>\n",
       "      <td>3</td>\n",
       "      <td>1</td>\n",
       "      <td>{27}</td>\n",
       "      <td>{13}</td>\n",
       "      <td></td>\n",
       "      <td>{56}</td>\n",
       "      <td>...</td>\n",
       "      <td>{62}</td>\n",
       "      <td>{32}</td>\n",
       "      <td>{49}</td>\n",
       "      <td></td>\n",
       "      <td>{61}</td>\n",
       "      <td>{24}</td>\n",
       "      <td></td>\n",
       "      <td>{5}</td>\n",
       "      <td></td>\n",
       "      <td></td>\n",
       "    </tr>\n",
       "    <tr>\n",
       "      <th>4</th>\n",
       "      <td>0.3244</td>\n",
       "      <td>0.7982</td>\n",
       "      <td>0.1032</td>\n",
       "      <td>Si,Al</td>\n",
       "      <td>4</td>\n",
       "      <td>1</td>\n",
       "      <td>{24}</td>\n",
       "      <td>{46}</td>\n",
       "      <td></td>\n",
       "      <td>{19}</td>\n",
       "      <td>...</td>\n",
       "      <td>{25}</td>\n",
       "      <td>{71}</td>\n",
       "      <td>{10}</td>\n",
       "      <td></td>\n",
       "      <td>{62}</td>\n",
       "      <td>{63}</td>\n",
       "      <td></td>\n",
       "      <td>{2}</td>\n",
       "      <td></td>\n",
       "      <td></td>\n",
       "    </tr>\n",
       "  </tbody>\n",
       "</table>\n",
       "<p>5 rows × 142 columns</p>\n",
       "</div>"
      ],
      "text/plain": [
       "        a       b       c   atom  site_index  1   2-1   2-2 2-3   2-4  ...   \\\n",
       "0  0.3244  0.2018  0.1032  Si,Al           0  1  {24}  {50}      {23}  ...    \n",
       "1  0.8244  0.7018  0.3532  Si,Al           1  1  {25}  {15}      {58}  ...    \n",
       "2  0.6756  0.2018  0.1032  Si,Al           2  1  {26}  {48}      {21}  ...    \n",
       "3  0.1756  0.7018  0.3532  Si,Al           3  1  {27}  {13}      {56}  ...    \n",
       "4  0.3244  0.7982  0.1032  Si,Al           4  1  {24}  {46}      {19}  ...    \n",
       "\n",
       "  2-127 2-128 2-129 2-130 2-131 2-132 2-133 2-134 2-135 2-136  \n",
       "0  {25}  {71}  {14}        {62}  {63}         {6}              \n",
       "1  {60}  {34}  {51}        {63}  {26}         {7}              \n",
       "2  {27}  {69}  {12}        {60}  {61}         {4}              \n",
       "3  {62}  {32}  {49}        {61}  {24}         {5}              \n",
       "4  {25}  {71}  {10}        {62}  {63}         {2}              \n",
       "\n",
       "[5 rows x 142 columns]"
      ]
     },
     "execution_count": 41,
     "metadata": {},
     "output_type": "execute_result"
    }
   ],
   "source": [
    "structure_sites.head()"
   ]
  },
  {
   "cell_type": "code",
   "execution_count": 42,
   "metadata": {
    "collapsed": true
   },
   "outputs": [],
   "source": [
    "site_1_pairs = list(structure_sites.iloc[1,6:])"
   ]
  },
  {
   "cell_type": "code",
   "execution_count": 43,
   "metadata": {
    "collapsed": true
   },
   "outputs": [],
   "source": [
    "site_1_pair_set = set()"
   ]
  },
  {
   "cell_type": "code",
   "execution_count": 44,
   "metadata": {},
   "outputs": [
    {
     "name": "stdout",
     "output_type": "stream",
     "text": [
      "repeat cluster type: 52\n",
      "repeat cluster type: 64\n",
      "repeat cluster type: 66\n",
      "repeat cluster type: 69\n",
      "repeat cluster type: 70\n",
      "repeat cluster type: 74\n",
      "repeat cluster type: 76\n",
      "repeat cluster type: 80\n",
      "repeat cluster type: 81\n",
      "repeat cluster type: 95\n",
      "repeat cluster type: 102\n",
      "repeat cluster type: 107\n",
      "repeat cluster type: 110\n",
      "repeat cluster type: 112\n",
      "repeat cluster type: 114\n",
      "repeat cluster type: 115\n",
      "repeat cluster type: 117\n",
      "repeat cluster type: 121\n",
      "repeat cluster type: 124\n",
      "repeat cluster type: 128\n",
      "repeat cluster type: 129\n",
      "repeat cluster type: 132\n",
      "repeat cluster type: 134\n"
     ]
    }
   ],
   "source": [
    "for index, site in enumerate(site_1_pairs):\n",
    "    if len(site) == 0:\n",
    "        continue\n",
    "    if random.sample(site, 1)[0] in site_1_pair_set:\n",
    "        print('repeat cluster type: {}'.format(index+1))\n",
    "    site_1_pair_set.update(frozenset(site))"
   ]
  },
  {
   "cell_type": "code",
   "execution_count": 45,
   "metadata": {
    "collapsed": true
   },
   "outputs": [],
   "source": [
    "distance = []"
   ]
  },
  {
   "cell_type": "code",
   "execution_count": 106,
   "metadata": {},
   "outputs": [
    {
     "data": {
      "text/plain": [
       "False"
      ]
     },
     "execution_count": 106,
     "metadata": {},
     "output_type": "execute_result"
    }
   ],
   "source": [
    "{46, 66} in frozenset({46, 66})"
   ]
  },
  {
   "cell_type": "code",
   "execution_count": 103,
   "metadata": {},
   "outputs": [
    {
     "data": {
      "text/plain": [
       "'2-18'"
      ]
     },
     "execution_count": 103,
     "metadata": {},
     "output_type": "execute_result"
    }
   ],
   "source": [
    "cluster_type_dict[frozenset({67, 57})]"
   ]
  },
  {
   "cell_type": "code",
   "execution_count": 138,
   "metadata": {
    "collapsed": true
   },
   "outputs": [],
   "source": [
    "distance = []\n",
    "for pair in temp:\n",
    "    #p1, p2 = list(pair)\n",
    "    #x1, y1, z1 = frac_to_xyz(axes_xyz, structure_sites[structure_sites.site_index == p1][['a', 'b','c']])[0]\n",
    "    #x2, y2, z2 = frac_to_xyz(axes_xyz, structure_sites[structure_sites.site_index == p2][['a', 'b','c']])[0]\n",
    "    #d = ((x1-x2)**2 + (y1-y2)**2 +(z1-z2)**2 )**0.5\n",
    "    cluster_type = cluster_type_dict[pair]\n",
    "    d = lat_clusters[cluster_type]['max_d']\n",
    "    distance.append(d)"
   ]
  },
  {
   "cell_type": "code",
   "execution_count": 141,
   "metadata": {},
   "outputs": [
    {
     "data": {
      "image/png": "[encoded data removed]",
      "text/plain": [
       "<matplotlib.figure.Figure at 0x114e72828>"
      ]
     },
     "metadata": {},
     "output_type": "display_data"
    }
   ],
   "source": [
    "import matplotlib\n",
    "import matplotlib.pyplot as plt\n",
    "%matplotlib inline\n",
    "plt.figure(figsize=(16,12))\n",
    "plt.hist(distance, range=(3,11), bins=16, histtype='bar', ec='black');\n",
    "matplotlib.rc('xtick', labelsize=10) \n",
    "matplotlib.rc('ytick', labelsize=10) "
   ]
  },
  {
   "cell_type": "code",
   "execution_count": 62,
   "metadata": {
    "collapsed": true
   },
   "outputs": [],
   "source": [
    "lattice_sites['site_index'] = lattice_sites.groupby('atom').cumcount()"
   ]
  },
  {
   "cell_type": "code",
   "execution_count": 64,
   "metadata": {
    "collapsed": true
   },
   "outputs": [],
   "source": [
    "def write_cif(filepath, lattice_sites,structure_sites,Al_sites):\n",
    "    if os.path.isfile(filepath):\n",
    "        os.remove(filepath)\n",
    "    with open(filepath, 'a') as file:\n",
    "        file.write('''data_image0\n",
    "    _cell_length_a       {}\n",
    "    _cell_length_b       {}\n",
    "    _cell_length_c       {}\n",
    "    _cell_angle_alpha    {}\n",
    "    _cell_angle_beta     {}\n",
    "    _cell_angle_gamma    {}\n",
    "\n",
    "    _symmetry_space_group_name_H-M    \"P 1\"\n",
    "    _symmetry_int_tables_number       1\n",
    "\n",
    "    loop_\n",
    "      _symmetry_equiv_pos_as_xyz\n",
    "      'x, y, z'\n",
    "\n",
    "    loop_\n",
    "      _atom_site_label\n",
    "      _atom_site_occupancy\n",
    "      _atom_site_fract_x\n",
    "      _atom_site_fract_y\n",
    "      _atom_site_fract_z\n",
    "      _atom_site_thermal_displace_type\n",
    "      _atom_site_B_iso_or_equiv\n",
    "      _atom_site_type_symbol\\n'''.format(lattice['a'], lattice['b'], lattice['c'], lattice['alpha'], lattice['beta'], lattice['gamma']))\n",
    "        for index, row in structure_sites.iterrows():\n",
    "            if index in Al_sites:\n",
    "                file.write('  {}{} 1.0000 {:0.5f} {:0.5f} {:0.5f} Biso 1.000 {}\\n'.format(row.atom.split(',')[0], index+1, row.a, row.b, row.c, row.atom.split(',')[1]))\n",
    "            else:\n",
    "                file.write('  {}{} 1.0000 {:0.5f} {:0.5f} {:0.5f} Biso 1.000 {}\\n'.format(row.atom.split(',')[0], index+1, row.a, row.b, row.c, row.atom.split(',')[0]))\n",
    "        for index, row in lattice_sites.iterrows():\n",
    "            if row.atom == 'O':\n",
    "                file.write('  {}{} 1.0000 {:0.5f} {:0.5f} {:0.5f} Biso 1.000 {}\\n'.format(row.atom.split(',')[0], row.site_index+1, row.a, row.b, row.c, row.atom.split(',')[0]))\n",
    "        return"
   ]
  },
  {
   "cell_type": "code",
   "execution_count": 65,
   "metadata": {
    "collapsed": true
   },
   "outputs": [],
   "source": [
    "write_cif('all_sites.cif', lattice_sites, structure_sites, [])"
   ]
  },
  {
   "cell_type": "code",
   "execution_count": 155,
   "metadata": {},
   "outputs": [
    {
     "name": "stdout",
     "output_type": "stream",
     "text": [
      "10.32152\n",
      "8.82806\n",
      "8.86399\n",
      "3.1097\n",
      "7.52765\n",
      "5.73264\n",
      "3.11292\n",
      "10.18163\n",
      "9.65878\n",
      "3.16845\n",
      "9.47259\n",
      "10.00055\n",
      "8.19438\n",
      "9.47408\n",
      "10.67563\n",
      "7.52534\n",
      "3.20643\n",
      "9.43007\n",
      "9.79438\n",
      "9.36082\n",
      "10.32719\n",
      "8.98823\n",
      "8.17959\n",
      "7.72171\n",
      "5.77269\n",
      "8.46461\n",
      "8.95494\n",
      "10.32177\n",
      "9.42031\n",
      "3.21586\n",
      "9.96998\n",
      "10.53571\n",
      "3.11443\n",
      "9.28281\n",
      "7.92699\n",
      "7.04678\n",
      "7.541\n",
      "6.42776\n",
      "7.91808\n",
      "9.5791\n",
      "7.541\n",
      "9.06914\n",
      "7.66647\n",
      "7.44053\n",
      "6.67912\n",
      "8.85071\n",
      "7.36892\n",
      "7.56907\n",
      "4.59302\n",
      "9.69441\n",
      "5.38325\n",
      "9.49688\n",
      "6.56844\n",
      "5.60446\n",
      "10.0736\n",
      "6.83499\n",
      "9.80965\n",
      "3.14223\n",
      "7.40029\n",
      "9.63092\n",
      "7.541\n",
      "5.77479\n",
      "4.82425\n",
      "7.24076\n",
      "8.58473\n",
      "4.84367\n",
      "9.95712\n",
      "8.01365\n",
      "4.8425\n",
      "8.18588\n",
      "10.251\n",
      "7.7191\n",
      "4.91182\n",
      "4.65993\n",
      "7.48012\n",
      "7.3816\n",
      "4.82105\n",
      "5.59372\n",
      "8.56556\n",
      "7.55676\n",
      "7.83581\n",
      "4.42657\n",
      "7.27543\n",
      "6.55853\n",
      "9.11651\n",
      "9.75375\n",
      "7.541\n",
      "8.98886\n",
      "5.29331\n",
      "7.45289\n",
      "9.26532\n",
      "8.13725\n",
      "4.42808\n",
      "5.11578\n",
      "5.78847\n",
      "9.13221\n",
      "9.87636\n",
      "10.0546\n",
      "3.16551\n",
      "7.50774\n",
      "9.56034\n",
      "10.29909\n",
      "5.90699\n"
     ]
    }
   ],
   "source": [
    "for pair in temp:\n",
    "    cluster_type = cluster_type_dict[pair]\n",
    "    d = lat_clusters[cluster_type.split(' or ')[0]]['max_d']\n",
    "    print(d)\n",
    "    filepath = '{}-{}/{}-d{:.2f}.cif'.format(int(d), int(d)+1,cluster_type, d)\n",
    "    write_cif(filepath, lattice_sites, structure_sites, list(pair))"
   ]
  },
  {
   "cell_type": "code",
   "execution_count": null,
   "metadata": {
    "collapsed": true
   },
   "outputs": [],
   "source": []
  }
 ],
 "metadata": {
  "kernelspec": {
   "display_name": "Python 3",
   "language": "python",
   "name": "python3"
  },
  "language_info": {
   "codemirror_mode": {
    "name": "ipython",
    "version": 3
   },
   "file_extension": ".py",
   "mimetype": "text/x-python",
   "name": "python",
   "nbconvert_exporter": "python",
   "pygments_lexer": "ipython3",
   "version": "3.6.1"
  }
 },
 "nbformat": 4,
 "nbformat_minor": 2
}
