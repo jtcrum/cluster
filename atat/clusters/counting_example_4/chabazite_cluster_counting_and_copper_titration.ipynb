{
 "cells": [
  {
   "cell_type": "markdown",
   "metadata": {},
   "source": [
    "The objectives of this jupyter notebook are to generate random structures of Chabazite with different Al ratios, and count specific Al-Al pairs during Cu titration."
   ]
  },
  {
   "cell_type": "markdown",
   "metadata": {},
   "source": [
    "The general procedures to achieve these objectives are as below.\n",
    "\n",
    "1. Given lattice parameters, identify all the distinct cluster types.  \n",
    "\n",
    "2. Given structure dimensions, figure out the coordinates for all the sites in a structure.  \n",
    "   lattice parameter + atom location + structure dimension -> coordinates for all the sites within one structure cell. \n",
    "   \n",
    "2. Generate cluster list.  \n",
    "   ATAT corrdump can go through all the clusters in one structure cell for each cluster type. In this process, we can generate a cluster list having the site coordinates (site indices) for all the clusters.  \n",
    "   \n",
    "3. Figure out good/bad pair sites for each site.  \n",
    "   Identify good/bad cluster types and then add good/bad pair sites for each site.  \n",
    "   \n",
    "4. Generate random structures.  \n",
    "   Repeat as following: randomly select one site from the available site list, remove the selected site and its bad pair sites from the available site list.  \n",
    "   \n",
    "5. Copper titration.   \n",
    "   Create existing good cluster list: only keep existing good Al-Al clusters based on Al positions.   \n",
    "   Repeat as follwoing: randomly select an exsiting good cluster, record the type of the selected cluster, remove the relevant clusters (sharing sites with the selected clusteres) from the list.  "
   ]
  },
  {
   "cell_type": "markdown",
   "metadata": {},
   "source": [
    "The codes have 14 sections.  \n",
    "1. Modification of ATAT  \n",
    "2. Prepare lattice input file (lat.in)  \n",
    "3. Read lattice input file (lat.in)  \n",
    "4. Functions to convert between fractional coordinates and xyz coordinates  \n",
    "5. Prepare structure requirements input file (str_req.txt)  \n",
    "6. Read structure requirements input file (str_req.txt)  \n",
    "7. Function to find the site index for any given fractional coordinates  \n",
    "8. Create str.out file  \n",
    "9. Run corrdump to generate cluster list into cluster_list.csv file  \n",
    "10. Read cluster_list.csv  \n",
    "11. Add pair sites for each site in structure sites dataframe  \n",
    "12. Randomly generate structure for any given Si/Al ratio  \n",
    "13. Count clusters during copper titration  \n",
    "14. Cu/Al for different Si/Al ratios  "
   ]
  },
  {
   "cell_type": "markdown",
   "metadata": {},
   "source": [
    "#### 1. Modification of ATAT"
   ]
  },
  {
   "cell_type": "markdown",
   "metadata": {},
   "source": [
    "Before we run the codes, we have to modify ATAT files to output the cluster list when we run corrdump to count clusters. Corrdump has many parameters. Here we will only set the maximum distance between two points within a pair (-2=[real]), with other parameters being default. The modification of ATAT contains 2 parts: one is in calccorr.c++ file and the other is in corrdump.c++ file. After the modifications, **corrdump will output the xyz coordinates for all the clusters in a structure inspite of the atom occupations.**\n",
    "\n",
    "Note: If you also want to set other parameters, you may need to make more modifications."
   ]
  },
  {
   "cell_type": "markdown",
   "metadata": {},
   "source": [
    "a) In file calccorr.c++, please modify the following function (around line 200) as below. The modified lines have comments at the end."
   ]
  },
  {
   "cell_type": "raw",
   "metadata": {},
   "source": [
    "Real calc_correlation(const Structure &str, const Array<MultiCluster> &clusters, const rMatrix3d &cell, const Array<Array<Array<Real> > > &corrfunc) {\n",
    "  Real accum=0.;\n",
    "  int count=0;\n",
    "  rMatrix3d inv_strcell=!str.cell;\n",
    "  LatticePointInCellIterator t(cell,str.cell);\n",
    "  for ( ;t; t++) {\n",
    "    for (int c=0; c<clusters.get_size(); c++) {\n",
    "      Real sigma=1.;\n",
    "      for (int at=0; at<clusters(c).clus.get_size(); at++) {\n",
    "        Real spin=corrfunc(clusters(c).site_type(at))(clusters(c).func(at))(str.atom_type(which_atom(str.atom_pos,t+clusters(c).clus(at),inv_strcell)));\n",
    "        sigma=sigma*0.5*(spin+1); //change the correlation function; changed by Tong; original: sigma=sigma*spin; \n",
    "        cout<<t+clusters(c).clus(at)<<endl; //output the coordinates of the sites in clusters; added by Tong\n",
    "      }\n",
    "      accum+=sigma;\n",
    "      count++;\n",
    "    }\n",
    "  }\n",
    "  return accum/(Real)count;\n",
    "}\n"
   ]
  },
  {
   "cell_type": "markdown",
   "metadata": {},
   "source": [
    "b) In file corrdump.c++, please modify the following code block (around line 460). The modified lines have comments at the end."
   ]
  },
  {
   "cell_type": "raw",
   "metadata": {},
   "source": [
    "    else {\n",
    "      int ieci=0;\n",
    "      LinkedListIterator<Array<MultiCluster> > icluster(eq_clusterlist);\n",
    "      Tensor<int> tab_str;\n",
    "      for ( ; icluster; icluster++, ieci++) {\n",
    "        //the following codes are added by Tong\n",
    "        if (icluster->get_size()>0) {\n",
    "          cout << (*icluster)[0].clus.get_size() << endl;\n",
    "        }\n",
    "        else {\n",
    "          cout << \"0\" << endl;\n",
    "        }\n",
    "        cout << icluster->get_size() << endl;\n",
    "        //finish adding by Tong\n",
    "      \tReal rho;\n",
    "      \tif (fastalgo) {\n",
    "      \t  rho=calc_correlation_fast(&tab_str, ideal_str,*icluster,lattice,*pcorrfunc);\n",
    "      \t}\n",
    "      \telse {\n",
    "      \t  rho=calc_correlation(ideal_str, *icluster, spacegroup.cell, *pcorrfunc);\n",
    "      \t}\n",
    "        if (strlen(ecifile)>0) {\n",
    "      \t  pred+=eci(ieci)*(multincl ? 1 : icluster->get_size())*rho;\n",
    "      \t}\n",
    "      \telse {\n",
    "      \t  if (!doconc) {cout << rho << delim;}\n",
    "      \t}\n",
    "        cout << endl;"
   ]
  },
  {
   "cell_type": "markdown",
   "metadata": {},
   "source": [
    "c) After you modify the ATAT codes, you have to reinstall the ATAT **in terminal**. It should contain the following two commands."
   ]
  },
  {
   "cell_type": "raw",
   "metadata": {},
   "source": [
    "make  \n",
    "make install"
   ]
  },
  {
   "cell_type": "markdown",
   "metadata": {},
   "source": [
    "Python codes start here"
   ]
  },
  {
   "cell_type": "code",
   "execution_count": 1,
   "metadata": {
    "collapsed": true
   },
   "outputs": [],
   "source": [
    "import pandas as pd\n",
    "import numpy as np\n",
    "import copy\n",
    "from math import *\n",
    "import os\n",
    "import random\n",
    "from collections import defaultdict\n",
    "import csv\n",
    "from functools import reduce\n",
    "from copy import deepcopy\n",
    "import pickle\n",
    "from timeit import default_timer as timer\n",
    "from matplotlib import pyplot as plt\n",
    "%matplotlib inline"
   ]
  },
  {
   "cell_type": "markdown",
   "metadata": {},
   "source": [
    "#### 2. Prepare lattice input file (lat.in)"
   ]
  },
  {
   "cell_type": "markdown",
   "metadata": {},
   "source": [
    "The input file of lat.in contains the lattice parameters and all the possible types of atoms at each site. The detailed format of lat.in can be found in the ATAT manual (https://www.brown.edu/Departments/Engineering/Labs/avdw/atat/manual.pdf) pg. 36.  \n",
    " \n",
    "The following information is from ATAT manual.  \n",
    "Lattice file format:  \n",
    "First, the coordinate system a,b,c is specified, either as  \n",
    "[a] [b] [c] [alpha] [beta] [gamma]  \n",
    "\n",
    "Then the lattice vectors u,v,w are listed, expressed in the coordinate system   just defined:  \n",
    "[ua] [ub] [uc]  \n",
    "[va] [vb] [vc]  \n",
    "[wa] [wb] [wc]  \n",
    "\n",
    "Finally, atom positions and types are given, expressed in the same coordinate system   as the lattice vectors:  \n",
    "[atom1a] [atom1b] [atom1c] [atom1type]  \n",
    "[atom2a] [atom2b] [atom2c] [atom2type]  \n",
    "etc.  \n",
    "\n",
    "In the lattice file:  \n",
    "-The atom type is a comma-separated list of the atomic  \n",
    "symbols of the atoms that can sit the lattice site.  \n",
    "-In a binary, the first symbol listed is assigned a spin of -1.  \n",
    "In general, ordering of the atom symbol corresponds to value of s=0,1,... in the table  \n",
    "’Convention used to calculate the correlations’ below.  \n",
    "-When only one symbol is listed, this site is ignored for the purpose  \n",
    "of calculating correlations, but not for determining symmetry.  \n",
    "-The atomic symbol ’Vac’ or ’Va’ is used to indicate a vacancy.  "
   ]
  },
  {
   "cell_type": "markdown",
   "metadata": {},
   "source": [
    "#### 3. Read lattice input file (lat.in)\n",
    "Read lat.in file and create a lattice dictionary which contains the lattice parameters, lattice vectors and fractional coordinates of all the sites in the lattics."
   ]
  },
  {
   "cell_type": "code",
   "execution_count": 2,
   "metadata": {
    "collapsed": true
   },
   "outputs": [],
   "source": [
    "filepath='lat.in'\n",
    "file = open(filepath, 'r')\n",
    "lat = file.readlines()\n",
    "\n",
    "lattice = {}\n",
    "lattice['a'], lattice['b'], lattice['c'], lattice['alpha'], lattice['beta'], lattice['gamma'] = [float(number) for number in lat[0].split()]\n",
    "lattice['u'] = [int(number) for number in lat[1].split()]\n",
    "lattice['v'] = [int(number) for number in lat[2].split()]\n",
    "lattice['w'] = [int(number) for number in lat[3].split()]\n",
    "\n",
    "lattice_sites = pd.DataFrame(columns=['a', 'b', 'c', 'atom'])\n",
    "for line in lat[4:]:\n",
    "    site = line.split()[:3]\n",
    "    atom_type = ''\n",
    "    for atom in line.split()[3:]:\n",
    "        atom_type += str(atom)\n",
    "    site.append(atom_type)\n",
    "    lattice_sites = lattice_sites.append(pd.DataFrame([site], columns=['a', 'b', 'c', 'atom']))\n",
    "lattice_sites = lattice_sites.apply(pd.to_numeric, errors = 'ignore')"
   ]
  },
  {
   "cell_type": "code",
   "execution_count": 3,
   "metadata": {},
   "outputs": [
    {
     "data": {
      "text/plain": [
       "{'a': 13.675,\n",
       " 'alpha': 90.0,\n",
       " 'b': 13.675,\n",
       " 'beta': 90.0,\n",
       " 'c': 14.767,\n",
       " 'gamma': 120.0,\n",
       " 'u': [1, 0, 0],\n",
       " 'v': [0, 1, 0],\n",
       " 'w': [0, 0, 1]}"
      ]
     },
     "execution_count": 3,
     "metadata": {},
     "output_type": "execute_result"
    }
   ],
   "source": [
    "lattice"
   ]
  },
  {
   "cell_type": "code",
   "execution_count": 4,
   "metadata": {},
   "outputs": [
    {
     "data": {
      "text/html": [
       "<div>\n",
       "<style>\n",
       "    .dataframe thead tr:only-child th {\n",
       "        text-align: right;\n",
       "    }\n",
       "\n",
       "    .dataframe thead th {\n",
       "        text-align: left;\n",
       "    }\n",
       "\n",
       "    .dataframe tbody tr th {\n",
       "        vertical-align: top;\n",
       "    }\n",
       "</style>\n",
       "<table border=\"1\" class=\"dataframe\">\n",
       "  <thead>\n",
       "    <tr style=\"text-align: right;\">\n",
       "      <th></th>\n",
       "      <th>a</th>\n",
       "      <th>b</th>\n",
       "      <th>c</th>\n",
       "      <th>atom</th>\n",
       "    </tr>\n",
       "  </thead>\n",
       "  <tbody>\n",
       "    <tr>\n",
       "      <th>0</th>\n",
       "      <td>0.666967</td>\n",
       "      <td>0.106933</td>\n",
       "      <td>0.228233</td>\n",
       "      <td>Si,Al</td>\n",
       "    </tr>\n",
       "    <tr>\n",
       "      <th>0</th>\n",
       "      <td>0.893067</td>\n",
       "      <td>0.560033</td>\n",
       "      <td>0.228233</td>\n",
       "      <td>Si,Al</td>\n",
       "    </tr>\n",
       "    <tr>\n",
       "      <th>0</th>\n",
       "      <td>0.666967</td>\n",
       "      <td>0.560033</td>\n",
       "      <td>0.228233</td>\n",
       "      <td>Si,Al</td>\n",
       "    </tr>\n",
       "    <tr>\n",
       "      <th>0</th>\n",
       "      <td>0.439967</td>\n",
       "      <td>0.333033</td>\n",
       "      <td>0.228233</td>\n",
       "      <td>Si,Al</td>\n",
       "    </tr>\n",
       "    <tr>\n",
       "      <th>0</th>\n",
       "      <td>0.568667</td>\n",
       "      <td>0.137333</td>\n",
       "      <td>0.456033</td>\n",
       "      <td>O</td>\n",
       "    </tr>\n",
       "  </tbody>\n",
       "</table>\n",
       "</div>"
      ],
      "text/plain": [
       "          a         b         c   atom\n",
       "0  0.666967  0.106933  0.228233  Si,Al\n",
       "0  0.893067  0.560033  0.228233  Si,Al\n",
       "0  0.666967  0.560033  0.228233  Si,Al\n",
       "0  0.439967  0.333033  0.228233  Si,Al\n",
       "0  0.568667  0.137333  0.456033      O"
      ]
     },
     "execution_count": 4,
     "metadata": {},
     "output_type": "execute_result"
    }
   ],
   "source": [
    "lattice_sites.head()"
   ]
  },
  {
   "cell_type": "markdown",
   "metadata": {},
   "source": [
    "#### 4. Functions to convert between fractional coordinates and xyz coordinates"
   ]
  },
  {
   "cell_type": "code",
   "execution_count": 5,
   "metadata": {
    "collapsed": true
   },
   "outputs": [],
   "source": [
    "def lattice_axes_xyz(lattic):\n",
    "    '''\n",
    "    function to prepare the xyz axes (a matrix)\n",
    "                [ax] [ay] [az]\n",
    "    axes_xyz =  [bx] [by] [bz]\n",
    "                [cx] [cy] [cz]\n",
    "    '''\n",
    "    a = np.array([1,0,0]) * lattice['a']\n",
    "    b = np.array([cos(lattice['gamma']/180*pi), sin(lattice['gamma']/180*pi), 0]) * lattice['b']\n",
    "    c = np.cross(a, b)/np.linalg.norm(np.cross(a, b)) * lattice['c']\n",
    "    return np.array((a,b,c))"
   ]
  },
  {
   "cell_type": "code",
   "execution_count": 6,
   "metadata": {},
   "outputs": [],
   "source": [
    "def lattice_axes_abc(lattice):\n",
    "    '''\n",
    "    function to prepare the abc axes (a matrix)\n",
    "                [ua] [ub] [uc]\n",
    "    axes_abc =  [va] [vb] [vc]\n",
    "                [wa] [wb] [wc]\n",
    "    '''\n",
    "    return np.array((lattice['u'], lattice['v'], lattice['w']))"
   ]
  },
  {
   "cell_type": "code",
   "execution_count": 7,
   "metadata": {
    "collapsed": true
   },
   "outputs": [],
   "source": [
    "def frac_to_xyz(axes_xyz, frac_coor):\n",
    "    '''\n",
    "    function to convert fractional coordinates to xyz coordinates\n",
    "    '''\n",
    "    return np.dot(frac_coor, axes_xyz)"
   ]
  },
  {
   "cell_type": "code",
   "execution_count": 8,
   "metadata": {
    "collapsed": true
   },
   "outputs": [],
   "source": [
    "def xyz_to_frac(axes_xyz, xyz_coor):\n",
    "    '''\n",
    "    function to convert xyz coordinates to fractional coordinates\n",
    "    '''\n",
    "    return np.dot(xyz_coor, np.linalg.inv(axes_xyz))"
   ]
  },
  {
   "cell_type": "code",
   "execution_count": 9,
   "metadata": {
    "collapsed": true
   },
   "outputs": [],
   "source": [
    "axes_abc = lattice_axes_abc(lattice)"
   ]
  },
  {
   "cell_type": "code",
   "execution_count": 10,
   "metadata": {},
   "outputs": [
    {
     "data": {
      "text/plain": [
       "array([[1, 0, 0],\n",
       "       [0, 1, 0],\n",
       "       [0, 0, 1]])"
      ]
     },
     "execution_count": 10,
     "metadata": {},
     "output_type": "execute_result"
    }
   ],
   "source": [
    "axes_abc"
   ]
  },
  {
   "cell_type": "code",
   "execution_count": 11,
   "metadata": {
    "collapsed": true
   },
   "outputs": [],
   "source": [
    "axes_xyz = lattice_axes_xyz(lattice)"
   ]
  },
  {
   "cell_type": "code",
   "execution_count": 12,
   "metadata": {},
   "outputs": [
    {
     "data": {
      "text/plain": [
       "array([[ 13.675    ,   0.       ,   0.       ],\n",
       "       [ -6.8375   ,  11.8428974,   0.       ],\n",
       "       [  0.       ,  -0.       ,  14.767    ]])"
      ]
     },
     "execution_count": 12,
     "metadata": {},
     "output_type": "execute_result"
    }
   ],
   "source": [
    "axes_xyz"
   ]
  },
  {
   "cell_type": "code",
   "execution_count": 13,
   "metadata": {},
   "outputs": [
    {
     "data": {
      "text/plain": [
       "array([ 3.41875  ,  5.9214487,  0.       ])"
      ]
     },
     "execution_count": 13,
     "metadata": {},
     "output_type": "execute_result"
    }
   ],
   "source": [
    "frac_to_xyz(axes_xyz, np.array((0.5, 0.5, 0)))"
   ]
  },
  {
   "cell_type": "code",
   "execution_count": 14,
   "metadata": {},
   "outputs": [
    {
     "data": {
      "text/plain": [
       "array([ 0.5,  0. ,  0. ])"
      ]
     },
     "execution_count": 14,
     "metadata": {},
     "output_type": "execute_result"
    }
   ],
   "source": [
    "xyz_to_frac(axes_xyz, np.array((6.8375, 0, 0)))"
   ]
  },
  {
   "cell_type": "markdown",
   "metadata": {},
   "source": [
    "#### 5. Prepare structure requirements input file (str_req.txt)\n",
    "Before creating str_req.txt, we have to know all the cluster types within the maximum distance that we specified. We can run corrdump with only the lat.in file. A clusters.out file will be generated. It contains the information of all the symmetrically distinct clusters for the lattice that you specified in lat.in file. Based on the cluster order in the clusters.out file and the number of atoms(sites) containing in the cluster, we will define the cluster type as: \n",
    "\n",
    "cluster type = [nsite]-[order of the specific cluster in all nsite-clusters in clusters.out].\n",
    "\n",
    "For example, for the first 2-body cluster in clusters.out, its cluster type is 2-1.  \n",
    "For the second 2-body cluster in clusters.out, its cluster type is 2-2."
   ]
  },
  {
   "cell_type": "markdown",
   "metadata": {},
   "source": [
    "Then we will create a file which describe the structure requirements. It will include 3 parts: 1) the structure dimensions, 2) the clusters that cannot exist based on the rules we defined (*bad clusters*), and 3) the clusters of interest (*good clusters*, we want to count the number of them).  \n",
    "\n",
    "The specific str_req.txt format:\n",
    "\n",
    "First the structure vectors u,v,w are listed, expressed in the coordinate system just defined:  \n",
    "[ua] [ub] [uc]  \n",
    "[va] [vb] [vc]  \n",
    "[wa] [wb] [wc]  \n",
    "\n",
    "Next, the cluster types that cannot exist:  \n",
    "[badtype1] [badtype2] [badtype3] [badtype4] etc.  \n",
    "\n",
    "Finally, the cluster types of interest:  \n",
    "[goodtype1] [goodtype2] [goodtype3] [goodtype4] etc.  \n",
    "\n",
    "Here is an example of str_req.txt file.\n",
    "\n",
    "2 0 0  \n",
    "0 2 0  \n",
    "0 0 2   \n",
    "2-1, 2-2, 2-3, 2-4  \n",
    "2-5, 2-6, 2-7, 2-8, 2-9, 2-10, 2-11  "
   ]
  },
  {
   "cell_type": "markdown",
   "metadata": {},
   "source": [
    "#### 6. Read structure requirements input file (str_req.txt)\n",
    "Generate structure dictionary containing structure dimensions, site coordinates, bad clusters (cannot exist) and good clusters (we want to count)."
   ]
  },
  {
   "cell_type": "code",
   "execution_count": 15,
   "metadata": {
    "collapsed": true
   },
   "outputs": [],
   "source": [
    "structure = {}"
   ]
  },
  {
   "cell_type": "code",
   "execution_count": 16,
   "metadata": {
    "collapsed": true
   },
   "outputs": [],
   "source": [
    "file = open('str_req.txt', 'r')\n",
    "str_req = file.readlines()\n",
    "\n",
    "structure_u = [int(number) for number in str_req[0].split()]\n",
    "structure_v = [int(number) for number in str_req[1].split()]\n",
    "structure_w = [int(number) for number in str_req[2].split()]\n",
    "\n",
    "bad_types = [s.replace(' ', '').replace('\\n', '') for s in str_req[3].split(',')]\n",
    "good_types = [s.replace(' ', '').replace('\\n', '') for s in str_req[4].split(',')]"
   ]
  },
  {
   "cell_type": "code",
   "execution_count": 17,
   "metadata": {},
   "outputs": [
    {
     "data": {
      "text/plain": [
       "[2, 0, 0]"
      ]
     },
     "execution_count": 17,
     "metadata": {},
     "output_type": "execute_result"
    }
   ],
   "source": [
    "structure_u"
   ]
  },
  {
   "cell_type": "code",
   "execution_count": 18,
   "metadata": {},
   "outputs": [
    {
     "data": {
      "text/plain": [
       "['2-1', '2-2', '2-3', '2-4']"
      ]
     },
     "execution_count": 18,
     "metadata": {},
     "output_type": "execute_result"
    }
   ],
   "source": [
    "bad_types"
   ]
  },
  {
   "cell_type": "code",
   "execution_count": 19,
   "metadata": {
    "collapsed": true
   },
   "outputs": [],
   "source": [
    "nu = int(np.mean(structure_u)/np.mean(lattice['u']))\n",
    "nv = int(np.mean(structure_v)/np.mean(lattice['v']))\n",
    "nw = int(np.mean(structure_w)/np.mean(lattice['w']))\n",
    "n_cell = nu * nv * nw"
   ]
  },
  {
   "cell_type": "code",
   "execution_count": 20,
   "metadata": {},
   "outputs": [
    {
     "data": {
      "text/plain": [
       "2"
      ]
     },
     "execution_count": 20,
     "metadata": {},
     "output_type": "execute_result"
    }
   ],
   "source": [
    "nu"
   ]
  },
  {
   "cell_type": "code",
   "execution_count": 107,
   "metadata": {},
   "outputs": [],
   "source": [
    "O_unit_sites = lattice_sites[lattice_sites['atom']=='O']\n",
    "O_sites = pd.DataFrame(columns=lattice_sites.columns)\n",
    "for i in range(0, nu):\n",
    "    for j in range(0, nv):\n",
    "        for k in range(0, nw):\n",
    "            sites = pd.DataFrame(columns=O_unit_sites.columns)\n",
    "            delta = list(np.array(lattice['u'])*i + np.array(lattice['v'])*j + np.array(lattice['w'])*k)\n",
    "            sites['a'] = O_unit_sites.a + delta[0]\n",
    "            sites['b'] = O_unit_sites.b + delta[1]\n",
    "            sites['c'] = O_unit_sites.c + delta[2]\n",
    "            sites['atom'] = O_unit_sites.atom\n",
    "            O_sites = O_sites.append(sites)"
   ]
  },
  {
   "cell_type": "code",
   "execution_count": 21,
   "metadata": {},
   "outputs": [],
   "source": [
    "important_unit_sites =  lattice_sites[lattice_sites['atom']!='O']\n",
    "structure_sites = pd.DataFrame(columns=lattice_sites.columns)\n",
    "for i in range(0, nu):\n",
    "    for j in range(0, nv):\n",
    "        for k in range(0, nw):\n",
    "            sites = pd.DataFrame(columns=important_unit_sites.columns)\n",
    "            delta = list(np.array(lattice['u'])*i + np.array(lattice['v'])*j + np.array(lattice['w'])*k)\n",
    "            sites['a'] = important_unit_sites.a + delta[0]\n",
    "            sites['b'] = important_unit_sites.b + delta[1]\n",
    "            sites['c'] = important_unit_sites.c + delta[2]\n",
    "            sites['atom'] = important_unit_sites.atom\n",
    "            structure_sites = structure_sites.append(sites)"
   ]
  },
  {
   "cell_type": "code",
   "execution_count": 22,
   "metadata": {
    "collapsed": true
   },
   "outputs": [],
   "source": [
    "structure_sites.reset_index(drop=True, inplace=True)\n",
    "structure_sites['site_index'] = structure_sites.index"
   ]
  },
  {
   "cell_type": "code",
   "execution_count": 23,
   "metadata": {
    "scrolled": true
   },
   "outputs": [
    {
     "data": {
      "text/html": [
       "<div>\n",
       "<style>\n",
       "    .dataframe thead tr:only-child th {\n",
       "        text-align: right;\n",
       "    }\n",
       "\n",
       "    .dataframe thead th {\n",
       "        text-align: left;\n",
       "    }\n",
       "\n",
       "    .dataframe tbody tr th {\n",
       "        vertical-align: top;\n",
       "    }\n",
       "</style>\n",
       "<table border=\"1\" class=\"dataframe\">\n",
       "  <thead>\n",
       "    <tr style=\"text-align: right;\">\n",
       "      <th></th>\n",
       "      <th>a</th>\n",
       "      <th>b</th>\n",
       "      <th>c</th>\n",
       "      <th>atom</th>\n",
       "      <th>site_index</th>\n",
       "    </tr>\n",
       "  </thead>\n",
       "  <tbody>\n",
       "    <tr>\n",
       "      <th>0</th>\n",
       "      <td>0.666967</td>\n",
       "      <td>0.106933</td>\n",
       "      <td>0.228233</td>\n",
       "      <td>Si,Al</td>\n",
       "      <td>0</td>\n",
       "    </tr>\n",
       "    <tr>\n",
       "      <th>1</th>\n",
       "      <td>0.893067</td>\n",
       "      <td>0.560033</td>\n",
       "      <td>0.228233</td>\n",
       "      <td>Si,Al</td>\n",
       "      <td>1</td>\n",
       "    </tr>\n",
       "    <tr>\n",
       "      <th>2</th>\n",
       "      <td>0.666967</td>\n",
       "      <td>0.560033</td>\n",
       "      <td>0.228233</td>\n",
       "      <td>Si,Al</td>\n",
       "      <td>2</td>\n",
       "    </tr>\n",
       "    <tr>\n",
       "      <th>3</th>\n",
       "      <td>0.439967</td>\n",
       "      <td>0.333033</td>\n",
       "      <td>0.228233</td>\n",
       "      <td>Si,Al</td>\n",
       "      <td>3</td>\n",
       "    </tr>\n",
       "    <tr>\n",
       "      <th>4</th>\n",
       "      <td>0.666367</td>\n",
       "      <td>0.106633</td>\n",
       "      <td>0.438433</td>\n",
       "      <td>Si,Al</td>\n",
       "      <td>4</td>\n",
       "    </tr>\n",
       "  </tbody>\n",
       "</table>\n",
       "</div>"
      ],
      "text/plain": [
       "          a         b         c   atom  site_index\n",
       "0  0.666967  0.106933  0.228233  Si,Al           0\n",
       "1  0.893067  0.560033  0.228233  Si,Al           1\n",
       "2  0.666967  0.560033  0.228233  Si,Al           2\n",
       "3  0.439967  0.333033  0.228233  Si,Al           3\n",
       "4  0.666367  0.106633  0.438433  Si,Al           4"
      ]
     },
     "execution_count": 23,
     "metadata": {},
     "output_type": "execute_result"
    }
   ],
   "source": [
    "structure_sites.head(5)"
   ]
  },
  {
   "cell_type": "code",
   "execution_count": 24,
   "metadata": {
    "collapsed": true
   },
   "outputs": [],
   "source": [
    "structure['u'] = structure_u\n",
    "structure['v'] = structure_v\n",
    "structure['w'] = structure_w\n",
    "structure['nu'] = nu\n",
    "structure['nv'] = nv\n",
    "structure['nw'] = nw\n",
    "structure['sites'] = structure_sites\n",
    "structure['good_types'] = good_types\n",
    "structure['bad_types'] = bad_types"
   ]
  },
  {
   "cell_type": "markdown",
   "metadata": {},
   "source": [
    "#### 7. Function to find the site index for any given fractional coordinates"
   ]
  },
  {
   "cell_type": "code",
   "execution_count": 25,
   "metadata": {
    "collapsed": true
   },
   "outputs": [],
   "source": [
    "def find_site_index(axes_abc, structure, frac_coor):\n",
    "    df = structure['sites']\n",
    "    nu, nv, nw = structure['nu'],structure['nv'],structure['nw']\n",
    "    \n",
    "    fu, fv, fw = np.dot(frac_coor, np.linalg.inv(axes_abc))\n",
    "    \n",
    "    #translate the site into the structure by subtracting multiple structure vector on each dimension\n",
    "    fu -= (fu//nu)*nu\n",
    "    fv -= (fv//nv)*nv\n",
    "    fw -= (fw//nw)*nw\n",
    "    \n",
    "    fa, fb, fc = np.dot(np.array((fu, fv, fw)), axes_abc)\n",
    "    \n",
    "    site_index = df[(abs(df.a-fa) < 0.001) & (abs(df.b-fb) < 0.001) & (abs(df.c-fc) < 0.001)].index\n",
    "    if len(site_index) == 0:\n",
    "        print(\"Error! Cannot find the site index in the structure.\")\n",
    "        return np.nan\n",
    "    elif len(site_index) < 1:\n",
    "        print(\"Error! Find multiple site indices in the structure.\")\n",
    "        return np.nan\n",
    "    else:\n",
    "        return site_index[0]"
   ]
  },
  {
   "cell_type": "code",
   "execution_count": 26,
   "metadata": {},
   "outputs": [
    {
     "data": {
      "text/plain": [
       "187"
      ]
     },
     "execution_count": 26,
     "metadata": {},
     "output_type": "execute_result"
    }
   ],
   "source": [
    "find_site_index(axes_abc, structure, [ -3.00016543e-04,   7.73299784e-01,   1.10509988e+00])"
   ]
  },
  {
   "cell_type": "code",
   "execution_count": 27,
   "metadata": {
    "collapsed": true
   },
   "outputs": [],
   "source": [
    "frac_coor = xyz_to_frac(axes_xyz, [16.77308,7.89881,11.39667])"
   ]
  },
  {
   "cell_type": "code",
   "execution_count": 28,
   "metadata": {},
   "outputs": [
    {
     "data": {
      "text/plain": [
       "176"
      ]
     },
     "execution_count": 28,
     "metadata": {},
     "output_type": "execute_result"
    }
   ],
   "source": [
    "find_site_index(axes_abc, structure, frac_coor)"
   ]
  },
  {
   "cell_type": "markdown",
   "metadata": {},
   "source": [
    "#### 8. Create str.out file  \n",
    "A str.out file is created based on the structure dimensions with Si on all sites. Actually the coordinates of all the clusters(cluster list) won't change in regards to the atom type on each site. Here we just put Si on all sites. "
   ]
  },
  {
   "cell_type": "code",
   "execution_count": 29,
   "metadata": {},
   "outputs": [],
   "source": [
    "if os.path.isfile('str.out'):\n",
    "    os.remove('str.out')\n",
    "with open('str.out', 'a') as str_file:\n",
    "    str_file.write('{} {} {} {} {} {}\\n'.format(lattice['a'], lattice['b'], lattice['c'], int(lattice['alpha']), int(lattice['beta']), int(lattice['gamma'])))\n",
    "    str_file.write('{} {} {}\\n'.format(int(structure['u'][0]),int(structure['u'][1]),int(structure['u'][2])))\n",
    "    str_file.write('{} {} {}\\n'.format(int(structure['v'][0]),int(structure['v'][1]),int(structure['v'][2])))\n",
    "    str_file.write('{} {} {}\\n'.format(int(structure['w'][0]),int(structure['w'][1]),int(structure['w'][2])))\n",
    "    for index, row in structure['sites'].iterrows():\n",
    "        str_file.write('{} {} {} Si\\n'.format(row.a, row.b, row.c))"
   ]
  },
  {
   "cell_type": "markdown",
   "metadata": {},
   "source": [
    "#### 9. Run corrdump to generate cluster list into cluster_list.csv file  \n",
    "The cluster list contains the coordinates of all the clusters."
   ]
  },
  {
   "cell_type": "code",
   "execution_count": 30,
   "metadata": {},
   "outputs": [
    {
     "name": "stdout",
     "output_type": "stream",
     "text": [
      "Warning: unit cell is not primitive.\r\n"
     ]
    }
   ],
   "source": [
    "# Here we define the maximum distance between 2 atoms in a 2-body cluster is 6.2.\n",
    "if os.path.isfile('cluster_list.csv'):\n",
    "    os.remove('cluster_list.csv')\n",
    "!corrdump -2 = 6.3 >> cluster_list.csv"
   ]
  },
  {
   "cell_type": "markdown",
   "metadata": {},
   "source": [
    "#### 10. Read cluster_list.csv"
   ]
  },
  {
   "cell_type": "markdown",
   "metadata": {},
   "source": [
    "The format for the file cluster_list.csv is as below.  \n",
    "For each cluster type:  \n",
    "First, the number of site in the cluster is given:  \n",
    "[nsite]  \n",
    "  \n",
    "Next, the multiplicity (number of the cluster in the unit cell) is given:    \n",
    "[multiplicity]  \n",
    "\n",
    "Then, site xyz coordinates are listed for each cluster of that type:  \n",
    "[cluster1site1x] [cluster1site1y] [cluster1site1z]  \n",
    "[cluster1site2x] [cluster1site2y] [cluster1site2z]   \n",
    "...  \n",
    "[cluster1siteNx] [cluster1siteNy] [cluster1siteNz]  \n",
    "[cluster2site1x] [cluster2site1y] [cluster2site1z]  \n",
    "[cluster2site2x] [cluster2site2y] [cluster2site2z]   \n",
    "...  \n",
    "[cluster2siteNx] [cluster2siteNy] [cluster2siteNz]  \n",
    "...  \n",
    "...  \n",
    "etc.  \n",
    "\n",
    "Finally, the correlation function is given:  \n",
    "[correlation function]  \n",
    "\n",
    "Since all sites have Si in str.out, the correlation function is usually 0 or 1(for the first cluster type)."
   ]
  },
  {
   "cell_type": "code",
   "execution_count": 31,
   "metadata": {
    "collapsed": true
   },
   "outputs": [],
   "source": [
    "ncell = structure['nu']*structure['nv']*structure['nw']"
   ]
  },
  {
   "cell_type": "code",
   "execution_count": 32,
   "metadata": {},
   "outputs": [],
   "source": [
    "clulist = []\n",
    "\n",
    "with open('cluster_list.csv') as csvfile:\n",
    "    readCSV = csv.reader(csvfile, delimiter=' ')\n",
    "    for row in readCSV:\n",
    "        if(len(row) == 0):\n",
    "            continue\n",
    "        elif(len(row) == 1):\n",
    "            row[0] = row[0].replace('\\t', '')\n",
    "            clulist.append(int(float(row[0])))\n",
    "        else:\n",
    "            temp = []\n",
    "            for element in row:\n",
    "                temp.append(float(element))\n",
    "            clulist.append(temp)"
   ]
  },
  {
   "cell_type": "markdown",
   "metadata": {},
   "source": [
    "Create a dictionary (called clusters) which contains 1) cluster types, 2) cluster type number for different number of sites, and 3) the site indices for all the clusters for each cluster type.  \n",
    "\n",
    "clusters['types'] will list all the cluster types.  \n",
    "clusters['nsite_type_numbers'] will list the number of the types for nsite.  \n",
    "clusters['2-1'] will list all the clusters (consist of site indices) of type 2-1.  "
   ]
  },
  {
   "cell_type": "code",
   "execution_count": 33,
   "metadata": {},
   "outputs": [],
   "source": [
    "clusters = {}\n",
    "nsite_type_numbers = {}\n",
    "cluster_types = []\n",
    "\n",
    "i = 0\n",
    "nsite = 0\n",
    "cluster_index = 1\n",
    "temp = set()\n",
    "\n",
    "while(i < len(clulist)):\n",
    "    #read n_site\n",
    "    new_nsite = clulist[i]\n",
    "    i += 1\n",
    "    \n",
    "    #pass first three lines where the cluster contains 0 site\n",
    "    if (new_nsite == 0):\n",
    "        i+=2\n",
    "        continue\n",
    "    \n",
    "    #if the cluster has more sites than the previous cluster, reset nsite and cluster index\n",
    "    if (new_nsite != nsite):\n",
    "        nsite = new_nsite\n",
    "        cluster_index = 1\n",
    "        \n",
    "    #set the cluster type = [nsite]-[order of the specific cluster in all nsite-clusters].\n",
    "    cluster_type = str(nsite)+'-'+str(cluster_index)\n",
    "    cluster_types.append(cluster_type)\n",
    "    \n",
    "    #initialize a empty set called temp \n",
    "    temp = set()\n",
    "        \n",
    "    #read multiplicity\n",
    "    multiplicity = clulist[i]\n",
    "    i += 1\n",
    "    \n",
    "    #go through all the clusters\n",
    "    n_cluster = multiplicity *ncell\n",
    "    for j in range(n_cluster):\n",
    "        cluster = set()\n",
    "        for k in range(nsite):\n",
    "            point = []\n",
    "            for element in clulist[i]:\n",
    "                point.append(float(element))\n",
    "            frac_coor = xyz_to_frac(axes_xyz, point)\n",
    "            site = find_site_index(axes_abc, structure, frac_coor)\n",
    "\n",
    "            cluster.update([site])\n",
    "            i += 1\n",
    "        if frozenset(cluster) in temp:\n",
    "            print('Error! Repeated cluster found in line {}. The cluster is {}.'.format(i+1, cluster))\n",
    "        temp.add(frozenset(cluster))\n",
    "    \n",
    "    #pass the line with correlation\n",
    "    i += 1 \n",
    "    \n",
    "    #put the set of clusters in dictionary of clusters\n",
    "    clusters[cluster_type] = temp\n",
    "    nsite_type_numbers[str(nsite)] = cluster_index\n",
    "    \n",
    "    #count cluster types\n",
    "    cluster_index += 1   \n",
    "\n",
    "clusters['cluster_types'] = cluster_types\n",
    "clusters['nsite_type_numbers'] = nsite_type_numbers"
   ]
  },
  {
   "cell_type": "code",
   "execution_count": 34,
   "metadata": {},
   "outputs": [
    {
     "data": {
      "text/plain": [
       "['1-1',\n",
       " '2-1',\n",
       " '2-2',\n",
       " '2-3',\n",
       " '2-4',\n",
       " '2-5',\n",
       " '2-6',\n",
       " '2-7',\n",
       " '2-8',\n",
       " '2-9',\n",
       " '2-10',\n",
       " '2-11',\n",
       " '2-12']"
      ]
     },
     "execution_count": 34,
     "metadata": {},
     "output_type": "execute_result"
    }
   ],
   "source": [
    "clusters['cluster_types']"
   ]
  },
  {
   "cell_type": "code",
   "execution_count": 35,
   "metadata": {},
   "outputs": [
    {
     "data": {
      "text/plain": [
       "{'1': 1, '2': 12}"
      ]
     },
     "execution_count": 35,
     "metadata": {},
     "output_type": "execute_result"
    }
   ],
   "source": [
    "clusters['nsite_type_numbers']"
   ]
  },
  {
   "cell_type": "markdown",
   "metadata": {},
   "source": [
    "#### 11. Add pair sites for each site in structure sites dataframe "
   ]
  },
  {
   "cell_type": "code",
   "execution_count": 36,
   "metadata": {},
   "outputs": [
    {
     "data": {
      "text/html": [
       "<div>\n",
       "<style>\n",
       "    .dataframe thead tr:only-child th {\n",
       "        text-align: right;\n",
       "    }\n",
       "\n",
       "    .dataframe thead th {\n",
       "        text-align: left;\n",
       "    }\n",
       "\n",
       "    .dataframe tbody tr th {\n",
       "        vertical-align: top;\n",
       "    }\n",
       "</style>\n",
       "<table border=\"1\" class=\"dataframe\">\n",
       "  <thead>\n",
       "    <tr style=\"text-align: right;\">\n",
       "      <th></th>\n",
       "      <th>a</th>\n",
       "      <th>b</th>\n",
       "      <th>c</th>\n",
       "      <th>atom</th>\n",
       "      <th>site_index</th>\n",
       "    </tr>\n",
       "  </thead>\n",
       "  <tbody>\n",
       "    <tr>\n",
       "      <th>0</th>\n",
       "      <td>0.666967</td>\n",
       "      <td>0.106933</td>\n",
       "      <td>0.228233</td>\n",
       "      <td>Si,Al</td>\n",
       "      <td>0</td>\n",
       "    </tr>\n",
       "    <tr>\n",
       "      <th>1</th>\n",
       "      <td>0.893067</td>\n",
       "      <td>0.560033</td>\n",
       "      <td>0.228233</td>\n",
       "      <td>Si,Al</td>\n",
       "      <td>1</td>\n",
       "    </tr>\n",
       "    <tr>\n",
       "      <th>2</th>\n",
       "      <td>0.666967</td>\n",
       "      <td>0.560033</td>\n",
       "      <td>0.228233</td>\n",
       "      <td>Si,Al</td>\n",
       "      <td>2</td>\n",
       "    </tr>\n",
       "    <tr>\n",
       "      <th>3</th>\n",
       "      <td>0.439967</td>\n",
       "      <td>0.333033</td>\n",
       "      <td>0.228233</td>\n",
       "      <td>Si,Al</td>\n",
       "      <td>3</td>\n",
       "    </tr>\n",
       "    <tr>\n",
       "      <th>4</th>\n",
       "      <td>0.666367</td>\n",
       "      <td>0.106633</td>\n",
       "      <td>0.438433</td>\n",
       "      <td>Si,Al</td>\n",
       "      <td>4</td>\n",
       "    </tr>\n",
       "  </tbody>\n",
       "</table>\n",
       "</div>"
      ],
      "text/plain": [
       "          a         b         c   atom  site_index\n",
       "0  0.666967  0.106933  0.228233  Si,Al           0\n",
       "1  0.893067  0.560033  0.228233  Si,Al           1\n",
       "2  0.666967  0.560033  0.228233  Si,Al           2\n",
       "3  0.439967  0.333033  0.228233  Si,Al           3\n",
       "4  0.666367  0.106633  0.438433  Si,Al           4"
      ]
     },
     "execution_count": 36,
     "metadata": {},
     "output_type": "execute_result"
    }
   ],
   "source": [
    "structure_sites.head()"
   ]
  },
  {
   "cell_type": "code",
   "execution_count": 37,
   "metadata": {},
   "outputs": [],
   "source": [
    "#create a column for single-site cluster type\n",
    "structure_sites['1'] = np.nan\n",
    "#create one column for each multiple-site cluster\n",
    "for nsite, clu_index in clusters['nsite_type_numbers'].items():\n",
    "    if (nsite != '1'):\n",
    "        for index in range(1, clu_index+1):\n",
    "            clu_type = str(nsite)+'-'+str(index)\n",
    "            structure_sites[clu_type] = \"\"\n",
    "            structure_sites[clu_type].astype('object')"
   ]
  },
  {
   "cell_type": "code",
   "execution_count": 38,
   "metadata": {},
   "outputs": [
    {
     "data": {
      "text/html": [
       "<div>\n",
       "<style>\n",
       "    .dataframe thead tr:only-child th {\n",
       "        text-align: right;\n",
       "    }\n",
       "\n",
       "    .dataframe thead th {\n",
       "        text-align: left;\n",
       "    }\n",
       "\n",
       "    .dataframe tbody tr th {\n",
       "        vertical-align: top;\n",
       "    }\n",
       "</style>\n",
       "<table border=\"1\" class=\"dataframe\">\n",
       "  <thead>\n",
       "    <tr style=\"text-align: right;\">\n",
       "      <th></th>\n",
       "      <th>a</th>\n",
       "      <th>b</th>\n",
       "      <th>c</th>\n",
       "      <th>atom</th>\n",
       "      <th>site_index</th>\n",
       "      <th>1</th>\n",
       "      <th>2-1</th>\n",
       "      <th>2-2</th>\n",
       "      <th>2-3</th>\n",
       "      <th>2-4</th>\n",
       "      <th>2-5</th>\n",
       "      <th>2-6</th>\n",
       "      <th>2-7</th>\n",
       "      <th>2-8</th>\n",
       "      <th>2-9</th>\n",
       "      <th>2-10</th>\n",
       "      <th>2-11</th>\n",
       "      <th>2-12</th>\n",
       "    </tr>\n",
       "  </thead>\n",
       "  <tbody>\n",
       "    <tr>\n",
       "      <th>0</th>\n",
       "      <td>0.666967</td>\n",
       "      <td>0.106933</td>\n",
       "      <td>0.228233</td>\n",
       "      <td>Si,Al</td>\n",
       "      <td>0</td>\n",
       "      <td>NaN</td>\n",
       "      <td></td>\n",
       "      <td></td>\n",
       "      <td></td>\n",
       "      <td></td>\n",
       "      <td></td>\n",
       "      <td></td>\n",
       "      <td></td>\n",
       "      <td></td>\n",
       "      <td></td>\n",
       "      <td></td>\n",
       "      <td></td>\n",
       "      <td></td>\n",
       "    </tr>\n",
       "    <tr>\n",
       "      <th>1</th>\n",
       "      <td>0.893067</td>\n",
       "      <td>0.560033</td>\n",
       "      <td>0.228233</td>\n",
       "      <td>Si,Al</td>\n",
       "      <td>1</td>\n",
       "      <td>NaN</td>\n",
       "      <td></td>\n",
       "      <td></td>\n",
       "      <td></td>\n",
       "      <td></td>\n",
       "      <td></td>\n",
       "      <td></td>\n",
       "      <td></td>\n",
       "      <td></td>\n",
       "      <td></td>\n",
       "      <td></td>\n",
       "      <td></td>\n",
       "      <td></td>\n",
       "    </tr>\n",
       "    <tr>\n",
       "      <th>2</th>\n",
       "      <td>0.666967</td>\n",
       "      <td>0.560033</td>\n",
       "      <td>0.228233</td>\n",
       "      <td>Si,Al</td>\n",
       "      <td>2</td>\n",
       "      <td>NaN</td>\n",
       "      <td></td>\n",
       "      <td></td>\n",
       "      <td></td>\n",
       "      <td></td>\n",
       "      <td></td>\n",
       "      <td></td>\n",
       "      <td></td>\n",
       "      <td></td>\n",
       "      <td></td>\n",
       "      <td></td>\n",
       "      <td></td>\n",
       "      <td></td>\n",
       "    </tr>\n",
       "    <tr>\n",
       "      <th>3</th>\n",
       "      <td>0.439967</td>\n",
       "      <td>0.333033</td>\n",
       "      <td>0.228233</td>\n",
       "      <td>Si,Al</td>\n",
       "      <td>3</td>\n",
       "      <td>NaN</td>\n",
       "      <td></td>\n",
       "      <td></td>\n",
       "      <td></td>\n",
       "      <td></td>\n",
       "      <td></td>\n",
       "      <td></td>\n",
       "      <td></td>\n",
       "      <td></td>\n",
       "      <td></td>\n",
       "      <td></td>\n",
       "      <td></td>\n",
       "      <td></td>\n",
       "    </tr>\n",
       "    <tr>\n",
       "      <th>4</th>\n",
       "      <td>0.666367</td>\n",
       "      <td>0.106633</td>\n",
       "      <td>0.438433</td>\n",
       "      <td>Si,Al</td>\n",
       "      <td>4</td>\n",
       "      <td>NaN</td>\n",
       "      <td></td>\n",
       "      <td></td>\n",
       "      <td></td>\n",
       "      <td></td>\n",
       "      <td></td>\n",
       "      <td></td>\n",
       "      <td></td>\n",
       "      <td></td>\n",
       "      <td></td>\n",
       "      <td></td>\n",
       "      <td></td>\n",
       "      <td></td>\n",
       "    </tr>\n",
       "  </tbody>\n",
       "</table>\n",
       "</div>"
      ],
      "text/plain": [
       "          a         b         c   atom  site_index   1 2-1 2-2 2-3 2-4 2-5  \\\n",
       "0  0.666967  0.106933  0.228233  Si,Al           0 NaN                       \n",
       "1  0.893067  0.560033  0.228233  Si,Al           1 NaN                       \n",
       "2  0.666967  0.560033  0.228233  Si,Al           2 NaN                       \n",
       "3  0.439967  0.333033  0.228233  Si,Al           3 NaN                       \n",
       "4  0.666367  0.106633  0.438433  Si,Al           4 NaN                       \n",
       "\n",
       "  2-6 2-7 2-8 2-9 2-10 2-11 2-12  \n",
       "0                                 \n",
       "1                                 \n",
       "2                                 \n",
       "3                                 \n",
       "4                                 "
      ]
     },
     "execution_count": 38,
     "metadata": {},
     "output_type": "execute_result"
    }
   ],
   "source": [
    "structure_sites.head()"
   ]
  },
  {
   "cell_type": "code",
   "execution_count": 39,
   "metadata": {},
   "outputs": [],
   "source": [
    "for nsite, clu_index in clusters['nsite_type_numbers'].items():\n",
    "    for index in range(1, clu_index+1):\n",
    "        clu_type = str(nsite)+'-'+str(index)\n",
    "        if nsite == '1':\n",
    "            for sites in clusters[clu_type]:\n",
    "                for site in sites:\n",
    "                    structure_sites.set_value(site, '1', int(index))\n",
    "        else:\n",
    "            for sites in clusters[clu_type]:\n",
    "                for site in sites:\n",
    "                    if (structure_sites.iloc[site][clu_type] == ''):\n",
    "                        structure_sites.set_value(site, clu_type, set(sites.difference([site])))\n",
    "                    else:\n",
    "                        structure_sites.iloc[site][clu_type].update(set(sites.difference([site])))"
   ]
  },
  {
   "cell_type": "code",
   "execution_count": 40,
   "metadata": {},
   "outputs": [],
   "source": [
    "structure_sites['1'] = structure_sites['1'].astype(int)"
   ]
  },
  {
   "cell_type": "code",
   "execution_count": 41,
   "metadata": {},
   "outputs": [
    {
     "data": {
      "text/html": [
       "<div>\n",
       "<style>\n",
       "    .dataframe thead tr:only-child th {\n",
       "        text-align: right;\n",
       "    }\n",
       "\n",
       "    .dataframe thead th {\n",
       "        text-align: left;\n",
       "    }\n",
       "\n",
       "    .dataframe tbody tr th {\n",
       "        vertical-align: top;\n",
       "    }\n",
       "</style>\n",
       "<table border=\"1\" class=\"dataframe\">\n",
       "  <thead>\n",
       "    <tr style=\"text-align: right;\">\n",
       "      <th></th>\n",
       "      <th>a</th>\n",
       "      <th>b</th>\n",
       "      <th>c</th>\n",
       "      <th>atom</th>\n",
       "      <th>site_index</th>\n",
       "      <th>1</th>\n",
       "      <th>2-1</th>\n",
       "      <th>2-2</th>\n",
       "      <th>2-3</th>\n",
       "      <th>2-4</th>\n",
       "      <th>2-5</th>\n",
       "      <th>2-6</th>\n",
       "      <th>2-7</th>\n",
       "      <th>2-8</th>\n",
       "      <th>2-9</th>\n",
       "      <th>2-10</th>\n",
       "      <th>2-11</th>\n",
       "      <th>2-12</th>\n",
       "    </tr>\n",
       "  </thead>\n",
       "  <tbody>\n",
       "    <tr>\n",
       "      <th>0</th>\n",
       "      <td>0.666967</td>\n",
       "      <td>0.106933</td>\n",
       "      <td>0.228233</td>\n",
       "      <td>Si,Al</td>\n",
       "      <td>0</td>\n",
       "      <td>1</td>\n",
       "      <td>{13}</td>\n",
       "      <td>{4}</td>\n",
       "      <td>{28}</td>\n",
       "      <td>{18}</td>\n",
       "      <td>{22, 31}</td>\n",
       "      <td>{25}</td>\n",
       "      <td>{1, 3}</td>\n",
       "      <td>{89, 132}</td>\n",
       "      <td>{93, 30}</td>\n",
       "      <td>{34}</td>\n",
       "      <td>{2}</td>\n",
       "      <td>{19}</td>\n",
       "    </tr>\n",
       "    <tr>\n",
       "      <th>1</th>\n",
       "      <td>0.893067</td>\n",
       "      <td>0.560033</td>\n",
       "      <td>0.228233</td>\n",
       "      <td>Si,Al</td>\n",
       "      <td>1</td>\n",
       "      <td>1</td>\n",
       "      <td>{2}</td>\n",
       "      <td>{34}</td>\n",
       "      <td>{13}</td>\n",
       "      <td>{7}</td>\n",
       "      <td>{16, 31}</td>\n",
       "      <td>{21}</td>\n",
       "      <td>{0, 3}</td>\n",
       "      <td>{170, 186}</td>\n",
       "      <td>{25, 246}</td>\n",
       "      <td>{19}</td>\n",
       "      <td>{28}</td>\n",
       "      <td>{4}</td>\n",
       "    </tr>\n",
       "    <tr>\n",
       "      <th>2</th>\n",
       "      <td>0.666967</td>\n",
       "      <td>0.560033</td>\n",
       "      <td>0.228233</td>\n",
       "      <td>Si,Al</td>\n",
       "      <td>2</td>\n",
       "      <td>1</td>\n",
       "      <td>{1}</td>\n",
       "      <td>{16}</td>\n",
       "      <td>{3}</td>\n",
       "      <td>{21}</td>\n",
       "      <td>{34, 19}</td>\n",
       "      <td>{7}</td>\n",
       "      <td>{28, 13}</td>\n",
       "      <td>{14, 63}</td>\n",
       "      <td>{33, 90}</td>\n",
       "      <td>{31}</td>\n",
       "      <td>{0}</td>\n",
       "      <td>{22}</td>\n",
       "    </tr>\n",
       "    <tr>\n",
       "      <th>3</th>\n",
       "      <td>0.439967</td>\n",
       "      <td>0.333033</td>\n",
       "      <td>0.228233</td>\n",
       "      <td>Si,Al</td>\n",
       "      <td>3</td>\n",
       "      <td>1</td>\n",
       "      <td>{28}</td>\n",
       "      <td>{19}</td>\n",
       "      <td>{2}</td>\n",
       "      <td>{33}</td>\n",
       "      <td>{16, 22}</td>\n",
       "      <td>{30}</td>\n",
       "      <td>{0, 1}</td>\n",
       "      <td>{8, 51}</td>\n",
       "      <td>{169, 21}</td>\n",
       "      <td>{4}</td>\n",
       "      <td>{13}</td>\n",
       "      <td>{34}</td>\n",
       "    </tr>\n",
       "    <tr>\n",
       "      <th>4</th>\n",
       "      <td>0.666367</td>\n",
       "      <td>0.106633</td>\n",
       "      <td>0.438433</td>\n",
       "      <td>Si,Al</td>\n",
       "      <td>4</td>\n",
       "      <td>1</td>\n",
       "      <td>{22}</td>\n",
       "      <td>{0}</td>\n",
       "      <td>{31}</td>\n",
       "      <td>{89}</td>\n",
       "      <td>{28, 13}</td>\n",
       "      <td>{83}</td>\n",
       "      <td>{34, 19}</td>\n",
       "      <td>{18, 107}</td>\n",
       "      <td>{173, 86}</td>\n",
       "      <td>{3}</td>\n",
       "      <td>{16}</td>\n",
       "      <td>{1}</td>\n",
       "    </tr>\n",
       "  </tbody>\n",
       "</table>\n",
       "</div>"
      ],
      "text/plain": [
       "          a         b         c   atom  site_index  1   2-1   2-2   2-3   2-4  \\\n",
       "0  0.666967  0.106933  0.228233  Si,Al           0  1  {13}   {4}  {28}  {18}   \n",
       "1  0.893067  0.560033  0.228233  Si,Al           1  1   {2}  {34}  {13}   {7}   \n",
       "2  0.666967  0.560033  0.228233  Si,Al           2  1   {1}  {16}   {3}  {21}   \n",
       "3  0.439967  0.333033  0.228233  Si,Al           3  1  {28}  {19}   {2}  {33}   \n",
       "4  0.666367  0.106633  0.438433  Si,Al           4  1  {22}   {0}  {31}  {89}   \n",
       "\n",
       "        2-5   2-6       2-7         2-8        2-9  2-10  2-11  2-12  \n",
       "0  {22, 31}  {25}    {1, 3}   {89, 132}   {93, 30}  {34}   {2}  {19}  \n",
       "1  {16, 31}  {21}    {0, 3}  {170, 186}  {25, 246}  {19}  {28}   {4}  \n",
       "2  {34, 19}   {7}  {28, 13}    {14, 63}   {33, 90}  {31}   {0}  {22}  \n",
       "3  {16, 22}  {30}    {0, 1}     {8, 51}  {169, 21}   {4}  {13}  {34}  \n",
       "4  {28, 13}  {83}  {34, 19}   {18, 107}  {173, 86}   {3}  {16}   {1}  "
      ]
     },
     "execution_count": 41,
     "metadata": {},
     "output_type": "execute_result"
    }
   ],
   "source": [
    "structure_sites.head()"
   ]
  },
  {
   "cell_type": "markdown",
   "metadata": {},
   "source": [
    "Create column of good sites and bad sites in structure_sites dataframe"
   ]
  },
  {
   "cell_type": "code",
   "execution_count": 42,
   "metadata": {},
   "outputs": [],
   "source": [
    "structure_sites['bad_sites'] = structure_sites.apply(lambda row: reduce((lambda x, y: set.union(x,row[y])), structure['bad_types'], set()), axis = 1)"
   ]
  },
  {
   "cell_type": "code",
   "execution_count": 43,
   "metadata": {
    "collapsed": true
   },
   "outputs": [],
   "source": [
    "structure_sites['good_sites'] = structure_sites.apply(lambda row: reduce((lambda x, y: set.union(x,row[y])), structure['good_types'], set()), axis = 1)"
   ]
  },
  {
   "cell_type": "code",
   "execution_count": 44,
   "metadata": {},
   "outputs": [
    {
     "data": {
      "text/html": [
       "<div>\n",
       "<style>\n",
       "    .dataframe thead tr:only-child th {\n",
       "        text-align: right;\n",
       "    }\n",
       "\n",
       "    .dataframe thead th {\n",
       "        text-align: left;\n",
       "    }\n",
       "\n",
       "    .dataframe tbody tr th {\n",
       "        vertical-align: top;\n",
       "    }\n",
       "</style>\n",
       "<table border=\"1\" class=\"dataframe\">\n",
       "  <thead>\n",
       "    <tr style=\"text-align: right;\">\n",
       "      <th></th>\n",
       "      <th>a</th>\n",
       "      <th>b</th>\n",
       "      <th>c</th>\n",
       "      <th>atom</th>\n",
       "      <th>site_index</th>\n",
       "      <th>1</th>\n",
       "      <th>2-1</th>\n",
       "      <th>2-2</th>\n",
       "      <th>2-3</th>\n",
       "      <th>2-4</th>\n",
       "      <th>2-5</th>\n",
       "      <th>2-6</th>\n",
       "      <th>2-7</th>\n",
       "      <th>2-8</th>\n",
       "      <th>2-9</th>\n",
       "      <th>2-10</th>\n",
       "      <th>2-11</th>\n",
       "      <th>2-12</th>\n",
       "      <th>bad_sites</th>\n",
       "      <th>good_sites</th>\n",
       "    </tr>\n",
       "  </thead>\n",
       "  <tbody>\n",
       "    <tr>\n",
       "      <th>0</th>\n",
       "      <td>0.666967</td>\n",
       "      <td>0.106933</td>\n",
       "      <td>0.228233</td>\n",
       "      <td>Si,Al</td>\n",
       "      <td>0</td>\n",
       "      <td>1</td>\n",
       "      <td>{13}</td>\n",
       "      <td>{4}</td>\n",
       "      <td>{28}</td>\n",
       "      <td>{18}</td>\n",
       "      <td>{22, 31}</td>\n",
       "      <td>{25}</td>\n",
       "      <td>{1, 3}</td>\n",
       "      <td>{89, 132}</td>\n",
       "      <td>{93, 30}</td>\n",
       "      <td>{34}</td>\n",
       "      <td>{2}</td>\n",
       "      <td>{19}</td>\n",
       "      <td>{28, 18, 4, 13}</td>\n",
       "      <td>{1, 2, 3}</td>\n",
       "    </tr>\n",
       "    <tr>\n",
       "      <th>1</th>\n",
       "      <td>0.893067</td>\n",
       "      <td>0.560033</td>\n",
       "      <td>0.228233</td>\n",
       "      <td>Si,Al</td>\n",
       "      <td>1</td>\n",
       "      <td>1</td>\n",
       "      <td>{2}</td>\n",
       "      <td>{34}</td>\n",
       "      <td>{13}</td>\n",
       "      <td>{7}</td>\n",
       "      <td>{16, 31}</td>\n",
       "      <td>{21}</td>\n",
       "      <td>{0, 3}</td>\n",
       "      <td>{170, 186}</td>\n",
       "      <td>{25, 246}</td>\n",
       "      <td>{19}</td>\n",
       "      <td>{28}</td>\n",
       "      <td>{4}</td>\n",
       "      <td>{2, 34, 13, 7}</td>\n",
       "      <td>{0, 3, 28}</td>\n",
       "    </tr>\n",
       "    <tr>\n",
       "      <th>2</th>\n",
       "      <td>0.666967</td>\n",
       "      <td>0.560033</td>\n",
       "      <td>0.228233</td>\n",
       "      <td>Si,Al</td>\n",
       "      <td>2</td>\n",
       "      <td>1</td>\n",
       "      <td>{1}</td>\n",
       "      <td>{16}</td>\n",
       "      <td>{3}</td>\n",
       "      <td>{21}</td>\n",
       "      <td>{34, 19}</td>\n",
       "      <td>{7}</td>\n",
       "      <td>{28, 13}</td>\n",
       "      <td>{14, 63}</td>\n",
       "      <td>{33, 90}</td>\n",
       "      <td>{31}</td>\n",
       "      <td>{0}</td>\n",
       "      <td>{22}</td>\n",
       "      <td>{16, 1, 3, 21}</td>\n",
       "      <td>{0, 28, 13}</td>\n",
       "    </tr>\n",
       "    <tr>\n",
       "      <th>3</th>\n",
       "      <td>0.439967</td>\n",
       "      <td>0.333033</td>\n",
       "      <td>0.228233</td>\n",
       "      <td>Si,Al</td>\n",
       "      <td>3</td>\n",
       "      <td>1</td>\n",
       "      <td>{28}</td>\n",
       "      <td>{19}</td>\n",
       "      <td>{2}</td>\n",
       "      <td>{33}</td>\n",
       "      <td>{16, 22}</td>\n",
       "      <td>{30}</td>\n",
       "      <td>{0, 1}</td>\n",
       "      <td>{8, 51}</td>\n",
       "      <td>{169, 21}</td>\n",
       "      <td>{4}</td>\n",
       "      <td>{13}</td>\n",
       "      <td>{34}</td>\n",
       "      <td>{33, 2, 19, 28}</td>\n",
       "      <td>{0, 1, 13}</td>\n",
       "    </tr>\n",
       "    <tr>\n",
       "      <th>4</th>\n",
       "      <td>0.666367</td>\n",
       "      <td>0.106633</td>\n",
       "      <td>0.438433</td>\n",
       "      <td>Si,Al</td>\n",
       "      <td>4</td>\n",
       "      <td>1</td>\n",
       "      <td>{22}</td>\n",
       "      <td>{0}</td>\n",
       "      <td>{31}</td>\n",
       "      <td>{89}</td>\n",
       "      <td>{28, 13}</td>\n",
       "      <td>{83}</td>\n",
       "      <td>{34, 19}</td>\n",
       "      <td>{18, 107}</td>\n",
       "      <td>{173, 86}</td>\n",
       "      <td>{3}</td>\n",
       "      <td>{16}</td>\n",
       "      <td>{1}</td>\n",
       "      <td>{0, 89, 22, 31}</td>\n",
       "      <td>{16, 34, 19}</td>\n",
       "    </tr>\n",
       "  </tbody>\n",
       "</table>\n",
       "</div>"
      ],
      "text/plain": [
       "          a         b         c   atom  site_index  1   2-1   2-2   2-3   2-4  \\\n",
       "0  0.666967  0.106933  0.228233  Si,Al           0  1  {13}   {4}  {28}  {18}   \n",
       "1  0.893067  0.560033  0.228233  Si,Al           1  1   {2}  {34}  {13}   {7}   \n",
       "2  0.666967  0.560033  0.228233  Si,Al           2  1   {1}  {16}   {3}  {21}   \n",
       "3  0.439967  0.333033  0.228233  Si,Al           3  1  {28}  {19}   {2}  {33}   \n",
       "4  0.666367  0.106633  0.438433  Si,Al           4  1  {22}   {0}  {31}  {89}   \n",
       "\n",
       "        2-5   2-6       2-7         2-8        2-9  2-10  2-11  2-12  \\\n",
       "0  {22, 31}  {25}    {1, 3}   {89, 132}   {93, 30}  {34}   {2}  {19}   \n",
       "1  {16, 31}  {21}    {0, 3}  {170, 186}  {25, 246}  {19}  {28}   {4}   \n",
       "2  {34, 19}   {7}  {28, 13}    {14, 63}   {33, 90}  {31}   {0}  {22}   \n",
       "3  {16, 22}  {30}    {0, 1}     {8, 51}  {169, 21}   {4}  {13}  {34}   \n",
       "4  {28, 13}  {83}  {34, 19}   {18, 107}  {173, 86}   {3}  {16}   {1}   \n",
       "\n",
       "         bad_sites    good_sites  \n",
       "0  {28, 18, 4, 13}     {1, 2, 3}  \n",
       "1   {2, 34, 13, 7}    {0, 3, 28}  \n",
       "2   {16, 1, 3, 21}   {0, 28, 13}  \n",
       "3  {33, 2, 19, 28}    {0, 1, 13}  \n",
       "4  {0, 89, 22, 31}  {16, 34, 19}  "
      ]
     },
     "execution_count": 44,
     "metadata": {},
     "output_type": "execute_result"
    }
   ],
   "source": [
    "structure_sites.head()"
   ]
  },
  {
   "cell_type": "markdown",
   "metadata": {},
   "source": [
    "#### 12. Randomly generate structure for any given Si/Al ratio"
   ]
  },
  {
   "cell_type": "code",
   "execution_count": 82,
   "metadata": {
    "collapsed": true
   },
   "outputs": [],
   "source": [
    "Si_Al_ratio = 10"
   ]
  },
  {
   "cell_type": "code",
   "execution_count": 83,
   "metadata": {},
   "outputs": [],
   "source": [
    "Al_conc = 1/(1+Si_Al_ratio)"
   ]
  },
  {
   "cell_type": "code",
   "execution_count": 84,
   "metadata": {},
   "outputs": [
    {
     "name": "stdout",
     "output_type": "stream",
     "text": [
      "[96, 228, 126, 231, 143, 162, 248, 45, 246, 232, 49, 212, 183, 95, 281, 270, 16, 21, 167, 76, 25, 44, 109, 66, 264, 9]\n"
     ]
    }
   ],
   "source": [
    "available_sites = set(structure_sites.site_index)\n",
    "structure_vector = np.zeros((len(available_sites), 1))\n",
    "Al_number = int(Al_conc*len(available_sites))\n",
    "selected_sites = []\n",
    "Al_count = 0\n",
    "while((Al_count < Al_number) & (len(available_sites) > 0)):\n",
    "    #random select one site from all the available sites\n",
    "    site = random.sample(available_sites, 1)[0]\n",
    "    \n",
    "    #add selected site to the list\n",
    "    selected_sites.append(site)\n",
    "    \n",
    "    #find out the bad sites for the selected site\n",
    "    bad_sites = structure_sites.iloc[site]['bad_sites']\n",
    "    \n",
    "    #remove the selected site and the coresponding bad sites from available sites\n",
    "    available_sites.remove(site)\n",
    "    available_sites = available_sites.difference(bad_sites)\n",
    "    \n",
    "    Al_count += 1\n",
    "if(len(selected_sites) == Al_number):\n",
    "    print(selected_sites)\n",
    "else:\n",
    "    print('Failed')\n",
    "structure_vector[selected_sites] = 1"
   ]
  },
  {
   "cell_type": "code",
   "execution_count": 108,
   "metadata": {},
   "outputs": [],
   "source": [
    "all_sites = structure_sites.append(O_sites)[['a', 'b', 'c', 'site_index', 'atom']]"
   ]
  },
  {
   "cell_type": "code",
   "execution_count": 109,
   "metadata": {},
   "outputs": [],
   "source": [
    "all_sites['x'] = all_sites.apply(lambda row: frac_to_xyz(axes_xyz, [row.a, row.b, row.c])[0], axis=1)\n",
    "all_sites['y'] = all_sites.apply(lambda row: frac_to_xyz(axes_xyz, [row.a, row.b, row.c])[1], axis=1)\n",
    "all_sites['z'] = all_sites.apply(lambda row: frac_to_xyz(axes_xyz, [row.a, row.b, row.c])[2], axis=1)"
   ]
  },
  {
   "cell_type": "code",
   "execution_count": 110,
   "metadata": {},
   "outputs": [
    {
     "data": {
      "text/html": [
       "<div>\n",
       "<style>\n",
       "    .dataframe thead tr:only-child th {\n",
       "        text-align: right;\n",
       "    }\n",
       "\n",
       "    .dataframe thead th {\n",
       "        text-align: left;\n",
       "    }\n",
       "\n",
       "    .dataframe tbody tr th {\n",
       "        vertical-align: top;\n",
       "    }\n",
       "</style>\n",
       "<table border=\"1\" class=\"dataframe\">\n",
       "  <thead>\n",
       "    <tr style=\"text-align: right;\">\n",
       "      <th></th>\n",
       "      <th>a</th>\n",
       "      <th>b</th>\n",
       "      <th>c</th>\n",
       "      <th>site_index</th>\n",
       "      <th>atom</th>\n",
       "      <th>x</th>\n",
       "      <th>y</th>\n",
       "      <th>z</th>\n",
       "    </tr>\n",
       "  </thead>\n",
       "  <tbody>\n",
       "    <tr>\n",
       "      <th>0</th>\n",
       "      <td>0.666967</td>\n",
       "      <td>0.106933</td>\n",
       "      <td>0.228233</td>\n",
       "      <td>0.0</td>\n",
       "      <td>Si,Al</td>\n",
       "      <td>8.389619</td>\n",
       "      <td>1.266397</td>\n",
       "      <td>3.370317</td>\n",
       "    </tr>\n",
       "    <tr>\n",
       "      <th>1</th>\n",
       "      <td>0.893067</td>\n",
       "      <td>0.560033</td>\n",
       "      <td>0.228233</td>\n",
       "      <td>1.0</td>\n",
       "      <td>Si,Al</td>\n",
       "      <td>8.383466</td>\n",
       "      <td>6.632413</td>\n",
       "      <td>3.370317</td>\n",
       "    </tr>\n",
       "    <tr>\n",
       "      <th>2</th>\n",
       "      <td>0.666967</td>\n",
       "      <td>0.560033</td>\n",
       "      <td>0.228233</td>\n",
       "      <td>2.0</td>\n",
       "      <td>Si,Al</td>\n",
       "      <td>5.291548</td>\n",
       "      <td>6.632413</td>\n",
       "      <td>3.370317</td>\n",
       "    </tr>\n",
       "    <tr>\n",
       "      <th>3</th>\n",
       "      <td>0.439967</td>\n",
       "      <td>0.333033</td>\n",
       "      <td>0.228233</td>\n",
       "      <td>3.0</td>\n",
       "      <td>Si,Al</td>\n",
       "      <td>3.739436</td>\n",
       "      <td>3.944076</td>\n",
       "      <td>3.370317</td>\n",
       "    </tr>\n",
       "    <tr>\n",
       "      <th>4</th>\n",
       "      <td>0.666367</td>\n",
       "      <td>0.106633</td>\n",
       "      <td>0.438433</td>\n",
       "      <td>4.0</td>\n",
       "      <td>Si,Al</td>\n",
       "      <td>8.383466</td>\n",
       "      <td>1.262844</td>\n",
       "      <td>6.474340</td>\n",
       "    </tr>\n",
       "  </tbody>\n",
       "</table>\n",
       "</div>"
      ],
      "text/plain": [
       "          a         b         c  site_index   atom         x         y  \\\n",
       "0  0.666967  0.106933  0.228233         0.0  Si,Al  8.389619  1.266397   \n",
       "1  0.893067  0.560033  0.228233         1.0  Si,Al  8.383466  6.632413   \n",
       "2  0.666967  0.560033  0.228233         2.0  Si,Al  5.291548  6.632413   \n",
       "3  0.439967  0.333033  0.228233         3.0  Si,Al  3.739436  3.944076   \n",
       "4  0.666367  0.106633  0.438433         4.0  Si,Al  8.383466  1.262844   \n",
       "\n",
       "          z  \n",
       "0  3.370317  \n",
       "1  3.370317  \n",
       "2  3.370317  \n",
       "3  3.370317  \n",
       "4  6.474340  "
      ]
     },
     "execution_count": 110,
     "metadata": {},
     "output_type": "execute_result"
    }
   ],
   "source": [
    "all_sites.head()"
   ]
  },
  {
   "cell_type": "code",
   "execution_count": 111,
   "metadata": {},
   "outputs": [],
   "source": [
    "if os.path.isfile('random_structure.xyz'):\n",
    "    os.remove('random_structure.xyz')\n",
    "with open('random_structure.xyz', 'a') as file:\n",
    "    file.write('{}\\n'.format(len(all_sites.index)))\n",
    "    file.write('\\n')\n",
    "    for index, row in all_sites.iterrows():\n",
    "        if isnan(row.site_index):\n",
    "            file.write('O {} {} {}\\n'.format(row.x, row.y, row.z))\n",
    "        elif structure_vector[int(row.site_index)] == 0:\n",
    "            file.write('Si {} {} {}\\n'.format(row.x, row.y, row.z))\n",
    "        else:\n",
    "            file.write('Al {} {} {}\\n'.format(row.x, row.y, row.z))\n"
   ]
  },
  {
   "cell_type": "markdown",
   "metadata": {},
   "source": [
    "#### 13. Count clusters during copper titration"
   ]
  },
  {
   "cell_type": "markdown",
   "metadata": {},
   "source": [
    "Create a dictionary includes all the clusters and their corresponding type"
   ]
  },
  {
   "cell_type": "code",
   "execution_count": 48,
   "metadata": {
    "collapsed": true
   },
   "outputs": [],
   "source": [
    "cluster_type_dict = {}\n",
    "for cluster_type, cluster_sets in clusters.items():\n",
    "    for cluster in cluster_sets:\n",
    "        cluster_type_dict[cluster] = cluster_type"
   ]
  },
  {
   "cell_type": "markdown",
   "metadata": {},
   "source": [
    "Create a set contains all good clusters"
   ]
  },
  {
   "cell_type": "code",
   "execution_count": 49,
   "metadata": {},
   "outputs": [],
   "source": [
    "#all the clusters of interest\n",
    "all_good_clusters = reduce((lambda x, y: set.union(x,clusters[y])), structure['good_types'], set())"
   ]
  },
  {
   "cell_type": "code",
   "execution_count": 50,
   "metadata": {},
   "outputs": [
    {
     "data": {
      "text/plain": [
       "432"
      ]
     },
     "execution_count": 50,
     "metadata": {},
     "output_type": "execute_result"
    }
   ],
   "source": [
    "len(all_good_clusters)"
   ]
  },
  {
   "cell_type": "markdown",
   "metadata": {},
   "source": [
    "Create a set contains only existing good clusters"
   ]
  },
  {
   "cell_type": "code",
   "execution_count": 51,
   "metadata": {},
   "outputs": [],
   "source": [
    "available_good_clusters = set()\n",
    "for cluster in all_good_clusters:\n",
    "    exist = 1\n",
    "    for site in cluster:\n",
    "        if structure_vector[site] == 0:\n",
    "            exist = 0\n",
    "            break\n",
    "    if exist == 1:\n",
    "        available_good_clusters.add(cluster)"
   ]
  },
  {
   "cell_type": "code",
   "execution_count": 52,
   "metadata": {},
   "outputs": [
    {
     "data": {
      "text/plain": [
       "4"
      ]
     },
     "execution_count": 52,
     "metadata": {},
     "output_type": "execute_result"
    }
   ],
   "source": [
    "len(available_good_clusters)"
   ]
  },
  {
   "cell_type": "markdown",
   "metadata": {},
   "source": [
    "Copper titration"
   ]
  },
  {
   "cell_type": "code",
   "execution_count": 53,
   "metadata": {},
   "outputs": [],
   "source": [
    "copper_count = 0\n",
    "selected_clusters = set()\n",
    "while(len(available_good_clusters)>0):\n",
    "    #randomly select a cluster from the clusters of interest\n",
    "    cluster = random.sample(available_good_clusters, 1)[0]\n",
    "    \n",
    "    #add selected clusters to list\n",
    "    selected_clusters.add(cluster)\n",
    "    \n",
    "    #remove selected clusters from the clusters of interest\n",
    "    available_good_clusters.remove(cluster)\n",
    "    \n",
    "    #remove other clusters that share elements with the selected cluster\n",
    "    for site in cluster:\n",
    "        for pair_site in structure_sites.iloc[site].good_sites:\n",
    "            relevant_cluster = frozenset([site, pair_site])\n",
    "            if relevant_cluster in available_good_clusters:\n",
    "                available_good_clusters.remove(relevant_cluster)\n",
    "\n",
    "    copper_count += 1"
   ]
  },
  {
   "cell_type": "code",
   "execution_count": 54,
   "metadata": {},
   "outputs": [
    {
     "data": {
      "text/plain": [
       "4"
      ]
     },
     "execution_count": 54,
     "metadata": {},
     "output_type": "execute_result"
    }
   ],
   "source": [
    "copper_count"
   ]
  },
  {
   "cell_type": "code",
   "execution_count": 55,
   "metadata": {},
   "outputs": [
    {
     "data": {
      "text/plain": [
       "{frozenset({6, 168}),\n",
       " frozenset({83, 86}),\n",
       " frozenset({49, 64}),\n",
       " frozenset({224, 233})}"
      ]
     },
     "execution_count": 55,
     "metadata": {},
     "output_type": "execute_result"
    }
   ],
   "source": [
    "selected_clusters"
   ]
  },
  {
   "cell_type": "markdown",
   "metadata": {},
   "source": [
    "Count the clusters for each cluster type"
   ]
  },
  {
   "cell_type": "code",
   "execution_count": 56,
   "metadata": {},
   "outputs": [],
   "source": [
    "cu_occupied_cluster_number = defaultdict(lambda: 0)\n",
    "for cluster in selected_clusters:\n",
    "    cluster_type = cluster_type_dict[cluster]\n",
    "    cu_occupied_cluster_number[cluster_type] += 1"
   ]
  },
  {
   "cell_type": "code",
   "execution_count": 57,
   "metadata": {},
   "outputs": [
    {
     "data": {
      "text/plain": [
       "defaultdict(<function __main__.<lambda>>, {'2-7': 4})"
      ]
     },
     "execution_count": 57,
     "metadata": {},
     "output_type": "execute_result"
    }
   ],
   "source": [
    "cu_occupied_cluster_number"
   ]
  },
  {
   "cell_type": "markdown",
   "metadata": {},
   "source": [
    "#### 14. Cu/Al for different Si/Al ratios"
   ]
  },
  {
   "cell_type": "code",
   "execution_count": 64,
   "metadata": {
    "collapsed": true
   },
   "outputs": [],
   "source": [
    "def titration(Si_Al_ratio, structure_number, titration_number, structure, clusters):\n",
    "    all_good_clusters = reduce((lambda x, y: set.union(x,clusters[y])), structure['good_types'], set())\n",
    "    \n",
    "    Al_conc = 1/(1+Si_Al_ratio)\n",
    "    Al_number = int(Al_conc*len(structure_sites.index))\n",
    "    \n",
    "    cu_occupied_clusters = defaultdict(lambda: [])\n",
    "    \n",
    "    s_count = 0\n",
    "    failed_count = 0\n",
    "    while(s_count < structure_number):\n",
    "        available_sites = set(structure_sites.site_index)\n",
    "        structure_vector = np.zeros((len(available_sites), 1))\n",
    "        selected_sites = []\n",
    "        Al_count = 0\n",
    "        while((Al_count < Al_number) & (len(available_sites) > 0)):\n",
    "            site = random.sample(available_sites, 1)[0]\n",
    "            selected_sites.append(site)\n",
    "            bad_sites = structure_sites.iloc[site]['bad_sites']\n",
    "            available_sites.remove(site)\n",
    "            available_sites = available_sites.difference(bad_sites)\n",
    "            Al_count += 1\n",
    "        if(len(selected_sites) != Al_number):\n",
    "            failed_count += 1\n",
    "            if failed_count > 100*structure_number:\n",
    "                print('Error! Too hard to generate a random structure based on the Si/Al ratio.')\n",
    "                return\n",
    "            else:\n",
    "                continue\n",
    "        else:\n",
    "            #start copper titration\n",
    "            structure_vector[selected_sites] = 1\n",
    "            s_count += 1\n",
    "            \n",
    "            available_good_clusters = set()\n",
    "            for cluster in all_good_clusters:\n",
    "                exist = 1\n",
    "                for site in cluster:\n",
    "                    if structure_vector[site] == 0:\n",
    "                        exist = 0\n",
    "                        break\n",
    "                if exist == 1:\n",
    "                    available_good_clusters.add(cluster)\n",
    "            \n",
    "            t_count = 0\n",
    "            while(t_count < titration_number):\n",
    "                copper_count = 0\n",
    "                temp = defaultdict(lambda: 0)\n",
    "                selected_clusters = set()\n",
    "                new_good_clusters = deepcopy(available_good_clusters)\n",
    "                while(len(new_good_clusters)>0):\n",
    "                    cluster = random.sample(new_good_clusters, 1)[0]\n",
    "                    selected_clusters.add(cluster)\n",
    "                    new_good_clusters.remove(cluster)\n",
    "                    for site in cluster:\n",
    "                        for pair_site in structure_sites.iloc[site].good_sites:\n",
    "                            relevant_cluster = frozenset([site, pair_site])\n",
    "                            if relevant_cluster in new_good_clusters:\n",
    "                                new_good_clusters.remove(relevant_cluster)\n",
    "                    copper_count += 1\n",
    "                \n",
    "                t_count += 1    \n",
    "                for cluster in selected_clusters:\n",
    "                    cluster_type = cluster_type_dict[cluster]\n",
    "                    temp[cluster_type] += 1\n",
    "                cu_occupied_clusters['copper_count'].append(copper_count)\n",
    "                for cluster_type in structure['good_types']:\n",
    "                    cu_occupied_clusters[cluster_type].append(temp[cluster_type])\n",
    "    \n",
    "    for key, valuelist in cu_occupied_clusters.items():\n",
    "        cu_occupied_clusters[key] = {}\n",
    "        cu_occupied_clusters[key]['mean'] = np.mean(valuelist)\n",
    "        cu_occupied_clusters[key]['std'] = np.std(valuelist)\n",
    "\n",
    "    return cu_occupied_clusters"
   ]
  },
  {
   "cell_type": "code",
   "execution_count": 132,
   "metadata": {},
   "outputs": [
    {
     "name": "stdout",
     "output_type": "stream",
     "text": [
      "523.794676013058\n"
     ]
    }
   ],
   "source": [
    "#Si/Al ratio = 3\n",
    "start = timer()\n",
    "cu_occupied_clusters= titration(3,500,100,structure,clusters)\n",
    "end = timer()\n",
    "print(end - start) "
   ]
  },
  {
   "cell_type": "code",
   "execution_count": 133,
   "metadata": {},
   "outputs": [
    {
     "data": {
      "text/plain": [
       "defaultdict(<function __main__.titration.<locals>.<lambda>>,\n",
       "            {'2-11': {'mean': 8.2639999999999993, 'std': 2.614250179305722},\n",
       "             '2-7': {'mean': 16.655999999999999, 'std': 2.538831227159458},\n",
       "             'copper_count': {'mean': 24.920000000000002,\n",
       "              'std': 1.6702095676890372}})"
      ]
     },
     "execution_count": 133,
     "metadata": {},
     "output_type": "execute_result"
    }
   ],
   "source": [
    "cu_occupied_clusters"
   ]
  },
  {
   "cell_type": "code",
   "execution_count": 135,
   "metadata": {},
   "outputs": [
    {
     "data": {
      "text/plain": [
       "0.34611111111111115"
      ]
     },
     "execution_count": 135,
     "metadata": {},
     "output_type": "execute_result"
    }
   ],
   "source": [
    "cu_occupied_clusters['copper_count']['mean']/int(1/(1+3)*len(structure_sites.site_index))"
   ]
  },
  {
   "cell_type": "code",
   "execution_count": 136,
   "metadata": {},
   "outputs": [
    {
     "data": {
      "text/plain": [
       "0.023197355106792182"
      ]
     },
     "execution_count": 136,
     "metadata": {},
     "output_type": "execute_result"
    }
   ],
   "source": [
    "cu_occupied_clusters['copper_count']['std']/int(1/(1+3)*len(structure_sites.site_index))"
   ]
  },
  {
   "cell_type": "code",
   "execution_count": 76,
   "metadata": {},
   "outputs": [],
   "source": [
    "Si_Al_ratios = [2.5, 5, 7.5, 10, 15, 20, 25, 30, 35, 40]\n",
    "\n",
    "columns = ['si_al', 'cu_al_mean', 'cu_al_std'] + reduce((lambda x, y: x+[y+'_mean', y+'_std']), structure['good_types'], [])\n",
    "copper_titration = pd.DataFrame(columns=columns)\n",
    "copper_titration['si_al'] = Si_Al_ratios\n",
    "copper_titration.fillna(0, inplace=True)"
   ]
  },
  {
   "cell_type": "code",
   "execution_count": 77,
   "metadata": {},
   "outputs": [
    {
     "data": {
      "text/html": [
       "<div>\n",
       "<style>\n",
       "    .dataframe thead tr:only-child th {\n",
       "        text-align: right;\n",
       "    }\n",
       "\n",
       "    .dataframe thead th {\n",
       "        text-align: left;\n",
       "    }\n",
       "\n",
       "    .dataframe tbody tr th {\n",
       "        vertical-align: top;\n",
       "    }\n",
       "</style>\n",
       "<table border=\"1\" class=\"dataframe\">\n",
       "  <thead>\n",
       "    <tr style=\"text-align: right;\">\n",
       "      <th></th>\n",
       "      <th>si_al</th>\n",
       "      <th>cu_al_mean</th>\n",
       "      <th>cu_al_std</th>\n",
       "      <th>2-7_mean</th>\n",
       "      <th>2-7_std</th>\n",
       "      <th>2-11_mean</th>\n",
       "      <th>2-11_std</th>\n",
       "    </tr>\n",
       "  </thead>\n",
       "  <tbody>\n",
       "    <tr>\n",
       "      <th>0</th>\n",
       "      <td>2.5</td>\n",
       "      <td>0</td>\n",
       "      <td>0</td>\n",
       "      <td>0</td>\n",
       "      <td>0</td>\n",
       "      <td>0</td>\n",
       "      <td>0</td>\n",
       "    </tr>\n",
       "    <tr>\n",
       "      <th>1</th>\n",
       "      <td>5.0</td>\n",
       "      <td>0</td>\n",
       "      <td>0</td>\n",
       "      <td>0</td>\n",
       "      <td>0</td>\n",
       "      <td>0</td>\n",
       "      <td>0</td>\n",
       "    </tr>\n",
       "    <tr>\n",
       "      <th>2</th>\n",
       "      <td>7.5</td>\n",
       "      <td>0</td>\n",
       "      <td>0</td>\n",
       "      <td>0</td>\n",
       "      <td>0</td>\n",
       "      <td>0</td>\n",
       "      <td>0</td>\n",
       "    </tr>\n",
       "    <tr>\n",
       "      <th>3</th>\n",
       "      <td>10.0</td>\n",
       "      <td>0</td>\n",
       "      <td>0</td>\n",
       "      <td>0</td>\n",
       "      <td>0</td>\n",
       "      <td>0</td>\n",
       "      <td>0</td>\n",
       "    </tr>\n",
       "    <tr>\n",
       "      <th>4</th>\n",
       "      <td>15.0</td>\n",
       "      <td>0</td>\n",
       "      <td>0</td>\n",
       "      <td>0</td>\n",
       "      <td>0</td>\n",
       "      <td>0</td>\n",
       "      <td>0</td>\n",
       "    </tr>\n",
       "    <tr>\n",
       "      <th>5</th>\n",
       "      <td>20.0</td>\n",
       "      <td>0</td>\n",
       "      <td>0</td>\n",
       "      <td>0</td>\n",
       "      <td>0</td>\n",
       "      <td>0</td>\n",
       "      <td>0</td>\n",
       "    </tr>\n",
       "    <tr>\n",
       "      <th>6</th>\n",
       "      <td>25.0</td>\n",
       "      <td>0</td>\n",
       "      <td>0</td>\n",
       "      <td>0</td>\n",
       "      <td>0</td>\n",
       "      <td>0</td>\n",
       "      <td>0</td>\n",
       "    </tr>\n",
       "    <tr>\n",
       "      <th>7</th>\n",
       "      <td>30.0</td>\n",
       "      <td>0</td>\n",
       "      <td>0</td>\n",
       "      <td>0</td>\n",
       "      <td>0</td>\n",
       "      <td>0</td>\n",
       "      <td>0</td>\n",
       "    </tr>\n",
       "    <tr>\n",
       "      <th>8</th>\n",
       "      <td>35.0</td>\n",
       "      <td>0</td>\n",
       "      <td>0</td>\n",
       "      <td>0</td>\n",
       "      <td>0</td>\n",
       "      <td>0</td>\n",
       "      <td>0</td>\n",
       "    </tr>\n",
       "    <tr>\n",
       "      <th>9</th>\n",
       "      <td>40.0</td>\n",
       "      <td>0</td>\n",
       "      <td>0</td>\n",
       "      <td>0</td>\n",
       "      <td>0</td>\n",
       "      <td>0</td>\n",
       "      <td>0</td>\n",
       "    </tr>\n",
       "  </tbody>\n",
       "</table>\n",
       "</div>"
      ],
      "text/plain": [
       "   si_al  cu_al_mean  cu_al_std  2-7_mean  2-7_std  2-11_mean  2-11_std\n",
       "0    2.5           0          0         0        0          0         0\n",
       "1    5.0           0          0         0        0          0         0\n",
       "2    7.5           0          0         0        0          0         0\n",
       "3   10.0           0          0         0        0          0         0\n",
       "4   15.0           0          0         0        0          0         0\n",
       "5   20.0           0          0         0        0          0         0\n",
       "6   25.0           0          0         0        0          0         0\n",
       "7   30.0           0          0         0        0          0         0\n",
       "8   35.0           0          0         0        0          0         0\n",
       "9   40.0           0          0         0        0          0         0"
      ]
     },
     "execution_count": 77,
     "metadata": {},
     "output_type": "execute_result"
    }
   ],
   "source": [
    "copper_titration"
   ]
  },
  {
   "cell_type": "code",
   "execution_count": 78,
   "metadata": {
    "scrolled": true
   },
   "outputs": [
    {
     "name": "stdout",
     "output_type": "stream",
     "text": [
      "2.5\n",
      "5\n",
      "7.5\n",
      "10\n",
      "15\n",
      "20\n",
      "25\n",
      "30\n",
      "35\n",
      "40\n",
      "1176.8631140079815\n"
     ]
    }
   ],
   "source": [
    "start = timer()\n",
    "\n",
    "for index, si_al in enumerate(Si_Al_ratios):\n",
    "    print(si_al)\n",
    "    Al_number = int(1/(1+si_al)*len(structure_sites.site_index))\n",
    "    cu_occupied_clusters =  titration(si_al,500,100,structure,clusters)\n",
    "    copper_titration.loc[index, 'cu_al_mean'] = cu_occupied_clusters['copper_count']['mean']/Al_number\n",
    "    copper_titration.loc[index, 'cu_al_std'] = cu_occupied_clusters['copper_count']['std']/Al_number\n",
    "    for clu_type in structure['good_types']:\n",
    "        copper_titration.loc[index, clu_type+'_mean'] = cu_occupied_clusters[clu_type]['mean']/Al_number\n",
    "        copper_titration.loc[index, clu_type+'_std'] = cu_occupied_clusters[clu_type]['std']/Al_number\n",
    "\n",
    "end = timer()\n",
    "print(end - start) "
   ]
  },
  {
   "cell_type": "code",
   "execution_count": 79,
   "metadata": {},
   "outputs": [
    {
     "data": {
      "text/html": [
       "<div>\n",
       "<style>\n",
       "    .dataframe thead tr:only-child th {\n",
       "        text-align: right;\n",
       "    }\n",
       "\n",
       "    .dataframe thead th {\n",
       "        text-align: left;\n",
       "    }\n",
       "\n",
       "    .dataframe tbody tr th {\n",
       "        vertical-align: top;\n",
       "    }\n",
       "</style>\n",
       "<table border=\"1\" class=\"dataframe\">\n",
       "  <thead>\n",
       "    <tr style=\"text-align: right;\">\n",
       "      <th></th>\n",
       "      <th>si_al</th>\n",
       "      <th>cu_al_mean</th>\n",
       "      <th>cu_al_std</th>\n",
       "      <th>2-7_mean</th>\n",
       "      <th>2-7_std</th>\n",
       "      <th>2-11_mean</th>\n",
       "      <th>2-11_std</th>\n",
       "    </tr>\n",
       "  </thead>\n",
       "  <tbody>\n",
       "    <tr>\n",
       "      <th>0</th>\n",
       "      <td>2.5</td>\n",
       "      <td>0.382000</td>\n",
       "      <td>0.019139</td>\n",
       "      <td>0.253463</td>\n",
       "      <td>0.032148</td>\n",
       "      <td>0.128537</td>\n",
       "      <td>0.036619</td>\n",
       "    </tr>\n",
       "    <tr>\n",
       "      <th>1</th>\n",
       "      <td>5.0</td>\n",
       "      <td>0.242750</td>\n",
       "      <td>0.035077</td>\n",
       "      <td>0.163000</td>\n",
       "      <td>0.040058</td>\n",
       "      <td>0.079750</td>\n",
       "      <td>0.036434</td>\n",
       "    </tr>\n",
       "    <tr>\n",
       "      <th>2</th>\n",
       "      <td>7.5</td>\n",
       "      <td>0.162121</td>\n",
       "      <td>0.047136</td>\n",
       "      <td>0.108242</td>\n",
       "      <td>0.044791</td>\n",
       "      <td>0.053879</td>\n",
       "      <td>0.037172</td>\n",
       "    </tr>\n",
       "    <tr>\n",
       "      <th>3</th>\n",
       "      <td>10.0</td>\n",
       "      <td>0.127615</td>\n",
       "      <td>0.051384</td>\n",
       "      <td>0.085000</td>\n",
       "      <td>0.047759</td>\n",
       "      <td>0.042615</td>\n",
       "      <td>0.037138</td>\n",
       "    </tr>\n",
       "    <tr>\n",
       "      <th>4</th>\n",
       "      <td>15.0</td>\n",
       "      <td>0.088333</td>\n",
       "      <td>0.056380</td>\n",
       "      <td>0.057444</td>\n",
       "      <td>0.049964</td>\n",
       "      <td>0.030889</td>\n",
       "      <td>0.040325</td>\n",
       "    </tr>\n",
       "    <tr>\n",
       "      <th>5</th>\n",
       "      <td>20.0</td>\n",
       "      <td>0.064923</td>\n",
       "      <td>0.060748</td>\n",
       "      <td>0.043846</td>\n",
       "      <td>0.051089</td>\n",
       "      <td>0.021077</td>\n",
       "      <td>0.038224</td>\n",
       "    </tr>\n",
       "    <tr>\n",
       "      <th>6</th>\n",
       "      <td>25.0</td>\n",
       "      <td>0.057818</td>\n",
       "      <td>0.064763</td>\n",
       "      <td>0.038182</td>\n",
       "      <td>0.053905</td>\n",
       "      <td>0.019636</td>\n",
       "      <td>0.040385</td>\n",
       "    </tr>\n",
       "    <tr>\n",
       "      <th>7</th>\n",
       "      <td>30.0</td>\n",
       "      <td>0.039778</td>\n",
       "      <td>0.063424</td>\n",
       "      <td>0.024889</td>\n",
       "      <td>0.053728</td>\n",
       "      <td>0.014889</td>\n",
       "      <td>0.039133</td>\n",
       "    </tr>\n",
       "    <tr>\n",
       "      <th>8</th>\n",
       "      <td>35.0</td>\n",
       "      <td>0.040250</td>\n",
       "      <td>0.065945</td>\n",
       "      <td>0.027500</td>\n",
       "      <td>0.057500</td>\n",
       "      <td>0.012750</td>\n",
       "      <td>0.039449</td>\n",
       "    </tr>\n",
       "    <tr>\n",
       "      <th>9</th>\n",
       "      <td>40.0</td>\n",
       "      <td>0.032000</td>\n",
       "      <td>0.064178</td>\n",
       "      <td>0.021429</td>\n",
       "      <td>0.052586</td>\n",
       "      <td>0.010571</td>\n",
       "      <td>0.039519</td>\n",
       "    </tr>\n",
       "  </tbody>\n",
       "</table>\n",
       "</div>"
      ],
      "text/plain": [
       "   si_al  cu_al_mean  cu_al_std  2-7_mean   2-7_std  2-11_mean  2-11_std\n",
       "0    2.5    0.382000   0.019139  0.253463  0.032148   0.128537  0.036619\n",
       "1    5.0    0.242750   0.035077  0.163000  0.040058   0.079750  0.036434\n",
       "2    7.5    0.162121   0.047136  0.108242  0.044791   0.053879  0.037172\n",
       "3   10.0    0.127615   0.051384  0.085000  0.047759   0.042615  0.037138\n",
       "4   15.0    0.088333   0.056380  0.057444  0.049964   0.030889  0.040325\n",
       "5   20.0    0.064923   0.060748  0.043846  0.051089   0.021077  0.038224\n",
       "6   25.0    0.057818   0.064763  0.038182  0.053905   0.019636  0.040385\n",
       "7   30.0    0.039778   0.063424  0.024889  0.053728   0.014889  0.039133\n",
       "8   35.0    0.040250   0.065945  0.027500  0.057500   0.012750  0.039449\n",
       "9   40.0    0.032000   0.064178  0.021429  0.052586   0.010571  0.039519"
      ]
     },
     "execution_count": 79,
     "metadata": {},
     "output_type": "execute_result"
    }
   ],
   "source": [
    "copper_titration"
   ]
  },
  {
   "cell_type": "code",
   "execution_count": 137,
   "metadata": {},
   "outputs": [
    {
     "data": {
      "image/png": "[encoded data removed]",
      "text/plain": [
       "<matplotlib.figure.Figure at 0x11a764710>"
      ]
     },
     "metadata": {},
     "output_type": "display_data"
    }
   ],
   "source": [
    "plt.plot(copper_titration.si_al, copper_titration.cu_al_mean,'bo-');\n",
    "plt.xlabel('Si/Al', fontsize=16)\n",
    "plt.ylabel('Cu/Al', fontsize=16)\n",
    "plt.errorbar(copper_titration.si_al, copper_titration.cu_al_mean, yerr=copper_titration.cu_al_std,capsize=3);"
   ]
  },
  {
   "cell_type": "code",
   "execution_count": 81,
   "metadata": {
    "collapsed": true
   },
   "outputs": [],
   "source": [
    "#pickle.dump(copper_titration, open('copper_titration.pkl', 'wb'))"
   ]
  },
  {
   "cell_type": "code",
   "execution_count": null,
   "metadata": {
    "collapsed": true
   },
   "outputs": [],
   "source": []
  }
 ],
 "metadata": {
  "kernelspec": {
   "display_name": "Python 3",
   "language": "python",
   "name": "python3"
  },
  "language_info": {
   "codemirror_mode": {
    "name": "ipython",
    "version": 3
   },
   "file_extension": ".py",
   "mimetype": "text/x-python",
   "name": "python",
   "nbconvert_exporter": "python",
   "pygments_lexer": "ipython3",
   "version": "3.6.1"
  }
 },
 "nbformat": 4,
 "nbformat_minor": 2
}
