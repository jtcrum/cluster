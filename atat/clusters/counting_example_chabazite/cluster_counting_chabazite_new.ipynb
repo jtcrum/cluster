{
 "cells": [
  {
   "cell_type": "markdown",
   "metadata": {},
   "source": [
    "## need to make cluster sites ordered"
   ]
  },
  {
   "cell_type": "code",
   "execution_count": 1,
   "metadata": {
    "collapsed": true
   },
   "outputs": [],
   "source": [
    "import pandas as pd\n",
    "import numpy as np\n",
    "import copy\n",
    "from math import *\n",
    "import os\n",
    "import random\n",
    "from collections import defaultdict\n",
    "import csv\n",
    "from functools import reduce\n",
    "from copy import deepcopy\n",
    "import pickle\n",
    "from timeit import default_timer as timer\n",
    "from matplotlib import pyplot as plt\n",
    "from ase import Atoms\n",
    "from ase.io import read\n",
    "from ase.io import write\n",
    "from ase.visualize import view\n",
    "%matplotlib inline"
   ]
  },
  {
   "cell_type": "code",
   "execution_count": 2,
   "metadata": {
    "collapsed": true
   },
   "outputs": [],
   "source": [
    "pd.set_option('display.max_columns', 500)"
   ]
  },
  {
   "cell_type": "code",
   "execution_count": 3,
   "metadata": {
    "collapsed": true
   },
   "outputs": [],
   "source": [
    "def lattice_axes_xyz(lattice):\n",
    "    '''\n",
    "    function to prepare the xyz axes, which is a matrix as following:\n",
    "                [ax] [ay] [az]\n",
    "    axes_xyz =  [bx] [by] [bz]\n",
    "                [cx] [cy] [cz]\n",
    "    '''\n",
    "    a = np.array([1,0,0]) * lattice['a']\n",
    "    b = np.array([cos(lattice['gamma']/180*pi), sin(lattice['gamma']/180*pi), 0]) * lattice['b']\n",
    "    c = np.cross(a, b)/np.linalg.norm(np.cross(a, b)) * lattice['c']\n",
    "    return np.array((a,b,c))"
   ]
  },
  {
   "cell_type": "code",
   "execution_count": 4,
   "metadata": {
    "collapsed": true
   },
   "outputs": [],
   "source": [
    "def lattice_axes_abc(lattice):\n",
    "    '''\n",
    "    function to prepare the abc axes, which is a matrix as following:\n",
    "                [ua] [ub] [uc]\n",
    "    axes_abc =  [va] [vb] [vc]\n",
    "                [wa] [wb] [wc]\n",
    "    '''\n",
    "    return np.array((lattice['u'], lattice['v'], lattice['w']))"
   ]
  },
  {
   "cell_type": "code",
   "execution_count": 5,
   "metadata": {
    "collapsed": true
   },
   "outputs": [],
   "source": [
    "def frac_to_xyz(axes_xyz, frac_coor):\n",
    "    '''\n",
    "    function to convert fractional coordinates to xyz coordinates\n",
    "    '''\n",
    "    return np.dot(frac_coor, axes_xyz)"
   ]
  },
  {
   "cell_type": "code",
   "execution_count": 6,
   "metadata": {
    "collapsed": true
   },
   "outputs": [],
   "source": [
    "def xyz_to_frac(axes_xyz, xyz_coor):\n",
    "    '''\n",
    "    function to convert xyz coordinates to fractional coordinates\n",
    "    '''\n",
    "    return np.dot(xyz_coor, np.linalg.inv(axes_xyz))"
   ]
  },
  {
   "cell_type": "code",
   "execution_count": 7,
   "metadata": {
    "collapsed": true
   },
   "outputs": [],
   "source": [
    "def frac_to_uvw(axes_abc, frac_coor):\n",
    "    '''\n",
    "    function to convert fractional(abc) coordinates to uvw coordinates\n",
    "    '''\n",
    "    return np.dot(frac_coor, np.linalg.inv(axes_abc))"
   ]
  },
  {
   "cell_type": "code",
   "execution_count": 8,
   "metadata": {
    "collapsed": true
   },
   "outputs": [],
   "source": [
    "def uvw_to_frac(axes_abc, uvw_coor):\n",
    "    '''\n",
    "    function to convert uvw coordinates to fractional(abc) coordinates\n",
    "    '''\n",
    "    return np.dot(uvw_coor, axes_abc)"
   ]
  },
  {
   "cell_type": "code",
   "execution_count": 9,
   "metadata": {
    "collapsed": true
   },
   "outputs": [],
   "source": [
    "def find_site_index_frac(frac, df):\n",
    "    '''\n",
    "    function to find site index from fractional coordinates\n",
    "    '''\n",
    "    site_index = list(df[(abs(df.a-frac[0]) < 0.001) & (abs(df.b-frac[1]) < 0.001) & (abs(df.c-frac[2]) < 0.001)].site_index)\n",
    "    if len(site_index) == 0:\n",
    "        print(\"Error! Cannot find the site index in the structure.\")\n",
    "        return np.nan\n",
    "    elif len(site_index) < 1:\n",
    "        print(\"Error! Find multiple site indices in the structure.\")\n",
    "        return np.nan\n",
    "    else:\n",
    "        return site_index[0]"
   ]
  },
  {
   "cell_type": "code",
   "execution_count": 10,
   "metadata": {
    "collapsed": true
   },
   "outputs": [],
   "source": [
    "def find_site_index_xyz(xyz, df):\n",
    "    '''\n",
    "    function to find site index from fractional coordinates\n",
    "    '''\n",
    "    site_index = list(df[(abs(df.x-xyz[0]) < 0.001) & (abs(df.y-xyz[1]) < 0.001) & (abs(df.z-xyz[2]) < 0.001)].site_index)\n",
    "    #print(site_index)\n",
    "    if len(site_index) == 0:\n",
    "        print(\"Error! Cannot find the site index in the structure.\")\n",
    "        return np.nan\n",
    "    elif len(site_index) > 1:\n",
    "        print(\"Error! Find multiple site indices in the structure.\")\n",
    "        return np.nan\n",
    "    else:\n",
    "        return site_index[0]"
   ]
  },
  {
   "cell_type": "code",
   "execution_count": 11,
   "metadata": {
    "collapsed": true
   },
   "outputs": [],
   "source": [
    "def find_df_index_frac(frac, df):\n",
    "    df_index = list(df[(abs(df.a-frac[0]) < 0.001) & (abs(df.b-frac[1]) < 0.001) & (abs(df.c-frac[2]) < 0.001)].index)\n",
    "    if len(df_index) == 0:\n",
    "        print(\"Error! Cannot find the site index in the structure.\")\n",
    "        return np.nan\n",
    "    elif len(df_index) > 1:\n",
    "        print(\"Error! Find multiple site indices in the structure.\")\n",
    "        return np.nan\n",
    "    else:\n",
    "        return int(df_index[0])   "
   ]
  },
  {
   "cell_type": "code",
   "execution_count": 12,
   "metadata": {
    "collapsed": true
   },
   "outputs": [],
   "source": [
    "def find_df_index_xyz(xyz, df):\n",
    "    df_index = list(df[(abs(df.x-xyz[0]) < 0.001) & (abs(df.y-xyz[1]) < 0.001) & (abs(df.z-xyz[2]) < 0.001)].index)\n",
    "    if len(df_index) == 0:\n",
    "        print(\"Error! Cannot find the site index in the structure.\")\n",
    "        return np.nan\n",
    "    elif len(df_index) > 1:\n",
    "        print(\"Error! Find multiple site indices in the structure.\")\n",
    "        return np.nan\n",
    "    else:\n",
    "        return int(df_index[0])"
   ]
  },
  {
   "cell_type": "code",
   "execution_count": 13,
   "metadata": {
    "collapsed": true
   },
   "outputs": [],
   "source": [
    "def translate_frac_into_structure(frac_coor, axes_abc, structure):\n",
    "    nu, nv, nw = len(urange),len(vrange),len(wrange)\n",
    "    \n",
    "    fu, fv, fw = np.dot(frac_coor, np.linalg.inv(axes_abc))\n",
    "    print(fu, fv,fw)\n",
    "    \n",
    "    #translate the site into the structure by subtracting multiple structure vector on each dimension\n",
    "    fu -= (fu//nu)*nu\n",
    "    fv -= (fv//nv)*nv\n",
    "    fw -= (fw//nw)*nw\n",
    "    print(fu, fv, fw)\n",
    "    \n",
    "    return np.dot(np.array((fu, fv, fw)), axes_abc)"
   ]
  },
  {
   "cell_type": "code",
   "execution_count": 14,
   "metadata": {
    "collapsed": true
   },
   "outputs": [],
   "source": [
    "def add_xyz(df, axes_xyz):\n",
    "    df['x'] = df.apply(lambda row: frac_to_xyz(axes_xyz, [row.a, row.b, row.c])[0], axis=1)\n",
    "    df['y'] = df.apply(lambda row: frac_to_xyz(axes_xyz, [row.a, row.b, row.c])[1], axis=1)\n",
    "    df['z'] = df.apply(lambda row: frac_to_xyz(axes_xyz, [row.a, row.b, row.c])[2], axis=1)\n",
    "    return df"
   ]
  },
  {
   "cell_type": "code",
   "execution_count": 15,
   "metadata": {
    "collapsed": true
   },
   "outputs": [],
   "source": [
    "def visualize_str_no_rep(vis_sites_df, str_vec, xyz_file_path, png_file_path):\n",
    "    filepath = xyz_file_path\n",
    "    if os.path.isfile(filepath):\n",
    "        os.remove(filepath)\n",
    "    with open(filepath, 'a') as file:\n",
    "        file.write('{}\\n'.format(len(sites_df)))\n",
    "        file.write('\\n')\n",
    "        for index, row in sites_df.iterrows():\n",
    "            if row.atom in irrelevant_atom:\n",
    "                file.write('{} {} {} {}\\n'.format(row.atom,row.x, row.y, row.z))\n",
    "            else:\n",
    "                file.write('{} {} {} {}\\n'.format(row.atom.split(',')[int(str_vec[index])],row.x, row.y, row.z))\n",
    "    c= read(filepath)\n",
    "    write(png_file_path, c, format=None, parallel=True)"
   ]
  },
  {
   "cell_type": "code",
   "execution_count": 16,
   "metadata": {
    "collapsed": true
   },
   "outputs": [],
   "source": [
    "def visualize_str_rep(sites_df, str_vec, xyz_file_path, png_file_path, irrelevant_atom=[]):\n",
    "    filepath = xyz_file_path\n",
    "    if os.path.isfile(filepath):\n",
    "        os.remove(filepath)\n",
    "    with open(filepath, 'a') as file:\n",
    "        file.write('{}\\n'.format(len(sites_df)))\n",
    "        file.write('\\n')\n",
    "        for index, row in sites_df.iterrows():\n",
    "            if row.atom in irrelevant_atom:\n",
    "                file.write('{} {} {} {}\\n'.format(row.atom,row.x, row.y, row.z))\n",
    "            else:\n",
    "                df_index = index%(len(str_vec))\n",
    "                \n",
    "                #print(index)\n",
    "                #print(df_index)\n",
    "                file.write('{} {} {} {}\\n'.format(row.atom.split(',')[int(str_vec[df_index])],row.x, row.y, row.z))\n",
    "    c= read(filepath)\n",
    "    write(png_file_path, c, format=None, parallel=True)"
   ]
  },
  {
   "cell_type": "markdown",
   "metadata": {},
   "source": [
    "#### Read lat.in"
   ]
  },
  {
   "cell_type": "code",
   "execution_count": 17,
   "metadata": {
    "collapsed": true
   },
   "outputs": [],
   "source": [
    "filepath='lat.in'\n",
    "file = open(filepath, 'r')\n",
    "lat = file.readlines()\n",
    "\n",
    "lattice = {}\n",
    "lattice['a'], lattice['b'], lattice['c'], lattice['alpha'], lattice['beta'], lattice['gamma'] = [float(number) for number in lat[0].split()]\n",
    "lattice['u'] = [int(number) for number in lat[1].split()]\n",
    "lattice['v'] = [int(number) for number in lat[2].split()]\n",
    "lattice['w'] = [int(number) for number in lat[3].split()]\n",
    "\n",
    "lattice_sites = pd.DataFrame(columns=['a', 'b', 'c', 'atom'])\n",
    "for line in lat[4:]:\n",
    "    site = line.split()[:3]\n",
    "    atom_type = ''\n",
    "    for atom in line.split()[3:]:\n",
    "        atom_type += str(atom)\n",
    "    site.append(atom_type)\n",
    "    lattice_sites = lattice_sites.append(pd.DataFrame([site], columns=['a', 'b', 'c', 'atom']))\n",
    "lattice_sites = lattice_sites.apply(pd.to_numeric, errors = 'ignore')\n",
    "lattice_sites.reset_index(drop=True, inplace=True)\n",
    "lattice['sites'] = lattice_sites"
   ]
  },
  {
   "cell_type": "code",
   "execution_count": 18,
   "metadata": {},
   "outputs": [
    {
     "data": {
      "text/plain": [
       "{'a': 13.675,\n",
       " 'alpha': 90.0,\n",
       " 'b': 13.675,\n",
       " 'beta': 90.0,\n",
       " 'c': 14.767,\n",
       " 'gamma': 120.0,\n",
       " 'sites':             a         b         c   atom\n",
       " 0    0.666967  0.106933  0.228233  Si,Al\n",
       " 1    0.893067  0.560033  0.228233  Si,Al\n",
       " 2    0.666967  0.560033  0.228233  Si,Al\n",
       " 3    0.439967  0.333033  0.228233  Si,Al\n",
       " 4    0.568667  0.137333  0.456033      O\n",
       " 5    0.235333  0.470667  0.789367      O\n",
       " 6    0.098000  0.902000  0.877300      O\n",
       " 7    0.764667  0.235333  0.210633      O\n",
       " 8    0.431333  0.568667  0.543967      O\n",
       " 9    0.098000  0.196000  0.877300      O\n",
       " 10   0.902000  0.804000  0.122700      O\n",
       " 11   0.431333  0.862667  0.543967      O\n",
       " 12   0.804000  0.902000  0.877300      O\n",
       " 13   0.470667  0.235333  0.210633      O\n",
       " 14   0.137333  0.568667  0.543967      O\n",
       " 15   0.196000  0.098000  0.122700      O\n",
       " 16   0.862667  0.431333  0.456033      O\n",
       " 17   0.529333  0.764667  0.789367      O\n",
       " 18   0.235333  0.764667  0.789367      O\n",
       " 19   0.568667  0.431333  0.456033      O\n",
       " 20   0.764667  0.529333  0.210633      O\n",
       " 21   0.902000  0.098000  0.122700      O\n",
       " 22   0.643367  0.999933  0.500033      O\n",
       " 23   0.310033  0.333267  0.833367      O\n",
       " 24   0.023300  0.689900  0.833300      O\n",
       " 25   0.689967  0.023233  0.166633      O\n",
       " 26   0.356633  0.356567  0.499967      O\n",
       " 27   0.023300  0.333400  0.833300      O\n",
       " 28   0.689967  0.666733  0.166633      O\n",
       " 29   0.356633  0.000067  0.499967      O\n",
       " ..        ...       ...       ...    ...\n",
       " 104  0.000300  0.773600  0.894900  Si,Al\n",
       " 105  0.999700  0.773300  0.105100  Si,Al\n",
       " 106  0.333633  0.440267  0.561567  Si,Al\n",
       " 107  0.000300  0.226700  0.894900  Si,Al\n",
       " 108  0.333033  0.893067  0.771767  Si,Al\n",
       " 109  0.333633  0.893367  0.561567  Si,Al\n",
       " 110  0.226400  0.999700  0.894900  Si,Al\n",
       " 111  0.893067  0.333033  0.228233  Si,Al\n",
       " 112  0.559733  0.666367  0.561567  Si,Al\n",
       " 113  0.226400  0.226700  0.894900  Si,Al\n",
       " 114  0.666367  0.559733  0.438433  Si,Al\n",
       " 115  0.559733  0.893367  0.561567  Si,Al\n",
       " 116  0.773600  0.000300  0.105100  Si,Al\n",
       " 117  0.440267  0.333633  0.438433  Si,Al\n",
       " 118  0.106933  0.666967  0.771767  Si,Al\n",
       " 119  0.773600  0.773300  0.105100  Si,Al\n",
       " 120  0.440267  0.106633  0.438433  Si,Al\n",
       " 121  0.106933  0.439967  0.771767  Si,Al\n",
       " 122  0.773300  0.999700  0.894900  Si,Al\n",
       " 123  0.999700  0.226400  0.105100  Si,Al\n",
       " 124  0.106633  0.666367  0.561567  Si,Al\n",
       " 125  0.773300  0.773600  0.894900  Si,Al\n",
       " 126  0.439967  0.106933  0.228233  Si,Al\n",
       " 127  0.106633  0.440267  0.561567  Si,Al\n",
       " 128  0.226700  0.000300  0.105100  Si,Al\n",
       " 129  0.893367  0.333633  0.438433  Si,Al\n",
       " 130  0.560033  0.666967  0.771767  Si,Al\n",
       " 131  0.226700  0.226400  0.105100  Si,Al\n",
       " 132  0.893367  0.559733  0.438433  Si,Al\n",
       " 133  0.560033  0.893067  0.771767  Si,Al\n",
       " \n",
       " [134 rows x 4 columns],\n",
       " 'u': [1, 0, 0],\n",
       " 'v': [0, 1, 0],\n",
       " 'w': [0, 0, 1]}"
      ]
     },
     "execution_count": 18,
     "metadata": {},
     "output_type": "execute_result"
    }
   ],
   "source": [
    "lattice"
   ]
  },
  {
   "cell_type": "markdown",
   "metadata": {},
   "source": [
    "#### Run corrdump, generate clusters.out"
   ]
  },
  {
   "cell_type": "code",
   "execution_count": 19,
   "metadata": {},
   "outputs": [
    {
     "name": "stdout",
     "output_type": "stream",
     "text": [
      "Warning: unit cell is not primitive.\n",
      "Unable to open structure file\n"
     ]
    }
   ],
   "source": [
    "!corrdump -2 = 6.2"
   ]
  },
  {
   "cell_type": "markdown",
   "metadata": {},
   "source": [
    "#### Read clusters.out"
   ]
  },
  {
   "cell_type": "code",
   "execution_count": 20,
   "metadata": {
    "collapsed": true
   },
   "outputs": [],
   "source": [
    "axes_abc = lattice_axes_abc(lattice)"
   ]
  },
  {
   "cell_type": "code",
   "execution_count": 21,
   "metadata": {},
   "outputs": [
    {
     "data": {
      "text/plain": [
       "array([[1, 0, 0],\n",
       "       [0, 1, 0],\n",
       "       [0, 0, 1]])"
      ]
     },
     "execution_count": 21,
     "metadata": {},
     "output_type": "execute_result"
    }
   ],
   "source": [
    "axes_abc"
   ]
  },
  {
   "cell_type": "code",
   "execution_count": 22,
   "metadata": {},
   "outputs": [
    {
     "data": {
      "text/plain": [
       "array([1., 2., 1.])"
      ]
     },
     "execution_count": 22,
     "metadata": {},
     "output_type": "execute_result"
    }
   ],
   "source": [
    "frac_to_uvw(axes_abc, [1, 2, 1])"
   ]
  },
  {
   "cell_type": "code",
   "execution_count": 23,
   "metadata": {
    "collapsed": true
   },
   "outputs": [],
   "source": [
    "lat_clusters = {}"
   ]
  },
  {
   "cell_type": "code",
   "execution_count": 24,
   "metadata": {
    "collapsed": true
   },
   "outputs": [],
   "source": [
    "lat_clusters['type_num'] = [int(0) for i in range(10)]\n",
    "lat_clusters['num_max_site'] = 0"
   ]
  },
  {
   "cell_type": "code",
   "execution_count": 25,
   "metadata": {
    "collapsed": true
   },
   "outputs": [],
   "source": [
    "lat_clusters['orig_file'] = []\n",
    "\n",
    "with open('clusters.out') as csvfile:\n",
    "    readCSV = csv.reader(csvfile, delimiter=' ')\n",
    "    for row in readCSV:\n",
    "        if(len(row) == 0):\n",
    "            continue\n",
    "        elif(len(row) == 1):\n",
    "            row[0] = row[0].replace('\\t', '')\n",
    "            lat_clusters['orig_file'].append(int(float(row[0])))\n",
    "        else:\n",
    "            temp = []\n",
    "            for element in row:\n",
    "                temp.append(float(element))\n",
    "            lat_clusters['orig_file'].append(temp)"
   ]
  },
  {
   "cell_type": "code",
   "execution_count": 26,
   "metadata": {
    "collapsed": true
   },
   "outputs": [],
   "source": [
    "i = 0\n",
    "nsite = 0\n",
    "cluster_index = 0\n",
    "urange = []\n",
    "vrange = []\n",
    "wrange = []\n",
    "\n",
    "while(i < len(lat_clusters['orig_file'])):\n",
    "    #print('i is {}'.format(i))\n",
    "    m = lat_clusters['orig_file'][i]\n",
    "    #print('m is {}'.format(m))\n",
    "    d = lat_clusters['orig_file'][i+1]\n",
    "    #print('d is {}'.format(d))\n",
    "    new_nsite = lat_clusters['orig_file'][i+2]\n",
    "    #print('new_site is {}'.format(new_nsite))\n",
    "    if new_nsite != nsite:\n",
    "        lat_clusters['num_max_site'] = new_nsite\n",
    "        nsite = new_nsite\n",
    "        cluster_index = 1\n",
    "    else:\n",
    "        cluster_index +=1\n",
    "    \n",
    "    cluster_type = '{}-{}'.format(nsite, cluster_index)\n",
    "    lat_clusters[cluster_type] = {}\n",
    "    lat_clusters[cluster_type]['m'] = m\n",
    "    lat_clusters[cluster_type]['max_d'] = d\n",
    "    lat_clusters[cluster_type]['eg_pair_frac']=[]\n",
    "    \n",
    "    i = i+3\n",
    "    for j in range(nsite):\n",
    "        site = lat_clusters['orig_file'][i][:3]\n",
    "        u, v, w = frac_to_uvw(axes_abc, site)\n",
    "        urange.append(u)\n",
    "        vrange.append(v)\n",
    "        wrange.append(w)\n",
    "        #print(site)\n",
    "        lat_clusters[cluster_type]['eg_pair_frac'].append(site)\n",
    "        i += 1\n",
    "    lat_clusters['type_num'][nsite] = cluster_index\n",
    "lat_clusters['u_vis_range'] = list(range(int(min(urange))-1, int(max(urange))+1))\n",
    "lat_clusters['v_vis_range'] = list(range(int(min(vrange))-1, int(max(vrange))+1))\n",
    "lat_clusters['w_vis_range'] = list(range(int(min(wrange))-1, int(max(wrange))+1))"
   ]
  },
  {
   "cell_type": "code",
   "execution_count": 27,
   "metadata": {
    "scrolled": false
   },
   "outputs": [
    {
     "data": {
      "text/plain": [
       "dict_keys(['type_num', 'num_max_site', 'orig_file', '0-1', '1-1', '2-1', '2-2', '2-3', '2-4', '2-5', '2-6', '2-7', '2-8', '2-9', '2-10', '2-11', 'u_vis_range', 'v_vis_range', 'w_vis_range'])"
      ]
     },
     "execution_count": 27,
     "metadata": {},
     "output_type": "execute_result"
    }
   ],
   "source": [
    "lat_clusters.keys()"
   ]
  },
  {
   "cell_type": "code",
   "execution_count": 28,
   "metadata": {},
   "outputs": [
    {
     "data": {
      "text/plain": [
       "[-1, 0, 1]"
      ]
     },
     "execution_count": 28,
     "metadata": {},
     "output_type": "execute_result"
    }
   ],
   "source": [
    "lat_clusters['u_vis_range']"
   ]
  },
  {
   "cell_type": "code",
   "execution_count": 29,
   "metadata": {
    "collapsed": true
   },
   "outputs": [],
   "source": [
    "lat_vis_sites = pd.DataFrame(columns=lattice['sites'].columns)"
   ]
  },
  {
   "cell_type": "code",
   "execution_count": 30,
   "metadata": {
    "collapsed": true
   },
   "outputs": [],
   "source": [
    "for nu in lat_clusters['u_vis_range']:\n",
    "    temp = deepcopy(lattice['sites'])\n",
    "    temp.a = temp.a+nu*lattice['u'][0]\n",
    "    temp.b = temp.b+nu*lattice['u'][1]\n",
    "    temp.c = temp.c+nu*lattice['u'][2]\n",
    "    lat_vis_sites = lat_vis_sites.append(temp)\n",
    "prev_sites = deepcopy(lat_vis_sites)\n",
    "for nv in lat_clusters['v_vis_range']:\n",
    "    temp = deepcopy(prev_sites)\n",
    "    temp.a = temp.a+nv*lattice['v'][0]\n",
    "    temp.b = temp.b+nv*lattice['v'][1]\n",
    "    temp.c = temp.c+nv*lattice['v'][2]\n",
    "    lat_vis_sites = lat_vis_sites.append(temp)\n",
    "prev_sites = deepcopy(lat_vis_sites)\n",
    "for nw in lat_clusters['w_vis_range']:\n",
    "    temp = deepcopy(prev_sites)\n",
    "    temp.a = temp.a+nw*lattice['w'][0]\n",
    "    temp.b = temp.b+nw*lattice['w'][1]\n",
    "    temp.c = temp.c+nw*lattice['w'][2]\n",
    "    lat_vis_sites = lat_vis_sites.append(temp)"
   ]
  },
  {
   "cell_type": "code",
   "execution_count": 31,
   "metadata": {},
   "outputs": [
    {
     "data": {
      "text/html": [
       "<div>\n",
       "<style>\n",
       "    .dataframe thead tr:only-child th {\n",
       "        text-align: right;\n",
       "    }\n",
       "\n",
       "    .dataframe thead th {\n",
       "        text-align: left;\n",
       "    }\n",
       "\n",
       "    .dataframe tbody tr th {\n",
       "        vertical-align: top;\n",
       "    }\n",
       "</style>\n",
       "<table border=\"1\" class=\"dataframe\">\n",
       "  <thead>\n",
       "    <tr style=\"text-align: right;\">\n",
       "      <th></th>\n",
       "      <th>a</th>\n",
       "      <th>b</th>\n",
       "      <th>c</th>\n",
       "      <th>atom</th>\n",
       "    </tr>\n",
       "  </thead>\n",
       "  <tbody>\n",
       "    <tr>\n",
       "      <th>0</th>\n",
       "      <td>0.666967</td>\n",
       "      <td>0.106933</td>\n",
       "      <td>0.228233</td>\n",
       "      <td>Si,Al</td>\n",
       "    </tr>\n",
       "    <tr>\n",
       "      <th>1</th>\n",
       "      <td>0.893067</td>\n",
       "      <td>0.560033</td>\n",
       "      <td>0.228233</td>\n",
       "      <td>Si,Al</td>\n",
       "    </tr>\n",
       "    <tr>\n",
       "      <th>2</th>\n",
       "      <td>0.666967</td>\n",
       "      <td>0.560033</td>\n",
       "      <td>0.228233</td>\n",
       "      <td>Si,Al</td>\n",
       "    </tr>\n",
       "    <tr>\n",
       "      <th>3</th>\n",
       "      <td>0.439967</td>\n",
       "      <td>0.333033</td>\n",
       "      <td>0.228233</td>\n",
       "      <td>Si,Al</td>\n",
       "    </tr>\n",
       "    <tr>\n",
       "      <th>4</th>\n",
       "      <td>0.568667</td>\n",
       "      <td>0.137333</td>\n",
       "      <td>0.456033</td>\n",
       "      <td>O</td>\n",
       "    </tr>\n",
       "  </tbody>\n",
       "</table>\n",
       "</div>"
      ],
      "text/plain": [
       "          a         b         c   atom\n",
       "0  0.666967  0.106933  0.228233  Si,Al\n",
       "1  0.893067  0.560033  0.228233  Si,Al\n",
       "2  0.666967  0.560033  0.228233  Si,Al\n",
       "3  0.439967  0.333033  0.228233  Si,Al\n",
       "4  0.568667  0.137333  0.456033      O"
      ]
     },
     "execution_count": 31,
     "metadata": {},
     "output_type": "execute_result"
    }
   ],
   "source": [
    "lattice['sites'].head()"
   ]
  },
  {
   "cell_type": "code",
   "execution_count": 32,
   "metadata": {
    "collapsed": true
   },
   "outputs": [],
   "source": [
    "lat_vis_sites.drop_duplicates(inplace=True)"
   ]
  },
  {
   "cell_type": "code",
   "execution_count": 33,
   "metadata": {},
   "outputs": [
    {
     "name": "stdout",
     "output_type": "stream",
     "text": [
      "<class 'pandas.core.frame.DataFrame'>\n",
      "Int64Index: 1506 entries, 0 to 133\n",
      "Data columns (total 4 columns):\n",
      "a       1506 non-null float64\n",
      "b       1506 non-null float64\n",
      "c       1506 non-null float64\n",
      "atom    1506 non-null object\n",
      "dtypes: float64(3), object(1)\n",
      "memory usage: 58.8+ KB\n"
     ]
    }
   ],
   "source": [
    "lat_vis_sites.info()"
   ]
  },
  {
   "cell_type": "code",
   "execution_count": 34,
   "metadata": {},
   "outputs": [
    {
     "data": {
      "text/plain": [
       "dict_keys(['a', 'b', 'c', 'alpha', 'beta', 'gamma', 'u', 'v', 'w', 'sites'])"
      ]
     },
     "execution_count": 34,
     "metadata": {},
     "output_type": "execute_result"
    }
   ],
   "source": [
    "lattice.keys()"
   ]
  },
  {
   "cell_type": "code",
   "execution_count": 35,
   "metadata": {},
   "outputs": [
    {
     "data": {
      "text/plain": [
       "array([[13.675    ,  0.       ,  0.       ],\n",
       "       [-6.8375   , 11.8428974,  0.       ],\n",
       "       [ 0.       , -0.       , 14.767    ]])"
      ]
     },
     "execution_count": 35,
     "metadata": {},
     "output_type": "execute_result"
    }
   ],
   "source": [
    "lattice_axes_xyz(lattice)"
   ]
  },
  {
   "cell_type": "code",
   "execution_count": 36,
   "metadata": {
    "collapsed": true
   },
   "outputs": [],
   "source": [
    "lat_vis_sites = add_xyz(lat_vis_sites,lattice_axes_xyz(lattice))"
   ]
  },
  {
   "cell_type": "code",
   "execution_count": 37,
   "metadata": {
    "collapsed": true
   },
   "outputs": [],
   "source": [
    "lat_vis_sites['site_index'] = lat_vis_sites.groupby('atom').cumcount()\n",
    "lat_vis_sites['new_site_index'] = lat_vis_sites.atom + '-' + lat_vis_sites.site_index.astype('str')\n",
    "lat_vis_sites['site_index'] = lat_vis_sites['new_site_index']\n",
    "lat_vis_sites.drop(['new_site_index'], axis = 1, inplace = True)"
   ]
  },
  {
   "cell_type": "code",
   "execution_count": 38,
   "metadata": {
    "collapsed": true
   },
   "outputs": [],
   "source": [
    "lat_clusters['lat_vis_sites'] = lat_vis_sites"
   ]
  },
  {
   "cell_type": "code",
   "execution_count": 39,
   "metadata": {
    "collapsed": true
   },
   "outputs": [],
   "source": [
    "!mkdir clusters\n",
    "!mkdir clusters/xyzs\n",
    "!mkdir clusters/images"
   ]
  },
  {
   "cell_type": "code",
   "execution_count": 40,
   "metadata": {
    "collapsed": true
   },
   "outputs": [],
   "source": [
    "filepath = 'clusters/xyzs/all_sites.xyz'\n",
    "if os.path.isfile(filepath):\n",
    "    os.remove(filepath)\n",
    "with open(filepath, 'a') as file:\n",
    "    file.write('{}\\n'.format(len(lat_vis_sites)))\n",
    "    file.write('\\n')\n",
    "    for index, row in lat_vis_sites.iterrows():\n",
    "        file.write('{} {} {} {}\\n'.format(row.atom.split(',')[0],row.x, row.y, row.z))"
   ]
  },
  {
   "cell_type": "code",
   "execution_count": 41,
   "metadata": {
    "collapsed": true
   },
   "outputs": [],
   "source": [
    "c= read('clusters/xyzs/all_sites.xyz')\n",
    "#view(c)\n",
    "write('clusters/images/all_sites.png', c, format=None, parallel=True)"
   ]
  },
  {
   "cell_type": "code",
   "execution_count": 42,
   "metadata": {},
   "outputs": [
    {
     "data": {
      "text/plain": [
       "dict_keys(['type_num', 'num_max_site', 'orig_file', '0-1', '1-1', '2-1', '2-2', '2-3', '2-4', '2-5', '2-6', '2-7', '2-8', '2-9', '2-10', '2-11', 'u_vis_range', 'v_vis_range', 'w_vis_range', 'lat_vis_sites'])"
      ]
     },
     "execution_count": 42,
     "metadata": {},
     "output_type": "execute_result"
    }
   ],
   "source": [
    "lat_clusters.keys()"
   ]
  },
  {
   "cell_type": "code",
   "execution_count": 43,
   "metadata": {
    "collapsed": true
   },
   "outputs": [],
   "source": [
    "for i in range(1, int(lat_clusters['type_num'][2])+1):\n",
    "    #print(i)\n",
    "    indices = []\n",
    "    sites = lat_clusters['2-{}'.format(i)]['eg_pair_frac']\n",
    "    for site in sites:\n",
    "        #print(site)\n",
    "        index = find_site_index_frac(site, lat_vis_sites)\n",
    "        indices.append(index)\n",
    "    #print(indices)\n",
    "    filepath = 'clusters/xyzs/cluster-2-{}.xyz'.format(i)\n",
    "    if os.path.isfile(filepath):\n",
    "        os.remove(filepath)\n",
    "    with open(filepath, 'a') as file:\n",
    "        file.write('{}\\n'.format(len(lat_vis_sites)))\n",
    "        file.write('\\n')\n",
    "        for index, row in lat_vis_sites.iterrows():\n",
    "            if row.site_index in indices:\n",
    "                file.write('{} {} {} {}\\n'.format(row.atom.split(',')[1],row.x, row.y, row.z))\n",
    "            else:\n",
    "                file.write('{} {} {} {}\\n'.format(row.atom.split(',')[0],row.x, row.y, row.z))\n",
    "    c= read(filepath)\n",
    "    #view(c)\n",
    "    write('clusters/images/cluster-2-{}.png'.format(i), c, format=None, parallel=True)"
   ]
  },
  {
   "cell_type": "markdown",
   "metadata": {},
   "source": [
    "#### read str_dim.txt"
   ]
  },
  {
   "cell_type": "code",
   "execution_count": 44,
   "metadata": {
    "collapsed": true
   },
   "outputs": [],
   "source": [
    "structure = {}"
   ]
  },
  {
   "cell_type": "code",
   "execution_count": 45,
   "metadata": {
    "collapsed": true
   },
   "outputs": [],
   "source": [
    "file = open('str_dim.txt', 'r')\n",
    "str_req = file.readlines()\n",
    "\n",
    "structure_u = [int(number) for number in str_req[0].split()]\n",
    "structure_v = [int(number) for number in str_req[1].split()]\n",
    "structure_w = [int(number) for number in str_req[2].split()]"
   ]
  },
  {
   "cell_type": "code",
   "execution_count": 46,
   "metadata": {
    "collapsed": true
   },
   "outputs": [],
   "source": [
    "l = int(np.mean(structure_u)/np.mean(lattice['u']))\n",
    "m = int(np.mean(structure_v)/np.mean(lattice['v']))\n",
    "n = int(np.mean(structure_w)/np.mean(lattice['w']))\n",
    "ncell = l*m*n"
   ]
  },
  {
   "cell_type": "code",
   "execution_count": 47,
   "metadata": {
    "collapsed": true
   },
   "outputs": [],
   "source": [
    "structure['l'] = l\n",
    "structure['m'] = m\n",
    "structure['n'] = n\n",
    "structure['u'] = structure_u\n",
    "structure['v'] = structure_v\n",
    "structure['w'] = structure_w\n",
    "structure['ncell'] = ncell"
   ]
  },
  {
   "cell_type": "code",
   "execution_count": 48,
   "metadata": {
    "collapsed": true
   },
   "outputs": [],
   "source": [
    "str_sites = pd.DataFrame(columns=lattice['sites'].columns)"
   ]
  },
  {
   "cell_type": "code",
   "execution_count": 49,
   "metadata": {
    "collapsed": true
   },
   "outputs": [],
   "source": [
    "for nu in list(range(structure['l'])):\n",
    "    temp = deepcopy(lattice['sites'])\n",
    "    temp.a = temp.a+nu*lattice['u'][0]\n",
    "    temp.b = temp.b+nu*lattice['u'][1]\n",
    "    temp.c = temp.c+nu*lattice['u'][2]\n",
    "    str_sites = str_sites.append(temp)\n",
    "prev_sites = deepcopy(str_sites)\n",
    "for nv in list(range(structure['m'])):\n",
    "    temp = deepcopy(prev_sites)\n",
    "    temp.a = temp.a+nv*lattice['v'][0]\n",
    "    temp.b = temp.b+nv*lattice['v'][1]\n",
    "    temp.c = temp.c+nv*lattice['v'][2]\n",
    "    str_sites = str_sites.append(temp)\n",
    "prev_sites = deepcopy(str_sites)\n",
    "for nw in list(range(structure['n'])):\n",
    "    temp = deepcopy(prev_sites)\n",
    "    temp.a = temp.a+nw*lattice['w'][0]\n",
    "    temp.b = temp.b+nw*lattice['w'][1]\n",
    "    temp.c = temp.c+nw*lattice['w'][2]\n",
    "    str_sites = str_sites.append(temp)"
   ]
  },
  {
   "cell_type": "code",
   "execution_count": 50,
   "metadata": {
    "collapsed": true
   },
   "outputs": [],
   "source": [
    "str_sites.drop_duplicates(inplace=True)"
   ]
  },
  {
   "cell_type": "code",
   "execution_count": 51,
   "metadata": {
    "collapsed": true
   },
   "outputs": [],
   "source": [
    "str_sites = add_xyz(str_sites,lattice_axes_xyz(lattice))"
   ]
  },
  {
   "cell_type": "code",
   "execution_count": 52,
   "metadata": {
    "collapsed": true
   },
   "outputs": [],
   "source": [
    "str_sites['site_index'] = str_sites.groupby('atom').cumcount()\n",
    "str_sites['new_site_index'] = str_sites.atom + '-' + str_sites.site_index.astype('str')\n",
    "str_sites['site_index'] = str_sites['new_site_index']\n",
    "str_sites.drop(['new_site_index'], axis = 1, inplace = True)"
   ]
  },
  {
   "cell_type": "code",
   "execution_count": 53,
   "metadata": {
    "collapsed": true
   },
   "outputs": [],
   "source": [
    "str_sites.reset_index(drop=True, inplace=True)"
   ]
  },
  {
   "cell_type": "code",
   "execution_count": 54,
   "metadata": {
    "collapsed": true
   },
   "outputs": [],
   "source": [
    "structure['sites'] = str_sites"
   ]
  },
  {
   "cell_type": "code",
   "execution_count": 55,
   "metadata": {
    "collapsed": true
   },
   "outputs": [],
   "source": [
    "if os.path.isfile('str.out'):\n",
    "    os.remove('str.out')\n",
    "with open('str.out', 'a') as str_file:\n",
    "    str_file.write('{} {} {} {} {} {}\\n'.format(lattice['a'], lattice['b'], lattice['c'], int(lattice['alpha']), int(lattice['beta']), int(lattice['gamma'])))\n",
    "    str_file.write('{} {} {}\\n'.format(int(structure['u'][0]),int(structure['u'][1]),int(structure['u'][2])))\n",
    "    str_file.write('{} {} {}\\n'.format(int(structure['v'][0]),int(structure['v'][1]),int(structure['v'][2])))\n",
    "    str_file.write('{} {} {}\\n'.format(int(structure['w'][0]),int(structure['w'][1]),int(structure['w'][2])))\n",
    "    for index, row in structure['sites'].iterrows():\n",
    "        str_file.write('{} {} {} {}\\n'.format(row.a, row.b, row.c, row.atom.split(',')[0]))"
   ]
  },
  {
   "cell_type": "code",
   "execution_count": 56,
   "metadata": {},
   "outputs": [
    {
     "name": "stdout",
     "output_type": "stream",
     "text": [
      "Warning: unit cell is not primitive.\r\n"
     ]
    }
   ],
   "source": [
    "if os.path.isfile('cluster_list.csv'):\n",
    "    os.remove('cluster_list.csv')\n",
    "!corrdump -2 = 6.2 >> cluster_list.csv"
   ]
  },
  {
   "cell_type": "code",
   "execution_count": 57,
   "metadata": {},
   "outputs": [
    {
     "data": {
      "text/plain": [
       "dict_keys(['l', 'm', 'n', 'u', 'v', 'w', 'ncell', 'sites'])"
      ]
     },
     "execution_count": 57,
     "metadata": {},
     "output_type": "execute_result"
    }
   ],
   "source": [
    "structure.keys()"
   ]
  },
  {
   "cell_type": "code",
   "execution_count": 58,
   "metadata": {
    "collapsed": true
   },
   "outputs": [],
   "source": [
    "str_clusters = {}"
   ]
  },
  {
   "cell_type": "code",
   "execution_count": 59,
   "metadata": {
    "collapsed": true
   },
   "outputs": [],
   "source": [
    "clulist = []\n",
    "\n",
    "with open('cluster_list.csv') as csvfile:\n",
    "    readCSV = csv.reader(csvfile, delimiter=' ')\n",
    "    for row in readCSV:\n",
    "        if(len(row) == 0):\n",
    "            continue\n",
    "        elif(len(row) == 1):\n",
    "            row[0] = row[0].replace('\\t', '')\n",
    "            clulist.append(int(float(row[0])))\n",
    "        else:\n",
    "            temp = []\n",
    "            for element in row:\n",
    "                temp.append(float(element))\n",
    "            clulist.append(temp)\n",
    "            \n",
    "str_clusters['cluster_orig_list'] = clulist"
   ]
  },
  {
   "cell_type": "code",
   "execution_count": 60,
   "metadata": {
    "collapsed": true
   },
   "outputs": [],
   "source": [
    "axes_xyz = lattice_axes_xyz(lattice)"
   ]
  },
  {
   "cell_type": "markdown",
   "metadata": {},
   "source": [
    "#### read cluster list"
   ]
  },
  {
   "cell_type": "code",
   "execution_count": 61,
   "metadata": {
    "collapsed": true
   },
   "outputs": [],
   "source": [
    "nsite_type_numbers = {}\n",
    "cluster_types = []\n",
    "\n",
    "i = 0\n",
    "nsite = 0\n",
    "cluster_index = 1\n",
    "temp = []\n",
    "\n",
    "urage = []\n",
    "vrange = []\n",
    "wrange = []\n",
    "\n",
    "while(i < len(clulist)):\n",
    "    #read n_site\n",
    "    new_nsite = clulist[i]\n",
    "    i += 1\n",
    "    \n",
    "    #pass first three lines where the cluster contains 0 site\n",
    "    if (new_nsite == 0):\n",
    "        i+=2\n",
    "        continue\n",
    "    \n",
    "    #if the cluster has more sites than the previous cluster, reset nsite and cluster index\n",
    "    if (new_nsite != nsite):\n",
    "        nsite = new_nsite\n",
    "        cluster_index = 1\n",
    "        \n",
    "    #set the cluster type = [nsite]-[order of the specific cluster in all nsite-clusters].\n",
    "    cluster_type = str(nsite)+'-'+str(cluster_index)\n",
    "    cluster_types.append(cluster_type)\n",
    "    \n",
    "    #initialize a empty set called temp \n",
    "    temp = []\n",
    "        \n",
    "    #read multiplicity\n",
    "    multiplicity = clulist[i]\n",
    "    i += 1\n",
    "    \n",
    "    #go through all the clusters\n",
    "    n_cluster = int(multiplicity *structure['ncell'])\n",
    "    \n",
    "    for j in range(n_cluster):\n",
    "        cluster = []\n",
    "        for k in range(nsite):\n",
    "            point = []\n",
    "            for element in clulist[i]:\n",
    "                point.append(float(element))\n",
    "            #print(point)\n",
    "            u, v, w = frac_to_uvw(axes_abc, xyz_to_frac(axes_xyz,point))\n",
    "            \n",
    "            #print(u,v,w)\n",
    "            urange.append(u)\n",
    "            vrange.append(v)\n",
    "            wrange.append(w)\n",
    "            cluster.append(point)\n",
    "            i += 1\n",
    "        temp.append(cluster)\n",
    "    \n",
    "    #pass the line with correlation\n",
    "    i += 1 \n",
    "    \n",
    "    #put the set of clusters in dictionary of clusters\n",
    "    str_clusters[cluster_type] = temp\n",
    "    nsite_type_numbers[str(nsite)] = cluster_index\n",
    "    \n",
    "    #count cluster types\n",
    "    cluster_index += 1   \n",
    "\n",
    "#str_clusters\n",
    "\n",
    "#str_clusters['cluster_types'] = cluster_types\n",
    "#str_clusters['nsite_type_numbers'] = nsite_type_numbers"
   ]
  },
  {
   "cell_type": "code",
   "execution_count": 62,
   "metadata": {
    "scrolled": true
   },
   "outputs": [
    {
     "data": {
      "text/plain": [
       "dict_keys(['l', 'm', 'n', 'u', 'v', 'w', 'ncell', 'sites'])"
      ]
     },
     "execution_count": 62,
     "metadata": {},
     "output_type": "execute_result"
    }
   ],
   "source": [
    "structure.keys()"
   ]
  },
  {
   "cell_type": "code",
   "execution_count": 63,
   "metadata": {
    "scrolled": true
   },
   "outputs": [
    {
     "data": {
      "text/plain": [
       "dict_keys(['cluster_orig_list', '1-1', '2-1', '2-2', '2-3', '2-4', '2-5', '2-6', '2-7', '2-8', '2-9', '2-10', '2-11'])"
      ]
     },
     "execution_count": 63,
     "metadata": {},
     "output_type": "execute_result"
    }
   ],
   "source": [
    "str_clusters.keys()"
   ]
  },
  {
   "cell_type": "code",
   "execution_count": 64,
   "metadata": {
    "collapsed": true
   },
   "outputs": [],
   "source": [
    "str_clusters['l_vis_range'] = list(range(int((min(urange))//structure['l']), int(max(vrange)//structure['l']+1)))\n",
    "str_clusters['m_vis_range'] = list(range(int((min(vrange))//structure['m']), int(max(vrange)//structure['m']+1)))\n",
    "str_clusters['n_vis_range'] = list(range(int((min(wrange))//structure['n']), int(max(wrange)//structure['n']+1)))"
   ]
  },
  {
   "cell_type": "code",
   "execution_count": 65,
   "metadata": {},
   "outputs": [
    {
     "data": {
      "text/plain": [
       "([-1, 0, 1], [-1, 0, 1], [-1, 0, 1])"
      ]
     },
     "execution_count": 65,
     "metadata": {},
     "output_type": "execute_result"
    }
   ],
   "source": [
    "str_clusters['l_vis_range'], str_clusters['m_vis_range'] ,str_clusters['n_vis_range']"
   ]
  },
  {
   "cell_type": "code",
   "execution_count": 66,
   "metadata": {},
   "outputs": [
    {
     "data": {
      "text/plain": [
       "[0, 0, 1]"
      ]
     },
     "execution_count": 66,
     "metadata": {},
     "output_type": "execute_result"
    }
   ],
   "source": [
    "structure['w']"
   ]
  },
  {
   "cell_type": "code",
   "execution_count": 67,
   "metadata": {
    "collapsed": true
   },
   "outputs": [],
   "source": [
    "str_vis_sites = pd.DataFrame(columns=structure['sites'].columns)\n",
    "\n",
    "for nu in str_clusters['l_vis_range']:\n",
    "    temp = deepcopy(structure['sites'])\n",
    "    temp.a = temp.a+nu*structure['u'][0]\n",
    "    temp.b = temp.b+nu*structure['u'][1]\n",
    "    temp.c = temp.c+nu*structure['u'][2]\n",
    "    str_vis_sites = str_vis_sites.append(temp)\n",
    "prev_sites = deepcopy(str_vis_sites)\n",
    "for nv in str_clusters['m_vis_range']:\n",
    "    temp = deepcopy(prev_sites)\n",
    "    temp.a = temp.a+nv*structure['v'][0]\n",
    "    temp.b = temp.b+nv*structure['v'][1]\n",
    "    temp.c = temp.c+nv*structure['v'][2]\n",
    "    str_vis_sites = str_vis_sites.append(temp)\n",
    "prev_sites = deepcopy(str_vis_sites)\n",
    "for nw in str_clusters['n_vis_range']:\n",
    "    temp = deepcopy(prev_sites)\n",
    "    temp.a = temp.a+nw*structure['w'][0]\n",
    "    temp.b = temp.b+nw*structure['w'][1]\n",
    "    temp.c = temp.c+nw*structure['w'][2]\n",
    "    str_vis_sites = str_vis_sites.append(temp)"
   ]
  },
  {
   "cell_type": "code",
   "execution_count": 68,
   "metadata": {
    "collapsed": true
   },
   "outputs": [],
   "source": [
    "str_vis_sites.drop_duplicates(inplace=True)"
   ]
  },
  {
   "cell_type": "code",
   "execution_count": 69,
   "metadata": {},
   "outputs": [
    {
     "name": "stdout",
     "output_type": "stream",
     "text": [
      "<class 'pandas.core.frame.DataFrame'>\n",
      "Int64Index: 31266 entries, 0 to 1157\n",
      "Data columns (total 8 columns):\n",
      "a             31266 non-null float64\n",
      "b             31266 non-null float64\n",
      "c             31266 non-null float64\n",
      "atom          31266 non-null object\n",
      "x             31266 non-null float64\n",
      "y             31266 non-null float64\n",
      "z             31266 non-null float64\n",
      "site_index    31266 non-null object\n",
      "dtypes: float64(6), object(2)\n",
      "memory usage: 2.1+ MB\n"
     ]
    }
   ],
   "source": [
    "str_vis_sites.info()"
   ]
  },
  {
   "cell_type": "code",
   "execution_count": 70,
   "metadata": {
    "collapsed": true
   },
   "outputs": [],
   "source": [
    "str_vis_sites = add_xyz(str_vis_sites,axes_xyz)"
   ]
  },
  {
   "cell_type": "code",
   "execution_count": 71,
   "metadata": {
    "collapsed": true
   },
   "outputs": [],
   "source": [
    "str_clusters['str_vis_sites'] = str_vis_sites"
   ]
  },
  {
   "cell_type": "code",
   "execution_count": 72,
   "metadata": {
    "collapsed": true
   },
   "outputs": [],
   "source": [
    "!mkdir str_clusters_rep\n",
    "!mkdir str_clusters_rep/xyzs\n",
    "!mkdir str_clusters_rep/images"
   ]
  },
  {
   "cell_type": "code",
   "execution_count": 73,
   "metadata": {
    "collapsed": true
   },
   "outputs": [],
   "source": [
    "filepath = 'str_clusters_rep/xyzs/all_sites.xyz'\n",
    "if os.path.isfile(filepath):\n",
    "    os.remove(filepath)\n",
    "with open(filepath, 'a') as file:\n",
    "    file.write('{}\\n'.format(len(str_vis_sites)))\n",
    "    file.write('\\n')\n",
    "    for index, row in str_vis_sites.iterrows():\n",
    "        file.write('{} {} {} {}\\n'.format(row.atom.split(',')[0],row.x, row.y, row.z))\n",
    "c= read('str_clusters_rep/xyzs/all_sites.xyz')\n",
    "#view(c)\n",
    "write('str_clusters_rep/images/all_sites.png', c, format=None, parallel=True)"
   ]
  },
  {
   "cell_type": "code",
   "execution_count": 74,
   "metadata": {
    "collapsed": true
   },
   "outputs": [],
   "source": [
    "view(c)"
   ]
  },
  {
   "cell_type": "code",
   "execution_count": 75,
   "metadata": {
    "collapsed": true
   },
   "outputs": [],
   "source": [
    "!mkdir str_clusters_no_rep\n",
    "!mkdir str_clusters_no_rep/xyzs\n",
    "!mkdir str_clusters_no_rep/images"
   ]
  },
  {
   "cell_type": "code",
   "execution_count": 76,
   "metadata": {
    "collapsed": true
   },
   "outputs": [],
   "source": [
    "filepath = 'str_clusters_no_rep/xyzs/all_sites.xyz'\n",
    "if os.path.isfile(filepath):\n",
    "    os.remove(filepath)\n",
    "with open(filepath, 'a') as file:\n",
    "    file.write('{}\\n'.format(len(str_vis_sites)))\n",
    "    file.write('\\n')\n",
    "    for index, row in str_vis_sites.iterrows():\n",
    "        file.write('{} {} {} {}\\n'.format(row.atom.split(',')[0],row.x, row.y, row.z))\n",
    "c= read('str_clusters_no_rep/xyzs/all_sites.xyz')\n",
    "#view(c)\n",
    "write('str_clusters_no_rep/images/all_sites.png', c, format=None, parallel=True)"
   ]
  },
  {
   "cell_type": "code",
   "execution_count": 77,
   "metadata": {},
   "outputs": [
    {
     "data": {
      "text/plain": [
       "dict_keys(['cluster_orig_list', '1-1', '2-1', '2-2', '2-3', '2-4', '2-5', '2-6', '2-7', '2-8', '2-9', '2-10', '2-11', 'l_vis_range', 'm_vis_range', 'n_vis_range', 'str_vis_sites'])"
      ]
     },
     "execution_count": 77,
     "metadata": {},
     "output_type": "execute_result"
    }
   ],
   "source": [
    "str_clusters.keys()"
   ]
  },
  {
   "cell_type": "code",
   "execution_count": 78,
   "metadata": {
    "collapsed": true
   },
   "outputs": [],
   "source": [
    "str_clusters['str_vis_sites'].reset_index(drop=True, inplace=True)"
   ]
  },
  {
   "cell_type": "code",
   "execution_count": 79,
   "metadata": {},
   "outputs": [
    {
     "data": {
      "text/html": [
       "<div>\n",
       "<style>\n",
       "    .dataframe thead tr:only-child th {\n",
       "        text-align: right;\n",
       "    }\n",
       "\n",
       "    .dataframe thead th {\n",
       "        text-align: left;\n",
       "    }\n",
       "\n",
       "    .dataframe tbody tr th {\n",
       "        vertical-align: top;\n",
       "    }\n",
       "</style>\n",
       "<table border=\"1\" class=\"dataframe\">\n",
       "  <thead>\n",
       "    <tr style=\"text-align: right;\">\n",
       "      <th></th>\n",
       "      <th>a</th>\n",
       "      <th>b</th>\n",
       "      <th>c</th>\n",
       "      <th>atom</th>\n",
       "      <th>x</th>\n",
       "      <th>y</th>\n",
       "      <th>z</th>\n",
       "      <th>site_index</th>\n",
       "    </tr>\n",
       "  </thead>\n",
       "  <tbody>\n",
       "    <tr>\n",
       "      <th>0</th>\n",
       "      <td>-2.333033</td>\n",
       "      <td>0.106933</td>\n",
       "      <td>0.228233</td>\n",
       "      <td>Si,Al</td>\n",
       "      <td>-32.635381</td>\n",
       "      <td>1.266397</td>\n",
       "      <td>3.370317</td>\n",
       "      <td>Si,Al-0</td>\n",
       "    </tr>\n",
       "    <tr>\n",
       "      <th>1</th>\n",
       "      <td>-2.106933</td>\n",
       "      <td>0.560033</td>\n",
       "      <td>0.228233</td>\n",
       "      <td>Si,Al</td>\n",
       "      <td>-32.641534</td>\n",
       "      <td>6.632413</td>\n",
       "      <td>3.370317</td>\n",
       "      <td>Si,Al-1</td>\n",
       "    </tr>\n",
       "    <tr>\n",
       "      <th>2</th>\n",
       "      <td>-2.333033</td>\n",
       "      <td>0.560033</td>\n",
       "      <td>0.228233</td>\n",
       "      <td>Si,Al</td>\n",
       "      <td>-35.733452</td>\n",
       "      <td>6.632413</td>\n",
       "      <td>3.370317</td>\n",
       "      <td>Si,Al-2</td>\n",
       "    </tr>\n",
       "    <tr>\n",
       "      <th>3</th>\n",
       "      <td>-2.560033</td>\n",
       "      <td>0.333033</td>\n",
       "      <td>0.228233</td>\n",
       "      <td>Si,Al</td>\n",
       "      <td>-37.285564</td>\n",
       "      <td>3.944076</td>\n",
       "      <td>3.370317</td>\n",
       "      <td>Si,Al-3</td>\n",
       "    </tr>\n",
       "    <tr>\n",
       "      <th>4</th>\n",
       "      <td>-2.431333</td>\n",
       "      <td>0.137333</td>\n",
       "      <td>0.456033</td>\n",
       "      <td>O</td>\n",
       "      <td>-34.187493</td>\n",
       "      <td>1.626421</td>\n",
       "      <td>6.734239</td>\n",
       "      <td>O-0</td>\n",
       "    </tr>\n",
       "  </tbody>\n",
       "</table>\n",
       "</div>"
      ],
      "text/plain": [
       "          a         b         c   atom          x         y         z  \\\n",
       "0 -2.333033  0.106933  0.228233  Si,Al -32.635381  1.266397  3.370317   \n",
       "1 -2.106933  0.560033  0.228233  Si,Al -32.641534  6.632413  3.370317   \n",
       "2 -2.333033  0.560033  0.228233  Si,Al -35.733452  6.632413  3.370317   \n",
       "3 -2.560033  0.333033  0.228233  Si,Al -37.285564  3.944076  3.370317   \n",
       "4 -2.431333  0.137333  0.456033      O -34.187493  1.626421  6.734239   \n",
       "\n",
       "  site_index  \n",
       "0    Si,Al-0  \n",
       "1    Si,Al-1  \n",
       "2    Si,Al-2  \n",
       "3    Si,Al-3  \n",
       "4        O-0  "
      ]
     },
     "execution_count": 79,
     "metadata": {},
     "output_type": "execute_result"
    }
   ],
   "source": [
    "str_clusters['str_vis_sites'].head()"
   ]
  },
  {
   "cell_type": "code",
   "execution_count": 80,
   "metadata": {
    "collapsed": true
   },
   "outputs": [],
   "source": [
    "str_clusters['str_vis_sites'] = str_vis_sites"
   ]
  },
  {
   "cell_type": "code",
   "execution_count": null,
   "metadata": {
    "collapsed": true
   },
   "outputs": [],
   "source": []
  },
  {
   "cell_type": "code",
   "execution_count": 81,
   "metadata": {
    "collapsed": true
   },
   "outputs": [],
   "source": [
    "# k = 1\n",
    "# for i in range(len(str_clusters['2-{}'.format(k)])):\n",
    "#     #print(i)\n",
    "#     str_vec_no_rep = [0 for i in range(len(str_clusters['str_vis_sites']))]\n",
    "#     str_vec_rep = [0 for i in range(len(structure['sites']))]\n",
    "\n",
    "#     sites = str_clusters['2-{}'.format(k)][i]\n",
    "    \n",
    "#     for site in sites:\n",
    "#         site_index = find_site_index_xyz(site,str_clusters['str_vis_sites'])\n",
    "#         site_index = int(site_index.split('-')[-1])\n",
    "#         str_vec_rep[site_index] = 1\n",
    "        \n",
    "#         df_index = find_df_index_xyz(site,str_clusters['str_vis_sites'])\n",
    "#         str_vec_no_rep[df_index] = 1\n",
    "    \n",
    "#     visualize_str_no_rep(str_clusters['str_vis_sites'], str_vec_no_rep, 'str_clusters_no_rep/xyzs/cluster-2-{}-{}.xyz'.format(k, i+1), 'str_clusters_no_rep/images/cluster-2-{}-{}.png'.format(k, i+1), ['O'])\n",
    "    \n",
    "#     visualize_str_rep(str_clusters['str_vis_sites'],str_vec_rep, 'str_clusters_rep/xyzs/cluster-2-{}-{}.xyz'.format(k, i+1), 'str_clusters_rep/images/cluster-2-{}-{}.png'.format(k, i+1),['O'])"
   ]
  },
  {
   "cell_type": "code",
   "execution_count": 83,
   "metadata": {},
   "outputs": [
    {
     "data": {
      "text/plain": [
       "[-1, 0]"
      ]
     },
     "execution_count": 83,
     "metadata": {},
     "output_type": "execute_result"
    }
   ],
   "source": [
    "lat_clusters['v_vis_range']"
   ]
  },
  {
   "cell_type": "markdown",
   "metadata": {},
   "source": [
    "#### pair sites for structure sites"
   ]
  },
  {
   "cell_type": "code",
   "execution_count": 84,
   "metadata": {},
   "outputs": [
    {
     "data": {
      "text/html": [
       "<div>\n",
       "<style>\n",
       "    .dataframe thead tr:only-child th {\n",
       "        text-align: right;\n",
       "    }\n",
       "\n",
       "    .dataframe thead th {\n",
       "        text-align: left;\n",
       "    }\n",
       "\n",
       "    .dataframe tbody tr th {\n",
       "        vertical-align: top;\n",
       "    }\n",
       "</style>\n",
       "<table border=\"1\" class=\"dataframe\">\n",
       "  <thead>\n",
       "    <tr style=\"text-align: right;\">\n",
       "      <th></th>\n",
       "      <th>a</th>\n",
       "      <th>b</th>\n",
       "      <th>c</th>\n",
       "      <th>atom</th>\n",
       "      <th>x</th>\n",
       "      <th>y</th>\n",
       "      <th>z</th>\n",
       "      <th>site_index</th>\n",
       "    </tr>\n",
       "  </thead>\n",
       "  <tbody>\n",
       "    <tr>\n",
       "      <th>0</th>\n",
       "      <td>0.666967</td>\n",
       "      <td>0.106933</td>\n",
       "      <td>0.228233</td>\n",
       "      <td>Si,Al</td>\n",
       "      <td>8.389619</td>\n",
       "      <td>1.266397</td>\n",
       "      <td>3.370317</td>\n",
       "      <td>Si,Al-0</td>\n",
       "    </tr>\n",
       "    <tr>\n",
       "      <th>1</th>\n",
       "      <td>0.893067</td>\n",
       "      <td>0.560033</td>\n",
       "      <td>0.228233</td>\n",
       "      <td>Si,Al</td>\n",
       "      <td>8.383466</td>\n",
       "      <td>6.632413</td>\n",
       "      <td>3.370317</td>\n",
       "      <td>Si,Al-1</td>\n",
       "    </tr>\n",
       "    <tr>\n",
       "      <th>2</th>\n",
       "      <td>0.666967</td>\n",
       "      <td>0.560033</td>\n",
       "      <td>0.228233</td>\n",
       "      <td>Si,Al</td>\n",
       "      <td>5.291548</td>\n",
       "      <td>6.632413</td>\n",
       "      <td>3.370317</td>\n",
       "      <td>Si,Al-2</td>\n",
       "    </tr>\n",
       "    <tr>\n",
       "      <th>3</th>\n",
       "      <td>0.439967</td>\n",
       "      <td>0.333033</td>\n",
       "      <td>0.228233</td>\n",
       "      <td>Si,Al</td>\n",
       "      <td>3.739436</td>\n",
       "      <td>3.944076</td>\n",
       "      <td>3.370317</td>\n",
       "      <td>Si,Al-3</td>\n",
       "    </tr>\n",
       "    <tr>\n",
       "      <th>4</th>\n",
       "      <td>0.568667</td>\n",
       "      <td>0.137333</td>\n",
       "      <td>0.456033</td>\n",
       "      <td>O</td>\n",
       "      <td>6.837507</td>\n",
       "      <td>1.626421</td>\n",
       "      <td>6.734239</td>\n",
       "      <td>O-0</td>\n",
       "    </tr>\n",
       "  </tbody>\n",
       "</table>\n",
       "</div>"
      ],
      "text/plain": [
       "          a         b         c   atom         x         y         z  \\\n",
       "0  0.666967  0.106933  0.228233  Si,Al  8.389619  1.266397  3.370317   \n",
       "1  0.893067  0.560033  0.228233  Si,Al  8.383466  6.632413  3.370317   \n",
       "2  0.666967  0.560033  0.228233  Si,Al  5.291548  6.632413  3.370317   \n",
       "3  0.439967  0.333033  0.228233  Si,Al  3.739436  3.944076  3.370317   \n",
       "4  0.568667  0.137333  0.456033      O  6.837507  1.626421  6.734239   \n",
       "\n",
       "  site_index  \n",
       "0    Si,Al-0  \n",
       "1    Si,Al-1  \n",
       "2    Si,Al-2  \n",
       "3    Si,Al-3  \n",
       "4        O-0  "
      ]
     },
     "execution_count": 84,
     "metadata": {},
     "output_type": "execute_result"
    }
   ],
   "source": [
    "structure['sites'].head()"
   ]
  },
  {
   "cell_type": "code",
   "execution_count": 85,
   "metadata": {},
   "outputs": [
    {
     "data": {
      "text/plain": [
       "dict_keys(['type_num', 'num_max_site', 'orig_file', '0-1', '1-1', '2-1', '2-2', '2-3', '2-4', '2-5', '2-6', '2-7', '2-8', '2-9', '2-10', '2-11', 'u_vis_range', 'v_vis_range', 'w_vis_range', 'lat_vis_sites'])"
      ]
     },
     "execution_count": 85,
     "metadata": {},
     "output_type": "execute_result"
    }
   ],
   "source": [
    "lat_clusters.keys()"
   ]
  },
  {
   "cell_type": "code",
   "execution_count": 86,
   "metadata": {},
   "outputs": [
    {
     "data": {
      "text/plain": [
       "dict_keys(['cluster_orig_list', '1-1', '2-1', '2-2', '2-3', '2-4', '2-5', '2-6', '2-7', '2-8', '2-9', '2-10', '2-11', 'l_vis_range', 'm_vis_range', 'n_vis_range', 'str_vis_sites'])"
      ]
     },
     "execution_count": 86,
     "metadata": {},
     "output_type": "execute_result"
    }
   ],
   "source": [
    "str_clusters.keys()"
   ]
  },
  {
   "cell_type": "code",
   "execution_count": 87,
   "metadata": {
    "collapsed": true
   },
   "outputs": [],
   "source": [
    "str_clusters['type_num'] = lat_clusters['type_num']"
   ]
  },
  {
   "cell_type": "code",
   "execution_count": 88,
   "metadata": {
    "collapsed": true
   },
   "outputs": [],
   "source": [
    "#create one column for each cluster type\n",
    "for nsite, ncluster in enumerate(str_clusters['type_num']):\n",
    "    if nsite == 0:\n",
    "        continue\n",
    "    #print(nsite, ncluster)\n",
    "    for index in range(1, int(ncluster)+1):\n",
    "        #print(index)\n",
    "        clu_type = str(nsite)+'-'+str(int(index))\n",
    "        structure['sites'][clu_type] = \"\"\n",
    "        structure['sites'][clu_type].astype('str')"
   ]
  },
  {
   "cell_type": "code",
   "execution_count": 89,
   "metadata": {},
   "outputs": [
    {
     "data": {
      "text/html": [
       "<div>\n",
       "<style>\n",
       "    .dataframe thead tr:only-child th {\n",
       "        text-align: right;\n",
       "    }\n",
       "\n",
       "    .dataframe thead th {\n",
       "        text-align: left;\n",
       "    }\n",
       "\n",
       "    .dataframe tbody tr th {\n",
       "        vertical-align: top;\n",
       "    }\n",
       "</style>\n",
       "<table border=\"1\" class=\"dataframe\">\n",
       "  <thead>\n",
       "    <tr style=\"text-align: right;\">\n",
       "      <th></th>\n",
       "      <th>a</th>\n",
       "      <th>b</th>\n",
       "      <th>c</th>\n",
       "      <th>atom</th>\n",
       "      <th>x</th>\n",
       "      <th>y</th>\n",
       "      <th>z</th>\n",
       "      <th>site_index</th>\n",
       "      <th>1-1</th>\n",
       "      <th>2-1</th>\n",
       "      <th>2-2</th>\n",
       "      <th>2-3</th>\n",
       "      <th>2-4</th>\n",
       "      <th>2-5</th>\n",
       "      <th>2-6</th>\n",
       "      <th>2-7</th>\n",
       "      <th>2-8</th>\n",
       "      <th>2-9</th>\n",
       "      <th>2-10</th>\n",
       "      <th>2-11</th>\n",
       "    </tr>\n",
       "  </thead>\n",
       "  <tbody>\n",
       "    <tr>\n",
       "      <th>0</th>\n",
       "      <td>0.666967</td>\n",
       "      <td>0.106933</td>\n",
       "      <td>0.228233</td>\n",
       "      <td>Si,Al</td>\n",
       "      <td>8.389619</td>\n",
       "      <td>1.266397</td>\n",
       "      <td>3.370317</td>\n",
       "      <td>Si,Al-0</td>\n",
       "      <td></td>\n",
       "      <td></td>\n",
       "      <td></td>\n",
       "      <td></td>\n",
       "      <td></td>\n",
       "      <td></td>\n",
       "      <td></td>\n",
       "      <td></td>\n",
       "      <td></td>\n",
       "      <td></td>\n",
       "      <td></td>\n",
       "      <td></td>\n",
       "    </tr>\n",
       "    <tr>\n",
       "      <th>1</th>\n",
       "      <td>0.893067</td>\n",
       "      <td>0.560033</td>\n",
       "      <td>0.228233</td>\n",
       "      <td>Si,Al</td>\n",
       "      <td>8.383466</td>\n",
       "      <td>6.632413</td>\n",
       "      <td>3.370317</td>\n",
       "      <td>Si,Al-1</td>\n",
       "      <td></td>\n",
       "      <td></td>\n",
       "      <td></td>\n",
       "      <td></td>\n",
       "      <td></td>\n",
       "      <td></td>\n",
       "      <td></td>\n",
       "      <td></td>\n",
       "      <td></td>\n",
       "      <td></td>\n",
       "      <td></td>\n",
       "      <td></td>\n",
       "    </tr>\n",
       "    <tr>\n",
       "      <th>2</th>\n",
       "      <td>0.666967</td>\n",
       "      <td>0.560033</td>\n",
       "      <td>0.228233</td>\n",
       "      <td>Si,Al</td>\n",
       "      <td>5.291548</td>\n",
       "      <td>6.632413</td>\n",
       "      <td>3.370317</td>\n",
       "      <td>Si,Al-2</td>\n",
       "      <td></td>\n",
       "      <td></td>\n",
       "      <td></td>\n",
       "      <td></td>\n",
       "      <td></td>\n",
       "      <td></td>\n",
       "      <td></td>\n",
       "      <td></td>\n",
       "      <td></td>\n",
       "      <td></td>\n",
       "      <td></td>\n",
       "      <td></td>\n",
       "    </tr>\n",
       "    <tr>\n",
       "      <th>3</th>\n",
       "      <td>0.439967</td>\n",
       "      <td>0.333033</td>\n",
       "      <td>0.228233</td>\n",
       "      <td>Si,Al</td>\n",
       "      <td>3.739436</td>\n",
       "      <td>3.944076</td>\n",
       "      <td>3.370317</td>\n",
       "      <td>Si,Al-3</td>\n",
       "      <td></td>\n",
       "      <td></td>\n",
       "      <td></td>\n",
       "      <td></td>\n",
       "      <td></td>\n",
       "      <td></td>\n",
       "      <td></td>\n",
       "      <td></td>\n",
       "      <td></td>\n",
       "      <td></td>\n",
       "      <td></td>\n",
       "      <td></td>\n",
       "    </tr>\n",
       "    <tr>\n",
       "      <th>4</th>\n",
       "      <td>0.568667</td>\n",
       "      <td>0.137333</td>\n",
       "      <td>0.456033</td>\n",
       "      <td>O</td>\n",
       "      <td>6.837507</td>\n",
       "      <td>1.626421</td>\n",
       "      <td>6.734239</td>\n",
       "      <td>O-0</td>\n",
       "      <td></td>\n",
       "      <td></td>\n",
       "      <td></td>\n",
       "      <td></td>\n",
       "      <td></td>\n",
       "      <td></td>\n",
       "      <td></td>\n",
       "      <td></td>\n",
       "      <td></td>\n",
       "      <td></td>\n",
       "      <td></td>\n",
       "      <td></td>\n",
       "    </tr>\n",
       "  </tbody>\n",
       "</table>\n",
       "</div>"
      ],
      "text/plain": [
       "          a         b         c   atom         x         y         z  \\\n",
       "0  0.666967  0.106933  0.228233  Si,Al  8.389619  1.266397  3.370317   \n",
       "1  0.893067  0.560033  0.228233  Si,Al  8.383466  6.632413  3.370317   \n",
       "2  0.666967  0.560033  0.228233  Si,Al  5.291548  6.632413  3.370317   \n",
       "3  0.439967  0.333033  0.228233  Si,Al  3.739436  3.944076  3.370317   \n",
       "4  0.568667  0.137333  0.456033      O  6.837507  1.626421  6.734239   \n",
       "\n",
       "  site_index 1-1 2-1 2-2 2-3 2-4 2-5 2-6 2-7 2-8 2-9 2-10 2-11  \n",
       "0    Si,Al-0                                                    \n",
       "1    Si,Al-1                                                    \n",
       "2    Si,Al-2                                                    \n",
       "3    Si,Al-3                                                    \n",
       "4        O-0                                                    "
      ]
     },
     "execution_count": 89,
     "metadata": {},
     "output_type": "execute_result"
    }
   ],
   "source": [
    "structure['sites'].head()"
   ]
  },
  {
   "cell_type": "code",
   "execution_count": 90,
   "metadata": {},
   "outputs": [
    {
     "data": {
      "text/plain": [
       "dict_keys(['a', 'b', 'c', 'alpha', 'beta', 'gamma', 'u', 'v', 'w', 'sites'])"
      ]
     },
     "execution_count": 90,
     "metadata": {},
     "output_type": "execute_result"
    }
   ],
   "source": [
    "lattice.keys()"
   ]
  },
  {
   "cell_type": "code",
   "execution_count": 91,
   "metadata": {},
   "outputs": [
    {
     "data": {
      "text/plain": [
       "dict_keys(['type_num', 'num_max_site', 'orig_file', '0-1', '1-1', '2-1', '2-2', '2-3', '2-4', '2-5', '2-6', '2-7', '2-8', '2-9', '2-10', '2-11', 'u_vis_range', 'v_vis_range', 'w_vis_range', 'lat_vis_sites'])"
      ]
     },
     "execution_count": 91,
     "metadata": {},
     "output_type": "execute_result"
    }
   ],
   "source": [
    "lat_clusters.keys()"
   ]
  },
  {
   "cell_type": "code",
   "execution_count": 92,
   "metadata": {
    "scrolled": true
   },
   "outputs": [
    {
     "data": {
      "text/plain": [
       "dict_keys(['cluster_orig_list', '1-1', '2-1', '2-2', '2-3', '2-4', '2-5', '2-6', '2-7', '2-8', '2-9', '2-10', '2-11', 'l_vis_range', 'm_vis_range', 'n_vis_range', 'str_vis_sites', 'type_num'])"
      ]
     },
     "execution_count": 92,
     "metadata": {},
     "output_type": "execute_result"
    }
   ],
   "source": [
    "str_clusters.keys()"
   ]
  },
  {
   "cell_type": "code",
   "execution_count": 93,
   "metadata": {
    "collapsed": true
   },
   "outputs": [],
   "source": [
    "i = 0\n",
    "nsite = 0\n",
    "cluster_index = 1\n",
    "temp = []\n",
    "urage = []\n",
    "vrange = []\n",
    "wrange = []\n",
    "\n",
    "while(i < len(clulist)):\n",
    "    #read n_site\n",
    "    new_nsite = clulist[i]\n",
    "    i += 1\n",
    "    \n",
    "    #pass first three lines where the cluster contains 0 site\n",
    "    if (new_nsite == 0):\n",
    "        i+=2\n",
    "        continue\n",
    "    \n",
    "    #if the cluster has more sites than the previous cluster, reset nsite and cluster index\n",
    "    if (new_nsite != nsite):\n",
    "        nsite = new_nsite\n",
    "        cluster_index = 1\n",
    "        \n",
    "    #set the cluster type = [nsite]-[order of the specific cluster in all nsite-clusters].\n",
    "    cluster_type = str(nsite)+'-'+str(cluster_index)\n",
    "    cluster_types.append(cluster_type)\n",
    "    \n",
    "    #initialize a empty set called temp \n",
    "    temp = []\n",
    "        \n",
    "    #read multiplicity\n",
    "    multiplicity = clulist[i]\n",
    "    i += 1\n",
    "    \n",
    "    #go through all the clusters\n",
    "    n_cluster = int(multiplicity *structure['ncell'])\n",
    "    \n",
    "    for j in range(n_cluster):\n",
    "        cluster = []\n",
    "        for k in range(nsite):\n",
    "            point = []\n",
    "            for element in clulist[i]:\n",
    "                point.append(float(element))\n",
    "            site = find_site_index_xyz(point, str_vis_sites)\n",
    "            #print(u,v,w)\n",
    "            cluster.append(site)\n",
    "            i += 1\n",
    "        temp.append(cluster)\n",
    "    \n",
    "    #pass the line with correlation\n",
    "    i += 1 \n",
    "    \n",
    "    #put the set of clusters in dictionary of clusters\n",
    "    str_clusters[cluster_type+'indices'] = temp\n",
    "    \n",
    "    #count cluster types\n",
    "    cluster_index += 1   "
   ]
  },
  {
   "cell_type": "code",
   "execution_count": 94,
   "metadata": {},
   "outputs": [
    {
     "data": {
      "text/plain": [
       "[1, 1, 11, 0, 0, 0, 0, 0, 0, 0]"
      ]
     },
     "execution_count": 94,
     "metadata": {},
     "output_type": "execute_result"
    }
   ],
   "source": [
    "str_clusters['type_num']"
   ]
  },
  {
   "cell_type": "code",
   "execution_count": 95,
   "metadata": {
    "collapsed": true
   },
   "outputs": [],
   "source": [
    "structure['sites'].reset_index(inplace=True, drop=True)"
   ]
  },
  {
   "cell_type": "code",
   "execution_count": 96,
   "metadata": {
    "collapsed": true
   },
   "outputs": [],
   "source": [
    "def find_df_index_from_site_index(df, site_index):\n",
    "    return df[df['site_index'] == site_index].index[0]"
   ]
  },
  {
   "cell_type": "code",
   "execution_count": 97,
   "metadata": {
    "collapsed": true
   },
   "outputs": [],
   "source": [
    "for nsite, cluster_index in enumerate(str_clusters['type_num']):\n",
    "    if nsite == 0:\n",
    "        continue\n",
    "    for index in range(1, cluster_index+1):\n",
    "        clu_type = str(nsite)+'-'+str(index)\n",
    "        for sites in str_clusters[clu_type+'indices']:\n",
    "            #print(sites)\n",
    "            for i, site in enumerate(sites):\n",
    "                #print(site)\n",
    "                site_index = int(site.split('-')[-1])\n",
    "                df_index = find_df_index_from_site_index(structure['sites'], site)\n",
    "                sites_res = deepcopy(sites[:i])\n",
    "                sites_res.extend(deepcopy(sites[i+1:]))\n",
    "                if (structure['sites'].iloc[df_index][clu_type] == ''):\n",
    "                    structure['sites'].set_value(df_index, clu_type, set([frozenset(set(sites_res))]))\n",
    "                else:\n",
    "                    structure['sites'].iloc[df_index][clu_type].update([frozenset(set(sites_res))])"
   ]
  },
  {
   "cell_type": "code",
   "execution_count": 98,
   "metadata": {
    "collapsed": true
   },
   "outputs": [],
   "source": [
    "no_coexit_type = ['2-1','2-2','2-3','2-4']"
   ]
  },
  {
   "cell_type": "code",
   "execution_count": 99,
   "metadata": {
    "collapsed": true
   },
   "outputs": [],
   "source": [
    "!mkdir random_configuration\n",
    "!mkdir random_configuration/xyzs\n",
    "!mkdir random_configuration/images"
   ]
  },
  {
   "cell_type": "code",
   "execution_count": 100,
   "metadata": {
    "collapsed": true
   },
   "outputs": [],
   "source": [
    "atom_num = 12"
   ]
  },
  {
   "cell_type": "code",
   "execution_count": 101,
   "metadata": {},
   "outputs": [
    {
     "name": "stdout",
     "output_type": "stream",
     "text": [
      "[51, 135, 202, 156, 295, 177, 237, 291, 232, 39, 7, 293]\n"
     ]
    }
   ],
   "source": [
    "available_sites = set([frozenset([x]) for x in list(structure['sites'][structure['sites']['atom'] == 'Si,Al'].site_index)])\n",
    "\n",
    "structure_vector = [0 for i in range(len(structure['sites'].site_index))]\n",
    "\n",
    "selected_sites = []\n",
    "atom_count = 0\n",
    "\n",
    "#visualize_str_rep(structure['sites'], structure_vector, 'random_configuration/xyzs/{}.xyz'.format(atom_count),'random_configuration/images/{}.png'.format(atom_count))\n",
    "\n",
    "while((atom_count < atom_num) & (len(available_sites) > 0)):\n",
    "    #random select one site from all the available sites\n",
    "    site = random.sample(available_sites, 1)[0]\n",
    "    site_index = list(site)[0]\n",
    "    #print(site_index)\n",
    "    \n",
    "    #add selected site to the list\n",
    "    selected_sites.append(int(site_index.split('-')[-1]))\n",
    "    df_index = find_df_index_from_site_index(structure['sites'], site_index)\n",
    "    structure_vector[df_index] = 1\n",
    "    \n",
    "    #find out the  sites for the selected site\n",
    "    #print(site)\n",
    "    no_coexist_sites = set()\n",
    "    for t in no_coexit_type:\n",
    "        no_coexist_sites.update([set(x) for x in list(list(structure['sites'][structure['sites']['site_index'] == site_index][t]))][0])\n",
    "    #print(no_coexist_sites)\n",
    "    \n",
    "    #remove the selected site and the coresponding bad sites from available sites\n",
    "    available_sites.remove(site)\n",
    "    available_sites = available_sites.difference(no_coexist_sites)\n",
    "    #print(available_sites)\n",
    "    \n",
    "    atom_count += 1\n",
    "    \n",
    "    visualize_str_rep(structure['sites'], structure_vector, 'random_configuration/xyzs/{}.xyz'.format(atom_count),'random_configuration/images/{}.png'.format(atom_count),['O'])\n",
    "\n",
    "    \n",
    "if(len(selected_sites) == atom_num):\n",
    "    print(selected_sites)\n",
    "else:\n",
    "    print('Failed')\n"
   ]
  },
  {
   "cell_type": "code",
   "execution_count": 102,
   "metadata": {},
   "outputs": [
    {
     "data": {
      "text/plain": [
       "a                                 0.0003\n",
       "b                                 0.2267\n",
       "c                                 0.8949\n",
       "atom                               Si,Al\n",
       "x                               -1.54596\n",
       "y                                2.68478\n",
       "z                                 13.215\n",
       "site_index                       Si,Al-9\n",
       "1-1                                 {()}\n",
       "2-1                         {(Si,Al-15)}\n",
       "2-2                         {(Si,Al-97)}\n",
       "2-3                        {(Si,Al-312)}\n",
       "2-4                         {(Si,Al-23)}\n",
       "2-5             {(Si,Al-33), (Si,Al-90)}\n",
       "2-6                          {(Si,Al-5)}\n",
       "2-7           {(Si,Al-228), (Si,Al-315)}\n",
       "2-8             {(Si,Al-85), (Si,Al-29)}\n",
       "2-9            {(Si,Al-323), (Si,Al-20)}\n",
       "2-10                        {(Si,Al-30)}\n",
       "2-11                       {(Si,Al-222)}\n",
       "Name: 107, dtype: object"
      ]
     },
     "execution_count": 102,
     "metadata": {},
     "output_type": "execute_result"
    }
   ],
   "source": [
    "structure['sites'].iloc[107]"
   ]
  },
  {
   "cell_type": "code",
   "execution_count": 103,
   "metadata": {
    "collapsed": true
   },
   "outputs": [],
   "source": [
    "visualize_str_rep(structure['sites'], structure_vector, 'random_configuration/xyzs/12.xyz'.format(atom_count),'random_configuration/images/12.png'.format(atom_count),['O'])"
   ]
  },
  {
   "cell_type": "code",
   "execution_count": 104,
   "metadata": {
    "collapsed": true
   },
   "outputs": [],
   "source": [
    "c = read('random_configuration/xyzs/{}.xyz'.format(12))\n",
    "view(c)"
   ]
  },
  {
   "cell_type": "code",
   "execution_count": 105,
   "metadata": {
    "collapsed": true
   },
   "outputs": [],
   "source": [
    "!mkdir random_configuration_no_rules\n",
    "!mkdir random_configuration_no_rules/xyzs\n",
    "!mkdir random_configuration_no_rules/images"
   ]
  },
  {
   "cell_type": "code",
   "execution_count": 106,
   "metadata": {
    "collapsed": true
   },
   "outputs": [],
   "source": [
    "atom_num = 36"
   ]
  },
  {
   "cell_type": "code",
   "execution_count": 107,
   "metadata": {},
   "outputs": [
    {
     "name": "stdout",
     "output_type": "stream",
     "text": [
      "[200, 279, 75, 184, 242, 96, 105, 225, 152, 86, 191, 65, 111, 123, 313, 174, 50, 119, 257, 98, 260, 180, 148, 144, 259, 80, 87, 53, 204, 287, 209, 32, 85, 115, 309, 301]\n"
     ]
    }
   ],
   "source": [
    "#no rules\n",
    "available_sites = set([frozenset([x]) for x in list(structure['sites'][structure['sites']['atom'] == 'Si,Al'].site_index)])\n",
    "\n",
    "structure_vector = [0 for i in range(len(structure['sites'].site_index))]\n",
    "\n",
    "selected_sites = []\n",
    "atom_count = 0\n",
    "\n",
    "#visualize_str_rep(structure['sites'], structure_vector, 'random_configuration_no_rules/xyzs/{}.xyz'.format(atom_count),'random_configuration_no_rules/images/{}.png'.format(atom_count))\n",
    "\n",
    "while((atom_count < atom_num) & (len(available_sites) > 0)):\n",
    "    #random select one site from all the available sites\n",
    "    site = random.sample(available_sites, 1)[0]\n",
    "    site_index = list(site)[0]\n",
    "    #print(site_index)\n",
    "    \n",
    "    #add selected site to the list\n",
    "    selected_sites.append(int(site_index.split('-')[-1]))\n",
    "    df_index = find_df_index_from_site_index(structure['sites'], site_index)\n",
    "    structure_vector[df_index] = 1\n",
    "    \n",
    "    #remove the selected site and the coresponding bad sites from available sites\n",
    "    available_sites.remove(site)\n",
    "    #print(available_sites)\n",
    "    \n",
    "    atom_count += 1\n",
    "    \n",
    "    #visualize_str_rep(structure['sites'], structure_vector, 'random_configuration_no_rules/xyzs/{}.xyz'.format(atom_count),'random_configuration_no_rules/images/{}.png'.format(atom_count),['O'])\n",
    "    \n",
    "if(len(selected_sites) == atom_num):\n",
    "    print(selected_sites)\n",
    "else:\n",
    "    print('Failed')\n"
   ]
  },
  {
   "cell_type": "code",
   "execution_count": 108,
   "metadata": {},
   "outputs": [
    {
     "data": {
      "text/plain": [
       "36"
      ]
     },
     "execution_count": 108,
     "metadata": {},
     "output_type": "execute_result"
    }
   ],
   "source": [
    "np.sum(structure_vector)"
   ]
  },
  {
   "cell_type": "markdown",
   "metadata": {},
   "source": [
    "#### count clusters"
   ]
  },
  {
   "cell_type": "code",
   "execution_count": 109,
   "metadata": {
    "collapsed": true
   },
   "outputs": [],
   "source": [
    "counting_types = ['2-7','2-11']"
   ]
  },
  {
   "cell_type": "code",
   "execution_count": 110,
   "metadata": {
    "collapsed": true
   },
   "outputs": [],
   "source": [
    "counting_results = defaultdict(int)\n",
    "for clutype in counting_types:\n",
    "    count = 0\n",
    "    for cluster in str_clusters[clutype+'indices']:\n",
    "        #print(cluster)\n",
    "        exist = 1\n",
    "        for site in cluster:\n",
    "            df_index = find_df_index_from_site_index(structure['sites'], site)\n",
    "            #print(df_index)\n",
    "            if structure_vector[df_index] == 0:\n",
    "                exist = 0\n",
    "                continue\n",
    "        if exist == 1:\n",
    "            count+=1\n",
    "        #print(count)\n",
    "    counting_results[clutype] = count"
   ]
  },
  {
   "cell_type": "code",
   "execution_count": 111,
   "metadata": {},
   "outputs": [
    {
     "data": {
      "text/plain": [
       "defaultdict(int, {'2-11': 4, '2-7': 6})"
      ]
     },
     "execution_count": 111,
     "metadata": {},
     "output_type": "execute_result"
    }
   ],
   "source": [
    "counting_results"
   ]
  },
  {
   "cell_type": "code",
   "execution_count": 112,
   "metadata": {
    "collapsed": true
   },
   "outputs": [],
   "source": [
    "filepath = 'random_configuration/xyzs/12.xyz'\n",
    "c = read(filepath)\n",
    "#view(c)"
   ]
  },
  {
   "cell_type": "code",
   "execution_count": 113,
   "metadata": {
    "collapsed": true
   },
   "outputs": [],
   "source": [
    "y = [x/12 for x in counting_results.values()]"
   ]
  },
  {
   "cell_type": "code",
   "execution_count": 114,
   "metadata": {},
   "outputs": [
    {
     "data": {
      "image/png": "[encoded data removed]",
      "text/plain": [
       "<matplotlib.figure.Figure at 0x11a500438>"
      ]
     },
     "metadata": {},
     "output_type": "display_data"
    }
   ],
   "source": [
    "plt.bar(counting_results.keys(), counting_results.values());"
   ]
  },
  {
   "cell_type": "code",
   "execution_count": 115,
   "metadata": {
    "collapsed": true
   },
   "outputs": [],
   "source": [
    "all_site_count = {}\n",
    "all_site_count['2-1'] = 24\n",
    "all_site_count['2-2'] = 24\n",
    "all_site_count['2-3'] = 24\n",
    "all_site_count['2-4'] = 48\n",
    "all_site_count['2-5'] = 24\n",
    "all_site_count['2-6'] = 24"
   ]
  },
  {
   "cell_type": "code",
   "execution_count": 116,
   "metadata": {},
   "outputs": [
    {
     "data": {
      "image/png": "[encoded data removed]",
      "text/plain": [
       "<matplotlib.figure.Figure at 0x112146940>"
      ]
     },
     "metadata": {},
     "output_type": "display_data"
    }
   ],
   "source": [
    "plt.bar(all_site_count.keys(), all_site_count.values(), label='site clusters')\n",
    "plt.bar(counting_results.keys(), counting_results.values(), label='Al-Al clusters for 8Si/4Al',color='#D65027')\n",
    "plt.legend();"
   ]
  },
  {
   "cell_type": "code",
   "execution_count": 117,
   "metadata": {
    "collapsed": true
   },
   "outputs": [],
   "source": [
    "def random_config(sites_df, atom_num, no_coexit_type=[]):\n",
    "    fail= True\n",
    "    while fail:\n",
    "        available_sites = set([frozenset([x]) for x in list(structure['sites'][structure['sites']['atom'] == 'Si,Al'].site_index)])\n",
    "\n",
    "        structure_vector = [0 for i in range(len(sites_df.site_index))]\n",
    "\n",
    "        selected_sites = []\n",
    "        atom_count = 0\n",
    "\n",
    "        #visualize_str_rep(structure['sites'], structure_vector, 'random_configuration/xyzs/{}.xyz'.format(atom_count),'random_configuration/images/{}.png'.format(atom_count))\n",
    "\n",
    "        while((atom_count < atom_num) & (len(available_sites) > 0)):\n",
    "            #random select one site from all the available sites\n",
    "            site = random.sample(available_sites, 1)[0]\n",
    "            site_index = list(site)[0]\n",
    "            #print(site_index)\n",
    "\n",
    "            #add selected site to the list\n",
    "            selected_sites.append(int(site_index.split('-')[-1]))\n",
    "            df_index = find_df_index_from_site_index(structure['sites'], site_index)\n",
    "            structure_vector[df_index] = 1\n",
    "\n",
    "            #find out the  sites for the selected site\n",
    "            #print(site)\n",
    "            no_coexist_sites = set()\n",
    "            for t in no_coexit_type:\n",
    "                no_coexist_sites.update([set(x) for x in list(list(sites_df[sites_df['site_index'] == site_index][t]))][0])\n",
    "            #print(no_coexist_sites)\n",
    "\n",
    "            #remove the selected site and the coresponding bad sites from available sites\n",
    "            available_sites.remove(site)\n",
    "            available_sites = available_sites.difference(no_coexist_sites)\n",
    "            #print(available_sites)\n",
    "\n",
    "            atom_count += 1\n",
    "\n",
    "            #visualize_str_rep(structure['sites'], structure_vector, 'random_configuration/xyzs/{}.xyz'.format(atom_count),'random_configuration/images/{}.png'.format(atom_count))\n",
    "\n",
    "        if(len(selected_sites) == atom_num):\n",
    "            fail=False\n",
    "\n",
    "    return structure_vector\n"
   ]
  },
  {
   "cell_type": "code",
   "execution_count": 118,
   "metadata": {
    "collapsed": true
   },
   "outputs": [],
   "source": [
    "def count_clusters_structure(structure_vector, structure, str_clusters, counting_types):\n",
    "    counting_results = defaultdict(int)\n",
    "    for clutype in counting_types:\n",
    "        count = 0\n",
    "        for cluster in str_clusters[clutype+'indices']:\n",
    "            exist = 1\n",
    "            for site in cluster:\n",
    "                df_index = find_df_index_from_site_index(structure['sites'], site)\n",
    "                if structure_vector[df_index] == 0:\n",
    "                    exist = 0\n",
    "                    break\n",
    "            if exist == 1:\n",
    "                count+=1\n",
    "        counting_results[clutype] = count\n",
    "    return counting_results"
   ]
  },
  {
   "cell_type": "code",
   "execution_count": 119,
   "metadata": {
    "collapsed": true
   },
   "outputs": [],
   "source": [
    "def sum_two_dict(d1, d2):\n",
    "    d = defaultdict(int)\n",
    "    for key in list(set(d1.keys()).union(set(d2.keys()))):\n",
    "        d[key] = d1[key] + d2[key]\n",
    "    return d "
   ]
  },
  {
   "cell_type": "code",
   "execution_count": 120,
   "metadata": {
    "collapsed": true
   },
   "outputs": [],
   "source": [
    "def div_dict(d, n):\n",
    "    dnew = defaultdict(float)\n",
    "    for key in d.keys():\n",
    "        dnew[key] = d[key]/n\n",
    "    return dnew"
   ]
  },
  {
   "cell_type": "code",
   "execution_count": 143,
   "metadata": {
    "collapsed": true
   },
   "outputs": [],
   "source": [
    "def count_clusters_composition(sites_df, atom_ratio, str_clusters, counting_types,repeat_num, no_coexit_type=[]):\n",
    "    atom_num = int(atom_ratio * len(sites_df[sites_df.atom == 'Si,Al'].index))\n",
    "    counting_results = defaultdict(int)\n",
    "    for i in range(repeat_num):\n",
    "        #print(i)\n",
    "        str_vec = random_config(sites_df, atom_num, no_coexit_type)\n",
    "        #print(str_vec)\n",
    "        d1 = count_clusters_structure(str_vec, structure, str_clusters, counting_types)\n",
    "        #print(d1)\n",
    "        counting_results = sum_two_dict(counting_results, d1)\n",
    "        #print(counting_results)\n",
    "    counting_results= div_dict(counting_results, repeat_num)\n",
    "    counting_results= div_dict(counting_results, atom_num)\n",
    "    return counting_results"
   ]
  },
  {
   "cell_type": "code",
   "execution_count": 144,
   "metadata": {
    "collapsed": true
   },
   "outputs": [],
   "source": [
    "counting_types = ['2-1','2-2','2-3','2-4', '2-5','2-6','2-7','2-8','2-9', '2-10','2-11']"
   ]
  },
  {
   "cell_type": "code",
   "execution_count": 145,
   "metadata": {
    "collapsed": true
   },
   "outputs": [],
   "source": [
    "d1 = count_clusters_composition(structure['sites'], 1, str_clusters, counting_types,1, no_coexit_type=[])"
   ]
  },
  {
   "cell_type": "code",
   "execution_count": 146,
   "metadata": {},
   "outputs": [
    {
     "data": {
      "text/plain": [
       "defaultdict(float,\n",
       "            {'2-1': 0.5,\n",
       "             '2-10': 0.5,\n",
       "             '2-11': 0.5,\n",
       "             '2-2': 0.5,\n",
       "             '2-3': 0.5,\n",
       "             '2-4': 0.5,\n",
       "             '2-5': 1.0,\n",
       "             '2-6': 0.5,\n",
       "             '2-7': 1.0,\n",
       "             '2-8': 1.0,\n",
       "             '2-9': 1.0})"
      ]
     },
     "execution_count": 146,
     "metadata": {},
     "output_type": "execute_result"
    }
   ],
   "source": [
    "d1"
   ]
  },
  {
   "cell_type": "code",
   "execution_count": 147,
   "metadata": {
    "collapsed": true
   },
   "outputs": [],
   "source": [
    "d3 = count_clusters_composition(structure['sites'], 1/3, str_clusters, counting_types,1000)"
   ]
  },
  {
   "cell_type": "code",
   "execution_count": 148,
   "metadata": {},
   "outputs": [
    {
     "data": {
      "text/plain": [
       "defaultdict(float,\n",
       "            {'2-1': 0.15555555555555556,\n",
       "             '2-10': 0.17777777777777778,\n",
       "             '2-11': 0.16018518518518518,\n",
       "             '2-2': 0.16574074074074072,\n",
       "             '2-3': 0.15462962962962962,\n",
       "             '2-4': 0.175,\n",
       "             '2-5': 0.3333333333333333,\n",
       "             '2-6': 0.16203703703703703,\n",
       "             '2-7': 0.32962962962962966,\n",
       "             '2-8': 0.31574074074074077,\n",
       "             '2-9': 0.3305555555555556})"
      ]
     },
     "execution_count": 148,
     "metadata": {},
     "output_type": "execute_result"
    }
   ],
   "source": [
    "d3"
   ]
  },
  {
   "cell_type": "code",
   "execution_count": 149,
   "metadata": {
    "collapsed": true
   },
   "outputs": [],
   "source": [
    "d2 = count_clusters_composition(structure['sites'], 1/3, str_clusters, counting_types,1000, no_coexit_type=['2-1','2-2','2-3','2-4'])"
   ]
  },
  {
   "cell_type": "code",
   "execution_count": 150,
   "metadata": {},
   "outputs": [
    {
     "data": {
      "text/plain": [
       "defaultdict(float,\n",
       "            {'2-1': 0.0,\n",
       "             '2-10': 0.1111111111111111,\n",
       "             '2-11': 0.1259259259259259,\n",
       "             '2-2': 0.0,\n",
       "             '2-3': 0.0,\n",
       "             '2-4': 0.0,\n",
       "             '2-5': 0.5611111111111111,\n",
       "             '2-6': 0.27499999999999997,\n",
       "             '2-7': 0.46296296296296297,\n",
       "             '2-8': 0.4083333333333333,\n",
       "             '2-9': 0.4305555555555556})"
      ]
     },
     "execution_count": 150,
     "metadata": {},
     "output_type": "execute_result"
    }
   ],
   "source": [
    "d2"
   ]
  },
  {
   "cell_type": "code",
   "execution_count": 151,
   "metadata": {},
   "outputs": [
    {
     "data": {
      "text/plain": [
       "['2-1', '2-2', '2-3', '2-4', '2-5', '2-6', '2-7', '2-8', '2-9', '2-10', '2-11']"
      ]
     },
     "execution_count": 151,
     "metadata": {},
     "output_type": "execute_result"
    }
   ],
   "source": [
    "counting_types"
   ]
  },
  {
   "cell_type": "code",
   "execution_count": 179,
   "metadata": {
    "collapsed": true
   },
   "outputs": [],
   "source": [
    "def plot_counts(counting_types, values, ylabel='count/site', label='', color='#D65027'):\n",
    "    fig_w = 0.5*len(counting_types)\n",
    "    value_series = pd.Series.from_array(values)   \n",
    "    x_labels = counting_types\n",
    "\n",
    "    # now to plot the figure...\n",
    "    plt.figure(figsize=(fig_w, 5))\n",
    "    ax = value_series.plot(kind='bar', color = color)\n",
    "    ax.set_ylabel(ylabel)\n",
    "    ax.set_xticklabels(x_labels)\n",
    "    \n",
    "    ax.legend([label])\n",
    "\n",
    "    rects = ax.patches\n",
    "\n",
    "    # Now make some labels\n",
    "    labels = ['{:.2f}'.format(x) for x in values]\n",
    "\n",
    "    for rect, label in zip(rects, labels):\n",
    "        height = rect.get_height()\n",
    "        ax.text(rect.get_x() + rect.get_width()/2, height, label, ha='center', va='bottom')"
   ]
  },
  {
   "cell_type": "code",
   "execution_count": 273,
   "metadata": {},
   "outputs": [
    {
     "data": {
      "image/png": "[encoded data removed]",
      "text/plain": [
       "<matplotlib.figure.Figure at 0x11a986dd8>"
      ]
     },
     "metadata": {},
     "output_type": "display_data"
    }
   ],
   "source": [
    "values = [d1[t] for t in counting_types]\n",
    "plot_counts(counting_types, values, label='all Al', ylabel='count/Al')"
   ]
  },
  {
   "cell_type": "code",
   "execution_count": 180,
   "metadata": {},
   "outputs": [
    {
     "data": {
      "image/png": "[encoded data removed]",
      "text/plain": [
       "<matplotlib.figure.Figure at 0x11a4ff8d0>"
      ]
     },
     "metadata": {},
     "output_type": "display_data"
    }
   ],
   "source": [
    "values = [d2[t] for t in counting_types]\n",
    "plot_counts(counting_types, values, ylabel='count/Al site',label='Si/Al = 2 & no 1NN')"
   ]
  },
  {
   "cell_type": "code",
   "execution_count": 181,
   "metadata": {},
   "outputs": [
    {
     "data": {
      "image/png": "[encoded data removed]",
      "text/plain": [
       "<matplotlib.figure.Figure at 0x112361080>"
      ]
     },
     "metadata": {},
     "output_type": "display_data"
    }
   ],
   "source": [
    "values = [d3[t] for t in counting_types]\n",
    "plot_counts(counting_types, values, ylabel='count/Al site', label='Si/Al = 2')"
   ]
  },
  {
   "cell_type": "markdown",
   "metadata": {},
   "source": [
    "#### titrate"
   ]
  },
  {
   "cell_type": "code",
   "execution_count": 318,
   "metadata": {
    "collapsed": true
   },
   "outputs": [],
   "source": [
    "def titrate_config_one_cluster(structure_vector,structure_sites, str_clusters, cluster_type, repeat_num):\n",
    "    count = 0\n",
    "    atom_count = np.sum(structure_vector)\n",
    "    #print(repeat_num)\n",
    "    for i in range(repeat_num):\n",
    "        exist_clusters = []\n",
    "        selected_clusters = []\n",
    "        for cluster in str_clusters[cluster_type+'indices']:\n",
    "            exist = 1\n",
    "            for site in cluster:\n",
    "                df_index = find_df_index_from_site_index(structure_sites, site)\n",
    "                if structure_vector[df_index] == 0:\n",
    "                    exist = 0\n",
    "                    break\n",
    "            if exist == 1:\n",
    "                exist_clusters.append(cluster)\n",
    "        while(exist_clusters):\n",
    "            cluster = random.sample(exist_clusters, 1)[0]\n",
    "            #print(cluster)\n",
    "\n",
    "            #add selected clusters to list\n",
    "            selected_clusters.append(cluster)\n",
    "            #print(cluster)\n",
    "            #remove selected clusters from the clusters of interest\n",
    "            exist_clusters.remove(cluster)\n",
    "\n",
    "            #remove other clusters that share elements with the selected cluster\n",
    "            for site in cluster:\n",
    "                #print(site)\n",
    "                site_index = int(site.split('-')[-1])\n",
    "                df_index = find_df_index_from_site_index(structure_sites, site)\n",
    "                structure_vector[df_index] = 0\n",
    "                for pair_site in structure_sites.iloc[df_index][cluster_type]:\n",
    "                    relevant_cluster_1 = [site, list(pair_site)[0]]\n",
    "                    relevant_cluster_2 = [list(pair_site)[0],site]\n",
    "                    if relevant_cluster_1 in exist_clusters:\n",
    "                        exist_clusters.remove(relevant_cluster_1)\n",
    "                    if relevant_cluster_2 in exist_clusters:\n",
    "                        exist_clusters.remove(relevant_cluster_2)\n",
    "            #print(exist_clusters)\n",
    "        count+=len(selected_clusters)\n",
    "    count /= repeat_num\n",
    "    return count, structure_vector"
   ]
  },
  {
   "cell_type": "code",
   "execution_count": 324,
   "metadata": {
    "collapsed": true
   },
   "outputs": [],
   "source": [
    "def titrate_config_multi_clusters(structure_vector,structure_sites, str_clusters, cluster_types, repeat_num):\n",
    "    count = [0 for t in cluster_types]\n",
    "    for n in range(repeat_num):\n",
    "        str_vec = deepcopy(structure_vector)\n",
    "        for i, cluster_type in enumerate(cluster_types):\n",
    "            #print(np.sum(str_vec))\n",
    "            #print(cluster_type)\n",
    "            count_add, str_vec = titrate_config_one_cluster(str_vec,structure_sites, str_clusters, cluster_type, 1)\n",
    "            #print(count_add)\n",
    "            count[i] += count_add\n",
    "    count = [c/repeat_num for c in count]\n",
    "    return count"
   ]
  },
  {
   "cell_type": "code",
   "execution_count": 320,
   "metadata": {
    "collapsed": true
   },
   "outputs": [],
   "source": [
    "structure_vector = random_config(structure['sites'], 36, no_coexit_type)"
   ]
  },
  {
   "cell_type": "code",
   "execution_count": 323,
   "metadata": {
    "collapsed": true
   },
   "outputs": [],
   "source": [
    "def titrate_composition(sites_df, atom_ratio, str_clusters, titrate_cluster_types, config_repeat_num, titrate_repeat_num,no_coexit_type=[]):\n",
    "    atom_num = int(atom_ratio * len(sites_df[sites_df.atom == 'Si,Al'].index))\n",
    "    count = [0 for t in titrate_cluster_types]\n",
    "    \n",
    "    for i in range(config_repeat_num):\n",
    "        #print(i)\n",
    "        str_vec = random_config(sites_df, atom_num, no_coexit_type)\n",
    "        #print(str_vec)\n",
    "        count_add = titrate_config_multi_clusters(str_vec,sites_df, str_clusters, titrate_cluster_types, titrate_repeat_num)\n",
    "        #print(count_add)\n",
    "        #print(count)\n",
    "        count = [(count[i]+count_add[i]) for i in range(len(count))]\n",
    "    count = [c/config_repeat_num for c in count]\n",
    "    return count"
   ]
  },
  {
   "cell_type": "code",
   "execution_count": 328,
   "metadata": {},
   "outputs": [
    {
     "data": {
      "text/plain": [
       "[23.3, 15.0]"
      ]
     },
     "execution_count": 328,
     "metadata": {},
     "output_type": "execute_result"
    }
   ],
   "source": [
    "titrate_composition(structure['sites'], 0.3, str_clusters, ['2-7','2-11'], 10, 10, no_coexit_type=['2-1','2-2','2-3','2-4'])"
   ]
  },
  {
   "cell_type": "code",
   "execution_count": 334,
   "metadata": {},
   "outputs": [
    {
     "data": {
      "text/plain": [
       "[0.23971193415637862, 0.15432098765432098]"
      ]
     },
     "execution_count": 334,
     "metadata": {},
     "output_type": "execute_result"
    }
   ],
   "source": [
    "results = [23.3, 15]\n",
    "titrate_count_per_Al = [result/0.3/len(structure['sites'][structure['sites'].atom == 'Si,Al'].index) for result in results]\n",
    "titrate_count_per_Al"
   ]
  },
  {
   "cell_type": "code",
   "execution_count": 262,
   "metadata": {
    "collapsed": true
   },
   "outputs": [],
   "source": [
    "Si_Al_ratios = [2.5, 5, 7.5, 10, 15, 20, 25, 30, 35, 40]\n",
    "Al_ratios = [1/(1+x) for x in Si_Al_ratios]\n",
    "Al_nums = [int(Al_ratio*len(structure['sites'][structure['sites'].atom == 'Si,Al'].index)) for Al_ratio in Al_ratios]\n",
    "titrate_results = []"
   ]
  },
  {
   "cell_type": "code",
   "execution_count": 263,
   "metadata": {},
   "outputs": [
    {
     "data": {
      "text/plain": [
       "[92, 54, 38, 29, 20, 15, 12, 10, 9, 7]"
      ]
     },
     "execution_count": 263,
     "metadata": {},
     "output_type": "execute_result"
    }
   ],
   "source": [
    "Al_nums"
   ]
  },
  {
   "cell_type": "code",
   "execution_count": 280,
   "metadata": {},
   "outputs": [
    {
     "name": "stdout",
     "output_type": "stream",
     "text": [
      "0\n",
      "[0.23695652173913043, 0.27533833967402316]\n",
      "1\n",
      "[0.1796296296296296, 0.09116497881203764]\n",
      "2\n",
      "[0.12894736842105262, 0.05287878787878788]\n",
      "3\n",
      "[0.09310344827586207, 0.058890026999866806]\n",
      "4\n",
      "[0.049999999999999996, 0.02291666666666667]\n",
      "5\n",
      "[0.06666666666666667, 0.03982905982905983]\n",
      "6\n",
      "[0.05, 0.0]\n",
      "7\n",
      "[0.039999999999999994, 0.03]\n",
      "8\n",
      "[0.0, 0.011111111111111113]\n",
      "9\n",
      "[0.028571428571428564, 0.014285714285714282]\n"
     ]
    }
   ],
   "source": [
    "for index, Al_ratio in enumerate(Al_ratios):\n",
    "    print(index)\n",
    "    t = titrate_composition(structure['sites'], Al_ratio, str_clusters, ['2-7','2-11'], 10, 10, no_coexit_type=['2-1','2-2','2-3','2-4'])\n",
    "    print(t)\n",
    "    titrate_results.append(t)"
   ]
  },
  {
   "cell_type": "code",
   "execution_count": 281,
   "metadata": {
    "collapsed": true
   },
   "outputs": [],
   "source": [
    "values = [titrate_results[i][0]+titrate_results[i][1] for i in range(10)]"
   ]
  },
  {
   "cell_type": "code",
   "execution_count": 282,
   "metadata": {},
   "outputs": [
    {
     "data": {
      "text/plain": [
       "[0.3042669244811601,\n",
       " 0.21643013116764628,\n",
       " 0.13055064130915522,\n",
       " 0.1319820724558356,\n",
       " 0.05055555555555555,\n",
       " 0.523911545167266,\n",
       " 0.3218327941838004,\n",
       " 0.2210509775312407,\n",
       " 0.12819109075370422,\n",
       " 0.11547619047619048]"
      ]
     },
     "execution_count": 282,
     "metadata": {},
     "output_type": "execute_result"
    }
   ],
   "source": [
    "values"
   ]
  },
  {
   "cell_type": "code",
   "execution_count": 283,
   "metadata": {},
   "outputs": [
    {
     "data": {
      "image/png": "[encoded data removed]",
      "text/plain": [
       "<matplotlib.figure.Figure at 0x1122182b0>"
      ]
     },
     "metadata": {},
     "output_type": "display_data"
    }
   ],
   "source": [
    "plot_counts(Si_Al_ratios, values, ylabel='count/Al site', label='no 1NN')"
   ]
  },
  {
   "cell_type": "code",
   "execution_count": 271,
   "metadata": {},
   "outputs": [
    {
     "name": "stdout",
     "output_type": "stream",
     "text": [
      "0\n",
      "[0.2152173913043478, 0.08339964633068082]\n",
      "1\n",
      "[0.13518518518518519, 0.07323162202957599]\n",
      "2\n",
      "[0.10526315789473684, 0.05386877828054297]\n",
      "3\n",
      "[0.08275862068965519, 0.041525927094932066]\n",
      "4\n",
      "[0.045, 0.03916666666666667]\n",
      "5\n",
      "[0.05333333333333333, 0.009090909090909092]\n",
      "6\n",
      "[0.03333333333333334, 0.008333333333333335]\n",
      "7\n",
      "[0.03, 0.0]\n",
      "8\n",
      "[0.03333333333333334, 0.025396825396825397]\n",
      "9\n",
      "[0.0, 0.0]\n"
     ]
    }
   ],
   "source": [
    "titrate_results_no_rules =[]\n",
    "for index, Al_ratio in enumerate(Al_ratios):\n",
    "    print(index)\n",
    "    t = titrate_composition(structure['sites'], Al_ratio, str_clusters, ['2-7','2-11'], 10, 10, no_coexit_type=[])\n",
    "    print(t)\n",
    "    titrate_results_no_rules.append(t)\n",
    "    "
   ]
  },
  {
   "cell_type": "code",
   "execution_count": 141,
   "metadata": {
    "collapsed": true
   },
   "outputs": [],
   "source": [
    "# filepath = 'all_sites.cif'\n",
    "# if os.path.isfile(filepath):\n",
    "#     os.remove(filepath)\n",
    "# with open(filepath, 'a') as file:\n",
    "#     file.write('''data_image0\n",
    "# _cell_length_a       {}\n",
    "# _cell_length_b       {}\n",
    "# _cell_length_c       {}\n",
    "# _cell_angle_alpha    {}\n",
    "# _cell_angle_beta     {}\n",
    "# _cell_angle_gamma    {}\n",
    "\n",
    "# _symmetry_space_group_name_H-M    \"P 1\"\n",
    "# _symmetry_int_tables_number       1\n",
    "\n",
    "# loop_\n",
    "#   _symmetry_equiv_pos_as_xyz\n",
    "#   'x, y, z'\n",
    "\n",
    "# loop_\n",
    "#   _atom_site_label\n",
    "#   _atom_site_occupancy\n",
    "#   _atom_site_fract_x\n",
    "#   _atom_site_fract_y\n",
    "#   _atom_site_fract_z\n",
    "#   _atom_site_thermal_displace_type\n",
    "#   _atom_site_B_iso_or_equiv\n",
    "#   _atom_site_type_symbol\\n'''.format(lattice['a'], lattice['b'], lattice['c'], lattice['alpha'], lattice['beta'], lattice['gamma']))\n",
    "#     for index, row in lat_vis_site.iterrows():\n",
    "#         file.write('  {}{} 1.0000 {:0.5f} {:0.5f} {:0.5f} Biso 1.000 {}\\n'.format(row.atom.split(',')[0], row.site_index+1, row.a, row.b, row.c, row.atom.split(',')[0]))"
   ]
  },
  {
   "cell_type": "code",
   "execution_count": 142,
   "metadata": {
    "collapsed": true
   },
   "outputs": [],
   "source": [
    "# from ase import Atoms\n",
    "# from ase.io import read\n",
    "# from ase.visualize import view\n",
    "# c= read('all_sites.cif')\n",
    "# view(c)"
   ]
  },
  {
   "cell_type": "code",
   "execution_count": null,
   "metadata": {
    "collapsed": true
   },
   "outputs": [],
   "source": []
  }
 ],
 "metadata": {
  "kernelspec": {
   "display_name": "Python 3",
   "language": "python",
   "name": "python3"
  },
  "language_info": {
   "codemirror_mode": {
    "name": "ipython",
    "version": 3
   },
   "file_extension": ".py",
   "mimetype": "text/x-python",
   "name": "python",
   "nbconvert_exporter": "python",
   "pygments_lexer": "ipython3",
   "version": "3.6.1"
  }
 },
 "nbformat": 4,
 "nbformat_minor": 2
}
