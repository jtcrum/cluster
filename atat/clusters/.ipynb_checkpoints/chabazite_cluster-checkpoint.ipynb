{
 "cells": [
  {
   "cell_type": "code",
   "execution_count": 1,
   "metadata": {
    "collapsed": true
   },
   "outputs": [],
   "source": [
    "import pandas as pd\n",
    "import numpy as np\n",
    "import copy"
   ]
  },
  {
   "cell_type": "code",
   "execution_count": 2,
   "metadata": {},
   "outputs": [],
   "source": [
    "%run generate_structure_sites.py\n",
    "%run read_lat.py"
   ]
  },
  {
   "cell_type": "code",
   "execution_count": 3,
   "metadata": {},
   "outputs": [],
   "source": [
    "unit_lattice, unit_sites = read_lat()"
   ]
  },
  {
   "cell_type": "code",
   "execution_count": 4,
   "metadata": {},
   "outputs": [
    {
     "data": {
      "text/plain": [
       "{'a': 13.675,\n",
       " 'alpha': 90.0,\n",
       " 'b': 13.675,\n",
       " 'beta': 90.0,\n",
       " 'c': 14.767,\n",
       " 'gamma': 120.0,\n",
       " 'u': [1, 0, 0],\n",
       " 'v': [0, 1, 0],\n",
       " 'w': [0, 0, 1]}"
      ]
     },
     "execution_count": 4,
     "metadata": {},
     "output_type": "execute_result"
    }
   ],
   "source": [
    "unit_lattice"
   ]
  },
  {
   "cell_type": "code",
   "execution_count": 5,
   "metadata": {},
   "outputs": [
    {
     "data": {
      "text/html": [
       "<div>\n",
       "<style>\n",
       "    .dataframe thead tr:only-child th {\n",
       "        text-align: right;\n",
       "    }\n",
       "\n",
       "    .dataframe thead th {\n",
       "        text-align: left;\n",
       "    }\n",
       "\n",
       "    .dataframe tbody tr th {\n",
       "        vertical-align: top;\n",
       "    }\n",
       "</style>\n",
       "<table border=\"1\" class=\"dataframe\">\n",
       "  <thead>\n",
       "    <tr style=\"text-align: right;\">\n",
       "      <th></th>\n",
       "      <th>a</th>\n",
       "      <th>b</th>\n",
       "      <th>c</th>\n",
       "      <th>atom</th>\n",
       "    </tr>\n",
       "  </thead>\n",
       "  <tbody>\n",
       "    <tr>\n",
       "      <th>0</th>\n",
       "      <td>0.666967</td>\n",
       "      <td>0.106933</td>\n",
       "      <td>0.228233</td>\n",
       "      <td>Si,Al</td>\n",
       "    </tr>\n",
       "    <tr>\n",
       "      <th>0</th>\n",
       "      <td>0.893067</td>\n",
       "      <td>0.560033</td>\n",
       "      <td>0.228233</td>\n",
       "      <td>Si,Al</td>\n",
       "    </tr>\n",
       "    <tr>\n",
       "      <th>0</th>\n",
       "      <td>0.666967</td>\n",
       "      <td>0.560033</td>\n",
       "      <td>0.228233</td>\n",
       "      <td>Si,Al</td>\n",
       "    </tr>\n",
       "    <tr>\n",
       "      <th>0</th>\n",
       "      <td>0.439967</td>\n",
       "      <td>0.333033</td>\n",
       "      <td>0.228233</td>\n",
       "      <td>Si,Al</td>\n",
       "    </tr>\n",
       "    <tr>\n",
       "      <th>0</th>\n",
       "      <td>0.568667</td>\n",
       "      <td>0.137333</td>\n",
       "      <td>0.456033</td>\n",
       "      <td>O</td>\n",
       "    </tr>\n",
       "  </tbody>\n",
       "</table>\n",
       "</div>"
      ],
      "text/plain": [
       "          a         b         c   atom\n",
       "0  0.666967  0.106933  0.228233  Si,Al\n",
       "0  0.893067  0.560033  0.228233  Si,Al\n",
       "0  0.666967  0.560033  0.228233  Si,Al\n",
       "0  0.439967  0.333033  0.228233  Si,Al\n",
       "0  0.568667  0.137333  0.456033      O"
      ]
     },
     "execution_count": 5,
     "metadata": {},
     "output_type": "execute_result"
    }
   ],
   "source": [
    "unit_sites.head()"
   ]
  },
  {
   "cell_type": "code",
   "execution_count": 6,
   "metadata": {},
   "outputs": [],
   "source": [
    "file = open('test/str_req.txt', 'r')\n",
    "str_req = file.readlines()\n",
    "\n",
    "structure_u = [int(number) for number in str_req[0].split()]\n",
    "structure_v = [int(number) for number in str_req[1].split()]\n",
    "structure_w = [int(number) for number in str_req[2].split()]\n",
    "\n",
    "min_distance = float(str_req[4].split()[0])\n",
    "\n",
    "nu = int(np.mean(structure_u)/np.mean(unit_lattice['u']))\n",
    "nv = int(np.mean(structure_v)/np.mean(unit_lattice['v']))\n",
    "nw = int(np.mean(structure_w)/np.mean(unit_lattice['w']))\n",
    "n_unit = nu * nv * nw"
   ]
  },
  {
   "cell_type": "code",
   "execution_count": 7,
   "metadata": {},
   "outputs": [],
   "source": [
    "important_unit_sites =  unit_sites[unit_sites['atom']!='O']\n",
    "structure_sites = pd.DataFrame(columns=unit_sites.columns)\n",
    "for i in range(0, nu):\n",
    "    for j in range(0, nv):\n",
    "        for k in range(0, nw):\n",
    "            sites = pd.DataFrame(columns=important_unit_sites.columns)\n",
    "            delta = list(np.array(unit_lattice['u'])*i + np.array(unit_lattice['v'])*j + np.array(unit_lattice['w'])*k)\n",
    "            sites['a'] = important_unit_sites.a + delta[0]\n",
    "            sites['b'] = important_unit_sites.b + delta[1]\n",
    "            sites['c'] = important_unit_sites.c + delta[2]\n",
    "            sites['atom'] = important_unit_sites.atom\n",
    "            structure_sites = structure_sites.append(sites)"
   ]
  },
  {
   "cell_type": "code",
   "execution_count": 8,
   "metadata": {
    "collapsed": true
   },
   "outputs": [],
   "source": [
    "structure_sites.reset_index(drop=True, inplace=True)"
   ]
  },
  {
   "cell_type": "code",
   "execution_count": 9,
   "metadata": {},
   "outputs": [],
   "source": [
    "structure_sites['site_index'] = structure_sites.index"
   ]
  },
  {
   "cell_type": "code",
   "execution_count": 10,
   "metadata": {},
   "outputs": [],
   "source": [
    "extend_sites_a = copy.deepcopy(structure_sites)\n",
    "extend_sites_b = copy.deepcopy(structure_sites)\n",
    "extend_sites_c = copy.deepcopy(structure_sites)"
   ]
  },
  {
   "cell_type": "code",
   "execution_count": 11,
   "metadata": {
    "collapsed": true
   },
   "outputs": [],
   "source": [
    "delta = list(np.array(structure_u) + np.array(structure_v) + np.array(structure_w))"
   ]
  },
  {
   "cell_type": "code",
   "execution_count": 12,
   "metadata": {
    "collapsed": true
   },
   "outputs": [],
   "source": [
    "extend_sites_a['a'] = structure_sites['a']+ delta[0]\n",
    "extend_sites_b['b'] = structure_sites['a'] + delta[1]\n",
    "extend_sites_c['c'] = structure_sites['a'] + delta[2]"
   ]
  },
  {
   "cell_type": "code",
   "execution_count": 13,
   "metadata": {},
   "outputs": [
    {
     "data": {
      "text/html": [
       "<div>\n",
       "<style>\n",
       "    .dataframe thead tr:only-child th {\n",
       "        text-align: right;\n",
       "    }\n",
       "\n",
       "    .dataframe thead th {\n",
       "        text-align: left;\n",
       "    }\n",
       "\n",
       "    .dataframe tbody tr th {\n",
       "        vertical-align: top;\n",
       "    }\n",
       "</style>\n",
       "<table border=\"1\" class=\"dataframe\">\n",
       "  <thead>\n",
       "    <tr style=\"text-align: right;\">\n",
       "      <th></th>\n",
       "      <th>a</th>\n",
       "      <th>b</th>\n",
       "      <th>c</th>\n",
       "      <th>atom</th>\n",
       "      <th>site_index</th>\n",
       "    </tr>\n",
       "  </thead>\n",
       "  <tbody>\n",
       "    <tr>\n",
       "      <th>0</th>\n",
       "      <td>0.666967</td>\n",
       "      <td>0.106933</td>\n",
       "      <td>0.228233</td>\n",
       "      <td>Si,Al</td>\n",
       "      <td>0</td>\n",
       "    </tr>\n",
       "    <tr>\n",
       "      <th>1</th>\n",
       "      <td>0.893067</td>\n",
       "      <td>0.560033</td>\n",
       "      <td>0.228233</td>\n",
       "      <td>Si,Al</td>\n",
       "      <td>1</td>\n",
       "    </tr>\n",
       "    <tr>\n",
       "      <th>2</th>\n",
       "      <td>0.666967</td>\n",
       "      <td>0.560033</td>\n",
       "      <td>0.228233</td>\n",
       "      <td>Si,Al</td>\n",
       "      <td>2</td>\n",
       "    </tr>\n",
       "    <tr>\n",
       "      <th>3</th>\n",
       "      <td>0.439967</td>\n",
       "      <td>0.333033</td>\n",
       "      <td>0.228233</td>\n",
       "      <td>Si,Al</td>\n",
       "      <td>3</td>\n",
       "    </tr>\n",
       "    <tr>\n",
       "      <th>4</th>\n",
       "      <td>0.666367</td>\n",
       "      <td>0.106633</td>\n",
       "      <td>0.438433</td>\n",
       "      <td>Si,Al</td>\n",
       "      <td>4</td>\n",
       "    </tr>\n",
       "  </tbody>\n",
       "</table>\n",
       "</div>"
      ],
      "text/plain": [
       "          a         b         c   atom  site_index\n",
       "0  0.666967  0.106933  0.228233  Si,Al           0\n",
       "1  0.893067  0.560033  0.228233  Si,Al           1\n",
       "2  0.666967  0.560033  0.228233  Si,Al           2\n",
       "3  0.439967  0.333033  0.228233  Si,Al           3\n",
       "4  0.666367  0.106633  0.438433  Si,Al           4"
      ]
     },
     "execution_count": 13,
     "metadata": {},
     "output_type": "execute_result"
    }
   ],
   "source": [
    "structure_sites.head()"
   ]
  },
  {
   "cell_type": "code",
   "execution_count": 14,
   "metadata": {},
   "outputs": [],
   "source": [
    "extend_sites = structure_sites.append(extend_sites_a).append(extend_sites_b).append(extend_sites_c)"
   ]
  },
  {
   "cell_type": "code",
   "execution_count": 15,
   "metadata": {},
   "outputs": [],
   "source": [
    "extend_sites.reset_index(drop=True, inplace=True)"
   ]
  },
  {
   "cell_type": "code",
   "execution_count": 16,
   "metadata": {
    "collapsed": true
   },
   "outputs": [],
   "source": [
    "distance_matrix = distance.cdist(np.array(extend_sites[['a','b','c']]), np.array(extend_sites[['a','b','c']]), 'euclidean')\n",
    "extend_sites['bad_sites'] = extend_sites.apply(lambda row: list(np.where((distance_matrix[row.name] < min_distance))[0]), axis=1)"
   ]
  },
  {
   "cell_type": "code",
   "execution_count": 17,
   "metadata": {},
   "outputs": [
    {
     "data": {
      "text/html": [
       "<div>\n",
       "<style>\n",
       "    .dataframe thead tr:only-child th {\n",
       "        text-align: right;\n",
       "    }\n",
       "\n",
       "    .dataframe thead th {\n",
       "        text-align: left;\n",
       "    }\n",
       "\n",
       "    .dataframe tbody tr th {\n",
       "        vertical-align: top;\n",
       "    }\n",
       "</style>\n",
       "<table border=\"1\" class=\"dataframe\">\n",
       "  <thead>\n",
       "    <tr style=\"text-align: right;\">\n",
       "      <th></th>\n",
       "      <th>a</th>\n",
       "      <th>b</th>\n",
       "      <th>c</th>\n",
       "      <th>atom</th>\n",
       "      <th>site_index</th>\n",
       "      <th>bad_sites</th>\n",
       "    </tr>\n",
       "  </thead>\n",
       "  <tbody>\n",
       "    <tr>\n",
       "      <th>1147</th>\n",
       "      <td>1.893367</td>\n",
       "      <td>1.333633</td>\n",
       "      <td>3.893367</td>\n",
       "      <td>Si,Al</td>\n",
       "      <td>283</td>\n",
       "      <td>[1015, 1029, 1032, 1035, 1051, 1065, 1068, 107...</td>\n",
       "    </tr>\n",
       "    <tr>\n",
       "      <th>1148</th>\n",
       "      <td>1.560033</td>\n",
       "      <td>1.666967</td>\n",
       "      <td>3.560033</td>\n",
       "      <td>Si,Al</td>\n",
       "      <td>284</td>\n",
       "      <td>[1080, 1081, 1082, 1083, 1084, 1085, 1088, 109...</td>\n",
       "    </tr>\n",
       "    <tr>\n",
       "      <th>1149</th>\n",
       "      <td>1.226700</td>\n",
       "      <td>1.226400</td>\n",
       "      <td>3.226700</td>\n",
       "      <td>Si,Al</td>\n",
       "      <td>285</td>\n",
       "      <td>[871, 907, 937, 949, 961, 967, 970, 973, 985, ...</td>\n",
       "    </tr>\n",
       "    <tr>\n",
       "      <th>1150</th>\n",
       "      <td>1.893367</td>\n",
       "      <td>1.559733</td>\n",
       "      <td>3.893367</td>\n",
       "      <td>Si,Al</td>\n",
       "      <td>286</td>\n",
       "      <td>[1032, 1068, 1080, 1081, 1082, 1084, 1087, 109...</td>\n",
       "    </tr>\n",
       "    <tr>\n",
       "      <th>1151</th>\n",
       "      <td>1.560033</td>\n",
       "      <td>1.893067</td>\n",
       "      <td>3.560033</td>\n",
       "      <td>Si,Al</td>\n",
       "      <td>287</td>\n",
       "      <td>[1081, 1082, 1083, 1085, 1088, 1090, 1091, 109...</td>\n",
       "    </tr>\n",
       "  </tbody>\n",
       "</table>\n",
       "</div>"
      ],
      "text/plain": [
       "             a         b         c   atom  site_index  \\\n",
       "1147  1.893367  1.333633  3.893367  Si,Al         283   \n",
       "1148  1.560033  1.666967  3.560033  Si,Al         284   \n",
       "1149  1.226700  1.226400  3.226700  Si,Al         285   \n",
       "1150  1.893367  1.559733  3.893367  Si,Al         286   \n",
       "1151  1.560033  1.893067  3.560033  Si,Al         287   \n",
       "\n",
       "                                              bad_sites  \n",
       "1147  [1015, 1029, 1032, 1035, 1051, 1065, 1068, 107...  \n",
       "1148  [1080, 1081, 1082, 1083, 1084, 1085, 1088, 109...  \n",
       "1149  [871, 907, 937, 949, 961, 967, 970, 973, 985, ...  \n",
       "1150  [1032, 1068, 1080, 1081, 1082, 1084, 1087, 109...  \n",
       "1151  [1081, 1082, 1083, 1085, 1088, 1090, 1091, 109...  "
      ]
     },
     "execution_count": 17,
     "metadata": {},
     "output_type": "execute_result"
    }
   ],
   "source": [
    "extend_sites.tail()"
   ]
  },
  {
   "cell_type": "code",
   "execution_count": 18,
   "metadata": {},
   "outputs": [],
   "source": [
    "extend_sites['bad_sites'] = extend_sites.apply(lambda row: set([extend_sites.iloc[x].site_index for x in row.bad_sites]), axis = 1)"
   ]
  },
  {
   "cell_type": "code",
   "execution_count": 19,
   "metadata": {
    "scrolled": true
   },
   "outputs": [
    {
     "data": {
      "text/html": [
       "<div>\n",
       "<style>\n",
       "    .dataframe thead tr:only-child th {\n",
       "        text-align: right;\n",
       "    }\n",
       "\n",
       "    .dataframe thead th {\n",
       "        text-align: left;\n",
       "    }\n",
       "\n",
       "    .dataframe tbody tr th {\n",
       "        vertical-align: top;\n",
       "    }\n",
       "</style>\n",
       "<table border=\"1\" class=\"dataframe\">\n",
       "  <thead>\n",
       "    <tr style=\"text-align: right;\">\n",
       "      <th></th>\n",
       "      <th>a</th>\n",
       "      <th>b</th>\n",
       "      <th>c</th>\n",
       "      <th>atom</th>\n",
       "      <th>site_index</th>\n",
       "      <th>bad_sites</th>\n",
       "    </tr>\n",
       "  </thead>\n",
       "  <tbody>\n",
       "    <tr>\n",
       "      <th>1147</th>\n",
       "      <td>1.893367</td>\n",
       "      <td>1.333633</td>\n",
       "      <td>3.893367</td>\n",
       "      <td>Si,Al</td>\n",
       "      <td>283</td>\n",
       "      <td>{256, 259, 265, 266, 268, 270, 273, 277, 151, ...</td>\n",
       "    </tr>\n",
       "    <tr>\n",
       "      <th>1148</th>\n",
       "      <td>1.560033</td>\n",
       "      <td>1.666967</td>\n",
       "      <td>3.560033</td>\n",
       "      <td>Si,Al</td>\n",
       "      <td>284</td>\n",
       "      <td>{256, 257, 260, 262, 263, 264, 265, 266, 268, ...</td>\n",
       "    </tr>\n",
       "    <tr>\n",
       "      <th>1149</th>\n",
       "      <td>1.226700</td>\n",
       "      <td>1.226400</td>\n",
       "      <td>3.226700</td>\n",
       "      <td>Si,Al</td>\n",
       "      <td>285</td>\n",
       "      <td>{257, 260, 133, 261, 7, 139, 267, 142, 271, 27...</td>\n",
       "    </tr>\n",
       "    <tr>\n",
       "      <th>1150</th>\n",
       "      <td>1.893367</td>\n",
       "      <td>1.559733</td>\n",
       "      <td>3.893367</td>\n",
       "      <td>Si,Al</td>\n",
       "      <td>286</td>\n",
       "      <td>{256, 259, 265, 266, 268, 269, 270, 273, 276, ...</td>\n",
       "    </tr>\n",
       "    <tr>\n",
       "      <th>1151</th>\n",
       "      <td>1.560033</td>\n",
       "      <td>1.893067</td>\n",
       "      <td>3.560033</td>\n",
       "      <td>Si,Al</td>\n",
       "      <td>287</td>\n",
       "      <td>{257, 260, 262, 263, 264, 266, 268, 269, 271, ...</td>\n",
       "    </tr>\n",
       "  </tbody>\n",
       "</table>\n",
       "</div>"
      ],
      "text/plain": [
       "             a         b         c   atom  site_index  \\\n",
       "1147  1.893367  1.333633  3.893367  Si,Al         283   \n",
       "1148  1.560033  1.666967  3.560033  Si,Al         284   \n",
       "1149  1.226700  1.226400  3.226700  Si,Al         285   \n",
       "1150  1.893367  1.559733  3.893367  Si,Al         286   \n",
       "1151  1.560033  1.893067  3.560033  Si,Al         287   \n",
       "\n",
       "                                              bad_sites  \n",
       "1147  {256, 259, 265, 266, 268, 270, 273, 277, 151, ...  \n",
       "1148  {256, 257, 260, 262, 263, 264, 265, 266, 268, ...  \n",
       "1149  {257, 260, 133, 261, 7, 139, 267, 142, 271, 27...  \n",
       "1150  {256, 259, 265, 266, 268, 269, 270, 273, 276, ...  \n",
       "1151  {257, 260, 262, 263, 264, 266, 268, 269, 271, ...  "
      ]
     },
     "execution_count": 19,
     "metadata": {},
     "output_type": "execute_result"
    }
   ],
   "source": [
    "extend_sites.tail()"
   ]
  },
  {
   "cell_type": "code",
   "execution_count": 20,
   "metadata": {},
   "outputs": [
    {
     "data": {
      "text/html": [
       "<div>\n",
       "<style>\n",
       "    .dataframe thead tr:only-child th {\n",
       "        text-align: right;\n",
       "    }\n",
       "\n",
       "    .dataframe thead th {\n",
       "        text-align: left;\n",
       "    }\n",
       "\n",
       "    .dataframe tbody tr th {\n",
       "        vertical-align: top;\n",
       "    }\n",
       "</style>\n",
       "<table border=\"1\" class=\"dataframe\">\n",
       "  <thead>\n",
       "    <tr style=\"text-align: right;\">\n",
       "      <th></th>\n",
       "      <th>a</th>\n",
       "      <th>b</th>\n",
       "      <th>c</th>\n",
       "      <th>atom</th>\n",
       "      <th>site_index</th>\n",
       "    </tr>\n",
       "  </thead>\n",
       "  <tbody>\n",
       "    <tr>\n",
       "      <th>0</th>\n",
       "      <td>0.666967</td>\n",
       "      <td>0.106933</td>\n",
       "      <td>0.228233</td>\n",
       "      <td>Si,Al</td>\n",
       "      <td>0</td>\n",
       "    </tr>\n",
       "    <tr>\n",
       "      <th>1</th>\n",
       "      <td>0.893067</td>\n",
       "      <td>0.560033</td>\n",
       "      <td>0.228233</td>\n",
       "      <td>Si,Al</td>\n",
       "      <td>1</td>\n",
       "    </tr>\n",
       "    <tr>\n",
       "      <th>2</th>\n",
       "      <td>0.666967</td>\n",
       "      <td>0.560033</td>\n",
       "      <td>0.228233</td>\n",
       "      <td>Si,Al</td>\n",
       "      <td>2</td>\n",
       "    </tr>\n",
       "    <tr>\n",
       "      <th>3</th>\n",
       "      <td>0.439967</td>\n",
       "      <td>0.333033</td>\n",
       "      <td>0.228233</td>\n",
       "      <td>Si,Al</td>\n",
       "      <td>3</td>\n",
       "    </tr>\n",
       "    <tr>\n",
       "      <th>4</th>\n",
       "      <td>0.666367</td>\n",
       "      <td>0.106633</td>\n",
       "      <td>0.438433</td>\n",
       "      <td>Si,Al</td>\n",
       "      <td>4</td>\n",
       "    </tr>\n",
       "  </tbody>\n",
       "</table>\n",
       "</div>"
      ],
      "text/plain": [
       "          a         b         c   atom  site_index\n",
       "0  0.666967  0.106933  0.228233  Si,Al           0\n",
       "1  0.893067  0.560033  0.228233  Si,Al           1\n",
       "2  0.666967  0.560033  0.228233  Si,Al           2\n",
       "3  0.439967  0.333033  0.228233  Si,Al           3\n",
       "4  0.666367  0.106633  0.438433  Si,Al           4"
      ]
     },
     "execution_count": 20,
     "metadata": {},
     "output_type": "execute_result"
    }
   ],
   "source": [
    "structure_sites.head()"
   ]
  },
  {
   "cell_type": "code",
   "execution_count": 21,
   "metadata": {},
   "outputs": [],
   "source": [
    "structure_sites = pd.merge(structure_sites, extend_sites, on=['a','b','c','atom','site_index'], how='left')"
   ]
  },
  {
   "cell_type": "code",
   "execution_count": 22,
   "metadata": {},
   "outputs": [
    {
     "data": {
      "text/html": [
       "<div>\n",
       "<style>\n",
       "    .dataframe thead tr:only-child th {\n",
       "        text-align: right;\n",
       "    }\n",
       "\n",
       "    .dataframe thead th {\n",
       "        text-align: left;\n",
       "    }\n",
       "\n",
       "    .dataframe tbody tr th {\n",
       "        vertical-align: top;\n",
       "    }\n",
       "</style>\n",
       "<table border=\"1\" class=\"dataframe\">\n",
       "  <thead>\n",
       "    <tr style=\"text-align: right;\">\n",
       "      <th></th>\n",
       "      <th>a</th>\n",
       "      <th>b</th>\n",
       "      <th>c</th>\n",
       "      <th>atom</th>\n",
       "      <th>site_index</th>\n",
       "      <th>bad_sites</th>\n",
       "    </tr>\n",
       "  </thead>\n",
       "  <tbody>\n",
       "    <tr>\n",
       "      <th>268</th>\n",
       "      <td>1.666367</td>\n",
       "      <td>1.559733</td>\n",
       "      <td>1.438433</td>\n",
       "      <td>Si,Al</td>\n",
       "      <td>268</td>\n",
       "      <td>{256, 257, 128, 259, 260, 131, 262, 263, 134, ...</td>\n",
       "    </tr>\n",
       "    <tr>\n",
       "      <th>269</th>\n",
       "      <td>1.559733</td>\n",
       "      <td>1.893367</td>\n",
       "      <td>1.561567</td>\n",
       "      <td>Si,Al</td>\n",
       "      <td>269</td>\n",
       "      <td>{257, 260, 262, 263, 264, 134, 266, 268, 269, ...</td>\n",
       "    </tr>\n",
       "    <tr>\n",
       "      <th>270</th>\n",
       "      <td>1.773600</td>\n",
       "      <td>1.000300</td>\n",
       "      <td>1.105100</td>\n",
       "      <td>Si,Al</td>\n",
       "      <td>270</td>\n",
       "      <td>{256, 6, 265, 138, 12, 141, 270, 271, 274, 20,...</td>\n",
       "    </tr>\n",
       "    <tr>\n",
       "      <th>271</th>\n",
       "      <td>1.440267</td>\n",
       "      <td>1.333633</td>\n",
       "      <td>1.438433</td>\n",
       "      <td>Si,Al</td>\n",
       "      <td>271</td>\n",
       "      <td>{256, 257, 260, 133, 263, 265, 266, 139, 267, ...</td>\n",
       "    </tr>\n",
       "    <tr>\n",
       "      <th>272</th>\n",
       "      <td>1.106933</td>\n",
       "      <td>1.666967</td>\n",
       "      <td>1.771767</td>\n",
       "      <td>Si,Al</td>\n",
       "      <td>272</td>\n",
       "      <td>{257, 258, 132, 260, 261, 135, 262, 263, 264, ...</td>\n",
       "    </tr>\n",
       "    <tr>\n",
       "      <th>273</th>\n",
       "      <td>1.773600</td>\n",
       "      <td>1.773300</td>\n",
       "      <td>1.105100</td>\n",
       "      <td>Si,Al</td>\n",
       "      <td>273</td>\n",
       "      <td>{259, 134, 265, 266, 268, 269, 273, 277, 283, ...</td>\n",
       "    </tr>\n",
       "    <tr>\n",
       "      <th>274</th>\n",
       "      <td>1.440267</td>\n",
       "      <td>1.106633</td>\n",
       "      <td>1.438433</td>\n",
       "      <td>Si,Al</td>\n",
       "      <td>274</td>\n",
       "      <td>{256, 257, 260, 133, 265, 266, 139, 267, 268, ...</td>\n",
       "    </tr>\n",
       "    <tr>\n",
       "      <th>275</th>\n",
       "      <td>1.106933</td>\n",
       "      <td>1.439967</td>\n",
       "      <td>1.771767</td>\n",
       "      <td>Si,Al</td>\n",
       "      <td>275</td>\n",
       "      <td>{257, 258, 260, 261, 262, 135, 263, 264, 266, ...</td>\n",
       "    </tr>\n",
       "    <tr>\n",
       "      <th>276</th>\n",
       "      <td>1.773300</td>\n",
       "      <td>1.999700</td>\n",
       "      <td>1.894900</td>\n",
       "      <td>Si,Al</td>\n",
       "      <td>276</td>\n",
       "      <td>{128, 262, 263, 264, 134, 266, 269, 114, 276, ...</td>\n",
       "    </tr>\n",
       "    <tr>\n",
       "      <th>277</th>\n",
       "      <td>1.999700</td>\n",
       "      <td>1.226400</td>\n",
       "      <td>1.105100</td>\n",
       "      <td>Si,Al</td>\n",
       "      <td>277</td>\n",
       "      <td>{256, 130, 259, 6, 136, 265, 10, 137, 268, 12,...</td>\n",
       "    </tr>\n",
       "    <tr>\n",
       "      <th>278</th>\n",
       "      <td>1.106633</td>\n",
       "      <td>1.666367</td>\n",
       "      <td>1.561567</td>\n",
       "      <td>Si,Al</td>\n",
       "      <td>278</td>\n",
       "      <td>{129, 257, 258, 132, 260, 261, 135, 262, 263, ...</td>\n",
       "    </tr>\n",
       "    <tr>\n",
       "      <th>279</th>\n",
       "      <td>1.773300</td>\n",
       "      <td>1.773600</td>\n",
       "      <td>1.894900</td>\n",
       "      <td>Si,Al</td>\n",
       "      <td>279</td>\n",
       "      <td>{128, 257, 131, 262, 263, 264, 134, 266, 137, ...</td>\n",
       "    </tr>\n",
       "    <tr>\n",
       "      <th>280</th>\n",
       "      <td>1.439967</td>\n",
       "      <td>1.106933</td>\n",
       "      <td>1.228233</td>\n",
       "      <td>Si,Al</td>\n",
       "      <td>280</td>\n",
       "      <td>{256, 260, 133, 265, 268, 270, 271, 274, 277, ...</td>\n",
       "    </tr>\n",
       "    <tr>\n",
       "      <th>281</th>\n",
       "      <td>1.106633</td>\n",
       "      <td>1.440267</td>\n",
       "      <td>1.561567</td>\n",
       "      <td>Si,Al</td>\n",
       "      <td>281</td>\n",
       "      <td>{257, 258, 260, 133, 261, 135, 262, 263, 266, ...</td>\n",
       "    </tr>\n",
       "    <tr>\n",
       "      <th>282</th>\n",
       "      <td>1.226700</td>\n",
       "      <td>1.000300</td>\n",
       "      <td>1.105100</td>\n",
       "      <td>Si,Al</td>\n",
       "      <td>282</td>\n",
       "      <td>{256, 133, 139, 270, 271, 274, 150, 24, 280, 1...</td>\n",
       "    </tr>\n",
       "    <tr>\n",
       "      <th>283</th>\n",
       "      <td>1.893367</td>\n",
       "      <td>1.333633</td>\n",
       "      <td>1.438433</td>\n",
       "      <td>Si,Al</td>\n",
       "      <td>283</td>\n",
       "      <td>{256, 128, 130, 259, 260, 131, 134, 265, 266, ...</td>\n",
       "    </tr>\n",
       "    <tr>\n",
       "      <th>284</th>\n",
       "      <td>1.560033</td>\n",
       "      <td>1.666967</td>\n",
       "      <td>1.771767</td>\n",
       "      <td>Si,Al</td>\n",
       "      <td>284</td>\n",
       "      <td>{128, 257, 258, 131, 260, 262, 263, 264, 134, ...</td>\n",
       "    </tr>\n",
       "    <tr>\n",
       "      <th>285</th>\n",
       "      <td>1.226700</td>\n",
       "      <td>1.226400</td>\n",
       "      <td>1.105100</td>\n",
       "      <td>Si,Al</td>\n",
       "      <td>285</td>\n",
       "      <td>{256, 260, 133, 139, 142, 270, 271, 274, 150, ...</td>\n",
       "    </tr>\n",
       "    <tr>\n",
       "      <th>286</th>\n",
       "      <td>1.893367</td>\n",
       "      <td>1.559733</td>\n",
       "      <td>1.438433</td>\n",
       "      <td>Si,Al</td>\n",
       "      <td>286</td>\n",
       "      <td>{256, 128, 259, 260, 131, 134, 265, 266, 137, ...</td>\n",
       "    </tr>\n",
       "    <tr>\n",
       "      <th>287</th>\n",
       "      <td>1.560033</td>\n",
       "      <td>1.893067</td>\n",
       "      <td>1.771767</td>\n",
       "      <td>Si,Al</td>\n",
       "      <td>287</td>\n",
       "      <td>{128, 257, 258, 260, 262, 263, 264, 266, 268, ...</td>\n",
       "    </tr>\n",
       "  </tbody>\n",
       "</table>\n",
       "</div>"
      ],
      "text/plain": [
       "            a         b         c   atom  site_index  \\\n",
       "268  1.666367  1.559733  1.438433  Si,Al         268   \n",
       "269  1.559733  1.893367  1.561567  Si,Al         269   \n",
       "270  1.773600  1.000300  1.105100  Si,Al         270   \n",
       "271  1.440267  1.333633  1.438433  Si,Al         271   \n",
       "272  1.106933  1.666967  1.771767  Si,Al         272   \n",
       "273  1.773600  1.773300  1.105100  Si,Al         273   \n",
       "274  1.440267  1.106633  1.438433  Si,Al         274   \n",
       "275  1.106933  1.439967  1.771767  Si,Al         275   \n",
       "276  1.773300  1.999700  1.894900  Si,Al         276   \n",
       "277  1.999700  1.226400  1.105100  Si,Al         277   \n",
       "278  1.106633  1.666367  1.561567  Si,Al         278   \n",
       "279  1.773300  1.773600  1.894900  Si,Al         279   \n",
       "280  1.439967  1.106933  1.228233  Si,Al         280   \n",
       "281  1.106633  1.440267  1.561567  Si,Al         281   \n",
       "282  1.226700  1.000300  1.105100  Si,Al         282   \n",
       "283  1.893367  1.333633  1.438433  Si,Al         283   \n",
       "284  1.560033  1.666967  1.771767  Si,Al         284   \n",
       "285  1.226700  1.226400  1.105100  Si,Al         285   \n",
       "286  1.893367  1.559733  1.438433  Si,Al         286   \n",
       "287  1.560033  1.893067  1.771767  Si,Al         287   \n",
       "\n",
       "                                             bad_sites  \n",
       "268  {256, 257, 128, 259, 260, 131, 262, 263, 134, ...  \n",
       "269  {257, 260, 262, 263, 264, 134, 266, 268, 269, ...  \n",
       "270  {256, 6, 265, 138, 12, 141, 270, 271, 274, 20,...  \n",
       "271  {256, 257, 260, 133, 263, 265, 266, 139, 267, ...  \n",
       "272  {257, 258, 132, 260, 261, 135, 262, 263, 264, ...  \n",
       "273  {259, 134, 265, 266, 268, 269, 273, 277, 283, ...  \n",
       "274  {256, 257, 260, 133, 265, 266, 139, 267, 268, ...  \n",
       "275  {257, 258, 260, 261, 262, 135, 263, 264, 266, ...  \n",
       "276  {128, 262, 263, 264, 134, 266, 269, 114, 276, ...  \n",
       "277  {256, 130, 259, 6, 136, 265, 10, 137, 268, 12,...  \n",
       "278  {129, 257, 258, 132, 260, 261, 135, 262, 263, ...  \n",
       "279  {128, 257, 131, 262, 263, 264, 134, 266, 137, ...  \n",
       "280  {256, 260, 133, 265, 268, 270, 271, 274, 277, ...  \n",
       "281  {257, 258, 260, 133, 261, 135, 262, 263, 266, ...  \n",
       "282  {256, 133, 139, 270, 271, 274, 150, 24, 280, 1...  \n",
       "283  {256, 128, 130, 259, 260, 131, 134, 265, 266, ...  \n",
       "284  {128, 257, 258, 131, 260, 262, 263, 264, 134, ...  \n",
       "285  {256, 260, 133, 139, 142, 270, 271, 274, 150, ...  \n",
       "286  {256, 128, 259, 260, 131, 134, 265, 266, 137, ...  \n",
       "287  {128, 257, 258, 260, 262, 263, 264, 266, 268, ...  "
      ]
     },
     "execution_count": 22,
     "metadata": {},
     "output_type": "execute_result"
    }
   ],
   "source": [
    "structure_sites.tail(20)"
   ]
  },
  {
   "cell_type": "code",
   "execution_count": 23,
   "metadata": {
    "collapsed": true
   },
   "outputs": [],
   "source": [
    "available_sites = set(structure_sites.site_index)"
   ]
  },
  {
   "cell_type": "code",
   "execution_count": 25,
   "metadata": {
    "collapsed": true
   },
   "outputs": [],
   "source": [
    "Al_ratio = float(str_req[3].split()[0])"
   ]
  },
  {
   "cell_type": "code",
   "execution_count": 30,
   "metadata": {
    "scrolled": true
   },
   "outputs": [],
   "source": [
    "Al_number = int(Al_ratio*len(available_sites))"
   ]
  },
  {
   "cell_type": "code",
   "execution_count": 33,
   "metadata": {
    "collapsed": true
   },
   "outputs": [],
   "source": [
    "import random"
   ]
  },
  {
   "cell_type": "code",
   "execution_count": 34,
   "metadata": {},
   "outputs": [],
   "source": [
    "site = random.sample(available_sites, 1)"
   ]
  },
  {
   "cell_type": "code",
   "execution_count": null,
   "metadata": {
    "collapsed": true
   },
   "outputs": [],
   "source": []
  },
  {
   "cell_type": "code",
   "execution_count": 31,
   "metadata": {},
   "outputs": [
    {
     "data": {
      "text/plain": [
       "28"
      ]
     },
     "execution_count": 31,
     "metadata": {},
     "output_type": "execute_result"
    }
   ],
   "source": [
    "selected_sites = []\n",
    "for i in range(Al_number):\n",
    "    site = random.sample(available_sites, 1)\n",
    "    "
   ]
  },
  {
   "cell_type": "code",
   "execution_count": null,
   "metadata": {
    "collapsed": true
   },
   "outputs": [],
   "source": [
    "import random\n",
    "random.sample(set([1, 2, 3, 4, 5, 6]), 2)"
   ]
  }
 ],
 "metadata": {
  "kernelspec": {
   "display_name": "Python 3",
   "language": "python",
   "name": "python3"
  },
  "language_info": {
   "codemirror_mode": {
    "name": "ipython",
    "version": 3
   },
   "file_extension": ".py",
   "mimetype": "text/x-python",
   "name": "python",
   "nbconvert_exporter": "python",
   "pygments_lexer": "ipython3",
   "version": "3.6.1"
  }
 },
 "nbformat": 4,
 "nbformat_minor": 2
}
