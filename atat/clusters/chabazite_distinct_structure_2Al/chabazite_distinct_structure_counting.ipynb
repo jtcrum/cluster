{
 "cells": [
  {
   "cell_type": "markdown",
   "metadata": {},
   "source": [
    "The objective of this jupyter notebook is to count the distinct structure for 2 Al atoms in one cell with 36 T sites."
   ]
  },
  {
   "cell_type": "markdown",
   "metadata": {},
   "source": [
    "The codes have 14 sections.  \n",
    "1. Modification of ATAT  \n",
    "2. Prepare lattice input file (lat.in)  \n",
    "3. Read lattice input file (lat.in)  \n",
    "4. Functions to convert between fractional coordinates and xyz coordinates  \n",
    "5. Prepare structure requirements input file (str_req.txt)  \n",
    "6. Read structure requirements input file (str_req.txt)  \n",
    "7. Function to find the site index for any given fractional coordinates  \n",
    "8. Create str.out file  \n",
    "9. Run corrdump to generate cluster list into cluster_list.csv file  \n",
    "10. Read cluster_list.csv  \n",
    "11. Add pair sites for each site in structure sites dataframe  \n",
    "12. Randomly generate structure for any given Si/Al ratio  \n",
    "13. Count clusters during copper titration  \n",
    "14. Cu/Al for different Si/Al ratios  "
   ]
  },
  {
   "cell_type": "markdown",
   "metadata": {},
   "source": [
    "#### 1. Modification of ATAT"
   ]
  },
  {
   "cell_type": "markdown",
   "metadata": {},
   "source": [
    "Before we run the codes, we have to modify ATAT files to output the cluster list when we run corrdump to count clusters. Corrdump has many parameters. Here we will only set the maximum distance between two points within a pair (-2=[real]), with other parameters being default. The modification of ATAT contains 2 parts: one is in calccorr.c++ file and the other is in corrdump.c++ file. After the modifications, **corrdump will output the xyz coordinates for all the clusters in a structure inspite of the atom occupations.**\n",
    "\n",
    "Note: If you also want to set other parameters, you may need to make more modifications."
   ]
  },
  {
   "cell_type": "markdown",
   "metadata": {},
   "source": [
    "a) In file calccorr.c++, please modify the following function (around line 200) as below. The modified lines have comments at the end."
   ]
  },
  {
   "cell_type": "raw",
   "metadata": {},
   "source": [
    "Real calc_correlation(const Structure &str, const Array<MultiCluster> &clusters, const rMatrix3d &cell, const Array<Array<Array<Real> > > &corrfunc) {\n",
    "  Real accum=0.;\n",
    "  int count=0;\n",
    "  rMatrix3d inv_strcell=!str.cell;\n",
    "  LatticePointInCellIterator t(cell,str.cell);\n",
    "  for ( ;t; t++) {\n",
    "    for (int c=0; c<clusters.get_size(); c++) {\n",
    "      Real sigma=1.;\n",
    "      for (int at=0; at<clusters(c).clus.get_size(); at++) {\n",
    "        Real spin=corrfunc(clusters(c).site_type(at))(clusters(c).func(at))(str.atom_type(which_atom(str.atom_pos,t+clusters(c).clus(at),inv_strcell)));\n",
    "        sigma=sigma*0.5*(spin+1); //change the correlation function; changed by Tong; original: sigma=sigma*spin; \n",
    "        cout<<t+clusters(c).clus(at)<<endl; //output the coordinates of the sites in clusters; added by Tong\n",
    "      }\n",
    "      accum+=sigma;\n",
    "      count++;\n",
    "    }\n",
    "  }\n",
    "  return accum/(Real)count;\n",
    "}\n"
   ]
  },
  {
   "cell_type": "markdown",
   "metadata": {},
   "source": [
    "b) In file corrdump.c++, please modify the following code block (around line 460). The modified lines have comments at the end."
   ]
  },
  {
   "cell_type": "raw",
   "metadata": {},
   "source": [
    "    else {\n",
    "      int ieci=0;\n",
    "      LinkedListIterator<Array<MultiCluster> > icluster(eq_clusterlist);\n",
    "      Tensor<int> tab_str;\n",
    "      for ( ; icluster; icluster++, ieci++) {\n",
    "        //the following codes are added by Tong\n",
    "        if (icluster->get_size()>0) {\n",
    "          cout << (*icluster)[0].clus.get_size() << endl;\n",
    "        }\n",
    "        else {\n",
    "          cout << \"0\" << endl;\n",
    "        }\n",
    "        cout << icluster->get_size() << endl;\n",
    "        //finish adding by Tong\n",
    "      \tReal rho;\n",
    "      \tif (fastalgo) {\n",
    "      \t  rho=calc_correlation_fast(&tab_str, ideal_str,*icluster,lattice,*pcorrfunc);\n",
    "      \t}\n",
    "      \telse {\n",
    "      \t  rho=calc_correlation(ideal_str, *icluster, spacegroup.cell, *pcorrfunc);\n",
    "      \t}\n",
    "        if (strlen(ecifile)>0) {\n",
    "      \t  pred+=eci(ieci)*(multincl ? 1 : icluster->get_size())*rho;\n",
    "      \t}\n",
    "      \telse {\n",
    "      \t  if (!doconc) {cout << rho << delim;}\n",
    "      \t}\n",
    "        cout << endl;"
   ]
  },
  {
   "cell_type": "markdown",
   "metadata": {},
   "source": [
    "c) After you modify the ATAT codes, you have to reinstall the ATAT **in terminal**. It should contain the following two commands."
   ]
  },
  {
   "cell_type": "raw",
   "metadata": {},
   "source": [
    "make  \n",
    "make install"
   ]
  },
  {
   "cell_type": "markdown",
   "metadata": {},
   "source": [
    "Python codes start here"
   ]
  },
  {
   "cell_type": "code",
   "execution_count": 1,
   "metadata": {
    "collapsed": true
   },
   "outputs": [],
   "source": [
    "import pandas as pd\n",
    "import numpy as np\n",
    "import copy\n",
    "from math import *\n",
    "import os\n",
    "import random\n",
    "from collections import defaultdict\n",
    "import csv\n",
    "from functools import reduce\n",
    "from copy import deepcopy\n",
    "import pickle\n",
    "from timeit import default_timer as timer\n",
    "from matplotlib import pyplot as plt\n",
    "%matplotlib inline"
   ]
  },
  {
   "cell_type": "markdown",
   "metadata": {},
   "source": [
    "#### 2. Prepare lattice input file (lat.in)"
   ]
  },
  {
   "cell_type": "markdown",
   "metadata": {},
   "source": [
    "The input file of lat.in contains the lattice parameters and all the possible types of atoms at each site. The detailed format of lat.in can be found in the ATAT manual (https://www.brown.edu/Departments/Engineering/Labs/avdw/atat/manual.pdf) pg. 36.  \n",
    " \n",
    "The following information is from ATAT manual.  \n",
    "Lattice file format:  \n",
    "First, the coordinate system a,b,c is specified, either as  \n",
    "[a] [b] [c] [alpha] [beta] [gamma]  \n",
    "\n",
    "Then the lattice vectors u,v,w are listed, expressed in the coordinate system   just defined:  \n",
    "[ua] [ub] [uc]  \n",
    "[va] [vb] [vc]  \n",
    "[wa] [wb] [wc]  \n",
    "\n",
    "Finally, atom positions and types are given, expressed in the same coordinate system   as the lattice vectors:  \n",
    "[atom1a] [atom1b] [atom1c] [atom1type]  \n",
    "[atom2a] [atom2b] [atom2c] [atom2type]  \n",
    "etc.  \n",
    "\n",
    "In the lattice file:  \n",
    "-The atom type is a comma-separated list of the atomic  \n",
    "symbols of the atoms that can sit the lattice site.  \n",
    "-In a binary, the first symbol listed is assigned a spin of -1.  \n",
    "In general, ordering of the atom symbol corresponds to value of s=0,1,... in the table  \n",
    "’Convention used to calculate the correlations’ below.  \n",
    "-When only one symbol is listed, this site is ignored for the purpose  \n",
    "of calculating correlations, but not for determining symmetry.  \n",
    "-The atomic symbol ’Vac’ or ’Va’ is used to indicate a vacancy.  "
   ]
  },
  {
   "cell_type": "markdown",
   "metadata": {},
   "source": [
    "#### 3. Read lattice input file (lat.in)\n",
    "Read lat.in file and create a lattice dictionary which contains the lattice parameters, lattice vectors and fractional coordinates of all the sites in the lattics."
   ]
  },
  {
   "cell_type": "code",
   "execution_count": 2,
   "metadata": {
    "collapsed": true
   },
   "outputs": [],
   "source": [
    "filepath='lat.in'\n",
    "file = open(filepath, 'r')\n",
    "lat = file.readlines()\n",
    "\n",
    "lattice = {}\n",
    "lattice['a'], lattice['b'], lattice['c'], lattice['alpha'], lattice['beta'], lattice['gamma'] = [float(number) for number in lat[0].split()]\n",
    "lattice['u'] = [int(number) for number in lat[1].split()]\n",
    "lattice['v'] = [int(number) for number in lat[2].split()]\n",
    "lattice['w'] = [int(number) for number in lat[3].split()]\n",
    "\n",
    "lattice_sites = pd.DataFrame(columns=['a', 'b', 'c', 'atom'])\n",
    "for line in lat[4:]:\n",
    "    site = line.split()[:3]\n",
    "    atom_type = ''\n",
    "    for atom in line.split()[3:]:\n",
    "        atom_type += str(atom)\n",
    "    site.append(atom_type)\n",
    "    lattice_sites = lattice_sites.append(pd.DataFrame([site], columns=['a', 'b', 'c', 'atom']))\n",
    "lattice_sites = lattice_sites.apply(pd.to_numeric, errors = 'ignore')"
   ]
  },
  {
   "cell_type": "code",
   "execution_count": 3,
   "metadata": {},
   "outputs": [
    {
     "data": {
      "text/plain": [
       "{'a': 13.675,\n",
       " 'alpha': 90.0,\n",
       " 'b': 13.675,\n",
       " 'beta': 90.0,\n",
       " 'c': 14.767,\n",
       " 'gamma': 120.0,\n",
       " 'u': [1, 0, 0],\n",
       " 'v': [0, 1, 0],\n",
       " 'w': [0, 0, 1]}"
      ]
     },
     "execution_count": 3,
     "metadata": {},
     "output_type": "execute_result"
    }
   ],
   "source": [
    "lattice"
   ]
  },
  {
   "cell_type": "code",
   "execution_count": 4,
   "metadata": {},
   "outputs": [
    {
     "data": {
      "text/html": [
       "<div>\n",
       "<style>\n",
       "    .dataframe thead tr:only-child th {\n",
       "        text-align: right;\n",
       "    }\n",
       "\n",
       "    .dataframe thead th {\n",
       "        text-align: left;\n",
       "    }\n",
       "\n",
       "    .dataframe tbody tr th {\n",
       "        vertical-align: top;\n",
       "    }\n",
       "</style>\n",
       "<table border=\"1\" class=\"dataframe\">\n",
       "  <thead>\n",
       "    <tr style=\"text-align: right;\">\n",
       "      <th></th>\n",
       "      <th>a</th>\n",
       "      <th>b</th>\n",
       "      <th>c</th>\n",
       "      <th>atom</th>\n",
       "    </tr>\n",
       "  </thead>\n",
       "  <tbody>\n",
       "    <tr>\n",
       "      <th>0</th>\n",
       "      <td>0.666967</td>\n",
       "      <td>0.106933</td>\n",
       "      <td>0.228233</td>\n",
       "      <td>Si,Al</td>\n",
       "    </tr>\n",
       "    <tr>\n",
       "      <th>0</th>\n",
       "      <td>0.893067</td>\n",
       "      <td>0.560033</td>\n",
       "      <td>0.228233</td>\n",
       "      <td>Si,Al</td>\n",
       "    </tr>\n",
       "    <tr>\n",
       "      <th>0</th>\n",
       "      <td>0.666967</td>\n",
       "      <td>0.560033</td>\n",
       "      <td>0.228233</td>\n",
       "      <td>Si,Al</td>\n",
       "    </tr>\n",
       "    <tr>\n",
       "      <th>0</th>\n",
       "      <td>0.439967</td>\n",
       "      <td>0.333033</td>\n",
       "      <td>0.228233</td>\n",
       "      <td>Si,Al</td>\n",
       "    </tr>\n",
       "    <tr>\n",
       "      <th>0</th>\n",
       "      <td>0.568667</td>\n",
       "      <td>0.137333</td>\n",
       "      <td>0.456033</td>\n",
       "      <td>O</td>\n",
       "    </tr>\n",
       "  </tbody>\n",
       "</table>\n",
       "</div>"
      ],
      "text/plain": [
       "          a         b         c   atom\n",
       "0  0.666967  0.106933  0.228233  Si,Al\n",
       "0  0.893067  0.560033  0.228233  Si,Al\n",
       "0  0.666967  0.560033  0.228233  Si,Al\n",
       "0  0.439967  0.333033  0.228233  Si,Al\n",
       "0  0.568667  0.137333  0.456033      O"
      ]
     },
     "execution_count": 4,
     "metadata": {},
     "output_type": "execute_result"
    }
   ],
   "source": [
    "lattice_sites.head()"
   ]
  },
  {
   "cell_type": "markdown",
   "metadata": {},
   "source": [
    "#### 4. Functions to convert between fractional coordinates and xyz coordinates"
   ]
  },
  {
   "cell_type": "code",
   "execution_count": 5,
   "metadata": {
    "collapsed": true
   },
   "outputs": [],
   "source": [
    "def lattice_axes_xyz(lattic):\n",
    "    '''\n",
    "    function to prepare the xyz axes (a matrix)\n",
    "                [ax] [ay] [az]\n",
    "    axes_xyz =  [bx] [by] [bz]\n",
    "                [cx] [cy] [cz]\n",
    "    '''\n",
    "    a = np.array([1,0,0]) * lattice['a']\n",
    "    b = np.array([cos(lattice['gamma']/180*pi), sin(lattice['gamma']/180*pi), 0]) * lattice['b']\n",
    "    c = np.cross(a, b)/np.linalg.norm(np.cross(a, b)) * lattice['c']\n",
    "    return np.array((a,b,c))"
   ]
  },
  {
   "cell_type": "code",
   "execution_count": 6,
   "metadata": {
    "collapsed": true
   },
   "outputs": [],
   "source": [
    "def lattice_axes_abc(lattice):\n",
    "    '''\n",
    "    function to prepare the abc axes (a matrix)\n",
    "                [ua] [ub] [uc]\n",
    "    axes_abc =  [va] [vb] [vc]\n",
    "                [wa] [wb] [wc]\n",
    "    '''\n",
    "    return np.array((lattice['u'], lattice['v'], lattice['w']))"
   ]
  },
  {
   "cell_type": "code",
   "execution_count": 7,
   "metadata": {
    "collapsed": true
   },
   "outputs": [],
   "source": [
    "def frac_to_xyz(axes_xyz, frac_coor):\n",
    "    '''\n",
    "    function to convert fractional coordinates to xyz coordinates\n",
    "    '''\n",
    "    return np.dot(frac_coor, axes_xyz)"
   ]
  },
  {
   "cell_type": "code",
   "execution_count": 8,
   "metadata": {
    "collapsed": true
   },
   "outputs": [],
   "source": [
    "def xyz_to_frac(axes_xyz, xyz_coor):\n",
    "    '''\n",
    "    function to convert xyz coordinates to fractional coordinates\n",
    "    '''\n",
    "    return np.dot(xyz_coor, np.linalg.inv(axes_xyz))"
   ]
  },
  {
   "cell_type": "code",
   "execution_count": 9,
   "metadata": {
    "collapsed": true
   },
   "outputs": [],
   "source": [
    "axes_abc = lattice_axes_abc(lattice)"
   ]
  },
  {
   "cell_type": "code",
   "execution_count": 10,
   "metadata": {},
   "outputs": [
    {
     "data": {
      "text/plain": [
       "array([[1, 0, 0],\n",
       "       [0, 1, 0],\n",
       "       [0, 0, 1]])"
      ]
     },
     "execution_count": 10,
     "metadata": {},
     "output_type": "execute_result"
    }
   ],
   "source": [
    "axes_abc"
   ]
  },
  {
   "cell_type": "code",
   "execution_count": 11,
   "metadata": {
    "collapsed": true
   },
   "outputs": [],
   "source": [
    "axes_xyz = lattice_axes_xyz(lattice)"
   ]
  },
  {
   "cell_type": "code",
   "execution_count": 12,
   "metadata": {},
   "outputs": [
    {
     "data": {
      "text/plain": [
       "array([[ 13.675    ,   0.       ,   0.       ],\n",
       "       [ -6.8375   ,  11.8428974,   0.       ],\n",
       "       [  0.       ,  -0.       ,  14.767    ]])"
      ]
     },
     "execution_count": 12,
     "metadata": {},
     "output_type": "execute_result"
    }
   ],
   "source": [
    "axes_xyz"
   ]
  },
  {
   "cell_type": "code",
   "execution_count": 13,
   "metadata": {},
   "outputs": [
    {
     "data": {
      "text/plain": [
       "array([ 3.41875  ,  5.9214487,  0.       ])"
      ]
     },
     "execution_count": 13,
     "metadata": {},
     "output_type": "execute_result"
    }
   ],
   "source": [
    "frac_to_xyz(axes_xyz, np.array((0.5, 0.5, 0)))"
   ]
  },
  {
   "cell_type": "code",
   "execution_count": 14,
   "metadata": {},
   "outputs": [
    {
     "data": {
      "text/plain": [
       "array([ 0.5,  0. ,  0. ])"
      ]
     },
     "execution_count": 14,
     "metadata": {},
     "output_type": "execute_result"
    }
   ],
   "source": [
    "xyz_to_frac(axes_xyz, np.array((6.8375, 0, 0)))"
   ]
  },
  {
   "cell_type": "markdown",
   "metadata": {},
   "source": [
    "#### 5. Prepare structure requirements input file (str_req.txt)\n",
    "Before creating str_req.txt, we have to know all the cluster types within the maximum distance that we specified. We can run corrdump with only the lat.in file. A clusters.out file will be generated. It contains the information of all the symmetrically distinct clusters for the lattice that you specified in lat.in file. Based on the cluster order in the clusters.out file and the number of atoms(sites) containing in the cluster, we will define the cluster type as: \n",
    "\n",
    "cluster type = [nsite]-[order of the specific cluster in all nsite-clusters in clusters.out].\n",
    "\n",
    "For example, for the first 2-body cluster in clusters.out, its cluster type is 2-1.  \n",
    "For the second 2-body cluster in clusters.out, its cluster type is 2-2."
   ]
  },
  {
   "cell_type": "markdown",
   "metadata": {},
   "source": [
    "Then we will create a file which describe the structure requirements. It will include 3 parts: 1) the structure dimensions, 2) the clusters that cannot exist based on the rules we defined (*bad clusters*), and 3) the clusters of interest (*good clusters*, we want to count the number of them).  \n",
    "\n",
    "The specific str_req.txt format:\n",
    "\n",
    "First the structure vectors u,v,w are listed, expressed in the coordinate system just defined:  \n",
    "[ua] [ub] [uc]  \n",
    "[va] [vb] [vc]  \n",
    "[wa] [wb] [wc]  \n",
    "\n",
    "Next, the cluster types that cannot exist:  \n",
    "[badtype1] [badtype2] [badtype3] [badtype4] etc.  \n",
    "\n",
    "Finally, the cluster types of interest:  \n",
    "[goodtype1] [goodtype2] [goodtype3] [goodtype4] etc.  \n",
    "\n",
    "Here is an example of str_req.txt file.\n",
    "\n",
    "2 0 0  \n",
    "0 2 0  \n",
    "0 0 2   \n",
    "2-1, 2-2, 2-3, 2-4  \n",
    "2-5, 2-6, 2-7, 2-8, 2-9, 2-10, 2-11  "
   ]
  },
  {
   "cell_type": "markdown",
   "metadata": {},
   "source": [
    "#### 6. Read structure requirements input file (str_req.txt)\n",
    "Generate structure dictionary containing structure dimensions, site coordinates, bad clusters (cannot exist) and good clusters (we want to count)."
   ]
  },
  {
   "cell_type": "code",
   "execution_count": 15,
   "metadata": {
    "collapsed": true
   },
   "outputs": [],
   "source": [
    "structure = {}"
   ]
  },
  {
   "cell_type": "code",
   "execution_count": 16,
   "metadata": {
    "collapsed": true
   },
   "outputs": [],
   "source": [
    "file = open('str_req.txt', 'r')\n",
    "str_req = file.readlines()\n",
    "\n",
    "structure_u = [int(number) for number in str_req[0].split()]\n",
    "structure_v = [int(number) for number in str_req[1].split()]\n",
    "structure_w = [int(number) for number in str_req[2].split()]\n",
    "\n",
    "#bad_types = [s.replace(' ', '').replace('\\n', '') for s in str_req[3].split(',')]\n",
    "#good_types = [s.replace(' ', '').replace('\\n', '') for s in str_req[4].split(',')]"
   ]
  },
  {
   "cell_type": "code",
   "execution_count": 17,
   "metadata": {},
   "outputs": [
    {
     "data": {
      "text/plain": [
       "[1, 0, 0]"
      ]
     },
     "execution_count": 17,
     "metadata": {},
     "output_type": "execute_result"
    }
   ],
   "source": [
    "structure_u"
   ]
  },
  {
   "cell_type": "code",
   "execution_count": 18,
   "metadata": {
    "collapsed": true
   },
   "outputs": [],
   "source": [
    "nu = int(np.mean(structure_u)/np.mean(lattice['u']))\n",
    "nv = int(np.mean(structure_v)/np.mean(lattice['v']))\n",
    "nw = int(np.mean(structure_w)/np.mean(lattice['w']))\n",
    "n_cell = nu * nv * nw"
   ]
  },
  {
   "cell_type": "code",
   "execution_count": 19,
   "metadata": {},
   "outputs": [
    {
     "data": {
      "text/plain": [
       "1"
      ]
     },
     "execution_count": 19,
     "metadata": {},
     "output_type": "execute_result"
    }
   ],
   "source": [
    "nu"
   ]
  },
  {
   "cell_type": "code",
   "execution_count": 20,
   "metadata": {
    "collapsed": true
   },
   "outputs": [],
   "source": [
    "O_unit_sites = lattice_sites[lattice_sites['atom']=='O']\n",
    "O_sites = pd.DataFrame(columns=lattice_sites.columns)\n",
    "for i in range(0, nu):\n",
    "    for j in range(0, nv):\n",
    "        for k in range(0, nw):\n",
    "            sites = pd.DataFrame(columns=O_unit_sites.columns)\n",
    "            delta = list(np.array(lattice['u'])*i + np.array(lattice['v'])*j + np.array(lattice['w'])*k)\n",
    "            sites['a'] = O_unit_sites.a + delta[0]\n",
    "            sites['b'] = O_unit_sites.b + delta[1]\n",
    "            sites['c'] = O_unit_sites.c + delta[2]\n",
    "            sites['atom'] = O_unit_sites.atom\n",
    "            O_sites = O_sites.append(sites)"
   ]
  },
  {
   "cell_type": "code",
   "execution_count": 21,
   "metadata": {
    "collapsed": true
   },
   "outputs": [],
   "source": [
    "important_unit_sites =  lattice_sites[lattice_sites['atom']!='O']\n",
    "structure_sites = pd.DataFrame(columns=lattice_sites.columns)\n",
    "for i in range(0, nu):\n",
    "    for j in range(0, nv):\n",
    "        for k in range(0, nw):\n",
    "            sites = pd.DataFrame(columns=important_unit_sites.columns)\n",
    "            delta = list(np.array(lattice['u'])*i + np.array(lattice['v'])*j + np.array(lattice['w'])*k)\n",
    "            sites['a'] = important_unit_sites.a + delta[0]\n",
    "            sites['b'] = important_unit_sites.b + delta[1]\n",
    "            sites['c'] = important_unit_sites.c + delta[2]\n",
    "            sites['atom'] = important_unit_sites.atom\n",
    "            structure_sites = structure_sites.append(sites)"
   ]
  },
  {
   "cell_type": "code",
   "execution_count": 22,
   "metadata": {
    "collapsed": true
   },
   "outputs": [],
   "source": [
    "structure_sites.reset_index(drop=True, inplace=True)\n",
    "structure_sites['site_index'] = structure_sites.index"
   ]
  },
  {
   "cell_type": "code",
   "execution_count": 23,
   "metadata": {
    "scrolled": true
   },
   "outputs": [
    {
     "data": {
      "text/html": [
       "<div>\n",
       "<style>\n",
       "    .dataframe thead tr:only-child th {\n",
       "        text-align: right;\n",
       "    }\n",
       "\n",
       "    .dataframe thead th {\n",
       "        text-align: left;\n",
       "    }\n",
       "\n",
       "    .dataframe tbody tr th {\n",
       "        vertical-align: top;\n",
       "    }\n",
       "</style>\n",
       "<table border=\"1\" class=\"dataframe\">\n",
       "  <thead>\n",
       "    <tr style=\"text-align: right;\">\n",
       "      <th></th>\n",
       "      <th>a</th>\n",
       "      <th>b</th>\n",
       "      <th>c</th>\n",
       "      <th>atom</th>\n",
       "      <th>site_index</th>\n",
       "    </tr>\n",
       "  </thead>\n",
       "  <tbody>\n",
       "    <tr>\n",
       "      <th>0</th>\n",
       "      <td>0.666967</td>\n",
       "      <td>0.106933</td>\n",
       "      <td>0.228233</td>\n",
       "      <td>Si,Al</td>\n",
       "      <td>0</td>\n",
       "    </tr>\n",
       "    <tr>\n",
       "      <th>1</th>\n",
       "      <td>0.893067</td>\n",
       "      <td>0.560033</td>\n",
       "      <td>0.228233</td>\n",
       "      <td>Si,Al</td>\n",
       "      <td>1</td>\n",
       "    </tr>\n",
       "    <tr>\n",
       "      <th>2</th>\n",
       "      <td>0.666967</td>\n",
       "      <td>0.560033</td>\n",
       "      <td>0.228233</td>\n",
       "      <td>Si,Al</td>\n",
       "      <td>2</td>\n",
       "    </tr>\n",
       "    <tr>\n",
       "      <th>3</th>\n",
       "      <td>0.439967</td>\n",
       "      <td>0.333033</td>\n",
       "      <td>0.228233</td>\n",
       "      <td>Si,Al</td>\n",
       "      <td>3</td>\n",
       "    </tr>\n",
       "    <tr>\n",
       "      <th>4</th>\n",
       "      <td>0.666367</td>\n",
       "      <td>0.106633</td>\n",
       "      <td>0.438433</td>\n",
       "      <td>Si,Al</td>\n",
       "      <td>4</td>\n",
       "    </tr>\n",
       "  </tbody>\n",
       "</table>\n",
       "</div>"
      ],
      "text/plain": [
       "          a         b         c   atom  site_index\n",
       "0  0.666967  0.106933  0.228233  Si,Al           0\n",
       "1  0.893067  0.560033  0.228233  Si,Al           1\n",
       "2  0.666967  0.560033  0.228233  Si,Al           2\n",
       "3  0.439967  0.333033  0.228233  Si,Al           3\n",
       "4  0.666367  0.106633  0.438433  Si,Al           4"
      ]
     },
     "execution_count": 23,
     "metadata": {},
     "output_type": "execute_result"
    }
   ],
   "source": [
    "structure_sites.head(5)"
   ]
  },
  {
   "cell_type": "code",
   "execution_count": 24,
   "metadata": {
    "collapsed": true
   },
   "outputs": [],
   "source": [
    "structure['u'] = structure_u\n",
    "structure['v'] = structure_v\n",
    "structure['w'] = structure_w\n",
    "structure['nu'] = nu\n",
    "structure['nv'] = nv\n",
    "structure['nw'] = nw\n",
    "structure['sites'] = structure_sites"
   ]
  },
  {
   "cell_type": "markdown",
   "metadata": {},
   "source": [
    "#### 7. Function to find the site index for any given fractional coordinates"
   ]
  },
  {
   "cell_type": "code",
   "execution_count": 25,
   "metadata": {
    "collapsed": true
   },
   "outputs": [],
   "source": [
    "def find_site_index(axes_abc, structure, frac_coor):\n",
    "    df = structure['sites']\n",
    "    nu, nv, nw = structure['nu'],structure['nv'],structure['nw']\n",
    "    \n",
    "    fu, fv, fw = np.dot(frac_coor, np.linalg.inv(axes_abc))\n",
    "    \n",
    "    #translate the site into the structure by subtracting multiple structure vector on each dimension\n",
    "    fu -= (fu//nu)*nu\n",
    "    fv -= (fv//nv)*nv\n",
    "    fw -= (fw//nw)*nw\n",
    "    \n",
    "    fa, fb, fc = np.dot(np.array((fu, fv, fw)), axes_abc)\n",
    "    \n",
    "    site_index = df[(abs(df.a-fa) < 0.001) & (abs(df.b-fb) < 0.001) & (abs(df.c-fc) < 0.001)].index\n",
    "    if len(site_index) == 0:\n",
    "        print(\"Error! Cannot find the site index in the structure.\")\n",
    "        return np.nan\n",
    "    elif len(site_index) < 1:\n",
    "        print(\"Error! Find multiple site indices in the structure.\")\n",
    "        return np.nan\n",
    "    else:\n",
    "        return site_index[0]"
   ]
  },
  {
   "cell_type": "code",
   "execution_count": 26,
   "metadata": {},
   "outputs": [
    {
     "data": {
      "text/plain": [
       "7"
      ]
     },
     "execution_count": 26,
     "metadata": {},
     "output_type": "execute_result"
    }
   ],
   "source": [
    "find_site_index(axes_abc, structure, [ -3.00016543e-04,   7.73299784e-01,   1.10509988e+00])"
   ]
  },
  {
   "cell_type": "code",
   "execution_count": 27,
   "metadata": {
    "collapsed": true
   },
   "outputs": [],
   "source": [
    "frac_coor = xyz_to_frac(axes_xyz, [15.22711,2.68122,1.55200])"
   ]
  },
  {
   "cell_type": "code",
   "execution_count": 28,
   "metadata": {},
   "outputs": [
    {
     "data": {
      "text/plain": [
       "33"
      ]
     },
     "execution_count": 28,
     "metadata": {},
     "output_type": "execute_result"
    }
   ],
   "source": [
    "find_site_index(axes_abc, structure, frac_coor)"
   ]
  },
  {
   "cell_type": "markdown",
   "metadata": {},
   "source": [
    "#### 8. Create str.out file  \n",
    "A str.out file is created based on the structure dimensions with Si on all sites. Actually the coordinates of all the clusters(cluster list) won't change in regards to the atom type on each site. Here we just put Si on all sites. "
   ]
  },
  {
   "cell_type": "code",
   "execution_count": 29,
   "metadata": {
    "collapsed": true
   },
   "outputs": [],
   "source": [
    "if os.path.isfile('str.out'):\n",
    "    os.remove('str.out')\n",
    "with open('str.out', 'a') as str_file:\n",
    "    str_file.write('{} {} {} {} {} {}\\n'.format(lattice['a'], lattice['b'], lattice['c'], int(lattice['alpha']), int(lattice['beta']), int(lattice['gamma'])))\n",
    "    str_file.write('{} {} {}\\n'.format(int(structure['u'][0]),int(structure['u'][1]),int(structure['u'][2])))\n",
    "    str_file.write('{} {} {}\\n'.format(int(structure['v'][0]),int(structure['v'][1]),int(structure['v'][2])))\n",
    "    str_file.write('{} {} {}\\n'.format(int(structure['w'][0]),int(structure['w'][1]),int(structure['w'][2])))\n",
    "    for index, row in structure['sites'].iterrows():\n",
    "        str_file.write('{} {} {} Si\\n'.format(row.a, row.b, row.c))"
   ]
  },
  {
   "cell_type": "markdown",
   "metadata": {},
   "source": [
    "#### 9. Run corrdump to generate cluster list into cluster_list.csv file  \n",
    "The cluster list contains the coordinates of all the clusters."
   ]
  },
  {
   "cell_type": "code",
   "execution_count": 30,
   "metadata": {},
   "outputs": [
    {
     "name": "stdout",
     "output_type": "stream",
     "text": [
      "Warning: unit cell is not primitive.\r\n"
     ]
    }
   ],
   "source": [
    "# Here we define the maximum distance between 2 atoms in a 2-body cluster is 6.2.\n",
    "if os.path.isfile('cluster_list.csv'):\n",
    "    os.remove('cluster_list.csv')\n",
    "!corrdump -2 = 11 >> cluster_list.csv"
   ]
  },
  {
   "cell_type": "markdown",
   "metadata": {},
   "source": [
    "#### 10. Read cluster_list.csv"
   ]
  },
  {
   "cell_type": "markdown",
   "metadata": {},
   "source": [
    "The format for the file cluster_list.csv is as below.  \n",
    "For each cluster type:  \n",
    "First, the number of site in the cluster is given:  \n",
    "[nsite]  \n",
    "  \n",
    "Next, the multiplicity (number of the cluster in the unit cell) is given:    \n",
    "[multiplicity]  \n",
    "\n",
    "Then, site xyz coordinates are listed for each cluster of that type:  \n",
    "[cluster1site1x] [cluster1site1y] [cluster1site1z]  \n",
    "[cluster1site2x] [cluster1site2y] [cluster1site2z]   \n",
    "...  \n",
    "[cluster1siteNx] [cluster1siteNy] [cluster1siteNz]  \n",
    "[cluster2site1x] [cluster2site1y] [cluster2site1z]  \n",
    "[cluster2site2x] [cluster2site2y] [cluster2site2z]   \n",
    "...  \n",
    "[cluster2siteNx] [cluster2siteNy] [cluster2siteNz]  \n",
    "...  \n",
    "...  \n",
    "etc.  \n",
    "\n",
    "Finally, the correlation function is given:  \n",
    "[correlation function]  \n",
    "\n",
    "Since all sites have Si in str.out, the correlation function is usually 0 or 1(for the first cluster type)."
   ]
  },
  {
   "cell_type": "code",
   "execution_count": 31,
   "metadata": {
    "collapsed": true
   },
   "outputs": [],
   "source": [
    "ncell = structure['nu']*structure['nv']*structure['nw']"
   ]
  },
  {
   "cell_type": "code",
   "execution_count": 32,
   "metadata": {
    "collapsed": true
   },
   "outputs": [],
   "source": [
    "clulist = []\n",
    "\n",
    "with open('cluster_list.csv') as csvfile:\n",
    "    readCSV = csv.reader(csvfile, delimiter=' ')\n",
    "    for row in readCSV:\n",
    "        if(len(row) == 0):\n",
    "            continue\n",
    "        elif(len(row) == 1):\n",
    "            row[0] = row[0].replace('\\t', '')\n",
    "            clulist.append(int(float(row[0])))\n",
    "        else:\n",
    "            temp = []\n",
    "            for element in row:\n",
    "                temp.append(float(element))\n",
    "            clulist.append(temp)"
   ]
  },
  {
   "cell_type": "markdown",
   "metadata": {},
   "source": [
    "Create a dictionary (called clusters) which contains 1) cluster types, 2) cluster type number for different number of sites, and 3) the site indices for all the clusters for each cluster type.  \n",
    "\n",
    "clusters['types'] will list all the cluster types.  \n",
    "clusters['nsite_type_numbers'] will list the number of the types for nsite.  \n",
    "clusters['2-1'] will list all the clusters (consist of site indices) of type 2-1.  "
   ]
  },
  {
   "cell_type": "code",
   "execution_count": null,
   "metadata": {},
   "outputs": [],
   "source": [
    "clusters = {}\n",
    "nsite_type_numbers = {}\n",
    "cluster_types = []\n",
    "\n",
    "i = 0\n",
    "nsite = 0\n",
    "cluster_index = 1\n",
    "while(i < len(clulist)):\n",
    "    #read n_site\n",
    "    new_nsite = clulist[i]\n",
    "    i += 1\n",
    "    \n",
    "    #pass first three lines where the cluster contains 0 site\n",
    "    if (new_nsite == 0):\n",
    "        i+=2\n",
    "        continue\n",
    "    \n",
    "    #if the cluster has more sites than the previous cluster, reset nsite and cluster index\n",
    "    if (new_nsite != nsite):\n",
    "        nsite = new_nsite\n",
    "        cluster_index = 1\n",
    "        \n",
    "    #set the cluster type = [nsite]-[order of the specific cluster in all nsite-clusters].\n",
    "    cluster_type = str(nsite)+'-'+str(cluster_index)\n",
    "    cluster_types.append(cluster_type)\n",
    "    \n",
    "    #initialize a empty set called temp \n",
    "    temp = set()\n",
    "        \n",
    "    #read multiplicity\n",
    "    multiplicity = clulist[i]\n",
    "    i += 1\n",
    "    \n",
    "    #go through all the clusters\n",
    "    n_cluster = multiplicity *ncell\n",
    "    for j in range(n_cluster):\n",
    "        cluster = set()\n",
    "        for k in range(nsite):\n",
    "            point = []\n",
    "            for element in clulist[i]:\n",
    "                point.append(float(element))\n",
    "            frac_coor = xyz_to_frac(axes_xyz, point)\n",
    "            site = find_site_index(axes_abc, structure, frac_coor)\n",
    "            #print(point)\n",
    "            #print(site)\n",
    "\n",
    "            cluster.update([site])\n",
    "            i += 1\n",
    "        if frozenset(cluster) in temp:\n",
    "            #print('Error! Repeated cluster found in line {}. The cluster is {}. The cluster type is {}'.format(i-1, cluster, cluster_type))\n",
    "        temp.add(frozenset(cluster))\n",
    "    \n",
    "    #pass the line with correlation\n",
    "    i += 1 \n",
    "    \n",
    "    #put the set of clusters in dictionary of clusters\n",
    "    clusters[cluster_type] = temp\n",
    "    nsite_type_numbers[str(nsite)] = cluster_index\n",
    "    \n",
    "    #count cluster types\n",
    "    cluster_index += 1   \n",
    "\n",
    "clusters['cluster_types'] = cluster_types\n",
    "clusters['nsite_type_numbers'] = nsite_type_numbers"
   ]
  },
  {
   "cell_type": "code",
   "execution_count": 37,
   "metadata": {},
   "outputs": [
    {
     "data": {
      "text/plain": [
       "{'1': 1, '2': 51}"
      ]
     },
     "execution_count": 37,
     "metadata": {},
     "output_type": "execute_result"
    }
   ],
   "source": [
    "clusters['nsite_type_numbers']"
   ]
  },
  {
   "cell_type": "code",
   "execution_count": 39,
   "metadata": {},
   "outputs": [
    {
     "data": {
      "text/plain": [
       "{frozenset({8, 14}),\n",
       " frozenset({18, 25}),\n",
       " frozenset({0, 13}),\n",
       " frozenset({4, 22}),\n",
       " frozenset({26, 29}),\n",
       " frozenset({31, 34}),\n",
       " frozenset({10, 20}),\n",
       " frozenset({1, 2}),\n",
       " frozenset({24, 27}),\n",
       " frozenset({30, 33}),\n",
       " frozenset({6, 12}),\n",
       " frozenset({11, 17}),\n",
       " frozenset({5, 23}),\n",
       " frozenset({7, 21}),\n",
       " frozenset({9, 15}),\n",
       " frozenset({32, 35}),\n",
       " frozenset({3, 28}),\n",
       " frozenset({16, 19})}"
      ]
     },
     "execution_count": 39,
     "metadata": {},
     "output_type": "execute_result"
    }
   ],
   "source": [
    "clusters['2-1']"
   ]
  },
  {
   "cell_type": "code",
   "execution_count": 85,
   "metadata": {
    "collapsed": true
   },
   "outputs": [],
   "source": [
    "temp = set()\n",
    "pre_clu = set()\n",
    "for i in range(51):\n",
    "    #print(i)\n",
    "    pair = random.sample(clusters['2-{}'.format(i+1)], 1)[0]\n",
    "    #print(pair)\n",
    "    if not(pair in pre_clu):\n",
    "        temp.add(pair)\n",
    "        \n",
    "    pre_clu.update(clusters['2-{}'.format(i+1)])"
   ]
  },
  {
   "cell_type": "code",
   "execution_count": 86,
   "metadata": {},
   "outputs": [
    {
     "data": {
      "text/plain": [
       "25"
      ]
     },
     "execution_count": 86,
     "metadata": {},
     "output_type": "execute_result"
    }
   ],
   "source": [
    "len(temp)"
   ]
  },
  {
   "cell_type": "code",
   "execution_count": 87,
   "metadata": {},
   "outputs": [
    {
     "data": {
      "text/plain": [
       "{frozenset({2, 16}),\n",
       " frozenset({26, 30}),\n",
       " frozenset({12, 25}),\n",
       " frozenset({24, 30}),\n",
       " frozenset({19, 23}),\n",
       " frozenset({20, 24}),\n",
       " frozenset({16, 34}),\n",
       " frozenset({7, 17}),\n",
       " frozenset({31, 34}),\n",
       " frozenset({17, 18}),\n",
       " frozenset({1, 27}),\n",
       " frozenset({5, 9}),\n",
       " frozenset({6, 26}),\n",
       " frozenset({23, 30}),\n",
       " frozenset({10, 29}),\n",
       " frozenset({6, 31}),\n",
       " frozenset({1, 18}),\n",
       " frozenset({19, 28}),\n",
       " frozenset({14, 30}),\n",
       " frozenset({24, 29}),\n",
       " frozenset({4, 17}),\n",
       " frozenset({11, 19}),\n",
       " frozenset({28, 29}),\n",
       " frozenset({17, 29}),\n",
       " frozenset({13, 28})}"
      ]
     },
     "execution_count": 87,
     "metadata": {},
     "output_type": "execute_result"
    }
   ],
   "source": [
    "temp"
   ]
  },
  {
   "cell_type": "code",
   "execution_count": null,
   "metadata": {
    "collapsed": true
   },
   "outputs": [],
   "source": []
  }
 ],
 "metadata": {
  "kernelspec": {
   "display_name": "Python 3",
   "language": "python",
   "name": "python3"
  },
  "language_info": {
   "codemirror_mode": {
    "name": "ipython",
    "version": 3
   },
   "file_extension": ".py",
   "mimetype": "text/x-python",
   "name": "python",
   "nbconvert_exporter": "python",
   "pygments_lexer": "ipython3",
   "version": "3.6.1"
  }
 },
 "nbformat": 4,
 "nbformat_minor": 2
}
