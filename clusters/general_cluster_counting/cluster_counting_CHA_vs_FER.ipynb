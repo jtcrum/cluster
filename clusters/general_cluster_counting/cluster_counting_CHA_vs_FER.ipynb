{
 "cells": [
  {
   "cell_type": "code",
   "execution_count": 3,
   "metadata": {
    "collapsed": true
   },
   "outputs": [],
   "source": [
    "#import other useful packages\n",
    "import pandas as pd\n",
    "import numpy as np\n",
    "import os\n",
    "from ase import Atoms\n",
    "from ase.io import read, write\n",
    "from ase.visualize import view"
   ]
  },
  {
   "cell_type": "code",
   "execution_count": 4,
   "metadata": {
    "collapsed": true
   },
   "outputs": [],
   "source": [
    "#run the two python files\n",
    "%run classes.py\n",
    "%run utilities.py"
   ]
  },
  {
   "cell_type": "markdown",
   "metadata": {},
   "source": [
    "## generate lattice and structure classes for chabazite"
   ]
  },
  {
   "cell_type": "code",
   "execution_count": 5,
   "metadata": {
    "collapsed": true
   },
   "outputs": [],
   "source": [
    "#prepare lat.in and str_dim.txt for simple cube and put them in the folder called simple_cube \n",
    "folder_path = 'CHA_36/3by3by3'\n",
    "#initialize a class of Lattice with lat.in:\n",
    "cha_lat = Lattice(folder_path)"
   ]
  },
  {
   "cell_type": "code",
   "execution_count": 11,
   "metadata": {},
   "outputs": [
    {
     "data": {
      "text/plain": [
       "256"
      ]
     },
     "execution_count": 11,
     "metadata": {},
     "output_type": "execute_result"
    }
   ],
   "source": [
    "#set the maxmum distances between 2 atoms in 2-body clusters and that in 3-body clusters\n",
    "maxdis_2 = 8.11\n",
    "maxdis_3 = 8.11\n",
    "#run corrdump to generate clusters.out file in terminal\n",
    "os.system('corrdump -l={0}/lat.in -cf={0}/clusters.out -2={1} -3={2}'.format(folder_path, maxdis_2, maxdis_3))"
   ]
  },
  {
   "cell_type": "code",
   "execution_count": 12,
   "metadata": {
    "collapsed": true
   },
   "outputs": [],
   "source": [
    "#read clusters.out\n",
    "cha_lat.read_clusters_out()"
   ]
  },
  {
   "cell_type": "code",
   "execution_count": 14,
   "metadata": {},
   "outputs": [
    {
     "data": {
      "text/plain": [
       "array(['1-1', '2-1', '2-2', '2-3', '2-4', '2-5', '2-6', '2-7', '2-8',\n",
       "       '2-9', '2-10', '2-11', '2-12', '2-13', '2-14', '2-15', '2-16',\n",
       "       '2-17', '2-18', '2-19', '2-20', '2-21', '2-22', '2-23', '3-1',\n",
       "       '3-2', '3-3', '3-4', '3-5', '3-6', '3-7', '3-8', '3-9', '3-10',\n",
       "       '3-11', '3-12', '3-13', '3-14', '3-15', '3-16', '3-17', '3-18',\n",
       "       '3-19', '3-20', '3-21', '3-22', '3-23', '3-24', '3-25', '3-26',\n",
       "       '3-27', '3-28', '3-29', '3-30', '3-31', '3-32', '3-33', '3-34',\n",
       "       '3-35', '3-36', '3-37', '3-38', '3-39', '3-40', '3-41', '3-42',\n",
       "       '3-43', '3-44', '3-45', '3-46', '3-47', '3-48', '3-49', '3-50',\n",
       "       '3-51', '3-52', '3-53', '3-54', '3-55', '3-56', '3-57', '3-58',\n",
       "       '3-59', '3-60', '3-61', '3-62', '3-63', '3-64', '3-65', '3-66',\n",
       "       '3-67', '3-68', '3-69', '3-70', '3-71', '3-72', '3-73'],\n",
       "      dtype='<U4')"
      ]
     },
     "execution_count": 14,
     "metadata": {},
     "output_type": "execute_result"
    }
   ],
   "source": [
    "np.array(cha_lat.cluster_types)"
   ]
  },
  {
   "cell_type": "code",
   "execution_count": 8,
   "metadata": {
    "collapsed": true
   },
   "outputs": [],
   "source": [
    "#visualize the cluster example given by corrdump for one type\n",
    "cluster_type='2-5'\n",
    "cha_lat.visualize_cluster(cluster_type)\n",
    "c= read(folder_path+'/lattice_clusters/xyzs/cluster-{}.xyz'.format(cluster_type))\n",
    "view(c)"
   ]
  },
  {
   "cell_type": "code",
   "execution_count": 9,
   "metadata": {
    "collapsed": true
   },
   "outputs": [],
   "source": [
    "#initialize a class of Structure with lattice parameters and structure dimensions\n",
    "cha_str = Structure(lattice=cha_lat, folder_path=folder_path)\n",
    "cha_str.prepare_str_out()"
   ]
  },
  {
   "cell_type": "code",
   "execution_count": 10,
   "metadata": {},
   "outputs": [
    {
     "data": {
      "text/plain": [
       "0"
      ]
     },
     "execution_count": 10,
     "metadata": {},
     "output_type": "execute_result"
    }
   ],
   "source": [
    "#run corrdump program in terminal to generate a full list of clusters for a super cell defined by the structure dimensions\n",
    "\n",
    "os.system('corrdump -l={0}/lat.in -s={0}/str.out -cf={0}/clusters.out -2={1} -3={2} >> {0}/cluster_list.csv'.format(folder_path, maxdis_2, maxdis_3))"
   ]
  },
  {
   "cell_type": "code",
   "execution_count": 12,
   "metadata": {
    "collapsed": true
   },
   "outputs": [],
   "source": [
    "#read the full cluster list and visulaize clusters for each type\n",
    "cha_str.read_cluster_list()"
   ]
  },
  {
   "cell_type": "code",
   "execution_count": 13,
   "metadata": {},
   "outputs": [
    {
     "ename": "SyntaxError",
     "evalue": "invalid syntax (<ipython-input-13-024bf0bece45>, line 1)",
     "output_type": "error",
     "traceback": [
      "\u001b[0;36m  File \u001b[0;32m\"<ipython-input-13-024bf0bece45>\"\u001b[0;36m, line \u001b[0;32m1\u001b[0m\n\u001b[0;31m    os.\u001b[0m\n\u001b[0m       ^\u001b[0m\n\u001b[0;31mSyntaxError\u001b[0m\u001b[0;31m:\u001b[0m invalid syntax\n"
     ]
    }
   ],
   "source": [
    "cha_lat"
   ]
  },
  {
   "cell_type": "code",
   "execution_count": null,
   "metadata": {
    "collapsed": true
   },
   "outputs": [],
   "source": []
  }
 ],
 "metadata": {
  "kernelspec": {
   "display_name": "Python 3",
   "language": "python",
   "name": "python3"
  },
  "language_info": {
   "codemirror_mode": {
    "name": "ipython",
    "version": 3
   },
   "file_extension": ".py",
   "mimetype": "text/x-python",
   "name": "python",
   "nbconvert_exporter": "python",
   "pygments_lexer": "ipython3",
   "version": "3.6.1"
  }
 },
 "nbformat": 4,
 "nbformat_minor": 2
}
