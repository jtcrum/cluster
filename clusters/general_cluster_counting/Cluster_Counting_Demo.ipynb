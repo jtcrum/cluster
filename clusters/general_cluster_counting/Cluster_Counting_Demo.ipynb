{
 "cells": [
  {
   "cell_type": "markdown",
   "metadata": {},
   "source": [
    "### Modeling of Cluster Distributions"
   ]
  },
  {
   "cell_type": "markdown",
   "metadata": {},
   "source": [
    "The objectives of this demo are to 1) introduce the four goals that we would like to achieve by developing this cluster counting module, 2) explain the algorithms for each goal, and 3) demonstrate the procedures to achieve each goal with examples. This report includes five parts as below."
   ]
  },
  {
   "cell_type": "markdown",
   "metadata": {},
   "source": [
    "1. Introduction\n",
    "2. Goal One - Identify Distinct Clusters (understand the lattice/structure)\n",
    "3. Goal Two - Count Clusters\n",
    "4. Goal Three - Generate Random Structures With/Without Rules\n",
    "5. Goal Four - Titrate Clusters"
   ]
  },
  {
   "cell_type": "markdown",
   "metadata": {},
   "source": [
    "### Introduction"
   ]
  },
  {
   "cell_type": "markdown",
   "metadata": {},
   "source": [
    "The reactivity of meterials always depends on the distribution of important groups of atoms. Here we will refer the important groups of atoms as clusters. Given the bulk material property, such as the element ratio, we want to compute the distributions of the clusters in order to quantitatively understand the reactivity. The ultimate goal of this cluster counting module is to statistically compute the cluster distributions for different conditions, such as different crystal structures, different rules for atom locations, and different counting and titration priorities. This ultimate goal can be further divided into four specific goals. First, given a crystal structure, we want to understand the lattice and be able to identify distinct clusters. Next, we want to be able to count different type of clusters given a structure configuration (which specifies the atom type at each site). Thirdly, we would like to generate randome structure configurations for any given element ratio. Last, we want to titrate clusters one by one to avoid double counting clusters that share sites with each other. "
   ]
  },
  {
   "cell_type": "markdown",
   "metadata": {},
   "source": [
    "### Goal One - Identify Distinct Clusters (understand the lattice/structure)"
   ]
  },
  {
   "cell_type": "markdown",
   "metadata": {},
   "source": [
    "Algorithm \n",
    "\n",
    "To understand the distribution of clusters, we first need to distinguish between different clusters. Clusters differ from each other based on atom distances and symmetries. \n",
    "\n",
    "To achieve this goal, we took advantage of the Alloy Theoretic Automated Toolkit (ATAT) developed by Axel van de Walle. In ATAT, the corrdump program takes lattice parameters and site positions as input, determines the space group of the lattice, and find all symmetrically distinct clusters based on the space group. When analyzing distinct clusters, corrdump only count for sites which are possbile for at least two types of elements. The sites which can accommodate only one type of element will only help with analyzing symmetries. The installation and modification of ATAT can be found in supporting information."
   ]
  },
  {
   "cell_type": "markdown",
   "metadata": {},
   "source": [
    "Input:\n",
    "1. lat.in  \n",
    "2. str_dim.txt"
   ]
  },
  {
   "cell_type": "markdown",
   "metadata": {},
   "source": [
    "Procedures:\n",
    "1. Run the two python files (classes.py and utilities.py) which contain the useful functions in jupyter notebook (or import the them in a python file).\n",
    "        %run classes.py\n",
    "        %run utilities.py\n",
    "        (from classes import * )\n",
    "        (from utilities import *)\n",
    "2. Initialize a class of Lattice with lat.in: \n",
    "        Lattice(folder_path for lat.in)\n",
    "3. Run corrdump program to generate clusters.out file containing the information for each cluster type: \n",
    "        corrdump -l=[lat.in file path] -cf=[clusters.out file path] -2=[max distance for 2-body cluster] -3=[max distance for 3-body cluster]\n",
    "4. Visualize the cluster example given by corrdump for each type: \n",
    "        lattice.read_clusters_out()\n",
    "        lattice.visualize_cluster(cluster_type)\n",
    "5. Initialize a class of Structure with lattice parameters and structure dimensions, and prepare str.out: \n",
    "        Structure(lattice, folder_path for lat.in and str_dim.txt)\n",
    "        structure.prepare_str_out()\n",
    "6. Run corrdump program to generate a full list of clusters for a super cell defined by the structure dimensions:\n",
    "        corrdump -l=[lat.in file path] -s=[str.out file path] -cf=[clusters.out file path] -2=[max distance for 2-body cluster] -3=[max distance for 3-body cluster] >> [cluster_list.csv file path]\n",
    "7. Read the full cluster list and visulaize clusters for each type:\n",
    "        structure.read_cluster_list()\n",
    "        structure.visualize_one_cluster_one_example()"
   ]
  },
  {
   "cell_type": "markdown",
   "metadata": {},
   "source": [
    "Output:\n",
    "1. A lattice class which contains:  \n",
    "1) lattice parameters: a, b, c, alpha, beta, gamma  \n",
    "2) lattice constants: u, v, w  \n",
    "3) sites information: site index, atom types, xyz coordinates, fractional coordinates  \n",
    "4) cluster types: number of atoms in the cluster, maximum distance between two atoms in the cluster, multiplicity in one lattice unit cell, one example cluster represented in fractional coordinates for each type.  \n",
    "        \n",
    "2. A structure class which contains:   \n",
    "1) lattice parameters: a, b, c, alpha, beta, gamma  \n",
    "2) lattice constants: u, v, w  \n",
    "3) structure constants: nu, nv, nw  \n",
    "4) sites information stored in a dataframe: site index, atom types, xyz coordinates, fractional coordinates  \n",
    "5) cluster types: all clusters represented in fractional coordinates, in xyz coordinates in site indices for each type in one super cell.  "
   ]
  },
  {
   "cell_type": "markdown",
   "metadata": {},
   "source": [
    "Example:"
   ]
  },
  {
   "cell_type": "code",
   "execution_count": 1,
   "metadata": {
    "collapsed": true
   },
   "outputs": [],
   "source": [
    "#import other useful packages\n",
    "import pandas as pd\n",
    "import numpy as np\n",
    "import os\n",
    "from ase import Atoms\n",
    "from ase.io import read, write\n",
    "from ase.visualize import view"
   ]
  },
  {
   "cell_type": "code",
   "execution_count": 2,
   "metadata": {
    "collapsed": true
   },
   "outputs": [],
   "source": [
    "#run the two python files\n",
    "%run classes.py\n",
    "%run utilities.py"
   ]
  },
  {
   "cell_type": "code",
   "execution_count": 4,
   "metadata": {
    "collapsed": true
   },
   "outputs": [],
   "source": [
    "#prepare lat.in and str_dim.txt for simple cube and put them in the folder called simple_cube \n",
    "folder_path = 'simple_cube'\n",
    "#initialize a class of Lattice with lat.in:\n",
    "lattice = Lattice(folder_path)"
   ]
  },
  {
   "cell_type": "code",
   "execution_count": 15,
   "metadata": {},
   "outputs": [
    {
     "data": {
      "text/plain": [
       "256"
      ]
     },
     "execution_count": 15,
     "metadata": {},
     "output_type": "execute_result"
    }
   ],
   "source": [
    "#set the maxmum distances between 2 atoms in 2-body clusters and that in 3-body clusters\n",
    "maxdis_2 = 15\n",
    "maxdis_3 = 15\n",
    "#run corrdump to generate clusters.out file in terminal:\n",
    "#the folder path for lat.in and clusters.out has been specified before\n",
    "#the return of this line of code is either 0 or 256: 0 means no error message, and 256 means there is at least one error message; you can see the error messages in the terminal; if there is no str.out file, it should return 256 and there should be an error message (Unable to open structure file) in terminal; that's fine.\n",
    "os.system('corrdump -l={0}/lat.in -cf={0}/clusters.out -2={1} -3={2}'.format(folder_path, maxdis_2, maxdis_3))"
   ]
  },
  {
   "cell_type": "code",
   "execution_count": 16,
   "metadata": {
    "collapsed": true
   },
   "outputs": [],
   "source": [
    "#read clusters.out\n",
    "lattice.read_clusters_out()"
   ]
  },
  {
   "cell_type": "code",
   "execution_count": 9,
   "metadata": {
    "collapsed": true
   },
   "outputs": [],
   "source": [
    "#visualize the cluster example given by corrdump for one type\n",
    "cluster_type='2-5'\n",
    "lattice.visualize_cluster(cluster_type)\n",
    "c= read(folder_path+'/lattice_clusters/xyzs/cluster-{}.xyz'.format(cluster_type))\n",
    "view(c)"
   ]
  },
  {
   "cell_type": "code",
   "execution_count": 10,
   "metadata": {
    "collapsed": true
   },
   "outputs": [],
   "source": [
    "#initialize a class of Structure with lattice parameters and structure dimensions\n",
    "structure = Structure(lattice=lattice, folder_path=folder_path)\n",
    "structure.prepare_str_out()"
   ]
  },
  {
   "cell_type": "code",
   "execution_count": 13,
   "metadata": {},
   "outputs": [
    {
     "data": {
      "text/plain": [
       "0"
      ]
     },
     "execution_count": 13,
     "metadata": {},
     "output_type": "execute_result"
    }
   ],
   "source": [
    "#run corrdump program in terminal to generate a full list of clusters for a super cell defined by the structure dimensions; again, the return of this line of code is either 0 or 256: 0 means no error message, and 256 means there is at least one error message; you can see the error messages in the terminal\n",
    "\n",
    "os.system('corrdump -l={0}/lat.in -s={0}/str.out -cf={0}/clusters.out -2={1} -3={2} >> {0}/cluster_list.csv'.format(folder_path, maxdis_2, maxdis_3))"
   ]
  },
  {
   "cell_type": "code",
   "execution_count": 17,
   "metadata": {
    "collapsed": true
   },
   "outputs": [],
   "source": [
    "#read the full cluster list and visulaize clusters for each type\n",
    "structure.read_cluster_list()"
   ]
  },
  {
   "cell_type": "code",
   "execution_count": 18,
   "metadata": {
    "collapsed": true
   },
   "outputs": [],
   "source": [
    "#create xyz and image files for clusters in a specific type\n",
    "cluster_type='3-3'\n",
    "structure.visualize_one_cluster_type_all_examples(cluster_type)"
   ]
  },
  {
   "cell_type": "code",
   "execution_count": 19,
   "metadata": {
    "collapsed": true
   },
   "outputs": [],
   "source": [
    "#visualize one cluster example\n",
    "cluster_example='3-3-1'\n",
    "c= read(folder_path+'/structure_clusters_rep/xyzs/cluster-{}.xyz'.format(cluster_example))\n",
    "view(c)\n",
    "c= read(folder_path+'/structure_clusters_no_rep/xyzs/cluster-{}.xyz'.format(cluster_example))\n",
    "view(c)"
   ]
  },
  {
   "cell_type": "markdown",
   "metadata": {},
   "source": [
    "### Goal Two - Count Clusters"
   ]
  },
  {
   "cell_type": "markdown",
   "metadata": {},
   "source": [
    "Algorithms \n",
    "\n",
    "The second goal is to count specific clusters for a given structure configuration. Usually for the clusters that we want to count, there are two requirements: 1) having centain element at each site, and 2) being certain cluster type, such as Al-Al pairs in 6-membered-rings. Other rules, such as excluding certain cluster types, might also exist. For example, when there are 3 Al atoms not adjacent with each other in a 6-membered-ring, we may not want to count any Al-Al pair in this 6-ring. The codes to complete this task contain 2 parts.\n",
    "\n",
    "1. If there is any excluding cluster type, the first step is to create a set of all the clusters that we want to exclude in one super cell. We can go through the cluster list for each excluding type, add every cluster as well as its subclusters into the excluding cluster set. For example, 3Al in 6-membered-rings is a particular 3-body cluster type. We will add each 3-body cluster in this type, as well as each 2-body cluster and 1-body cluster in this 3-body cluster, to the excluding set.  \n",
    "\n",
    "2. Then we will go through the cluster list for each of the cluster type that we are interested in. For every cluster in this type, if it has exactly the required element at each site(given by the structure configuration), and it doesn't belong to excluding cluster set, we will add the count for its cluster type by 1."
   ]
  },
  {
   "cell_type": "markdown",
   "metadata": {},
   "source": [
    "Input:\n",
    "1. structure vector\n",
    "2. counting types and excluding types"
   ]
  },
  {
   "cell_type": "markdown",
   "metadata": {},
   "source": [
    "Procedures:\n",
    "1. count clusters for one structure vector:  \n",
    "   structure.count_clusters_str_config(str_vec, counting_types, excluding_types)  \n",
    "2. or count clusters for multiple structure vectors:   \n",
    "structure.count_clusters_multi_configs(str_vecs, counting_types, excluding_types)"
   ]
  },
  {
   "cell_type": "markdown",
   "metadata": {},
   "source": [
    "Output:\n",
    "1. counting_results:  \n",
    "    number of clusters within one super cell for each cluster type in counting types"
   ]
  },
  {
   "cell_type": "markdown",
   "metadata": {},
   "source": [
    "Example:"
   ]
  },
  {
   "cell_type": "code",
   "execution_count": 11,
   "metadata": {
    "collapsed": true
   },
   "outputs": [],
   "source": [
    "#initialize a structure vector with 1 at all sites with multiple atom types and 0 at all sites with only one atom type\n",
    "str_vec=[1 if (structure.sites.iloc[i]['multi_atoms']==True) else 0 for i in range(len(structure.sites.index)) ]"
   ]
  },
  {
   "cell_type": "code",
   "execution_count": 12,
   "metadata": {},
   "outputs": [
    {
     "data": {
      "text/plain": [
       "defaultdict(int, {'1-1': 12, '2-1': 24, '2-2': 24})"
      ]
     },
     "execution_count": 12,
     "metadata": {},
     "output_type": "execute_result"
    }
   ],
   "source": [
    "#count clusters without excluding types\n",
    "structure.count_clusters_str_config(str_vec, counting_types=['1-1','2-1','2-2'])"
   ]
  },
  {
   "cell_type": "code",
   "execution_count": 13,
   "metadata": {},
   "outputs": [
    {
     "data": {
      "text/plain": [
       "defaultdict(int, {'1-1': 0, '2-1': 0, '2-2': 24})"
      ]
     },
     "execution_count": 13,
     "metadata": {},
     "output_type": "execute_result"
    }
   ],
   "source": [
    "#count clusters with excluding types\n",
    "structure.count_clusters_str_config(str_vec, counting_types=['1-1','2-1','2-2'], excluding_types=['3-2'])"
   ]
  },
  {
   "cell_type": "markdown",
   "metadata": {},
   "source": [
    "### Goal Three - Randomly generate structure vectors with/without rules"
   ]
  },
  {
   "cell_type": "markdown",
   "metadata": {},
   "source": [
    "Algorithms:   \n",
    "When researchers design functional materials, the element ratio is usually the first property to control. Different element ratios will result in different cluster distributions. Moreover, for a given element ratio, the cluster distribution may vary with the distribution of elements within the structure. Thus the third goal here is to randomly generate numbers of structure configurations for a given element ratio to statistically analyze the cluster distributions. When structure configuration is generated, certain rules may apply. For example, Löwenstein's rule requires no first nearest neighbors for Al. Another rule is the probability of centain atoms at different sites may not be the same. For ferrierite, there are four types of T-sites. The probability of Al at different T-sites may vary with the synthesis process. To generate random configurations with/without rules, we need 3 steps.\n",
    "\n",
    "1. Randomly initialize a structure configuration(structure vector) which has the required atom ratios and the required site probability.  \n",
    "2. If there are penalized cluster types, create a penalty dictionary. Give a penalty factor for each penalized cluster type. Then the overall penalty for a structure configuration is the summation of the number of penalized clusters times the penalty factor for all penalized types.\n",
    "3. Randomly swap different atoms at different sites. If different site types has different probabilities, only swap sites with the same type. If the swap results in a not greater overall panalty, swap the atoms; othewise, the swap probability follows the Boltzmaan function of the penalty difference. Keep swapping until the overall penalty becomes stable.\n"
   ]
  },
  {
   "cell_type": "markdown",
   "metadata": {},
   "source": [
    "Input:\n",
    "1. atom ratio\n",
    "2. rules: penalty dictionary containing the penalty factors for all the penalized cluster types"
   ]
  },
  {
   "cell_type": "markdown",
   "metadata": {},
   "source": [
    "Procedures:\n",
    "1. random_config_swap(self, atom_num, penalty={}, prob={}, num_vecs=1, num_step=100, burn_in_period=10, vis=0, ptfile='')"
   ]
  },
  {
   "cell_type": "markdown",
   "metadata": {},
   "source": [
    "Output:\n",
    "1. a set of structure vectors that meet the requirements of atom ratio and site probability as well as minimize the total penalty."
   ]
  },
  {
   "cell_type": "markdown",
   "metadata": {
    "collapsed": true
   },
   "source": [
    "Example:"
   ]
  },
  {
   "cell_type": "code",
   "execution_count": 14,
   "metadata": {
    "collapsed": true
   },
   "outputs": [],
   "source": [
    "#no 1NN for Al and only one type of site\n",
    "prob={'1':1}\n",
    "penalty={'2-1':10}\n",
    "Al_ratio=0.4\n",
    "Al_num=int(Al_ratio*len(structure.sites[structure.sites.multi_atoms==True].index))\n",
    "str_vecs=structure.random_config_swap(Al_num, penalty=penalty, prob=prob,num_vecs=2, num_step=100,vis=1, process=1, ptfile=1)"
   ]
  },
  {
   "cell_type": "code",
   "execution_count": 15,
   "metadata": {
    "scrolled": true
   },
   "outputs": [
    {
     "data": {
      "text/plain": [
       "[[0, 0, 0, 1, 1, 0, 1, 0, 0, 1, 0, 0], [0, 0, 1, 0, 0, 1, 0, 1, 1, 0, 0, 0]]"
      ]
     },
     "execution_count": 15,
     "metadata": {},
     "output_type": "execute_result"
    }
   ],
   "source": [
    "str_vecs"
   ]
  },
  {
   "cell_type": "code",
   "execution_count": 16,
   "metadata": {
    "collapsed": true
   },
   "outputs": [],
   "source": [
    "c= read(folder_path+'/random_config_process/xyzs/swap-1-final.xyz')\n",
    "view(c)"
   ]
  },
  {
   "cell_type": "code",
   "execution_count": 17,
   "metadata": {
    "collapsed": true
   },
   "outputs": [],
   "source": [
    "c= read(folder_path+'/random_config_process/xyzs/swap-2-final.xyz')\n",
    "view(c)"
   ]
  },
  {
   "cell_type": "markdown",
   "metadata": {},
   "source": [
    "### Goal Four - Titrate Clusters"
   ]
  },
  {
   "cell_type": "markdown",
   "metadata": {},
   "source": [
    "Algorithms \n",
    "\n",
    "The ultimate goal of the cluster distribution analysis is to understand the reaction activity with the material structure. When counting the clusters, we count both clusters if they both meet the requirements when they share sites with each other. While in reactions, if one cluster reacts, the atoms in the cluster will participate in the reaction. The clusters that share site with the reacted cluster cannot further react. So we need a titration function to titrate the clusters one by one. After each titration, we mark the sites in the titrated cluster as used and won't titrate clusters sharing sites with the titrated cluster in the future. Another thing that we need to consider is that, not all the clusters types have the same reaction priority. Some types may react first and only all the clusters in these types are all used up, the other types of clusters can start to react. To complete this task, we need 3 steps.\n",
    "\n",
    "1. If there is any excluding cluster type, create an excluding cluster list as in the counting function. Go through the cluster list for each excluding type, add every cluster as well as its subclusters into the excluding cluster set.  \n",
    "2. Create a titration group for the cluster types with the highest priority. Create an available cluster list with all the clusters that have the required atoms, being the type in the titration group, and not in the excluding cluster set. Then we start to titrate the clusters one by one. After each titration, add 1 for the cluster type that the titrated cluster belongs to, change the sites in the titrated cluster to used sites in the structure configuration, and remove all the clusters that share sites with it from the available cluster list. Keep titrating until no cluster is in the available list. \n",
    "3. Create another titration group for the cluster types with the second highest priority. Create an available cluster list as in step 2 with the structure configuration that already mark all the used sites. Titrate as in step 2. "
   ]
  },
  {
   "cell_type": "markdown",
   "metadata": {},
   "source": [
    "Input:\n",
    "1. structure vector\n",
    "2. titrating groups:[[titration types with the highest priority],[titration types with the second highest priority]...]\n",
    "3. excluding types"
   ]
  },
  {
   "cell_type": "markdown",
   "metadata": {},
   "source": [
    "Procedures:\n",
    "1. titrate_clusters_multi_configs(self, str_vecs, titration_groups, excluding_types, titrate_num)"
   ]
  },
  {
   "cell_type": "markdown",
   "metadata": {},
   "source": [
    "Output:\n",
    "1. titration_results:  \n",
    "    number of clusters within one super cell for each cluster type in titration groups"
   ]
  },
  {
   "cell_type": "markdown",
   "metadata": {},
   "source": [
    "Example:"
   ]
  },
  {
   "cell_type": "code",
   "execution_count": 18,
   "metadata": {
    "collapsed": true
   },
   "outputs": [],
   "source": [
    "#generate 5 structure configurations with no rules\n",
    "Al_ratio=0.4\n",
    "Al_num=int(Al_ratio*len(structure.sites[structure.sites.multi_atoms==True].index))\n",
    "str_vecs=structure.random_config_swap(Al_num, num_vecs=5, num_step=100)"
   ]
  },
  {
   "cell_type": "code",
   "execution_count": 19,
   "metadata": {
    "collapsed": true
   },
   "outputs": [],
   "source": [
    "titration_groups=[['2-1','2-2','2-3'],['1-1']]\n",
    "excluding_types=[]"
   ]
  },
  {
   "cell_type": "code",
   "execution_count": 20,
   "metadata": {},
   "outputs": [
    {
     "data": {
      "text/plain": [
       "{'1-1': [[0.2], [0.8], [0.0], [0.8], [1.0]],\n",
       " '2-1': [[0.8], [0.3], [1.4], [0.6], [1.0]],\n",
       " '2-2': [[0.5], [0.8], [0.4], [0.6], [0.4]],\n",
       " '2-3': [[0.6], [0.5], [0.2], [0.4], [0.1]]}"
      ]
     },
     "execution_count": 20,
     "metadata": {},
     "output_type": "execute_result"
    }
   ],
   "source": [
    "#titrate multiple configurations for 10 times and keep the mean values of the tiration results\n",
    "structure.titrate_clusters_multi_configs(str_vecs, titration_groups= titration_groups,titrate_num=10,hist=0)"
   ]
  },
  {
   "cell_type": "code",
   "execution_count": 21,
   "metadata": {},
   "outputs": [
    {
     "data": {
      "text/plain": [
       "{'1-1': [[2, 0, 0, 0, 0, 0, 0, 2, 0, 0],\n",
       "  [0, 0, 2, 0, 0, 0, 2, 0, 0, 0],\n",
       "  [0, 0, 0, 0, 0, 0, 0, 0, 0, 0],\n",
       "  [2, 0, 0, 0, 0, 2, 0, 0, 0, 0],\n",
       "  [0, 0, 0, 2, 0, 0, 2, 0, 0, 0]],\n",
       " '2-1': [[1, 0, 0, 0, 0, 0, 0, 1, 0, 0],\n",
       "  [1, 0, 1, 0, 1, 1, 0, 1, 1, 1],\n",
       "  [1, 2, 2, 0, 1, 1, 1, 1, 2, 0],\n",
       "  [0, 0, 0, 1, 1, 1, 0, 0, 0, 1],\n",
       "  [2, 0, 0, 0, 2, 2, 1, 0, 2, 2]],\n",
       " '2-2': [[0, 1, 1, 1, 1, 1, 1, 0, 1, 1],\n",
       "  [1, 1, 0, 1, 1, 1, 1, 1, 1, 1],\n",
       "  [0, 0, 0, 2, 0, 0, 0, 0, 0, 0],\n",
       "  [1, 1, 1, 1, 1, 0, 1, 1, 1, 1],\n",
       "  [0, 2, 2, 0, 0, 0, 0, 2, 0, 0]],\n",
       " '2-3': [[0, 1, 1, 1, 1, 1, 1, 0, 1, 1],\n",
       "  [0, 1, 0, 1, 0, 0, 0, 0, 0, 0],\n",
       "  [1, 0, 0, 0, 1, 1, 1, 1, 0, 2],\n",
       "  [0, 1, 1, 0, 0, 0, 1, 1, 1, 0],\n",
       "  [0, 0, 0, 1, 0, 0, 0, 0, 0, 0]]}"
      ]
     },
     "execution_count": 21,
     "metadata": {},
     "output_type": "execute_result"
    }
   ],
   "source": [
    "#titrate multiple configurations for 10 times and keep the all the titration results\n",
    "structure.titrate_clusters_multi_configs(str_vecs, titration_groups=titration_groups,titrate_num=10,hist=1)"
   ]
  },
  {
   "cell_type": "code",
   "execution_count": null,
   "metadata": {
    "collapsed": true
   },
   "outputs": [],
   "source": []
  }
 ],
 "metadata": {
  "kernelspec": {
   "display_name": "Python 3",
   "language": "python",
   "name": "python3"
  },
  "language_info": {
   "codemirror_mode": {
    "name": "ipython",
    "version": 3
   },
   "file_extension": ".py",
   "mimetype": "text/x-python",
   "name": "python",
   "nbconvert_exporter": "python",
   "pygments_lexer": "ipython3",
   "version": "3.6.1"
  }
 },
 "nbformat": 4,
 "nbformat_minor": 2
}
