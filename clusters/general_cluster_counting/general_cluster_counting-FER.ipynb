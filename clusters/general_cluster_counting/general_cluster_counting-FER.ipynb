{
 "cells": [
  {
   "cell_type": "markdown",
   "metadata": {},
   "source": [
    "### Before start, please replace every folder path"
   ]
  },
  {
   "cell_type": "code",
   "execution_count": 1,
   "metadata": {
    "collapsed": true
   },
   "outputs": [],
   "source": [
    "import pandas as pd\n",
    "import numpy as np\n",
    "import copy\n",
    "from math import *\n",
    "import os\n",
    "import random\n",
    "from collections import defaultdict\n",
    "import csv\n",
    "from functools import reduce\n",
    "from copy import deepcopy\n",
    "import pickle\n",
    "from timeit import default_timer as timer\n",
    "from matplotlib import pyplot as plt\n",
    "from ase import Atoms\n",
    "from ase.io import read\n",
    "from ase.io import write\n",
    "from ase.visualize import view\n",
    "import itertools\n",
    "\n",
    "%matplotlib inline"
   ]
  },
  {
   "cell_type": "code",
   "execution_count": 2,
   "metadata": {
    "collapsed": true
   },
   "outputs": [],
   "source": [
    "pd.set_option('display.max_columns', 500)"
   ]
  },
  {
   "cell_type": "code",
   "execution_count": 3,
   "metadata": {
    "collapsed": true
   },
   "outputs": [],
   "source": [
    "folder_path = 'FER_36'"
   ]
  },
  {
   "cell_type": "code",
   "execution_count": 4,
   "metadata": {
    "collapsed": true
   },
   "outputs": [],
   "source": [
    "%run helper_functions.py"
   ]
  },
  {
   "cell_type": "markdown",
   "metadata": {},
   "source": [
    "#### Read lat.in"
   ]
  },
  {
   "cell_type": "code",
   "execution_count": 5,
   "metadata": {
    "collapsed": true
   },
   "outputs": [],
   "source": [
    "filepath=folder_path+'/lat.in'\n",
    "lattice = read_lat_in(filepath)"
   ]
  },
  {
   "cell_type": "code",
   "execution_count": 6,
   "metadata": {},
   "outputs": [
    {
     "data": {
      "text/plain": [
       "dict_keys(['a', 'b', 'c', 'alpha', 'beta', 'gamma', 'u', 'v', 'w', 'sites'])"
      ]
     },
     "execution_count": 6,
     "metadata": {},
     "output_type": "execute_result"
    }
   ],
   "source": [
    "lattice.keys()"
   ]
  },
  {
   "cell_type": "markdown",
   "metadata": {},
   "source": [
    "#### Run corrdump, generate clusters.out"
   ]
  },
  {
   "cell_type": "code",
   "execution_count": 7,
   "metadata": {},
   "outputs": [
    {
     "name": "stdout",
     "output_type": "stream",
     "text": [
      "Warning: unit cell is not primitive.\n",
      "Unable to open structure file\n"
     ]
    }
   ],
   "source": [
    "#need to FER_36nge path before running the following command\n",
    "!corrdump -l=FER_36/lat.in -cf=FER_36/clusters.out -2=6.6 -3=6.6"
   ]
  },
  {
   "cell_type": "markdown",
   "metadata": {},
   "source": [
    "#### Read clusters.out"
   ]
  },
  {
   "cell_type": "code",
   "execution_count": 8,
   "metadata": {
    "collapsed": true
   },
   "outputs": [],
   "source": [
    "filepath = folder_path+'/clusters.out'\n",
    "cluster_out_lines = read_clusters_out(filepath)"
   ]
  },
  {
   "cell_type": "code",
   "execution_count": 9,
   "metadata": {
    "collapsed": true
   },
   "outputs": [],
   "source": [
    "lat_clusters = break_down_cluster_out_lines(cluster_out_lines, lattice)"
   ]
  },
  {
   "cell_type": "code",
   "execution_count": null,
   "metadata": {},
   "outputs": [],
   "source": [
    "#need to FER_36nge path before running the following command\n",
    "!mkdir FER_36/lattice_clusters\n",
    "!mkdir FER_36/lattice_clusters/xyzs\n",
    "!mkdir FER_36/lattice_clusters/images"
   ]
  },
  {
   "cell_type": "code",
   "execution_count": 25,
   "metadata": {
    "collapsed": true
   },
   "outputs": [],
   "source": [
    "#visualize all n-body clusters\n",
    "nsite = 1\n",
    "for i in range(1, int(lat_clusters['type_number'][nsite])+1):\n",
    "    #print(i)\n",
    "    str_vec = [0 for i in range(len(lat_clusters['lat_vis_sites'].index))]\n",
    "    sites = lat_clusters['{}-{}'.format(nsite, i)]['eg_pair_frac']\n",
    "    uvwmax = find_max_uvw_from_cluster_frac(lattice_axes_abc(lattice), sites)\n",
    "    for site in sites:\n",
    "        #print(site)\n",
    "        index = find_df_index_frac(site, lat_clusters['lat_vis_sites'])\n",
    "        str_vec[index] = 1\n",
    "    xyz_filepath = folder_path+'/lattice_clusters/xyzs/cluster-{}-{}.xyz'.format(nsite, i)\n",
    "    png_filepath = folder_path+'/lattice_clusters/images/cluster-{}-{}.png'.format(nsite, i)\n",
    "    visualize_str_no_rep(lat_clusters['lat_vis_sites'], str_vec, xyz_filepath, png_filepath, uvwmax)"
   ]
  },
  {
   "cell_type": "code",
   "execution_count": 84,
   "metadata": {
    "collapsed": true
   },
   "outputs": [],
   "source": [
    "cluster_type = '2-20'\n",
    "c= read(folder_path+'/lattice_clusters/xyzs/cluster-{}.xyz'.format(cluster_type))\n",
    "view(c)"
   ]
  },
  {
   "cell_type": "code",
   "execution_count": 27,
   "metadata": {
    "collapsed": true
   },
   "outputs": [],
   "source": [
    "cluster_type = '2-23'\n",
    "c= read(folder_path+'/lattice_clusters/xyzs/cluster-{}.xyz'.format(cluster_type))\n",
    "view(c)"
   ]
  },
  {
   "cell_type": "code",
   "execution_count": 22,
   "metadata": {
    "collapsed": true
   },
   "outputs": [],
   "source": [
    "cluster_type = '2-27'\n",
    "c= read(folder_path+'/lattice_clusters/xyzs/cluster-{}.xyz'.format(cluster_type))\n",
    "view(c)"
   ]
  },
  {
   "cell_type": "code",
   "execution_count": 23,
   "metadata": {
    "collapsed": true
   },
   "outputs": [],
   "source": [
    "cluster_type = '2-30'\n",
    "c= read(folder_path+'/lattice_clusters/xyzs/cluster-{}.xyz'.format(cluster_type))\n",
    "view(c)"
   ]
  },
  {
   "cell_type": "markdown",
   "metadata": {},
   "source": [
    "#### read str_dim.txt"
   ]
  },
  {
   "cell_type": "code",
   "execution_count": 28,
   "metadata": {
    "collapsed": true
   },
   "outputs": [],
   "source": [
    "%run helper_functions.py"
   ]
  },
  {
   "cell_type": "code",
   "execution_count": 29,
   "metadata": {
    "collapsed": true
   },
   "outputs": [],
   "source": [
    "filepath = folder_path+'/str_dim.txt'\n",
    "structure = read_str_dim(filepath, lattice)"
   ]
  },
  {
   "cell_type": "code",
   "execution_count": 30,
   "metadata": {
    "collapsed": true
   },
   "outputs": [],
   "source": [
    "filepath = folder_path+'/str.out'\n",
    "prepare_str_out(structure, filepath)"
   ]
  },
  {
   "cell_type": "code",
   "execution_count": 48,
   "metadata": {},
   "outputs": [
    {
     "name": "stdout",
     "output_type": "stream",
     "text": [
      "Warning: unit cell is not primitive.\r\n"
     ]
    }
   ],
   "source": [
    "#need to change path before running the following command\n",
    "if os.path.isfile('FER_36/cluster_list.csv'):\n",
    "    os.remove('FER_36/cluster_list.csv')\n",
    "    \n",
    "!corrdump -l=FER_36/lat.in -s=FER_36/str.out -cf=FER_36/clusters.out -2=7 -3=7 >> FER_36/cluster_list.csv"
   ]
  },
  {
   "cell_type": "markdown",
   "metadata": {},
   "source": [
    "#### read cluster list"
   ]
  },
  {
   "cell_type": "code",
   "execution_count": 55,
   "metadata": {
    "collapsed": true
   },
   "outputs": [],
   "source": [
    "%run helper_functions.py"
   ]
  },
  {
   "cell_type": "code",
   "execution_count": 56,
   "metadata": {
    "collapsed": true
   },
   "outputs": [],
   "source": [
    "filepath = folder_path+'/cluster_list.csv'\n",
    "str_clusters = read_cluster_list(filepath, structure, lat_clusters)"
   ]
  },
  {
   "cell_type": "code",
   "execution_count": 57,
   "metadata": {},
   "outputs": [],
   "source": [
    "break_down_cluster_list(str_clusters, structure)"
   ]
  },
  {
   "cell_type": "code",
   "execution_count": 52,
   "metadata": {},
   "outputs": [],
   "source": [
    "#need to FER_36nge path before running the following command\n",
    "!mkdir FER_36/structure_clusters_rep\n",
    "!mkdir FER_36/structure_clusters_rep/xyzs\n",
    "!mkdir FER_36/structure_clusters_rep/images"
   ]
  },
  {
   "cell_type": "code",
   "execution_count": 53,
   "metadata": {},
   "outputs": [],
   "source": [
    "#need to FER_36nge path before running the following command\n",
    "!mkdir FER_36/structure_clusters_no_rep\n",
    "!mkdir FER_36/structure_clusters_no_rep/xyzs\n",
    "!mkdir FER_36/structure_clusters_no_rep/images"
   ]
  },
  {
   "cell_type": "code",
   "execution_count": 58,
   "metadata": {},
   "outputs": [],
   "source": [
    "visualize_structure_one_cluster_type_all_examples(str_clusters, structure, folder_path, '2-20')\n",
    "visualize_structure_one_cluster_type_all_examples(str_clusters, structure, folder_path, '2-23')\n",
    "visualize_structure_one_cluster_type_all_examples(str_clusters, structure, folder_path, '2-27')\n",
    "visualize_structure_one_cluster_type_all_examples(str_clusters, structure, folder_path, '2-30')"
   ]
  },
  {
   "cell_type": "code",
   "execution_count": 27,
   "metadata": {
    "collapsed": true
   },
   "outputs": [],
   "source": [
    "#visualize_structure_all_clusters(str_clusters, structure, folder_path, rep='y')"
   ]
  },
  {
   "cell_type": "markdown",
   "metadata": {},
   "source": [
    "#### pair sites for structure sites"
   ]
  },
  {
   "cell_type": "code",
   "execution_count": 59,
   "metadata": {
    "collapsed": true
   },
   "outputs": [],
   "source": [
    "%run helper_functions.py"
   ]
  },
  {
   "cell_type": "code",
   "execution_count": 60,
   "metadata": {
    "collapsed": true
   },
   "outputs": [],
   "source": [
    "add_cluster_list_site_index(str_clusters,structure)"
   ]
  },
  {
   "cell_type": "code",
   "execution_count": 61,
   "metadata": {
    "collapsed": true
   },
   "outputs": [],
   "source": [
    "add_pair_sites(structure, str_clusters)"
   ]
  },
  {
   "cell_type": "markdown",
   "metadata": {},
   "source": [
    "#### count clusters for a given configuration"
   ]
  },
  {
   "cell_type": "code",
   "execution_count": 62,
   "metadata": {
    "collapsed": true
   },
   "outputs": [],
   "source": [
    "%run helper_functions.py"
   ]
  },
  {
   "cell_type": "code",
   "execution_count": 63,
   "metadata": {
    "collapsed": true
   },
   "outputs": [],
   "source": [
    "str_vec = [1 for i in range(len(structure['str_sites'].index))]"
   ]
  },
  {
   "cell_type": "code",
   "execution_count": 64,
   "metadata": {
    "collapsed": true
   },
   "outputs": [],
   "source": [
    "counting_types = []"
   ]
  },
  {
   "cell_type": "code",
   "execution_count": null,
   "metadata": {},
   "outputs": [],
   "source": [
    "count_clusters_str_config(str_vec, structure, str_clusters, counting_types)"
   ]
  },
  {
   "cell_type": "markdown",
   "metadata": {},
   "source": [
    "#### random generate one structure configuration"
   ]
  },
  {
   "cell_type": "code",
   "execution_count": 73,
   "metadata": {
    "collapsed": true
   },
   "outputs": [],
   "source": [
    "%run helper_functions.py"
   ]
  },
  {
   "cell_type": "code",
   "execution_count": 67,
   "metadata": {},
   "outputs": [],
   "source": [
    "#need to FER_36nge path before running the following command\n",
    "!mkdir FER_36/random_config_process\n",
    "!mkdir FER_36/random_config_process/xyzs\n",
    "!mkdir FER_36/random_config_process/images"
   ]
  },
  {
   "cell_type": "markdown",
   "metadata": {},
   "source": [
    "#### no rules"
   ]
  },
  {
   "cell_type": "code",
   "execution_count": 74,
   "metadata": {},
   "outputs": [
    {
     "data": {
      "text/plain": [
       "0"
      ]
     },
     "execution_count": 74,
     "metadata": {},
     "output_type": "execute_result"
    }
   ],
   "source": [
    "penalty = {}\n",
    "Al_num = 12\n",
    "str_vec = random_config_hybrid(structure, str_clusters, Al_num, penalty, vis=1, folder_path=folder_path, max_try = 100)\n",
    "cal_penalty(str_vec, structure, str_clusters, penalty)"
   ]
  },
  {
   "cell_type": "code",
   "execution_count": 75,
   "metadata": {
    "collapsed": true
   },
   "outputs": [],
   "source": [
    "c= read(folder_path+'/random_config_process/xyzs/select-{}.xyz'.format(Al_num))\n",
    "view(c)"
   ]
  },
  {
   "cell_type": "markdown",
   "metadata": {},
   "source": [
    "#### rules: no 1NN"
   ]
  },
  {
   "cell_type": "code",
   "execution_count": 81,
   "metadata": {},
   "outputs": [
    {
     "data": {
      "text/plain": [
       "0"
      ]
     },
     "execution_count": 81,
     "metadata": {},
     "output_type": "execute_result"
    }
   ],
   "source": [
    "penalty = {'2-1':1, '2-2':1, '2-3':1,'2-4':1, '2-5':1, '2-6': 1, '2-7':1, '2-8':1}\n",
    "Al_num = 12\n",
    "str_vec = random_config_hybrid(structure, str_clusters, Al_num, penalty, vis=1, folder_path=folder_path, max_try = 100)\n",
    "cal_penalty(str_vec, structure, str_clusters, penalty)"
   ]
  },
  {
   "cell_type": "code",
   "execution_count": 82,
   "metadata": {
    "collapsed": true
   },
   "outputs": [],
   "source": [
    "c= read(folder_path+'/random_config_process/xyzs/select-{}.xyz'.format(Al_num))\n",
    "view(c)"
   ]
  },
  {
   "cell_type": "code",
   "execution_count": 71,
   "metadata": {
    "collapsed": true
   },
   "outputs": [],
   "source": [
    "c= read(folder_path+'/random_config_process/xyzs/swap-0.xyz')\n",
    "view(c)"
   ]
  },
  {
   "cell_type": "markdown",
   "metadata": {},
   "source": [
    "#### titrate clusters for one structure configuration"
   ]
  },
  {
   "cell_type": "code",
   "execution_count": 62,
   "metadata": {
    "collapsed": true
   },
   "outputs": [],
   "source": [
    "%run helper_functions.py"
   ]
  },
  {
   "cell_type": "code",
   "execution_count": 63,
   "metadata": {
    "collapsed": true
   },
   "outputs": [],
   "source": [
    "cluster_type_dict = prepare_cluster_type_dict(str_clusters)"
   ]
  },
  {
   "cell_type": "code",
   "execution_count": 64,
   "metadata": {},
   "outputs": [
    {
     "data": {
      "text/plain": [
       "{'2-1': 1,\n",
       " '2-2': 1,\n",
       " '2-3': 1,\n",
       " '2-4': 1,\n",
       " '2-5': 1,\n",
       " '2-6': 1,\n",
       " '2-7': 1,\n",
       " '2-8': 1}"
      ]
     },
     "execution_count": 64,
     "metadata": {},
     "output_type": "execute_result"
    }
   ],
   "source": [
    "penalty"
   ]
  },
  {
   "cell_type": "code",
   "execution_count": null,
   "metadata": {},
   "outputs": [],
   "source": [
    "str_vec = random_config_hybrid(structure, str_clusters, 340, penalty, max_try = 100)"
   ]
  },
  {
   "cell_type": "code",
   "execution_count": null,
   "metadata": {
    "collapsed": true
   },
   "outputs": [],
   "source": [
    "np.sum(str_vec)"
   ]
  },
  {
   "cell_type": "code",
   "execution_count": null,
   "metadata": {
    "collapsed": true
   },
   "outputs": [],
   "source": [
    "cal_penalty(str_vec,structure, str_clusters, penalty)"
   ]
  },
  {
   "cell_type": "code",
   "execution_count": 162,
   "metadata": {
    "collapsed": true
   },
   "outputs": [],
   "source": [
    "d1 = titrate_config_one_group(str_vec, structure, str_clusters, cluster_type_dict, counting_types=['2-9','2-10','2-20','2-23'])"
   ]
  },
  {
   "cell_type": "code",
   "execution_count": 163,
   "metadata": {
    "collapsed": true
   },
   "outputs": [],
   "source": [
    "d2 = titrate_config_multi_groups(str_vec, structure, str_clusters, cluster_type_dict, counting_groups=[['2-9','2-10','2-20','2-23']], repeat_num = 10)"
   ]
  },
  {
   "cell_type": "code",
   "execution_count": 164,
   "metadata": {},
   "outputs": [
    {
     "data": {
      "text/plain": [
       "[60, 60, 60, 60, 60, 60, 60, 60, 60, 60]"
      ]
     },
     "execution_count": 164,
     "metadata": {},
     "output_type": "execute_result"
    }
   ],
   "source": [
    "d2['2-9']"
   ]
  },
  {
   "cell_type": "code",
   "execution_count": 165,
   "metadata": {},
   "outputs": [
    {
     "data": {
      "text/plain": [
       "[47, 47, 47, 47, 47, 47, 47, 47, 47, 47]"
      ]
     },
     "execution_count": 165,
     "metadata": {},
     "output_type": "execute_result"
    }
   ],
   "source": [
    "d2['2-10']"
   ]
  },
  {
   "cell_type": "markdown",
   "metadata": {},
   "source": [
    "#### generate multiple random structure configurations for one compositions"
   ]
  },
  {
   "cell_type": "code",
   "execution_count": 166,
   "metadata": {},
   "outputs": [
    {
     "name": "stdout",
     "output_type": "stream",
     "text": [
      "mkdir: CHA/random_configs: File exists\n",
      "mkdir: CHA/random_configs/xyzs: File exists\n",
      "mkdir: CHA/random_configs/images: File exists\n"
     ]
    }
   ],
   "source": [
    "#need to FER_36nge path before running the following command\n",
    "!mkdir FER_36/random_configs\n",
    "!mkdir FER_36/random_configs/xyzs\n",
    "!mkdir FER_36/random_configs/images"
   ]
  },
  {
   "cell_type": "code",
   "execution_count": 167,
   "metadata": {
    "collapsed": true
   },
   "outputs": [],
   "source": [
    "%run helper_functions.py"
   ]
  },
  {
   "cell_type": "code",
   "execution_count": 186,
   "metadata": {
    "collapsed": true
   },
   "outputs": [],
   "source": [
    "str_vecs = random_config_mult(structure, str_clusters, 250, penalty, 10, vis=1, folder_path=folder_path, max_try = 100)"
   ]
  },
  {
   "cell_type": "code",
   "execution_count": null,
   "metadata": {
    "collapsed": true
   },
   "outputs": [],
   "source": [
    "c= read(folder_path+'/random_configs/images/config-9.xyz')\n",
    "view(c)"
   ]
  },
  {
   "cell_type": "markdown",
   "metadata": {},
   "source": [
    "## FER_36"
   ]
  },
  {
   "cell_type": "markdown",
   "metadata": {},
   "source": [
    "\n",
    "\n",
    "#### count clusters for multiple configurations"
   ]
  },
  {
   "cell_type": "code",
   "execution_count": 169,
   "metadata": {
    "collapsed": true
   },
   "outputs": [],
   "source": [
    "%run helper_functions.py"
   ]
  },
  {
   "cell_type": "code",
   "execution_count": 188,
   "metadata": {
    "collapsed": true
   },
   "outputs": [],
   "source": [
    "count_results = count_clusters_multi_configs(str_vecs, structure, str_clusters, counting_types=['2-7','2-11'],excluding_types=['3-6'])"
   ]
  },
  {
   "cell_type": "markdown",
   "metadata": {},
   "source": [
    "#### titrate clusters for multiple configurations"
   ]
  },
  {
   "cell_type": "code",
   "execution_count": 172,
   "metadata": {
    "collapsed": true
   },
   "outputs": [],
   "source": [
    "%run helper_functions.py"
   ]
  },
  {
   "cell_type": "code",
   "execution_count": 194,
   "metadata": {
    "collapsed": true
   },
   "outputs": [],
   "source": [
    "titrate_clusters = titrate_clusters_multi_configs(str_vecs, structure, str_clusters, cluster_type_dict, counting_groups=[['2-7', '2-11']], excluding_types=['3-6'], titrate_num=1)"
   ]
  },
  {
   "cell_type": "markdown",
   "metadata": {},
   "source": [
    "#### count for all Al"
   ]
  },
  {
   "cell_type": "code",
   "execution_count": 136,
   "metadata": {},
   "outputs": [
    {
     "data": {
      "text/plain": [
       "<matplotlib.figure.Figure at 0x12147ffd0>"
      ]
     },
     "metadata": {},
     "output_type": "display_data"
    }
   ],
   "source": [
    "%run helper_functions.py"
   ]
  },
  {
   "cell_type": "code",
   "execution_count": 68,
   "metadata": {},
   "outputs": [
    {
     "data": {
      "text/plain": [
       "576"
      ]
     },
     "execution_count": 68,
     "metadata": {},
     "output_type": "execute_result"
    }
   ],
   "source": [
    "len(structure['str_sites'][structure['str_sites'].multi_atoms == True].index)"
   ]
  },
  {
   "cell_type": "code",
   "execution_count": 69,
   "metadata": {
    "collapsed": true
   },
   "outputs": [],
   "source": [
    "str_vecs = random_config_mult(structure, str_clusters, 576, penalty={}, config_num=1, max_try = 100)"
   ]
  },
  {
   "cell_type": "code",
   "execution_count": 70,
   "metadata": {
    "collapsed": true
   },
   "outputs": [],
   "source": [
    "#count for all Al\n",
    "counting_types = ['2-6', '2-7', '2-9', '2-10', '2-20', '2-23']\n",
    "\n",
    "all_al_count_result = count_clusters_multi_configs(str_vecs, structure, str_clusters, counting_types=counting_types)\n",
    "values1 = [np.mean(all_al_count_result[t])/576 for t in counting_types]\n",
    "errors1 = [np.std(all_al_count_result[t]) for t in counting_types]"
   ]
  },
  {
   "cell_type": "code",
   "execution_count": 72,
   "metadata": {},
   "outputs": [
    {
     "data": {
      "image/png": "[encoded data removed]",
      "text/plain": [
       "<matplotlib.figure.Figure at 0x11fc2e2b0>"
      ]
     },
     "metadata": {},
     "output_type": "display_data"
    }
   ],
   "source": [
    "plot_one_bar_chart(folder_path+'/all_al_count.png',counting_types, values1, ylabel='count/Al', label='all Al')"
   ]
  },
  {
   "cell_type": "markdown",
   "metadata": {},
   "source": [
    "#### rules(no 1NN) vs no rules"
   ]
  },
  {
   "cell_type": "code",
   "execution_count": 73,
   "metadata": {},
   "outputs": [
    {
     "data": {
      "text/plain": [
       "{'2-1': 1,\n",
       " '2-2': 1,\n",
       " '2-3': 1,\n",
       " '2-4': 1,\n",
       " '2-5': 1,\n",
       " '2-6': 1,\n",
       " '2-7': 1,\n",
       " '2-8': 1}"
      ]
     },
     "execution_count": 73,
     "metadata": {},
     "output_type": "execute_result"
    }
   ],
   "source": [
    "penalty"
   ]
  },
  {
   "cell_type": "code",
   "execution_count": null,
   "metadata": {
    "collapsed": true
   },
   "outputs": [],
   "source": [
    "#Si/Al = 4"
   ]
  },
  {
   "cell_type": "code",
   "execution_count": 97,
   "metadata": {
    "collapsed": true
   },
   "outputs": [],
   "source": [
    "str_vecs_no_1NN = random_config_mult(structure, str_clusters, 115, penalty=penalty, config_num=100, max_try = 100)"
   ]
  },
  {
   "cell_type": "code",
   "execution_count": 98,
   "metadata": {
    "collapsed": true
   },
   "outputs": [],
   "source": [
    "str_vecs_no_rules = random_config_mult(structure, str_clusters, 115, penalty={}, config_num=100, max_try = 100)"
   ]
  },
  {
   "cell_type": "code",
   "execution_count": 99,
   "metadata": {
    "collapsed": true
   },
   "outputs": [],
   "source": [
    "count_results_no_1NN = count_clusters_multi_configs(str_vecs_no_1NN, structure, str_clusters, counting_types=counting_types)"
   ]
  },
  {
   "cell_type": "code",
   "execution_count": 100,
   "metadata": {
    "collapsed": true
   },
   "outputs": [],
   "source": [
    "count_results_no_rules = count_clusters_multi_configs(str_vecs_no_rules, structure, str_clusters, counting_types=counting_types)"
   ]
  },
  {
   "cell_type": "code",
   "execution_count": 125,
   "metadata": {
    "collapsed": true
   },
   "outputs": [],
   "source": [
    "count_results_no_rules['Al-Al in 6-membered ring'] = []\n",
    "for i in range(100):\n",
    "    total = 0\n",
    "    for t in counting_types:\n",
    "        total += count_results_no_rules[t][i]\n",
    "    count_results_no_rules['Al-Al in 6-membered ring'].append(total)"
   ]
  },
  {
   "cell_type": "code",
   "execution_count": 128,
   "metadata": {
    "collapsed": true
   },
   "outputs": [],
   "source": [
    "count_results_no_1NN['Al-Al in 6-membered ring'] = []\n",
    "for i in range(100):\n",
    "    total = 0\n",
    "    for t in counting_types:\n",
    "        total += count_results_no_1NN[t][i]\n",
    "    count_results_no_1NN['Al-Al in 6-membered ring'].append(total)"
   ]
  },
  {
   "cell_type": "code",
   "execution_count": 129,
   "metadata": {
    "collapsed": true
   },
   "outputs": [],
   "source": [
    "values1 = [np.mean(count_results_no_rules['Al-Al in 6-membered ring'])/115]\n",
    "errors1 = [np.std(count_results_no_rules['Al-Al in 6-membered ring'])/115]\n",
    "values2 = [np.mean(count_results_no_1NN['Al-Al in 6-membered ring'])/115]\n",
    "errors2 = [np.std(count_results_no_1NN['Al-Al in 6-membered ring'])/115]"
   ]
  },
  {
   "cell_type": "code",
   "execution_count": 137,
   "metadata": {},
   "outputs": [
    {
     "data": {
      "image/png": "[encoded data removed]",
      "text/plain": [
       "<matplotlib.figure.Figure at 0x12219f4e0>"
      ]
     },
     "metadata": {},
     "output_type": "display_data"
    }
   ],
   "source": [
    "plot_two_bar_charts(folder_path+'/rules vs no rules.png', ['Al-Al in 6-membered ring'], values1, values2, errors1, errors2, ylabel='Al-Al in 6-membered rings', label1='no 1NN', label2='no rules')"
   ]
  },
  {
   "cell_type": "markdown",
   "metadata": {},
   "source": [
    "#### count vs titrate"
   ]
  },
  {
   "cell_type": "code",
   "execution_count": 104,
   "metadata": {
    "collapsed": true
   },
   "outputs": [],
   "source": [
    "counting_types = ['2-6', '2-7', '2-9', '2-10', '2-20', '2-23']"
   ]
  },
  {
   "cell_type": "code",
   "execution_count": 114,
   "metadata": {},
   "outputs": [
    {
     "data": {
      "text/plain": [
       "100"
      ]
     },
     "execution_count": 114,
     "metadata": {},
     "output_type": "execute_result"
    }
   ],
   "source": [
    "len(str_vecs_no_rules)"
   ]
  },
  {
   "cell_type": "code",
   "execution_count": 106,
   "metadata": {
    "collapsed": true
   },
   "outputs": [],
   "source": [
    "titrate_result = titrate_clusters_multi_configs(str_vecs_no_rules, structure, str_clusters, cluster_type_dict, counting_groups=[['2-6', '2-7', '2-9', '2-10', '2-20', '2-23']], titrate_num=100)"
   ]
  },
  {
   "cell_type": "code",
   "execution_count": 124,
   "metadata": {
    "collapsed": true
   },
   "outputs": [],
   "source": [
    "titrate_result['Al-Al in 6-membered ring'] = []\n",
    "for i in range(100):\n",
    "    total = 0\n",
    "    for t in counting_types:\n",
    "        total += titrate_result[t][i]\n",
    "    titrate_result['Al-Al in 6-membered ring'].append(total)"
   ]
  },
  {
   "cell_type": "code",
   "execution_count": 126,
   "metadata": {
    "collapsed": true
   },
   "outputs": [],
   "source": [
    "values1 = [np.mean(count_results_no_rules['Al-Al in 6-membered ring'])/115]\n",
    "errors1 = [np.std(count_results_no_rules['Al-Al in 6-membered ring'])/115]\n",
    "values2 = [np.mean(titrate_result['Al-Al in 6-membered ring'])/115]\n",
    "errors2 = [np.std(titrate_result['Al-Al in 6-membered ring'])/115]"
   ]
  },
  {
   "cell_type": "code",
   "execution_count": 127,
   "metadata": {},
   "outputs": [
    {
     "data": {
      "image/png": "[encoded data removed]",
      "text/plain": [
       "<matplotlib.figure.Figure at 0x121352320>"
      ]
     },
     "metadata": {},
     "output_type": "display_data"
    }
   ],
   "source": [
    "plot_two_bar_charts(folder_path+'/count vs titrate.png', ['Al-Al in 6-membered ring'], values1, values2, errors1, errors2, ylabel='count', label1='count', label2='titrate')"
   ]
  },
  {
   "cell_type": "markdown",
   "metadata": {},
   "source": [
    "#### composition"
   ]
  },
  {
   "cell_type": "code",
   "execution_count": null,
   "metadata": {
    "collapsed": true
   },
   "outputs": [],
   "source": [
    "Si_Al_ratios = [2.5, 5, 7.5, 10, 15, 20, 25, 30, 35, 40]\n",
    "Al_ratios = [1/(1+x) for x in Si_Al_ratios]\n",
    "Al_nums = [int(Al_ratio*len(structure['str_sites'][structure['str_sites'].multi_atoms == True].index)) for Al_ratio in Al_ratios]"
   ]
  },
  {
   "cell_type": "code",
   "execution_count": null,
   "metadata": {
    "collapsed": true
   },
   "outputs": [],
   "source": [
    "values_fer = []\n",
    "errors_fer = []\n",
    "for i in range(10):\n",
    "    filename = folder_path+'/jobs/titrate_results_{}.p'.format(i+1)\n",
    "    titrate_result = pickle.load(open(filename, 'rb'))\n",
    "    t = [titrate_result['2-6'][i] + titrate_results['2-7'][i] + titrate_result['2-9'][i] + titrate_results['2-10'][i]+ titrate_result['2-20'][i] + titrate_results['2-23'][i] for i in range(len(titrate_result['2-6']))]\n",
    "    values_fer.append(np.mean(t))\n",
    "    errors_fer.append(np.std(t))"
   ]
  },
  {
   "cell_type": "code",
   "execution_count": null,
   "metadata": {
    "collapsed": true
   },
   "outputs": [],
   "source": []
  },
  {
   "cell_type": "code",
   "execution_count": null,
   "metadata": {
    "collapsed": true
   },
   "outputs": [],
   "source": []
  },
  {
   "cell_type": "markdown",
   "metadata": {},
   "source": [
    "#### jobs"
   ]
  },
  {
   "cell_type": "code",
   "execution_count": 77,
   "metadata": {
    "collapsed": true
   },
   "outputs": [],
   "source": [
    "import pickle"
   ]
  },
  {
   "cell_type": "code",
   "execution_count": 79,
   "metadata": {
    "collapsed": true
   },
   "outputs": [],
   "source": [
    "!mkdir FER_36/jobs"
   ]
  },
  {
   "cell_type": "code",
   "execution_count": 80,
   "metadata": {
    "collapsed": true
   },
   "outputs": [],
   "source": [
    "pickle.dump(lattice, open(folder_path+'/jobs/lattice.p','wb'))"
   ]
  },
  {
   "cell_type": "code",
   "execution_count": 81,
   "metadata": {
    "collapsed": true
   },
   "outputs": [],
   "source": [
    "pickle.dump(structure, open(folder_path+'/jobs/structure.p','wb'))"
   ]
  },
  {
   "cell_type": "code",
   "execution_count": 82,
   "metadata": {
    "collapsed": true
   },
   "outputs": [],
   "source": [
    "pickle.dump(lat_clusters, open(folder_path+'/jobs/lat_clusters.p','wb'))\n",
    "pickle.dump(str_clusters, open(folder_path+'/jobs/str_clusters.p','wb'))"
   ]
  },
  {
   "cell_type": "code",
   "execution_count": 89,
   "metadata": {
    "collapsed": true
   },
   "outputs": [],
   "source": [
    "pickle.dump(penalty, open(folder_path+'/jobs/penalty.p', 'wb'))"
   ]
  },
  {
   "cell_type": "code",
   "execution_count": 90,
   "metadata": {
    "collapsed": true
   },
   "outputs": [],
   "source": [
    "py_template = '''import pandas as pd\n",
    "import numpy as np\n",
    "import copy\n",
    "from math import *\n",
    "import os\n",
    "import random\n",
    "from collections import defaultdict\n",
    "import csv\n",
    "from functools import reduce\n",
    "from copy import deepcopy\n",
    "import pickle\n",
    "from timeit import default_timer as timer\n",
    "from matplotlib import pyplot as plt\n",
    "from ase import Atoms\n",
    "from ase.io import read\n",
    "from ase.io import write\n",
    "from ase.visualize import view\n",
    "import itertools\n",
    "\n",
    "from helper_functions import *\n",
    "\n",
    "lattice = pickle.load(open('lattice.p','rb'))\n",
    "structure = pickle.load(open('structure.p','rb'))\n",
    "lat_clusters = pickle.load(open('lat_clusters.p','rb'))\n",
    "str_clusters = pickle.load(open('str_clusters.p','rb'))\n",
    "penalty = pickle.load(open('penalty.p','rb'))\n",
    "Al_num = {0}\n",
    "cluster_type_dict = prepare_cluster_type_dict(str_clusters)\n",
    "\n",
    "str_vecs = random_config_mult(structure, str_clusters, Al_num, penalty, 100, max_try = 1000)\n",
    "titrate_results = titrate_clusters_multi_configs(str_vecs, structure, str_clusters, cluster_type_dict, counting_groups=[['2-6', '2-7', '2-9', '2-10', '2-20', '2-23']], excluding_types=['3-44'], titrate_num=1)\n",
    "pickle.dump(dict(titrate_results), open('titrate_results_{1}.p', 'wb'))\n",
    "'''"
   ]
  },
  {
   "cell_type": "code",
   "execution_count": 91,
   "metadata": {},
   "outputs": [
    {
     "data": {
      "text/plain": [
       "[164, 96, 67, 52, 36, 27, 22, 18, 16, 14]"
      ]
     },
     "execution_count": 91,
     "metadata": {},
     "output_type": "execute_result"
    }
   ],
   "source": [
    "Al_nums"
   ]
  },
  {
   "cell_type": "code",
   "execution_count": 92,
   "metadata": {
    "collapsed": true
   },
   "outputs": [],
   "source": [
    "for i, ratio in enumerate(Si_Al_ratios):\n",
    "    filename = folder_path+'/jobs/J{}.py'.format(i+1)\n",
    "    if os.path.isfile(filename):\n",
    "        os.remove(filename)\n",
    "    with open(filename, 'a') as file:\n",
    "        file.write(py_template.format(Al_nums[i], i+1))"
   ]
  },
  {
   "cell_type": "code",
   "execution_count": 93,
   "metadata": {
    "collapsed": true
   },
   "outputs": [],
   "source": [
    "qscript_template = '''#!/bin/bash\n",
    "#$ -q *@@crc\n",
    "#$ -pe smp 2\n",
    "python J{}.py\n",
    "'''"
   ]
  },
  {
   "cell_type": "code",
   "execution_count": 94,
   "metadata": {
    "collapsed": true
   },
   "outputs": [],
   "source": [
    "for i, ratio in enumerate(Si_Al_ratios):\n",
    "    filename = folder_path+'/jobs/J{}.sh'.format(i+1)\n",
    "    if os.path.isfile(filename):\n",
    "        os.remove(filename)\n",
    "    with open(filename, 'a') as file:\n",
    "        file.write(qscript_template.format(i+1))"
   ]
  },
  {
   "cell_type": "code",
   "execution_count": 95,
   "metadata": {
    "collapsed": true
   },
   "outputs": [],
   "source": [
    "titrate_results = []"
   ]
  },
  {
   "cell_type": "code",
   "execution_count": 96,
   "metadata": {},
   "outputs": [
    {
     "ename": "FileNotFoundError",
     "evalue": "[Errno 2] No such file or directory: 'FER/jobs/titrate_results_1.p'",
     "output_type": "error",
     "traceback": [
      "\u001b[0;31m---------------------------------------------------------------------------\u001b[0m",
      "\u001b[0;31mFileNotFoundError\u001b[0m                         Traceback (most recent call last)",
      "\u001b[0;32m<ipython-input-96-a6b86ae57ecc>\u001b[0m in \u001b[0;36m<module>\u001b[0;34m()\u001b[0m\n\u001b[1;32m      1\u001b[0m \u001b[0;32mfor\u001b[0m \u001b[0mi\u001b[0m \u001b[0;32min\u001b[0m \u001b[0mrange\u001b[0m\u001b[0;34m(\u001b[0m\u001b[0;36m1\u001b[0m\u001b[0;34m)\u001b[0m\u001b[0;34m:\u001b[0m\u001b[0;34m\u001b[0m\u001b[0m\n\u001b[1;32m      2\u001b[0m     \u001b[0mfilename\u001b[0m \u001b[0;34m=\u001b[0m \u001b[0mfolder_path\u001b[0m\u001b[0;34m+\u001b[0m\u001b[0;34m'/jobs/titrate_results_{}.p'\u001b[0m\u001b[0;34m.\u001b[0m\u001b[0mformat\u001b[0m\u001b[0;34m(\u001b[0m\u001b[0mi\u001b[0m\u001b[0;34m+\u001b[0m\u001b[0;36m1\u001b[0m\u001b[0;34m)\u001b[0m\u001b[0;34m\u001b[0m\u001b[0m\n\u001b[0;32m----> 3\u001b[0;31m     \u001b[0mtitrate_result\u001b[0m \u001b[0;34m=\u001b[0m \u001b[0mpickle\u001b[0m\u001b[0;34m.\u001b[0m\u001b[0mload\u001b[0m\u001b[0;34m(\u001b[0m\u001b[0mopen\u001b[0m\u001b[0;34m(\u001b[0m\u001b[0mfilename\u001b[0m\u001b[0;34m,\u001b[0m \u001b[0;34m'rb'\u001b[0m\u001b[0;34m)\u001b[0m\u001b[0;34m)\u001b[0m\u001b[0;34m\u001b[0m\u001b[0m\n\u001b[0m\u001b[1;32m      4\u001b[0m     \u001b[0mtirate_results\u001b[0m\u001b[0;34m.\u001b[0m\u001b[0mappend\u001b[0m\u001b[0;34m(\u001b[0m\u001b[0mtitrate_result\u001b[0m\u001b[0;34m)\u001b[0m\u001b[0;34m\u001b[0m\u001b[0m\n",
      "\u001b[0;31mFileNotFoundError\u001b[0m: [Errno 2] No such file or directory: 'FER/jobs/titrate_results_1.p'"
     ]
    }
   ],
   "source": [
    "for i in range(1):\n",
    "    filename = folder_path+'/jobs/titrate_results_{}.p'.format(i+1)\n",
    "    titrate_result = pickle.load(open(filename, 'rb'))\n",
    "    tirate_results.append(titrate_result)"
   ]
  },
  {
   "cell_type": "code",
   "execution_count": 232,
   "metadata": {},
   "outputs": [
    {
     "data": {
      "text/plain": [
       "[]"
      ]
     },
     "execution_count": 232,
     "metadata": {},
     "output_type": "execute_result"
    }
   ],
   "source": [
    "titrate_results"
   ]
  },
  {
   "cell_type": "code",
   "execution_count": null,
   "metadata": {
    "collapsed": true
   },
   "outputs": [],
   "source": [
    "titrate_results_1 = pickle"
   ]
  }
 ],
 "metadata": {
  "kernelspec": {
   "display_name": "Python 3",
   "language": "python",
   "name": "python3"
  },
  "language_info": {
   "codemirror_mode": {
    "name": "ipython",
    "version": 3
   },
   "file_extension": ".py",
   "mimetype": "text/x-python",
   "name": "python",
   "nbconvert_exporter": "python",
   "pygments_lexer": "ipython3",
   "version": "3.6.1"
  }
 },
 "nbformat": 4,
 "nbformat_minor": 2
}
