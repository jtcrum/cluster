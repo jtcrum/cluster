{
 "cells": [
  {
   "cell_type": "code",
   "execution_count": 1,
   "metadata": {
    "collapsed": true
   },
   "outputs": [],
   "source": [
    "from scipy.spatial import distance\n",
    "import numpy as np"
   ]
  },
  {
   "cell_type": "code",
   "execution_count": 2,
   "metadata": {
    "collapsed": true
   },
   "outputs": [],
   "source": [
    "def dist(coords):\n",
    "    dismat = distance.cdist(coords, coords, 'euclidean')\n",
    "    print (dismat)\n",
    "    upperdist = np.concatenate(np.triu(dismat))\n",
    "    upperdist = upperdist[upperdist != 0.]\n",
    "    return upperdist"
   ]
  },
  {
   "cell_type": "code",
   "execution_count": 3,
   "metadata": {},
   "outputs": [
    {
     "ename": "SyntaxError",
     "evalue": "unexpected EOF while parsing (<ipython-input-3-ac7c2152fe94>, line 4)",
     "output_type": "error",
     "traceback": [
      "\u001b[0;36m  File \u001b[0;32m\"<ipython-input-3-ac7c2152fe94>\"\u001b[0;36m, line \u001b[0;32m4\u001b[0m\n\u001b[0;31m    \u001b[0m\n\u001b[0m    ^\u001b[0m\n\u001b[0;31mSyntaxError\u001b[0m\u001b[0;31m:\u001b[0m unexpected EOF while parsing\n"
     ]
    }
   ],
   "source": [
    "def gencoords(coords, unitcell, number):\n",
    "    for i in range(numbers):\n",
    "        for j in range(numbers):\n",
    "            "
   ]
  },
  {
   "cell_type": "code",
   "execution_count": null,
   "metadata": {},
   "outputs": [],
   "source": [
    "coords = [(35.0456, -85.2672, 1),\n",
    "          (35.1174, -89.9711, 2),\n",
    "          (35.9728, -83.9422, 3),\n",
    "          (36.1667, -86.7833, 4)]\n",
    "# coords = [(0.3288752015462992,  0.8647231393918825,  0.0949091900875688),\n",
    "#           (0.8785270770429954,  0.3365867752054166,  0.1187585027536935)]\n",
    "# unitcell =[(9.4090589999999992,   -0.0045260000000000,    0.0083790000000000),\n",
    "#            (-0.6936810000000000,    9.4184269999999994,   -0.0247040000000000),\n",
    "#            (-0.6803870000000000,   -0.7682110000000000,    9.3245299999999993)]\n",
    "\n",
    "dist(coords)\n"
   ]
  },
  {
   "cell_type": "code",
   "execution_count": null,
   "metadata": {},
   "outputs": [],
   "source": [
    "import matplotlib.pyplot as plt\n",
    "%matplotlib inline\n",
    "x = dist(coords)\n",
    "plt.hist(x, normed=True, bins=30)\n",
    "plt.ylabel('Probability')"
   ]
  },
  {
   "cell_type": "code",
   "execution_count": null,
   "metadata": {
    "collapsed": true
   },
   "outputs": [],
   "source": []
  }
 ],
 "metadata": {
  "kernelspec": {
   "display_name": "Python 3",
   "language": "python",
   "name": "python3"
  },
  "language_info": {
   "codemirror_mode": {
    "name": "ipython",
    "version": 3
   },
   "file_extension": ".py",
   "mimetype": "text/x-python",
   "name": "python",
   "nbconvert_exporter": "python",
   "pygments_lexer": "ipython3",
   "version": "3.6.1"
  }
 },
 "nbformat": 4,
 "nbformat_minor": 2
}
